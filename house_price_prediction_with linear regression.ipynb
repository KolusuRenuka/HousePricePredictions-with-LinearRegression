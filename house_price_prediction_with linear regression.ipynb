{
 "cells": [
  {
   "cell_type": "markdown",
   "metadata": {},
   "source": [
    "# House Price Prediction with Linear Regression\r\n",
    "\r\n",
    "![](https://i.imgur.com/3sw1fY9.jpg)\r\n",
    "\r\n",
    " going to predict the price of a house using information like its location, area, no. of rooms etc. You'll use the dataset from the [House Prices - Advanced Regression Techniques](https://www.kaggle.com/c/house-prices-advanced-regression-techniques) competition on [Kaggle](https://kaggle.com). We'll follow a step-by-step process to train our model:\r\n",
    "\r\n",
    "1. Download and explore the data\r\n",
    "2. Prepare the dataset for training\r\n",
    "3. Train a linear regression model\r\n",
    "4. Make predictions and evaluate the model\r\n",
    "\r\n",
    "\r\n",
    "\r\n",
    "\r\n",
    "\r\n",
    "\r\n"
   ]
  },
  {
   "cell_type": "markdown",
   "metadata": {},
   "source": [
    "Let's begin by installing the required libraries:"
   ]
  },
  {
   "cell_type": "markdown",
   "metadata": {},
   "source": [
    "## Step 1 - Download and Explore the Data\n",
    "\n",
    "The dataset is available as a ZIP file at the following url:"
   ]
  },
  {
   "cell_type": "code",
   "execution_count": 37,
   "metadata": {},
   "outputs": [],
   "source": [
    "dataset_url = 'https://github.com/JovianML/opendatasets/raw/master/data/house-prices-advanced-regression-techniques.zip'"
   ]
  },
  {
   "cell_type": "markdown",
   "metadata": {},
   "source": [
    "We'll use the `urlretrieve` function from the module [`urllib.request`](https://docs.python.org/3/library/urllib.request.html) to dowload the dataset."
   ]
  },
  {
   "cell_type": "code",
   "execution_count": 38,
   "metadata": {},
   "outputs": [],
   "source": [
    "from urllib.request import urlretrieve"
   ]
  },
  {
   "cell_type": "code",
   "execution_count": 39,
   "metadata": {},
   "outputs": [
    {
     "data": {
      "text/plain": [
       "('house-prices.zip', <http.client.HTTPMessage at 0x1c5f841a640>)"
      ]
     },
     "execution_count": 39,
     "metadata": {},
     "output_type": "execute_result"
    }
   ],
   "source": [
    "urlretrieve(dataset_url, 'house-prices.zip')"
   ]
  },
  {
   "cell_type": "markdown",
   "metadata": {},
   "source": [
    "The file `housing-prices.zip` has been downloaded. Let's unzip it using the [`zipfile`](https://docs.python.org/3/library/zipfile.html) module."
   ]
  },
  {
   "cell_type": "code",
   "execution_count": 40,
   "metadata": {},
   "outputs": [],
   "source": [
    "from zipfile import ZipFile"
   ]
  },
  {
   "cell_type": "code",
   "execution_count": 41,
   "metadata": {},
   "outputs": [],
   "source": [
    "with ZipFile('house-prices.zip') as f:\n",
    "    f.extractall(path='house-prices')"
   ]
  },
  {
   "cell_type": "markdown",
   "metadata": {},
   "source": [
    "The dataset is extracted to the folder `house-prices`. Let's view the contents of the folder using the [`os`](https://docs.python.org/3/library/os.html) module."
   ]
  },
  {
   "cell_type": "code",
   "execution_count": 42,
   "metadata": {},
   "outputs": [],
   "source": [
    "import os"
   ]
  },
  {
   "cell_type": "code",
   "execution_count": 43,
   "metadata": {},
   "outputs": [],
   "source": [
    "data_dir = 'house-prices'"
   ]
  },
  {
   "cell_type": "code",
   "execution_count": 44,
   "metadata": {},
   "outputs": [
    {
     "data": {
      "text/plain": [
       "['data_description.txt', 'sample_submission.csv', 'test.csv', 'train.csv']"
      ]
     },
     "execution_count": 44,
     "metadata": {},
     "output_type": "execute_result"
    }
   ],
   "source": [
    "os.listdir(data_dir)"
   ]
  },
  {
   "cell_type": "markdown",
   "metadata": {},
   "source": [
    "Use the \"File\" > \"Open\" menu option to browse the contents of each file. You can also check out the [dataset description](https://www.kaggle.com/c/house-prices-advanced-regression-techniques/data) on Kaggle to learn more.\n",
    "\n",
    "We'll use the data in the file `train.csv` for training our model. We can load the for processing using the [Pandas](https://pandas.pydata.org/pandas-docs/stable/user_guide/index.html) library."
   ]
  },
  {
   "cell_type": "code",
   "execution_count": 45,
   "metadata": {},
   "outputs": [],
   "source": [
    "import pandas as pd\n",
    "pd.options.display.max_columns = 200\n",
    "pd.options.display.max_rows = 200"
   ]
  },
  {
   "cell_type": "code",
   "execution_count": 46,
   "metadata": {},
   "outputs": [
    {
     "data": {
      "text/plain": [
       "'house-prices/train.csv'"
      ]
     },
     "execution_count": 46,
     "metadata": {},
     "output_type": "execute_result"
    }
   ],
   "source": [
    "train_csv_path = data_dir + '/train.csv'\n",
    "train_csv_path"
   ]
  },
  {
   "cell_type": "markdown",
   "metadata": {},
   "source": [
    "> **QUESTION 1**: Load the data from the file `train.csv` into a Pandas data frame."
   ]
  },
  {
   "cell_type": "code",
   "execution_count": 47,
   "metadata": {},
   "outputs": [],
   "source": [
    "prices_df = pd.read_csv(train_csv_path)"
   ]
  },
  {
   "cell_type": "code",
   "execution_count": 48,
   "metadata": {},
   "outputs": [
    {
     "data": {
      "text/html": [
       "<div>\n",
       "<style scoped>\n",
       "    .dataframe tbody tr th:only-of-type {\n",
       "        vertical-align: middle;\n",
       "    }\n",
       "\n",
       "    .dataframe tbody tr th {\n",
       "        vertical-align: top;\n",
       "    }\n",
       "\n",
       "    .dataframe thead th {\n",
       "        text-align: right;\n",
       "    }\n",
       "</style>\n",
       "<table border=\"1\" class=\"dataframe\">\n",
       "  <thead>\n",
       "    <tr style=\"text-align: right;\">\n",
       "      <th></th>\n",
       "      <th>Id</th>\n",
       "      <th>MSSubClass</th>\n",
       "      <th>MSZoning</th>\n",
       "      <th>LotFrontage</th>\n",
       "      <th>LotArea</th>\n",
       "      <th>Street</th>\n",
       "      <th>Alley</th>\n",
       "      <th>LotShape</th>\n",
       "      <th>LandContour</th>\n",
       "      <th>Utilities</th>\n",
       "      <th>LotConfig</th>\n",
       "      <th>LandSlope</th>\n",
       "      <th>Neighborhood</th>\n",
       "      <th>Condition1</th>\n",
       "      <th>Condition2</th>\n",
       "      <th>BldgType</th>\n",
       "      <th>HouseStyle</th>\n",
       "      <th>OverallQual</th>\n",
       "      <th>OverallCond</th>\n",
       "      <th>YearBuilt</th>\n",
       "      <th>YearRemodAdd</th>\n",
       "      <th>RoofStyle</th>\n",
       "      <th>RoofMatl</th>\n",
       "      <th>Exterior1st</th>\n",
       "      <th>Exterior2nd</th>\n",
       "      <th>MasVnrType</th>\n",
       "      <th>MasVnrArea</th>\n",
       "      <th>ExterQual</th>\n",
       "      <th>ExterCond</th>\n",
       "      <th>Foundation</th>\n",
       "      <th>BsmtQual</th>\n",
       "      <th>BsmtCond</th>\n",
       "      <th>BsmtExposure</th>\n",
       "      <th>BsmtFinType1</th>\n",
       "      <th>BsmtFinSF1</th>\n",
       "      <th>BsmtFinType2</th>\n",
       "      <th>BsmtFinSF2</th>\n",
       "      <th>BsmtUnfSF</th>\n",
       "      <th>TotalBsmtSF</th>\n",
       "      <th>Heating</th>\n",
       "      <th>HeatingQC</th>\n",
       "      <th>CentralAir</th>\n",
       "      <th>Electrical</th>\n",
       "      <th>1stFlrSF</th>\n",
       "      <th>2ndFlrSF</th>\n",
       "      <th>LowQualFinSF</th>\n",
       "      <th>GrLivArea</th>\n",
       "      <th>BsmtFullBath</th>\n",
       "      <th>BsmtHalfBath</th>\n",
       "      <th>FullBath</th>\n",
       "      <th>HalfBath</th>\n",
       "      <th>BedroomAbvGr</th>\n",
       "      <th>KitchenAbvGr</th>\n",
       "      <th>KitchenQual</th>\n",
       "      <th>TotRmsAbvGrd</th>\n",
       "      <th>Functional</th>\n",
       "      <th>Fireplaces</th>\n",
       "      <th>FireplaceQu</th>\n",
       "      <th>GarageType</th>\n",
       "      <th>GarageYrBlt</th>\n",
       "      <th>GarageFinish</th>\n",
       "      <th>GarageCars</th>\n",
       "      <th>GarageArea</th>\n",
       "      <th>GarageQual</th>\n",
       "      <th>GarageCond</th>\n",
       "      <th>PavedDrive</th>\n",
       "      <th>WoodDeckSF</th>\n",
       "      <th>OpenPorchSF</th>\n",
       "      <th>EnclosedPorch</th>\n",
       "      <th>3SsnPorch</th>\n",
       "      <th>ScreenPorch</th>\n",
       "      <th>PoolArea</th>\n",
       "      <th>PoolQC</th>\n",
       "      <th>Fence</th>\n",
       "      <th>MiscFeature</th>\n",
       "      <th>MiscVal</th>\n",
       "      <th>MoSold</th>\n",
       "      <th>YrSold</th>\n",
       "      <th>SaleType</th>\n",
       "      <th>SaleCondition</th>\n",
       "      <th>SalePrice</th>\n",
       "    </tr>\n",
       "  </thead>\n",
       "  <tbody>\n",
       "    <tr>\n",
       "      <th>0</th>\n",
       "      <td>1</td>\n",
       "      <td>60</td>\n",
       "      <td>RL</td>\n",
       "      <td>65.0</td>\n",
       "      <td>8450</td>\n",
       "      <td>Pave</td>\n",
       "      <td>NaN</td>\n",
       "      <td>Reg</td>\n",
       "      <td>Lvl</td>\n",
       "      <td>AllPub</td>\n",
       "      <td>Inside</td>\n",
       "      <td>Gtl</td>\n",
       "      <td>CollgCr</td>\n",
       "      <td>Norm</td>\n",
       "      <td>Norm</td>\n",
       "      <td>1Fam</td>\n",
       "      <td>2Story</td>\n",
       "      <td>7</td>\n",
       "      <td>5</td>\n",
       "      <td>2003</td>\n",
       "      <td>2003</td>\n",
       "      <td>Gable</td>\n",
       "      <td>CompShg</td>\n",
       "      <td>VinylSd</td>\n",
       "      <td>VinylSd</td>\n",
       "      <td>BrkFace</td>\n",
       "      <td>196.0</td>\n",
       "      <td>Gd</td>\n",
       "      <td>TA</td>\n",
       "      <td>PConc</td>\n",
       "      <td>Gd</td>\n",
       "      <td>TA</td>\n",
       "      <td>No</td>\n",
       "      <td>GLQ</td>\n",
       "      <td>706</td>\n",
       "      <td>Unf</td>\n",
       "      <td>0</td>\n",
       "      <td>150</td>\n",
       "      <td>856</td>\n",
       "      <td>GasA</td>\n",
       "      <td>Ex</td>\n",
       "      <td>Y</td>\n",
       "      <td>SBrkr</td>\n",
       "      <td>856</td>\n",
       "      <td>854</td>\n",
       "      <td>0</td>\n",
       "      <td>1710</td>\n",
       "      <td>1</td>\n",
       "      <td>0</td>\n",
       "      <td>2</td>\n",
       "      <td>1</td>\n",
       "      <td>3</td>\n",
       "      <td>1</td>\n",
       "      <td>Gd</td>\n",
       "      <td>8</td>\n",
       "      <td>Typ</td>\n",
       "      <td>0</td>\n",
       "      <td>NaN</td>\n",
       "      <td>Attchd</td>\n",
       "      <td>2003.0</td>\n",
       "      <td>RFn</td>\n",
       "      <td>2</td>\n",
       "      <td>548</td>\n",
       "      <td>TA</td>\n",
       "      <td>TA</td>\n",
       "      <td>Y</td>\n",
       "      <td>0</td>\n",
       "      <td>61</td>\n",
       "      <td>0</td>\n",
       "      <td>0</td>\n",
       "      <td>0</td>\n",
       "      <td>0</td>\n",
       "      <td>NaN</td>\n",
       "      <td>NaN</td>\n",
       "      <td>NaN</td>\n",
       "      <td>0</td>\n",
       "      <td>2</td>\n",
       "      <td>2008</td>\n",
       "      <td>WD</td>\n",
       "      <td>Normal</td>\n",
       "      <td>208500</td>\n",
       "    </tr>\n",
       "    <tr>\n",
       "      <th>1</th>\n",
       "      <td>2</td>\n",
       "      <td>20</td>\n",
       "      <td>RL</td>\n",
       "      <td>80.0</td>\n",
       "      <td>9600</td>\n",
       "      <td>Pave</td>\n",
       "      <td>NaN</td>\n",
       "      <td>Reg</td>\n",
       "      <td>Lvl</td>\n",
       "      <td>AllPub</td>\n",
       "      <td>FR2</td>\n",
       "      <td>Gtl</td>\n",
       "      <td>Veenker</td>\n",
       "      <td>Feedr</td>\n",
       "      <td>Norm</td>\n",
       "      <td>1Fam</td>\n",
       "      <td>1Story</td>\n",
       "      <td>6</td>\n",
       "      <td>8</td>\n",
       "      <td>1976</td>\n",
       "      <td>1976</td>\n",
       "      <td>Gable</td>\n",
       "      <td>CompShg</td>\n",
       "      <td>MetalSd</td>\n",
       "      <td>MetalSd</td>\n",
       "      <td>None</td>\n",
       "      <td>0.0</td>\n",
       "      <td>TA</td>\n",
       "      <td>TA</td>\n",
       "      <td>CBlock</td>\n",
       "      <td>Gd</td>\n",
       "      <td>TA</td>\n",
       "      <td>Gd</td>\n",
       "      <td>ALQ</td>\n",
       "      <td>978</td>\n",
       "      <td>Unf</td>\n",
       "      <td>0</td>\n",
       "      <td>284</td>\n",
       "      <td>1262</td>\n",
       "      <td>GasA</td>\n",
       "      <td>Ex</td>\n",
       "      <td>Y</td>\n",
       "      <td>SBrkr</td>\n",
       "      <td>1262</td>\n",
       "      <td>0</td>\n",
       "      <td>0</td>\n",
       "      <td>1262</td>\n",
       "      <td>0</td>\n",
       "      <td>1</td>\n",
       "      <td>2</td>\n",
       "      <td>0</td>\n",
       "      <td>3</td>\n",
       "      <td>1</td>\n",
       "      <td>TA</td>\n",
       "      <td>6</td>\n",
       "      <td>Typ</td>\n",
       "      <td>1</td>\n",
       "      <td>TA</td>\n",
       "      <td>Attchd</td>\n",
       "      <td>1976.0</td>\n",
       "      <td>RFn</td>\n",
       "      <td>2</td>\n",
       "      <td>460</td>\n",
       "      <td>TA</td>\n",
       "      <td>TA</td>\n",
       "      <td>Y</td>\n",
       "      <td>298</td>\n",
       "      <td>0</td>\n",
       "      <td>0</td>\n",
       "      <td>0</td>\n",
       "      <td>0</td>\n",
       "      <td>0</td>\n",
       "      <td>NaN</td>\n",
       "      <td>NaN</td>\n",
       "      <td>NaN</td>\n",
       "      <td>0</td>\n",
       "      <td>5</td>\n",
       "      <td>2007</td>\n",
       "      <td>WD</td>\n",
       "      <td>Normal</td>\n",
       "      <td>181500</td>\n",
       "    </tr>\n",
       "    <tr>\n",
       "      <th>2</th>\n",
       "      <td>3</td>\n",
       "      <td>60</td>\n",
       "      <td>RL</td>\n",
       "      <td>68.0</td>\n",
       "      <td>11250</td>\n",
       "      <td>Pave</td>\n",
       "      <td>NaN</td>\n",
       "      <td>IR1</td>\n",
       "      <td>Lvl</td>\n",
       "      <td>AllPub</td>\n",
       "      <td>Inside</td>\n",
       "      <td>Gtl</td>\n",
       "      <td>CollgCr</td>\n",
       "      <td>Norm</td>\n",
       "      <td>Norm</td>\n",
       "      <td>1Fam</td>\n",
       "      <td>2Story</td>\n",
       "      <td>7</td>\n",
       "      <td>5</td>\n",
       "      <td>2001</td>\n",
       "      <td>2002</td>\n",
       "      <td>Gable</td>\n",
       "      <td>CompShg</td>\n",
       "      <td>VinylSd</td>\n",
       "      <td>VinylSd</td>\n",
       "      <td>BrkFace</td>\n",
       "      <td>162.0</td>\n",
       "      <td>Gd</td>\n",
       "      <td>TA</td>\n",
       "      <td>PConc</td>\n",
       "      <td>Gd</td>\n",
       "      <td>TA</td>\n",
       "      <td>Mn</td>\n",
       "      <td>GLQ</td>\n",
       "      <td>486</td>\n",
       "      <td>Unf</td>\n",
       "      <td>0</td>\n",
       "      <td>434</td>\n",
       "      <td>920</td>\n",
       "      <td>GasA</td>\n",
       "      <td>Ex</td>\n",
       "      <td>Y</td>\n",
       "      <td>SBrkr</td>\n",
       "      <td>920</td>\n",
       "      <td>866</td>\n",
       "      <td>0</td>\n",
       "      <td>1786</td>\n",
       "      <td>1</td>\n",
       "      <td>0</td>\n",
       "      <td>2</td>\n",
       "      <td>1</td>\n",
       "      <td>3</td>\n",
       "      <td>1</td>\n",
       "      <td>Gd</td>\n",
       "      <td>6</td>\n",
       "      <td>Typ</td>\n",
       "      <td>1</td>\n",
       "      <td>TA</td>\n",
       "      <td>Attchd</td>\n",
       "      <td>2001.0</td>\n",
       "      <td>RFn</td>\n",
       "      <td>2</td>\n",
       "      <td>608</td>\n",
       "      <td>TA</td>\n",
       "      <td>TA</td>\n",
       "      <td>Y</td>\n",
       "      <td>0</td>\n",
       "      <td>42</td>\n",
       "      <td>0</td>\n",
       "      <td>0</td>\n",
       "      <td>0</td>\n",
       "      <td>0</td>\n",
       "      <td>NaN</td>\n",
       "      <td>NaN</td>\n",
       "      <td>NaN</td>\n",
       "      <td>0</td>\n",
       "      <td>9</td>\n",
       "      <td>2008</td>\n",
       "      <td>WD</td>\n",
       "      <td>Normal</td>\n",
       "      <td>223500</td>\n",
       "    </tr>\n",
       "    <tr>\n",
       "      <th>3</th>\n",
       "      <td>4</td>\n",
       "      <td>70</td>\n",
       "      <td>RL</td>\n",
       "      <td>60.0</td>\n",
       "      <td>9550</td>\n",
       "      <td>Pave</td>\n",
       "      <td>NaN</td>\n",
       "      <td>IR1</td>\n",
       "      <td>Lvl</td>\n",
       "      <td>AllPub</td>\n",
       "      <td>Corner</td>\n",
       "      <td>Gtl</td>\n",
       "      <td>Crawfor</td>\n",
       "      <td>Norm</td>\n",
       "      <td>Norm</td>\n",
       "      <td>1Fam</td>\n",
       "      <td>2Story</td>\n",
       "      <td>7</td>\n",
       "      <td>5</td>\n",
       "      <td>1915</td>\n",
       "      <td>1970</td>\n",
       "      <td>Gable</td>\n",
       "      <td>CompShg</td>\n",
       "      <td>Wd Sdng</td>\n",
       "      <td>Wd Shng</td>\n",
       "      <td>None</td>\n",
       "      <td>0.0</td>\n",
       "      <td>TA</td>\n",
       "      <td>TA</td>\n",
       "      <td>BrkTil</td>\n",
       "      <td>TA</td>\n",
       "      <td>Gd</td>\n",
       "      <td>No</td>\n",
       "      <td>ALQ</td>\n",
       "      <td>216</td>\n",
       "      <td>Unf</td>\n",
       "      <td>0</td>\n",
       "      <td>540</td>\n",
       "      <td>756</td>\n",
       "      <td>GasA</td>\n",
       "      <td>Gd</td>\n",
       "      <td>Y</td>\n",
       "      <td>SBrkr</td>\n",
       "      <td>961</td>\n",
       "      <td>756</td>\n",
       "      <td>0</td>\n",
       "      <td>1717</td>\n",
       "      <td>1</td>\n",
       "      <td>0</td>\n",
       "      <td>1</td>\n",
       "      <td>0</td>\n",
       "      <td>3</td>\n",
       "      <td>1</td>\n",
       "      <td>Gd</td>\n",
       "      <td>7</td>\n",
       "      <td>Typ</td>\n",
       "      <td>1</td>\n",
       "      <td>Gd</td>\n",
       "      <td>Detchd</td>\n",
       "      <td>1998.0</td>\n",
       "      <td>Unf</td>\n",
       "      <td>3</td>\n",
       "      <td>642</td>\n",
       "      <td>TA</td>\n",
       "      <td>TA</td>\n",
       "      <td>Y</td>\n",
       "      <td>0</td>\n",
       "      <td>35</td>\n",
       "      <td>272</td>\n",
       "      <td>0</td>\n",
       "      <td>0</td>\n",
       "      <td>0</td>\n",
       "      <td>NaN</td>\n",
       "      <td>NaN</td>\n",
       "      <td>NaN</td>\n",
       "      <td>0</td>\n",
       "      <td>2</td>\n",
       "      <td>2006</td>\n",
       "      <td>WD</td>\n",
       "      <td>Abnorml</td>\n",
       "      <td>140000</td>\n",
       "    </tr>\n",
       "    <tr>\n",
       "      <th>4</th>\n",
       "      <td>5</td>\n",
       "      <td>60</td>\n",
       "      <td>RL</td>\n",
       "      <td>84.0</td>\n",
       "      <td>14260</td>\n",
       "      <td>Pave</td>\n",
       "      <td>NaN</td>\n",
       "      <td>IR1</td>\n",
       "      <td>Lvl</td>\n",
       "      <td>AllPub</td>\n",
       "      <td>FR2</td>\n",
       "      <td>Gtl</td>\n",
       "      <td>NoRidge</td>\n",
       "      <td>Norm</td>\n",
       "      <td>Norm</td>\n",
       "      <td>1Fam</td>\n",
       "      <td>2Story</td>\n",
       "      <td>8</td>\n",
       "      <td>5</td>\n",
       "      <td>2000</td>\n",
       "      <td>2000</td>\n",
       "      <td>Gable</td>\n",
       "      <td>CompShg</td>\n",
       "      <td>VinylSd</td>\n",
       "      <td>VinylSd</td>\n",
       "      <td>BrkFace</td>\n",
       "      <td>350.0</td>\n",
       "      <td>Gd</td>\n",
       "      <td>TA</td>\n",
       "      <td>PConc</td>\n",
       "      <td>Gd</td>\n",
       "      <td>TA</td>\n",
       "      <td>Av</td>\n",
       "      <td>GLQ</td>\n",
       "      <td>655</td>\n",
       "      <td>Unf</td>\n",
       "      <td>0</td>\n",
       "      <td>490</td>\n",
       "      <td>1145</td>\n",
       "      <td>GasA</td>\n",
       "      <td>Ex</td>\n",
       "      <td>Y</td>\n",
       "      <td>SBrkr</td>\n",
       "      <td>1145</td>\n",
       "      <td>1053</td>\n",
       "      <td>0</td>\n",
       "      <td>2198</td>\n",
       "      <td>1</td>\n",
       "      <td>0</td>\n",
       "      <td>2</td>\n",
       "      <td>1</td>\n",
       "      <td>4</td>\n",
       "      <td>1</td>\n",
       "      <td>Gd</td>\n",
       "      <td>9</td>\n",
       "      <td>Typ</td>\n",
       "      <td>1</td>\n",
       "      <td>TA</td>\n",
       "      <td>Attchd</td>\n",
       "      <td>2000.0</td>\n",
       "      <td>RFn</td>\n",
       "      <td>3</td>\n",
       "      <td>836</td>\n",
       "      <td>TA</td>\n",
       "      <td>TA</td>\n",
       "      <td>Y</td>\n",
       "      <td>192</td>\n",
       "      <td>84</td>\n",
       "      <td>0</td>\n",
       "      <td>0</td>\n",
       "      <td>0</td>\n",
       "      <td>0</td>\n",
       "      <td>NaN</td>\n",
       "      <td>NaN</td>\n",
       "      <td>NaN</td>\n",
       "      <td>0</td>\n",
       "      <td>12</td>\n",
       "      <td>2008</td>\n",
       "      <td>WD</td>\n",
       "      <td>Normal</td>\n",
       "      <td>250000</td>\n",
       "    </tr>\n",
       "    <tr>\n",
       "      <th>...</th>\n",
       "      <td>...</td>\n",
       "      <td>...</td>\n",
       "      <td>...</td>\n",
       "      <td>...</td>\n",
       "      <td>...</td>\n",
       "      <td>...</td>\n",
       "      <td>...</td>\n",
       "      <td>...</td>\n",
       "      <td>...</td>\n",
       "      <td>...</td>\n",
       "      <td>...</td>\n",
       "      <td>...</td>\n",
       "      <td>...</td>\n",
       "      <td>...</td>\n",
       "      <td>...</td>\n",
       "      <td>...</td>\n",
       "      <td>...</td>\n",
       "      <td>...</td>\n",
       "      <td>...</td>\n",
       "      <td>...</td>\n",
       "      <td>...</td>\n",
       "      <td>...</td>\n",
       "      <td>...</td>\n",
       "      <td>...</td>\n",
       "      <td>...</td>\n",
       "      <td>...</td>\n",
       "      <td>...</td>\n",
       "      <td>...</td>\n",
       "      <td>...</td>\n",
       "      <td>...</td>\n",
       "      <td>...</td>\n",
       "      <td>...</td>\n",
       "      <td>...</td>\n",
       "      <td>...</td>\n",
       "      <td>...</td>\n",
       "      <td>...</td>\n",
       "      <td>...</td>\n",
       "      <td>...</td>\n",
       "      <td>...</td>\n",
       "      <td>...</td>\n",
       "      <td>...</td>\n",
       "      <td>...</td>\n",
       "      <td>...</td>\n",
       "      <td>...</td>\n",
       "      <td>...</td>\n",
       "      <td>...</td>\n",
       "      <td>...</td>\n",
       "      <td>...</td>\n",
       "      <td>...</td>\n",
       "      <td>...</td>\n",
       "      <td>...</td>\n",
       "      <td>...</td>\n",
       "      <td>...</td>\n",
       "      <td>...</td>\n",
       "      <td>...</td>\n",
       "      <td>...</td>\n",
       "      <td>...</td>\n",
       "      <td>...</td>\n",
       "      <td>...</td>\n",
       "      <td>...</td>\n",
       "      <td>...</td>\n",
       "      <td>...</td>\n",
       "      <td>...</td>\n",
       "      <td>...</td>\n",
       "      <td>...</td>\n",
       "      <td>...</td>\n",
       "      <td>...</td>\n",
       "      <td>...</td>\n",
       "      <td>...</td>\n",
       "      <td>...</td>\n",
       "      <td>...</td>\n",
       "      <td>...</td>\n",
       "      <td>...</td>\n",
       "      <td>...</td>\n",
       "      <td>...</td>\n",
       "      <td>...</td>\n",
       "      <td>...</td>\n",
       "      <td>...</td>\n",
       "      <td>...</td>\n",
       "      <td>...</td>\n",
       "      <td>...</td>\n",
       "    </tr>\n",
       "    <tr>\n",
       "      <th>1455</th>\n",
       "      <td>1456</td>\n",
       "      <td>60</td>\n",
       "      <td>RL</td>\n",
       "      <td>62.0</td>\n",
       "      <td>7917</td>\n",
       "      <td>Pave</td>\n",
       "      <td>NaN</td>\n",
       "      <td>Reg</td>\n",
       "      <td>Lvl</td>\n",
       "      <td>AllPub</td>\n",
       "      <td>Inside</td>\n",
       "      <td>Gtl</td>\n",
       "      <td>Gilbert</td>\n",
       "      <td>Norm</td>\n",
       "      <td>Norm</td>\n",
       "      <td>1Fam</td>\n",
       "      <td>2Story</td>\n",
       "      <td>6</td>\n",
       "      <td>5</td>\n",
       "      <td>1999</td>\n",
       "      <td>2000</td>\n",
       "      <td>Gable</td>\n",
       "      <td>CompShg</td>\n",
       "      <td>VinylSd</td>\n",
       "      <td>VinylSd</td>\n",
       "      <td>None</td>\n",
       "      <td>0.0</td>\n",
       "      <td>TA</td>\n",
       "      <td>TA</td>\n",
       "      <td>PConc</td>\n",
       "      <td>Gd</td>\n",
       "      <td>TA</td>\n",
       "      <td>No</td>\n",
       "      <td>Unf</td>\n",
       "      <td>0</td>\n",
       "      <td>Unf</td>\n",
       "      <td>0</td>\n",
       "      <td>953</td>\n",
       "      <td>953</td>\n",
       "      <td>GasA</td>\n",
       "      <td>Ex</td>\n",
       "      <td>Y</td>\n",
       "      <td>SBrkr</td>\n",
       "      <td>953</td>\n",
       "      <td>694</td>\n",
       "      <td>0</td>\n",
       "      <td>1647</td>\n",
       "      <td>0</td>\n",
       "      <td>0</td>\n",
       "      <td>2</td>\n",
       "      <td>1</td>\n",
       "      <td>3</td>\n",
       "      <td>1</td>\n",
       "      <td>TA</td>\n",
       "      <td>7</td>\n",
       "      <td>Typ</td>\n",
       "      <td>1</td>\n",
       "      <td>TA</td>\n",
       "      <td>Attchd</td>\n",
       "      <td>1999.0</td>\n",
       "      <td>RFn</td>\n",
       "      <td>2</td>\n",
       "      <td>460</td>\n",
       "      <td>TA</td>\n",
       "      <td>TA</td>\n",
       "      <td>Y</td>\n",
       "      <td>0</td>\n",
       "      <td>40</td>\n",
       "      <td>0</td>\n",
       "      <td>0</td>\n",
       "      <td>0</td>\n",
       "      <td>0</td>\n",
       "      <td>NaN</td>\n",
       "      <td>NaN</td>\n",
       "      <td>NaN</td>\n",
       "      <td>0</td>\n",
       "      <td>8</td>\n",
       "      <td>2007</td>\n",
       "      <td>WD</td>\n",
       "      <td>Normal</td>\n",
       "      <td>175000</td>\n",
       "    </tr>\n",
       "    <tr>\n",
       "      <th>1456</th>\n",
       "      <td>1457</td>\n",
       "      <td>20</td>\n",
       "      <td>RL</td>\n",
       "      <td>85.0</td>\n",
       "      <td>13175</td>\n",
       "      <td>Pave</td>\n",
       "      <td>NaN</td>\n",
       "      <td>Reg</td>\n",
       "      <td>Lvl</td>\n",
       "      <td>AllPub</td>\n",
       "      <td>Inside</td>\n",
       "      <td>Gtl</td>\n",
       "      <td>NWAmes</td>\n",
       "      <td>Norm</td>\n",
       "      <td>Norm</td>\n",
       "      <td>1Fam</td>\n",
       "      <td>1Story</td>\n",
       "      <td>6</td>\n",
       "      <td>6</td>\n",
       "      <td>1978</td>\n",
       "      <td>1988</td>\n",
       "      <td>Gable</td>\n",
       "      <td>CompShg</td>\n",
       "      <td>Plywood</td>\n",
       "      <td>Plywood</td>\n",
       "      <td>Stone</td>\n",
       "      <td>119.0</td>\n",
       "      <td>TA</td>\n",
       "      <td>TA</td>\n",
       "      <td>CBlock</td>\n",
       "      <td>Gd</td>\n",
       "      <td>TA</td>\n",
       "      <td>No</td>\n",
       "      <td>ALQ</td>\n",
       "      <td>790</td>\n",
       "      <td>Rec</td>\n",
       "      <td>163</td>\n",
       "      <td>589</td>\n",
       "      <td>1542</td>\n",
       "      <td>GasA</td>\n",
       "      <td>TA</td>\n",
       "      <td>Y</td>\n",
       "      <td>SBrkr</td>\n",
       "      <td>2073</td>\n",
       "      <td>0</td>\n",
       "      <td>0</td>\n",
       "      <td>2073</td>\n",
       "      <td>1</td>\n",
       "      <td>0</td>\n",
       "      <td>2</td>\n",
       "      <td>0</td>\n",
       "      <td>3</td>\n",
       "      <td>1</td>\n",
       "      <td>TA</td>\n",
       "      <td>7</td>\n",
       "      <td>Min1</td>\n",
       "      <td>2</td>\n",
       "      <td>TA</td>\n",
       "      <td>Attchd</td>\n",
       "      <td>1978.0</td>\n",
       "      <td>Unf</td>\n",
       "      <td>2</td>\n",
       "      <td>500</td>\n",
       "      <td>TA</td>\n",
       "      <td>TA</td>\n",
       "      <td>Y</td>\n",
       "      <td>349</td>\n",
       "      <td>0</td>\n",
       "      <td>0</td>\n",
       "      <td>0</td>\n",
       "      <td>0</td>\n",
       "      <td>0</td>\n",
       "      <td>NaN</td>\n",
       "      <td>MnPrv</td>\n",
       "      <td>NaN</td>\n",
       "      <td>0</td>\n",
       "      <td>2</td>\n",
       "      <td>2010</td>\n",
       "      <td>WD</td>\n",
       "      <td>Normal</td>\n",
       "      <td>210000</td>\n",
       "    </tr>\n",
       "    <tr>\n",
       "      <th>1457</th>\n",
       "      <td>1458</td>\n",
       "      <td>70</td>\n",
       "      <td>RL</td>\n",
       "      <td>66.0</td>\n",
       "      <td>9042</td>\n",
       "      <td>Pave</td>\n",
       "      <td>NaN</td>\n",
       "      <td>Reg</td>\n",
       "      <td>Lvl</td>\n",
       "      <td>AllPub</td>\n",
       "      <td>Inside</td>\n",
       "      <td>Gtl</td>\n",
       "      <td>Crawfor</td>\n",
       "      <td>Norm</td>\n",
       "      <td>Norm</td>\n",
       "      <td>1Fam</td>\n",
       "      <td>2Story</td>\n",
       "      <td>7</td>\n",
       "      <td>9</td>\n",
       "      <td>1941</td>\n",
       "      <td>2006</td>\n",
       "      <td>Gable</td>\n",
       "      <td>CompShg</td>\n",
       "      <td>CemntBd</td>\n",
       "      <td>CmentBd</td>\n",
       "      <td>None</td>\n",
       "      <td>0.0</td>\n",
       "      <td>Ex</td>\n",
       "      <td>Gd</td>\n",
       "      <td>Stone</td>\n",
       "      <td>TA</td>\n",
       "      <td>Gd</td>\n",
       "      <td>No</td>\n",
       "      <td>GLQ</td>\n",
       "      <td>275</td>\n",
       "      <td>Unf</td>\n",
       "      <td>0</td>\n",
       "      <td>877</td>\n",
       "      <td>1152</td>\n",
       "      <td>GasA</td>\n",
       "      <td>Ex</td>\n",
       "      <td>Y</td>\n",
       "      <td>SBrkr</td>\n",
       "      <td>1188</td>\n",
       "      <td>1152</td>\n",
       "      <td>0</td>\n",
       "      <td>2340</td>\n",
       "      <td>0</td>\n",
       "      <td>0</td>\n",
       "      <td>2</td>\n",
       "      <td>0</td>\n",
       "      <td>4</td>\n",
       "      <td>1</td>\n",
       "      <td>Gd</td>\n",
       "      <td>9</td>\n",
       "      <td>Typ</td>\n",
       "      <td>2</td>\n",
       "      <td>Gd</td>\n",
       "      <td>Attchd</td>\n",
       "      <td>1941.0</td>\n",
       "      <td>RFn</td>\n",
       "      <td>1</td>\n",
       "      <td>252</td>\n",
       "      <td>TA</td>\n",
       "      <td>TA</td>\n",
       "      <td>Y</td>\n",
       "      <td>0</td>\n",
       "      <td>60</td>\n",
       "      <td>0</td>\n",
       "      <td>0</td>\n",
       "      <td>0</td>\n",
       "      <td>0</td>\n",
       "      <td>NaN</td>\n",
       "      <td>GdPrv</td>\n",
       "      <td>Shed</td>\n",
       "      <td>2500</td>\n",
       "      <td>5</td>\n",
       "      <td>2010</td>\n",
       "      <td>WD</td>\n",
       "      <td>Normal</td>\n",
       "      <td>266500</td>\n",
       "    </tr>\n",
       "    <tr>\n",
       "      <th>1458</th>\n",
       "      <td>1459</td>\n",
       "      <td>20</td>\n",
       "      <td>RL</td>\n",
       "      <td>68.0</td>\n",
       "      <td>9717</td>\n",
       "      <td>Pave</td>\n",
       "      <td>NaN</td>\n",
       "      <td>Reg</td>\n",
       "      <td>Lvl</td>\n",
       "      <td>AllPub</td>\n",
       "      <td>Inside</td>\n",
       "      <td>Gtl</td>\n",
       "      <td>NAmes</td>\n",
       "      <td>Norm</td>\n",
       "      <td>Norm</td>\n",
       "      <td>1Fam</td>\n",
       "      <td>1Story</td>\n",
       "      <td>5</td>\n",
       "      <td>6</td>\n",
       "      <td>1950</td>\n",
       "      <td>1996</td>\n",
       "      <td>Hip</td>\n",
       "      <td>CompShg</td>\n",
       "      <td>MetalSd</td>\n",
       "      <td>MetalSd</td>\n",
       "      <td>None</td>\n",
       "      <td>0.0</td>\n",
       "      <td>TA</td>\n",
       "      <td>TA</td>\n",
       "      <td>CBlock</td>\n",
       "      <td>TA</td>\n",
       "      <td>TA</td>\n",
       "      <td>Mn</td>\n",
       "      <td>GLQ</td>\n",
       "      <td>49</td>\n",
       "      <td>Rec</td>\n",
       "      <td>1029</td>\n",
       "      <td>0</td>\n",
       "      <td>1078</td>\n",
       "      <td>GasA</td>\n",
       "      <td>Gd</td>\n",
       "      <td>Y</td>\n",
       "      <td>FuseA</td>\n",
       "      <td>1078</td>\n",
       "      <td>0</td>\n",
       "      <td>0</td>\n",
       "      <td>1078</td>\n",
       "      <td>1</td>\n",
       "      <td>0</td>\n",
       "      <td>1</td>\n",
       "      <td>0</td>\n",
       "      <td>2</td>\n",
       "      <td>1</td>\n",
       "      <td>Gd</td>\n",
       "      <td>5</td>\n",
       "      <td>Typ</td>\n",
       "      <td>0</td>\n",
       "      <td>NaN</td>\n",
       "      <td>Attchd</td>\n",
       "      <td>1950.0</td>\n",
       "      <td>Unf</td>\n",
       "      <td>1</td>\n",
       "      <td>240</td>\n",
       "      <td>TA</td>\n",
       "      <td>TA</td>\n",
       "      <td>Y</td>\n",
       "      <td>366</td>\n",
       "      <td>0</td>\n",
       "      <td>112</td>\n",
       "      <td>0</td>\n",
       "      <td>0</td>\n",
       "      <td>0</td>\n",
       "      <td>NaN</td>\n",
       "      <td>NaN</td>\n",
       "      <td>NaN</td>\n",
       "      <td>0</td>\n",
       "      <td>4</td>\n",
       "      <td>2010</td>\n",
       "      <td>WD</td>\n",
       "      <td>Normal</td>\n",
       "      <td>142125</td>\n",
       "    </tr>\n",
       "    <tr>\n",
       "      <th>1459</th>\n",
       "      <td>1460</td>\n",
       "      <td>20</td>\n",
       "      <td>RL</td>\n",
       "      <td>75.0</td>\n",
       "      <td>9937</td>\n",
       "      <td>Pave</td>\n",
       "      <td>NaN</td>\n",
       "      <td>Reg</td>\n",
       "      <td>Lvl</td>\n",
       "      <td>AllPub</td>\n",
       "      <td>Inside</td>\n",
       "      <td>Gtl</td>\n",
       "      <td>Edwards</td>\n",
       "      <td>Norm</td>\n",
       "      <td>Norm</td>\n",
       "      <td>1Fam</td>\n",
       "      <td>1Story</td>\n",
       "      <td>5</td>\n",
       "      <td>6</td>\n",
       "      <td>1965</td>\n",
       "      <td>1965</td>\n",
       "      <td>Gable</td>\n",
       "      <td>CompShg</td>\n",
       "      <td>HdBoard</td>\n",
       "      <td>HdBoard</td>\n",
       "      <td>None</td>\n",
       "      <td>0.0</td>\n",
       "      <td>Gd</td>\n",
       "      <td>TA</td>\n",
       "      <td>CBlock</td>\n",
       "      <td>TA</td>\n",
       "      <td>TA</td>\n",
       "      <td>No</td>\n",
       "      <td>BLQ</td>\n",
       "      <td>830</td>\n",
       "      <td>LwQ</td>\n",
       "      <td>290</td>\n",
       "      <td>136</td>\n",
       "      <td>1256</td>\n",
       "      <td>GasA</td>\n",
       "      <td>Gd</td>\n",
       "      <td>Y</td>\n",
       "      <td>SBrkr</td>\n",
       "      <td>1256</td>\n",
       "      <td>0</td>\n",
       "      <td>0</td>\n",
       "      <td>1256</td>\n",
       "      <td>1</td>\n",
       "      <td>0</td>\n",
       "      <td>1</td>\n",
       "      <td>1</td>\n",
       "      <td>3</td>\n",
       "      <td>1</td>\n",
       "      <td>TA</td>\n",
       "      <td>6</td>\n",
       "      <td>Typ</td>\n",
       "      <td>0</td>\n",
       "      <td>NaN</td>\n",
       "      <td>Attchd</td>\n",
       "      <td>1965.0</td>\n",
       "      <td>Fin</td>\n",
       "      <td>1</td>\n",
       "      <td>276</td>\n",
       "      <td>TA</td>\n",
       "      <td>TA</td>\n",
       "      <td>Y</td>\n",
       "      <td>736</td>\n",
       "      <td>68</td>\n",
       "      <td>0</td>\n",
       "      <td>0</td>\n",
       "      <td>0</td>\n",
       "      <td>0</td>\n",
       "      <td>NaN</td>\n",
       "      <td>NaN</td>\n",
       "      <td>NaN</td>\n",
       "      <td>0</td>\n",
       "      <td>6</td>\n",
       "      <td>2008</td>\n",
       "      <td>WD</td>\n",
       "      <td>Normal</td>\n",
       "      <td>147500</td>\n",
       "    </tr>\n",
       "  </tbody>\n",
       "</table>\n",
       "<p>1460 rows × 81 columns</p>\n",
       "</div>"
      ],
      "text/plain": [
       "        Id  MSSubClass MSZoning  LotFrontage  LotArea Street Alley LotShape  \\\n",
       "0        1          60       RL         65.0     8450   Pave   NaN      Reg   \n",
       "1        2          20       RL         80.0     9600   Pave   NaN      Reg   \n",
       "2        3          60       RL         68.0    11250   Pave   NaN      IR1   \n",
       "3        4          70       RL         60.0     9550   Pave   NaN      IR1   \n",
       "4        5          60       RL         84.0    14260   Pave   NaN      IR1   \n",
       "...    ...         ...      ...          ...      ...    ...   ...      ...   \n",
       "1455  1456          60       RL         62.0     7917   Pave   NaN      Reg   \n",
       "1456  1457          20       RL         85.0    13175   Pave   NaN      Reg   \n",
       "1457  1458          70       RL         66.0     9042   Pave   NaN      Reg   \n",
       "1458  1459          20       RL         68.0     9717   Pave   NaN      Reg   \n",
       "1459  1460          20       RL         75.0     9937   Pave   NaN      Reg   \n",
       "\n",
       "     LandContour Utilities LotConfig LandSlope Neighborhood Condition1  \\\n",
       "0            Lvl    AllPub    Inside       Gtl      CollgCr       Norm   \n",
       "1            Lvl    AllPub       FR2       Gtl      Veenker      Feedr   \n",
       "2            Lvl    AllPub    Inside       Gtl      CollgCr       Norm   \n",
       "3            Lvl    AllPub    Corner       Gtl      Crawfor       Norm   \n",
       "4            Lvl    AllPub       FR2       Gtl      NoRidge       Norm   \n",
       "...          ...       ...       ...       ...          ...        ...   \n",
       "1455         Lvl    AllPub    Inside       Gtl      Gilbert       Norm   \n",
       "1456         Lvl    AllPub    Inside       Gtl       NWAmes       Norm   \n",
       "1457         Lvl    AllPub    Inside       Gtl      Crawfor       Norm   \n",
       "1458         Lvl    AllPub    Inside       Gtl        NAmes       Norm   \n",
       "1459         Lvl    AllPub    Inside       Gtl      Edwards       Norm   \n",
       "\n",
       "     Condition2 BldgType HouseStyle  OverallQual  OverallCond  YearBuilt  \\\n",
       "0          Norm     1Fam     2Story            7            5       2003   \n",
       "1          Norm     1Fam     1Story            6            8       1976   \n",
       "2          Norm     1Fam     2Story            7            5       2001   \n",
       "3          Norm     1Fam     2Story            7            5       1915   \n",
       "4          Norm     1Fam     2Story            8            5       2000   \n",
       "...         ...      ...        ...          ...          ...        ...   \n",
       "1455       Norm     1Fam     2Story            6            5       1999   \n",
       "1456       Norm     1Fam     1Story            6            6       1978   \n",
       "1457       Norm     1Fam     2Story            7            9       1941   \n",
       "1458       Norm     1Fam     1Story            5            6       1950   \n",
       "1459       Norm     1Fam     1Story            5            6       1965   \n",
       "\n",
       "      YearRemodAdd RoofStyle RoofMatl Exterior1st Exterior2nd MasVnrType  \\\n",
       "0             2003     Gable  CompShg     VinylSd     VinylSd    BrkFace   \n",
       "1             1976     Gable  CompShg     MetalSd     MetalSd       None   \n",
       "2             2002     Gable  CompShg     VinylSd     VinylSd    BrkFace   \n",
       "3             1970     Gable  CompShg     Wd Sdng     Wd Shng       None   \n",
       "4             2000     Gable  CompShg     VinylSd     VinylSd    BrkFace   \n",
       "...            ...       ...      ...         ...         ...        ...   \n",
       "1455          2000     Gable  CompShg     VinylSd     VinylSd       None   \n",
       "1456          1988     Gable  CompShg     Plywood     Plywood      Stone   \n",
       "1457          2006     Gable  CompShg     CemntBd     CmentBd       None   \n",
       "1458          1996       Hip  CompShg     MetalSd     MetalSd       None   \n",
       "1459          1965     Gable  CompShg     HdBoard     HdBoard       None   \n",
       "\n",
       "      MasVnrArea ExterQual ExterCond Foundation BsmtQual BsmtCond  \\\n",
       "0          196.0        Gd        TA      PConc       Gd       TA   \n",
       "1            0.0        TA        TA     CBlock       Gd       TA   \n",
       "2          162.0        Gd        TA      PConc       Gd       TA   \n",
       "3            0.0        TA        TA     BrkTil       TA       Gd   \n",
       "4          350.0        Gd        TA      PConc       Gd       TA   \n",
       "...          ...       ...       ...        ...      ...      ...   \n",
       "1455         0.0        TA        TA      PConc       Gd       TA   \n",
       "1456       119.0        TA        TA     CBlock       Gd       TA   \n",
       "1457         0.0        Ex        Gd      Stone       TA       Gd   \n",
       "1458         0.0        TA        TA     CBlock       TA       TA   \n",
       "1459         0.0        Gd        TA     CBlock       TA       TA   \n",
       "\n",
       "     BsmtExposure BsmtFinType1  BsmtFinSF1 BsmtFinType2  BsmtFinSF2  \\\n",
       "0              No          GLQ         706          Unf           0   \n",
       "1              Gd          ALQ         978          Unf           0   \n",
       "2              Mn          GLQ         486          Unf           0   \n",
       "3              No          ALQ         216          Unf           0   \n",
       "4              Av          GLQ         655          Unf           0   \n",
       "...           ...          ...         ...          ...         ...   \n",
       "1455           No          Unf           0          Unf           0   \n",
       "1456           No          ALQ         790          Rec         163   \n",
       "1457           No          GLQ         275          Unf           0   \n",
       "1458           Mn          GLQ          49          Rec        1029   \n",
       "1459           No          BLQ         830          LwQ         290   \n",
       "\n",
       "      BsmtUnfSF  TotalBsmtSF Heating HeatingQC CentralAir Electrical  \\\n",
       "0           150          856    GasA        Ex          Y      SBrkr   \n",
       "1           284         1262    GasA        Ex          Y      SBrkr   \n",
       "2           434          920    GasA        Ex          Y      SBrkr   \n",
       "3           540          756    GasA        Gd          Y      SBrkr   \n",
       "4           490         1145    GasA        Ex          Y      SBrkr   \n",
       "...         ...          ...     ...       ...        ...        ...   \n",
       "1455        953          953    GasA        Ex          Y      SBrkr   \n",
       "1456        589         1542    GasA        TA          Y      SBrkr   \n",
       "1457        877         1152    GasA        Ex          Y      SBrkr   \n",
       "1458          0         1078    GasA        Gd          Y      FuseA   \n",
       "1459        136         1256    GasA        Gd          Y      SBrkr   \n",
       "\n",
       "      1stFlrSF  2ndFlrSF  LowQualFinSF  GrLivArea  BsmtFullBath  BsmtHalfBath  \\\n",
       "0          856       854             0       1710             1             0   \n",
       "1         1262         0             0       1262             0             1   \n",
       "2          920       866             0       1786             1             0   \n",
       "3          961       756             0       1717             1             0   \n",
       "4         1145      1053             0       2198             1             0   \n",
       "...        ...       ...           ...        ...           ...           ...   \n",
       "1455       953       694             0       1647             0             0   \n",
       "1456      2073         0             0       2073             1             0   \n",
       "1457      1188      1152             0       2340             0             0   \n",
       "1458      1078         0             0       1078             1             0   \n",
       "1459      1256         0             0       1256             1             0   \n",
       "\n",
       "      FullBath  HalfBath  BedroomAbvGr  KitchenAbvGr KitchenQual  \\\n",
       "0            2         1             3             1          Gd   \n",
       "1            2         0             3             1          TA   \n",
       "2            2         1             3             1          Gd   \n",
       "3            1         0             3             1          Gd   \n",
       "4            2         1             4             1          Gd   \n",
       "...        ...       ...           ...           ...         ...   \n",
       "1455         2         1             3             1          TA   \n",
       "1456         2         0             3             1          TA   \n",
       "1457         2         0             4             1          Gd   \n",
       "1458         1         0             2             1          Gd   \n",
       "1459         1         1             3             1          TA   \n",
       "\n",
       "      TotRmsAbvGrd Functional  Fireplaces FireplaceQu GarageType  GarageYrBlt  \\\n",
       "0                8        Typ           0         NaN     Attchd       2003.0   \n",
       "1                6        Typ           1          TA     Attchd       1976.0   \n",
       "2                6        Typ           1          TA     Attchd       2001.0   \n",
       "3                7        Typ           1          Gd     Detchd       1998.0   \n",
       "4                9        Typ           1          TA     Attchd       2000.0   \n",
       "...            ...        ...         ...         ...        ...          ...   \n",
       "1455             7        Typ           1          TA     Attchd       1999.0   \n",
       "1456             7       Min1           2          TA     Attchd       1978.0   \n",
       "1457             9        Typ           2          Gd     Attchd       1941.0   \n",
       "1458             5        Typ           0         NaN     Attchd       1950.0   \n",
       "1459             6        Typ           0         NaN     Attchd       1965.0   \n",
       "\n",
       "     GarageFinish  GarageCars  GarageArea GarageQual GarageCond PavedDrive  \\\n",
       "0             RFn           2         548         TA         TA          Y   \n",
       "1             RFn           2         460         TA         TA          Y   \n",
       "2             RFn           2         608         TA         TA          Y   \n",
       "3             Unf           3         642         TA         TA          Y   \n",
       "4             RFn           3         836         TA         TA          Y   \n",
       "...           ...         ...         ...        ...        ...        ...   \n",
       "1455          RFn           2         460         TA         TA          Y   \n",
       "1456          Unf           2         500         TA         TA          Y   \n",
       "1457          RFn           1         252         TA         TA          Y   \n",
       "1458          Unf           1         240         TA         TA          Y   \n",
       "1459          Fin           1         276         TA         TA          Y   \n",
       "\n",
       "      WoodDeckSF  OpenPorchSF  EnclosedPorch  3SsnPorch  ScreenPorch  \\\n",
       "0              0           61              0          0            0   \n",
       "1            298            0              0          0            0   \n",
       "2              0           42              0          0            0   \n",
       "3              0           35            272          0            0   \n",
       "4            192           84              0          0            0   \n",
       "...          ...          ...            ...        ...          ...   \n",
       "1455           0           40              0          0            0   \n",
       "1456         349            0              0          0            0   \n",
       "1457           0           60              0          0            0   \n",
       "1458         366            0            112          0            0   \n",
       "1459         736           68              0          0            0   \n",
       "\n",
       "      PoolArea PoolQC  Fence MiscFeature  MiscVal  MoSold  YrSold SaleType  \\\n",
       "0            0    NaN    NaN         NaN        0       2    2008       WD   \n",
       "1            0    NaN    NaN         NaN        0       5    2007       WD   \n",
       "2            0    NaN    NaN         NaN        0       9    2008       WD   \n",
       "3            0    NaN    NaN         NaN        0       2    2006       WD   \n",
       "4            0    NaN    NaN         NaN        0      12    2008       WD   \n",
       "...        ...    ...    ...         ...      ...     ...     ...      ...   \n",
       "1455         0    NaN    NaN         NaN        0       8    2007       WD   \n",
       "1456         0    NaN  MnPrv         NaN        0       2    2010       WD   \n",
       "1457         0    NaN  GdPrv        Shed     2500       5    2010       WD   \n",
       "1458         0    NaN    NaN         NaN        0       4    2010       WD   \n",
       "1459         0    NaN    NaN         NaN        0       6    2008       WD   \n",
       "\n",
       "     SaleCondition  SalePrice  \n",
       "0           Normal     208500  \n",
       "1           Normal     181500  \n",
       "2           Normal     223500  \n",
       "3          Abnorml     140000  \n",
       "4           Normal     250000  \n",
       "...            ...        ...  \n",
       "1455        Normal     175000  \n",
       "1456        Normal     210000  \n",
       "1457        Normal     266500  \n",
       "1458        Normal     142125  \n",
       "1459        Normal     147500  \n",
       "\n",
       "[1460 rows x 81 columns]"
      ]
     },
     "execution_count": 48,
     "metadata": {},
     "output_type": "execute_result"
    }
   ],
   "source": [
    "prices_df"
   ]
  },
  {
   "cell_type": "markdown",
   "metadata": {},
   "source": [
    "Let's explore the columns and data types within the dataset."
   ]
  },
  {
   "cell_type": "code",
   "execution_count": 49,
   "metadata": {},
   "outputs": [
    {
     "name": "stdout",
     "output_type": "stream",
     "text": [
      "<class 'pandas.core.frame.DataFrame'>\n",
      "RangeIndex: 1460 entries, 0 to 1459\n",
      "Data columns (total 81 columns):\n",
      " #   Column         Non-Null Count  Dtype  \n",
      "---  ------         --------------  -----  \n",
      " 0   Id             1460 non-null   int64  \n",
      " 1   MSSubClass     1460 non-null   int64  \n",
      " 2   MSZoning       1460 non-null   object \n",
      " 3   LotFrontage    1201 non-null   float64\n",
      " 4   LotArea        1460 non-null   int64  \n",
      " 5   Street         1460 non-null   object \n",
      " 6   Alley          91 non-null     object \n",
      " 7   LotShape       1460 non-null   object \n",
      " 8   LandContour    1460 non-null   object \n",
      " 9   Utilities      1460 non-null   object \n",
      " 10  LotConfig      1460 non-null   object \n",
      " 11  LandSlope      1460 non-null   object \n",
      " 12  Neighborhood   1460 non-null   object \n",
      " 13  Condition1     1460 non-null   object \n",
      " 14  Condition2     1460 non-null   object \n",
      " 15  BldgType       1460 non-null   object \n",
      " 16  HouseStyle     1460 non-null   object \n",
      " 17  OverallQual    1460 non-null   int64  \n",
      " 18  OverallCond    1460 non-null   int64  \n",
      " 19  YearBuilt      1460 non-null   int64  \n",
      " 20  YearRemodAdd   1460 non-null   int64  \n",
      " 21  RoofStyle      1460 non-null   object \n",
      " 22  RoofMatl       1460 non-null   object \n",
      " 23  Exterior1st    1460 non-null   object \n",
      " 24  Exterior2nd    1460 non-null   object \n",
      " 25  MasVnrType     1452 non-null   object \n",
      " 26  MasVnrArea     1452 non-null   float64\n",
      " 27  ExterQual      1460 non-null   object \n",
      " 28  ExterCond      1460 non-null   object \n",
      " 29  Foundation     1460 non-null   object \n",
      " 30  BsmtQual       1423 non-null   object \n",
      " 31  BsmtCond       1423 non-null   object \n",
      " 32  BsmtExposure   1422 non-null   object \n",
      " 33  BsmtFinType1   1423 non-null   object \n",
      " 34  BsmtFinSF1     1460 non-null   int64  \n",
      " 35  BsmtFinType2   1422 non-null   object \n",
      " 36  BsmtFinSF2     1460 non-null   int64  \n",
      " 37  BsmtUnfSF      1460 non-null   int64  \n",
      " 38  TotalBsmtSF    1460 non-null   int64  \n",
      " 39  Heating        1460 non-null   object \n",
      " 40  HeatingQC      1460 non-null   object \n",
      " 41  CentralAir     1460 non-null   object \n",
      " 42  Electrical     1459 non-null   object \n",
      " 43  1stFlrSF       1460 non-null   int64  \n",
      " 44  2ndFlrSF       1460 non-null   int64  \n",
      " 45  LowQualFinSF   1460 non-null   int64  \n",
      " 46  GrLivArea      1460 non-null   int64  \n",
      " 47  BsmtFullBath   1460 non-null   int64  \n",
      " 48  BsmtHalfBath   1460 non-null   int64  \n",
      " 49  FullBath       1460 non-null   int64  \n",
      " 50  HalfBath       1460 non-null   int64  \n",
      " 51  BedroomAbvGr   1460 non-null   int64  \n",
      " 52  KitchenAbvGr   1460 non-null   int64  \n",
      " 53  KitchenQual    1460 non-null   object \n",
      " 54  TotRmsAbvGrd   1460 non-null   int64  \n",
      " 55  Functional     1460 non-null   object \n",
      " 56  Fireplaces     1460 non-null   int64  \n",
      " 57  FireplaceQu    770 non-null    object \n",
      " 58  GarageType     1379 non-null   object \n",
      " 59  GarageYrBlt    1379 non-null   float64\n",
      " 60  GarageFinish   1379 non-null   object \n",
      " 61  GarageCars     1460 non-null   int64  \n",
      " 62  GarageArea     1460 non-null   int64  \n",
      " 63  GarageQual     1379 non-null   object \n",
      " 64  GarageCond     1379 non-null   object \n",
      " 65  PavedDrive     1460 non-null   object \n",
      " 66  WoodDeckSF     1460 non-null   int64  \n",
      " 67  OpenPorchSF    1460 non-null   int64  \n",
      " 68  EnclosedPorch  1460 non-null   int64  \n",
      " 69  3SsnPorch      1460 non-null   int64  \n",
      " 70  ScreenPorch    1460 non-null   int64  \n",
      " 71  PoolArea       1460 non-null   int64  \n",
      " 72  PoolQC         7 non-null      object \n",
      " 73  Fence          281 non-null    object \n",
      " 74  MiscFeature    54 non-null     object \n",
      " 75  MiscVal        1460 non-null   int64  \n",
      " 76  MoSold         1460 non-null   int64  \n",
      " 77  YrSold         1460 non-null   int64  \n",
      " 78  SaleType       1460 non-null   object \n",
      " 79  SaleCondition  1460 non-null   object \n",
      " 80  SalePrice      1460 non-null   int64  \n",
      "dtypes: float64(3), int64(35), object(43)\n",
      "memory usage: 924.0+ KB\n"
     ]
    }
   ],
   "source": [
    "prices_df.info()"
   ]
  },
  {
   "cell_type": "markdown",
   "metadata": {},
   "source": [
    "> **QUESTION 2**: How many rows and columns does the dataset contain? "
   ]
  },
  {
   "cell_type": "code",
   "execution_count": 50,
   "metadata": {},
   "outputs": [],
   "source": [
    "n_rows = len(prices_df.index)"
   ]
  },
  {
   "cell_type": "code",
   "execution_count": 51,
   "metadata": {},
   "outputs": [],
   "source": [
    "n_cols = len(prices_df.columns)"
   ]
  },
  {
   "cell_type": "code",
   "execution_count": 52,
   "metadata": {},
   "outputs": [
    {
     "name": "stdout",
     "output_type": "stream",
     "text": [
      "The dataset contains 1460 rows and 81 columns.\n"
     ]
    }
   ],
   "source": [
    "print('The dataset contains {} rows and {} columns.'.format(n_rows, n_cols))"
   ]
  },
  {
   "cell_type": "markdown",
   "metadata": {},
   "source": [
    "> **(OPTIONAL) QUESTION**: Before training the model, you may want to explore and visualize data from the various columns within the dataset, and study their relationship with the price of the house (using scatter plot and correlations). Create some graphs and summarize your insights using the empty cells below."
   ]
  },
  {
   "cell_type": "code",
   "execution_count": 53,
   "metadata": {},
   "outputs": [],
   "source": [
    "import plotly.express as px\n",
    "import matplotlib\n",
    "import matplotlib.pyplot as plt\n",
    "import seaborn as sns\n",
    "%matplotlib inline\n",
    "\n",
    "sns.set_style(\"darkgrid\")\n",
    "matplotlib.rcParams[\"font.size\"] = 14\n",
    "matplotlib.rcParams[\"figure.figsize\"] = (10,6)\n",
    "matplotlib.rcParams[\"figure.facecolor\"] =  \"#00000000\""
   ]
  },
  {
   "cell_type": "code",
   "execution_count": 54,
   "metadata": {},
   "outputs": [
    {
     "data": {
      "image/png": "[encoded data removed]",
      "text/plain": [
       "<Figure size 720x432 with 2 Axes>"
      ]
     },
     "metadata": {
      "needs_background": "light"
     },
     "output_type": "display_data"
    }
   ],
   "source": [
    "corr_df = prices_df[[\"MSSubClass\",\"LotArea\",\"OverallQual\",\"GarageArea\",\"GrLivArea\",\"TotalBsmtSF\",\"SalePrice\"]]\n",
    "sns.heatmap(corr_df.corr(),cmap = \"Reds\",annot = True)\n",
    "plt.title(\"corr matrix\");"
   ]
  },
  {
   "cell_type": "code",
   "execution_count": 55,
   "metadata": {},
   "outputs": [
    {
     "data": {
      "application/vnd.plotly.v1+json": {
       "config": {
        "plotlyServerURL": "https://plot.ly"
       },
       "data": [
        {
         "customdata": [
          [
           "Normal"
          ],
          [
           "Normal"
          ],
          [
           "Normal"
          ],
          [
           "Abnorml"
          ],
          [
           "Normal"
          ],
          [
           "Normal"
          ],
          [
           "Normal"
          ],
          [
           "Normal"
          ],
          [
           "Abnorml"
          ],
          [
           "Normal"
          ],
          [
           "Normal"
          ],
          [
           "Partial"
          ],
          [
           "Normal"
          ],
          [
           "Partial"
          ],
          [
           "Normal"
          ],
          [
           "Normal"
          ],
          [
           "Normal"
          ],
          [
           "Normal"
          ],
          [
           "Normal"
          ],
          [
           "Abnorml"
          ],
          [
           "Partial"
          ],
          [
           "Normal"
          ],
          [
           "Normal"
          ],
          [
           "Normal"
          ],
          [
           "Normal"
          ],
          [
           "Normal"
          ],
          [
           "Normal"
          ],
          [
           "Normal"
          ],
          [
           "Normal"
          ],
          [
           "Normal"
          ],
          [
           "Normal"
          ],
          [
           "Normal"
          ],
          [
           "Normal"
          ],
          [
           "Normal"
          ],
          [
           "Normal"
          ],
          [
           "Normal"
          ],
          [
           "Normal"
          ],
          [
           "Normal"
          ],
          [
           "Abnorml"
          ],
          [
           "AdjLand"
          ],
          [
           "Abnorml"
          ],
          [
           "Normal"
          ],
          [
           "Normal"
          ],
          [
           "Normal"
          ],
          [
           "Normal"
          ],
          [
           "Normal"
          ],
          [
           "Abnorml"
          ],
          [
           "Normal"
          ],
          [
           "Partial"
          ],
          [
           "Normal"
          ],
          [
           "Normal"
          ],
          [
           "Normal"
          ],
          [
           "Normal"
          ],
          [
           "Normal"
          ],
          [
           "Normal"
          ],
          [
           "Normal"
          ],
          [
           "Abnorml"
          ],
          [
           "Normal"
          ],
          [
           "Partial"
          ],
          [
           "Normal"
          ],
          [
           "Partial"
          ],
          [
           "Normal"
          ],
          [
           "Normal"
          ],
          [
           "Normal"
          ],
          [
           "Normal"
          ],
          [
           "Normal"
          ],
          [
           "Normal"
          ],
          [
           "Normal"
          ],
          [
           "Normal"
          ],
          [
           "Normal"
          ],
          [
           "Normal"
          ],
          [
           "Normal"
          ],
          [
           "Normal"
          ],
          [
           "Normal"
          ],
          [
           "Normal"
          ],
          [
           "Normal"
          ],
          [
           "Normal"
          ],
          [
           "Normal"
          ],
          [
           "Normal"
          ],
          [
           "Normal"
          ],
          [
           "Normal"
          ],
          [
           "Normal"
          ],
          [
           "Normal"
          ],
          [
           "Normal"
          ],
          [
           "Normal"
          ],
          [
           "Normal"
          ],
          [
           "Normal"
          ],
          [
           "Partial"
          ],
          [
           "Abnorml"
          ],
          [
           "Normal"
          ],
          [
           "Normal"
          ],
          [
           "Abnorml"
          ],
          [
           "Normal"
          ],
          [
           "Normal"
          ],
          [
           "Normal"
          ],
          [
           "Normal"
          ],
          [
           "Normal"
          ],
          [
           "Normal"
          ],
          [
           "Abnorml"
          ],
          [
           "Normal"
          ],
          [
           "Normal"
          ],
          [
           "Normal"
          ],
          [
           "Alloca"
          ],
          [
           "Normal"
          ],
          [
           "Normal"
          ],
          [
           "Normal"
          ],
          [
           "Normal"
          ],
          [
           "Partial"
          ],
          [
           "Normal"
          ],
          [
           "Normal"
          ],
          [
           "Normal"
          ],
          [
           "Normal"
          ],
          [
           "Partial"
          ],
          [
           "Abnorml"
          ],
          [
           "Normal"
          ],
          [
           "Normal"
          ],
          [
           "Normal"
          ],
          [
           "Partial"
          ],
          [
           "Normal"
          ],
          [
           "Partial"
          ],
          [
           "Normal"
          ],
          [
           "Normal"
          ],
          [
           "Normal"
          ],
          [
           "Normal"
          ],
          [
           "Normal"
          ],
          [
           "Normal"
          ],
          [
           "Normal"
          ],
          [
           "Normal"
          ],
          [
           "Normal"
          ],
          [
           "Abnorml"
          ],
          [
           "Normal"
          ],
          [
           "Normal"
          ],
          [
           "Normal"
          ],
          [
           "Normal"
          ],
          [
           "Normal"
          ],
          [
           "Normal"
          ],
          [
           "Normal"
          ],
          [
           "Family"
          ],
          [
           "Normal"
          ],
          [
           "Normal"
          ],
          [
           "Normal"
          ],
          [
           "Normal"
          ],
          [
           "Normal"
          ],
          [
           "Normal"
          ],
          [
           "Abnorml"
          ],
          [
           "Normal"
          ],
          [
           "Normal"
          ],
          [
           "Normal"
          ],
          [
           "Normal"
          ],
          [
           "Normal"
          ],
          [
           "Normal"
          ],
          [
           "Partial"
          ],
          [
           "Normal"
          ],
          [
           "Normal"
          ],
          [
           "Family"
          ],
          [
           "Normal"
          ],
          [
           "Normal"
          ],
          [
           "Partial"
          ],
          [
           "Normal"
          ],
          [
           "Partial"
          ],
          [
           "Normal"
          ],
          [
           "Normal"
          ],
          [
           "Partial"
          ],
          [
           "Normal"
          ],
          [
           "Normal"
          ],
          [
           "Normal"
          ],
          [
           "Normal"
          ],
          [
           "Partial"
          ],
          [
           "Normal"
          ],
          [
           "Normal"
          ],
          [
           "Normal"
          ],
          [
           "Normal"
          ],
          [
           "Normal"
          ],
          [
           "Normal"
          ],
          [
           "Normal"
          ],
          [
           "Normal"
          ],
          [
           "Normal"
          ],
          [
           "Normal"
          ],
          [
           "Partial"
          ],
          [
           "Normal"
          ],
          [
           "Normal"
          ],
          [
           "Normal"
          ],
          [
           "Normal"
          ],
          [
           "Normal"
          ],
          [
           "Normal"
          ],
          [
           "Normal"
          ],
          [
           "Normal"
          ],
          [
           "Normal"
          ],
          [
           "Alloca"
          ],
          [
           "Normal"
          ],
          [
           "Normal"
          ],
          [
           "Normal"
          ],
          [
           "Normal"
          ],
          [
           "Normal"
          ],
          [
           "Normal"
          ],
          [
           "Normal"
          ],
          [
           "Partial"
          ],
          [
           "Abnorml"
          ],
          [
           "Abnorml"
          ],
          [
           "Normal"
          ],
          [
           "Normal"
          ],
          [
           "Normal"
          ],
          [
           "Normal"
          ],
          [
           "Normal"
          ],
          [
           "Normal"
          ],
          [
           "Normal"
          ],
          [
           "Normal"
          ],
          [
           "Normal"
          ],
          [
           "Normal"
          ],
          [
           "Normal"
          ],
          [
           "Normal"
          ],
          [
           "Normal"
          ],
          [
           "Partial"
          ],
          [
           "Normal"
          ],
          [
           "Normal"
          ],
          [
           "Normal"
          ],
          [
           "Normal"
          ],
          [
           "Family"
          ],
          [
           "Normal"
          ],
          [
           "Partial"
          ],
          [
           "Partial"
          ],
          [
           "Normal"
          ],
          [
           "Normal"
          ],
          [
           "Abnorml"
          ],
          [
           "Normal"
          ],
          [
           "Abnorml"
          ],
          [
           "Abnorml"
          ],
          [
           "Normal"
          ],
          [
           "Normal"
          ],
          [
           "Normal"
          ],
          [
           "Normal"
          ],
          [
           "Normal"
          ],
          [
           "Normal"
          ],
          [
           "Normal"
          ],
          [
           "Normal"
          ],
          [
           "Normal"
          ],
          [
           "Normal"
          ],
          [
           "Normal"
          ],
          [
           "Partial"
          ],
          [
           "Normal"
          ],
          [
           "Normal"
          ],
          [
           "Normal"
          ],
          [
           "Normal"
          ],
          [
           "Normal"
          ],
          [
           "Normal"
          ],
          [
           "Normal"
          ],
          [
           "Normal"
          ],
          [
           "Normal"
          ],
          [
           "Normal"
          ],
          [
           "Normal"
          ],
          [
           "Normal"
          ],
          [
           "Family"
          ],
          [
           "Normal"
          ],
          [
           "Normal"
          ],
          [
           "Normal"
          ],
          [
           "Normal"
          ],
          [
           "Normal"
          ],
          [
           "Abnorml"
          ],
          [
           "Normal"
          ],
          [
           "Normal"
          ],
          [
           "Normal"
          ],
          [
           "Partial"
          ],
          [
           "Normal"
          ],
          [
           "Normal"
          ],
          [
           "Normal"
          ],
          [
           "Normal"
          ],
          [
           "Normal"
          ],
          [
           "Normal"
          ],
          [
           "Normal"
          ],
          [
           "Normal"
          ],
          [
           "Partial"
          ],
          [
           "Normal"
          ],
          [
           "Normal"
          ],
          [
           "Normal"
          ],
          [
           "Normal"
          ],
          [
           "Normal"
          ],
          [
           "Normal"
          ],
          [
           "Normal"
          ],
          [
           "Partial"
          ],
          [
           "Normal"
          ],
          [
           "Normal"
          ],
          [
           "Partial"
          ],
          [
           "Normal"
          ],
          [
           "Partial"
          ],
          [
           "Normal"
          ],
          [
           "Partial"
          ],
          [
           "Normal"
          ],
          [
           "Normal"
          ],
          [
           "Normal"
          ],
          [
           "Normal"
          ],
          [
           "Partial"
          ],
          [
           "Normal"
          ],
          [
           "Normal"
          ],
          [
           "Normal"
          ],
          [
           "Normal"
          ],
          [
           "Normal"
          ],
          [
           "Normal"
          ],
          [
           "Normal"
          ],
          [
           "Normal"
          ],
          [
           "Family"
          ],
          [
           "Normal"
          ],
          [
           "Normal"
          ],
          [
           "Normal"
          ],
          [
           "Abnorml"
          ],
          [
           "Normal"
          ],
          [
           "Normal"
          ],
          [
           "Normal"
          ],
          [
           "Normal"
          ],
          [
           "Normal"
          ],
          [
           "Normal"
          ],
          [
           "Normal"
          ],
          [
           "Normal"
          ],
          [
           "Normal"
          ],
          [
           "Normal"
          ],
          [
           "Normal"
          ],
          [
           "Normal"
          ],
          [
           "Normal"
          ],
          [
           "Normal"
          ],
          [
           "Normal"
          ],
          [
           "Normal"
          ],
          [
           "Partial"
          ],
          [
           "Normal"
          ],
          [
           "Normal"
          ],
          [
           "Normal"
          ],
          [
           "Normal"
          ],
          [
           "Normal"
          ],
          [
           "Normal"
          ],
          [
           "Normal"
          ],
          [
           "Normal"
          ],
          [
           "Normal"
          ],
          [
           "Normal"
          ],
          [
           "Normal"
          ],
          [
           "Normal"
          ],
          [
           "Normal"
          ],
          [
           "Normal"
          ],
          [
           "Normal"
          ],
          [
           "Normal"
          ],
          [
           "Normal"
          ],
          [
           "Normal"
          ],
          [
           "Normal"
          ],
          [
           "Normal"
          ],
          [
           "Normal"
          ],
          [
           "Normal"
          ],
          [
           "Normal"
          ],
          [
           "Normal"
          ],
          [
           "Normal"
          ],
          [
           "Normal"
          ],
          [
           "Normal"
          ],
          [
           "Normal"
          ],
          [
           "Partial"
          ],
          [
           "Partial"
          ],
          [
           "Abnorml"
          ],
          [
           "Normal"
          ],
          [
           "Normal"
          ],
          [
           "Normal"
          ],
          [
           "Normal"
          ],
          [
           "Normal"
          ],
          [
           "Normal"
          ],
          [
           "Abnorml"
          ],
          [
           "Normal"
          ],
          [
           "Normal"
          ],
          [
           "Normal"
          ],
          [
           "Normal"
          ],
          [
           "Normal"
          ],
          [
           "Normal"
          ],
          [
           "Normal"
          ],
          [
           "Normal"
          ],
          [
           "Normal"
          ],
          [
           "Normal"
          ],
          [
           "Normal"
          ],
          [
           "Normal"
          ],
          [
           "Normal"
          ],
          [
           "Normal"
          ],
          [
           "Normal"
          ],
          [
           "Normal"
          ],
          [
           "Normal"
          ],
          [
           "Normal"
          ],
          [
           "Normal"
          ],
          [
           "Partial"
          ],
          [
           "Normal"
          ],
          [
           "Normal"
          ],
          [
           "Partial"
          ],
          [
           "Normal"
          ],
          [
           "Normal"
          ],
          [
           "Normal"
          ],
          [
           "Normal"
          ],
          [
           "AdjLand"
          ],
          [
           "Abnorml"
          ],
          [
           "Normal"
          ],
          [
           "Partial"
          ],
          [
           "Normal"
          ],
          [
           "Normal"
          ],
          [
           "Normal"
          ],
          [
           "Abnorml"
          ],
          [
           "Normal"
          ],
          [
           "Normal"
          ],
          [
           "Normal"
          ],
          [
           "Normal"
          ],
          [
           "Abnorml"
          ],
          [
           "Normal"
          ],
          [
           "Normal"
          ],
          [
           "Partial"
          ],
          [
           "Normal"
          ],
          [
           "Abnorml"
          ],
          [
           "Normal"
          ],
          [
           "Normal"
          ],
          [
           "Normal"
          ],
          [
           "Normal"
          ],
          [
           "Partial"
          ],
          [
           "Partial"
          ],
          [
           "Abnorml"
          ],
          [
           "Normal"
          ],
          [
           "Partial"
          ],
          [
           "Normal"
          ],
          [
           "Normal"
          ],
          [
           "Partial"
          ],
          [
           "Normal"
          ],
          [
           "Normal"
          ],
          [
           "AdjLand"
          ],
          [
           "Normal"
          ],
          [
           "Alloca"
          ],
          [
           "Normal"
          ],
          [
           "Normal"
          ],
          [
           "Normal"
          ],
          [
           "Normal"
          ],
          [
           "Normal"
          ],
          [
           "Normal"
          ],
          [
           "Normal"
          ],
          [
           "Partial"
          ],
          [
           "Normal"
          ],
          [
           "Abnorml"
          ],
          [
           "Abnorml"
          ],
          [
           "Normal"
          ],
          [
           "Normal"
          ],
          [
           "Normal"
          ],
          [
           "Normal"
          ],
          [
           "Normal"
          ],
          [
           "Normal"
          ],
          [
           "Normal"
          ],
          [
           "Normal"
          ],
          [
           "Normal"
          ],
          [
           "Normal"
          ],
          [
           "Normal"
          ],
          [
           "Partial"
          ],
          [
           "Normal"
          ],
          [
           "Normal"
          ],
          [
           "Normal"
          ],
          [
           "Normal"
          ],
          [
           "Normal"
          ],
          [
           "Normal"
          ],
          [
           "Normal"
          ],
          [
           "Normal"
          ],
          [
           "Normal"
          ],
          [
           "Normal"
          ],
          [
           "Family"
          ],
          [
           "Normal"
          ],
          [
           "Abnorml"
          ],
          [
           "Normal"
          ],
          [
           "Normal"
          ],
          [
           "Normal"
          ],
          [
           "Partial"
          ],
          [
           "Normal"
          ],
          [
           "Normal"
          ],
          [
           "Normal"
          ],
          [
           "Normal"
          ],
          [
           "Normal"
          ],
          [
           "Normal"
          ],
          [
           "Normal"
          ],
          [
           "Normal"
          ],
          [
           "Normal"
          ],
          [
           "Normal"
          ],
          [
           "Normal"
          ],
          [
           "Normal"
          ],
          [
           "Partial"
          ],
          [
           "Normal"
          ],
          [
           "Normal"
          ],
          [
           "Normal"
          ],
          [
           "Normal"
          ],
          [
           "Normal"
          ],
          [
           "Alloca"
          ],
          [
           "Normal"
          ],
          [
           "Normal"
          ],
          [
           "Normal"
          ],
          [
           "Normal"
          ],
          [
           "Normal"
          ],
          [
           "Normal"
          ],
          [
           "Normal"
          ],
          [
           "Normal"
          ],
          [
           "Normal"
          ],
          [
           "Normal"
          ],
          [
           "Normal"
          ],
          [
           "Normal"
          ],
          [
           "Partial"
          ],
          [
           "Normal"
          ],
          [
           "Normal"
          ],
          [
           "Abnorml"
          ],
          [
           "Normal"
          ],
          [
           "Normal"
          ],
          [
           "Normal"
          ],
          [
           "Normal"
          ],
          [
           "Normal"
          ],
          [
           "Normal"
          ],
          [
           "Normal"
          ],
          [
           "Normal"
          ],
          [
           "Normal"
          ],
          [
           "Normal"
          ],
          [
           "Normal"
          ],
          [
           "Partial"
          ],
          [
           "Normal"
          ],
          [
           "Normal"
          ],
          [
           "Normal"
          ],
          [
           "Partial"
          ],
          [
           "Normal"
          ],
          [
           "Normal"
          ],
          [
           "Normal"
          ],
          [
           "Partial"
          ],
          [
           "Abnorml"
          ],
          [
           "Normal"
          ],
          [
           "Normal"
          ],
          [
           "Normal"
          ],
          [
           "Normal"
          ],
          [
           "Normal"
          ],
          [
           "Normal"
          ],
          [
           "Partial"
          ],
          [
           "Normal"
          ],
          [
           "Normal"
          ],
          [
           "Normal"
          ],
          [
           "Partial"
          ],
          [
           "Normal"
          ],
          [
           "Alloca"
          ],
          [
           "Abnorml"
          ],
          [
           "Normal"
          ],
          [
           "Normal"
          ],
          [
           "Normal"
          ],
          [
           "Normal"
          ],
          [
           "Normal"
          ],
          [
           "Normal"
          ],
          [
           "Normal"
          ],
          [
           "Normal"
          ],
          [
           "Normal"
          ],
          [
           "Normal"
          ],
          [
           "Normal"
          ],
          [
           "Normal"
          ],
          [
           "Normal"
          ],
          [
           "Partial"
          ],
          [
           "Normal"
          ],
          [
           "Normal"
          ],
          [
           "Normal"
          ],
          [
           "Normal"
          ],
          [
           "Normal"
          ],
          [
           "Abnorml"
          ],
          [
           "Normal"
          ],
          [
           "Normal"
          ],
          [
           "Normal"
          ],
          [
           "Normal"
          ],
          [
           "Normal"
          ],
          [
           "Normal"
          ],
          [
           "Normal"
          ],
          [
           "Normal"
          ],
          [
           "Normal"
          ],
          [
           "Normal"
          ],
          [
           "Normal"
          ],
          [
           "Normal"
          ],
          [
           "Normal"
          ],
          [
           "Normal"
          ],
          [
           "Normal"
          ],
          [
           "Normal"
          ],
          [
           "Normal"
          ],
          [
           "Normal"
          ],
          [
           "Normal"
          ],
          [
           "Normal"
          ],
          [
           "Abnorml"
          ],
          [
           "Partial"
          ],
          [
           "Normal"
          ],
          [
           "Normal"
          ],
          [
           "Abnorml"
          ],
          [
           "Normal"
          ],
          [
           "Abnorml"
          ],
          [
           "Abnorml"
          ],
          [
           "Normal"
          ],
          [
           "Normal"
          ],
          [
           "Partial"
          ],
          [
           "Normal"
          ],
          [
           "Normal"
          ],
          [
           "Normal"
          ],
          [
           "Partial"
          ],
          [
           "Normal"
          ],
          [
           "Normal"
          ],
          [
           "Partial"
          ],
          [
           "Normal"
          ],
          [
           "Normal"
          ],
          [
           "Normal"
          ],
          [
           "Normal"
          ],
          [
           "Normal"
          ],
          [
           "Normal"
          ],
          [
           "Partial"
          ],
          [
           "Normal"
          ],
          [
           "Partial"
          ],
          [
           "Normal"
          ],
          [
           "Normal"
          ],
          [
           "Normal"
          ],
          [
           "Normal"
          ],
          [
           "Abnorml"
          ],
          [
           "Normal"
          ],
          [
           "Normal"
          ],
          [
           "Normal"
          ],
          [
           "Normal"
          ],
          [
           "Normal"
          ],
          [
           "Alloca"
          ],
          [
           "Normal"
          ],
          [
           "Normal"
          ],
          [
           "Normal"
          ],
          [
           "Normal"
          ],
          [
           "Partial"
          ],
          [
           "Normal"
          ],
          [
           "Abnorml"
          ],
          [
           "Normal"
          ],
          [
           "Normal"
          ],
          [
           "Partial"
          ],
          [
           "Normal"
          ],
          [
           "Normal"
          ],
          [
           "Normal"
          ],
          [
           "Normal"
          ],
          [
           "Normal"
          ],
          [
           "Normal"
          ],
          [
           "Normal"
          ],
          [
           "Normal"
          ],
          [
           "Normal"
          ],
          [
           "Family"
          ],
          [
           "Normal"
          ],
          [
           "Abnorml"
          ],
          [
           "Normal"
          ],
          [
           "Family"
          ],
          [
           "Normal"
          ],
          [
           "Normal"
          ],
          [
           "Abnorml"
          ],
          [
           "Normal"
          ],
          [
           "Normal"
          ],
          [
           "Normal"
          ],
          [
           "Partial"
          ],
          [
           "Normal"
          ],
          [
           "Normal"
          ],
          [
           "Normal"
          ],
          [
           "Normal"
          ],
          [
           "Partial"
          ],
          [
           "Normal"
          ],
          [
           "Normal"
          ],
          [
           "Normal"
          ],
          [
           "Normal"
          ],
          [
           "Normal"
          ],
          [
           "Normal"
          ],
          [
           "Normal"
          ],
          [
           "Normal"
          ],
          [
           "Normal"
          ],
          [
           "Normal"
          ],
          [
           "Family"
          ],
          [
           "Normal"
          ],
          [
           "Normal"
          ],
          [
           "Abnorml"
          ],
          [
           "Normal"
          ],
          [
           "Normal"
          ],
          [
           "Normal"
          ],
          [
           "Normal"
          ],
          [
           "Normal"
          ],
          [
           "Partial"
          ],
          [
           "Normal"
          ],
          [
           "Abnorml"
          ],
          [
           "Normal"
          ],
          [
           "Normal"
          ],
          [
           "Normal"
          ],
          [
           "Normal"
          ],
          [
           "Normal"
          ],
          [
           "Normal"
          ],
          [
           "Normal"
          ],
          [
           "Normal"
          ],
          [
           "Normal"
          ],
          [
           "Normal"
          ],
          [
           "Normal"
          ],
          [
           "Partial"
          ],
          [
           "Normal"
          ],
          [
           "Normal"
          ],
          [
           "Abnorml"
          ],
          [
           "Normal"
          ],
          [
           "Normal"
          ],
          [
           "Normal"
          ],
          [
           "Normal"
          ],
          [
           "Partial"
          ],
          [
           "Normal"
          ],
          [
           "Partial"
          ],
          [
           "Normal"
          ],
          [
           "Normal"
          ],
          [
           "Normal"
          ],
          [
           "Normal"
          ],
          [
           "Abnorml"
          ],
          [
           "Normal"
          ],
          [
           "Normal"
          ],
          [
           "Normal"
          ],
          [
           "Normal"
          ],
          [
           "Normal"
          ],
          [
           "Normal"
          ],
          [
           "Normal"
          ],
          [
           "Normal"
          ],
          [
           "Partial"
          ],
          [
           "Normal"
          ],
          [
           "Normal"
          ],
          [
           "Normal"
          ],
          [
           "Normal"
          ],
          [
           "Normal"
          ],
          [
           "Partial"
          ],
          [
           "Abnorml"
          ],
          [
           "Normal"
          ],
          [
           "Abnorml"
          ],
          [
           "Normal"
          ],
          [
           "Normal"
          ],
          [
           "Normal"
          ],
          [
           "Normal"
          ],
          [
           "Normal"
          ],
          [
           "Normal"
          ],
          [
           "Normal"
          ],
          [
           "Normal"
          ],
          [
           "Normal"
          ],
          [
           "Normal"
          ],
          [
           "Normal"
          ],
          [
           "Normal"
          ],
          [
           "Normal"
          ],
          [
           "Normal"
          ],
          [
           "Normal"
          ],
          [
           "Normal"
          ],
          [
           "Abnorml"
          ],
          [
           "Normal"
          ],
          [
           "Normal"
          ],
          [
           "Normal"
          ],
          [
           "Normal"
          ],
          [
           "Normal"
          ],
          [
           "Family"
          ],
          [
           "Normal"
          ],
          [
           "Normal"
          ],
          [
           "Normal"
          ],
          [
           "Alloca"
          ],
          [
           "Normal"
          ],
          [
           "Abnorml"
          ],
          [
           "Normal"
          ],
          [
           "Normal"
          ],
          [
           "Normal"
          ],
          [
           "Normal"
          ],
          [
           "Normal"
          ],
          [
           "Normal"
          ],
          [
           "Normal"
          ],
          [
           "Normal"
          ],
          [
           "Normal"
          ],
          [
           "Normal"
          ],
          [
           "Normal"
          ],
          [
           "Normal"
          ],
          [
           "Normal"
          ],
          [
           "Normal"
          ],
          [
           "Normal"
          ],
          [
           "Normal"
          ],
          [
           "Abnorml"
          ],
          [
           "Normal"
          ],
          [
           "Normal"
          ],
          [
           "Normal"
          ],
          [
           "Normal"
          ],
          [
           "Normal"
          ],
          [
           "Normal"
          ],
          [
           "Normal"
          ],
          [
           "Partial"
          ],
          [
           "Normal"
          ],
          [
           "Normal"
          ],
          [
           "Normal"
          ],
          [
           "Normal"
          ],
          [
           "Normal"
          ],
          [
           "Normal"
          ],
          [
           "Abnorml"
          ],
          [
           "Normal"
          ],
          [
           "Partial"
          ],
          [
           "Normal"
          ],
          [
           "Partial"
          ],
          [
           "Normal"
          ],
          [
           "Normal"
          ],
          [
           "Normal"
          ],
          [
           "Normal"
          ],
          [
           "Normal"
          ],
          [
           "Normal"
          ],
          [
           "Normal"
          ],
          [
           "Normal"
          ],
          [
           "Normal"
          ],
          [
           "Normal"
          ],
          [
           "Normal"
          ],
          [
           "Normal"
          ],
          [
           "Normal"
          ],
          [
           "Normal"
          ],
          [
           "Normal"
          ],
          [
           "Normal"
          ],
          [
           "Partial"
          ],
          [
           "Normal"
          ],
          [
           "Normal"
          ],
          [
           "Normal"
          ],
          [
           "Abnorml"
          ],
          [
           "Partial"
          ],
          [
           "Normal"
          ],
          [
           "Normal"
          ],
          [
           "Normal"
          ],
          [
           "Normal"
          ],
          [
           "Partial"
          ],
          [
           "Family"
          ],
          [
           "Partial"
          ],
          [
           "Normal"
          ],
          [
           "Normal"
          ],
          [
           "Normal"
          ],
          [
           "Normal"
          ],
          [
           "Normal"
          ],
          [
           "Normal"
          ],
          [
           "Alloca"
          ],
          [
           "Normal"
          ],
          [
           "Normal"
          ],
          [
           "Normal"
          ],
          [
           "Normal"
          ],
          [
           "Normal"
          ],
          [
           "Normal"
          ],
          [
           "Partial"
          ],
          [
           "Normal"
          ],
          [
           "Normal"
          ],
          [
           "Family"
          ],
          [
           "Normal"
          ],
          [
           "Partial"
          ],
          [
           "Partial"
          ],
          [
           "Normal"
          ],
          [
           "Normal"
          ],
          [
           "Abnorml"
          ],
          [
           "Normal"
          ],
          [
           "Normal"
          ],
          [
           "Normal"
          ],
          [
           "Normal"
          ],
          [
           "Normal"
          ],
          [
           "Normal"
          ],
          [
           "Normal"
          ],
          [
           "Normal"
          ],
          [
           "Normal"
          ],
          [
           "Normal"
          ],
          [
           "Normal"
          ],
          [
           "Normal"
          ],
          [
           "Normal"
          ],
          [
           "Normal"
          ],
          [
           "Normal"
          ],
          [
           "Normal"
          ],
          [
           "Normal"
          ],
          [
           "Normal"
          ],
          [
           "Normal"
          ],
          [
           "Normal"
          ],
          [
           "Normal"
          ],
          [
           "Normal"
          ],
          [
           "Normal"
          ],
          [
           "Normal"
          ],
          [
           "Normal"
          ],
          [
           "Abnorml"
          ],
          [
           "Normal"
          ],
          [
           "Normal"
          ],
          [
           "Normal"
          ],
          [
           "Family"
          ],
          [
           "Normal"
          ],
          [
           "Normal"
          ],
          [
           "Normal"
          ],
          [
           "Normal"
          ],
          [
           "Normal"
          ],
          [
           "Partial"
          ],
          [
           "Normal"
          ],
          [
           "Partial"
          ],
          [
           "Normal"
          ],
          [
           "Normal"
          ],
          [
           "Normal"
          ],
          [
           "Normal"
          ],
          [
           "Normal"
          ],
          [
           "Normal"
          ],
          [
           "Normal"
          ],
          [
           "Abnorml"
          ],
          [
           "Partial"
          ],
          [
           "Normal"
          ],
          [
           "Normal"
          ],
          [
           "Normal"
          ],
          [
           "Normal"
          ],
          [
           "Normal"
          ],
          [
           "Normal"
          ],
          [
           "Normal"
          ],
          [
           "Normal"
          ],
          [
           "Normal"
          ],
          [
           "Abnorml"
          ],
          [
           "Family"
          ],
          [
           "Normal"
          ],
          [
           "Normal"
          ],
          [
           "Normal"
          ],
          [
           "Normal"
          ],
          [
           "Normal"
          ],
          [
           "Normal"
          ],
          [
           "Normal"
          ],
          [
           "Alloca"
          ],
          [
           "Normal"
          ],
          [
           "Abnorml"
          ],
          [
           "Alloca"
          ],
          [
           "Partial"
          ],
          [
           "Normal"
          ],
          [
           "Normal"
          ],
          [
           "Normal"
          ],
          [
           "Normal"
          ],
          [
           "Partial"
          ],
          [
           "Normal"
          ],
          [
           "Normal"
          ],
          [
           "Normal"
          ],
          [
           "Normal"
          ],
          [
           "Normal"
          ],
          [
           "Normal"
          ],
          [
           "Normal"
          ],
          [
           "Normal"
          ],
          [
           "Abnorml"
          ],
          [
           "Normal"
          ],
          [
           "Partial"
          ],
          [
           "Normal"
          ],
          [
           "Abnorml"
          ],
          [
           "Normal"
          ],
          [
           "Normal"
          ],
          [
           "Normal"
          ],
          [
           "Normal"
          ],
          [
           "Normal"
          ],
          [
           "Partial"
          ],
          [
           "Normal"
          ],
          [
           "Normal"
          ],
          [
           "Abnorml"
          ],
          [
           "Normal"
          ],
          [
           "Normal"
          ],
          [
           "Normal"
          ],
          [
           "Normal"
          ],
          [
           "Normal"
          ],
          [
           "Normal"
          ],
          [
           "Normal"
          ],
          [
           "Normal"
          ],
          [
           "Normal"
          ],
          [
           "Normal"
          ],
          [
           "Normal"
          ],
          [
           "Normal"
          ],
          [
           "Partial"
          ],
          [
           "Normal"
          ],
          [
           "Normal"
          ],
          [
           "Normal"
          ],
          [
           "Abnorml"
          ],
          [
           "Normal"
          ],
          [
           "Abnorml"
          ],
          [
           "Normal"
          ],
          [
           "Normal"
          ],
          [
           "Normal"
          ],
          [
           "Normal"
          ],
          [
           "Normal"
          ],
          [
           "Normal"
          ],
          [
           "Abnorml"
          ],
          [
           "Normal"
          ],
          [
           "Normal"
          ],
          [
           "AdjLand"
          ],
          [
           "Normal"
          ],
          [
           "Normal"
          ],
          [
           "Normal"
          ],
          [
           "Normal"
          ],
          [
           "Normal"
          ],
          [
           "Normal"
          ],
          [
           "Normal"
          ],
          [
           "Normal"
          ],
          [
           "Normal"
          ],
          [
           "Normal"
          ],
          [
           "Partial"
          ],
          [
           "Normal"
          ],
          [
           "Normal"
          ],
          [
           "Abnorml"
          ],
          [
           "Normal"
          ],
          [
           "Abnorml"
          ],
          [
           "Normal"
          ],
          [
           "Normal"
          ],
          [
           "Partial"
          ],
          [
           "Normal"
          ],
          [
           "Normal"
          ],
          [
           "Normal"
          ],
          [
           "Partial"
          ],
          [
           "Abnorml"
          ],
          [
           "Normal"
          ],
          [
           "Normal"
          ],
          [
           "Normal"
          ],
          [
           "Normal"
          ],
          [
           "Normal"
          ],
          [
           "Normal"
          ],
          [
           "Normal"
          ],
          [
           "Normal"
          ],
          [
           "Partial"
          ],
          [
           "Normal"
          ],
          [
           "Partial"
          ],
          [
           "Normal"
          ],
          [
           "Normal"
          ],
          [
           "Normal"
          ],
          [
           "Partial"
          ],
          [
           "Normal"
          ],
          [
           "Abnorml"
          ],
          [
           "Normal"
          ],
          [
           "Normal"
          ],
          [
           "Normal"
          ],
          [
           "Normal"
          ],
          [
           "Normal"
          ],
          [
           "Abnorml"
          ],
          [
           "Normal"
          ],
          [
           "Normal"
          ],
          [
           "Normal"
          ],
          [
           "Normal"
          ],
          [
           "Normal"
          ],
          [
           "Normal"
          ],
          [
           "Normal"
          ],
          [
           "Normal"
          ],
          [
           "Normal"
          ],
          [
           "Normal"
          ],
          [
           "Normal"
          ],
          [
           "Normal"
          ],
          [
           "Normal"
          ],
          [
           "Normal"
          ],
          [
           "Normal"
          ],
          [
           "Abnorml"
          ],
          [
           "Normal"
          ],
          [
           "Normal"
          ],
          [
           "Normal"
          ],
          [
           "Partial"
          ],
          [
           "Normal"
          ],
          [
           "Normal"
          ],
          [
           "Abnorml"
          ],
          [
           "Normal"
          ],
          [
           "Normal"
          ],
          [
           "Partial"
          ],
          [
           "Normal"
          ],
          [
           "Normal"
          ],
          [
           "Normal"
          ],
          [
           "Normal"
          ],
          [
           "Abnorml"
          ],
          [
           "Normal"
          ],
          [
           "Normal"
          ],
          [
           "Normal"
          ],
          [
           "Normal"
          ],
          [
           "Normal"
          ],
          [
           "Normal"
          ],
          [
           "Normal"
          ],
          [
           "Normal"
          ],
          [
           "Normal"
          ],
          [
           "Normal"
          ],
          [
           "Normal"
          ],
          [
           "Normal"
          ],
          [
           "Normal"
          ],
          [
           "Partial"
          ],
          [
           "Normal"
          ],
          [
           "Normal"
          ],
          [
           "Abnorml"
          ],
          [
           "Partial"
          ],
          [
           "Partial"
          ],
          [
           "Normal"
          ],
          [
           "Normal"
          ],
          [
           "Normal"
          ],
          [
           "Abnorml"
          ],
          [
           "Normal"
          ],
          [
           "Normal"
          ],
          [
           "Normal"
          ],
          [
           "Normal"
          ],
          [
           "Normal"
          ],
          [
           "Normal"
          ],
          [
           "Normal"
          ],
          [
           "Normal"
          ],
          [
           "Normal"
          ],
          [
           "Normal"
          ],
          [
           "Normal"
          ],
          [
           "Normal"
          ],
          [
           "Normal"
          ],
          [
           "Normal"
          ],
          [
           "Normal"
          ],
          [
           "Normal"
          ],
          [
           "Normal"
          ],
          [
           "Normal"
          ],
          [
           "Normal"
          ],
          [
           "Normal"
          ],
          [
           "Normal"
          ],
          [
           "Abnorml"
          ],
          [
           "Normal"
          ],
          [
           "Normal"
          ],
          [
           "Abnorml"
          ],
          [
           "Normal"
          ],
          [
           "Normal"
          ],
          [
           "Normal"
          ],
          [
           "Normal"
          ],
          [
           "Normal"
          ],
          [
           "Normal"
          ],
          [
           "Normal"
          ],
          [
           "Normal"
          ],
          [
           "Normal"
          ],
          [
           "Normal"
          ],
          [
           "Normal"
          ],
          [
           "Normal"
          ],
          [
           "Normal"
          ],
          [
           "Normal"
          ],
          [
           "Normal"
          ],
          [
           "Normal"
          ],
          [
           "Normal"
          ],
          [
           "Normal"
          ],
          [
           "Abnorml"
          ],
          [
           "Normal"
          ],
          [
           "Normal"
          ],
          [
           "Family"
          ],
          [
           "Normal"
          ],
          [
           "Normal"
          ],
          [
           "Normal"
          ],
          [
           "Normal"
          ],
          [
           "Partial"
          ],
          [
           "Abnorml"
          ],
          [
           "Normal"
          ],
          [
           "Normal"
          ],
          [
           "Normal"
          ],
          [
           "Normal"
          ],
          [
           "Normal"
          ],
          [
           "Normal"
          ],
          [
           "Partial"
          ],
          [
           "Normal"
          ],
          [
           "Normal"
          ],
          [
           "Normal"
          ],
          [
           "Normal"
          ],
          [
           "Normal"
          ],
          [
           "Partial"
          ],
          [
           "Abnorml"
          ],
          [
           "Normal"
          ],
          [
           "Normal"
          ],
          [
           "Normal"
          ],
          [
           "Normal"
          ],
          [
           "Family"
          ],
          [
           "Normal"
          ],
          [
           "Normal"
          ],
          [
           "Normal"
          ],
          [
           "Abnorml"
          ],
          [
           "Normal"
          ],
          [
           "Normal"
          ],
          [
           "Normal"
          ],
          [
           "Normal"
          ],
          [
           "Abnorml"
          ],
          [
           "Normal"
          ],
          [
           "Normal"
          ],
          [
           "Normal"
          ],
          [
           "Abnorml"
          ],
          [
           "Normal"
          ],
          [
           "Partial"
          ],
          [
           "Normal"
          ],
          [
           "Normal"
          ],
          [
           "Family"
          ],
          [
           "Normal"
          ],
          [
           "Normal"
          ],
          [
           "Normal"
          ],
          [
           "Normal"
          ],
          [
           "Normal"
          ],
          [
           "Normal"
          ],
          [
           "Abnorml"
          ],
          [
           "Normal"
          ],
          [
           "Normal"
          ],
          [
           "Normal"
          ],
          [
           "Normal"
          ],
          [
           "Normal"
          ],
          [
           "Partial"
          ],
          [
           "Normal"
          ],
          [
           "Normal"
          ],
          [
           "Normal"
          ],
          [
           "Normal"
          ],
          [
           "Alloca"
          ],
          [
           "Normal"
          ],
          [
           "Partial"
          ],
          [
           "Normal"
          ],
          [
           "Normal"
          ],
          [
           "Normal"
          ],
          [
           "Normal"
          ],
          [
           "Normal"
          ],
          [
           "Normal"
          ],
          [
           "Normal"
          ],
          [
           "Normal"
          ],
          [
           "Normal"
          ],
          [
           "Normal"
          ],
          [
           "Normal"
          ],
          [
           "Normal"
          ],
          [
           "Normal"
          ],
          [
           "Normal"
          ],
          [
           "Normal"
          ],
          [
           "Partial"
          ],
          [
           "Abnorml"
          ],
          [
           "Normal"
          ],
          [
           "Normal"
          ],
          [
           "Normal"
          ],
          [
           "Abnorml"
          ],
          [
           "Normal"
          ],
          [
           "Normal"
          ],
          [
           "Normal"
          ],
          [
           "Normal"
          ],
          [
           "Normal"
          ],
          [
           "Normal"
          ],
          [
           "Normal"
          ],
          [
           "Normal"
          ],
          [
           "Normal"
          ],
          [
           "Partial"
          ],
          [
           "Normal"
          ],
          [
           "Normal"
          ],
          [
           "Normal"
          ],
          [
           "Abnorml"
          ],
          [
           "Normal"
          ],
          [
           "Normal"
          ],
          [
           "Normal"
          ],
          [
           "Normal"
          ],
          [
           "Normal"
          ],
          [
           "Normal"
          ],
          [
           "Normal"
          ],
          [
           "Normal"
          ],
          [
           "Partial"
          ],
          [
           "Normal"
          ],
          [
           "Normal"
          ],
          [
           "Normal"
          ],
          [
           "Normal"
          ],
          [
           "Normal"
          ],
          [
           "Normal"
          ],
          [
           "Normal"
          ],
          [
           "Partial"
          ],
          [
           "Normal"
          ],
          [
           "Abnorml"
          ],
          [
           "Abnorml"
          ],
          [
           "Normal"
          ],
          [
           "Normal"
          ],
          [
           "Normal"
          ],
          [
           "Normal"
          ],
          [
           "Normal"
          ],
          [
           "Normal"
          ],
          [
           "Normal"
          ],
          [
           "Partial"
          ],
          [
           "Normal"
          ],
          [
           "Normal"
          ],
          [
           "Normal"
          ],
          [
           "Normal"
          ],
          [
           "Abnorml"
          ],
          [
           "Abnorml"
          ],
          [
           "Normal"
          ],
          [
           "Normal"
          ],
          [
           "Normal"
          ],
          [
           "Abnorml"
          ],
          [
           "Normal"
          ],
          [
           "Normal"
          ],
          [
           "Partial"
          ],
          [
           "Family"
          ],
          [
           "Partial"
          ],
          [
           "Normal"
          ],
          [
           "Abnorml"
          ],
          [
           "Partial"
          ],
          [
           "Normal"
          ],
          [
           "Normal"
          ],
          [
           "Normal"
          ],
          [
           "Normal"
          ],
          [
           "Normal"
          ],
          [
           "Normal"
          ],
          [
           "Normal"
          ],
          [
           "Normal"
          ],
          [
           "Normal"
          ],
          [
           "Normal"
          ],
          [
           "Normal"
          ],
          [
           "Normal"
          ],
          [
           "Normal"
          ],
          [
           "Normal"
          ],
          [
           "Normal"
          ],
          [
           "Normal"
          ],
          [
           "Normal"
          ],
          [
           "Abnorml"
          ],
          [
           "Normal"
          ],
          [
           "Normal"
          ],
          [
           "Normal"
          ],
          [
           "Normal"
          ],
          [
           "Normal"
          ],
          [
           "Normal"
          ],
          [
           "Normal"
          ],
          [
           "Normal"
          ],
          [
           "Normal"
          ],
          [
           "Normal"
          ],
          [
           "Normal"
          ],
          [
           "Normal"
          ],
          [
           "Normal"
          ],
          [
           "Normal"
          ],
          [
           "Abnorml"
          ],
          [
           "Normal"
          ],
          [
           "Normal"
          ],
          [
           "Normal"
          ],
          [
           "Normal"
          ],
          [
           "Normal"
          ],
          [
           "Normal"
          ],
          [
           "Normal"
          ],
          [
           "Normal"
          ],
          [
           "Normal"
          ],
          [
           "Partial"
          ],
          [
           "Normal"
          ],
          [
           "Normal"
          ],
          [
           "Normal"
          ],
          [
           "Normal"
          ],
          [
           "Normal"
          ],
          [
           "Normal"
          ],
          [
           "Normal"
          ],
          [
           "Partial"
          ],
          [
           "Partial"
          ],
          [
           "Normal"
          ],
          [
           "Normal"
          ],
          [
           "Normal"
          ],
          [
           "Normal"
          ],
          [
           "Normal"
          ],
          [
           "Normal"
          ],
          [
           "Normal"
          ],
          [
           "Partial"
          ],
          [
           "Normal"
          ],
          [
           "Normal"
          ],
          [
           "Normal"
          ],
          [
           "Normal"
          ],
          [
           "Partial"
          ],
          [
           "Normal"
          ],
          [
           "Normal"
          ],
          [
           "Normal"
          ],
          [
           "Normal"
          ],
          [
           "Normal"
          ],
          [
           "Partial"
          ],
          [
           "Normal"
          ],
          [
           "Normal"
          ],
          [
           "Normal"
          ],
          [
           "Normal"
          ],
          [
           "Normal"
          ],
          [
           "Normal"
          ],
          [
           "Partial"
          ],
          [
           "Normal"
          ],
          [
           "Normal"
          ],
          [
           "Normal"
          ],
          [
           "Normal"
          ],
          [
           "Normal"
          ],
          [
           "Normal"
          ],
          [
           "Normal"
          ],
          [
           "Normal"
          ],
          [
           "Normal"
          ],
          [
           "Normal"
          ],
          [
           "Normal"
          ],
          [
           "Normal"
          ],
          [
           "Normal"
          ],
          [
           "Normal"
          ],
          [
           "Normal"
          ],
          [
           "Normal"
          ],
          [
           "Normal"
          ],
          [
           "Normal"
          ],
          [
           "Normal"
          ],
          [
           "Partial"
          ],
          [
           "Normal"
          ],
          [
           "Normal"
          ],
          [
           "Partial"
          ],
          [
           "Normal"
          ],
          [
           "Normal"
          ],
          [
           "Normal"
          ],
          [
           "Normal"
          ],
          [
           "Normal"
          ],
          [
           "Normal"
          ],
          [
           "Normal"
          ],
          [
           "Normal"
          ],
          [
           "Normal"
          ],
          [
           "Normal"
          ],
          [
           "Normal"
          ],
          [
           "Normal"
          ],
          [
           "Normal"
          ],
          [
           "Normal"
          ],
          [
           "Normal"
          ],
          [
           "Partial"
          ],
          [
           "Abnorml"
          ],
          [
           "Normal"
          ],
          [
           "Abnorml"
          ],
          [
           "Normal"
          ],
          [
           "Normal"
          ],
          [
           "Normal"
          ],
          [
           "Normal"
          ],
          [
           "Normal"
          ],
          [
           "Normal"
          ],
          [
           "Normal"
          ],
          [
           "Normal"
          ],
          [
           "Partial"
          ],
          [
           "Normal"
          ],
          [
           "Normal"
          ],
          [
           "Normal"
          ],
          [
           "Normal"
          ],
          [
           "Normal"
          ],
          [
           "Normal"
          ],
          [
           "Normal"
          ],
          [
           "Normal"
          ],
          [
           "Normal"
          ],
          [
           "Normal"
          ],
          [
           "Normal"
          ],
          [
           "Family"
          ],
          [
           "Normal"
          ],
          [
           "Normal"
          ],
          [
           "Normal"
          ],
          [
           "Normal"
          ],
          [
           "Normal"
          ],
          [
           "Normal"
          ],
          [
           "Partial"
          ],
          [
           "Normal"
          ],
          [
           "Normal"
          ],
          [
           "Normal"
          ],
          [
           "Normal"
          ],
          [
           "Normal"
          ],
          [
           "Normal"
          ],
          [
           "Normal"
          ],
          [
           "Partial"
          ],
          [
           "Normal"
          ],
          [
           "Family"
          ],
          [
           "Normal"
          ],
          [
           "Normal"
          ],
          [
           "Normal"
          ],
          [
           "Normal"
          ],
          [
           "Normal"
          ],
          [
           "Normal"
          ],
          [
           "Normal"
          ],
          [
           "Normal"
          ],
          [
           "Abnorml"
          ],
          [
           "Normal"
          ],
          [
           "Normal"
          ],
          [
           "Normal"
          ],
          [
           "Normal"
          ],
          [
           "Normal"
          ],
          [
           "Normal"
          ],
          [
           "Normal"
          ],
          [
           "Normal"
          ],
          [
           "Normal"
          ],
          [
           "Alloca"
          ],
          [
           "Normal"
          ],
          [
           "Normal"
          ],
          [
           "Normal"
          ],
          [
           "Normal"
          ],
          [
           "Abnorml"
          ],
          [
           "Normal"
          ],
          [
           "Normal"
          ],
          [
           "Normal"
          ],
          [
           "Normal"
          ],
          [
           "Normal"
          ],
          [
           "Normal"
          ],
          [
           "Abnorml"
          ],
          [
           "Normal"
          ],
          [
           "Partial"
          ],
          [
           "Normal"
          ],
          [
           "Normal"
          ],
          [
           "Normal"
          ],
          [
           "Normal"
          ],
          [
           "Normal"
          ],
          [
           "Normal"
          ],
          [
           "Normal"
          ],
          [
           "Normal"
          ],
          [
           "Normal"
          ],
          [
           "Normal"
          ],
          [
           "Normal"
          ],
          [
           "Abnorml"
          ],
          [
           "Normal"
          ],
          [
           "Partial"
          ],
          [
           "Normal"
          ],
          [
           "Abnorml"
          ],
          [
           "Normal"
          ],
          [
           "Normal"
          ],
          [
           "Normal"
          ],
          [
           "Normal"
          ],
          [
           "Normal"
          ],
          [
           "Normal"
          ]
         ],
         "hovertemplate": "SalePrice=%{x}<br>OverallQual=%{y}<br>SaleCondition=%{customdata[0]}<br>GarageArea=%{marker.color}<extra></extra>",
         "legendgroup": "",
         "marker": {
          "color": [
           548,
           460,
           608,
           642,
           836,
           480,
           636,
           484,
           468,
           205,
           384,
           736,
           352,
           840,
           352,
           576,
           480,
           516,
           576,
           294,
           853,
           280,
           534,
           572,
           270,
           890,
           576,
           772,
           319,
           240,
           250,
           271,
           484,
           447,
           556,
           691,
           672,
           498,
           246,
           0,
           440,
           308,
           504,
           308,
           300,
           576,
           670,
           826,
           0,
           386,
           388,
           528,
           516,
           894,
           572,
           576,
           480,
           565,
           641,
           352,
           576,
           288,
           484,
           480,
           645,
           852,
           576,
           558,
           220,
           667,
           516,
           360,
           427,
           490,
           379,
           297,
           283,
           240,
           0,
           440,
           509,
           405,
           758,
           461,
           400,
           462,
           400,
           528,
           0,
           0,
           420,
           480,
           432,
           506,
           684,
           420,
           472,
           432,
           366,
           0,
           480,
           476,
           410,
           740,
           240,
           648,
           273,
           250,
           0,
           546,
           325,
           400,
           792,
           450,
           180,
           440,
           288,
           430,
           594,
           390,
           540,
           264,
           288,
           530,
           435,
           0,
           440,
           0,
           453,
           750,
           487,
           390,
           624,
           471,
           440,
           530,
           318,
           766,
           660,
           470,
           0,
           660,
           720,
           577,
           504,
           380,
           180,
           434,
           0,
           240,
           440,
           866,
           495,
           564,
           312,
           0,
           625,
           680,
           678,
           576,
           516,
           726,
           532,
           0,
           216,
           0,
           303,
           789,
           440,
           511,
           660,
           528,
           504,
           504,
           616,
           576,
           521,
           451,
           1166,
           480,
           440,
           216,
           252,
           484,
           576,
           840,
           497,
           180,
           528,
           682,
           440,
           484,
           666,
           380,
           352,
           440,
           786,
           795,
           0,
           856,
           440,
           473,
           398,
           420,
           240,
           500,
           349,
           312,
           454,
           504,
           0,
           460,
           644,
           576,
           299,
           447,
           484,
           210,
           431,
           438,
           675,
           390,
           434,
           576,
           968,
           280,
           721,
           280,
           336,
           430,
           312,
           810,
           288,
           308,
           440,
           264,
           494,
           457,
           818,
           220,
           750,
           0,
           352,
           288,
           463,
           604,
           440,
           451,
           500,
           389,
           0,
           538,
           520,
           309,
           294,
           429,
           673,
           660,
           564,
           308,
           884,
           868,
           492,
           484,
           504,
           576,
           413,
           240,
           924,
           504,
           1053,
           439,
           671,
           338,
           264,
           672,
           573,
           400,
           732,
           505,
           575,
           572,
           626,
           898,
           529,
           528,
           440,
           0,
           280,
           384,
           685,
           0,
           281,
           539,
           418,
           588,
           282,
           576,
           539,
           300,
           375,
           683,
           843,
           552,
           870,
           888,
           746,
           0,
           539,
           708,
           420,
           240,
           410,
           513,
           546,
           432,
           484,
           1025,
           656,
           588,
           840,
           872,
           576,
           220,
           564,
           360,
           473,
           292,
           441,
           189,
           352,
           308,
           880,
           484,
           472,
           529,
           676,
           532,
           440,
           297,
           431,
           294,
           400,
           564,
           336,
           312,
           301,
           498,
           474,
           706,
           617,
           445,
           200,
           484,
           240,
           521,
           400,
           528,
           288,
           592,
           470,
           240,
           672,
           264,
           566,
           468,
           514,
           296,
           244,
           576,
           460,
           680,
           264,
           270,
           434,
           0,
           576,
           610,
           834,
           463,
           308,
           572,
           639,
           360,
           501,
           430,
           0,
           352,
           577,
           846,
           384,
           560,
           294,
           0,
           240,
           596,
           600,
           264,
           338,
           438,
           500,
           400,
           240,
           420,
           373,
           490,
           240,
           308,
           947,
           836,
           350,
           572,
           484,
           360,
           678,
           396,
           440,
           864,
           240,
           304,
           784,
           529,
           520,
           696,
           297,
           240,
           569,
           352,
           628,
           576,
           264,
           0,
           440,
           470,
           0,
           550,
           440,
           180,
           352,
           528,
           672,
           0,
           360,
           648,
           493,
           480,
           578,
           431,
           198,
           308,
           270,
           576,
           422,
           676,
           560,
           528,
           513,
           529,
           228,
           352,
           552,
           576,
           360,
           240,
           0,
           398,
           526,
           312,
           866,
           506,
           528,
           534,
           525,
           908,
           499,
           624,
           508,
           694,
           826,
           672,
           772,
           874,
           164,
           402,
           264,
           264,
           515,
           487,
           520,
           286,
           336,
           240,
           429,
           308,
           273,
           0,
           546,
           240,
           288,
           297,
           264,
           603,
           461,
           484,
           440,
           400,
           471,
           676,
           360,
           270,
           288,
           474,
           624,
           484,
           200,
           900,
           583,
           889,
           546,
           282,
           0,
           336,
           420,
           884,
           834,
           453,
           252,
           858,
           0,
           484,
           600,
           502,
           392,
           0,
           403,
           0,
           527,
           576,
           336,
           670,
           765,
           648,
           583,
           367,
           426,
           786,
           440,
           624,
           720,
           615,
           440,
           288,
           908,
           520,
           871,
           280,
           299,
           570,
           406,
           420,
           528,
           418,
           0,
           396,
           590,
           216,
           656,
           532,
           612,
           600,
           576,
           288,
           650,
           400,
           288,
           336,
           216,
           564,
           540,
           352,
           572,
           1390,
           0,
           880,
           240,
           880,
           275,
           528,
           452,
           308,
           520,
           842,
           816,
           420,
           280,
           758,
           216,
           648,
           621,
           452,
           736,
           544,
           506,
           480,
           530,
           486,
           576,
           230,
           380,
           261,
           736,
           564,
           531,
           0,
           0,
           480,
           393,
           528,
           774,
           749,
           0,
           624,
           484,
           440,
           484,
           440,
           286,
           364,
           504,
           520,
           240,
           627,
           544,
           260,
           576,
           0,
           0,
           256,
           0,
           648,
           588,
           650,
           538,
           462,
           478,
           576,
           420,
           495,
           442,
           0,
           562,
           296,
           512,
           216,
           839,
           264,
           312,
           270,
           330,
           480,
           550,
           711,
           576,
           588,
           1134,
           504,
           596,
           575,
           576,
           252,
           540,
           300,
           546,
           416,
           384,
           440,
           779,
           240,
           834,
           572,
           264,
           281,
           431,
           702,
           486,
           577,
           578,
           480,
           567,
           460,
           420,
           832,
           628,
           326,
           576,
           551,
           205,
           308,
           336,
           530,
           765,
           528,
           666,
           672,
           606,
           0,
           739,
           550,
           400,
           408,
           0,
           384,
           472,
           576,
           475,
           478,
           704,
           439,
           983,
           300,
           564,
           420,
           463,
           548,
           768,
           660,
           540,
           632,
           888,
           539,
           608,
           438,
           541,
           264,
           300,
           320,
           400,
           800,
           0,
           572,
           360,
           288,
           539,
           480,
           462,
           831,
           554,
           864,
           527,
           240,
           0,
           400,
           576,
           878,
           440,
           440,
           578,
           440,
           440,
           752,
           300,
           440,
           614,
           856,
           481,
           592,
           496,
           423,
           484,
           841,
           576,
           396,
           672,
           275,
           895,
           412,
           865,
           440,
           630,
           504,
           402,
           484,
           605,
           602,
           0,
           457,
           416,
           618,
           281,
           444,
           397,
           539,
           455,
           474,
           409,
           476,
           528,
           240,
           820,
           240,
           603,
           440,
           410,
           1020,
           286,
           554,
           384,
           528,
           484,
           360,
           484,
           420,
           504,
           301,
           280,
           598,
           275,
           857,
           440,
           484,
           595,
           576,
           433,
           240,
           776,
           1220,
           0,
           527,
           538,
           480,
           458,
           480,
           613,
           472,
           456,
           436,
           812,
           264,
           352,
           240,
           400,
           686,
           490,
           0,
           720,
           611,
           425,
           338,
           360,
           512,
           420,
           400,
           240,
           645,
           454,
           260,
           576,
           343,
           479,
           619,
           216,
           504,
           480,
           672,
           529,
           902,
           870,
           544,
           672,
           574,
           308,
           523,
           414,
           288,
           200,
           550,
           648,
           738,
           576,
           336,
           450,
           400,
           389,
           440,
           288,
           506,
           588,
           300,
           621,
           505,
           576,
           440,
           264,
           354,
           400,
           483,
           327,
           528,
           820,
           288,
           684,
           756,
           393,
           690,
           288,
           280,
           865,
           180,
           484,
           390,
           480,
           252,
           450,
           871,
           528,
           286,
           308,
           284,
           833,
           601,
           471,
           0,
           397,
           533,
           612,
           540,
           656,
           486,
           522,
           642,
           610,
           429,
           788,
           570,
           505,
           528,
           555,
           689,
           868,
           349,
           574,
           390,
           0,
           576,
           525,
           456,
           796,
           808,
           474,
           676,
           720,
           300,
           396,
           530,
           0,
           492,
           462,
           576,
           531,
           484,
           0,
           619,
           440,
           702,
           510,
           393,
           256,
           260,
           0,
           264,
           0,
           474,
           264,
           480,
           532,
           490,
           0,
           569,
           400,
           480,
           588,
           676,
           388,
           779,
           539,
           240,
           255,
           606,
           551,
           614,
           870,
           424,
           440,
           564,
           786,
           305,
           368,
           615,
           210,
           632,
           528,
           216,
           824,
           528,
           457,
           328,
           484,
           286,
           550,
           0,
           312,
           0,
           180,
           280,
           240,
           528,
           478,
           565,
           402,
           440,
           451,
           632,
           160,
           437,
           665,
           461,
           461,
           800,
           240,
           264,
           0,
           672,
           796,
           900,
           240,
           290,
           912,
           905,
           0,
           286,
           484,
           484,
           624,
           514,
           542,
           452,
           716,
           672,
           336,
           308,
           436,
           440,
           540,
           364,
           586,
           478,
           484,
           467,
           836,
           432,
           582,
           1248,
           560,
           440,
           480,
           533,
           380,
           442,
           576,
           576,
           286,
           441,
           280,
           440,
           826,
           240,
           566,
           299,
           420,
           299,
           528,
           308,
           527,
           461,
           409,
           564,
           286,
           1043,
           380,
           550,
           400,
           462,
           576,
           884,
           308,
           440,
           0,
           461,
           240,
           478,
           246,
           280,
           254,
           539,
           440,
           712,
           719,
           422,
           463,
           862,
           431,
           483,
           308,
           240,
           326,
           928,
           527,
           450,
           300,
           286,
           308,
           782,
           288,
           0,
           392,
           672,
           660,
           630,
           434,
           672,
           576,
           0,
           205,
           466,
           460,
           180,
           288,
           0,
           714,
           495,
           840,
           484,
           1052,
           0,
           280,
           225,
           403,
           234,
           288,
           324,
           306,
           528,
           470,
           432,
           492,
           528,
           502,
           626,
           830,
           540,
           440,
           924,
           450,
           400,
           588,
           644,
           776,
           472,
           540,
           807,
           358,
           433,
           625,
           0,
           360,
           541,
           264,
           210,
           186,
           0,
           693,
           482,
           813,
           720,
           995,
           392,
           420,
           757,
           493,
           442,
           1356,
           492,
           250,
           402,
           299,
           400,
           660,
           225,
           573,
           459,
           280,
           546,
           216,
           451,
           495,
           701,
           384,
           544,
           506,
           500,
           462,
           492,
           234,
           364,
           300,
           384,
           539,
           552,
           0,
           0,
           288,
           322,
           315,
           528,
           388,
           264,
           668,
           576,
           1052,
           404,
           600,
           540,
           462,
           531,
           0,
           180,
           474,
           434,
           484,
           472,
           543,
           954,
           528,
           850,
           400,
           477,
           615,
           888,
           396,
           276,
           522,
           478,
           288,
           518,
           397,
           560,
           691,
           0,
           400,
           460,
           502,
           338,
           304,
           520,
           511,
           506,
           308,
           746,
           1014,
           315,
           586,
           462,
           288,
           312,
           552,
           400,
           497,
           480,
           577,
           528,
           544,
           484,
           484,
           0,
           336,
           280,
           528,
           390,
           499,
           753,
           484,
           264,
           432,
           528,
           572,
           288,
           525,
           525,
           1418,
           305,
           490,
           213,
           844,
           834,
           380,
           840,
           474,
           480,
           528,
           496,
           567,
           508,
           750,
           779,
           280,
           576,
           860,
           466,
           748,
           248,
           442,
           287,
           564,
           0,
           895,
           0,
           0,
           264,
           520,
           462,
           825,
           576,
           288,
           297,
           440,
           630,
           506,
           0,
           492,
           288,
           480,
           576,
           647,
           342,
           440,
           308,
           508,
           712,
           514,
           0,
           968,
           490,
           624,
           666,
           839,
           487,
           264,
           500,
           440,
           770,
           621,
           430,
           368,
           432,
           480,
           663,
           588,
           336,
           420,
           502,
           338,
           377,
           583,
           804,
           936,
           722,
           160,
           660,
           264,
           400,
           200,
           550,
           576,
           576,
           280,
           240,
           564,
           216,
           758,
           440,
           541,
           792,
           288,
           672,
           648,
           642,
           572,
           180,
           240,
           216,
           208,
           398,
           662,
           754,
           936,
           482,
           396,
           0,
           528,
           542,
           622,
           271,
           420,
           620,
           370,
           660,
           560,
           1069,
           336,
           540,
           776,
           440,
           420,
           432,
           484,
           528,
           525,
           288,
           240,
           467,
           372,
           440,
           216,
           451,
           484,
           462,
           528,
           774,
           923,
           550,
           672,
           420,
           812,
           192,
           626,
           240,
           312,
           556,
           384,
           0,
           0,
           840,
           525,
           0,
           400,
           460,
           500,
           252,
           240,
           276
          ],
          "coloraxis": "coloraxis",
          "opacity": 0.9,
          "size": 5,
          "symbol": "circle"
         },
         "mode": "markers",
         "name": "",
         "showlegend": false,
         "type": "scattergl",
         "x": [
          208500,
          181500,
          223500,
          140000,
          250000,
          143000,
          307000,
          200000,
          129900,
          118000,
          129500,
          345000,
          144000,
          279500,
          157000,
          132000,
          149000,
          90000,
          159000,
          139000,
          325300,
          139400,
          230000,
          129900,
          154000,
          256300,
          134800,
          306000,
          207500,
          68500,
          40000,
          149350,
          179900,
          165500,
          277500,
          309000,
          145000,
          153000,
          109000,
          82000,
          160000,
          170000,
          144000,
          130250,
          141000,
          319900,
          239686,
          249700,
          113000,
          127000,
          177000,
          114500,
          110000,
          385000,
          130000,
          180500,
          172500,
          196500,
          438780,
          124900,
          158000,
          101000,
          202500,
          140000,
          219500,
          317000,
          180000,
          226000,
          80000,
          225000,
          244000,
          129500,
          185000,
          144900,
          107400,
          91000,
          135750,
          127000,
          136500,
          110000,
          193500,
          153500,
          245000,
          126500,
          168500,
          260000,
          174000,
          164500,
          85000,
          123600,
          109900,
          98600,
          163500,
          133900,
          204750,
          185000,
          214000,
          94750,
          83000,
          128950,
          205000,
          178000,
          118964,
          198900,
          169500,
          250000,
          100000,
          115000,
          115000,
          190000,
          136900,
          180000,
          383970,
          217000,
          259500,
          176000,
          139000,
          155000,
          320000,
          163990,
          180000,
          100000,
          136000,
          153900,
          181000,
          84500,
          128000,
          87000,
          155000,
          150000,
          226000,
          244000,
          150750,
          220000,
          180000,
          174000,
          143000,
          171000,
          230000,
          231500,
          115000,
          260000,
          166000,
          204000,
          125000,
          130000,
          105000,
          222500,
          141000,
          115000,
          122000,
          372402,
          190000,
          235000,
          125000,
          79000,
          109500,
          269500,
          254900,
          320000,
          162500,
          412500,
          220000,
          103200,
          152000,
          127500,
          190000,
          325624,
          183500,
          228000,
          128500,
          215000,
          239000,
          163000,
          184000,
          243000,
          211000,
          172500,
          501837,
          100000,
          177000,
          200100,
          120000,
          200000,
          127000,
          475000,
          173000,
          135000,
          153337,
          286000,
          315000,
          184000,
          192000,
          130000,
          127000,
          148500,
          311872,
          235000,
          104000,
          274900,
          140000,
          171500,
          112000,
          149000,
          110000,
          180500,
          143900,
          141000,
          277000,
          145000,
          98000,
          186000,
          252678,
          156000,
          161750,
          134450,
          210000,
          107000,
          311500,
          167240,
          204900,
          200000,
          179900,
          97000,
          386250,
          112000,
          290000,
          106000,
          125000,
          192500,
          148000,
          403000,
          94500,
          128200,
          216500,
          89500,
          185500,
          194500,
          318000,
          113000,
          262500,
          110500,
          79000,
          120000,
          205000,
          241500,
          137000,
          140000,
          180000,
          277000,
          76500,
          235000,
          173000,
          158000,
          145000,
          230000,
          207500,
          220000,
          231500,
          97000,
          176000,
          276000,
          151000,
          130000,
          73000,
          175500,
          185000,
          179500,
          120500,
          148000,
          266000,
          241500,
          290000,
          139000,
          124500,
          205000,
          201000,
          141000,
          415298,
          192000,
          228500,
          185000,
          207500,
          244600,
          179200,
          164700,
          159000,
          88000,
          122000,
          153575,
          233230,
          135900,
          131000,
          235000,
          167000,
          142500,
          152000,
          239000,
          175000,
          158500,
          157000,
          267000,
          205000,
          149900,
          295000,
          305900,
          225000,
          89500,
          82500,
          360000,
          165600,
          132000,
          119900,
          375000,
          178000,
          188500,
          260000,
          270000,
          260000,
          187500,
          342643,
          354000,
          301000,
          126175,
          242000,
          87000,
          324000,
          145250,
          214500,
          78000,
          119000,
          139000,
          284000,
          207000,
          192000,
          228950,
          377426,
          214000,
          202500,
          155000,
          202900,
          82000,
          87500,
          266000,
          85000,
          140200,
          151500,
          157500,
          154000,
          437154,
          318061,
          190000,
          95000,
          105900,
          140000,
          177500,
          173000,
          134000,
          130000,
          280000,
          156000,
          145000,
          198500,
          118000,
          190000,
          147000,
          159000,
          165000,
          132000,
          162000,
          172400,
          134432,
          125000,
          123000,
          219500,
          61000,
          148000,
          340000,
          394432,
          179000,
          127000,
          187750,
          213500,
          76000,
          240000,
          192000,
          81000,
          125000,
          191000,
          426000,
          119000,
          215000,
          106500,
          100000,
          109000,
          129000,
          123000,
          169500,
          67000,
          241000,
          245500,
          164990,
          108000,
          258000,
          168000,
          150000,
          115000,
          177000,
          280000,
          339750,
          60000,
          145000,
          222000,
          115000,
          228000,
          181134,
          149500,
          239000,
          126000,
          142000,
          206300,
          215000,
          113000,
          315000,
          139000,
          135000,
          275000,
          109008,
          195400,
          175000,
          85400,
          79900,
          122500,
          181000,
          81000,
          212000,
          116000,
          119000,
          90350,
          110000,
          555000,
          118000,
          162900,
          172500,
          210000,
          127500,
          190000,
          199900,
          119500,
          120000,
          110000,
          280000,
          204000,
          210000,
          188000,
          175500,
          98000,
          256000,
          161000,
          110000,
          263435,
          155000,
          62383,
          188700,
          124000,
          178740,
          167000,
          146500,
          250000,
          187000,
          212000,
          190000,
          148000,
          440000,
          251000,
          132500,
          208900,
          380000,
          297000,
          89471,
          326000,
          374000,
          155000,
          164000,
          132500,
          147000,
          156000,
          175000,
          160000,
          86000,
          115000,
          133000,
          172785,
          155000,
          91300,
          34900,
          430000,
          184000,
          130000,
          120000,
          113000,
          226700,
          140000,
          289000,
          147000,
          124500,
          215000,
          208300,
          161000,
          124500,
          164900,
          202665,
          129900,
          134000,
          96500,
          402861,
          158000,
          265000,
          211000,
          234000,
          106250,
          150000,
          159000,
          184750,
          315750,
          176000,
          132000,
          446261,
          86000,
          200624,
          175000,
          128000,
          107500,
          39300,
          178000,
          107500,
          188000,
          111250,
          158000,
          272000,
          315000,
          248000,
          213250,
          133000,
          179665,
          229000,
          210000,
          129500,
          125000,
          263000,
          140000,
          112500,
          255500,
          108000,
          284000,
          113000,
          141000,
          108000,
          175000,
          234000,
          121500,
          170000,
          108000,
          185000,
          268000,
          128000,
          325000,
          214000,
          316600,
          135960,
          142600,
          120000,
          224500,
          170000,
          139000,
          118500,
          145000,
          164500,
          146000,
          131500,
          181900,
          253293,
          118500,
          325000,
          133000,
          369900,
          130000,
          137000,
          143000,
          79500,
          185900,
          451950,
          138000,
          140000,
          110000,
          319000,
          114504,
          194201,
          217500,
          151000,
          275000,
          141000,
          220000,
          151000,
          221000,
          205000,
          152000,
          225000,
          359100,
          118500,
          313000,
          148000,
          261500,
          147000,
          75500,
          137500,
          183200,
          105500,
          314813,
          305000,
          67000,
          240000,
          135000,
          168500,
          165150,
          160000,
          139900,
          153000,
          135000,
          168500,
          124000,
          209500,
          82500,
          139400,
          144000,
          200000,
          60000,
          93000,
          85000,
          264561,
          274000,
          226000,
          345000,
          152000,
          370878,
          143250,
          98300,
          155000,
          155000,
          84500,
          205950,
          108000,
          191000,
          135000,
          350000,
          88000,
          145500,
          149000,
          97500,
          167000,
          197900,
          402000,
          110000,
          137500,
          423000,
          230500,
          129000,
          193500,
          168000,
          137500,
          173500,
          103600,
          165000,
          257500,
          140000,
          148500,
          87000,
          109500,
          372500,
          128500,
          143000,
          159434,
          173000,
          285000,
          221000,
          207500,
          227875,
          148800,
          392000,
          194700,
          141000,
          755000,
          335000,
          108480,
          141500,
          176000,
          89000,
          123500,
          138500,
          196000,
          312500,
          140000,
          361919,
          140000,
          213000,
          55000,
          302000,
          254000,
          179540,
          109900,
          52000,
          102776,
          189000,
          129000,
          130500,
          165000,
          159500,
          157000,
          341000,
          128500,
          275000,
          143000,
          124500,
          135000,
          320000,
          120500,
          222000,
          194500,
          110000,
          103000,
          236500,
          187500,
          222500,
          131400,
          108000,
          163000,
          93500,
          239900,
          179000,
          190000,
          132000,
          142000,
          179000,
          175000,
          180000,
          299800,
          236000,
          265979,
          260400,
          98000,
          96500,
          162000,
          217000,
          275500,
          156000,
          172500,
          212000,
          158900,
          179400,
          290000,
          127500,
          100000,
          215200,
          337000,
          270000,
          264132,
          196500,
          160000,
          216837,
          538000,
          134900,
          102000,
          107000,
          114500,
          395000,
          162000,
          221500,
          142500,
          144000,
          135000,
          176000,
          175900,
          187100,
          165500,
          128000,
          161500,
          139000,
          233000,
          107900,
          187500,
          160200,
          146800,
          269790,
          225000,
          194500,
          171000,
          143500,
          110000,
          485000,
          175000,
          200000,
          109900,
          189000,
          582933,
          118000,
          227680,
          135500,
          223500,
          159950,
          106000,
          181000,
          144500,
          55993,
          157900,
          116000,
          224900,
          137000,
          271000,
          155000,
          224000,
          183000,
          93000,
          225000,
          139500,
          232600,
          385000,
          109500,
          189000,
          185000,
          147400,
          166000,
          151000,
          237000,
          167000,
          139950,
          128000,
          153500,
          100000,
          144000,
          130500,
          140000,
          157500,
          174900,
          141000,
          153900,
          171000,
          213000,
          133500,
          240000,
          187000,
          131500,
          215000,
          164000,
          158000,
          170000,
          127000,
          147000,
          174000,
          152000,
          250000,
          189950,
          131500,
          152000,
          132500,
          250580,
          148500,
          248900,
          129000,
          169000,
          236000,
          109500,
          200500,
          116000,
          133000,
          66500,
          303477,
          132250,
          350000,
          148000,
          136500,
          157000,
          187500,
          178000,
          118500,
          100000,
          328900,
          145000,
          135500,
          268000,
          149500,
          122900,
          172500,
          154500,
          165000,
          118858,
          140000,
          106500,
          142953,
          611657,
          135000,
          110000,
          153000,
          180000,
          240000,
          125500,
          128000,
          255000,
          250000,
          131000,
          174000,
          154300,
          143500,
          88000,
          145000,
          173733,
          75000,
          35311,
          135000,
          238000,
          176500,
          201000,
          145900,
          169990,
          193000,
          207500,
          175000,
          285000,
          176000,
          236500,
          222000,
          201000,
          117500,
          320000,
          190000,
          242000,
          79900,
          184900,
          253000,
          239799,
          244400,
          150900,
          214000,
          150000,
          143000,
          137500,
          124900,
          143000,
          270000,
          192500,
          197500,
          129000,
          119900,
          133900,
          172000,
          127500,
          145000,
          124000,
          132000,
          185000,
          155000,
          116500,
          272000,
          155000,
          239000,
          214900,
          178900,
          160000,
          135000,
          37900,
          140000,
          135000,
          173000,
          99500,
          182000,
          167500,
          165000,
          85500,
          199900,
          110000,
          139000,
          178400,
          336000,
          159895,
          255900,
          126000,
          125000,
          117000,
          395192,
          195000,
          197000,
          348000,
          168000,
          187000,
          173900,
          337500,
          121600,
          136500,
          185000,
          91000,
          206000,
          82000,
          86000,
          232000,
          136905,
          181000,
          149900,
          163500,
          88000,
          240000,
          102000,
          135000,
          100000,
          165000,
          85000,
          119200,
          227000,
          203000,
          187500,
          160000,
          213490,
          176000,
          194000,
          87000,
          191000,
          287000,
          112500,
          167500,
          293077,
          105000,
          118000,
          160000,
          197000,
          310000,
          230000,
          119750,
          84000,
          315500,
          287000,
          97000,
          80000,
          155000,
          173000,
          196000,
          262280,
          278000,
          139600,
          556581,
          145000,
          115000,
          84900,
          176485,
          200141,
          165000,
          144500,
          255000,
          180000,
          185850,
          248000,
          335000,
          220000,
          213500,
          81000,
          90000,
          110500,
          154000,
          328000,
          178000,
          167900,
          151400,
          135000,
          135000,
          154000,
          91500,
          159500,
          194000,
          219500,
          170000,
          138800,
          155900,
          126000,
          145000,
          133000,
          192000,
          160000,
          187500,
          147000,
          83500,
          252000,
          137500,
          197000,
          92900,
          160000,
          136500,
          146000,
          129000,
          176432,
          127000,
          170000,
          128000,
          157000,
          60000,
          119500,
          135000,
          159500,
          106000,
          325000,
          179900,
          274725,
          181000,
          280000,
          188000,
          205000,
          129900,
          134500,
          117000,
          318000,
          184100,
          130000,
          140000,
          133700,
          118400,
          212900,
          112000,
          118000,
          163900,
          115000,
          174000,
          259000,
          215000,
          140000,
          135000,
          93500,
          117500,
          239500,
          169000,
          102000,
          119000,
          94000,
          196000,
          144000,
          139000,
          197500,
          424870,
          80000,
          80000,
          149000,
          180000,
          174500,
          116900,
          143000,
          124000,
          149900,
          230000,
          120500,
          201800,
          218000,
          179900,
          230000,
          235128,
          185000,
          146000,
          224000,
          129000,
          108959,
          194000,
          233170,
          245350,
          173000,
          235000,
          625000,
          171000,
          163000,
          171900,
          200500,
          239000,
          285000,
          119500,
          115000,
          154900,
          93000,
          250000,
          392500,
          745000,
          120000,
          186700,
          104900,
          95000,
          262000,
          195000,
          189000,
          168000,
          174000,
          125000,
          165000,
          158000,
          176000,
          219210,
          144000,
          178000,
          148000,
          116050,
          197900,
          117000,
          213000,
          153500,
          271900,
          107000,
          200000,
          140000,
          290000,
          189000,
          164000,
          113000,
          145000,
          134500,
          125000,
          112000,
          229456,
          80500,
          91500,
          115000,
          134000,
          143000,
          137900,
          184000,
          145000,
          214000,
          147000,
          367294,
          127000,
          190000,
          132500,
          101800,
          142000,
          130000,
          138887,
          175500,
          195000,
          142500,
          265900,
          224900,
          248328,
          170000,
          465000,
          230000,
          178000,
          186500,
          169900,
          129500,
          119000,
          244000,
          171750,
          130000,
          294000,
          165400,
          127500,
          301500,
          99900,
          190000,
          151000,
          181000,
          128900,
          161500,
          180500,
          181000,
          183900,
          122000,
          378500,
          381000,
          144000,
          260000,
          185750,
          137000,
          177000,
          139000,
          137000,
          162000,
          197900,
          237000,
          68400,
          227000,
          180000,
          150500,
          139000,
          169000,
          132500,
          143000,
          190000,
          278000,
          281000,
          180500,
          119500,
          107500,
          162900,
          115000,
          138500,
          155000,
          140000,
          160000,
          154000,
          225000,
          177500,
          290000,
          232000,
          130000,
          325000,
          202500,
          138000,
          147000,
          179200,
          335000,
          203000,
          302000,
          333168,
          119000,
          206900,
          295493,
          208900,
          275000,
          111000,
          156500,
          72500,
          190000,
          82500,
          147000,
          55000,
          79000,
          130500,
          256000,
          176500,
          227000,
          132500,
          100000,
          125500,
          125000,
          167900,
          135000,
          52500,
          200000,
          128500,
          123000,
          155000,
          228500,
          177000,
          155835,
          108500,
          262500,
          283463,
          215000,
          122000,
          200000,
          171000,
          134900,
          410000,
          235000,
          170000,
          110000,
          149900,
          177500,
          315000,
          189000,
          260000,
          104900,
          156932,
          144152,
          216000,
          193000,
          127000,
          144000,
          232000,
          105000,
          165500,
          274300,
          466500,
          250000,
          239000,
          91000,
          117000,
          83000,
          167500,
          58500,
          237500,
          157000,
          112000,
          105000,
          125500,
          250000,
          136000,
          377500,
          131000,
          235000,
          124000,
          123000,
          163000,
          246578,
          281213,
          160000,
          137500,
          138000,
          137450,
          120000,
          193000,
          193879,
          282922,
          105000,
          275000,
          133000,
          112000,
          125500,
          215000,
          230000,
          140000,
          90000,
          257000,
          207000,
          175900,
          122500,
          340000,
          124000,
          223000,
          179900,
          127500,
          136500,
          274970,
          144000,
          142000,
          271000,
          140000,
          119000,
          182900,
          192140,
          143750,
          64500,
          186500,
          160000,
          174000,
          120500,
          394617,
          149700,
          197000,
          191000,
          149300,
          310000,
          121000,
          179600,
          129000,
          157900,
          240000,
          112000,
          92000,
          136000,
          287090,
          145000,
          84500,
          185000,
          175000,
          210000,
          266500,
          142125,
          147500
         ],
         "xaxis": "x",
         "y": [
          7,
          6,
          7,
          7,
          8,
          5,
          8,
          7,
          7,
          5,
          5,
          9,
          5,
          7,
          6,
          7,
          6,
          4,
          5,
          5,
          8,
          7,
          8,
          5,
          5,
          8,
          5,
          8,
          5,
          4,
          4,
          5,
          8,
          5,
          9,
          8,
          5,
          5,
          5,
          4,
          6,
          5,
          5,
          5,
          5,
          9,
          7,
          8,
          4,
          5,
          6,
          6,
          5,
          9,
          5,
          6,
          8,
          7,
          10,
          5,
          6,
          5,
          8,
          7,
          7,
          8,
          7,
          7,
          4,
          7,
          7,
          4,
          7,
          5,
          3,
          4,
          4,
          5,
          4,
          5,
          6,
          6,
          8,
          5,
          7,
          8,
          6,
          6,
          3,
          4,
          4,
          5,
          5,
          6,
          6,
          6,
          7,
          4,
          5,
          4,
          6,
          6,
          5,
          7,
          7,
          8,
          4,
          5,
          5,
          6,
          6,
          7,
          7,
          6,
          6,
          6,
          5,
          5,
          7,
          6,
          6,
          4,
          6,
          6,
          6,
          6,
          6,
          5,
          6,
          5,
          7,
          6,
          5,
          8,
          5,
          7,
          5,
          7,
          8,
          6,
          4,
          7,
          5,
          7,
          5,
          6,
          5,
          7,
          7,
          5,
          5,
          8,
          6,
          6,
          6,
          6,
          5,
          8,
          7,
          7,
          6,
          9,
          7,
          4,
          6,
          5,
          5,
          8,
          7,
          8,
          5,
          6,
          7,
          6,
          6,
          6,
          6,
          5,
          9,
          5,
          6,
          7,
          5,
          7,
          5,
          10,
          7,
          5,
          5,
          8,
          8,
          7,
          7,
          7,
          5,
          6,
          7,
          8,
          6,
          8,
          4,
          6,
          6,
          6,
          5,
          7,
          5,
          4,
          7,
          6,
          5,
          6,
          7,
          5,
          6,
          5,
          7,
          4,
          7,
          7,
          7,
          6,
          6,
          4,
          10,
          5,
          7,
          6,
          5,
          7,
          6,
          8,
          6,
          5,
          6,
          6,
          7,
          7,
          8,
          6,
          8,
          5,
          5,
          6,
          7,
          7,
          6,
          6,
          7,
          6,
          3,
          8,
          6,
          6,
          5,
          7,
          6,
          7,
          7,
          5,
          6,
          8,
          6,
          5,
          5,
          6,
          6,
          5,
          5,
          6,
          8,
          7,
          8,
          6,
          5,
          7,
          7,
          4,
          9,
          7,
          7,
          6,
          7,
          8,
          6,
          7,
          6,
          4,
          5,
          6,
          8,
          5,
          5,
          7,
          6,
          6,
          5,
          7,
          6,
          6,
          5,
          8,
          7,
          5,
          7,
          8,
          7,
          6,
          4,
          9,
          6,
          6,
          5,
          7,
          7,
          7,
          7,
          8,
          7,
          7,
          9,
          8,
          7,
          3,
          7,
          5,
          8,
          6,
          6,
          5,
          5,
          5,
          8,
          7,
          6,
          5,
          9,
          7,
          7,
          6,
          8,
          4,
          3,
          9,
          5,
          6,
          6,
          6,
          7,
          9,
          9,
          7,
          5,
          6,
          6,
          6,
          6,
          5,
          5,
          8,
          6,
          5,
          7,
          6,
          6,
          5,
          6,
          6,
          5,
          5,
          6,
          4,
          6,
          5,
          7,
          1,
          5,
          8,
          9,
          6,
          5,
          7,
          7,
          6,
          6,
          8,
          5,
          6,
          7,
          10,
          5,
          6,
          5,
          4,
          5,
          5,
          5,
          5,
          5,
          7,
          8,
          7,
          5,
          8,
          6,
          4,
          6,
          6,
          7,
          8,
          5,
          5,
          7,
          5,
          7,
          7,
          6,
          6,
          5,
          5,
          7,
          6,
          5,
          8,
          6,
          7,
          7,
          4,
          7,
          6,
          6,
          6,
          5,
          6,
          4,
          7,
          6,
          6,
          5,
          6,
          10,
          4,
          5,
          7,
          7,
          6,
          6,
          7,
          6,
          3,
          6,
          7,
          6,
          8,
          5,
          7,
          5,
          4,
          8,
          5,
          8,
          7,
          5,
          6,
          5,
          7,
          7,
          5,
          8,
          6,
          8,
          7,
          6,
          8,
          8,
          5,
          6,
          9,
          8,
          4,
          9,
          9,
          7,
          6,
          5,
          5,
          5,
          5,
          5,
          4,
          5,
          6,
          6,
          5,
          5,
          4,
          8,
          7,
          5,
          5,
          6,
          7,
          5,
          7,
          6,
          5,
          8,
          6,
          7,
          5,
          5,
          7,
          5,
          6,
          5,
          10,
          6,
          7,
          6,
          7,
          4,
          6,
          6,
          10,
          7,
          7,
          5,
          9,
          4,
          6,
          6,
          6,
          5,
          1,
          8,
          5,
          7,
          4,
          5,
          8,
          9,
          8,
          7,
          7,
          7,
          7,
          6,
          5,
          5,
          7,
          6,
          5,
          8,
          4,
          7,
          5,
          5,
          4,
          7,
          7,
          5,
          5,
          5,
          6,
          7,
          6,
          9,
          7,
          8,
          5,
          5,
          6,
          7,
          7,
          5,
          5,
          7,
          5,
          7,
          5,
          6,
          8,
          6,
          10,
          4,
          8,
          6,
          5,
          5,
          5,
          7,
          10,
          5,
          6,
          5,
          8,
          6,
          7,
          5,
          6,
          8,
          6,
          8,
          7,
          7,
          7,
          5,
          5,
          8,
          4,
          9,
          6,
          8,
          5,
          4,
          6,
          6,
          6,
          9,
          8,
          3,
          6,
          5,
          6,
          6,
          6,
          5,
          6,
          5,
          6,
          5,
          8,
          7,
          5,
          6,
          6,
          2,
          5,
          5,
          8,
          8,
          7,
          8,
          5,
          9,
          6,
          5,
          6,
          6,
          4,
          7,
          4,
          7,
          6,
          8,
          6,
          5,
          7,
          6,
          5,
          7,
          8,
          6,
          4,
          8,
          8,
          6,
          6,
          5,
          4,
          6,
          6,
          6,
          6,
          6,
          6,
          4,
          5,
          8,
          5,
          6,
          5,
          6,
          9,
          7,
          7,
          7,
          7,
          8,
          6,
          6,
          10,
          7,
          5,
          5,
          6,
          5,
          5,
          5,
          7,
          8,
          7,
          8,
          5,
          7,
          4,
          7,
          8,
          7,
          5,
          3,
          4,
          8,
          4,
          6,
          6,
          7,
          5,
          7,
          5,
          8,
          6,
          4,
          4,
          9,
          4,
          6,
          7,
          5,
          4,
          8,
          7,
          7,
          5,
          5,
          7,
          3,
          8,
          5,
          7,
          5,
          6,
          7,
          5,
          8,
          8,
          7,
          7,
          7,
          4,
          4,
          7,
          6,
          8,
          6,
          6,
          8,
          6,
          7,
          8,
          6,
          5,
          7,
          8,
          8,
          9,
          7,
          6,
          7,
          8,
          5,
          4,
          6,
          5,
          8,
          6,
          7,
          5,
          5,
          6,
          7,
          6,
          7,
          5,
          6,
          6,
          5,
          7,
          4,
          6,
          7,
          6,
          7,
          8,
          7,
          6,
          6,
          5,
          9,
          5,
          6,
          4,
          7,
          9,
          5,
          7,
          5,
          5,
          5,
          5,
          6,
          6,
          5,
          6,
          5,
          7,
          5,
          8,
          6,
          7,
          7,
          4,
          7,
          6,
          8,
          10,
          5,
          7,
          5,
          7,
          6,
          7,
          7,
          6,
          5,
          4,
          5,
          6,
          5,
          5,
          6,
          5,
          6,
          5,
          5,
          5,
          7,
          5,
          6,
          6,
          6,
          8,
          7,
          6,
          5,
          5,
          6,
          6,
          7,
          6,
          7,
          5,
          6,
          5,
          7,
          5,
          8,
          4,
          5,
          7,
          5,
          6,
          5,
          5,
          5,
          8,
          4,
          9,
          5,
          5,
          5,
          7,
          6,
          4,
          5,
          9,
          5,
          5,
          8,
          6,
          5,
          6,
          6,
          5,
          5,
          6,
          4,
          5,
          9,
          5,
          4,
          5,
          7,
          7,
          5,
          5,
          8,
          7,
          5,
          6,
          5,
          5,
          5,
          5,
          6,
          4,
          2,
          4,
          7,
          6,
          6,
          5,
          6,
          6,
          6,
          5,
          8,
          7,
          8,
          7,
          8,
          5,
          9,
          7,
          7,
          4,
          7,
          7,
          7,
          7,
          6,
          7,
          4,
          5,
          6,
          5,
          5,
          8,
          7,
          6,
          5,
          5,
          5,
          5,
          6,
          6,
          6,
          5,
          7,
          7,
          5,
          6,
          6,
          9,
          7,
          6,
          5,
          5,
          3,
          6,
          4,
          7,
          6,
          7,
          7,
          7,
          4,
          7,
          4,
          5,
          7,
          8,
          7,
          8,
          5,
          5,
          6,
          9,
          6,
          7,
          8,
          8,
          6,
          6,
          10,
          4,
          5,
          6,
          3,
          7,
          3,
          5,
          8,
          5,
          7,
          5,
          6,
          4,
          7,
          5,
          5,
          5,
          6,
          5,
          6,
          8,
          7,
          8,
          7,
          7,
          4,
          7,
          5,
          7,
          8,
          5,
          5,
          8,
          5,
          6,
          5,
          7,
          8,
          7,
          5,
          4,
          9,
          8,
          4,
          4,
          5,
          6,
          6,
          7,
          8,
          3,
          9,
          5,
          5,
          4,
          7,
          7,
          6,
          5,
          8,
          6,
          7,
          7,
          9,
          6,
          8,
          3,
          5,
          6,
          5,
          7,
          6,
          6,
          6,
          5,
          5,
          6,
          5,
          6,
          7,
          7,
          5,
          5,
          6,
          5,
          6,
          5,
          7,
          6,
          6,
          6,
          4,
          8,
          7,
          8,
          3,
          7,
          6,
          5,
          5,
          6,
          6,
          8,
          4,
          7,
          2,
          5,
          5,
          6,
          5,
          8,
          7,
          7,
          6,
          8,
          6,
          7,
          5,
          5,
          5,
          8,
          8,
          5,
          5,
          5,
          6,
          7,
          4,
          5,
          7,
          4,
          7,
          7,
          7,
          5,
          4,
          5,
          6,
          8,
          6,
          6,
          6,
          5,
          6,
          5,
          5,
          5,
          8,
          5,
          4,
          5,
          6,
          7,
          7,
          7,
          6,
          5,
          6,
          6,
          7,
          5,
          5,
          7,
          8,
          6,
          6,
          6,
          5,
          4,
          5,
          7,
          8,
          6,
          6,
          10,
          6,
          6,
          7,
          5,
          6,
          8,
          5,
          6,
          5,
          5,
          7,
          8,
          10,
          5,
          5,
          5,
          3,
          8,
          7,
          7,
          4,
          8,
          5,
          6,
          6,
          6,
          7,
          7,
          7,
          4,
          4,
          7,
          5,
          7,
          5,
          7,
          4,
          6,
          5,
          8,
          6,
          8,
          4,
          4,
          5,
          5,
          6,
          8,
          4,
          6,
          5,
          5,
          6,
          5,
          7,
          6,
          6,
          5,
          9,
          5,
          5,
          5,
          4,
          5,
          5,
          5,
          7,
          7,
          6,
          8,
          7,
          7,
          7,
          10,
          8,
          6,
          7,
          6,
          6,
          5,
          7,
          7,
          5,
          7,
          7,
          6,
          8,
          5,
          7,
          6,
          6,
          5,
          4,
          6,
          6,
          7,
          7,
          9,
          8,
          5,
          7,
          6,
          5,
          6,
          5,
          5,
          6,
          6,
          8,
          4,
          7,
          7,
          5,
          6,
          6,
          6,
          6,
          5,
          8,
          8,
          5,
          5,
          5,
          7,
          5,
          5,
          5,
          6,
          10,
          5,
          7,
          6,
          8,
          7,
          7,
          9,
          7,
          5,
          5,
          6,
          7,
          7,
          8,
          9,
          4,
          6,
          8,
          7,
          8,
          4,
          6,
          3,
          7,
          4,
          8,
          4,
          3,
          5,
          6,
          7,
          8,
          5,
          4,
          5,
          5,
          6,
          5,
          4,
          7,
          5,
          4,
          6,
          8,
          6,
          7,
          4,
          7,
          8,
          7,
          8,
          5,
          6,
          6,
          8,
          7,
          7,
          5,
          5,
          6,
          9,
          5,
          7,
          4,
          6,
          7,
          7,
          7,
          5,
          6,
          8,
          4,
          6,
          7,
          10,
          7,
          8,
          6,
          5,
          6,
          5,
          3,
          6,
          7,
          5,
          6,
          4,
          7,
          6,
          9,
          6,
          7,
          5,
          5,
          6,
          7,
          8,
          5,
          5,
          5,
          6,
          6,
          6,
          7,
          8,
          3,
          8,
          5,
          5,
          4,
          7,
          7,
          6,
          4,
          8,
          6,
          7,
          4,
          8,
          5,
          6,
          6,
          6,
          6,
          6,
          5,
          6,
          7,
          5,
          5,
          6,
          5,
          6,
          4,
          6,
          5,
          6,
          4,
          8,
          6,
          7,
          6,
          6,
          10,
          6,
          7,
          6,
          5,
          8,
          4,
          5,
          5,
          8,
          5,
          5,
          7,
          6,
          6,
          7,
          5,
          5
         ],
         "yaxis": "y"
        }
       ],
       "layout": {
        "coloraxis": {
         "colorbar": {
          "title": {
           "text": "GarageArea"
          }
         },
         "colorscale": [
          [
           0,
           "#0d0887"
          ],
          [
           0.1111111111111111,
           "#46039f"
          ],
          [
           0.2222222222222222,
           "#7201a8"
          ],
          [
           0.3333333333333333,
           "#9c179e"
          ],
          [
           0.4444444444444444,
           "#bd3786"
          ],
          [
           0.5555555555555556,
           "#d8576b"
          ],
          [
           0.6666666666666666,
           "#ed7953"
          ],
          [
           0.7777777777777778,
           "#fb9f3a"
          ],
          [
           0.8888888888888888,
           "#fdca26"
          ],
          [
           1,
           "#f0f921"
          ]
         ]
        },
        "legend": {
         "tracegroupgap": 0
        },
        "margin": {
         "t": 60
        },
        "template": {
         "data": {
          "bar": [
           {
            "error_x": {
             "color": "#2a3f5f"
            },
            "error_y": {
             "color": "#2a3f5f"
            },
            "marker": {
             "line": {
              "color": "#E5ECF6",
              "width": 0.5
             },
             "pattern": {
              "fillmode": "overlay",
              "size": 10,
              "solidity": 0.2
             }
            },
            "type": "bar"
           }
          ],
          "barpolar": [
           {
            "marker": {
             "line": {
              "color": "#E5ECF6",
              "width": 0.5
             },
             "pattern": {
              "fillmode": "overlay",
              "size": 10,
              "solidity": 0.2
             }
            },
            "type": "barpolar"
           }
          ],
          "carpet": [
           {
            "aaxis": {
             "endlinecolor": "#2a3f5f",
             "gridcolor": "white",
             "linecolor": "white",
             "minorgridcolor": "white",
             "startlinecolor": "#2a3f5f"
            },
            "baxis": {
             "endlinecolor": "#2a3f5f",
             "gridcolor": "white",
             "linecolor": "white",
             "minorgridcolor": "white",
             "startlinecolor": "#2a3f5f"
            },
            "type": "carpet"
           }
          ],
          "choropleth": [
           {
            "colorbar": {
             "outlinewidth": 0,
             "ticks": ""
            },
            "type": "choropleth"
           }
          ],
          "contour": [
           {
            "colorbar": {
             "outlinewidth": 0,
             "ticks": ""
            },
            "colorscale": [
             [
              0,
              "#0d0887"
             ],
             [
              0.1111111111111111,
              "#46039f"
             ],
             [
              0.2222222222222222,
              "#7201a8"
             ],
             [
              0.3333333333333333,
              "#9c179e"
             ],
             [
              0.4444444444444444,
              "#bd3786"
             ],
             [
              0.5555555555555556,
              "#d8576b"
             ],
             [
              0.6666666666666666,
              "#ed7953"
             ],
             [
              0.7777777777777778,
              "#fb9f3a"
             ],
             [
              0.8888888888888888,
              "#fdca26"
             ],
             [
              1,
              "#f0f921"
             ]
            ],
            "type": "contour"
           }
          ],
          "contourcarpet": [
           {
            "colorbar": {
             "outlinewidth": 0,
             "ticks": ""
            },
            "type": "contourcarpet"
           }
          ],
          "heatmap": [
           {
            "colorbar": {
             "outlinewidth": 0,
             "ticks": ""
            },
            "colorscale": [
             [
              0,
              "#0d0887"
             ],
             [
              0.1111111111111111,
              "#46039f"
             ],
             [
              0.2222222222222222,
              "#7201a8"
             ],
             [
              0.3333333333333333,
              "#9c179e"
             ],
             [
              0.4444444444444444,
              "#bd3786"
             ],
             [
              0.5555555555555556,
              "#d8576b"
             ],
             [
              0.6666666666666666,
              "#ed7953"
             ],
             [
              0.7777777777777778,
              "#fb9f3a"
             ],
             [
              0.8888888888888888,
              "#fdca26"
             ],
             [
              1,
              "#f0f921"
             ]
            ],
            "type": "heatmap"
           }
          ],
          "heatmapgl": [
           {
            "colorbar": {
             "outlinewidth": 0,
             "ticks": ""
            },
            "colorscale": [
             [
              0,
              "#0d0887"
             ],
             [
              0.1111111111111111,
              "#46039f"
             ],
             [
              0.2222222222222222,
              "#7201a8"
             ],
             [
              0.3333333333333333,
              "#9c179e"
             ],
             [
              0.4444444444444444,
              "#bd3786"
             ],
             [
              0.5555555555555556,
              "#d8576b"
             ],
             [
              0.6666666666666666,
              "#ed7953"
             ],
             [
              0.7777777777777778,
              "#fb9f3a"
             ],
             [
              0.8888888888888888,
              "#fdca26"
             ],
             [
              1,
              "#f0f921"
             ]
            ],
            "type": "heatmapgl"
           }
          ],
          "histogram": [
           {
            "marker": {
             "pattern": {
              "fillmode": "overlay",
              "size": 10,
              "solidity": 0.2
             }
            },
            "type": "histogram"
           }
          ],
          "histogram2d": [
           {
            "colorbar": {
             "outlinewidth": 0,
             "ticks": ""
            },
            "colorscale": [
             [
              0,
              "#0d0887"
             ],
             [
              0.1111111111111111,
              "#46039f"
             ],
             [
              0.2222222222222222,
              "#7201a8"
             ],
             [
              0.3333333333333333,
              "#9c179e"
             ],
             [
              0.4444444444444444,
              "#bd3786"
             ],
             [
              0.5555555555555556,
              "#d8576b"
             ],
             [
              0.6666666666666666,
              "#ed7953"
             ],
             [
              0.7777777777777778,
              "#fb9f3a"
             ],
             [
              0.8888888888888888,
              "#fdca26"
             ],
             [
              1,
              "#f0f921"
             ]
            ],
            "type": "histogram2d"
           }
          ],
          "histogram2dcontour": [
           {
            "colorbar": {
             "outlinewidth": 0,
             "ticks": ""
            },
            "colorscale": [
             [
              0,
              "#0d0887"
             ],
             [
              0.1111111111111111,
              "#46039f"
             ],
             [
              0.2222222222222222,
              "#7201a8"
             ],
             [
              0.3333333333333333,
              "#9c179e"
             ],
             [
              0.4444444444444444,
              "#bd3786"
             ],
             [
              0.5555555555555556,
              "#d8576b"
             ],
             [
              0.6666666666666666,
              "#ed7953"
             ],
             [
              0.7777777777777778,
              "#fb9f3a"
             ],
             [
              0.8888888888888888,
              "#fdca26"
             ],
             [
              1,
              "#f0f921"
             ]
            ],
            "type": "histogram2dcontour"
           }
          ],
          "mesh3d": [
           {
            "colorbar": {
             "outlinewidth": 0,
             "ticks": ""
            },
            "type": "mesh3d"
           }
          ],
          "parcoords": [
           {
            "line": {
             "colorbar": {
              "outlinewidth": 0,
              "ticks": ""
             }
            },
            "type": "parcoords"
           }
          ],
          "pie": [
           {
            "automargin": true,
            "type": "pie"
           }
          ],
          "scatter": [
           {
            "marker": {
             "colorbar": {
              "outlinewidth": 0,
              "ticks": ""
             }
            },
            "type": "scatter"
           }
          ],
          "scatter3d": [
           {
            "line": {
             "colorbar": {
              "outlinewidth": 0,
              "ticks": ""
             }
            },
            "marker": {
             "colorbar": {
              "outlinewidth": 0,
              "ticks": ""
             }
            },
            "type": "scatter3d"
           }
          ],
          "scattercarpet": [
           {
            "marker": {
             "colorbar": {
              "outlinewidth": 0,
              "ticks": ""
             }
            },
            "type": "scattercarpet"
           }
          ],
          "scattergeo": [
           {
            "marker": {
             "colorbar": {
              "outlinewidth": 0,
              "ticks": ""
             }
            },
            "type": "scattergeo"
           }
          ],
          "scattergl": [
           {
            "marker": {
             "colorbar": {
              "outlinewidth": 0,
              "ticks": ""
             }
            },
            "type": "scattergl"
           }
          ],
          "scattermapbox": [
           {
            "marker": {
             "colorbar": {
              "outlinewidth": 0,
              "ticks": ""
             }
            },
            "type": "scattermapbox"
           }
          ],
          "scatterpolar": [
           {
            "marker": {
             "colorbar": {
              "outlinewidth": 0,
              "ticks": ""
             }
            },
            "type": "scatterpolar"
           }
          ],
          "scatterpolargl": [
           {
            "marker": {
             "colorbar": {
              "outlinewidth": 0,
              "ticks": ""
             }
            },
            "type": "scatterpolargl"
           }
          ],
          "scatterternary": [
           {
            "marker": {
             "colorbar": {
              "outlinewidth": 0,
              "ticks": ""
             }
            },
            "type": "scatterternary"
           }
          ],
          "surface": [
           {
            "colorbar": {
             "outlinewidth": 0,
             "ticks": ""
            },
            "colorscale": [
             [
              0,
              "#0d0887"
             ],
             [
              0.1111111111111111,
              "#46039f"
             ],
             [
              0.2222222222222222,
              "#7201a8"
             ],
             [
              0.3333333333333333,
              "#9c179e"
             ],
             [
              0.4444444444444444,
              "#bd3786"
             ],
             [
              0.5555555555555556,
              "#d8576b"
             ],
             [
              0.6666666666666666,
              "#ed7953"
             ],
             [
              0.7777777777777778,
              "#fb9f3a"
             ],
             [
              0.8888888888888888,
              "#fdca26"
             ],
             [
              1,
              "#f0f921"
             ]
            ],
            "type": "surface"
           }
          ],
          "table": [
           {
            "cells": {
             "fill": {
              "color": "#EBF0F8"
             },
             "line": {
              "color": "white"
             }
            },
            "header": {
             "fill": {
              "color": "#C8D4E3"
             },
             "line": {
              "color": "white"
             }
            },
            "type": "table"
           }
          ]
         },
         "layout": {
          "annotationdefaults": {
           "arrowcolor": "#2a3f5f",
           "arrowhead": 0,
           "arrowwidth": 1
          },
          "autotypenumbers": "strict",
          "coloraxis": {
           "colorbar": {
            "outlinewidth": 0,
            "ticks": ""
           }
          },
          "colorscale": {
           "diverging": [
            [
             0,
             "#8e0152"
            ],
            [
             0.1,
             "#c51b7d"
            ],
            [
             0.2,
             "#de77ae"
            ],
            [
             0.3,
             "#f1b6da"
            ],
            [
             0.4,
             "#fde0ef"
            ],
            [
             0.5,
             "#f7f7f7"
            ],
            [
             0.6,
             "#e6f5d0"
            ],
            [
             0.7,
             "#b8e186"
            ],
            [
             0.8,
             "#7fbc41"
            ],
            [
             0.9,
             "#4d9221"
            ],
            [
             1,
             "#276419"
            ]
           ],
           "sequential": [
            [
             0,
             "#0d0887"
            ],
            [
             0.1111111111111111,
             "#46039f"
            ],
            [
             0.2222222222222222,
             "#7201a8"
            ],
            [
             0.3333333333333333,
             "#9c179e"
            ],
            [
             0.4444444444444444,
             "#bd3786"
            ],
            [
             0.5555555555555556,
             "#d8576b"
            ],
            [
             0.6666666666666666,
             "#ed7953"
            ],
            [
             0.7777777777777778,
             "#fb9f3a"
            ],
            [
             0.8888888888888888,
             "#fdca26"
            ],
            [
             1,
             "#f0f921"
            ]
           ],
           "sequentialminus": [
            [
             0,
             "#0d0887"
            ],
            [
             0.1111111111111111,
             "#46039f"
            ],
            [
             0.2222222222222222,
             "#7201a8"
            ],
            [
             0.3333333333333333,
             "#9c179e"
            ],
            [
             0.4444444444444444,
             "#bd3786"
            ],
            [
             0.5555555555555556,
             "#d8576b"
            ],
            [
             0.6666666666666666,
             "#ed7953"
            ],
            [
             0.7777777777777778,
             "#fb9f3a"
            ],
            [
             0.8888888888888888,
             "#fdca26"
            ],
            [
             1,
             "#f0f921"
            ]
           ]
          },
          "colorway": [
           "#636efa",
           "#EF553B",
           "#00cc96",
           "#ab63fa",
           "#FFA15A",
           "#19d3f3",
           "#FF6692",
           "#B6E880",
           "#FF97FF",
           "#FECB52"
          ],
          "font": {
           "color": "#2a3f5f"
          },
          "geo": {
           "bgcolor": "white",
           "lakecolor": "white",
           "landcolor": "#E5ECF6",
           "showlakes": true,
           "showland": true,
           "subunitcolor": "white"
          },
          "hoverlabel": {
           "align": "left"
          },
          "hovermode": "closest",
          "mapbox": {
           "style": "light"
          },
          "paper_bgcolor": "white",
          "plot_bgcolor": "#E5ECF6",
          "polar": {
           "angularaxis": {
            "gridcolor": "white",
            "linecolor": "white",
            "ticks": ""
           },
           "bgcolor": "#E5ECF6",
           "radialaxis": {
            "gridcolor": "white",
            "linecolor": "white",
            "ticks": ""
           }
          },
          "scene": {
           "xaxis": {
            "backgroundcolor": "#E5ECF6",
            "gridcolor": "white",
            "gridwidth": 2,
            "linecolor": "white",
            "showbackground": true,
            "ticks": "",
            "zerolinecolor": "white"
           },
           "yaxis": {
            "backgroundcolor": "#E5ECF6",
            "gridcolor": "white",
            "gridwidth": 2,
            "linecolor": "white",
            "showbackground": true,
            "ticks": "",
            "zerolinecolor": "white"
           },
           "zaxis": {
            "backgroundcolor": "#E5ECF6",
            "gridcolor": "white",
            "gridwidth": 2,
            "linecolor": "white",
            "showbackground": true,
            "ticks": "",
            "zerolinecolor": "white"
           }
          },
          "shapedefaults": {
           "line": {
            "color": "#2a3f5f"
           }
          },
          "ternary": {
           "aaxis": {
            "gridcolor": "white",
            "linecolor": "white",
            "ticks": ""
           },
           "baxis": {
            "gridcolor": "white",
            "linecolor": "white",
            "ticks": ""
           },
           "bgcolor": "#E5ECF6",
           "caxis": {
            "gridcolor": "white",
            "linecolor": "white",
            "ticks": ""
           }
          },
          "title": {
           "x": 0.05
          },
          "xaxis": {
           "automargin": true,
           "gridcolor": "white",
           "linecolor": "white",
           "ticks": "",
           "title": {
            "standoff": 15
           },
           "zerolinecolor": "white",
           "zerolinewidth": 2
          },
          "yaxis": {
           "automargin": true,
           "gridcolor": "white",
           "linecolor": "white",
           "ticks": "",
           "title": {
            "standoff": 15
           },
           "zerolinecolor": "white",
           "zerolinewidth": 2
          }
         }
        },
        "xaxis": {
         "anchor": "y",
         "domain": [
          0,
          1
         ],
         "title": {
          "text": "SalePrice"
         }
        },
        "yaxis": {
         "anchor": "x",
         "domain": [
          0,
          1
         ],
         "title": {
          "text": "OverallQual"
         }
        }
       }
      }
     },
     "metadata": {},
     "output_type": "display_data"
    }
   ],
   "source": [
    "fig = px.scatter(prices_df, x = \"SalePrice\",y = \"OverallQual\",color = \"GarageArea\",opacity=0.9, hover_data = [\"SaleCondition\"])\n",
    "fig.update_traces(marker_size=5)\n",
    "fig.show()"
   ]
  },
  {
   "cell_type": "code",
   "execution_count": 56,
   "metadata": {},
   "outputs": [
    {
     "data": {
      "application/vnd.plotly.v1+json": {
       "config": {
        "plotlyServerURL": "https://plot.ly"
       },
       "data": [
        {
         "customdata": [
          [
           "Normal"
          ],
          [
           "Normal"
          ],
          [
           "Normal"
          ],
          [
           "Abnorml"
          ],
          [
           "Normal"
          ],
          [
           "Normal"
          ],
          [
           "Normal"
          ],
          [
           "Normal"
          ],
          [
           "Abnorml"
          ],
          [
           "Normal"
          ],
          [
           "Normal"
          ],
          [
           "Partial"
          ],
          [
           "Normal"
          ],
          [
           "Partial"
          ],
          [
           "Normal"
          ],
          [
           "Normal"
          ],
          [
           "Normal"
          ],
          [
           "Normal"
          ],
          [
           "Normal"
          ],
          [
           "Abnorml"
          ],
          [
           "Partial"
          ],
          [
           "Normal"
          ],
          [
           "Normal"
          ],
          [
           "Normal"
          ],
          [
           "Normal"
          ],
          [
           "Normal"
          ],
          [
           "Normal"
          ],
          [
           "Normal"
          ],
          [
           "Normal"
          ],
          [
           "Normal"
          ],
          [
           "Normal"
          ],
          [
           "Normal"
          ],
          [
           "Normal"
          ],
          [
           "Normal"
          ],
          [
           "Normal"
          ],
          [
           "Normal"
          ],
          [
           "Normal"
          ],
          [
           "Normal"
          ],
          [
           "Abnorml"
          ],
          [
           "AdjLand"
          ],
          [
           "Abnorml"
          ],
          [
           "Normal"
          ],
          [
           "Normal"
          ],
          [
           "Normal"
          ],
          [
           "Normal"
          ],
          [
           "Normal"
          ],
          [
           "Abnorml"
          ],
          [
           "Normal"
          ],
          [
           "Partial"
          ],
          [
           "Normal"
          ],
          [
           "Normal"
          ],
          [
           "Normal"
          ],
          [
           "Normal"
          ],
          [
           "Normal"
          ],
          [
           "Normal"
          ],
          [
           "Normal"
          ],
          [
           "Abnorml"
          ],
          [
           "Normal"
          ],
          [
           "Partial"
          ],
          [
           "Normal"
          ],
          [
           "Partial"
          ],
          [
           "Normal"
          ],
          [
           "Normal"
          ],
          [
           "Normal"
          ],
          [
           "Normal"
          ],
          [
           "Normal"
          ],
          [
           "Normal"
          ],
          [
           "Normal"
          ],
          [
           "Normal"
          ],
          [
           "Normal"
          ],
          [
           "Normal"
          ],
          [
           "Normal"
          ],
          [
           "Normal"
          ],
          [
           "Normal"
          ],
          [
           "Normal"
          ],
          [
           "Normal"
          ],
          [
           "Normal"
          ],
          [
           "Normal"
          ],
          [
           "Normal"
          ],
          [
           "Normal"
          ],
          [
           "Normal"
          ],
          [
           "Normal"
          ],
          [
           "Normal"
          ],
          [
           "Normal"
          ],
          [
           "Normal"
          ],
          [
           "Normal"
          ],
          [
           "Normal"
          ],
          [
           "Partial"
          ],
          [
           "Abnorml"
          ],
          [
           "Normal"
          ],
          [
           "Normal"
          ],
          [
           "Abnorml"
          ],
          [
           "Normal"
          ],
          [
           "Normal"
          ],
          [
           "Normal"
          ],
          [
           "Normal"
          ],
          [
           "Normal"
          ],
          [
           "Normal"
          ],
          [
           "Abnorml"
          ],
          [
           "Normal"
          ],
          [
           "Normal"
          ],
          [
           "Normal"
          ],
          [
           "Alloca"
          ],
          [
           "Normal"
          ],
          [
           "Normal"
          ],
          [
           "Normal"
          ],
          [
           "Normal"
          ],
          [
           "Partial"
          ],
          [
           "Normal"
          ],
          [
           "Normal"
          ],
          [
           "Normal"
          ],
          [
           "Normal"
          ],
          [
           "Partial"
          ],
          [
           "Abnorml"
          ],
          [
           "Normal"
          ],
          [
           "Normal"
          ],
          [
           "Normal"
          ],
          [
           "Partial"
          ],
          [
           "Normal"
          ],
          [
           "Partial"
          ],
          [
           "Normal"
          ],
          [
           "Normal"
          ],
          [
           "Normal"
          ],
          [
           "Normal"
          ],
          [
           "Normal"
          ],
          [
           "Normal"
          ],
          [
           "Normal"
          ],
          [
           "Normal"
          ],
          [
           "Normal"
          ],
          [
           "Abnorml"
          ],
          [
           "Normal"
          ],
          [
           "Normal"
          ],
          [
           "Normal"
          ],
          [
           "Normal"
          ],
          [
           "Normal"
          ],
          [
           "Normal"
          ],
          [
           "Normal"
          ],
          [
           "Family"
          ],
          [
           "Normal"
          ],
          [
           "Normal"
          ],
          [
           "Normal"
          ],
          [
           "Normal"
          ],
          [
           "Normal"
          ],
          [
           "Normal"
          ],
          [
           "Abnorml"
          ],
          [
           "Normal"
          ],
          [
           "Normal"
          ],
          [
           "Normal"
          ],
          [
           "Normal"
          ],
          [
           "Normal"
          ],
          [
           "Normal"
          ],
          [
           "Partial"
          ],
          [
           "Normal"
          ],
          [
           "Normal"
          ],
          [
           "Family"
          ],
          [
           "Normal"
          ],
          [
           "Normal"
          ],
          [
           "Partial"
          ],
          [
           "Normal"
          ],
          [
           "Partial"
          ],
          [
           "Normal"
          ],
          [
           "Normal"
          ],
          [
           "Partial"
          ],
          [
           "Normal"
          ],
          [
           "Normal"
          ],
          [
           "Normal"
          ],
          [
           "Normal"
          ],
          [
           "Partial"
          ],
          [
           "Normal"
          ],
          [
           "Normal"
          ],
          [
           "Normal"
          ],
          [
           "Normal"
          ],
          [
           "Normal"
          ],
          [
           "Normal"
          ],
          [
           "Normal"
          ],
          [
           "Normal"
          ],
          [
           "Normal"
          ],
          [
           "Normal"
          ],
          [
           "Partial"
          ],
          [
           "Normal"
          ],
          [
           "Normal"
          ],
          [
           "Normal"
          ],
          [
           "Normal"
          ],
          [
           "Normal"
          ],
          [
           "Normal"
          ],
          [
           "Normal"
          ],
          [
           "Normal"
          ],
          [
           "Normal"
          ],
          [
           "Alloca"
          ],
          [
           "Normal"
          ],
          [
           "Normal"
          ],
          [
           "Normal"
          ],
          [
           "Normal"
          ],
          [
           "Normal"
          ],
          [
           "Normal"
          ],
          [
           "Normal"
          ],
          [
           "Partial"
          ],
          [
           "Abnorml"
          ],
          [
           "Abnorml"
          ],
          [
           "Normal"
          ],
          [
           "Normal"
          ],
          [
           "Normal"
          ],
          [
           "Normal"
          ],
          [
           "Normal"
          ],
          [
           "Normal"
          ],
          [
           "Normal"
          ],
          [
           "Normal"
          ],
          [
           "Normal"
          ],
          [
           "Normal"
          ],
          [
           "Normal"
          ],
          [
           "Normal"
          ],
          [
           "Normal"
          ],
          [
           "Partial"
          ],
          [
           "Normal"
          ],
          [
           "Normal"
          ],
          [
           "Normal"
          ],
          [
           "Normal"
          ],
          [
           "Family"
          ],
          [
           "Normal"
          ],
          [
           "Partial"
          ],
          [
           "Partial"
          ],
          [
           "Normal"
          ],
          [
           "Normal"
          ],
          [
           "Abnorml"
          ],
          [
           "Normal"
          ],
          [
           "Abnorml"
          ],
          [
           "Abnorml"
          ],
          [
           "Normal"
          ],
          [
           "Normal"
          ],
          [
           "Normal"
          ],
          [
           "Normal"
          ],
          [
           "Normal"
          ],
          [
           "Normal"
          ],
          [
           "Normal"
          ],
          [
           "Normal"
          ],
          [
           "Normal"
          ],
          [
           "Normal"
          ],
          [
           "Normal"
          ],
          [
           "Partial"
          ],
          [
           "Normal"
          ],
          [
           "Normal"
          ],
          [
           "Normal"
          ],
          [
           "Normal"
          ],
          [
           "Normal"
          ],
          [
           "Normal"
          ],
          [
           "Normal"
          ],
          [
           "Normal"
          ],
          [
           "Normal"
          ],
          [
           "Normal"
          ],
          [
           "Normal"
          ],
          [
           "Normal"
          ],
          [
           "Family"
          ],
          [
           "Normal"
          ],
          [
           "Normal"
          ],
          [
           "Normal"
          ],
          [
           "Normal"
          ],
          [
           "Normal"
          ],
          [
           "Abnorml"
          ],
          [
           "Normal"
          ],
          [
           "Normal"
          ],
          [
           "Normal"
          ],
          [
           "Partial"
          ],
          [
           "Normal"
          ],
          [
           "Normal"
          ],
          [
           "Normal"
          ],
          [
           "Normal"
          ],
          [
           "Normal"
          ],
          [
           "Normal"
          ],
          [
           "Normal"
          ],
          [
           "Normal"
          ],
          [
           "Partial"
          ],
          [
           "Normal"
          ],
          [
           "Normal"
          ],
          [
           "Normal"
          ],
          [
           "Normal"
          ],
          [
           "Normal"
          ],
          [
           "Normal"
          ],
          [
           "Normal"
          ],
          [
           "Partial"
          ],
          [
           "Normal"
          ],
          [
           "Normal"
          ],
          [
           "Partial"
          ],
          [
           "Normal"
          ],
          [
           "Partial"
          ],
          [
           "Normal"
          ],
          [
           "Partial"
          ],
          [
           "Normal"
          ],
          [
           "Normal"
          ],
          [
           "Normal"
          ],
          [
           "Normal"
          ],
          [
           "Partial"
          ],
          [
           "Normal"
          ],
          [
           "Normal"
          ],
          [
           "Normal"
          ],
          [
           "Normal"
          ],
          [
           "Normal"
          ],
          [
           "Normal"
          ],
          [
           "Normal"
          ],
          [
           "Normal"
          ],
          [
           "Family"
          ],
          [
           "Normal"
          ],
          [
           "Normal"
          ],
          [
           "Normal"
          ],
          [
           "Abnorml"
          ],
          [
           "Normal"
          ],
          [
           "Normal"
          ],
          [
           "Normal"
          ],
          [
           "Normal"
          ],
          [
           "Normal"
          ],
          [
           "Normal"
          ],
          [
           "Normal"
          ],
          [
           "Normal"
          ],
          [
           "Normal"
          ],
          [
           "Normal"
          ],
          [
           "Normal"
          ],
          [
           "Normal"
          ],
          [
           "Normal"
          ],
          [
           "Normal"
          ],
          [
           "Normal"
          ],
          [
           "Normal"
          ],
          [
           "Partial"
          ],
          [
           "Normal"
          ],
          [
           "Normal"
          ],
          [
           "Normal"
          ],
          [
           "Normal"
          ],
          [
           "Normal"
          ],
          [
           "Normal"
          ],
          [
           "Normal"
          ],
          [
           "Normal"
          ],
          [
           "Normal"
          ],
          [
           "Normal"
          ],
          [
           "Normal"
          ],
          [
           "Normal"
          ],
          [
           "Normal"
          ],
          [
           "Normal"
          ],
          [
           "Normal"
          ],
          [
           "Normal"
          ],
          [
           "Normal"
          ],
          [
           "Normal"
          ],
          [
           "Normal"
          ],
          [
           "Normal"
          ],
          [
           "Normal"
          ],
          [
           "Normal"
          ],
          [
           "Normal"
          ],
          [
           "Normal"
          ],
          [
           "Normal"
          ],
          [
           "Normal"
          ],
          [
           "Normal"
          ],
          [
           "Normal"
          ],
          [
           "Partial"
          ],
          [
           "Partial"
          ],
          [
           "Abnorml"
          ],
          [
           "Normal"
          ],
          [
           "Normal"
          ],
          [
           "Normal"
          ],
          [
           "Normal"
          ],
          [
           "Normal"
          ],
          [
           "Normal"
          ],
          [
           "Abnorml"
          ],
          [
           "Normal"
          ],
          [
           "Normal"
          ],
          [
           "Normal"
          ],
          [
           "Normal"
          ],
          [
           "Normal"
          ],
          [
           "Normal"
          ],
          [
           "Normal"
          ],
          [
           "Normal"
          ],
          [
           "Normal"
          ],
          [
           "Normal"
          ],
          [
           "Normal"
          ],
          [
           "Normal"
          ],
          [
           "Normal"
          ],
          [
           "Normal"
          ],
          [
           "Normal"
          ],
          [
           "Normal"
          ],
          [
           "Normal"
          ],
          [
           "Normal"
          ],
          [
           "Normal"
          ],
          [
           "Partial"
          ],
          [
           "Normal"
          ],
          [
           "Normal"
          ],
          [
           "Partial"
          ],
          [
           "Normal"
          ],
          [
           "Normal"
          ],
          [
           "Normal"
          ],
          [
           "Normal"
          ],
          [
           "AdjLand"
          ],
          [
           "Abnorml"
          ],
          [
           "Normal"
          ],
          [
           "Partial"
          ],
          [
           "Normal"
          ],
          [
           "Normal"
          ],
          [
           "Normal"
          ],
          [
           "Abnorml"
          ],
          [
           "Normal"
          ],
          [
           "Normal"
          ],
          [
           "Normal"
          ],
          [
           "Normal"
          ],
          [
           "Abnorml"
          ],
          [
           "Normal"
          ],
          [
           "Normal"
          ],
          [
           "Partial"
          ],
          [
           "Normal"
          ],
          [
           "Abnorml"
          ],
          [
           "Normal"
          ],
          [
           "Normal"
          ],
          [
           "Normal"
          ],
          [
           "Normal"
          ],
          [
           "Partial"
          ],
          [
           "Partial"
          ],
          [
           "Abnorml"
          ],
          [
           "Normal"
          ],
          [
           "Partial"
          ],
          [
           "Normal"
          ],
          [
           "Normal"
          ],
          [
           "Partial"
          ],
          [
           "Normal"
          ],
          [
           "Normal"
          ],
          [
           "AdjLand"
          ],
          [
           "Normal"
          ],
          [
           "Alloca"
          ],
          [
           "Normal"
          ],
          [
           "Normal"
          ],
          [
           "Normal"
          ],
          [
           "Normal"
          ],
          [
           "Normal"
          ],
          [
           "Normal"
          ],
          [
           "Normal"
          ],
          [
           "Partial"
          ],
          [
           "Normal"
          ],
          [
           "Abnorml"
          ],
          [
           "Abnorml"
          ],
          [
           "Normal"
          ],
          [
           "Normal"
          ],
          [
           "Normal"
          ],
          [
           "Normal"
          ],
          [
           "Normal"
          ],
          [
           "Normal"
          ],
          [
           "Normal"
          ],
          [
           "Normal"
          ],
          [
           "Normal"
          ],
          [
           "Normal"
          ],
          [
           "Normal"
          ],
          [
           "Partial"
          ],
          [
           "Normal"
          ],
          [
           "Normal"
          ],
          [
           "Normal"
          ],
          [
           "Normal"
          ],
          [
           "Normal"
          ],
          [
           "Normal"
          ],
          [
           "Normal"
          ],
          [
           "Normal"
          ],
          [
           "Normal"
          ],
          [
           "Normal"
          ],
          [
           "Family"
          ],
          [
           "Normal"
          ],
          [
           "Abnorml"
          ],
          [
           "Normal"
          ],
          [
           "Normal"
          ],
          [
           "Normal"
          ],
          [
           "Partial"
          ],
          [
           "Normal"
          ],
          [
           "Normal"
          ],
          [
           "Normal"
          ],
          [
           "Normal"
          ],
          [
           "Normal"
          ],
          [
           "Normal"
          ],
          [
           "Normal"
          ],
          [
           "Normal"
          ],
          [
           "Normal"
          ],
          [
           "Normal"
          ],
          [
           "Normal"
          ],
          [
           "Normal"
          ],
          [
           "Partial"
          ],
          [
           "Normal"
          ],
          [
           "Normal"
          ],
          [
           "Normal"
          ],
          [
           "Normal"
          ],
          [
           "Normal"
          ],
          [
           "Alloca"
          ],
          [
           "Normal"
          ],
          [
           "Normal"
          ],
          [
           "Normal"
          ],
          [
           "Normal"
          ],
          [
           "Normal"
          ],
          [
           "Normal"
          ],
          [
           "Normal"
          ],
          [
           "Normal"
          ],
          [
           "Normal"
          ],
          [
           "Normal"
          ],
          [
           "Normal"
          ],
          [
           "Normal"
          ],
          [
           "Partial"
          ],
          [
           "Normal"
          ],
          [
           "Normal"
          ],
          [
           "Abnorml"
          ],
          [
           "Normal"
          ],
          [
           "Normal"
          ],
          [
           "Normal"
          ],
          [
           "Normal"
          ],
          [
           "Normal"
          ],
          [
           "Normal"
          ],
          [
           "Normal"
          ],
          [
           "Normal"
          ],
          [
           "Normal"
          ],
          [
           "Normal"
          ],
          [
           "Normal"
          ],
          [
           "Partial"
          ],
          [
           "Normal"
          ],
          [
           "Normal"
          ],
          [
           "Normal"
          ],
          [
           "Partial"
          ],
          [
           "Normal"
          ],
          [
           "Normal"
          ],
          [
           "Normal"
          ],
          [
           "Partial"
          ],
          [
           "Abnorml"
          ],
          [
           "Normal"
          ],
          [
           "Normal"
          ],
          [
           "Normal"
          ],
          [
           "Normal"
          ],
          [
           "Normal"
          ],
          [
           "Normal"
          ],
          [
           "Partial"
          ],
          [
           "Normal"
          ],
          [
           "Normal"
          ],
          [
           "Normal"
          ],
          [
           "Partial"
          ],
          [
           "Normal"
          ],
          [
           "Alloca"
          ],
          [
           "Abnorml"
          ],
          [
           "Normal"
          ],
          [
           "Normal"
          ],
          [
           "Normal"
          ],
          [
           "Normal"
          ],
          [
           "Normal"
          ],
          [
           "Normal"
          ],
          [
           "Normal"
          ],
          [
           "Normal"
          ],
          [
           "Normal"
          ],
          [
           "Normal"
          ],
          [
           "Normal"
          ],
          [
           "Normal"
          ],
          [
           "Normal"
          ],
          [
           "Partial"
          ],
          [
           "Normal"
          ],
          [
           "Normal"
          ],
          [
           "Normal"
          ],
          [
           "Normal"
          ],
          [
           "Normal"
          ],
          [
           "Abnorml"
          ],
          [
           "Normal"
          ],
          [
           "Normal"
          ],
          [
           "Normal"
          ],
          [
           "Normal"
          ],
          [
           "Normal"
          ],
          [
           "Normal"
          ],
          [
           "Normal"
          ],
          [
           "Normal"
          ],
          [
           "Normal"
          ],
          [
           "Normal"
          ],
          [
           "Normal"
          ],
          [
           "Normal"
          ],
          [
           "Normal"
          ],
          [
           "Normal"
          ],
          [
           "Normal"
          ],
          [
           "Normal"
          ],
          [
           "Normal"
          ],
          [
           "Normal"
          ],
          [
           "Normal"
          ],
          [
           "Normal"
          ],
          [
           "Abnorml"
          ],
          [
           "Partial"
          ],
          [
           "Normal"
          ],
          [
           "Normal"
          ],
          [
           "Abnorml"
          ],
          [
           "Normal"
          ],
          [
           "Abnorml"
          ],
          [
           "Abnorml"
          ],
          [
           "Normal"
          ],
          [
           "Normal"
          ],
          [
           "Partial"
          ],
          [
           "Normal"
          ],
          [
           "Normal"
          ],
          [
           "Normal"
          ],
          [
           "Partial"
          ],
          [
           "Normal"
          ],
          [
           "Normal"
          ],
          [
           "Partial"
          ],
          [
           "Normal"
          ],
          [
           "Normal"
          ],
          [
           "Normal"
          ],
          [
           "Normal"
          ],
          [
           "Normal"
          ],
          [
           "Normal"
          ],
          [
           "Partial"
          ],
          [
           "Normal"
          ],
          [
           "Partial"
          ],
          [
           "Normal"
          ],
          [
           "Normal"
          ],
          [
           "Normal"
          ],
          [
           "Normal"
          ],
          [
           "Abnorml"
          ],
          [
           "Normal"
          ],
          [
           "Normal"
          ],
          [
           "Normal"
          ],
          [
           "Normal"
          ],
          [
           "Normal"
          ],
          [
           "Alloca"
          ],
          [
           "Normal"
          ],
          [
           "Normal"
          ],
          [
           "Normal"
          ],
          [
           "Normal"
          ],
          [
           "Partial"
          ],
          [
           "Normal"
          ],
          [
           "Abnorml"
          ],
          [
           "Normal"
          ],
          [
           "Normal"
          ],
          [
           "Partial"
          ],
          [
           "Normal"
          ],
          [
           "Normal"
          ],
          [
           "Normal"
          ],
          [
           "Normal"
          ],
          [
           "Normal"
          ],
          [
           "Normal"
          ],
          [
           "Normal"
          ],
          [
           "Normal"
          ],
          [
           "Normal"
          ],
          [
           "Family"
          ],
          [
           "Normal"
          ],
          [
           "Abnorml"
          ],
          [
           "Normal"
          ],
          [
           "Family"
          ],
          [
           "Normal"
          ],
          [
           "Normal"
          ],
          [
           "Abnorml"
          ],
          [
           "Normal"
          ],
          [
           "Normal"
          ],
          [
           "Normal"
          ],
          [
           "Partial"
          ],
          [
           "Normal"
          ],
          [
           "Normal"
          ],
          [
           "Normal"
          ],
          [
           "Normal"
          ],
          [
           "Partial"
          ],
          [
           "Normal"
          ],
          [
           "Normal"
          ],
          [
           "Normal"
          ],
          [
           "Normal"
          ],
          [
           "Normal"
          ],
          [
           "Normal"
          ],
          [
           "Normal"
          ],
          [
           "Normal"
          ],
          [
           "Normal"
          ],
          [
           "Normal"
          ],
          [
           "Family"
          ],
          [
           "Normal"
          ],
          [
           "Normal"
          ],
          [
           "Abnorml"
          ],
          [
           "Normal"
          ],
          [
           "Normal"
          ],
          [
           "Normal"
          ],
          [
           "Normal"
          ],
          [
           "Normal"
          ],
          [
           "Partial"
          ],
          [
           "Normal"
          ],
          [
           "Abnorml"
          ],
          [
           "Normal"
          ],
          [
           "Normal"
          ],
          [
           "Normal"
          ],
          [
           "Normal"
          ],
          [
           "Normal"
          ],
          [
           "Normal"
          ],
          [
           "Normal"
          ],
          [
           "Normal"
          ],
          [
           "Normal"
          ],
          [
           "Normal"
          ],
          [
           "Normal"
          ],
          [
           "Partial"
          ],
          [
           "Normal"
          ],
          [
           "Normal"
          ],
          [
           "Abnorml"
          ],
          [
           "Normal"
          ],
          [
           "Normal"
          ],
          [
           "Normal"
          ],
          [
           "Normal"
          ],
          [
           "Partial"
          ],
          [
           "Normal"
          ],
          [
           "Partial"
          ],
          [
           "Normal"
          ],
          [
           "Normal"
          ],
          [
           "Normal"
          ],
          [
           "Normal"
          ],
          [
           "Abnorml"
          ],
          [
           "Normal"
          ],
          [
           "Normal"
          ],
          [
           "Normal"
          ],
          [
           "Normal"
          ],
          [
           "Normal"
          ],
          [
           "Normal"
          ],
          [
           "Normal"
          ],
          [
           "Normal"
          ],
          [
           "Partial"
          ],
          [
           "Normal"
          ],
          [
           "Normal"
          ],
          [
           "Normal"
          ],
          [
           "Normal"
          ],
          [
           "Normal"
          ],
          [
           "Partial"
          ],
          [
           "Abnorml"
          ],
          [
           "Normal"
          ],
          [
           "Abnorml"
          ],
          [
           "Normal"
          ],
          [
           "Normal"
          ],
          [
           "Normal"
          ],
          [
           "Normal"
          ],
          [
           "Normal"
          ],
          [
           "Normal"
          ],
          [
           "Normal"
          ],
          [
           "Normal"
          ],
          [
           "Normal"
          ],
          [
           "Normal"
          ],
          [
           "Normal"
          ],
          [
           "Normal"
          ],
          [
           "Normal"
          ],
          [
           "Normal"
          ],
          [
           "Normal"
          ],
          [
           "Normal"
          ],
          [
           "Abnorml"
          ],
          [
           "Normal"
          ],
          [
           "Normal"
          ],
          [
           "Normal"
          ],
          [
           "Normal"
          ],
          [
           "Normal"
          ],
          [
           "Family"
          ],
          [
           "Normal"
          ],
          [
           "Normal"
          ],
          [
           "Normal"
          ],
          [
           "Alloca"
          ],
          [
           "Normal"
          ],
          [
           "Abnorml"
          ],
          [
           "Normal"
          ],
          [
           "Normal"
          ],
          [
           "Normal"
          ],
          [
           "Normal"
          ],
          [
           "Normal"
          ],
          [
           "Normal"
          ],
          [
           "Normal"
          ],
          [
           "Normal"
          ],
          [
           "Normal"
          ],
          [
           "Normal"
          ],
          [
           "Normal"
          ],
          [
           "Normal"
          ],
          [
           "Normal"
          ],
          [
           "Normal"
          ],
          [
           "Normal"
          ],
          [
           "Normal"
          ],
          [
           "Abnorml"
          ],
          [
           "Normal"
          ],
          [
           "Normal"
          ],
          [
           "Normal"
          ],
          [
           "Normal"
          ],
          [
           "Normal"
          ],
          [
           "Normal"
          ],
          [
           "Normal"
          ],
          [
           "Partial"
          ],
          [
           "Normal"
          ],
          [
           "Normal"
          ],
          [
           "Normal"
          ],
          [
           "Normal"
          ],
          [
           "Normal"
          ],
          [
           "Normal"
          ],
          [
           "Abnorml"
          ],
          [
           "Normal"
          ],
          [
           "Partial"
          ],
          [
           "Normal"
          ],
          [
           "Partial"
          ],
          [
           "Normal"
          ],
          [
           "Normal"
          ],
          [
           "Normal"
          ],
          [
           "Normal"
          ],
          [
           "Normal"
          ],
          [
           "Normal"
          ],
          [
           "Normal"
          ],
          [
           "Normal"
          ],
          [
           "Normal"
          ],
          [
           "Normal"
          ],
          [
           "Normal"
          ],
          [
           "Normal"
          ],
          [
           "Normal"
          ],
          [
           "Normal"
          ],
          [
           "Normal"
          ],
          [
           "Normal"
          ],
          [
           "Partial"
          ],
          [
           "Normal"
          ],
          [
           "Normal"
          ],
          [
           "Normal"
          ],
          [
           "Abnorml"
          ],
          [
           "Partial"
          ],
          [
           "Normal"
          ],
          [
           "Normal"
          ],
          [
           "Normal"
          ],
          [
           "Normal"
          ],
          [
           "Partial"
          ],
          [
           "Family"
          ],
          [
           "Partial"
          ],
          [
           "Normal"
          ],
          [
           "Normal"
          ],
          [
           "Normal"
          ],
          [
           "Normal"
          ],
          [
           "Normal"
          ],
          [
           "Normal"
          ],
          [
           "Alloca"
          ],
          [
           "Normal"
          ],
          [
           "Normal"
          ],
          [
           "Normal"
          ],
          [
           "Normal"
          ],
          [
           "Normal"
          ],
          [
           "Normal"
          ],
          [
           "Partial"
          ],
          [
           "Normal"
          ],
          [
           "Normal"
          ],
          [
           "Family"
          ],
          [
           "Normal"
          ],
          [
           "Partial"
          ],
          [
           "Partial"
          ],
          [
           "Normal"
          ],
          [
           "Normal"
          ],
          [
           "Abnorml"
          ],
          [
           "Normal"
          ],
          [
           "Normal"
          ],
          [
           "Normal"
          ],
          [
           "Normal"
          ],
          [
           "Normal"
          ],
          [
           "Normal"
          ],
          [
           "Normal"
          ],
          [
           "Normal"
          ],
          [
           "Normal"
          ],
          [
           "Normal"
          ],
          [
           "Normal"
          ],
          [
           "Normal"
          ],
          [
           "Normal"
          ],
          [
           "Normal"
          ],
          [
           "Normal"
          ],
          [
           "Normal"
          ],
          [
           "Normal"
          ],
          [
           "Normal"
          ],
          [
           "Normal"
          ],
          [
           "Normal"
          ],
          [
           "Normal"
          ],
          [
           "Normal"
          ],
          [
           "Normal"
          ],
          [
           "Normal"
          ],
          [
           "Normal"
          ],
          [
           "Abnorml"
          ],
          [
           "Normal"
          ],
          [
           "Normal"
          ],
          [
           "Normal"
          ],
          [
           "Family"
          ],
          [
           "Normal"
          ],
          [
           "Normal"
          ],
          [
           "Normal"
          ],
          [
           "Normal"
          ],
          [
           "Normal"
          ],
          [
           "Partial"
          ],
          [
           "Normal"
          ],
          [
           "Partial"
          ],
          [
           "Normal"
          ],
          [
           "Normal"
          ],
          [
           "Normal"
          ],
          [
           "Normal"
          ],
          [
           "Normal"
          ],
          [
           "Normal"
          ],
          [
           "Normal"
          ],
          [
           "Abnorml"
          ],
          [
           "Partial"
          ],
          [
           "Normal"
          ],
          [
           "Normal"
          ],
          [
           "Normal"
          ],
          [
           "Normal"
          ],
          [
           "Normal"
          ],
          [
           "Normal"
          ],
          [
           "Normal"
          ],
          [
           "Normal"
          ],
          [
           "Normal"
          ],
          [
           "Abnorml"
          ],
          [
           "Family"
          ],
          [
           "Normal"
          ],
          [
           "Normal"
          ],
          [
           "Normal"
          ],
          [
           "Normal"
          ],
          [
           "Normal"
          ],
          [
           "Normal"
          ],
          [
           "Normal"
          ],
          [
           "Alloca"
          ],
          [
           "Normal"
          ],
          [
           "Abnorml"
          ],
          [
           "Alloca"
          ],
          [
           "Partial"
          ],
          [
           "Normal"
          ],
          [
           "Normal"
          ],
          [
           "Normal"
          ],
          [
           "Normal"
          ],
          [
           "Partial"
          ],
          [
           "Normal"
          ],
          [
           "Normal"
          ],
          [
           "Normal"
          ],
          [
           "Normal"
          ],
          [
           "Normal"
          ],
          [
           "Normal"
          ],
          [
           "Normal"
          ],
          [
           "Normal"
          ],
          [
           "Abnorml"
          ],
          [
           "Normal"
          ],
          [
           "Partial"
          ],
          [
           "Normal"
          ],
          [
           "Abnorml"
          ],
          [
           "Normal"
          ],
          [
           "Normal"
          ],
          [
           "Normal"
          ],
          [
           "Normal"
          ],
          [
           "Normal"
          ],
          [
           "Partial"
          ],
          [
           "Normal"
          ],
          [
           "Normal"
          ],
          [
           "Abnorml"
          ],
          [
           "Normal"
          ],
          [
           "Normal"
          ],
          [
           "Normal"
          ],
          [
           "Normal"
          ],
          [
           "Normal"
          ],
          [
           "Normal"
          ],
          [
           "Normal"
          ],
          [
           "Normal"
          ],
          [
           "Normal"
          ],
          [
           "Normal"
          ],
          [
           "Normal"
          ],
          [
           "Normal"
          ],
          [
           "Partial"
          ],
          [
           "Normal"
          ],
          [
           "Normal"
          ],
          [
           "Normal"
          ],
          [
           "Abnorml"
          ],
          [
           "Normal"
          ],
          [
           "Abnorml"
          ],
          [
           "Normal"
          ],
          [
           "Normal"
          ],
          [
           "Normal"
          ],
          [
           "Normal"
          ],
          [
           "Normal"
          ],
          [
           "Normal"
          ],
          [
           "Abnorml"
          ],
          [
           "Normal"
          ],
          [
           "Normal"
          ],
          [
           "AdjLand"
          ],
          [
           "Normal"
          ],
          [
           "Normal"
          ],
          [
           "Normal"
          ],
          [
           "Normal"
          ],
          [
           "Normal"
          ],
          [
           "Normal"
          ],
          [
           "Normal"
          ],
          [
           "Normal"
          ],
          [
           "Normal"
          ],
          [
           "Normal"
          ],
          [
           "Partial"
          ],
          [
           "Normal"
          ],
          [
           "Normal"
          ],
          [
           "Abnorml"
          ],
          [
           "Normal"
          ],
          [
           "Abnorml"
          ],
          [
           "Normal"
          ],
          [
           "Normal"
          ],
          [
           "Partial"
          ],
          [
           "Normal"
          ],
          [
           "Normal"
          ],
          [
           "Normal"
          ],
          [
           "Partial"
          ],
          [
           "Abnorml"
          ],
          [
           "Normal"
          ],
          [
           "Normal"
          ],
          [
           "Normal"
          ],
          [
           "Normal"
          ],
          [
           "Normal"
          ],
          [
           "Normal"
          ],
          [
           "Normal"
          ],
          [
           "Normal"
          ],
          [
           "Partial"
          ],
          [
           "Normal"
          ],
          [
           "Partial"
          ],
          [
           "Normal"
          ],
          [
           "Normal"
          ],
          [
           "Normal"
          ],
          [
           "Partial"
          ],
          [
           "Normal"
          ],
          [
           "Abnorml"
          ],
          [
           "Normal"
          ],
          [
           "Normal"
          ],
          [
           "Normal"
          ],
          [
           "Normal"
          ],
          [
           "Normal"
          ],
          [
           "Abnorml"
          ],
          [
           "Normal"
          ],
          [
           "Normal"
          ],
          [
           "Normal"
          ],
          [
           "Normal"
          ],
          [
           "Normal"
          ],
          [
           "Normal"
          ],
          [
           "Normal"
          ],
          [
           "Normal"
          ],
          [
           "Normal"
          ],
          [
           "Normal"
          ],
          [
           "Normal"
          ],
          [
           "Normal"
          ],
          [
           "Normal"
          ],
          [
           "Normal"
          ],
          [
           "Normal"
          ],
          [
           "Abnorml"
          ],
          [
           "Normal"
          ],
          [
           "Normal"
          ],
          [
           "Normal"
          ],
          [
           "Partial"
          ],
          [
           "Normal"
          ],
          [
           "Normal"
          ],
          [
           "Abnorml"
          ],
          [
           "Normal"
          ],
          [
           "Normal"
          ],
          [
           "Partial"
          ],
          [
           "Normal"
          ],
          [
           "Normal"
          ],
          [
           "Normal"
          ],
          [
           "Normal"
          ],
          [
           "Abnorml"
          ],
          [
           "Normal"
          ],
          [
           "Normal"
          ],
          [
           "Normal"
          ],
          [
           "Normal"
          ],
          [
           "Normal"
          ],
          [
           "Normal"
          ],
          [
           "Normal"
          ],
          [
           "Normal"
          ],
          [
           "Normal"
          ],
          [
           "Normal"
          ],
          [
           "Normal"
          ],
          [
           "Normal"
          ],
          [
           "Normal"
          ],
          [
           "Partial"
          ],
          [
           "Normal"
          ],
          [
           "Normal"
          ],
          [
           "Abnorml"
          ],
          [
           "Partial"
          ],
          [
           "Partial"
          ],
          [
           "Normal"
          ],
          [
           "Normal"
          ],
          [
           "Normal"
          ],
          [
           "Abnorml"
          ],
          [
           "Normal"
          ],
          [
           "Normal"
          ],
          [
           "Normal"
          ],
          [
           "Normal"
          ],
          [
           "Normal"
          ],
          [
           "Normal"
          ],
          [
           "Normal"
          ],
          [
           "Normal"
          ],
          [
           "Normal"
          ],
          [
           "Normal"
          ],
          [
           "Normal"
          ],
          [
           "Normal"
          ],
          [
           "Normal"
          ],
          [
           "Normal"
          ],
          [
           "Normal"
          ],
          [
           "Normal"
          ],
          [
           "Normal"
          ],
          [
           "Normal"
          ],
          [
           "Normal"
          ],
          [
           "Normal"
          ],
          [
           "Normal"
          ],
          [
           "Abnorml"
          ],
          [
           "Normal"
          ],
          [
           "Normal"
          ],
          [
           "Abnorml"
          ],
          [
           "Normal"
          ],
          [
           "Normal"
          ],
          [
           "Normal"
          ],
          [
           "Normal"
          ],
          [
           "Normal"
          ],
          [
           "Normal"
          ],
          [
           "Normal"
          ],
          [
           "Normal"
          ],
          [
           "Normal"
          ],
          [
           "Normal"
          ],
          [
           "Normal"
          ],
          [
           "Normal"
          ],
          [
           "Normal"
          ],
          [
           "Normal"
          ],
          [
           "Normal"
          ],
          [
           "Normal"
          ],
          [
           "Normal"
          ],
          [
           "Normal"
          ],
          [
           "Abnorml"
          ],
          [
           "Normal"
          ],
          [
           "Normal"
          ],
          [
           "Family"
          ],
          [
           "Normal"
          ],
          [
           "Normal"
          ],
          [
           "Normal"
          ],
          [
           "Normal"
          ],
          [
           "Partial"
          ],
          [
           "Abnorml"
          ],
          [
           "Normal"
          ],
          [
           "Normal"
          ],
          [
           "Normal"
          ],
          [
           "Normal"
          ],
          [
           "Normal"
          ],
          [
           "Normal"
          ],
          [
           "Partial"
          ],
          [
           "Normal"
          ],
          [
           "Normal"
          ],
          [
           "Normal"
          ],
          [
           "Normal"
          ],
          [
           "Normal"
          ],
          [
           "Partial"
          ],
          [
           "Abnorml"
          ],
          [
           "Normal"
          ],
          [
           "Normal"
          ],
          [
           "Normal"
          ],
          [
           "Normal"
          ],
          [
           "Family"
          ],
          [
           "Normal"
          ],
          [
           "Normal"
          ],
          [
           "Normal"
          ],
          [
           "Abnorml"
          ],
          [
           "Normal"
          ],
          [
           "Normal"
          ],
          [
           "Normal"
          ],
          [
           "Normal"
          ],
          [
           "Abnorml"
          ],
          [
           "Normal"
          ],
          [
           "Normal"
          ],
          [
           "Normal"
          ],
          [
           "Abnorml"
          ],
          [
           "Normal"
          ],
          [
           "Partial"
          ],
          [
           "Normal"
          ],
          [
           "Normal"
          ],
          [
           "Family"
          ],
          [
           "Normal"
          ],
          [
           "Normal"
          ],
          [
           "Normal"
          ],
          [
           "Normal"
          ],
          [
           "Normal"
          ],
          [
           "Normal"
          ],
          [
           "Abnorml"
          ],
          [
           "Normal"
          ],
          [
           "Normal"
          ],
          [
           "Normal"
          ],
          [
           "Normal"
          ],
          [
           "Normal"
          ],
          [
           "Partial"
          ],
          [
           "Normal"
          ],
          [
           "Normal"
          ],
          [
           "Normal"
          ],
          [
           "Normal"
          ],
          [
           "Alloca"
          ],
          [
           "Normal"
          ],
          [
           "Partial"
          ],
          [
           "Normal"
          ],
          [
           "Normal"
          ],
          [
           "Normal"
          ],
          [
           "Normal"
          ],
          [
           "Normal"
          ],
          [
           "Normal"
          ],
          [
           "Normal"
          ],
          [
           "Normal"
          ],
          [
           "Normal"
          ],
          [
           "Normal"
          ],
          [
           "Normal"
          ],
          [
           "Normal"
          ],
          [
           "Normal"
          ],
          [
           "Normal"
          ],
          [
           "Normal"
          ],
          [
           "Partial"
          ],
          [
           "Abnorml"
          ],
          [
           "Normal"
          ],
          [
           "Normal"
          ],
          [
           "Normal"
          ],
          [
           "Abnorml"
          ],
          [
           "Normal"
          ],
          [
           "Normal"
          ],
          [
           "Normal"
          ],
          [
           "Normal"
          ],
          [
           "Normal"
          ],
          [
           "Normal"
          ],
          [
           "Normal"
          ],
          [
           "Normal"
          ],
          [
           "Normal"
          ],
          [
           "Partial"
          ],
          [
           "Normal"
          ],
          [
           "Normal"
          ],
          [
           "Normal"
          ],
          [
           "Abnorml"
          ],
          [
           "Normal"
          ],
          [
           "Normal"
          ],
          [
           "Normal"
          ],
          [
           "Normal"
          ],
          [
           "Normal"
          ],
          [
           "Normal"
          ],
          [
           "Normal"
          ],
          [
           "Normal"
          ],
          [
           "Partial"
          ],
          [
           "Normal"
          ],
          [
           "Normal"
          ],
          [
           "Normal"
          ],
          [
           "Normal"
          ],
          [
           "Normal"
          ],
          [
           "Normal"
          ],
          [
           "Normal"
          ],
          [
           "Partial"
          ],
          [
           "Normal"
          ],
          [
           "Abnorml"
          ],
          [
           "Abnorml"
          ],
          [
           "Normal"
          ],
          [
           "Normal"
          ],
          [
           "Normal"
          ],
          [
           "Normal"
          ],
          [
           "Normal"
          ],
          [
           "Normal"
          ],
          [
           "Normal"
          ],
          [
           "Partial"
          ],
          [
           "Normal"
          ],
          [
           "Normal"
          ],
          [
           "Normal"
          ],
          [
           "Normal"
          ],
          [
           "Abnorml"
          ],
          [
           "Abnorml"
          ],
          [
           "Normal"
          ],
          [
           "Normal"
          ],
          [
           "Normal"
          ],
          [
           "Abnorml"
          ],
          [
           "Normal"
          ],
          [
           "Normal"
          ],
          [
           "Partial"
          ],
          [
           "Family"
          ],
          [
           "Partial"
          ],
          [
           "Normal"
          ],
          [
           "Abnorml"
          ],
          [
           "Partial"
          ],
          [
           "Normal"
          ],
          [
           "Normal"
          ],
          [
           "Normal"
          ],
          [
           "Normal"
          ],
          [
           "Normal"
          ],
          [
           "Normal"
          ],
          [
           "Normal"
          ],
          [
           "Normal"
          ],
          [
           "Normal"
          ],
          [
           "Normal"
          ],
          [
           "Normal"
          ],
          [
           "Normal"
          ],
          [
           "Normal"
          ],
          [
           "Normal"
          ],
          [
           "Normal"
          ],
          [
           "Normal"
          ],
          [
           "Normal"
          ],
          [
           "Abnorml"
          ],
          [
           "Normal"
          ],
          [
           "Normal"
          ],
          [
           "Normal"
          ],
          [
           "Normal"
          ],
          [
           "Normal"
          ],
          [
           "Normal"
          ],
          [
           "Normal"
          ],
          [
           "Normal"
          ],
          [
           "Normal"
          ],
          [
           "Normal"
          ],
          [
           "Normal"
          ],
          [
           "Normal"
          ],
          [
           "Normal"
          ],
          [
           "Normal"
          ],
          [
           "Abnorml"
          ],
          [
           "Normal"
          ],
          [
           "Normal"
          ],
          [
           "Normal"
          ],
          [
           "Normal"
          ],
          [
           "Normal"
          ],
          [
           "Normal"
          ],
          [
           "Normal"
          ],
          [
           "Normal"
          ],
          [
           "Normal"
          ],
          [
           "Partial"
          ],
          [
           "Normal"
          ],
          [
           "Normal"
          ],
          [
           "Normal"
          ],
          [
           "Normal"
          ],
          [
           "Normal"
          ],
          [
           "Normal"
          ],
          [
           "Normal"
          ],
          [
           "Partial"
          ],
          [
           "Partial"
          ],
          [
           "Normal"
          ],
          [
           "Normal"
          ],
          [
           "Normal"
          ],
          [
           "Normal"
          ],
          [
           "Normal"
          ],
          [
           "Normal"
          ],
          [
           "Normal"
          ],
          [
           "Partial"
          ],
          [
           "Normal"
          ],
          [
           "Normal"
          ],
          [
           "Normal"
          ],
          [
           "Normal"
          ],
          [
           "Partial"
          ],
          [
           "Normal"
          ],
          [
           "Normal"
          ],
          [
           "Normal"
          ],
          [
           "Normal"
          ],
          [
           "Normal"
          ],
          [
           "Partial"
          ],
          [
           "Normal"
          ],
          [
           "Normal"
          ],
          [
           "Normal"
          ],
          [
           "Normal"
          ],
          [
           "Normal"
          ],
          [
           "Normal"
          ],
          [
           "Partial"
          ],
          [
           "Normal"
          ],
          [
           "Normal"
          ],
          [
           "Normal"
          ],
          [
           "Normal"
          ],
          [
           "Normal"
          ],
          [
           "Normal"
          ],
          [
           "Normal"
          ],
          [
           "Normal"
          ],
          [
           "Normal"
          ],
          [
           "Normal"
          ],
          [
           "Normal"
          ],
          [
           "Normal"
          ],
          [
           "Normal"
          ],
          [
           "Normal"
          ],
          [
           "Normal"
          ],
          [
           "Normal"
          ],
          [
           "Normal"
          ],
          [
           "Normal"
          ],
          [
           "Normal"
          ],
          [
           "Partial"
          ],
          [
           "Normal"
          ],
          [
           "Normal"
          ],
          [
           "Partial"
          ],
          [
           "Normal"
          ],
          [
           "Normal"
          ],
          [
           "Normal"
          ],
          [
           "Normal"
          ],
          [
           "Normal"
          ],
          [
           "Normal"
          ],
          [
           "Normal"
          ],
          [
           "Normal"
          ],
          [
           "Normal"
          ],
          [
           "Normal"
          ],
          [
           "Normal"
          ],
          [
           "Normal"
          ],
          [
           "Normal"
          ],
          [
           "Normal"
          ],
          [
           "Normal"
          ],
          [
           "Partial"
          ],
          [
           "Abnorml"
          ],
          [
           "Normal"
          ],
          [
           "Abnorml"
          ],
          [
           "Normal"
          ],
          [
           "Normal"
          ],
          [
           "Normal"
          ],
          [
           "Normal"
          ],
          [
           "Normal"
          ],
          [
           "Normal"
          ],
          [
           "Normal"
          ],
          [
           "Normal"
          ],
          [
           "Partial"
          ],
          [
           "Normal"
          ],
          [
           "Normal"
          ],
          [
           "Normal"
          ],
          [
           "Normal"
          ],
          [
           "Normal"
          ],
          [
           "Normal"
          ],
          [
           "Normal"
          ],
          [
           "Normal"
          ],
          [
           "Normal"
          ],
          [
           "Normal"
          ],
          [
           "Normal"
          ],
          [
           "Family"
          ],
          [
           "Normal"
          ],
          [
           "Normal"
          ],
          [
           "Normal"
          ],
          [
           "Normal"
          ],
          [
           "Normal"
          ],
          [
           "Normal"
          ],
          [
           "Partial"
          ],
          [
           "Normal"
          ],
          [
           "Normal"
          ],
          [
           "Normal"
          ],
          [
           "Normal"
          ],
          [
           "Normal"
          ],
          [
           "Normal"
          ],
          [
           "Normal"
          ],
          [
           "Partial"
          ],
          [
           "Normal"
          ],
          [
           "Family"
          ],
          [
           "Normal"
          ],
          [
           "Normal"
          ],
          [
           "Normal"
          ],
          [
           "Normal"
          ],
          [
           "Normal"
          ],
          [
           "Normal"
          ],
          [
           "Normal"
          ],
          [
           "Normal"
          ],
          [
           "Abnorml"
          ],
          [
           "Normal"
          ],
          [
           "Normal"
          ],
          [
           "Normal"
          ],
          [
           "Normal"
          ],
          [
           "Normal"
          ],
          [
           "Normal"
          ],
          [
           "Normal"
          ],
          [
           "Normal"
          ],
          [
           "Normal"
          ],
          [
           "Alloca"
          ],
          [
           "Normal"
          ],
          [
           "Normal"
          ],
          [
           "Normal"
          ],
          [
           "Normal"
          ],
          [
           "Abnorml"
          ],
          [
           "Normal"
          ],
          [
           "Normal"
          ],
          [
           "Normal"
          ],
          [
           "Normal"
          ],
          [
           "Normal"
          ],
          [
           "Normal"
          ],
          [
           "Abnorml"
          ],
          [
           "Normal"
          ],
          [
           "Partial"
          ],
          [
           "Normal"
          ],
          [
           "Normal"
          ],
          [
           "Normal"
          ],
          [
           "Normal"
          ],
          [
           "Normal"
          ],
          [
           "Normal"
          ],
          [
           "Normal"
          ],
          [
           "Normal"
          ],
          [
           "Normal"
          ],
          [
           "Normal"
          ],
          [
           "Normal"
          ],
          [
           "Abnorml"
          ],
          [
           "Normal"
          ],
          [
           "Partial"
          ],
          [
           "Normal"
          ],
          [
           "Abnorml"
          ],
          [
           "Normal"
          ],
          [
           "Normal"
          ],
          [
           "Normal"
          ],
          [
           "Normal"
          ],
          [
           "Normal"
          ],
          [
           "Normal"
          ]
         ],
         "hovertemplate": "SalePrice=%{x}<br>GrLivArea=%{y}<br>SaleCondition=%{customdata[0]}<br>GarageArea=%{marker.color}<extra></extra>",
         "legendgroup": "",
         "marker": {
          "color": [
           548,
           460,
           608,
           642,
           836,
           480,
           636,
           484,
           468,
           205,
           384,
           736,
           352,
           840,
           352,
           576,
           480,
           516,
           576,
           294,
           853,
           280,
           534,
           572,
           270,
           890,
           576,
           772,
           319,
           240,
           250,
           271,
           484,
           447,
           556,
           691,
           672,
           498,
           246,
           0,
           440,
           308,
           504,
           308,
           300,
           576,
           670,
           826,
           0,
           386,
           388,
           528,
           516,
           894,
           572,
           576,
           480,
           565,
           641,
           352,
           576,
           288,
           484,
           480,
           645,
           852,
           576,
           558,
           220,
           667,
           516,
           360,
           427,
           490,
           379,
           297,
           283,
           240,
           0,
           440,
           509,
           405,
           758,
           461,
           400,
           462,
           400,
           528,
           0,
           0,
           420,
           480,
           432,
           506,
           684,
           420,
           472,
           432,
           366,
           0,
           480,
           476,
           410,
           740,
           240,
           648,
           273,
           250,
           0,
           546,
           325,
           400,
           792,
           450,
           180,
           440,
           288,
           430,
           594,
           390,
           540,
           264,
           288,
           530,
           435,
           0,
           440,
           0,
           453,
           750,
           487,
           390,
           624,
           471,
           440,
           530,
           318,
           766,
           660,
           470,
           0,
           660,
           720,
           577,
           504,
           380,
           180,
           434,
           0,
           240,
           440,
           866,
           495,
           564,
           312,
           0,
           625,
           680,
           678,
           576,
           516,
           726,
           532,
           0,
           216,
           0,
           303,
           789,
           440,
           511,
           660,
           528,
           504,
           504,
           616,
           576,
           521,
           451,
           1166,
           480,
           440,
           216,
           252,
           484,
           576,
           840,
           497,
           180,
           528,
           682,
           440,
           484,
           666,
           380,
           352,
           440,
           786,
           795,
           0,
           856,
           440,
           473,
           398,
           420,
           240,
           500,
           349,
           312,
           454,
           504,
           0,
           460,
           644,
           576,
           299,
           447,
           484,
           210,
           431,
           438,
           675,
           390,
           434,
           576,
           968,
           280,
           721,
           280,
           336,
           430,
           312,
           810,
           288,
           308,
           440,
           264,
           494,
           457,
           818,
           220,
           750,
           0,
           352,
           288,
           463,
           604,
           440,
           451,
           500,
           389,
           0,
           538,
           520,
           309,
           294,
           429,
           673,
           660,
           564,
           308,
           884,
           868,
           492,
           484,
           504,
           576,
           413,
           240,
           924,
           504,
           1053,
           439,
           671,
           338,
           264,
           672,
           573,
           400,
           732,
           505,
           575,
           572,
           626,
           898,
           529,
           528,
           440,
           0,
           280,
           384,
           685,
           0,
           281,
           539,
           418,
           588,
           282,
           576,
           539,
           300,
           375,
           683,
           843,
           552,
           870,
           888,
           746,
           0,
           539,
           708,
           420,
           240,
           410,
           513,
           546,
           432,
           484,
           1025,
           656,
           588,
           840,
           872,
           576,
           220,
           564,
           360,
           473,
           292,
           441,
           189,
           352,
           308,
           880,
           484,
           472,
           529,
           676,
           532,
           440,
           297,
           431,
           294,
           400,
           564,
           336,
           312,
           301,
           498,
           474,
           706,
           617,
           445,
           200,
           484,
           240,
           521,
           400,
           528,
           288,
           592,
           470,
           240,
           672,
           264,
           566,
           468,
           514,
           296,
           244,
           576,
           460,
           680,
           264,
           270,
           434,
           0,
           576,
           610,
           834,
           463,
           308,
           572,
           639,
           360,
           501,
           430,
           0,
           352,
           577,
           846,
           384,
           560,
           294,
           0,
           240,
           596,
           600,
           264,
           338,
           438,
           500,
           400,
           240,
           420,
           373,
           490,
           240,
           308,
           947,
           836,
           350,
           572,
           484,
           360,
           678,
           396,
           440,
           864,
           240,
           304,
           784,
           529,
           520,
           696,
           297,
           240,
           569,
           352,
           628,
           576,
           264,
           0,
           440,
           470,
           0,
           550,
           440,
           180,
           352,
           528,
           672,
           0,
           360,
           648,
           493,
           480,
           578,
           431,
           198,
           308,
           270,
           576,
           422,
           676,
           560,
           528,
           513,
           529,
           228,
           352,
           552,
           576,
           360,
           240,
           0,
           398,
           526,
           312,
           866,
           506,
           528,
           534,
           525,
           908,
           499,
           624,
           508,
           694,
           826,
           672,
           772,
           874,
           164,
           402,
           264,
           264,
           515,
           487,
           520,
           286,
           336,
           240,
           429,
           308,
           273,
           0,
           546,
           240,
           288,
           297,
           264,
           603,
           461,
           484,
           440,
           400,
           471,
           676,
           360,
           270,
           288,
           474,
           624,
           484,
           200,
           900,
           583,
           889,
           546,
           282,
           0,
           336,
           420,
           884,
           834,
           453,
           252,
           858,
           0,
           484,
           600,
           502,
           392,
           0,
           403,
           0,
           527,
           576,
           336,
           670,
           765,
           648,
           583,
           367,
           426,
           786,
           440,
           624,
           720,
           615,
           440,
           288,
           908,
           520,
           871,
           280,
           299,
           570,
           406,
           420,
           528,
           418,
           0,
           396,
           590,
           216,
           656,
           532,
           612,
           600,
           576,
           288,
           650,
           400,
           288,
           336,
           216,
           564,
           540,
           352,
           572,
           1390,
           0,
           880,
           240,
           880,
           275,
           528,
           452,
           308,
           520,
           842,
           816,
           420,
           280,
           758,
           216,
           648,
           621,
           452,
           736,
           544,
           506,
           480,
           530,
           486,
           576,
           230,
           380,
           261,
           736,
           564,
           531,
           0,
           0,
           480,
           393,
           528,
           774,
           749,
           0,
           624,
           484,
           440,
           484,
           440,
           286,
           364,
           504,
           520,
           240,
           627,
           544,
           260,
           576,
           0,
           0,
           256,
           0,
           648,
           588,
           650,
           538,
           462,
           478,
           576,
           420,
           495,
           442,
           0,
           562,
           296,
           512,
           216,
           839,
           264,
           312,
           270,
           330,
           480,
           550,
           711,
           576,
           588,
           1134,
           504,
           596,
           575,
           576,
           252,
           540,
           300,
           546,
           416,
           384,
           440,
           779,
           240,
           834,
           572,
           264,
           281,
           431,
           702,
           486,
           577,
           578,
           480,
           567,
           460,
           420,
           832,
           628,
           326,
           576,
           551,
           205,
           308,
           336,
           530,
           765,
           528,
           666,
           672,
           606,
           0,
           739,
           550,
           400,
           408,
           0,
           384,
           472,
           576,
           475,
           478,
           704,
           439,
           983,
           300,
           564,
           420,
           463,
           548,
           768,
           660,
           540,
           632,
           888,
           539,
           608,
           438,
           541,
           264,
           300,
           320,
           400,
           800,
           0,
           572,
           360,
           288,
           539,
           480,
           462,
           831,
           554,
           864,
           527,
           240,
           0,
           400,
           576,
           878,
           440,
           440,
           578,
           440,
           440,
           752,
           300,
           440,
           614,
           856,
           481,
           592,
           496,
           423,
           484,
           841,
           576,
           396,
           672,
           275,
           895,
           412,
           865,
           440,
           630,
           504,
           402,
           484,
           605,
           602,
           0,
           457,
           416,
           618,
           281,
           444,
           397,
           539,
           455,
           474,
           409,
           476,
           528,
           240,
           820,
           240,
           603,
           440,
           410,
           1020,
           286,
           554,
           384,
           528,
           484,
           360,
           484,
           420,
           504,
           301,
           280,
           598,
           275,
           857,
           440,
           484,
           595,
           576,
           433,
           240,
           776,
           1220,
           0,
           527,
           538,
           480,
           458,
           480,
           613,
           472,
           456,
           436,
           812,
           264,
           352,
           240,
           400,
           686,
           490,
           0,
           720,
           611,
           425,
           338,
           360,
           512,
           420,
           400,
           240,
           645,
           454,
           260,
           576,
           343,
           479,
           619,
           216,
           504,
           480,
           672,
           529,
           902,
           870,
           544,
           672,
           574,
           308,
           523,
           414,
           288,
           200,
           550,
           648,
           738,
           576,
           336,
           450,
           400,
           389,
           440,
           288,
           506,
           588,
           300,
           621,
           505,
           576,
           440,
           264,
           354,
           400,
           483,
           327,
           528,
           820,
           288,
           684,
           756,
           393,
           690,
           288,
           280,
           865,
           180,
           484,
           390,
           480,
           252,
           450,
           871,
           528,
           286,
           308,
           284,
           833,
           601,
           471,
           0,
           397,
           533,
           612,
           540,
           656,
           486,
           522,
           642,
           610,
           429,
           788,
           570,
           505,
           528,
           555,
           689,
           868,
           349,
           574,
           390,
           0,
           576,
           525,
           456,
           796,
           808,
           474,
           676,
           720,
           300,
           396,
           530,
           0,
           492,
           462,
           576,
           531,
           484,
           0,
           619,
           440,
           702,
           510,
           393,
           256,
           260,
           0,
           264,
           0,
           474,
           264,
           480,
           532,
           490,
           0,
           569,
           400,
           480,
           588,
           676,
           388,
           779,
           539,
           240,
           255,
           606,
           551,
           614,
           870,
           424,
           440,
           564,
           786,
           305,
           368,
           615,
           210,
           632,
           528,
           216,
           824,
           528,
           457,
           328,
           484,
           286,
           550,
           0,
           312,
           0,
           180,
           280,
           240,
           528,
           478,
           565,
           402,
           440,
           451,
           632,
           160,
           437,
           665,
           461,
           461,
           800,
           240,
           264,
           0,
           672,
           796,
           900,
           240,
           290,
           912,
           905,
           0,
           286,
           484,
           484,
           624,
           514,
           542,
           452,
           716,
           672,
           336,
           308,
           436,
           440,
           540,
           364,
           586,
           478,
           484,
           467,
           836,
           432,
           582,
           1248,
           560,
           440,
           480,
           533,
           380,
           442,
           576,
           576,
           286,
           441,
           280,
           440,
           826,
           240,
           566,
           299,
           420,
           299,
           528,
           308,
           527,
           461,
           409,
           564,
           286,
           1043,
           380,
           550,
           400,
           462,
           576,
           884,
           308,
           440,
           0,
           461,
           240,
           478,
           246,
           280,
           254,
           539,
           440,
           712,
           719,
           422,
           463,
           862,
           431,
           483,
           308,
           240,
           326,
           928,
           527,
           450,
           300,
           286,
           308,
           782,
           288,
           0,
           392,
           672,
           660,
           630,
           434,
           672,
           576,
           0,
           205,
           466,
           460,
           180,
           288,
           0,
           714,
           495,
           840,
           484,
           1052,
           0,
           280,
           225,
           403,
           234,
           288,
           324,
           306,
           528,
           470,
           432,
           492,
           528,
           502,
           626,
           830,
           540,
           440,
           924,
           450,
           400,
           588,
           644,
           776,
           472,
           540,
           807,
           358,
           433,
           625,
           0,
           360,
           541,
           264,
           210,
           186,
           0,
           693,
           482,
           813,
           720,
           995,
           392,
           420,
           757,
           493,
           442,
           1356,
           492,
           250,
           402,
           299,
           400,
           660,
           225,
           573,
           459,
           280,
           546,
           216,
           451,
           495,
           701,
           384,
           544,
           506,
           500,
           462,
           492,
           234,
           364,
           300,
           384,
           539,
           552,
           0,
           0,
           288,
           322,
           315,
           528,
           388,
           264,
           668,
           576,
           1052,
           404,
           600,
           540,
           462,
           531,
           0,
           180,
           474,
           434,
           484,
           472,
           543,
           954,
           528,
           850,
           400,
           477,
           615,
           888,
           396,
           276,
           522,
           478,
           288,
           518,
           397,
           560,
           691,
           0,
           400,
           460,
           502,
           338,
           304,
           520,
           511,
           506,
           308,
           746,
           1014,
           315,
           586,
           462,
           288,
           312,
           552,
           400,
           497,
           480,
           577,
           528,
           544,
           484,
           484,
           0,
           336,
           280,
           528,
           390,
           499,
           753,
           484,
           264,
           432,
           528,
           572,
           288,
           525,
           525,
           1418,
           305,
           490,
           213,
           844,
           834,
           380,
           840,
           474,
           480,
           528,
           496,
           567,
           508,
           750,
           779,
           280,
           576,
           860,
           466,
           748,
           248,
           442,
           287,
           564,
           0,
           895,
           0,
           0,
           264,
           520,
           462,
           825,
           576,
           288,
           297,
           440,
           630,
           506,
           0,
           492,
           288,
           480,
           576,
           647,
           342,
           440,
           308,
           508,
           712,
           514,
           0,
           968,
           490,
           624,
           666,
           839,
           487,
           264,
           500,
           440,
           770,
           621,
           430,
           368,
           432,
           480,
           663,
           588,
           336,
           420,
           502,
           338,
           377,
           583,
           804,
           936,
           722,
           160,
           660,
           264,
           400,
           200,
           550,
           576,
           576,
           280,
           240,
           564,
           216,
           758,
           440,
           541,
           792,
           288,
           672,
           648,
           642,
           572,
           180,
           240,
           216,
           208,
           398,
           662,
           754,
           936,
           482,
           396,
           0,
           528,
           542,
           622,
           271,
           420,
           620,
           370,
           660,
           560,
           1069,
           336,
           540,
           776,
           440,
           420,
           432,
           484,
           528,
           525,
           288,
           240,
           467,
           372,
           440,
           216,
           451,
           484,
           462,
           528,
           774,
           923,
           550,
           672,
           420,
           812,
           192,
           626,
           240,
           312,
           556,
           384,
           0,
           0,
           840,
           525,
           0,
           400,
           460,
           500,
           252,
           240,
           276
          ],
          "coloraxis": "coloraxis",
          "opacity": 0.9,
          "size": 5,
          "symbol": "circle"
         },
         "mode": "markers",
         "name": "",
         "showlegend": false,
         "type": "scattergl",
         "x": [
          208500,
          181500,
          223500,
          140000,
          250000,
          143000,
          307000,
          200000,
          129900,
          118000,
          129500,
          345000,
          144000,
          279500,
          157000,
          132000,
          149000,
          90000,
          159000,
          139000,
          325300,
          139400,
          230000,
          129900,
          154000,
          256300,
          134800,
          306000,
          207500,
          68500,
          40000,
          149350,
          179900,
          165500,
          277500,
          309000,
          145000,
          153000,
          109000,
          82000,
          160000,
          170000,
          144000,
          130250,
          141000,
          319900,
          239686,
          249700,
          113000,
          127000,
          177000,
          114500,
          110000,
          385000,
          130000,
          180500,
          172500,
          196500,
          438780,
          124900,
          158000,
          101000,
          202500,
          140000,
          219500,
          317000,
          180000,
          226000,
          80000,
          225000,
          244000,
          129500,
          185000,
          144900,
          107400,
          91000,
          135750,
          127000,
          136500,
          110000,
          193500,
          153500,
          245000,
          126500,
          168500,
          260000,
          174000,
          164500,
          85000,
          123600,
          109900,
          98600,
          163500,
          133900,
          204750,
          185000,
          214000,
          94750,
          83000,
          128950,
          205000,
          178000,
          118964,
          198900,
          169500,
          250000,
          100000,
          115000,
          115000,
          190000,
          136900,
          180000,
          383970,
          217000,
          259500,
          176000,
          139000,
          155000,
          320000,
          163990,
          180000,
          100000,
          136000,
          153900,
          181000,
          84500,
          128000,
          87000,
          155000,
          150000,
          226000,
          244000,
          150750,
          220000,
          180000,
          174000,
          143000,
          171000,
          230000,
          231500,
          115000,
          260000,
          166000,
          204000,
          125000,
          130000,
          105000,
          222500,
          141000,
          115000,
          122000,
          372402,
          190000,
          235000,
          125000,
          79000,
          109500,
          269500,
          254900,
          320000,
          162500,
          412500,
          220000,
          103200,
          152000,
          127500,
          190000,
          325624,
          183500,
          228000,
          128500,
          215000,
          239000,
          163000,
          184000,
          243000,
          211000,
          172500,
          501837,
          100000,
          177000,
          200100,
          120000,
          200000,
          127000,
          475000,
          173000,
          135000,
          153337,
          286000,
          315000,
          184000,
          192000,
          130000,
          127000,
          148500,
          311872,
          235000,
          104000,
          274900,
          140000,
          171500,
          112000,
          149000,
          110000,
          180500,
          143900,
          141000,
          277000,
          145000,
          98000,
          186000,
          252678,
          156000,
          161750,
          134450,
          210000,
          107000,
          311500,
          167240,
          204900,
          200000,
          179900,
          97000,
          386250,
          112000,
          290000,
          106000,
          125000,
          192500,
          148000,
          403000,
          94500,
          128200,
          216500,
          89500,
          185500,
          194500,
          318000,
          113000,
          262500,
          110500,
          79000,
          120000,
          205000,
          241500,
          137000,
          140000,
          180000,
          277000,
          76500,
          235000,
          173000,
          158000,
          145000,
          230000,
          207500,
          220000,
          231500,
          97000,
          176000,
          276000,
          151000,
          130000,
          73000,
          175500,
          185000,
          179500,
          120500,
          148000,
          266000,
          241500,
          290000,
          139000,
          124500,
          205000,
          201000,
          141000,
          415298,
          192000,
          228500,
          185000,
          207500,
          244600,
          179200,
          164700,
          159000,
          88000,
          122000,
          153575,
          233230,
          135900,
          131000,
          235000,
          167000,
          142500,
          152000,
          239000,
          175000,
          158500,
          157000,
          267000,
          205000,
          149900,
          295000,
          305900,
          225000,
          89500,
          82500,
          360000,
          165600,
          132000,
          119900,
          375000,
          178000,
          188500,
          260000,
          270000,
          260000,
          187500,
          342643,
          354000,
          301000,
          126175,
          242000,
          87000,
          324000,
          145250,
          214500,
          78000,
          119000,
          139000,
          284000,
          207000,
          192000,
          228950,
          377426,
          214000,
          202500,
          155000,
          202900,
          82000,
          87500,
          266000,
          85000,
          140200,
          151500,
          157500,
          154000,
          437154,
          318061,
          190000,
          95000,
          105900,
          140000,
          177500,
          173000,
          134000,
          130000,
          280000,
          156000,
          145000,
          198500,
          118000,
          190000,
          147000,
          159000,
          165000,
          132000,
          162000,
          172400,
          134432,
          125000,
          123000,
          219500,
          61000,
          148000,
          340000,
          394432,
          179000,
          127000,
          187750,
          213500,
          76000,
          240000,
          192000,
          81000,
          125000,
          191000,
          426000,
          119000,
          215000,
          106500,
          100000,
          109000,
          129000,
          123000,
          169500,
          67000,
          241000,
          245500,
          164990,
          108000,
          258000,
          168000,
          150000,
          115000,
          177000,
          280000,
          339750,
          60000,
          145000,
          222000,
          115000,
          228000,
          181134,
          149500,
          239000,
          126000,
          142000,
          206300,
          215000,
          113000,
          315000,
          139000,
          135000,
          275000,
          109008,
          195400,
          175000,
          85400,
          79900,
          122500,
          181000,
          81000,
          212000,
          116000,
          119000,
          90350,
          110000,
          555000,
          118000,
          162900,
          172500,
          210000,
          127500,
          190000,
          199900,
          119500,
          120000,
          110000,
          280000,
          204000,
          210000,
          188000,
          175500,
          98000,
          256000,
          161000,
          110000,
          263435,
          155000,
          62383,
          188700,
          124000,
          178740,
          167000,
          146500,
          250000,
          187000,
          212000,
          190000,
          148000,
          440000,
          251000,
          132500,
          208900,
          380000,
          297000,
          89471,
          326000,
          374000,
          155000,
          164000,
          132500,
          147000,
          156000,
          175000,
          160000,
          86000,
          115000,
          133000,
          172785,
          155000,
          91300,
          34900,
          430000,
          184000,
          130000,
          120000,
          113000,
          226700,
          140000,
          289000,
          147000,
          124500,
          215000,
          208300,
          161000,
          124500,
          164900,
          202665,
          129900,
          134000,
          96500,
          402861,
          158000,
          265000,
          211000,
          234000,
          106250,
          150000,
          159000,
          184750,
          315750,
          176000,
          132000,
          446261,
          86000,
          200624,
          175000,
          128000,
          107500,
          39300,
          178000,
          107500,
          188000,
          111250,
          158000,
          272000,
          315000,
          248000,
          213250,
          133000,
          179665,
          229000,
          210000,
          129500,
          125000,
          263000,
          140000,
          112500,
          255500,
          108000,
          284000,
          113000,
          141000,
          108000,
          175000,
          234000,
          121500,
          170000,
          108000,
          185000,
          268000,
          128000,
          325000,
          214000,
          316600,
          135960,
          142600,
          120000,
          224500,
          170000,
          139000,
          118500,
          145000,
          164500,
          146000,
          131500,
          181900,
          253293,
          118500,
          325000,
          133000,
          369900,
          130000,
          137000,
          143000,
          79500,
          185900,
          451950,
          138000,
          140000,
          110000,
          319000,
          114504,
          194201,
          217500,
          151000,
          275000,
          141000,
          220000,
          151000,
          221000,
          205000,
          152000,
          225000,
          359100,
          118500,
          313000,
          148000,
          261500,
          147000,
          75500,
          137500,
          183200,
          105500,
          314813,
          305000,
          67000,
          240000,
          135000,
          168500,
          165150,
          160000,
          139900,
          153000,
          135000,
          168500,
          124000,
          209500,
          82500,
          139400,
          144000,
          200000,
          60000,
          93000,
          85000,
          264561,
          274000,
          226000,
          345000,
          152000,
          370878,
          143250,
          98300,
          155000,
          155000,
          84500,
          205950,
          108000,
          191000,
          135000,
          350000,
          88000,
          145500,
          149000,
          97500,
          167000,
          197900,
          402000,
          110000,
          137500,
          423000,
          230500,
          129000,
          193500,
          168000,
          137500,
          173500,
          103600,
          165000,
          257500,
          140000,
          148500,
          87000,
          109500,
          372500,
          128500,
          143000,
          159434,
          173000,
          285000,
          221000,
          207500,
          227875,
          148800,
          392000,
          194700,
          141000,
          755000,
          335000,
          108480,
          141500,
          176000,
          89000,
          123500,
          138500,
          196000,
          312500,
          140000,
          361919,
          140000,
          213000,
          55000,
          302000,
          254000,
          179540,
          109900,
          52000,
          102776,
          189000,
          129000,
          130500,
          165000,
          159500,
          157000,
          341000,
          128500,
          275000,
          143000,
          124500,
          135000,
          320000,
          120500,
          222000,
          194500,
          110000,
          103000,
          236500,
          187500,
          222500,
          131400,
          108000,
          163000,
          93500,
          239900,
          179000,
          190000,
          132000,
          142000,
          179000,
          175000,
          180000,
          299800,
          236000,
          265979,
          260400,
          98000,
          96500,
          162000,
          217000,
          275500,
          156000,
          172500,
          212000,
          158900,
          179400,
          290000,
          127500,
          100000,
          215200,
          337000,
          270000,
          264132,
          196500,
          160000,
          216837,
          538000,
          134900,
          102000,
          107000,
          114500,
          395000,
          162000,
          221500,
          142500,
          144000,
          135000,
          176000,
          175900,
          187100,
          165500,
          128000,
          161500,
          139000,
          233000,
          107900,
          187500,
          160200,
          146800,
          269790,
          225000,
          194500,
          171000,
          143500,
          110000,
          485000,
          175000,
          200000,
          109900,
          189000,
          582933,
          118000,
          227680,
          135500,
          223500,
          159950,
          106000,
          181000,
          144500,
          55993,
          157900,
          116000,
          224900,
          137000,
          271000,
          155000,
          224000,
          183000,
          93000,
          225000,
          139500,
          232600,
          385000,
          109500,
          189000,
          185000,
          147400,
          166000,
          151000,
          237000,
          167000,
          139950,
          128000,
          153500,
          100000,
          144000,
          130500,
          140000,
          157500,
          174900,
          141000,
          153900,
          171000,
          213000,
          133500,
          240000,
          187000,
          131500,
          215000,
          164000,
          158000,
          170000,
          127000,
          147000,
          174000,
          152000,
          250000,
          189950,
          131500,
          152000,
          132500,
          250580,
          148500,
          248900,
          129000,
          169000,
          236000,
          109500,
          200500,
          116000,
          133000,
          66500,
          303477,
          132250,
          350000,
          148000,
          136500,
          157000,
          187500,
          178000,
          118500,
          100000,
          328900,
          145000,
          135500,
          268000,
          149500,
          122900,
          172500,
          154500,
          165000,
          118858,
          140000,
          106500,
          142953,
          611657,
          135000,
          110000,
          153000,
          180000,
          240000,
          125500,
          128000,
          255000,
          250000,
          131000,
          174000,
          154300,
          143500,
          88000,
          145000,
          173733,
          75000,
          35311,
          135000,
          238000,
          176500,
          201000,
          145900,
          169990,
          193000,
          207500,
          175000,
          285000,
          176000,
          236500,
          222000,
          201000,
          117500,
          320000,
          190000,
          242000,
          79900,
          184900,
          253000,
          239799,
          244400,
          150900,
          214000,
          150000,
          143000,
          137500,
          124900,
          143000,
          270000,
          192500,
          197500,
          129000,
          119900,
          133900,
          172000,
          127500,
          145000,
          124000,
          132000,
          185000,
          155000,
          116500,
          272000,
          155000,
          239000,
          214900,
          178900,
          160000,
          135000,
          37900,
          140000,
          135000,
          173000,
          99500,
          182000,
          167500,
          165000,
          85500,
          199900,
          110000,
          139000,
          178400,
          336000,
          159895,
          255900,
          126000,
          125000,
          117000,
          395192,
          195000,
          197000,
          348000,
          168000,
          187000,
          173900,
          337500,
          121600,
          136500,
          185000,
          91000,
          206000,
          82000,
          86000,
          232000,
          136905,
          181000,
          149900,
          163500,
          88000,
          240000,
          102000,
          135000,
          100000,
          165000,
          85000,
          119200,
          227000,
          203000,
          187500,
          160000,
          213490,
          176000,
          194000,
          87000,
          191000,
          287000,
          112500,
          167500,
          293077,
          105000,
          118000,
          160000,
          197000,
          310000,
          230000,
          119750,
          84000,
          315500,
          287000,
          97000,
          80000,
          155000,
          173000,
          196000,
          262280,
          278000,
          139600,
          556581,
          145000,
          115000,
          84900,
          176485,
          200141,
          165000,
          144500,
          255000,
          180000,
          185850,
          248000,
          335000,
          220000,
          213500,
          81000,
          90000,
          110500,
          154000,
          328000,
          178000,
          167900,
          151400,
          135000,
          135000,
          154000,
          91500,
          159500,
          194000,
          219500,
          170000,
          138800,
          155900,
          126000,
          145000,
          133000,
          192000,
          160000,
          187500,
          147000,
          83500,
          252000,
          137500,
          197000,
          92900,
          160000,
          136500,
          146000,
          129000,
          176432,
          127000,
          170000,
          128000,
          157000,
          60000,
          119500,
          135000,
          159500,
          106000,
          325000,
          179900,
          274725,
          181000,
          280000,
          188000,
          205000,
          129900,
          134500,
          117000,
          318000,
          184100,
          130000,
          140000,
          133700,
          118400,
          212900,
          112000,
          118000,
          163900,
          115000,
          174000,
          259000,
          215000,
          140000,
          135000,
          93500,
          117500,
          239500,
          169000,
          102000,
          119000,
          94000,
          196000,
          144000,
          139000,
          197500,
          424870,
          80000,
          80000,
          149000,
          180000,
          174500,
          116900,
          143000,
          124000,
          149900,
          230000,
          120500,
          201800,
          218000,
          179900,
          230000,
          235128,
          185000,
          146000,
          224000,
          129000,
          108959,
          194000,
          233170,
          245350,
          173000,
          235000,
          625000,
          171000,
          163000,
          171900,
          200500,
          239000,
          285000,
          119500,
          115000,
          154900,
          93000,
          250000,
          392500,
          745000,
          120000,
          186700,
          104900,
          95000,
          262000,
          195000,
          189000,
          168000,
          174000,
          125000,
          165000,
          158000,
          176000,
          219210,
          144000,
          178000,
          148000,
          116050,
          197900,
          117000,
          213000,
          153500,
          271900,
          107000,
          200000,
          140000,
          290000,
          189000,
          164000,
          113000,
          145000,
          134500,
          125000,
          112000,
          229456,
          80500,
          91500,
          115000,
          134000,
          143000,
          137900,
          184000,
          145000,
          214000,
          147000,
          367294,
          127000,
          190000,
          132500,
          101800,
          142000,
          130000,
          138887,
          175500,
          195000,
          142500,
          265900,
          224900,
          248328,
          170000,
          465000,
          230000,
          178000,
          186500,
          169900,
          129500,
          119000,
          244000,
          171750,
          130000,
          294000,
          165400,
          127500,
          301500,
          99900,
          190000,
          151000,
          181000,
          128900,
          161500,
          180500,
          181000,
          183900,
          122000,
          378500,
          381000,
          144000,
          260000,
          185750,
          137000,
          177000,
          139000,
          137000,
          162000,
          197900,
          237000,
          68400,
          227000,
          180000,
          150500,
          139000,
          169000,
          132500,
          143000,
          190000,
          278000,
          281000,
          180500,
          119500,
          107500,
          162900,
          115000,
          138500,
          155000,
          140000,
          160000,
          154000,
          225000,
          177500,
          290000,
          232000,
          130000,
          325000,
          202500,
          138000,
          147000,
          179200,
          335000,
          203000,
          302000,
          333168,
          119000,
          206900,
          295493,
          208900,
          275000,
          111000,
          156500,
          72500,
          190000,
          82500,
          147000,
          55000,
          79000,
          130500,
          256000,
          176500,
          227000,
          132500,
          100000,
          125500,
          125000,
          167900,
          135000,
          52500,
          200000,
          128500,
          123000,
          155000,
          228500,
          177000,
          155835,
          108500,
          262500,
          283463,
          215000,
          122000,
          200000,
          171000,
          134900,
          410000,
          235000,
          170000,
          110000,
          149900,
          177500,
          315000,
          189000,
          260000,
          104900,
          156932,
          144152,
          216000,
          193000,
          127000,
          144000,
          232000,
          105000,
          165500,
          274300,
          466500,
          250000,
          239000,
          91000,
          117000,
          83000,
          167500,
          58500,
          237500,
          157000,
          112000,
          105000,
          125500,
          250000,
          136000,
          377500,
          131000,
          235000,
          124000,
          123000,
          163000,
          246578,
          281213,
          160000,
          137500,
          138000,
          137450,
          120000,
          193000,
          193879,
          282922,
          105000,
          275000,
          133000,
          112000,
          125500,
          215000,
          230000,
          140000,
          90000,
          257000,
          207000,
          175900,
          122500,
          340000,
          124000,
          223000,
          179900,
          127500,
          136500,
          274970,
          144000,
          142000,
          271000,
          140000,
          119000,
          182900,
          192140,
          143750,
          64500,
          186500,
          160000,
          174000,
          120500,
          394617,
          149700,
          197000,
          191000,
          149300,
          310000,
          121000,
          179600,
          129000,
          157900,
          240000,
          112000,
          92000,
          136000,
          287090,
          145000,
          84500,
          185000,
          175000,
          210000,
          266500,
          142125,
          147500
         ],
         "xaxis": "x",
         "y": [
          1710,
          1262,
          1786,
          1717,
          2198,
          1362,
          1694,
          2090,
          1774,
          1077,
          1040,
          2324,
          912,
          1494,
          1253,
          854,
          1004,
          1296,
          1114,
          1339,
          2376,
          1108,
          1795,
          1060,
          1060,
          1600,
          900,
          1704,
          1600,
          520,
          1317,
          1228,
          1234,
          1700,
          1561,
          2452,
          1097,
          1297,
          1057,
          1152,
          1324,
          1328,
          884,
          938,
          1150,
          1752,
          2149,
          1656,
          1452,
          955,
          1470,
          1176,
          816,
          1842,
          1360,
          1425,
          1739,
          1720,
          2945,
          780,
          1158,
          1111,
          1370,
          1710,
          2034,
          2473,
          2207,
          1479,
          747,
          2287,
          2223,
          845,
          1718,
          1086,
          1605,
          988,
          952,
          1285,
          1768,
          1230,
          2142,
          1337,
          1563,
          1065,
          1474,
          2417,
          1560,
          1224,
          1526,
          990,
          1040,
          1235,
          964,
          2291,
          1786,
          1470,
          1588,
          960,
          835,
          1225,
          1610,
          1732,
          1535,
          1226,
          1818,
          1992,
          1047,
          789,
          1517,
          1844,
          1855,
          1430,
          2696,
          2259,
          2320,
          1458,
          1092,
          1125,
          3222,
          1456,
          988,
          1123,
          1080,
          1199,
          1586,
          754,
          958,
          840,
          1348,
          1053,
          2157,
          2054,
          1327,
          1296,
          1721,
          1682,
          1214,
          1959,
          1852,
          1764,
          864,
          1734,
          1385,
          1501,
          1728,
          1709,
          875,
          2035,
          1080,
          1344,
          969,
          1710,
          1993,
          1252,
          1200,
          1096,
          1040,
          1968,
          1947,
          2462,
          1232,
          2668,
          1541,
          882,
          1616,
          1355,
          1867,
          2161,
          1720,
          1707,
          1382,
          1656,
          1767,
          1362,
          1651,
          2158,
          2060,
          1920,
          2234,
          968,
          1525,
          1802,
          1340,
          2082,
          1252,
          3608,
          1217,
          1656,
          1224,
          1593,
          2727,
          1479,
          1431,
          1709,
          864,
          1456,
          1726,
          3112,
          2229,
          1713,
          1121,
          1279,
          1310,
          848,
          1284,
          1442,
          1696,
          1100,
          2062,
          1092,
          864,
          1212,
          1852,
          990,
          1392,
          1236,
          1436,
          1328,
          1954,
          1248,
          1498,
          2267,
          1552,
          864,
          2392,
          1302,
          2520,
          987,
          912,
          1555,
          1194,
          2794,
          987,
          894,
          1960,
          987,
          1414,
          1744,
          1694,
          1487,
          1566,
          866,
          1440,
          1217,
          2110,
          1872,
          1928,
          1375,
          1668,
          2144,
          1306,
          1625,
          1640,
          1302,
          1314,
          2291,
          1728,
          1604,
          1792,
          882,
          1382,
          2574,
          1212,
          1316,
          764,
          1422,
          1511,
          2192,
          778,
          1113,
          1939,
          1363,
          2270,
          1632,
          816,
          1548,
          1560,
          864,
          2121,
          2022,
          1982,
          1262,
          1314,
          1468,
          1575,
          1250,
          1734,
          858,
          900,
          1396,
          1919,
          1716,
          1716,
          2263,
          1644,
          1003,
          1558,
          1950,
          1743,
          1152,
          1336,
          2452,
          1541,
          894,
          3493,
          2000,
          2243,
          1406,
          861,
          1944,
          1501,
          972,
          1118,
          2036,
          1641,
          1432,
          2353,
          1959,
          2646,
          1472,
          2596,
          2468,
          2730,
          1163,
          2978,
          803,
          1719,
          1383,
          2134,
          1192,
          1728,
          1056,
          1629,
          1358,
          1638,
          1786,
          1922,
          1536,
          1621,
          1215,
          1908,
          841,
          1040,
          1684,
          1112,
          1577,
          958,
          1478,
          1626,
          2728,
          1869,
          1453,
          1111,
          720,
          1595,
          1200,
          1167,
          1142,
          1352,
          1924,
          912,
          1505,
          1922,
          987,
          1574,
          1344,
          1394,
          1431,
          1268,
          1287,
          1664,
          1588,
          752,
          1319,
          1928,
          904,
          914,
          2466,
          1856,
          1800,
          1691,
          1301,
          1797,
          784,
          1953,
          1269,
          1184,
          1125,
          1479,
          2332,
          1367,
          1961,
          882,
          788,
          1034,
          1144,
          894,
          1812,
          1077,
          1550,
          1288,
          1310,
          672,
          2263,
          1572,
          1620,
          1639,
          1680,
          2172,
          2078,
          1276,
          1056,
          1478,
          1028,
          2097,
          1340,
          1400,
          2624,
          1134,
          1056,
          1344,
          1602,
          988,
          2630,
          1196,
          1389,
          1644,
          907,
          1208,
          1412,
          987,
          1198,
          1365,
          1604,
          630,
          1661,
          1118,
          904,
          694,
          1196,
          2402,
          1440,
          1573,
          1258,
          1908,
          1689,
          1888,
          1886,
          1376,
          1183,
          813,
          1533,
          1756,
          1590,
          1728,
          1242,
          1344,
          1663,
          1666,
          1203,
          1935,
          1135,
          864,
          1660,
          1040,
          1414,
          1277,
          1644,
          1634,
          1710,
          1502,
          1969,
          1072,
          1976,
          1652,
          970,
          1493,
          2643,
          1718,
          1131,
          1850,
          1792,
          1826,
          1216,
          999,
          1113,
          1073,
          1484,
          2414,
          630,
          1304,
          1578,
          1456,
          1269,
          886,
          720,
          3228,
          1820,
          899,
          912,
          1218,
          1768,
          1214,
          1801,
          1322,
          1960,
          1911,
          1218,
          1378,
          1041,
          1363,
          1368,
          864,
          1080,
          789,
          2020,
          2119,
          2344,
          1796,
          2080,
          1294,
          1244,
          1664,
          4676,
          2398,
          1266,
          928,
          2713,
          605,
          2515,
          1509,
          1362,
          827,
          334,
          1414,
          1347,
          1724,
          864,
          1159,
          1601,
          1838,
          2285,
          1680,
          767,
          1496,
          2183,
          1635,
          768,
          825,
          2094,
          1069,
          928,
          1717,
          1126,
          2046,
          1048,
          1092,
          1336,
          1446,
          1557,
          1392,
          1389,
          996,
          1674,
          2295,
          1647,
          2504,
          1535,
          2132,
          943,
          1728,
          864,
          1692,
          1430,
          1109,
          1216,
          1477,
          1320,
          1392,
          1795,
          1429,
          2042,
          816,
          2775,
          1573,
          2028,
          838,
          860,
          1473,
          935,
          1582,
          2296,
          816,
          848,
          924,
          1826,
          1368,
          1402,
          1647,
          1556,
          1904,
          1375,
          1915,
          1200,
          1494,
          1986,
          1040,
          2008,
          3194,
          1029,
          2153,
          1032,
          1872,
          1120,
          630,
          1054,
          1509,
          832,
          1828,
          2262,
          864,
          2614,
          980,
          1512,
          1790,
          1116,
          1422,
          1520,
          2080,
          1350,
          1750,
          1554,
          1411,
          1056,
          1056,
          3395,
          800,
          1387,
          796,
          1567,
          1518,
          1929,
          2704,
          1620,
          1766,
          981,
          1048,
          1094,
          1839,
          630,
          1665,
          1510,
          1716,
          1469,
          2113,
          1092,
          1053,
          1502,
          1458,
          1486,
          1935,
          2448,
          1392,
          1181,
          2097,
          1936,
          2380,
          1679,
          1437,
          1180,
          1476,
          1369,
          1208,
          1839,
          1136,
          1441,
          1774,
          792,
          2046,
          988,
          923,
          1520,
          1291,
          1668,
          1839,
          2090,
          1761,
          1102,
          1419,
          1362,
          848,
          4316,
          2519,
          1073,
          1539,
          1137,
          616,
          1148,
          894,
          1391,
          1800,
          1164,
          2576,
          1812,
          1484,
          1092,
          1824,
          1324,
          1456,
          904,
          729,
          1178,
          1228,
          960,
          1479,
          1350,
          2554,
          1178,
          2418,
          971,
          1742,
          848,
          864,
          1470,
          1698,
          864,
          1680,
          1232,
          1776,
          1208,
          1616,
          1146,
          2031,
          1144,
          948,
          1768,
          1040,
          1801,
          1200,
          1728,
          1432,
          912,
          1349,
          1464,
          1337,
          2715,
          2256,
          2640,
          1720,
          1529,
          1140,
          1320,
          1494,
          2098,
          1026,
          1471,
          1768,
          1386,
          1501,
          2531,
          864,
          1301,
          1547,
          2365,
          1494,
          1506,
          1714,
          1750,
          1836,
          3279,
          858,
          1220,
          1117,
          912,
          1973,
          1204,
          1614,
          894,
          2020,
          1004,
          1253,
          1603,
          1430,
          1110,
          1484,
          1342,
          1652,
          2084,
          901,
          2087,
          1145,
          1062,
          2013,
          1496,
          1895,
          1564,
          1285,
          773,
          3140,
          1768,
          1688,
          1196,
          1456,
          2822,
          1128,
          1428,
          980,
          1576,
          1086,
          2138,
          1309,
          848,
          1044,
          1442,
          1250,
          1661,
          1008,
          1689,
          1052,
          1358,
          1640,
          936,
          1733,
          1489,
          1489,
          2084,
          784,
          1434,
          2126,
          1223,
          1392,
          1200,
          1829,
          1516,
          1144,
          1067,
          1559,
          987,
          1099,
          1200,
          1482,
          1539,
          1165,
          1800,
          1416,
          1701,
          1775,
          864,
          2358,
          1855,
          848,
          1456,
          1646,
          1445,
          1779,
          1040,
          1026,
          1481,
          1370,
          2654,
          1426,
          1039,
          1097,
          1148,
          1372,
          1002,
          1646,
          1120,
          2320,
          1949,
          894,
          1682,
          910,
          1268,
          1131,
          2610,
          1040,
          2224,
          1155,
          864,
          1090,
          1717,
          1593,
          2230,
          892,
          1709,
          1712,
          1393,
          2217,
          1505,
          924,
          1683,
          1068,
          1383,
          1535,
          1796,
          951,
          2240,
          2364,
          1236,
          858,
          1306,
          1509,
          1670,
          902,
          1063,
          1636,
          2057,
          902,
          1484,
          2274,
          1268,
          1015,
          2002,
          1224,
          1092,
          480,
          1229,
          2127,
          1414,
          1721,
          2200,
          1316,
          1617,
          1686,
          1126,
          2374,
          1978,
          1788,
          2236,
          1466,
          925,
          1905,
          1500,
          2069,
          747,
          1200,
          1971,
          1962,
          2403,
          1728,
          2060,
          1440,
          1632,
          1344,
          1869,
          1144,
          1629,
          1776,
          1381,
          864,
          965,
          768,
          1968,
          980,
          1958,
          1229,
          1057,
          1337,
          1416,
          858,
          2872,
          1548,
          1800,
          1894,
          1484,
          1308,
          1098,
          968,
          1095,
          1192,
          1626,
          918,
          1428,
          2019,
          1382,
          869,
          1241,
          894,
          1121,
          999,
          2612,
          1266,
          2290,
          1734,
          1164,
          1635,
          1940,
          2030,
          1576,
          2392,
          1742,
          1851,
          1500,
          1718,
          1230,
          1050,
          1442,
          1077,
          1208,
          944,
          691,
          1574,
          1680,
          1504,
          985,
          1657,
          1092,
          1710,
          1522,
          1271,
          1664,
          1502,
          1022,
          1082,
          1665,
          1504,
          1360,
          1472,
          1506,
          1132,
          1220,
          1248,
          1504,
          2898,
          882,
          1264,
          1646,
          1376,
          1218,
          1928,
          3082,
          2520,
          1654,
          954,
          845,
          1620,
          2263,
          1344,
          630,
          1803,
          1632,
          1306,
          2329,
          2524,
          1733,
          2868,
          990,
          1771,
          930,
          1302,
          1316,
          1977,
          1526,
          1989,
          1523,
          1364,
          1850,
          2184,
          1991,
          1338,
          894,
          2337,
          1103,
          1154,
          2260,
          1571,
          1611,
          2521,
          893,
          1048,
          1556,
          1456,
          1426,
          1240,
          1740,
          1466,
          1096,
          848,
          990,
          1258,
          1040,
          1459,
          1251,
          1498,
          996,
          1092,
          1953,
          1709,
          1247,
          1040,
          1252,
          1694,
          1200,
          936,
          1314,
          1355,
          1088,
          1324,
          1601,
          438,
          950,
          1134,
          1194,
          1302,
          2622,
          1442,
          2021,
          1690,
          1836,
          1658,
          1964,
          816,
          1008,
          833,
          1734,
          1419,
          894,
          1601,
          1040,
          1012,
          1552,
          960,
          698,
          1482,
          1005,
          1555,
          1530,
          1959,
          936,
          1981,
          974,
          2210,
          2020,
          1600,
          986,
          1252,
          1020,
          1567,
          1167,
          952,
          1868,
          2828,
          1006,
          924,
          1576,
          1298,
          1564,
          1111,
          1482,
          932,
          1466,
          1811,
          816,
          1820,
          1437,
          1265,
          1314,
          1580,
          1876,
          1456,
          1640,
          894,
          1258,
          1432,
          1502,
          1694,
          1671,
          2108,
          3627,
          1118,
          1261,
          1250,
          3086,
          2345,
          2872,
          923,
          1224,
          1343,
          1124,
          2514,
          1652,
          4476,
          1130,
          1572,
          1221,
          1699,
          1624,
          1660,
          1804,
          1622,
          1441,
          1472,
          1224,
          1352,
          1456,
          1863,
          1690,
          1212,
          1382,
          864,
          1779,
          1348,
          1630,
          1074,
          2196,
          1056,
          1700,
          1283,
          1660,
          1845,
          1752,
          672,
          960,
          999,
          894,
          1902,
          1314,
          912,
          1218,
          912,
          1211,
          1846,
          2136,
          1490,
          1138,
          1933,
          912,
          1702,
          1507,
          2620,
          1190,
          1224,
          1188,
          1964,
          1784,
          1626,
          1948,
          1141,
          1484,
          1768,
          1689,
          1173,
          2076,
          1517,
          1868,
          1553,
          1034,
          2058,
          988,
          2110,
          1405,
          874,
          2167,
          1656,
          1367,
          1987,
          864,
          1166,
          1054,
          1675,
          1050,
          1788,
          1824,
          1337,
          1452,
          1889,
          2018,
          3447,
          1524,
          1524,
          1489,
          935,
          1357,
          1250,
          1920,
          1395,
          1724,
          2031,
          1128,
          1573,
          1339,
          1040,
          1824,
          2447,
          1412,
          1328,
          1582,
          1659,
          1970,
          1152,
          1302,
          2372,
          1664,
          864,
          1052,
          1128,
          1072,
          5642,
          1246,
          1983,
          1494,
          2526,
          1616,
          1708,
          1652,
          1368,
          990,
          1122,
          1294,
          1902,
          1274,
          2810,
          2599,
          948,
          2112,
          1630,
          1352,
          1787,
          948,
          1478,
          720,
          1923,
          708,
          1795,
          796,
          774,
          816,
          2792,
          1632,
          1588,
          954,
          816,
          1360,
          1365,
          1334,
          1656,
          693,
          1861,
          864,
          872,
          1114,
          2169,
          1913,
          1456,
          960,
          2156,
          1776,
          1494,
          2358,
          2634,
          1716,
          1176,
          3238,
          1865,
          1920,
          892,
          1078,
          1573,
          1980,
          2601,
          1530,
          1738,
          1412,
          1200,
          1674,
          1790,
          1475,
          848,
          1668,
          1374,
          1661,
          2097,
          2633,
          1958,
          1571,
          790,
          1604,
          987,
          1394,
          864,
          2117,
          1762,
          1416,
          1258,
          1154,
          2784,
          2526,
          1746,
          1218,
          1525,
          1584,
          900,
          1912,
          1500,
          2482,
          1687,
          1513,
          1904,
          1608,
          1158,
          1593,
          1294,
          1464,
          1214,
          1646,
          768,
          833,
          1363,
          2093,
          1840,
          1668,
          1040,
          1844,
          1848,
          1569,
          2290,
          2450,
          1144,
          1844,
          1416,
          1069,
          848,
          2201,
          1344,
          1252,
          2127,
          1558,
          804,
          1440,
          1838,
          958,
          968,
          1792,
          1126,
          1537,
          864,
          1932,
          1236,
          1725,
          2555,
          848,
          2007,
          952,
          1422,
          913,
          1188,
          2090,
          1346,
          630,
          1792,
          1578,
          1072,
          1140,
          1221,
          1647,
          2073,
          2340,
          1078,
          1256
         ],
         "yaxis": "y"
        }
       ],
       "layout": {
        "coloraxis": {
         "colorbar": {
          "title": {
           "text": "GarageArea"
          }
         },
         "colorscale": [
          [
           0,
           "#0d0887"
          ],
          [
           0.1111111111111111,
           "#46039f"
          ],
          [
           0.2222222222222222,
           "#7201a8"
          ],
          [
           0.3333333333333333,
           "#9c179e"
          ],
          [
           0.4444444444444444,
           "#bd3786"
          ],
          [
           0.5555555555555556,
           "#d8576b"
          ],
          [
           0.6666666666666666,
           "#ed7953"
          ],
          [
           0.7777777777777778,
           "#fb9f3a"
          ],
          [
           0.8888888888888888,
           "#fdca26"
          ],
          [
           1,
           "#f0f921"
          ]
         ]
        },
        "legend": {
         "tracegroupgap": 0
        },
        "margin": {
         "t": 60
        },
        "template": {
         "data": {
          "bar": [
           {
            "error_x": {
             "color": "#2a3f5f"
            },
            "error_y": {
             "color": "#2a3f5f"
            },
            "marker": {
             "line": {
              "color": "#E5ECF6",
              "width": 0.5
             },
             "pattern": {
              "fillmode": "overlay",
              "size": 10,
              "solidity": 0.2
             }
            },
            "type": "bar"
           }
          ],
          "barpolar": [
           {
            "marker": {
             "line": {
              "color": "#E5ECF6",
              "width": 0.5
             },
             "pattern": {
              "fillmode": "overlay",
              "size": 10,
              "solidity": 0.2
             }
            },
            "type": "barpolar"
           }
          ],
          "carpet": [
           {
            "aaxis": {
             "endlinecolor": "#2a3f5f",
             "gridcolor": "white",
             "linecolor": "white",
             "minorgridcolor": "white",
             "startlinecolor": "#2a3f5f"
            },
            "baxis": {
             "endlinecolor": "#2a3f5f",
             "gridcolor": "white",
             "linecolor": "white",
             "minorgridcolor": "white",
             "startlinecolor": "#2a3f5f"
            },
            "type": "carpet"
           }
          ],
          "choropleth": [
           {
            "colorbar": {
             "outlinewidth": 0,
             "ticks": ""
            },
            "type": "choropleth"
           }
          ],
          "contour": [
           {
            "colorbar": {
             "outlinewidth": 0,
             "ticks": ""
            },
            "colorscale": [
             [
              0,
              "#0d0887"
             ],
             [
              0.1111111111111111,
              "#46039f"
             ],
             [
              0.2222222222222222,
              "#7201a8"
             ],
             [
              0.3333333333333333,
              "#9c179e"
             ],
             [
              0.4444444444444444,
              "#bd3786"
             ],
             [
              0.5555555555555556,
              "#d8576b"
             ],
             [
              0.6666666666666666,
              "#ed7953"
             ],
             [
              0.7777777777777778,
              "#fb9f3a"
             ],
             [
              0.8888888888888888,
              "#fdca26"
             ],
             [
              1,
              "#f0f921"
             ]
            ],
            "type": "contour"
           }
          ],
          "contourcarpet": [
           {
            "colorbar": {
             "outlinewidth": 0,
             "ticks": ""
            },
            "type": "contourcarpet"
           }
          ],
          "heatmap": [
           {
            "colorbar": {
             "outlinewidth": 0,
             "ticks": ""
            },
            "colorscale": [
             [
              0,
              "#0d0887"
             ],
             [
              0.1111111111111111,
              "#46039f"
             ],
             [
              0.2222222222222222,
              "#7201a8"
             ],
             [
              0.3333333333333333,
              "#9c179e"
             ],
             [
              0.4444444444444444,
              "#bd3786"
             ],
             [
              0.5555555555555556,
              "#d8576b"
             ],
             [
              0.6666666666666666,
              "#ed7953"
             ],
             [
              0.7777777777777778,
              "#fb9f3a"
             ],
             [
              0.8888888888888888,
              "#fdca26"
             ],
             [
              1,
              "#f0f921"
             ]
            ],
            "type": "heatmap"
           }
          ],
          "heatmapgl": [
           {
            "colorbar": {
             "outlinewidth": 0,
             "ticks": ""
            },
            "colorscale": [
             [
              0,
              "#0d0887"
             ],
             [
              0.1111111111111111,
              "#46039f"
             ],
             [
              0.2222222222222222,
              "#7201a8"
             ],
             [
              0.3333333333333333,
              "#9c179e"
             ],
             [
              0.4444444444444444,
              "#bd3786"
             ],
             [
              0.5555555555555556,
              "#d8576b"
             ],
             [
              0.6666666666666666,
              "#ed7953"
             ],
             [
              0.7777777777777778,
              "#fb9f3a"
             ],
             [
              0.8888888888888888,
              "#fdca26"
             ],
             [
              1,
              "#f0f921"
             ]
            ],
            "type": "heatmapgl"
           }
          ],
          "histogram": [
           {
            "marker": {
             "pattern": {
              "fillmode": "overlay",
              "size": 10,
              "solidity": 0.2
             }
            },
            "type": "histogram"
           }
          ],
          "histogram2d": [
           {
            "colorbar": {
             "outlinewidth": 0,
             "ticks": ""
            },
            "colorscale": [
             [
              0,
              "#0d0887"
             ],
             [
              0.1111111111111111,
              "#46039f"
             ],
             [
              0.2222222222222222,
              "#7201a8"
             ],
             [
              0.3333333333333333,
              "#9c179e"
             ],
             [
              0.4444444444444444,
              "#bd3786"
             ],
             [
              0.5555555555555556,
              "#d8576b"
             ],
             [
              0.6666666666666666,
              "#ed7953"
             ],
             [
              0.7777777777777778,
              "#fb9f3a"
             ],
             [
              0.8888888888888888,
              "#fdca26"
             ],
             [
              1,
              "#f0f921"
             ]
            ],
            "type": "histogram2d"
           }
          ],
          "histogram2dcontour": [
           {
            "colorbar": {
             "outlinewidth": 0,
             "ticks": ""
            },
            "colorscale": [
             [
              0,
              "#0d0887"
             ],
             [
              0.1111111111111111,
              "#46039f"
             ],
             [
              0.2222222222222222,
              "#7201a8"
             ],
             [
              0.3333333333333333,
              "#9c179e"
             ],
             [
              0.4444444444444444,
              "#bd3786"
             ],
             [
              0.5555555555555556,
              "#d8576b"
             ],
             [
              0.6666666666666666,
              "#ed7953"
             ],
             [
              0.7777777777777778,
              "#fb9f3a"
             ],
             [
              0.8888888888888888,
              "#fdca26"
             ],
             [
              1,
              "#f0f921"
             ]
            ],
            "type": "histogram2dcontour"
           }
          ],
          "mesh3d": [
           {
            "colorbar": {
             "outlinewidth": 0,
             "ticks": ""
            },
            "type": "mesh3d"
           }
          ],
          "parcoords": [
           {
            "line": {
             "colorbar": {
              "outlinewidth": 0,
              "ticks": ""
             }
            },
            "type": "parcoords"
           }
          ],
          "pie": [
           {
            "automargin": true,
            "type": "pie"
           }
          ],
          "scatter": [
           {
            "marker": {
             "colorbar": {
              "outlinewidth": 0,
              "ticks": ""
             }
            },
            "type": "scatter"
           }
          ],
          "scatter3d": [
           {
            "line": {
             "colorbar": {
              "outlinewidth": 0,
              "ticks": ""
             }
            },
            "marker": {
             "colorbar": {
              "outlinewidth": 0,
              "ticks": ""
             }
            },
            "type": "scatter3d"
           }
          ],
          "scattercarpet": [
           {
            "marker": {
             "colorbar": {
              "outlinewidth": 0,
              "ticks": ""
             }
            },
            "type": "scattercarpet"
           }
          ],
          "scattergeo": [
           {
            "marker": {
             "colorbar": {
              "outlinewidth": 0,
              "ticks": ""
             }
            },
            "type": "scattergeo"
           }
          ],
          "scattergl": [
           {
            "marker": {
             "colorbar": {
              "outlinewidth": 0,
              "ticks": ""
             }
            },
            "type": "scattergl"
           }
          ],
          "scattermapbox": [
           {
            "marker": {
             "colorbar": {
              "outlinewidth": 0,
              "ticks": ""
             }
            },
            "type": "scattermapbox"
           }
          ],
          "scatterpolar": [
           {
            "marker": {
             "colorbar": {
              "outlinewidth": 0,
              "ticks": ""
             }
            },
            "type": "scatterpolar"
           }
          ],
          "scatterpolargl": [
           {
            "marker": {
             "colorbar": {
              "outlinewidth": 0,
              "ticks": ""
             }
            },
            "type": "scatterpolargl"
           }
          ],
          "scatterternary": [
           {
            "marker": {
             "colorbar": {
              "outlinewidth": 0,
              "ticks": ""
             }
            },
            "type": "scatterternary"
           }
          ],
          "surface": [
           {
            "colorbar": {
             "outlinewidth": 0,
             "ticks": ""
            },
            "colorscale": [
             [
              0,
              "#0d0887"
             ],
             [
              0.1111111111111111,
              "#46039f"
             ],
             [
              0.2222222222222222,
              "#7201a8"
             ],
             [
              0.3333333333333333,
              "#9c179e"
             ],
             [
              0.4444444444444444,
              "#bd3786"
             ],
             [
              0.5555555555555556,
              "#d8576b"
             ],
             [
              0.6666666666666666,
              "#ed7953"
             ],
             [
              0.7777777777777778,
              "#fb9f3a"
             ],
             [
              0.8888888888888888,
              "#fdca26"
             ],
             [
              1,
              "#f0f921"
             ]
            ],
            "type": "surface"
           }
          ],
          "table": [
           {
            "cells": {
             "fill": {
              "color": "#EBF0F8"
             },
             "line": {
              "color": "white"
             }
            },
            "header": {
             "fill": {
              "color": "#C8D4E3"
             },
             "line": {
              "color": "white"
             }
            },
            "type": "table"
           }
          ]
         },
         "layout": {
          "annotationdefaults": {
           "arrowcolor": "#2a3f5f",
           "arrowhead": 0,
           "arrowwidth": 1
          },
          "autotypenumbers": "strict",
          "coloraxis": {
           "colorbar": {
            "outlinewidth": 0,
            "ticks": ""
           }
          },
          "colorscale": {
           "diverging": [
            [
             0,
             "#8e0152"
            ],
            [
             0.1,
             "#c51b7d"
            ],
            [
             0.2,
             "#de77ae"
            ],
            [
             0.3,
             "#f1b6da"
            ],
            [
             0.4,
             "#fde0ef"
            ],
            [
             0.5,
             "#f7f7f7"
            ],
            [
             0.6,
             "#e6f5d0"
            ],
            [
             0.7,
             "#b8e186"
            ],
            [
             0.8,
             "#7fbc41"
            ],
            [
             0.9,
             "#4d9221"
            ],
            [
             1,
             "#276419"
            ]
           ],
           "sequential": [
            [
             0,
             "#0d0887"
            ],
            [
             0.1111111111111111,
             "#46039f"
            ],
            [
             0.2222222222222222,
             "#7201a8"
            ],
            [
             0.3333333333333333,
             "#9c179e"
            ],
            [
             0.4444444444444444,
             "#bd3786"
            ],
            [
             0.5555555555555556,
             "#d8576b"
            ],
            [
             0.6666666666666666,
             "#ed7953"
            ],
            [
             0.7777777777777778,
             "#fb9f3a"
            ],
            [
             0.8888888888888888,
             "#fdca26"
            ],
            [
             1,
             "#f0f921"
            ]
           ],
           "sequentialminus": [
            [
             0,
             "#0d0887"
            ],
            [
             0.1111111111111111,
             "#46039f"
            ],
            [
             0.2222222222222222,
             "#7201a8"
            ],
            [
             0.3333333333333333,
             "#9c179e"
            ],
            [
             0.4444444444444444,
             "#bd3786"
            ],
            [
             0.5555555555555556,
             "#d8576b"
            ],
            [
             0.6666666666666666,
             "#ed7953"
            ],
            [
             0.7777777777777778,
             "#fb9f3a"
            ],
            [
             0.8888888888888888,
             "#fdca26"
            ],
            [
             1,
             "#f0f921"
            ]
           ]
          },
          "colorway": [
           "#636efa",
           "#EF553B",
           "#00cc96",
           "#ab63fa",
           "#FFA15A",
           "#19d3f3",
           "#FF6692",
           "#B6E880",
           "#FF97FF",
           "#FECB52"
          ],
          "font": {
           "color": "#2a3f5f"
          },
          "geo": {
           "bgcolor": "white",
           "lakecolor": "white",
           "landcolor": "#E5ECF6",
           "showlakes": true,
           "showland": true,
           "subunitcolor": "white"
          },
          "hoverlabel": {
           "align": "left"
          },
          "hovermode": "closest",
          "mapbox": {
           "style": "light"
          },
          "paper_bgcolor": "white",
          "plot_bgcolor": "#E5ECF6",
          "polar": {
           "angularaxis": {
            "gridcolor": "white",
            "linecolor": "white",
            "ticks": ""
           },
           "bgcolor": "#E5ECF6",
           "radialaxis": {
            "gridcolor": "white",
            "linecolor": "white",
            "ticks": ""
           }
          },
          "scene": {
           "xaxis": {
            "backgroundcolor": "#E5ECF6",
            "gridcolor": "white",
            "gridwidth": 2,
            "linecolor": "white",
            "showbackground": true,
            "ticks": "",
            "zerolinecolor": "white"
           },
           "yaxis": {
            "backgroundcolor": "#E5ECF6",
            "gridcolor": "white",
            "gridwidth": 2,
            "linecolor": "white",
            "showbackground": true,
            "ticks": "",
            "zerolinecolor": "white"
           },
           "zaxis": {
            "backgroundcolor": "#E5ECF6",
            "gridcolor": "white",
            "gridwidth": 2,
            "linecolor": "white",
            "showbackground": true,
            "ticks": "",
            "zerolinecolor": "white"
           }
          },
          "shapedefaults": {
           "line": {
            "color": "#2a3f5f"
           }
          },
          "ternary": {
           "aaxis": {
            "gridcolor": "white",
            "linecolor": "white",
            "ticks": ""
           },
           "baxis": {
            "gridcolor": "white",
            "linecolor": "white",
            "ticks": ""
           },
           "bgcolor": "#E5ECF6",
           "caxis": {
            "gridcolor": "white",
            "linecolor": "white",
            "ticks": ""
           }
          },
          "title": {
           "x": 0.05
          },
          "xaxis": {
           "automargin": true,
           "gridcolor": "white",
           "linecolor": "white",
           "ticks": "",
           "title": {
            "standoff": 15
           },
           "zerolinecolor": "white",
           "zerolinewidth": 2
          },
          "yaxis": {
           "automargin": true,
           "gridcolor": "white",
           "linecolor": "white",
           "ticks": "",
           "title": {
            "standoff": 15
           },
           "zerolinecolor": "white",
           "zerolinewidth": 2
          }
         }
        },
        "xaxis": {
         "anchor": "y",
         "domain": [
          0,
          1
         ],
         "title": {
          "text": "SalePrice"
         }
        },
        "yaxis": {
         "anchor": "x",
         "domain": [
          0,
          1
         ],
         "title": {
          "text": "GrLivArea"
         }
        }
       }
      }
     },
     "metadata": {},
     "output_type": "display_data"
    }
   ],
   "source": [
    "fig = px.scatter(prices_df, x = \"SalePrice\",y = \"GrLivArea\",color = \"GarageArea\",opacity=0.9, hover_data = [\"SaleCondition\"])\r\n",
    "fig.update_traces(marker_size=5)\r\n",
    "fig.show()"
   ]
  },
  {
   "cell_type": "markdown",
   "metadata": {},
   "source": [
    "## Step 2 - Prepare the Dataset for Training\n",
    "\n",
    "Before we can train the model, we need to prepare the dataset. Here are the steps we'll follow:\n",
    "\n",
    "1. Identify the input and target column(s) for training the model.\n",
    "2. Identify numeric and categorical input columns.\n",
    "3. [Impute](https://scikit-learn.org/stable/modules/impute.html) (fill) missing values in numeric columns\n",
    "4. [Scale](https://scikit-learn.org/stable/modules/preprocessing.html#scaling-features-to-a-range) values in numeric columns to a $(0,1)$ range.\n",
    "5. [Encode](https://scikit-learn.org/stable/modules/preprocessing.html#encoding-categorical-features) categorical data into one-hot vectors.\n",
    "6. Split the dataset into training and validation sets.\n"
   ]
  },
  {
   "cell_type": "markdown",
   "metadata": {},
   "source": [
    "### Identify Inputs and Targets\n",
    "\n",
    "While the dataset contains 81 columns, not all of them are useful for modeling. Note the following:\n",
    "\n",
    "- The first column `Id` is a unique ID for each house and isn't useful for training the model.\n",
    "- The last column `SalePrice` contains the value we need to predict i.e. it's the target column.\n",
    "- Data from all the other columns (except the first and the last column) can be used as inputs to the model.\n",
    " "
   ]
  },
  {
   "cell_type": "code",
   "execution_count": 57,
   "metadata": {},
   "outputs": [
    {
     "data": {
      "text/html": [
       "<div>\n",
       "<style scoped>\n",
       "    .dataframe tbody tr th:only-of-type {\n",
       "        vertical-align: middle;\n",
       "    }\n",
       "\n",
       "    .dataframe tbody tr th {\n",
       "        vertical-align: top;\n",
       "    }\n",
       "\n",
       "    .dataframe thead th {\n",
       "        text-align: right;\n",
       "    }\n",
       "</style>\n",
       "<table border=\"1\" class=\"dataframe\">\n",
       "  <thead>\n",
       "    <tr style=\"text-align: right;\">\n",
       "      <th></th>\n",
       "      <th>Id</th>\n",
       "      <th>MSSubClass</th>\n",
       "      <th>MSZoning</th>\n",
       "      <th>LotFrontage</th>\n",
       "      <th>LotArea</th>\n",
       "      <th>Street</th>\n",
       "      <th>Alley</th>\n",
       "      <th>LotShape</th>\n",
       "      <th>LandContour</th>\n",
       "      <th>Utilities</th>\n",
       "      <th>LotConfig</th>\n",
       "      <th>LandSlope</th>\n",
       "      <th>Neighborhood</th>\n",
       "      <th>Condition1</th>\n",
       "      <th>Condition2</th>\n",
       "      <th>BldgType</th>\n",
       "      <th>HouseStyle</th>\n",
       "      <th>OverallQual</th>\n",
       "      <th>OverallCond</th>\n",
       "      <th>YearBuilt</th>\n",
       "      <th>YearRemodAdd</th>\n",
       "      <th>RoofStyle</th>\n",
       "      <th>RoofMatl</th>\n",
       "      <th>Exterior1st</th>\n",
       "      <th>Exterior2nd</th>\n",
       "      <th>MasVnrType</th>\n",
       "      <th>MasVnrArea</th>\n",
       "      <th>ExterQual</th>\n",
       "      <th>ExterCond</th>\n",
       "      <th>Foundation</th>\n",
       "      <th>BsmtQual</th>\n",
       "      <th>BsmtCond</th>\n",
       "      <th>BsmtExposure</th>\n",
       "      <th>BsmtFinType1</th>\n",
       "      <th>BsmtFinSF1</th>\n",
       "      <th>BsmtFinType2</th>\n",
       "      <th>BsmtFinSF2</th>\n",
       "      <th>BsmtUnfSF</th>\n",
       "      <th>TotalBsmtSF</th>\n",
       "      <th>Heating</th>\n",
       "      <th>HeatingQC</th>\n",
       "      <th>CentralAir</th>\n",
       "      <th>Electrical</th>\n",
       "      <th>1stFlrSF</th>\n",
       "      <th>2ndFlrSF</th>\n",
       "      <th>LowQualFinSF</th>\n",
       "      <th>GrLivArea</th>\n",
       "      <th>BsmtFullBath</th>\n",
       "      <th>BsmtHalfBath</th>\n",
       "      <th>FullBath</th>\n",
       "      <th>HalfBath</th>\n",
       "      <th>BedroomAbvGr</th>\n",
       "      <th>KitchenAbvGr</th>\n",
       "      <th>KitchenQual</th>\n",
       "      <th>TotRmsAbvGrd</th>\n",
       "      <th>Functional</th>\n",
       "      <th>Fireplaces</th>\n",
       "      <th>FireplaceQu</th>\n",
       "      <th>GarageType</th>\n",
       "      <th>GarageYrBlt</th>\n",
       "      <th>GarageFinish</th>\n",
       "      <th>GarageCars</th>\n",
       "      <th>GarageArea</th>\n",
       "      <th>GarageQual</th>\n",
       "      <th>GarageCond</th>\n",
       "      <th>PavedDrive</th>\n",
       "      <th>WoodDeckSF</th>\n",
       "      <th>OpenPorchSF</th>\n",
       "      <th>EnclosedPorch</th>\n",
       "      <th>3SsnPorch</th>\n",
       "      <th>ScreenPorch</th>\n",
       "      <th>PoolArea</th>\n",
       "      <th>PoolQC</th>\n",
       "      <th>Fence</th>\n",
       "      <th>MiscFeature</th>\n",
       "      <th>MiscVal</th>\n",
       "      <th>MoSold</th>\n",
       "      <th>YrSold</th>\n",
       "      <th>SaleType</th>\n",
       "      <th>SaleCondition</th>\n",
       "      <th>SalePrice</th>\n",
       "    </tr>\n",
       "  </thead>\n",
       "  <tbody>\n",
       "    <tr>\n",
       "      <th>0</th>\n",
       "      <td>1</td>\n",
       "      <td>60</td>\n",
       "      <td>RL</td>\n",
       "      <td>65.0</td>\n",
       "      <td>8450</td>\n",
       "      <td>Pave</td>\n",
       "      <td>NaN</td>\n",
       "      <td>Reg</td>\n",
       "      <td>Lvl</td>\n",
       "      <td>AllPub</td>\n",
       "      <td>Inside</td>\n",
       "      <td>Gtl</td>\n",
       "      <td>CollgCr</td>\n",
       "      <td>Norm</td>\n",
       "      <td>Norm</td>\n",
       "      <td>1Fam</td>\n",
       "      <td>2Story</td>\n",
       "      <td>7</td>\n",
       "      <td>5</td>\n",
       "      <td>2003</td>\n",
       "      <td>2003</td>\n",
       "      <td>Gable</td>\n",
       "      <td>CompShg</td>\n",
       "      <td>VinylSd</td>\n",
       "      <td>VinylSd</td>\n",
       "      <td>BrkFace</td>\n",
       "      <td>196.0</td>\n",
       "      <td>Gd</td>\n",
       "      <td>TA</td>\n",
       "      <td>PConc</td>\n",
       "      <td>Gd</td>\n",
       "      <td>TA</td>\n",
       "      <td>No</td>\n",
       "      <td>GLQ</td>\n",
       "      <td>706</td>\n",
       "      <td>Unf</td>\n",
       "      <td>0</td>\n",
       "      <td>150</td>\n",
       "      <td>856</td>\n",
       "      <td>GasA</td>\n",
       "      <td>Ex</td>\n",
       "      <td>Y</td>\n",
       "      <td>SBrkr</td>\n",
       "      <td>856</td>\n",
       "      <td>854</td>\n",
       "      <td>0</td>\n",
       "      <td>1710</td>\n",
       "      <td>1</td>\n",
       "      <td>0</td>\n",
       "      <td>2</td>\n",
       "      <td>1</td>\n",
       "      <td>3</td>\n",
       "      <td>1</td>\n",
       "      <td>Gd</td>\n",
       "      <td>8</td>\n",
       "      <td>Typ</td>\n",
       "      <td>0</td>\n",
       "      <td>NaN</td>\n",
       "      <td>Attchd</td>\n",
       "      <td>2003.0</td>\n",
       "      <td>RFn</td>\n",
       "      <td>2</td>\n",
       "      <td>548</td>\n",
       "      <td>TA</td>\n",
       "      <td>TA</td>\n",
       "      <td>Y</td>\n",
       "      <td>0</td>\n",
       "      <td>61</td>\n",
       "      <td>0</td>\n",
       "      <td>0</td>\n",
       "      <td>0</td>\n",
       "      <td>0</td>\n",
       "      <td>NaN</td>\n",
       "      <td>NaN</td>\n",
       "      <td>NaN</td>\n",
       "      <td>0</td>\n",
       "      <td>2</td>\n",
       "      <td>2008</td>\n",
       "      <td>WD</td>\n",
       "      <td>Normal</td>\n",
       "      <td>208500</td>\n",
       "    </tr>\n",
       "    <tr>\n",
       "      <th>1</th>\n",
       "      <td>2</td>\n",
       "      <td>20</td>\n",
       "      <td>RL</td>\n",
       "      <td>80.0</td>\n",
       "      <td>9600</td>\n",
       "      <td>Pave</td>\n",
       "      <td>NaN</td>\n",
       "      <td>Reg</td>\n",
       "      <td>Lvl</td>\n",
       "      <td>AllPub</td>\n",
       "      <td>FR2</td>\n",
       "      <td>Gtl</td>\n",
       "      <td>Veenker</td>\n",
       "      <td>Feedr</td>\n",
       "      <td>Norm</td>\n",
       "      <td>1Fam</td>\n",
       "      <td>1Story</td>\n",
       "      <td>6</td>\n",
       "      <td>8</td>\n",
       "      <td>1976</td>\n",
       "      <td>1976</td>\n",
       "      <td>Gable</td>\n",
       "      <td>CompShg</td>\n",
       "      <td>MetalSd</td>\n",
       "      <td>MetalSd</td>\n",
       "      <td>None</td>\n",
       "      <td>0.0</td>\n",
       "      <td>TA</td>\n",
       "      <td>TA</td>\n",
       "      <td>CBlock</td>\n",
       "      <td>Gd</td>\n",
       "      <td>TA</td>\n",
       "      <td>Gd</td>\n",
       "      <td>ALQ</td>\n",
       "      <td>978</td>\n",
       "      <td>Unf</td>\n",
       "      <td>0</td>\n",
       "      <td>284</td>\n",
       "      <td>1262</td>\n",
       "      <td>GasA</td>\n",
       "      <td>Ex</td>\n",
       "      <td>Y</td>\n",
       "      <td>SBrkr</td>\n",
       "      <td>1262</td>\n",
       "      <td>0</td>\n",
       "      <td>0</td>\n",
       "      <td>1262</td>\n",
       "      <td>0</td>\n",
       "      <td>1</td>\n",
       "      <td>2</td>\n",
       "      <td>0</td>\n",
       "      <td>3</td>\n",
       "      <td>1</td>\n",
       "      <td>TA</td>\n",
       "      <td>6</td>\n",
       "      <td>Typ</td>\n",
       "      <td>1</td>\n",
       "      <td>TA</td>\n",
       "      <td>Attchd</td>\n",
       "      <td>1976.0</td>\n",
       "      <td>RFn</td>\n",
       "      <td>2</td>\n",
       "      <td>460</td>\n",
       "      <td>TA</td>\n",
       "      <td>TA</td>\n",
       "      <td>Y</td>\n",
       "      <td>298</td>\n",
       "      <td>0</td>\n",
       "      <td>0</td>\n",
       "      <td>0</td>\n",
       "      <td>0</td>\n",
       "      <td>0</td>\n",
       "      <td>NaN</td>\n",
       "      <td>NaN</td>\n",
       "      <td>NaN</td>\n",
       "      <td>0</td>\n",
       "      <td>5</td>\n",
       "      <td>2007</td>\n",
       "      <td>WD</td>\n",
       "      <td>Normal</td>\n",
       "      <td>181500</td>\n",
       "    </tr>\n",
       "    <tr>\n",
       "      <th>2</th>\n",
       "      <td>3</td>\n",
       "      <td>60</td>\n",
       "      <td>RL</td>\n",
       "      <td>68.0</td>\n",
       "      <td>11250</td>\n",
       "      <td>Pave</td>\n",
       "      <td>NaN</td>\n",
       "      <td>IR1</td>\n",
       "      <td>Lvl</td>\n",
       "      <td>AllPub</td>\n",
       "      <td>Inside</td>\n",
       "      <td>Gtl</td>\n",
       "      <td>CollgCr</td>\n",
       "      <td>Norm</td>\n",
       "      <td>Norm</td>\n",
       "      <td>1Fam</td>\n",
       "      <td>2Story</td>\n",
       "      <td>7</td>\n",
       "      <td>5</td>\n",
       "      <td>2001</td>\n",
       "      <td>2002</td>\n",
       "      <td>Gable</td>\n",
       "      <td>CompShg</td>\n",
       "      <td>VinylSd</td>\n",
       "      <td>VinylSd</td>\n",
       "      <td>BrkFace</td>\n",
       "      <td>162.0</td>\n",
       "      <td>Gd</td>\n",
       "      <td>TA</td>\n",
       "      <td>PConc</td>\n",
       "      <td>Gd</td>\n",
       "      <td>TA</td>\n",
       "      <td>Mn</td>\n",
       "      <td>GLQ</td>\n",
       "      <td>486</td>\n",
       "      <td>Unf</td>\n",
       "      <td>0</td>\n",
       "      <td>434</td>\n",
       "      <td>920</td>\n",
       "      <td>GasA</td>\n",
       "      <td>Ex</td>\n",
       "      <td>Y</td>\n",
       "      <td>SBrkr</td>\n",
       "      <td>920</td>\n",
       "      <td>866</td>\n",
       "      <td>0</td>\n",
       "      <td>1786</td>\n",
       "      <td>1</td>\n",
       "      <td>0</td>\n",
       "      <td>2</td>\n",
       "      <td>1</td>\n",
       "      <td>3</td>\n",
       "      <td>1</td>\n",
       "      <td>Gd</td>\n",
       "      <td>6</td>\n",
       "      <td>Typ</td>\n",
       "      <td>1</td>\n",
       "      <td>TA</td>\n",
       "      <td>Attchd</td>\n",
       "      <td>2001.0</td>\n",
       "      <td>RFn</td>\n",
       "      <td>2</td>\n",
       "      <td>608</td>\n",
       "      <td>TA</td>\n",
       "      <td>TA</td>\n",
       "      <td>Y</td>\n",
       "      <td>0</td>\n",
       "      <td>42</td>\n",
       "      <td>0</td>\n",
       "      <td>0</td>\n",
       "      <td>0</td>\n",
       "      <td>0</td>\n",
       "      <td>NaN</td>\n",
       "      <td>NaN</td>\n",
       "      <td>NaN</td>\n",
       "      <td>0</td>\n",
       "      <td>9</td>\n",
       "      <td>2008</td>\n",
       "      <td>WD</td>\n",
       "      <td>Normal</td>\n",
       "      <td>223500</td>\n",
       "    </tr>\n",
       "    <tr>\n",
       "      <th>3</th>\n",
       "      <td>4</td>\n",
       "      <td>70</td>\n",
       "      <td>RL</td>\n",
       "      <td>60.0</td>\n",
       "      <td>9550</td>\n",
       "      <td>Pave</td>\n",
       "      <td>NaN</td>\n",
       "      <td>IR1</td>\n",
       "      <td>Lvl</td>\n",
       "      <td>AllPub</td>\n",
       "      <td>Corner</td>\n",
       "      <td>Gtl</td>\n",
       "      <td>Crawfor</td>\n",
       "      <td>Norm</td>\n",
       "      <td>Norm</td>\n",
       "      <td>1Fam</td>\n",
       "      <td>2Story</td>\n",
       "      <td>7</td>\n",
       "      <td>5</td>\n",
       "      <td>1915</td>\n",
       "      <td>1970</td>\n",
       "      <td>Gable</td>\n",
       "      <td>CompShg</td>\n",
       "      <td>Wd Sdng</td>\n",
       "      <td>Wd Shng</td>\n",
       "      <td>None</td>\n",
       "      <td>0.0</td>\n",
       "      <td>TA</td>\n",
       "      <td>TA</td>\n",
       "      <td>BrkTil</td>\n",
       "      <td>TA</td>\n",
       "      <td>Gd</td>\n",
       "      <td>No</td>\n",
       "      <td>ALQ</td>\n",
       "      <td>216</td>\n",
       "      <td>Unf</td>\n",
       "      <td>0</td>\n",
       "      <td>540</td>\n",
       "      <td>756</td>\n",
       "      <td>GasA</td>\n",
       "      <td>Gd</td>\n",
       "      <td>Y</td>\n",
       "      <td>SBrkr</td>\n",
       "      <td>961</td>\n",
       "      <td>756</td>\n",
       "      <td>0</td>\n",
       "      <td>1717</td>\n",
       "      <td>1</td>\n",
       "      <td>0</td>\n",
       "      <td>1</td>\n",
       "      <td>0</td>\n",
       "      <td>3</td>\n",
       "      <td>1</td>\n",
       "      <td>Gd</td>\n",
       "      <td>7</td>\n",
       "      <td>Typ</td>\n",
       "      <td>1</td>\n",
       "      <td>Gd</td>\n",
       "      <td>Detchd</td>\n",
       "      <td>1998.0</td>\n",
       "      <td>Unf</td>\n",
       "      <td>3</td>\n",
       "      <td>642</td>\n",
       "      <td>TA</td>\n",
       "      <td>TA</td>\n",
       "      <td>Y</td>\n",
       "      <td>0</td>\n",
       "      <td>35</td>\n",
       "      <td>272</td>\n",
       "      <td>0</td>\n",
       "      <td>0</td>\n",
       "      <td>0</td>\n",
       "      <td>NaN</td>\n",
       "      <td>NaN</td>\n",
       "      <td>NaN</td>\n",
       "      <td>0</td>\n",
       "      <td>2</td>\n",
       "      <td>2006</td>\n",
       "      <td>WD</td>\n",
       "      <td>Abnorml</td>\n",
       "      <td>140000</td>\n",
       "    </tr>\n",
       "    <tr>\n",
       "      <th>4</th>\n",
       "      <td>5</td>\n",
       "      <td>60</td>\n",
       "      <td>RL</td>\n",
       "      <td>84.0</td>\n",
       "      <td>14260</td>\n",
       "      <td>Pave</td>\n",
       "      <td>NaN</td>\n",
       "      <td>IR1</td>\n",
       "      <td>Lvl</td>\n",
       "      <td>AllPub</td>\n",
       "      <td>FR2</td>\n",
       "      <td>Gtl</td>\n",
       "      <td>NoRidge</td>\n",
       "      <td>Norm</td>\n",
       "      <td>Norm</td>\n",
       "      <td>1Fam</td>\n",
       "      <td>2Story</td>\n",
       "      <td>8</td>\n",
       "      <td>5</td>\n",
       "      <td>2000</td>\n",
       "      <td>2000</td>\n",
       "      <td>Gable</td>\n",
       "      <td>CompShg</td>\n",
       "      <td>VinylSd</td>\n",
       "      <td>VinylSd</td>\n",
       "      <td>BrkFace</td>\n",
       "      <td>350.0</td>\n",
       "      <td>Gd</td>\n",
       "      <td>TA</td>\n",
       "      <td>PConc</td>\n",
       "      <td>Gd</td>\n",
       "      <td>TA</td>\n",
       "      <td>Av</td>\n",
       "      <td>GLQ</td>\n",
       "      <td>655</td>\n",
       "      <td>Unf</td>\n",
       "      <td>0</td>\n",
       "      <td>490</td>\n",
       "      <td>1145</td>\n",
       "      <td>GasA</td>\n",
       "      <td>Ex</td>\n",
       "      <td>Y</td>\n",
       "      <td>SBrkr</td>\n",
       "      <td>1145</td>\n",
       "      <td>1053</td>\n",
       "      <td>0</td>\n",
       "      <td>2198</td>\n",
       "      <td>1</td>\n",
       "      <td>0</td>\n",
       "      <td>2</td>\n",
       "      <td>1</td>\n",
       "      <td>4</td>\n",
       "      <td>1</td>\n",
       "      <td>Gd</td>\n",
       "      <td>9</td>\n",
       "      <td>Typ</td>\n",
       "      <td>1</td>\n",
       "      <td>TA</td>\n",
       "      <td>Attchd</td>\n",
       "      <td>2000.0</td>\n",
       "      <td>RFn</td>\n",
       "      <td>3</td>\n",
       "      <td>836</td>\n",
       "      <td>TA</td>\n",
       "      <td>TA</td>\n",
       "      <td>Y</td>\n",
       "      <td>192</td>\n",
       "      <td>84</td>\n",
       "      <td>0</td>\n",
       "      <td>0</td>\n",
       "      <td>0</td>\n",
       "      <td>0</td>\n",
       "      <td>NaN</td>\n",
       "      <td>NaN</td>\n",
       "      <td>NaN</td>\n",
       "      <td>0</td>\n",
       "      <td>12</td>\n",
       "      <td>2008</td>\n",
       "      <td>WD</td>\n",
       "      <td>Normal</td>\n",
       "      <td>250000</td>\n",
       "    </tr>\n",
       "    <tr>\n",
       "      <th>...</th>\n",
       "      <td>...</td>\n",
       "      <td>...</td>\n",
       "      <td>...</td>\n",
       "      <td>...</td>\n",
       "      <td>...</td>\n",
       "      <td>...</td>\n",
       "      <td>...</td>\n",
       "      <td>...</td>\n",
       "      <td>...</td>\n",
       "      <td>...</td>\n",
       "      <td>...</td>\n",
       "      <td>...</td>\n",
       "      <td>...</td>\n",
       "      <td>...</td>\n",
       "      <td>...</td>\n",
       "      <td>...</td>\n",
       "      <td>...</td>\n",
       "      <td>...</td>\n",
       "      <td>...</td>\n",
       "      <td>...</td>\n",
       "      <td>...</td>\n",
       "      <td>...</td>\n",
       "      <td>...</td>\n",
       "      <td>...</td>\n",
       "      <td>...</td>\n",
       "      <td>...</td>\n",
       "      <td>...</td>\n",
       "      <td>...</td>\n",
       "      <td>...</td>\n",
       "      <td>...</td>\n",
       "      <td>...</td>\n",
       "      <td>...</td>\n",
       "      <td>...</td>\n",
       "      <td>...</td>\n",
       "      <td>...</td>\n",
       "      <td>...</td>\n",
       "      <td>...</td>\n",
       "      <td>...</td>\n",
       "      <td>...</td>\n",
       "      <td>...</td>\n",
       "      <td>...</td>\n",
       "      <td>...</td>\n",
       "      <td>...</td>\n",
       "      <td>...</td>\n",
       "      <td>...</td>\n",
       "      <td>...</td>\n",
       "      <td>...</td>\n",
       "      <td>...</td>\n",
       "      <td>...</td>\n",
       "      <td>...</td>\n",
       "      <td>...</td>\n",
       "      <td>...</td>\n",
       "      <td>...</td>\n",
       "      <td>...</td>\n",
       "      <td>...</td>\n",
       "      <td>...</td>\n",
       "      <td>...</td>\n",
       "      <td>...</td>\n",
       "      <td>...</td>\n",
       "      <td>...</td>\n",
       "      <td>...</td>\n",
       "      <td>...</td>\n",
       "      <td>...</td>\n",
       "      <td>...</td>\n",
       "      <td>...</td>\n",
       "      <td>...</td>\n",
       "      <td>...</td>\n",
       "      <td>...</td>\n",
       "      <td>...</td>\n",
       "      <td>...</td>\n",
       "      <td>...</td>\n",
       "      <td>...</td>\n",
       "      <td>...</td>\n",
       "      <td>...</td>\n",
       "      <td>...</td>\n",
       "      <td>...</td>\n",
       "      <td>...</td>\n",
       "      <td>...</td>\n",
       "      <td>...</td>\n",
       "      <td>...</td>\n",
       "      <td>...</td>\n",
       "    </tr>\n",
       "    <tr>\n",
       "      <th>1455</th>\n",
       "      <td>1456</td>\n",
       "      <td>60</td>\n",
       "      <td>RL</td>\n",
       "      <td>62.0</td>\n",
       "      <td>7917</td>\n",
       "      <td>Pave</td>\n",
       "      <td>NaN</td>\n",
       "      <td>Reg</td>\n",
       "      <td>Lvl</td>\n",
       "      <td>AllPub</td>\n",
       "      <td>Inside</td>\n",
       "      <td>Gtl</td>\n",
       "      <td>Gilbert</td>\n",
       "      <td>Norm</td>\n",
       "      <td>Norm</td>\n",
       "      <td>1Fam</td>\n",
       "      <td>2Story</td>\n",
       "      <td>6</td>\n",
       "      <td>5</td>\n",
       "      <td>1999</td>\n",
       "      <td>2000</td>\n",
       "      <td>Gable</td>\n",
       "      <td>CompShg</td>\n",
       "      <td>VinylSd</td>\n",
       "      <td>VinylSd</td>\n",
       "      <td>None</td>\n",
       "      <td>0.0</td>\n",
       "      <td>TA</td>\n",
       "      <td>TA</td>\n",
       "      <td>PConc</td>\n",
       "      <td>Gd</td>\n",
       "      <td>TA</td>\n",
       "      <td>No</td>\n",
       "      <td>Unf</td>\n",
       "      <td>0</td>\n",
       "      <td>Unf</td>\n",
       "      <td>0</td>\n",
       "      <td>953</td>\n",
       "      <td>953</td>\n",
       "      <td>GasA</td>\n",
       "      <td>Ex</td>\n",
       "      <td>Y</td>\n",
       "      <td>SBrkr</td>\n",
       "      <td>953</td>\n",
       "      <td>694</td>\n",
       "      <td>0</td>\n",
       "      <td>1647</td>\n",
       "      <td>0</td>\n",
       "      <td>0</td>\n",
       "      <td>2</td>\n",
       "      <td>1</td>\n",
       "      <td>3</td>\n",
       "      <td>1</td>\n",
       "      <td>TA</td>\n",
       "      <td>7</td>\n",
       "      <td>Typ</td>\n",
       "      <td>1</td>\n",
       "      <td>TA</td>\n",
       "      <td>Attchd</td>\n",
       "      <td>1999.0</td>\n",
       "      <td>RFn</td>\n",
       "      <td>2</td>\n",
       "      <td>460</td>\n",
       "      <td>TA</td>\n",
       "      <td>TA</td>\n",
       "      <td>Y</td>\n",
       "      <td>0</td>\n",
       "      <td>40</td>\n",
       "      <td>0</td>\n",
       "      <td>0</td>\n",
       "      <td>0</td>\n",
       "      <td>0</td>\n",
       "      <td>NaN</td>\n",
       "      <td>NaN</td>\n",
       "      <td>NaN</td>\n",
       "      <td>0</td>\n",
       "      <td>8</td>\n",
       "      <td>2007</td>\n",
       "      <td>WD</td>\n",
       "      <td>Normal</td>\n",
       "      <td>175000</td>\n",
       "    </tr>\n",
       "    <tr>\n",
       "      <th>1456</th>\n",
       "      <td>1457</td>\n",
       "      <td>20</td>\n",
       "      <td>RL</td>\n",
       "      <td>85.0</td>\n",
       "      <td>13175</td>\n",
       "      <td>Pave</td>\n",
       "      <td>NaN</td>\n",
       "      <td>Reg</td>\n",
       "      <td>Lvl</td>\n",
       "      <td>AllPub</td>\n",
       "      <td>Inside</td>\n",
       "      <td>Gtl</td>\n",
       "      <td>NWAmes</td>\n",
       "      <td>Norm</td>\n",
       "      <td>Norm</td>\n",
       "      <td>1Fam</td>\n",
       "      <td>1Story</td>\n",
       "      <td>6</td>\n",
       "      <td>6</td>\n",
       "      <td>1978</td>\n",
       "      <td>1988</td>\n",
       "      <td>Gable</td>\n",
       "      <td>CompShg</td>\n",
       "      <td>Plywood</td>\n",
       "      <td>Plywood</td>\n",
       "      <td>Stone</td>\n",
       "      <td>119.0</td>\n",
       "      <td>TA</td>\n",
       "      <td>TA</td>\n",
       "      <td>CBlock</td>\n",
       "      <td>Gd</td>\n",
       "      <td>TA</td>\n",
       "      <td>No</td>\n",
       "      <td>ALQ</td>\n",
       "      <td>790</td>\n",
       "      <td>Rec</td>\n",
       "      <td>163</td>\n",
       "      <td>589</td>\n",
       "      <td>1542</td>\n",
       "      <td>GasA</td>\n",
       "      <td>TA</td>\n",
       "      <td>Y</td>\n",
       "      <td>SBrkr</td>\n",
       "      <td>2073</td>\n",
       "      <td>0</td>\n",
       "      <td>0</td>\n",
       "      <td>2073</td>\n",
       "      <td>1</td>\n",
       "      <td>0</td>\n",
       "      <td>2</td>\n",
       "      <td>0</td>\n",
       "      <td>3</td>\n",
       "      <td>1</td>\n",
       "      <td>TA</td>\n",
       "      <td>7</td>\n",
       "      <td>Min1</td>\n",
       "      <td>2</td>\n",
       "      <td>TA</td>\n",
       "      <td>Attchd</td>\n",
       "      <td>1978.0</td>\n",
       "      <td>Unf</td>\n",
       "      <td>2</td>\n",
       "      <td>500</td>\n",
       "      <td>TA</td>\n",
       "      <td>TA</td>\n",
       "      <td>Y</td>\n",
       "      <td>349</td>\n",
       "      <td>0</td>\n",
       "      <td>0</td>\n",
       "      <td>0</td>\n",
       "      <td>0</td>\n",
       "      <td>0</td>\n",
       "      <td>NaN</td>\n",
       "      <td>MnPrv</td>\n",
       "      <td>NaN</td>\n",
       "      <td>0</td>\n",
       "      <td>2</td>\n",
       "      <td>2010</td>\n",
       "      <td>WD</td>\n",
       "      <td>Normal</td>\n",
       "      <td>210000</td>\n",
       "    </tr>\n",
       "    <tr>\n",
       "      <th>1457</th>\n",
       "      <td>1458</td>\n",
       "      <td>70</td>\n",
       "      <td>RL</td>\n",
       "      <td>66.0</td>\n",
       "      <td>9042</td>\n",
       "      <td>Pave</td>\n",
       "      <td>NaN</td>\n",
       "      <td>Reg</td>\n",
       "      <td>Lvl</td>\n",
       "      <td>AllPub</td>\n",
       "      <td>Inside</td>\n",
       "      <td>Gtl</td>\n",
       "      <td>Crawfor</td>\n",
       "      <td>Norm</td>\n",
       "      <td>Norm</td>\n",
       "      <td>1Fam</td>\n",
       "      <td>2Story</td>\n",
       "      <td>7</td>\n",
       "      <td>9</td>\n",
       "      <td>1941</td>\n",
       "      <td>2006</td>\n",
       "      <td>Gable</td>\n",
       "      <td>CompShg</td>\n",
       "      <td>CemntBd</td>\n",
       "      <td>CmentBd</td>\n",
       "      <td>None</td>\n",
       "      <td>0.0</td>\n",
       "      <td>Ex</td>\n",
       "      <td>Gd</td>\n",
       "      <td>Stone</td>\n",
       "      <td>TA</td>\n",
       "      <td>Gd</td>\n",
       "      <td>No</td>\n",
       "      <td>GLQ</td>\n",
       "      <td>275</td>\n",
       "      <td>Unf</td>\n",
       "      <td>0</td>\n",
       "      <td>877</td>\n",
       "      <td>1152</td>\n",
       "      <td>GasA</td>\n",
       "      <td>Ex</td>\n",
       "      <td>Y</td>\n",
       "      <td>SBrkr</td>\n",
       "      <td>1188</td>\n",
       "      <td>1152</td>\n",
       "      <td>0</td>\n",
       "      <td>2340</td>\n",
       "      <td>0</td>\n",
       "      <td>0</td>\n",
       "      <td>2</td>\n",
       "      <td>0</td>\n",
       "      <td>4</td>\n",
       "      <td>1</td>\n",
       "      <td>Gd</td>\n",
       "      <td>9</td>\n",
       "      <td>Typ</td>\n",
       "      <td>2</td>\n",
       "      <td>Gd</td>\n",
       "      <td>Attchd</td>\n",
       "      <td>1941.0</td>\n",
       "      <td>RFn</td>\n",
       "      <td>1</td>\n",
       "      <td>252</td>\n",
       "      <td>TA</td>\n",
       "      <td>TA</td>\n",
       "      <td>Y</td>\n",
       "      <td>0</td>\n",
       "      <td>60</td>\n",
       "      <td>0</td>\n",
       "      <td>0</td>\n",
       "      <td>0</td>\n",
       "      <td>0</td>\n",
       "      <td>NaN</td>\n",
       "      <td>GdPrv</td>\n",
       "      <td>Shed</td>\n",
       "      <td>2500</td>\n",
       "      <td>5</td>\n",
       "      <td>2010</td>\n",
       "      <td>WD</td>\n",
       "      <td>Normal</td>\n",
       "      <td>266500</td>\n",
       "    </tr>\n",
       "    <tr>\n",
       "      <th>1458</th>\n",
       "      <td>1459</td>\n",
       "      <td>20</td>\n",
       "      <td>RL</td>\n",
       "      <td>68.0</td>\n",
       "      <td>9717</td>\n",
       "      <td>Pave</td>\n",
       "      <td>NaN</td>\n",
       "      <td>Reg</td>\n",
       "      <td>Lvl</td>\n",
       "      <td>AllPub</td>\n",
       "      <td>Inside</td>\n",
       "      <td>Gtl</td>\n",
       "      <td>NAmes</td>\n",
       "      <td>Norm</td>\n",
       "      <td>Norm</td>\n",
       "      <td>1Fam</td>\n",
       "      <td>1Story</td>\n",
       "      <td>5</td>\n",
       "      <td>6</td>\n",
       "      <td>1950</td>\n",
       "      <td>1996</td>\n",
       "      <td>Hip</td>\n",
       "      <td>CompShg</td>\n",
       "      <td>MetalSd</td>\n",
       "      <td>MetalSd</td>\n",
       "      <td>None</td>\n",
       "      <td>0.0</td>\n",
       "      <td>TA</td>\n",
       "      <td>TA</td>\n",
       "      <td>CBlock</td>\n",
       "      <td>TA</td>\n",
       "      <td>TA</td>\n",
       "      <td>Mn</td>\n",
       "      <td>GLQ</td>\n",
       "      <td>49</td>\n",
       "      <td>Rec</td>\n",
       "      <td>1029</td>\n",
       "      <td>0</td>\n",
       "      <td>1078</td>\n",
       "      <td>GasA</td>\n",
       "      <td>Gd</td>\n",
       "      <td>Y</td>\n",
       "      <td>FuseA</td>\n",
       "      <td>1078</td>\n",
       "      <td>0</td>\n",
       "      <td>0</td>\n",
       "      <td>1078</td>\n",
       "      <td>1</td>\n",
       "      <td>0</td>\n",
       "      <td>1</td>\n",
       "      <td>0</td>\n",
       "      <td>2</td>\n",
       "      <td>1</td>\n",
       "      <td>Gd</td>\n",
       "      <td>5</td>\n",
       "      <td>Typ</td>\n",
       "      <td>0</td>\n",
       "      <td>NaN</td>\n",
       "      <td>Attchd</td>\n",
       "      <td>1950.0</td>\n",
       "      <td>Unf</td>\n",
       "      <td>1</td>\n",
       "      <td>240</td>\n",
       "      <td>TA</td>\n",
       "      <td>TA</td>\n",
       "      <td>Y</td>\n",
       "      <td>366</td>\n",
       "      <td>0</td>\n",
       "      <td>112</td>\n",
       "      <td>0</td>\n",
       "      <td>0</td>\n",
       "      <td>0</td>\n",
       "      <td>NaN</td>\n",
       "      <td>NaN</td>\n",
       "      <td>NaN</td>\n",
       "      <td>0</td>\n",
       "      <td>4</td>\n",
       "      <td>2010</td>\n",
       "      <td>WD</td>\n",
       "      <td>Normal</td>\n",
       "      <td>142125</td>\n",
       "    </tr>\n",
       "    <tr>\n",
       "      <th>1459</th>\n",
       "      <td>1460</td>\n",
       "      <td>20</td>\n",
       "      <td>RL</td>\n",
       "      <td>75.0</td>\n",
       "      <td>9937</td>\n",
       "      <td>Pave</td>\n",
       "      <td>NaN</td>\n",
       "      <td>Reg</td>\n",
       "      <td>Lvl</td>\n",
       "      <td>AllPub</td>\n",
       "      <td>Inside</td>\n",
       "      <td>Gtl</td>\n",
       "      <td>Edwards</td>\n",
       "      <td>Norm</td>\n",
       "      <td>Norm</td>\n",
       "      <td>1Fam</td>\n",
       "      <td>1Story</td>\n",
       "      <td>5</td>\n",
       "      <td>6</td>\n",
       "      <td>1965</td>\n",
       "      <td>1965</td>\n",
       "      <td>Gable</td>\n",
       "      <td>CompShg</td>\n",
       "      <td>HdBoard</td>\n",
       "      <td>HdBoard</td>\n",
       "      <td>None</td>\n",
       "      <td>0.0</td>\n",
       "      <td>Gd</td>\n",
       "      <td>TA</td>\n",
       "      <td>CBlock</td>\n",
       "      <td>TA</td>\n",
       "      <td>TA</td>\n",
       "      <td>No</td>\n",
       "      <td>BLQ</td>\n",
       "      <td>830</td>\n",
       "      <td>LwQ</td>\n",
       "      <td>290</td>\n",
       "      <td>136</td>\n",
       "      <td>1256</td>\n",
       "      <td>GasA</td>\n",
       "      <td>Gd</td>\n",
       "      <td>Y</td>\n",
       "      <td>SBrkr</td>\n",
       "      <td>1256</td>\n",
       "      <td>0</td>\n",
       "      <td>0</td>\n",
       "      <td>1256</td>\n",
       "      <td>1</td>\n",
       "      <td>0</td>\n",
       "      <td>1</td>\n",
       "      <td>1</td>\n",
       "      <td>3</td>\n",
       "      <td>1</td>\n",
       "      <td>TA</td>\n",
       "      <td>6</td>\n",
       "      <td>Typ</td>\n",
       "      <td>0</td>\n",
       "      <td>NaN</td>\n",
       "      <td>Attchd</td>\n",
       "      <td>1965.0</td>\n",
       "      <td>Fin</td>\n",
       "      <td>1</td>\n",
       "      <td>276</td>\n",
       "      <td>TA</td>\n",
       "      <td>TA</td>\n",
       "      <td>Y</td>\n",
       "      <td>736</td>\n",
       "      <td>68</td>\n",
       "      <td>0</td>\n",
       "      <td>0</td>\n",
       "      <td>0</td>\n",
       "      <td>0</td>\n",
       "      <td>NaN</td>\n",
       "      <td>NaN</td>\n",
       "      <td>NaN</td>\n",
       "      <td>0</td>\n",
       "      <td>6</td>\n",
       "      <td>2008</td>\n",
       "      <td>WD</td>\n",
       "      <td>Normal</td>\n",
       "      <td>147500</td>\n",
       "    </tr>\n",
       "  </tbody>\n",
       "</table>\n",
       "<p>1460 rows × 81 columns</p>\n",
       "</div>"
      ],
      "text/plain": [
       "        Id  MSSubClass MSZoning  LotFrontage  LotArea Street Alley LotShape  \\\n",
       "0        1          60       RL         65.0     8450   Pave   NaN      Reg   \n",
       "1        2          20       RL         80.0     9600   Pave   NaN      Reg   \n",
       "2        3          60       RL         68.0    11250   Pave   NaN      IR1   \n",
       "3        4          70       RL         60.0     9550   Pave   NaN      IR1   \n",
       "4        5          60       RL         84.0    14260   Pave   NaN      IR1   \n",
       "...    ...         ...      ...          ...      ...    ...   ...      ...   \n",
       "1455  1456          60       RL         62.0     7917   Pave   NaN      Reg   \n",
       "1456  1457          20       RL         85.0    13175   Pave   NaN      Reg   \n",
       "1457  1458          70       RL         66.0     9042   Pave   NaN      Reg   \n",
       "1458  1459          20       RL         68.0     9717   Pave   NaN      Reg   \n",
       "1459  1460          20       RL         75.0     9937   Pave   NaN      Reg   \n",
       "\n",
       "     LandContour Utilities LotConfig LandSlope Neighborhood Condition1  \\\n",
       "0            Lvl    AllPub    Inside       Gtl      CollgCr       Norm   \n",
       "1            Lvl    AllPub       FR2       Gtl      Veenker      Feedr   \n",
       "2            Lvl    AllPub    Inside       Gtl      CollgCr       Norm   \n",
       "3            Lvl    AllPub    Corner       Gtl      Crawfor       Norm   \n",
       "4            Lvl    AllPub       FR2       Gtl      NoRidge       Norm   \n",
       "...          ...       ...       ...       ...          ...        ...   \n",
       "1455         Lvl    AllPub    Inside       Gtl      Gilbert       Norm   \n",
       "1456         Lvl    AllPub    Inside       Gtl       NWAmes       Norm   \n",
       "1457         Lvl    AllPub    Inside       Gtl      Crawfor       Norm   \n",
       "1458         Lvl    AllPub    Inside       Gtl        NAmes       Norm   \n",
       "1459         Lvl    AllPub    Inside       Gtl      Edwards       Norm   \n",
       "\n",
       "     Condition2 BldgType HouseStyle  OverallQual  OverallCond  YearBuilt  \\\n",
       "0          Norm     1Fam     2Story            7            5       2003   \n",
       "1          Norm     1Fam     1Story            6            8       1976   \n",
       "2          Norm     1Fam     2Story            7            5       2001   \n",
       "3          Norm     1Fam     2Story            7            5       1915   \n",
       "4          Norm     1Fam     2Story            8            5       2000   \n",
       "...         ...      ...        ...          ...          ...        ...   \n",
       "1455       Norm     1Fam     2Story            6            5       1999   \n",
       "1456       Norm     1Fam     1Story            6            6       1978   \n",
       "1457       Norm     1Fam     2Story            7            9       1941   \n",
       "1458       Norm     1Fam     1Story            5            6       1950   \n",
       "1459       Norm     1Fam     1Story            5            6       1965   \n",
       "\n",
       "      YearRemodAdd RoofStyle RoofMatl Exterior1st Exterior2nd MasVnrType  \\\n",
       "0             2003     Gable  CompShg     VinylSd     VinylSd    BrkFace   \n",
       "1             1976     Gable  CompShg     MetalSd     MetalSd       None   \n",
       "2             2002     Gable  CompShg     VinylSd     VinylSd    BrkFace   \n",
       "3             1970     Gable  CompShg     Wd Sdng     Wd Shng       None   \n",
       "4             2000     Gable  CompShg     VinylSd     VinylSd    BrkFace   \n",
       "...            ...       ...      ...         ...         ...        ...   \n",
       "1455          2000     Gable  CompShg     VinylSd     VinylSd       None   \n",
       "1456          1988     Gable  CompShg     Plywood     Plywood      Stone   \n",
       "1457          2006     Gable  CompShg     CemntBd     CmentBd       None   \n",
       "1458          1996       Hip  CompShg     MetalSd     MetalSd       None   \n",
       "1459          1965     Gable  CompShg     HdBoard     HdBoard       None   \n",
       "\n",
       "      MasVnrArea ExterQual ExterCond Foundation BsmtQual BsmtCond  \\\n",
       "0          196.0        Gd        TA      PConc       Gd       TA   \n",
       "1            0.0        TA        TA     CBlock       Gd       TA   \n",
       "2          162.0        Gd        TA      PConc       Gd       TA   \n",
       "3            0.0        TA        TA     BrkTil       TA       Gd   \n",
       "4          350.0        Gd        TA      PConc       Gd       TA   \n",
       "...          ...       ...       ...        ...      ...      ...   \n",
       "1455         0.0        TA        TA      PConc       Gd       TA   \n",
       "1456       119.0        TA        TA     CBlock       Gd       TA   \n",
       "1457         0.0        Ex        Gd      Stone       TA       Gd   \n",
       "1458         0.0        TA        TA     CBlock       TA       TA   \n",
       "1459         0.0        Gd        TA     CBlock       TA       TA   \n",
       "\n",
       "     BsmtExposure BsmtFinType1  BsmtFinSF1 BsmtFinType2  BsmtFinSF2  \\\n",
       "0              No          GLQ         706          Unf           0   \n",
       "1              Gd          ALQ         978          Unf           0   \n",
       "2              Mn          GLQ         486          Unf           0   \n",
       "3              No          ALQ         216          Unf           0   \n",
       "4              Av          GLQ         655          Unf           0   \n",
       "...           ...          ...         ...          ...         ...   \n",
       "1455           No          Unf           0          Unf           0   \n",
       "1456           No          ALQ         790          Rec         163   \n",
       "1457           No          GLQ         275          Unf           0   \n",
       "1458           Mn          GLQ          49          Rec        1029   \n",
       "1459           No          BLQ         830          LwQ         290   \n",
       "\n",
       "      BsmtUnfSF  TotalBsmtSF Heating HeatingQC CentralAir Electrical  \\\n",
       "0           150          856    GasA        Ex          Y      SBrkr   \n",
       "1           284         1262    GasA        Ex          Y      SBrkr   \n",
       "2           434          920    GasA        Ex          Y      SBrkr   \n",
       "3           540          756    GasA        Gd          Y      SBrkr   \n",
       "4           490         1145    GasA        Ex          Y      SBrkr   \n",
       "...         ...          ...     ...       ...        ...        ...   \n",
       "1455        953          953    GasA        Ex          Y      SBrkr   \n",
       "1456        589         1542    GasA        TA          Y      SBrkr   \n",
       "1457        877         1152    GasA        Ex          Y      SBrkr   \n",
       "1458          0         1078    GasA        Gd          Y      FuseA   \n",
       "1459        136         1256    GasA        Gd          Y      SBrkr   \n",
       "\n",
       "      1stFlrSF  2ndFlrSF  LowQualFinSF  GrLivArea  BsmtFullBath  BsmtHalfBath  \\\n",
       "0          856       854             0       1710             1             0   \n",
       "1         1262         0             0       1262             0             1   \n",
       "2          920       866             0       1786             1             0   \n",
       "3          961       756             0       1717             1             0   \n",
       "4         1145      1053             0       2198             1             0   \n",
       "...        ...       ...           ...        ...           ...           ...   \n",
       "1455       953       694             0       1647             0             0   \n",
       "1456      2073         0             0       2073             1             0   \n",
       "1457      1188      1152             0       2340             0             0   \n",
       "1458      1078         0             0       1078             1             0   \n",
       "1459      1256         0             0       1256             1             0   \n",
       "\n",
       "      FullBath  HalfBath  BedroomAbvGr  KitchenAbvGr KitchenQual  \\\n",
       "0            2         1             3             1          Gd   \n",
       "1            2         0             3             1          TA   \n",
       "2            2         1             3             1          Gd   \n",
       "3            1         0             3             1          Gd   \n",
       "4            2         1             4             1          Gd   \n",
       "...        ...       ...           ...           ...         ...   \n",
       "1455         2         1             3             1          TA   \n",
       "1456         2         0             3             1          TA   \n",
       "1457         2         0             4             1          Gd   \n",
       "1458         1         0             2             1          Gd   \n",
       "1459         1         1             3             1          TA   \n",
       "\n",
       "      TotRmsAbvGrd Functional  Fireplaces FireplaceQu GarageType  GarageYrBlt  \\\n",
       "0                8        Typ           0         NaN     Attchd       2003.0   \n",
       "1                6        Typ           1          TA     Attchd       1976.0   \n",
       "2                6        Typ           1          TA     Attchd       2001.0   \n",
       "3                7        Typ           1          Gd     Detchd       1998.0   \n",
       "4                9        Typ           1          TA     Attchd       2000.0   \n",
       "...            ...        ...         ...         ...        ...          ...   \n",
       "1455             7        Typ           1          TA     Attchd       1999.0   \n",
       "1456             7       Min1           2          TA     Attchd       1978.0   \n",
       "1457             9        Typ           2          Gd     Attchd       1941.0   \n",
       "1458             5        Typ           0         NaN     Attchd       1950.0   \n",
       "1459             6        Typ           0         NaN     Attchd       1965.0   \n",
       "\n",
       "     GarageFinish  GarageCars  GarageArea GarageQual GarageCond PavedDrive  \\\n",
       "0             RFn           2         548         TA         TA          Y   \n",
       "1             RFn           2         460         TA         TA          Y   \n",
       "2             RFn           2         608         TA         TA          Y   \n",
       "3             Unf           3         642         TA         TA          Y   \n",
       "4             RFn           3         836         TA         TA          Y   \n",
       "...           ...         ...         ...        ...        ...        ...   \n",
       "1455          RFn           2         460         TA         TA          Y   \n",
       "1456          Unf           2         500         TA         TA          Y   \n",
       "1457          RFn           1         252         TA         TA          Y   \n",
       "1458          Unf           1         240         TA         TA          Y   \n",
       "1459          Fin           1         276         TA         TA          Y   \n",
       "\n",
       "      WoodDeckSF  OpenPorchSF  EnclosedPorch  3SsnPorch  ScreenPorch  \\\n",
       "0              0           61              0          0            0   \n",
       "1            298            0              0          0            0   \n",
       "2              0           42              0          0            0   \n",
       "3              0           35            272          0            0   \n",
       "4            192           84              0          0            0   \n",
       "...          ...          ...            ...        ...          ...   \n",
       "1455           0           40              0          0            0   \n",
       "1456         349            0              0          0            0   \n",
       "1457           0           60              0          0            0   \n",
       "1458         366            0            112          0            0   \n",
       "1459         736           68              0          0            0   \n",
       "\n",
       "      PoolArea PoolQC  Fence MiscFeature  MiscVal  MoSold  YrSold SaleType  \\\n",
       "0            0    NaN    NaN         NaN        0       2    2008       WD   \n",
       "1            0    NaN    NaN         NaN        0       5    2007       WD   \n",
       "2            0    NaN    NaN         NaN        0       9    2008       WD   \n",
       "3            0    NaN    NaN         NaN        0       2    2006       WD   \n",
       "4            0    NaN    NaN         NaN        0      12    2008       WD   \n",
       "...        ...    ...    ...         ...      ...     ...     ...      ...   \n",
       "1455         0    NaN    NaN         NaN        0       8    2007       WD   \n",
       "1456         0    NaN  MnPrv         NaN        0       2    2010       WD   \n",
       "1457         0    NaN  GdPrv        Shed     2500       5    2010       WD   \n",
       "1458         0    NaN    NaN         NaN        0       4    2010       WD   \n",
       "1459         0    NaN    NaN         NaN        0       6    2008       WD   \n",
       "\n",
       "     SaleCondition  SalePrice  \n",
       "0           Normal     208500  \n",
       "1           Normal     181500  \n",
       "2           Normal     223500  \n",
       "3          Abnorml     140000  \n",
       "4           Normal     250000  \n",
       "...            ...        ...  \n",
       "1455        Normal     175000  \n",
       "1456        Normal     210000  \n",
       "1457        Normal     266500  \n",
       "1458        Normal     142125  \n",
       "1459        Normal     147500  \n",
       "\n",
       "[1460 rows x 81 columns]"
      ]
     },
     "execution_count": 57,
     "metadata": {},
     "output_type": "execute_result"
    }
   ],
   "source": [
    "prices_df"
   ]
  },
  {
   "cell_type": "markdown",
   "metadata": {},
   "source": [
    "> **QUESTION 3**: Create a list `input_cols` of column names containing data that can be used as input to train the model, and identify the target column as the variable `target_col`."
   ]
  },
  {
   "cell_type": "code",
   "execution_count": 58,
   "metadata": {},
   "outputs": [],
   "source": [
    "# Identify the input columns (a list of column names)\n",
    "input_cols = list(prices_df.columns)[1:-1]"
   ]
  },
  {
   "cell_type": "code",
   "execution_count": 59,
   "metadata": {},
   "outputs": [],
   "source": [
    "# Identify the name of the target column (a single string, not a list)\n",
    "target_col = \"SalePrice\""
   ]
  },
  {
   "cell_type": "code",
   "execution_count": 60,
   "metadata": {},
   "outputs": [
    {
     "name": "stdout",
     "output_type": "stream",
     "text": [
      "['MSSubClass', 'MSZoning', 'LotFrontage', 'LotArea', 'Street', 'Alley', 'LotShape', 'LandContour', 'Utilities', 'LotConfig', 'LandSlope', 'Neighborhood', 'Condition1', 'Condition2', 'BldgType', 'HouseStyle', 'OverallQual', 'OverallCond', 'YearBuilt', 'YearRemodAdd', 'RoofStyle', 'RoofMatl', 'Exterior1st', 'Exterior2nd', 'MasVnrType', 'MasVnrArea', 'ExterQual', 'ExterCond', 'Foundation', 'BsmtQual', 'BsmtCond', 'BsmtExposure', 'BsmtFinType1', 'BsmtFinSF1', 'BsmtFinType2', 'BsmtFinSF2', 'BsmtUnfSF', 'TotalBsmtSF', 'Heating', 'HeatingQC', 'CentralAir', 'Electrical', '1stFlrSF', '2ndFlrSF', 'LowQualFinSF', 'GrLivArea', 'BsmtFullBath', 'BsmtHalfBath', 'FullBath', 'HalfBath', 'BedroomAbvGr', 'KitchenAbvGr', 'KitchenQual', 'TotRmsAbvGrd', 'Functional', 'Fireplaces', 'FireplaceQu', 'GarageType', 'GarageYrBlt', 'GarageFinish', 'GarageCars', 'GarageArea', 'GarageQual', 'GarageCond', 'PavedDrive', 'WoodDeckSF', 'OpenPorchSF', 'EnclosedPorch', '3SsnPorch', 'ScreenPorch', 'PoolArea', 'PoolQC', 'Fence', 'MiscFeature', 'MiscVal', 'MoSold', 'YrSold', 'SaleType', 'SaleCondition']\n"
     ]
    }
   ],
   "source": [
    "print(list(input_cols))"
   ]
  },
  {
   "cell_type": "code",
   "execution_count": 61,
   "metadata": {},
   "outputs": [
    {
     "data": {
      "text/plain": [
       "79"
      ]
     },
     "execution_count": 61,
     "metadata": {},
     "output_type": "execute_result"
    }
   ],
   "source": [
    "len(input_cols)"
   ]
  },
  {
   "cell_type": "code",
   "execution_count": 62,
   "metadata": {},
   "outputs": [
    {
     "name": "stdout",
     "output_type": "stream",
     "text": [
      "SalePrice\n"
     ]
    }
   ],
   "source": [
    "print(target_col)"
   ]
  },
  {
   "cell_type": "markdown",
   "metadata": {},
   "source": [
    "Make sure that the `Id` and `SalePrice` columns are not included in `input_cols`.\n",
    "\n",
    "Now that we've identified the input and target columns, we can separate input & target data."
   ]
  },
  {
   "cell_type": "code",
   "execution_count": 63,
   "metadata": {},
   "outputs": [],
   "source": [
    "inputs_df = prices_df[input_cols].copy()"
   ]
  },
  {
   "cell_type": "code",
   "execution_count": 64,
   "metadata": {},
   "outputs": [],
   "source": [
    "targets = prices_df[target_col]"
   ]
  },
  {
   "cell_type": "code",
   "execution_count": 65,
   "metadata": {},
   "outputs": [
    {
     "data": {
      "text/html": [
       "<div>\n",
       "<style scoped>\n",
       "    .dataframe tbody tr th:only-of-type {\n",
       "        vertical-align: middle;\n",
       "    }\n",
       "\n",
       "    .dataframe tbody tr th {\n",
       "        vertical-align: top;\n",
       "    }\n",
       "\n",
       "    .dataframe thead th {\n",
       "        text-align: right;\n",
       "    }\n",
       "</style>\n",
       "<table border=\"1\" class=\"dataframe\">\n",
       "  <thead>\n",
       "    <tr style=\"text-align: right;\">\n",
       "      <th></th>\n",
       "      <th>MSSubClass</th>\n",
       "      <th>MSZoning</th>\n",
       "      <th>LotFrontage</th>\n",
       "      <th>LotArea</th>\n",
       "      <th>Street</th>\n",
       "      <th>Alley</th>\n",
       "      <th>LotShape</th>\n",
       "      <th>LandContour</th>\n",
       "      <th>Utilities</th>\n",
       "      <th>LotConfig</th>\n",
       "      <th>LandSlope</th>\n",
       "      <th>Neighborhood</th>\n",
       "      <th>Condition1</th>\n",
       "      <th>Condition2</th>\n",
       "      <th>BldgType</th>\n",
       "      <th>HouseStyle</th>\n",
       "      <th>OverallQual</th>\n",
       "      <th>OverallCond</th>\n",
       "      <th>YearBuilt</th>\n",
       "      <th>YearRemodAdd</th>\n",
       "      <th>RoofStyle</th>\n",
       "      <th>RoofMatl</th>\n",
       "      <th>Exterior1st</th>\n",
       "      <th>Exterior2nd</th>\n",
       "      <th>MasVnrType</th>\n",
       "      <th>MasVnrArea</th>\n",
       "      <th>ExterQual</th>\n",
       "      <th>ExterCond</th>\n",
       "      <th>Foundation</th>\n",
       "      <th>BsmtQual</th>\n",
       "      <th>BsmtCond</th>\n",
       "      <th>BsmtExposure</th>\n",
       "      <th>BsmtFinType1</th>\n",
       "      <th>BsmtFinSF1</th>\n",
       "      <th>BsmtFinType2</th>\n",
       "      <th>BsmtFinSF2</th>\n",
       "      <th>BsmtUnfSF</th>\n",
       "      <th>TotalBsmtSF</th>\n",
       "      <th>Heating</th>\n",
       "      <th>HeatingQC</th>\n",
       "      <th>CentralAir</th>\n",
       "      <th>Electrical</th>\n",
       "      <th>1stFlrSF</th>\n",
       "      <th>2ndFlrSF</th>\n",
       "      <th>LowQualFinSF</th>\n",
       "      <th>GrLivArea</th>\n",
       "      <th>BsmtFullBath</th>\n",
       "      <th>BsmtHalfBath</th>\n",
       "      <th>FullBath</th>\n",
       "      <th>HalfBath</th>\n",
       "      <th>BedroomAbvGr</th>\n",
       "      <th>KitchenAbvGr</th>\n",
       "      <th>KitchenQual</th>\n",
       "      <th>TotRmsAbvGrd</th>\n",
       "      <th>Functional</th>\n",
       "      <th>Fireplaces</th>\n",
       "      <th>FireplaceQu</th>\n",
       "      <th>GarageType</th>\n",
       "      <th>GarageYrBlt</th>\n",
       "      <th>GarageFinish</th>\n",
       "      <th>GarageCars</th>\n",
       "      <th>GarageArea</th>\n",
       "      <th>GarageQual</th>\n",
       "      <th>GarageCond</th>\n",
       "      <th>PavedDrive</th>\n",
       "      <th>WoodDeckSF</th>\n",
       "      <th>OpenPorchSF</th>\n",
       "      <th>EnclosedPorch</th>\n",
       "      <th>3SsnPorch</th>\n",
       "      <th>ScreenPorch</th>\n",
       "      <th>PoolArea</th>\n",
       "      <th>PoolQC</th>\n",
       "      <th>Fence</th>\n",
       "      <th>MiscFeature</th>\n",
       "      <th>MiscVal</th>\n",
       "      <th>MoSold</th>\n",
       "      <th>YrSold</th>\n",
       "      <th>SaleType</th>\n",
       "      <th>SaleCondition</th>\n",
       "    </tr>\n",
       "  </thead>\n",
       "  <tbody>\n",
       "    <tr>\n",
       "      <th>0</th>\n",
       "      <td>60</td>\n",
       "      <td>RL</td>\n",
       "      <td>65.0</td>\n",
       "      <td>8450</td>\n",
       "      <td>Pave</td>\n",
       "      <td>NaN</td>\n",
       "      <td>Reg</td>\n",
       "      <td>Lvl</td>\n",
       "      <td>AllPub</td>\n",
       "      <td>Inside</td>\n",
       "      <td>Gtl</td>\n",
       "      <td>CollgCr</td>\n",
       "      <td>Norm</td>\n",
       "      <td>Norm</td>\n",
       "      <td>1Fam</td>\n",
       "      <td>2Story</td>\n",
       "      <td>7</td>\n",
       "      <td>5</td>\n",
       "      <td>2003</td>\n",
       "      <td>2003</td>\n",
       "      <td>Gable</td>\n",
       "      <td>CompShg</td>\n",
       "      <td>VinylSd</td>\n",
       "      <td>VinylSd</td>\n",
       "      <td>BrkFace</td>\n",
       "      <td>196.0</td>\n",
       "      <td>Gd</td>\n",
       "      <td>TA</td>\n",
       "      <td>PConc</td>\n",
       "      <td>Gd</td>\n",
       "      <td>TA</td>\n",
       "      <td>No</td>\n",
       "      <td>GLQ</td>\n",
       "      <td>706</td>\n",
       "      <td>Unf</td>\n",
       "      <td>0</td>\n",
       "      <td>150</td>\n",
       "      <td>856</td>\n",
       "      <td>GasA</td>\n",
       "      <td>Ex</td>\n",
       "      <td>Y</td>\n",
       "      <td>SBrkr</td>\n",
       "      <td>856</td>\n",
       "      <td>854</td>\n",
       "      <td>0</td>\n",
       "      <td>1710</td>\n",
       "      <td>1</td>\n",
       "      <td>0</td>\n",
       "      <td>2</td>\n",
       "      <td>1</td>\n",
       "      <td>3</td>\n",
       "      <td>1</td>\n",
       "      <td>Gd</td>\n",
       "      <td>8</td>\n",
       "      <td>Typ</td>\n",
       "      <td>0</td>\n",
       "      <td>NaN</td>\n",
       "      <td>Attchd</td>\n",
       "      <td>2003.0</td>\n",
       "      <td>RFn</td>\n",
       "      <td>2</td>\n",
       "      <td>548</td>\n",
       "      <td>TA</td>\n",
       "      <td>TA</td>\n",
       "      <td>Y</td>\n",
       "      <td>0</td>\n",
       "      <td>61</td>\n",
       "      <td>0</td>\n",
       "      <td>0</td>\n",
       "      <td>0</td>\n",
       "      <td>0</td>\n",
       "      <td>NaN</td>\n",
       "      <td>NaN</td>\n",
       "      <td>NaN</td>\n",
       "      <td>0</td>\n",
       "      <td>2</td>\n",
       "      <td>2008</td>\n",
       "      <td>WD</td>\n",
       "      <td>Normal</td>\n",
       "    </tr>\n",
       "    <tr>\n",
       "      <th>1</th>\n",
       "      <td>20</td>\n",
       "      <td>RL</td>\n",
       "      <td>80.0</td>\n",
       "      <td>9600</td>\n",
       "      <td>Pave</td>\n",
       "      <td>NaN</td>\n",
       "      <td>Reg</td>\n",
       "      <td>Lvl</td>\n",
       "      <td>AllPub</td>\n",
       "      <td>FR2</td>\n",
       "      <td>Gtl</td>\n",
       "      <td>Veenker</td>\n",
       "      <td>Feedr</td>\n",
       "      <td>Norm</td>\n",
       "      <td>1Fam</td>\n",
       "      <td>1Story</td>\n",
       "      <td>6</td>\n",
       "      <td>8</td>\n",
       "      <td>1976</td>\n",
       "      <td>1976</td>\n",
       "      <td>Gable</td>\n",
       "      <td>CompShg</td>\n",
       "      <td>MetalSd</td>\n",
       "      <td>MetalSd</td>\n",
       "      <td>None</td>\n",
       "      <td>0.0</td>\n",
       "      <td>TA</td>\n",
       "      <td>TA</td>\n",
       "      <td>CBlock</td>\n",
       "      <td>Gd</td>\n",
       "      <td>TA</td>\n",
       "      <td>Gd</td>\n",
       "      <td>ALQ</td>\n",
       "      <td>978</td>\n",
       "      <td>Unf</td>\n",
       "      <td>0</td>\n",
       "      <td>284</td>\n",
       "      <td>1262</td>\n",
       "      <td>GasA</td>\n",
       "      <td>Ex</td>\n",
       "      <td>Y</td>\n",
       "      <td>SBrkr</td>\n",
       "      <td>1262</td>\n",
       "      <td>0</td>\n",
       "      <td>0</td>\n",
       "      <td>1262</td>\n",
       "      <td>0</td>\n",
       "      <td>1</td>\n",
       "      <td>2</td>\n",
       "      <td>0</td>\n",
       "      <td>3</td>\n",
       "      <td>1</td>\n",
       "      <td>TA</td>\n",
       "      <td>6</td>\n",
       "      <td>Typ</td>\n",
       "      <td>1</td>\n",
       "      <td>TA</td>\n",
       "      <td>Attchd</td>\n",
       "      <td>1976.0</td>\n",
       "      <td>RFn</td>\n",
       "      <td>2</td>\n",
       "      <td>460</td>\n",
       "      <td>TA</td>\n",
       "      <td>TA</td>\n",
       "      <td>Y</td>\n",
       "      <td>298</td>\n",
       "      <td>0</td>\n",
       "      <td>0</td>\n",
       "      <td>0</td>\n",
       "      <td>0</td>\n",
       "      <td>0</td>\n",
       "      <td>NaN</td>\n",
       "      <td>NaN</td>\n",
       "      <td>NaN</td>\n",
       "      <td>0</td>\n",
       "      <td>5</td>\n",
       "      <td>2007</td>\n",
       "      <td>WD</td>\n",
       "      <td>Normal</td>\n",
       "    </tr>\n",
       "    <tr>\n",
       "      <th>2</th>\n",
       "      <td>60</td>\n",
       "      <td>RL</td>\n",
       "      <td>68.0</td>\n",
       "      <td>11250</td>\n",
       "      <td>Pave</td>\n",
       "      <td>NaN</td>\n",
       "      <td>IR1</td>\n",
       "      <td>Lvl</td>\n",
       "      <td>AllPub</td>\n",
       "      <td>Inside</td>\n",
       "      <td>Gtl</td>\n",
       "      <td>CollgCr</td>\n",
       "      <td>Norm</td>\n",
       "      <td>Norm</td>\n",
       "      <td>1Fam</td>\n",
       "      <td>2Story</td>\n",
       "      <td>7</td>\n",
       "      <td>5</td>\n",
       "      <td>2001</td>\n",
       "      <td>2002</td>\n",
       "      <td>Gable</td>\n",
       "      <td>CompShg</td>\n",
       "      <td>VinylSd</td>\n",
       "      <td>VinylSd</td>\n",
       "      <td>BrkFace</td>\n",
       "      <td>162.0</td>\n",
       "      <td>Gd</td>\n",
       "      <td>TA</td>\n",
       "      <td>PConc</td>\n",
       "      <td>Gd</td>\n",
       "      <td>TA</td>\n",
       "      <td>Mn</td>\n",
       "      <td>GLQ</td>\n",
       "      <td>486</td>\n",
       "      <td>Unf</td>\n",
       "      <td>0</td>\n",
       "      <td>434</td>\n",
       "      <td>920</td>\n",
       "      <td>GasA</td>\n",
       "      <td>Ex</td>\n",
       "      <td>Y</td>\n",
       "      <td>SBrkr</td>\n",
       "      <td>920</td>\n",
       "      <td>866</td>\n",
       "      <td>0</td>\n",
       "      <td>1786</td>\n",
       "      <td>1</td>\n",
       "      <td>0</td>\n",
       "      <td>2</td>\n",
       "      <td>1</td>\n",
       "      <td>3</td>\n",
       "      <td>1</td>\n",
       "      <td>Gd</td>\n",
       "      <td>6</td>\n",
       "      <td>Typ</td>\n",
       "      <td>1</td>\n",
       "      <td>TA</td>\n",
       "      <td>Attchd</td>\n",
       "      <td>2001.0</td>\n",
       "      <td>RFn</td>\n",
       "      <td>2</td>\n",
       "      <td>608</td>\n",
       "      <td>TA</td>\n",
       "      <td>TA</td>\n",
       "      <td>Y</td>\n",
       "      <td>0</td>\n",
       "      <td>42</td>\n",
       "      <td>0</td>\n",
       "      <td>0</td>\n",
       "      <td>0</td>\n",
       "      <td>0</td>\n",
       "      <td>NaN</td>\n",
       "      <td>NaN</td>\n",
       "      <td>NaN</td>\n",
       "      <td>0</td>\n",
       "      <td>9</td>\n",
       "      <td>2008</td>\n",
       "      <td>WD</td>\n",
       "      <td>Normal</td>\n",
       "    </tr>\n",
       "    <tr>\n",
       "      <th>3</th>\n",
       "      <td>70</td>\n",
       "      <td>RL</td>\n",
       "      <td>60.0</td>\n",
       "      <td>9550</td>\n",
       "      <td>Pave</td>\n",
       "      <td>NaN</td>\n",
       "      <td>IR1</td>\n",
       "      <td>Lvl</td>\n",
       "      <td>AllPub</td>\n",
       "      <td>Corner</td>\n",
       "      <td>Gtl</td>\n",
       "      <td>Crawfor</td>\n",
       "      <td>Norm</td>\n",
       "      <td>Norm</td>\n",
       "      <td>1Fam</td>\n",
       "      <td>2Story</td>\n",
       "      <td>7</td>\n",
       "      <td>5</td>\n",
       "      <td>1915</td>\n",
       "      <td>1970</td>\n",
       "      <td>Gable</td>\n",
       "      <td>CompShg</td>\n",
       "      <td>Wd Sdng</td>\n",
       "      <td>Wd Shng</td>\n",
       "      <td>None</td>\n",
       "      <td>0.0</td>\n",
       "      <td>TA</td>\n",
       "      <td>TA</td>\n",
       "      <td>BrkTil</td>\n",
       "      <td>TA</td>\n",
       "      <td>Gd</td>\n",
       "      <td>No</td>\n",
       "      <td>ALQ</td>\n",
       "      <td>216</td>\n",
       "      <td>Unf</td>\n",
       "      <td>0</td>\n",
       "      <td>540</td>\n",
       "      <td>756</td>\n",
       "      <td>GasA</td>\n",
       "      <td>Gd</td>\n",
       "      <td>Y</td>\n",
       "      <td>SBrkr</td>\n",
       "      <td>961</td>\n",
       "      <td>756</td>\n",
       "      <td>0</td>\n",
       "      <td>1717</td>\n",
       "      <td>1</td>\n",
       "      <td>0</td>\n",
       "      <td>1</td>\n",
       "      <td>0</td>\n",
       "      <td>3</td>\n",
       "      <td>1</td>\n",
       "      <td>Gd</td>\n",
       "      <td>7</td>\n",
       "      <td>Typ</td>\n",
       "      <td>1</td>\n",
       "      <td>Gd</td>\n",
       "      <td>Detchd</td>\n",
       "      <td>1998.0</td>\n",
       "      <td>Unf</td>\n",
       "      <td>3</td>\n",
       "      <td>642</td>\n",
       "      <td>TA</td>\n",
       "      <td>TA</td>\n",
       "      <td>Y</td>\n",
       "      <td>0</td>\n",
       "      <td>35</td>\n",
       "      <td>272</td>\n",
       "      <td>0</td>\n",
       "      <td>0</td>\n",
       "      <td>0</td>\n",
       "      <td>NaN</td>\n",
       "      <td>NaN</td>\n",
       "      <td>NaN</td>\n",
       "      <td>0</td>\n",
       "      <td>2</td>\n",
       "      <td>2006</td>\n",
       "      <td>WD</td>\n",
       "      <td>Abnorml</td>\n",
       "    </tr>\n",
       "    <tr>\n",
       "      <th>4</th>\n",
       "      <td>60</td>\n",
       "      <td>RL</td>\n",
       "      <td>84.0</td>\n",
       "      <td>14260</td>\n",
       "      <td>Pave</td>\n",
       "      <td>NaN</td>\n",
       "      <td>IR1</td>\n",
       "      <td>Lvl</td>\n",
       "      <td>AllPub</td>\n",
       "      <td>FR2</td>\n",
       "      <td>Gtl</td>\n",
       "      <td>NoRidge</td>\n",
       "      <td>Norm</td>\n",
       "      <td>Norm</td>\n",
       "      <td>1Fam</td>\n",
       "      <td>2Story</td>\n",
       "      <td>8</td>\n",
       "      <td>5</td>\n",
       "      <td>2000</td>\n",
       "      <td>2000</td>\n",
       "      <td>Gable</td>\n",
       "      <td>CompShg</td>\n",
       "      <td>VinylSd</td>\n",
       "      <td>VinylSd</td>\n",
       "      <td>BrkFace</td>\n",
       "      <td>350.0</td>\n",
       "      <td>Gd</td>\n",
       "      <td>TA</td>\n",
       "      <td>PConc</td>\n",
       "      <td>Gd</td>\n",
       "      <td>TA</td>\n",
       "      <td>Av</td>\n",
       "      <td>GLQ</td>\n",
       "      <td>655</td>\n",
       "      <td>Unf</td>\n",
       "      <td>0</td>\n",
       "      <td>490</td>\n",
       "      <td>1145</td>\n",
       "      <td>GasA</td>\n",
       "      <td>Ex</td>\n",
       "      <td>Y</td>\n",
       "      <td>SBrkr</td>\n",
       "      <td>1145</td>\n",
       "      <td>1053</td>\n",
       "      <td>0</td>\n",
       "      <td>2198</td>\n",
       "      <td>1</td>\n",
       "      <td>0</td>\n",
       "      <td>2</td>\n",
       "      <td>1</td>\n",
       "      <td>4</td>\n",
       "      <td>1</td>\n",
       "      <td>Gd</td>\n",
       "      <td>9</td>\n",
       "      <td>Typ</td>\n",
       "      <td>1</td>\n",
       "      <td>TA</td>\n",
       "      <td>Attchd</td>\n",
       "      <td>2000.0</td>\n",
       "      <td>RFn</td>\n",
       "      <td>3</td>\n",
       "      <td>836</td>\n",
       "      <td>TA</td>\n",
       "      <td>TA</td>\n",
       "      <td>Y</td>\n",
       "      <td>192</td>\n",
       "      <td>84</td>\n",
       "      <td>0</td>\n",
       "      <td>0</td>\n",
       "      <td>0</td>\n",
       "      <td>0</td>\n",
       "      <td>NaN</td>\n",
       "      <td>NaN</td>\n",
       "      <td>NaN</td>\n",
       "      <td>0</td>\n",
       "      <td>12</td>\n",
       "      <td>2008</td>\n",
       "      <td>WD</td>\n",
       "      <td>Normal</td>\n",
       "    </tr>\n",
       "    <tr>\n",
       "      <th>...</th>\n",
       "      <td>...</td>\n",
       "      <td>...</td>\n",
       "      <td>...</td>\n",
       "      <td>...</td>\n",
       "      <td>...</td>\n",
       "      <td>...</td>\n",
       "      <td>...</td>\n",
       "      <td>...</td>\n",
       "      <td>...</td>\n",
       "      <td>...</td>\n",
       "      <td>...</td>\n",
       "      <td>...</td>\n",
       "      <td>...</td>\n",
       "      <td>...</td>\n",
       "      <td>...</td>\n",
       "      <td>...</td>\n",
       "      <td>...</td>\n",
       "      <td>...</td>\n",
       "      <td>...</td>\n",
       "      <td>...</td>\n",
       "      <td>...</td>\n",
       "      <td>...</td>\n",
       "      <td>...</td>\n",
       "      <td>...</td>\n",
       "      <td>...</td>\n",
       "      <td>...</td>\n",
       "      <td>...</td>\n",
       "      <td>...</td>\n",
       "      <td>...</td>\n",
       "      <td>...</td>\n",
       "      <td>...</td>\n",
       "      <td>...</td>\n",
       "      <td>...</td>\n",
       "      <td>...</td>\n",
       "      <td>...</td>\n",
       "      <td>...</td>\n",
       "      <td>...</td>\n",
       "      <td>...</td>\n",
       "      <td>...</td>\n",
       "      <td>...</td>\n",
       "      <td>...</td>\n",
       "      <td>...</td>\n",
       "      <td>...</td>\n",
       "      <td>...</td>\n",
       "      <td>...</td>\n",
       "      <td>...</td>\n",
       "      <td>...</td>\n",
       "      <td>...</td>\n",
       "      <td>...</td>\n",
       "      <td>...</td>\n",
       "      <td>...</td>\n",
       "      <td>...</td>\n",
       "      <td>...</td>\n",
       "      <td>...</td>\n",
       "      <td>...</td>\n",
       "      <td>...</td>\n",
       "      <td>...</td>\n",
       "      <td>...</td>\n",
       "      <td>...</td>\n",
       "      <td>...</td>\n",
       "      <td>...</td>\n",
       "      <td>...</td>\n",
       "      <td>...</td>\n",
       "      <td>...</td>\n",
       "      <td>...</td>\n",
       "      <td>...</td>\n",
       "      <td>...</td>\n",
       "      <td>...</td>\n",
       "      <td>...</td>\n",
       "      <td>...</td>\n",
       "      <td>...</td>\n",
       "      <td>...</td>\n",
       "      <td>...</td>\n",
       "      <td>...</td>\n",
       "      <td>...</td>\n",
       "      <td>...</td>\n",
       "      <td>...</td>\n",
       "      <td>...</td>\n",
       "      <td>...</td>\n",
       "    </tr>\n",
       "    <tr>\n",
       "      <th>1455</th>\n",
       "      <td>60</td>\n",
       "      <td>RL</td>\n",
       "      <td>62.0</td>\n",
       "      <td>7917</td>\n",
       "      <td>Pave</td>\n",
       "      <td>NaN</td>\n",
       "      <td>Reg</td>\n",
       "      <td>Lvl</td>\n",
       "      <td>AllPub</td>\n",
       "      <td>Inside</td>\n",
       "      <td>Gtl</td>\n",
       "      <td>Gilbert</td>\n",
       "      <td>Norm</td>\n",
       "      <td>Norm</td>\n",
       "      <td>1Fam</td>\n",
       "      <td>2Story</td>\n",
       "      <td>6</td>\n",
       "      <td>5</td>\n",
       "      <td>1999</td>\n",
       "      <td>2000</td>\n",
       "      <td>Gable</td>\n",
       "      <td>CompShg</td>\n",
       "      <td>VinylSd</td>\n",
       "      <td>VinylSd</td>\n",
       "      <td>None</td>\n",
       "      <td>0.0</td>\n",
       "      <td>TA</td>\n",
       "      <td>TA</td>\n",
       "      <td>PConc</td>\n",
       "      <td>Gd</td>\n",
       "      <td>TA</td>\n",
       "      <td>No</td>\n",
       "      <td>Unf</td>\n",
       "      <td>0</td>\n",
       "      <td>Unf</td>\n",
       "      <td>0</td>\n",
       "      <td>953</td>\n",
       "      <td>953</td>\n",
       "      <td>GasA</td>\n",
       "      <td>Ex</td>\n",
       "      <td>Y</td>\n",
       "      <td>SBrkr</td>\n",
       "      <td>953</td>\n",
       "      <td>694</td>\n",
       "      <td>0</td>\n",
       "      <td>1647</td>\n",
       "      <td>0</td>\n",
       "      <td>0</td>\n",
       "      <td>2</td>\n",
       "      <td>1</td>\n",
       "      <td>3</td>\n",
       "      <td>1</td>\n",
       "      <td>TA</td>\n",
       "      <td>7</td>\n",
       "      <td>Typ</td>\n",
       "      <td>1</td>\n",
       "      <td>TA</td>\n",
       "      <td>Attchd</td>\n",
       "      <td>1999.0</td>\n",
       "      <td>RFn</td>\n",
       "      <td>2</td>\n",
       "      <td>460</td>\n",
       "      <td>TA</td>\n",
       "      <td>TA</td>\n",
       "      <td>Y</td>\n",
       "      <td>0</td>\n",
       "      <td>40</td>\n",
       "      <td>0</td>\n",
       "      <td>0</td>\n",
       "      <td>0</td>\n",
       "      <td>0</td>\n",
       "      <td>NaN</td>\n",
       "      <td>NaN</td>\n",
       "      <td>NaN</td>\n",
       "      <td>0</td>\n",
       "      <td>8</td>\n",
       "      <td>2007</td>\n",
       "      <td>WD</td>\n",
       "      <td>Normal</td>\n",
       "    </tr>\n",
       "    <tr>\n",
       "      <th>1456</th>\n",
       "      <td>20</td>\n",
       "      <td>RL</td>\n",
       "      <td>85.0</td>\n",
       "      <td>13175</td>\n",
       "      <td>Pave</td>\n",
       "      <td>NaN</td>\n",
       "      <td>Reg</td>\n",
       "      <td>Lvl</td>\n",
       "      <td>AllPub</td>\n",
       "      <td>Inside</td>\n",
       "      <td>Gtl</td>\n",
       "      <td>NWAmes</td>\n",
       "      <td>Norm</td>\n",
       "      <td>Norm</td>\n",
       "      <td>1Fam</td>\n",
       "      <td>1Story</td>\n",
       "      <td>6</td>\n",
       "      <td>6</td>\n",
       "      <td>1978</td>\n",
       "      <td>1988</td>\n",
       "      <td>Gable</td>\n",
       "      <td>CompShg</td>\n",
       "      <td>Plywood</td>\n",
       "      <td>Plywood</td>\n",
       "      <td>Stone</td>\n",
       "      <td>119.0</td>\n",
       "      <td>TA</td>\n",
       "      <td>TA</td>\n",
       "      <td>CBlock</td>\n",
       "      <td>Gd</td>\n",
       "      <td>TA</td>\n",
       "      <td>No</td>\n",
       "      <td>ALQ</td>\n",
       "      <td>790</td>\n",
       "      <td>Rec</td>\n",
       "      <td>163</td>\n",
       "      <td>589</td>\n",
       "      <td>1542</td>\n",
       "      <td>GasA</td>\n",
       "      <td>TA</td>\n",
       "      <td>Y</td>\n",
       "      <td>SBrkr</td>\n",
       "      <td>2073</td>\n",
       "      <td>0</td>\n",
       "      <td>0</td>\n",
       "      <td>2073</td>\n",
       "      <td>1</td>\n",
       "      <td>0</td>\n",
       "      <td>2</td>\n",
       "      <td>0</td>\n",
       "      <td>3</td>\n",
       "      <td>1</td>\n",
       "      <td>TA</td>\n",
       "      <td>7</td>\n",
       "      <td>Min1</td>\n",
       "      <td>2</td>\n",
       "      <td>TA</td>\n",
       "      <td>Attchd</td>\n",
       "      <td>1978.0</td>\n",
       "      <td>Unf</td>\n",
       "      <td>2</td>\n",
       "      <td>500</td>\n",
       "      <td>TA</td>\n",
       "      <td>TA</td>\n",
       "      <td>Y</td>\n",
       "      <td>349</td>\n",
       "      <td>0</td>\n",
       "      <td>0</td>\n",
       "      <td>0</td>\n",
       "      <td>0</td>\n",
       "      <td>0</td>\n",
       "      <td>NaN</td>\n",
       "      <td>MnPrv</td>\n",
       "      <td>NaN</td>\n",
       "      <td>0</td>\n",
       "      <td>2</td>\n",
       "      <td>2010</td>\n",
       "      <td>WD</td>\n",
       "      <td>Normal</td>\n",
       "    </tr>\n",
       "    <tr>\n",
       "      <th>1457</th>\n",
       "      <td>70</td>\n",
       "      <td>RL</td>\n",
       "      <td>66.0</td>\n",
       "      <td>9042</td>\n",
       "      <td>Pave</td>\n",
       "      <td>NaN</td>\n",
       "      <td>Reg</td>\n",
       "      <td>Lvl</td>\n",
       "      <td>AllPub</td>\n",
       "      <td>Inside</td>\n",
       "      <td>Gtl</td>\n",
       "      <td>Crawfor</td>\n",
       "      <td>Norm</td>\n",
       "      <td>Norm</td>\n",
       "      <td>1Fam</td>\n",
       "      <td>2Story</td>\n",
       "      <td>7</td>\n",
       "      <td>9</td>\n",
       "      <td>1941</td>\n",
       "      <td>2006</td>\n",
       "      <td>Gable</td>\n",
       "      <td>CompShg</td>\n",
       "      <td>CemntBd</td>\n",
       "      <td>CmentBd</td>\n",
       "      <td>None</td>\n",
       "      <td>0.0</td>\n",
       "      <td>Ex</td>\n",
       "      <td>Gd</td>\n",
       "      <td>Stone</td>\n",
       "      <td>TA</td>\n",
       "      <td>Gd</td>\n",
       "      <td>No</td>\n",
       "      <td>GLQ</td>\n",
       "      <td>275</td>\n",
       "      <td>Unf</td>\n",
       "      <td>0</td>\n",
       "      <td>877</td>\n",
       "      <td>1152</td>\n",
       "      <td>GasA</td>\n",
       "      <td>Ex</td>\n",
       "      <td>Y</td>\n",
       "      <td>SBrkr</td>\n",
       "      <td>1188</td>\n",
       "      <td>1152</td>\n",
       "      <td>0</td>\n",
       "      <td>2340</td>\n",
       "      <td>0</td>\n",
       "      <td>0</td>\n",
       "      <td>2</td>\n",
       "      <td>0</td>\n",
       "      <td>4</td>\n",
       "      <td>1</td>\n",
       "      <td>Gd</td>\n",
       "      <td>9</td>\n",
       "      <td>Typ</td>\n",
       "      <td>2</td>\n",
       "      <td>Gd</td>\n",
       "      <td>Attchd</td>\n",
       "      <td>1941.0</td>\n",
       "      <td>RFn</td>\n",
       "      <td>1</td>\n",
       "      <td>252</td>\n",
       "      <td>TA</td>\n",
       "      <td>TA</td>\n",
       "      <td>Y</td>\n",
       "      <td>0</td>\n",
       "      <td>60</td>\n",
       "      <td>0</td>\n",
       "      <td>0</td>\n",
       "      <td>0</td>\n",
       "      <td>0</td>\n",
       "      <td>NaN</td>\n",
       "      <td>GdPrv</td>\n",
       "      <td>Shed</td>\n",
       "      <td>2500</td>\n",
       "      <td>5</td>\n",
       "      <td>2010</td>\n",
       "      <td>WD</td>\n",
       "      <td>Normal</td>\n",
       "    </tr>\n",
       "    <tr>\n",
       "      <th>1458</th>\n",
       "      <td>20</td>\n",
       "      <td>RL</td>\n",
       "      <td>68.0</td>\n",
       "      <td>9717</td>\n",
       "      <td>Pave</td>\n",
       "      <td>NaN</td>\n",
       "      <td>Reg</td>\n",
       "      <td>Lvl</td>\n",
       "      <td>AllPub</td>\n",
       "      <td>Inside</td>\n",
       "      <td>Gtl</td>\n",
       "      <td>NAmes</td>\n",
       "      <td>Norm</td>\n",
       "      <td>Norm</td>\n",
       "      <td>1Fam</td>\n",
       "      <td>1Story</td>\n",
       "      <td>5</td>\n",
       "      <td>6</td>\n",
       "      <td>1950</td>\n",
       "      <td>1996</td>\n",
       "      <td>Hip</td>\n",
       "      <td>CompShg</td>\n",
       "      <td>MetalSd</td>\n",
       "      <td>MetalSd</td>\n",
       "      <td>None</td>\n",
       "      <td>0.0</td>\n",
       "      <td>TA</td>\n",
       "      <td>TA</td>\n",
       "      <td>CBlock</td>\n",
       "      <td>TA</td>\n",
       "      <td>TA</td>\n",
       "      <td>Mn</td>\n",
       "      <td>GLQ</td>\n",
       "      <td>49</td>\n",
       "      <td>Rec</td>\n",
       "      <td>1029</td>\n",
       "      <td>0</td>\n",
       "      <td>1078</td>\n",
       "      <td>GasA</td>\n",
       "      <td>Gd</td>\n",
       "      <td>Y</td>\n",
       "      <td>FuseA</td>\n",
       "      <td>1078</td>\n",
       "      <td>0</td>\n",
       "      <td>0</td>\n",
       "      <td>1078</td>\n",
       "      <td>1</td>\n",
       "      <td>0</td>\n",
       "      <td>1</td>\n",
       "      <td>0</td>\n",
       "      <td>2</td>\n",
       "      <td>1</td>\n",
       "      <td>Gd</td>\n",
       "      <td>5</td>\n",
       "      <td>Typ</td>\n",
       "      <td>0</td>\n",
       "      <td>NaN</td>\n",
       "      <td>Attchd</td>\n",
       "      <td>1950.0</td>\n",
       "      <td>Unf</td>\n",
       "      <td>1</td>\n",
       "      <td>240</td>\n",
       "      <td>TA</td>\n",
       "      <td>TA</td>\n",
       "      <td>Y</td>\n",
       "      <td>366</td>\n",
       "      <td>0</td>\n",
       "      <td>112</td>\n",
       "      <td>0</td>\n",
       "      <td>0</td>\n",
       "      <td>0</td>\n",
       "      <td>NaN</td>\n",
       "      <td>NaN</td>\n",
       "      <td>NaN</td>\n",
       "      <td>0</td>\n",
       "      <td>4</td>\n",
       "      <td>2010</td>\n",
       "      <td>WD</td>\n",
       "      <td>Normal</td>\n",
       "    </tr>\n",
       "    <tr>\n",
       "      <th>1459</th>\n",
       "      <td>20</td>\n",
       "      <td>RL</td>\n",
       "      <td>75.0</td>\n",
       "      <td>9937</td>\n",
       "      <td>Pave</td>\n",
       "      <td>NaN</td>\n",
       "      <td>Reg</td>\n",
       "      <td>Lvl</td>\n",
       "      <td>AllPub</td>\n",
       "      <td>Inside</td>\n",
       "      <td>Gtl</td>\n",
       "      <td>Edwards</td>\n",
       "      <td>Norm</td>\n",
       "      <td>Norm</td>\n",
       "      <td>1Fam</td>\n",
       "      <td>1Story</td>\n",
       "      <td>5</td>\n",
       "      <td>6</td>\n",
       "      <td>1965</td>\n",
       "      <td>1965</td>\n",
       "      <td>Gable</td>\n",
       "      <td>CompShg</td>\n",
       "      <td>HdBoard</td>\n",
       "      <td>HdBoard</td>\n",
       "      <td>None</td>\n",
       "      <td>0.0</td>\n",
       "      <td>Gd</td>\n",
       "      <td>TA</td>\n",
       "      <td>CBlock</td>\n",
       "      <td>TA</td>\n",
       "      <td>TA</td>\n",
       "      <td>No</td>\n",
       "      <td>BLQ</td>\n",
       "      <td>830</td>\n",
       "      <td>LwQ</td>\n",
       "      <td>290</td>\n",
       "      <td>136</td>\n",
       "      <td>1256</td>\n",
       "      <td>GasA</td>\n",
       "      <td>Gd</td>\n",
       "      <td>Y</td>\n",
       "      <td>SBrkr</td>\n",
       "      <td>1256</td>\n",
       "      <td>0</td>\n",
       "      <td>0</td>\n",
       "      <td>1256</td>\n",
       "      <td>1</td>\n",
       "      <td>0</td>\n",
       "      <td>1</td>\n",
       "      <td>1</td>\n",
       "      <td>3</td>\n",
       "      <td>1</td>\n",
       "      <td>TA</td>\n",
       "      <td>6</td>\n",
       "      <td>Typ</td>\n",
       "      <td>0</td>\n",
       "      <td>NaN</td>\n",
       "      <td>Attchd</td>\n",
       "      <td>1965.0</td>\n",
       "      <td>Fin</td>\n",
       "      <td>1</td>\n",
       "      <td>276</td>\n",
       "      <td>TA</td>\n",
       "      <td>TA</td>\n",
       "      <td>Y</td>\n",
       "      <td>736</td>\n",
       "      <td>68</td>\n",
       "      <td>0</td>\n",
       "      <td>0</td>\n",
       "      <td>0</td>\n",
       "      <td>0</td>\n",
       "      <td>NaN</td>\n",
       "      <td>NaN</td>\n",
       "      <td>NaN</td>\n",
       "      <td>0</td>\n",
       "      <td>6</td>\n",
       "      <td>2008</td>\n",
       "      <td>WD</td>\n",
       "      <td>Normal</td>\n",
       "    </tr>\n",
       "  </tbody>\n",
       "</table>\n",
       "<p>1460 rows × 79 columns</p>\n",
       "</div>"
      ],
      "text/plain": [
       "      MSSubClass MSZoning  LotFrontage  LotArea Street Alley LotShape  \\\n",
       "0             60       RL         65.0     8450   Pave   NaN      Reg   \n",
       "1             20       RL         80.0     9600   Pave   NaN      Reg   \n",
       "2             60       RL         68.0    11250   Pave   NaN      IR1   \n",
       "3             70       RL         60.0     9550   Pave   NaN      IR1   \n",
       "4             60       RL         84.0    14260   Pave   NaN      IR1   \n",
       "...          ...      ...          ...      ...    ...   ...      ...   \n",
       "1455          60       RL         62.0     7917   Pave   NaN      Reg   \n",
       "1456          20       RL         85.0    13175   Pave   NaN      Reg   \n",
       "1457          70       RL         66.0     9042   Pave   NaN      Reg   \n",
       "1458          20       RL         68.0     9717   Pave   NaN      Reg   \n",
       "1459          20       RL         75.0     9937   Pave   NaN      Reg   \n",
       "\n",
       "     LandContour Utilities LotConfig LandSlope Neighborhood Condition1  \\\n",
       "0            Lvl    AllPub    Inside       Gtl      CollgCr       Norm   \n",
       "1            Lvl    AllPub       FR2       Gtl      Veenker      Feedr   \n",
       "2            Lvl    AllPub    Inside       Gtl      CollgCr       Norm   \n",
       "3            Lvl    AllPub    Corner       Gtl      Crawfor       Norm   \n",
       "4            Lvl    AllPub       FR2       Gtl      NoRidge       Norm   \n",
       "...          ...       ...       ...       ...          ...        ...   \n",
       "1455         Lvl    AllPub    Inside       Gtl      Gilbert       Norm   \n",
       "1456         Lvl    AllPub    Inside       Gtl       NWAmes       Norm   \n",
       "1457         Lvl    AllPub    Inside       Gtl      Crawfor       Norm   \n",
       "1458         Lvl    AllPub    Inside       Gtl        NAmes       Norm   \n",
       "1459         Lvl    AllPub    Inside       Gtl      Edwards       Norm   \n",
       "\n",
       "     Condition2 BldgType HouseStyle  OverallQual  OverallCond  YearBuilt  \\\n",
       "0          Norm     1Fam     2Story            7            5       2003   \n",
       "1          Norm     1Fam     1Story            6            8       1976   \n",
       "2          Norm     1Fam     2Story            7            5       2001   \n",
       "3          Norm     1Fam     2Story            7            5       1915   \n",
       "4          Norm     1Fam     2Story            8            5       2000   \n",
       "...         ...      ...        ...          ...          ...        ...   \n",
       "1455       Norm     1Fam     2Story            6            5       1999   \n",
       "1456       Norm     1Fam     1Story            6            6       1978   \n",
       "1457       Norm     1Fam     2Story            7            9       1941   \n",
       "1458       Norm     1Fam     1Story            5            6       1950   \n",
       "1459       Norm     1Fam     1Story            5            6       1965   \n",
       "\n",
       "      YearRemodAdd RoofStyle RoofMatl Exterior1st Exterior2nd MasVnrType  \\\n",
       "0             2003     Gable  CompShg     VinylSd     VinylSd    BrkFace   \n",
       "1             1976     Gable  CompShg     MetalSd     MetalSd       None   \n",
       "2             2002     Gable  CompShg     VinylSd     VinylSd    BrkFace   \n",
       "3             1970     Gable  CompShg     Wd Sdng     Wd Shng       None   \n",
       "4             2000     Gable  CompShg     VinylSd     VinylSd    BrkFace   \n",
       "...            ...       ...      ...         ...         ...        ...   \n",
       "1455          2000     Gable  CompShg     VinylSd     VinylSd       None   \n",
       "1456          1988     Gable  CompShg     Plywood     Plywood      Stone   \n",
       "1457          2006     Gable  CompShg     CemntBd     CmentBd       None   \n",
       "1458          1996       Hip  CompShg     MetalSd     MetalSd       None   \n",
       "1459          1965     Gable  CompShg     HdBoard     HdBoard       None   \n",
       "\n",
       "      MasVnrArea ExterQual ExterCond Foundation BsmtQual BsmtCond  \\\n",
       "0          196.0        Gd        TA      PConc       Gd       TA   \n",
       "1            0.0        TA        TA     CBlock       Gd       TA   \n",
       "2          162.0        Gd        TA      PConc       Gd       TA   \n",
       "3            0.0        TA        TA     BrkTil       TA       Gd   \n",
       "4          350.0        Gd        TA      PConc       Gd       TA   \n",
       "...          ...       ...       ...        ...      ...      ...   \n",
       "1455         0.0        TA        TA      PConc       Gd       TA   \n",
       "1456       119.0        TA        TA     CBlock       Gd       TA   \n",
       "1457         0.0        Ex        Gd      Stone       TA       Gd   \n",
       "1458         0.0        TA        TA     CBlock       TA       TA   \n",
       "1459         0.0        Gd        TA     CBlock       TA       TA   \n",
       "\n",
       "     BsmtExposure BsmtFinType1  BsmtFinSF1 BsmtFinType2  BsmtFinSF2  \\\n",
       "0              No          GLQ         706          Unf           0   \n",
       "1              Gd          ALQ         978          Unf           0   \n",
       "2              Mn          GLQ         486          Unf           0   \n",
       "3              No          ALQ         216          Unf           0   \n",
       "4              Av          GLQ         655          Unf           0   \n",
       "...           ...          ...         ...          ...         ...   \n",
       "1455           No          Unf           0          Unf           0   \n",
       "1456           No          ALQ         790          Rec         163   \n",
       "1457           No          GLQ         275          Unf           0   \n",
       "1458           Mn          GLQ          49          Rec        1029   \n",
       "1459           No          BLQ         830          LwQ         290   \n",
       "\n",
       "      BsmtUnfSF  TotalBsmtSF Heating HeatingQC CentralAir Electrical  \\\n",
       "0           150          856    GasA        Ex          Y      SBrkr   \n",
       "1           284         1262    GasA        Ex          Y      SBrkr   \n",
       "2           434          920    GasA        Ex          Y      SBrkr   \n",
       "3           540          756    GasA        Gd          Y      SBrkr   \n",
       "4           490         1145    GasA        Ex          Y      SBrkr   \n",
       "...         ...          ...     ...       ...        ...        ...   \n",
       "1455        953          953    GasA        Ex          Y      SBrkr   \n",
       "1456        589         1542    GasA        TA          Y      SBrkr   \n",
       "1457        877         1152    GasA        Ex          Y      SBrkr   \n",
       "1458          0         1078    GasA        Gd          Y      FuseA   \n",
       "1459        136         1256    GasA        Gd          Y      SBrkr   \n",
       "\n",
       "      1stFlrSF  2ndFlrSF  LowQualFinSF  GrLivArea  BsmtFullBath  BsmtHalfBath  \\\n",
       "0          856       854             0       1710             1             0   \n",
       "1         1262         0             0       1262             0             1   \n",
       "2          920       866             0       1786             1             0   \n",
       "3          961       756             0       1717             1             0   \n",
       "4         1145      1053             0       2198             1             0   \n",
       "...        ...       ...           ...        ...           ...           ...   \n",
       "1455       953       694             0       1647             0             0   \n",
       "1456      2073         0             0       2073             1             0   \n",
       "1457      1188      1152             0       2340             0             0   \n",
       "1458      1078         0             0       1078             1             0   \n",
       "1459      1256         0             0       1256             1             0   \n",
       "\n",
       "      FullBath  HalfBath  BedroomAbvGr  KitchenAbvGr KitchenQual  \\\n",
       "0            2         1             3             1          Gd   \n",
       "1            2         0             3             1          TA   \n",
       "2            2         1             3             1          Gd   \n",
       "3            1         0             3             1          Gd   \n",
       "4            2         1             4             1          Gd   \n",
       "...        ...       ...           ...           ...         ...   \n",
       "1455         2         1             3             1          TA   \n",
       "1456         2         0             3             1          TA   \n",
       "1457         2         0             4             1          Gd   \n",
       "1458         1         0             2             1          Gd   \n",
       "1459         1         1             3             1          TA   \n",
       "\n",
       "      TotRmsAbvGrd Functional  Fireplaces FireplaceQu GarageType  GarageYrBlt  \\\n",
       "0                8        Typ           0         NaN     Attchd       2003.0   \n",
       "1                6        Typ           1          TA     Attchd       1976.0   \n",
       "2                6        Typ           1          TA     Attchd       2001.0   \n",
       "3                7        Typ           1          Gd     Detchd       1998.0   \n",
       "4                9        Typ           1          TA     Attchd       2000.0   \n",
       "...            ...        ...         ...         ...        ...          ...   \n",
       "1455             7        Typ           1          TA     Attchd       1999.0   \n",
       "1456             7       Min1           2          TA     Attchd       1978.0   \n",
       "1457             9        Typ           2          Gd     Attchd       1941.0   \n",
       "1458             5        Typ           0         NaN     Attchd       1950.0   \n",
       "1459             6        Typ           0         NaN     Attchd       1965.0   \n",
       "\n",
       "     GarageFinish  GarageCars  GarageArea GarageQual GarageCond PavedDrive  \\\n",
       "0             RFn           2         548         TA         TA          Y   \n",
       "1             RFn           2         460         TA         TA          Y   \n",
       "2             RFn           2         608         TA         TA          Y   \n",
       "3             Unf           3         642         TA         TA          Y   \n",
       "4             RFn           3         836         TA         TA          Y   \n",
       "...           ...         ...         ...        ...        ...        ...   \n",
       "1455          RFn           2         460         TA         TA          Y   \n",
       "1456          Unf           2         500         TA         TA          Y   \n",
       "1457          RFn           1         252         TA         TA          Y   \n",
       "1458          Unf           1         240         TA         TA          Y   \n",
       "1459          Fin           1         276         TA         TA          Y   \n",
       "\n",
       "      WoodDeckSF  OpenPorchSF  EnclosedPorch  3SsnPorch  ScreenPorch  \\\n",
       "0              0           61              0          0            0   \n",
       "1            298            0              0          0            0   \n",
       "2              0           42              0          0            0   \n",
       "3              0           35            272          0            0   \n",
       "4            192           84              0          0            0   \n",
       "...          ...          ...            ...        ...          ...   \n",
       "1455           0           40              0          0            0   \n",
       "1456         349            0              0          0            0   \n",
       "1457           0           60              0          0            0   \n",
       "1458         366            0            112          0            0   \n",
       "1459         736           68              0          0            0   \n",
       "\n",
       "      PoolArea PoolQC  Fence MiscFeature  MiscVal  MoSold  YrSold SaleType  \\\n",
       "0            0    NaN    NaN         NaN        0       2    2008       WD   \n",
       "1            0    NaN    NaN         NaN        0       5    2007       WD   \n",
       "2            0    NaN    NaN         NaN        0       9    2008       WD   \n",
       "3            0    NaN    NaN         NaN        0       2    2006       WD   \n",
       "4            0    NaN    NaN         NaN        0      12    2008       WD   \n",
       "...        ...    ...    ...         ...      ...     ...     ...      ...   \n",
       "1455         0    NaN    NaN         NaN        0       8    2007       WD   \n",
       "1456         0    NaN  MnPrv         NaN        0       2    2010       WD   \n",
       "1457         0    NaN  GdPrv        Shed     2500       5    2010       WD   \n",
       "1458         0    NaN    NaN         NaN        0       4    2010       WD   \n",
       "1459         0    NaN    NaN         NaN        0       6    2008       WD   \n",
       "\n",
       "     SaleCondition  \n",
       "0           Normal  \n",
       "1           Normal  \n",
       "2           Normal  \n",
       "3          Abnorml  \n",
       "4           Normal  \n",
       "...            ...  \n",
       "1455        Normal  \n",
       "1456        Normal  \n",
       "1457        Normal  \n",
       "1458        Normal  \n",
       "1459        Normal  \n",
       "\n",
       "[1460 rows x 79 columns]"
      ]
     },
     "execution_count": 65,
     "metadata": {},
     "output_type": "execute_result"
    }
   ],
   "source": [
    "inputs_df"
   ]
  },
  {
   "cell_type": "code",
   "execution_count": 66,
   "metadata": {},
   "outputs": [
    {
     "data": {
      "text/plain": [
       "0       208500\n",
       "1       181500\n",
       "2       223500\n",
       "3       140000\n",
       "4       250000\n",
       "         ...  \n",
       "1455    175000\n",
       "1456    210000\n",
       "1457    266500\n",
       "1458    142125\n",
       "1459    147500\n",
       "Name: SalePrice, Length: 1460, dtype: int64"
      ]
     },
     "execution_count": 66,
     "metadata": {},
     "output_type": "execute_result"
    }
   ],
   "source": [
    "targets"
   ]
  },
  {
   "cell_type": "markdown",
   "metadata": {},
   "source": [
    "### Identify Numeric and Categorical Data\n",
    "\n",
    "The next step in data preparation is to identify numeric and categorical columns. We can do this by looking at the data type of each column."
   ]
  },
  {
   "cell_type": "code",
   "execution_count": 67,
   "metadata": {},
   "outputs": [
    {
     "name": "stdout",
     "output_type": "stream",
     "text": [
      "<class 'pandas.core.frame.DataFrame'>\n",
      "RangeIndex: 1460 entries, 0 to 1459\n",
      "Data columns (total 81 columns):\n",
      " #   Column         Non-Null Count  Dtype  \n",
      "---  ------         --------------  -----  \n",
      " 0   Id             1460 non-null   int64  \n",
      " 1   MSSubClass     1460 non-null   int64  \n",
      " 2   MSZoning       1460 non-null   object \n",
      " 3   LotFrontage    1201 non-null   float64\n",
      " 4   LotArea        1460 non-null   int64  \n",
      " 5   Street         1460 non-null   object \n",
      " 6   Alley          91 non-null     object \n",
      " 7   LotShape       1460 non-null   object \n",
      " 8   LandContour    1460 non-null   object \n",
      " 9   Utilities      1460 non-null   object \n",
      " 10  LotConfig      1460 non-null   object \n",
      " 11  LandSlope      1460 non-null   object \n",
      " 12  Neighborhood   1460 non-null   object \n",
      " 13  Condition1     1460 non-null   object \n",
      " 14  Condition2     1460 non-null   object \n",
      " 15  BldgType       1460 non-null   object \n",
      " 16  HouseStyle     1460 non-null   object \n",
      " 17  OverallQual    1460 non-null   int64  \n",
      " 18  OverallCond    1460 non-null   int64  \n",
      " 19  YearBuilt      1460 non-null   int64  \n",
      " 20  YearRemodAdd   1460 non-null   int64  \n",
      " 21  RoofStyle      1460 non-null   object \n",
      " 22  RoofMatl       1460 non-null   object \n",
      " 23  Exterior1st    1460 non-null   object \n",
      " 24  Exterior2nd    1460 non-null   object \n",
      " 25  MasVnrType     1452 non-null   object \n",
      " 26  MasVnrArea     1452 non-null   float64\n",
      " 27  ExterQual      1460 non-null   object \n",
      " 28  ExterCond      1460 non-null   object \n",
      " 29  Foundation     1460 non-null   object \n",
      " 30  BsmtQual       1423 non-null   object \n",
      " 31  BsmtCond       1423 non-null   object \n",
      " 32  BsmtExposure   1422 non-null   object \n",
      " 33  BsmtFinType1   1423 non-null   object \n",
      " 34  BsmtFinSF1     1460 non-null   int64  \n",
      " 35  BsmtFinType2   1422 non-null   object \n",
      " 36  BsmtFinSF2     1460 non-null   int64  \n",
      " 37  BsmtUnfSF      1460 non-null   int64  \n",
      " 38  TotalBsmtSF    1460 non-null   int64  \n",
      " 39  Heating        1460 non-null   object \n",
      " 40  HeatingQC      1460 non-null   object \n",
      " 41  CentralAir     1460 non-null   object \n",
      " 42  Electrical     1459 non-null   object \n",
      " 43  1stFlrSF       1460 non-null   int64  \n",
      " 44  2ndFlrSF       1460 non-null   int64  \n",
      " 45  LowQualFinSF   1460 non-null   int64  \n",
      " 46  GrLivArea      1460 non-null   int64  \n",
      " 47  BsmtFullBath   1460 non-null   int64  \n",
      " 48  BsmtHalfBath   1460 non-null   int64  \n",
      " 49  FullBath       1460 non-null   int64  \n",
      " 50  HalfBath       1460 non-null   int64  \n",
      " 51  BedroomAbvGr   1460 non-null   int64  \n",
      " 52  KitchenAbvGr   1460 non-null   int64  \n",
      " 53  KitchenQual    1460 non-null   object \n",
      " 54  TotRmsAbvGrd   1460 non-null   int64  \n",
      " 55  Functional     1460 non-null   object \n",
      " 56  Fireplaces     1460 non-null   int64  \n",
      " 57  FireplaceQu    770 non-null    object \n",
      " 58  GarageType     1379 non-null   object \n",
      " 59  GarageYrBlt    1379 non-null   float64\n",
      " 60  GarageFinish   1379 non-null   object \n",
      " 61  GarageCars     1460 non-null   int64  \n",
      " 62  GarageArea     1460 non-null   int64  \n",
      " 63  GarageQual     1379 non-null   object \n",
      " 64  GarageCond     1379 non-null   object \n",
      " 65  PavedDrive     1460 non-null   object \n",
      " 66  WoodDeckSF     1460 non-null   int64  \n",
      " 67  OpenPorchSF    1460 non-null   int64  \n",
      " 68  EnclosedPorch  1460 non-null   int64  \n",
      " 69  3SsnPorch      1460 non-null   int64  \n",
      " 70  ScreenPorch    1460 non-null   int64  \n",
      " 71  PoolArea       1460 non-null   int64  \n",
      " 72  PoolQC         7 non-null      object \n",
      " 73  Fence          281 non-null    object \n",
      " 74  MiscFeature    54 non-null     object \n",
      " 75  MiscVal        1460 non-null   int64  \n",
      " 76  MoSold         1460 non-null   int64  \n",
      " 77  YrSold         1460 non-null   int64  \n",
      " 78  SaleType       1460 non-null   object \n",
      " 79  SaleCondition  1460 non-null   object \n",
      " 80  SalePrice      1460 non-null   int64  \n",
      "dtypes: float64(3), int64(35), object(43)\n",
      "memory usage: 924.0+ KB\n"
     ]
    }
   ],
   "source": [
    "prices_df.info()"
   ]
  },
  {
   "cell_type": "markdown",
   "metadata": {},
   "source": [
    "> **QUESTION 4**: Crate two lists `numeric_cols` and `categorical_cols` containing names of numeric and categorical input columns within the dataframe respectively. Numeric columns have data types `int64` and `float64`, whereas categorical columns have the data type `object`.\r\n",
    " "
   ]
  },
  {
   "cell_type": "code",
   "execution_count": 68,
   "metadata": {},
   "outputs": [],
   "source": [
    "import numpy as np"
   ]
  },
  {
   "cell_type": "code",
   "execution_count": 69,
   "metadata": {},
   "outputs": [],
   "source": [
    "numeric_cols = inputs_df.select_dtypes(include=['int64', 'float64']).columns.tolist()"
   ]
  },
  {
   "cell_type": "code",
   "execution_count": 70,
   "metadata": {},
   "outputs": [],
   "source": [
    "categorical_cols = inputs_df.select_dtypes(include=\"object\").columns.tolist()"
   ]
  },
  {
   "cell_type": "code",
   "execution_count": 71,
   "metadata": {},
   "outputs": [
    {
     "name": "stdout",
     "output_type": "stream",
     "text": [
      "['MSSubClass', 'LotFrontage', 'LotArea', 'OverallQual', 'OverallCond', 'YearBuilt', 'YearRemodAdd', 'MasVnrArea', 'BsmtFinSF1', 'BsmtFinSF2', 'BsmtUnfSF', 'TotalBsmtSF', '1stFlrSF', '2ndFlrSF', 'LowQualFinSF', 'GrLivArea', 'BsmtFullBath', 'BsmtHalfBath', 'FullBath', 'HalfBath', 'BedroomAbvGr', 'KitchenAbvGr', 'TotRmsAbvGrd', 'Fireplaces', 'GarageYrBlt', 'GarageCars', 'GarageArea', 'WoodDeckSF', 'OpenPorchSF', 'EnclosedPorch', '3SsnPorch', 'ScreenPorch', 'PoolArea', 'MiscVal', 'MoSold', 'YrSold']\n"
     ]
    }
   ],
   "source": [
    "print(list(numeric_cols))"
   ]
  },
  {
   "cell_type": "code",
   "execution_count": 72,
   "metadata": {},
   "outputs": [
    {
     "name": "stdout",
     "output_type": "stream",
     "text": [
      "['MSZoning', 'Street', 'Alley', 'LotShape', 'LandContour', 'Utilities', 'LotConfig', 'LandSlope', 'Neighborhood', 'Condition1', 'Condition2', 'BldgType', 'HouseStyle', 'RoofStyle', 'RoofMatl', 'Exterior1st', 'Exterior2nd', 'MasVnrType', 'ExterQual', 'ExterCond', 'Foundation', 'BsmtQual', 'BsmtCond', 'BsmtExposure', 'BsmtFinType1', 'BsmtFinType2', 'Heating', 'HeatingQC', 'CentralAir', 'Electrical', 'KitchenQual', 'Functional', 'FireplaceQu', 'GarageType', 'GarageFinish', 'GarageQual', 'GarageCond', 'PavedDrive', 'PoolQC', 'Fence', 'MiscFeature', 'SaleType', 'SaleCondition']\n"
     ]
    }
   ],
   "source": [
    "print(list(categorical_cols))"
   ]
  },
  {
   "cell_type": "markdown",
   "metadata": {},
   "source": [
    "### Impute Numerical Data\n",
    "\n",
    "Some of the numeric columns in our dataset contain missing values (`nan`)."
   ]
  },
  {
   "cell_type": "code",
   "execution_count": 73,
   "metadata": {},
   "outputs": [
    {
     "data": {
      "text/plain": [
       "LotFrontage    259\n",
       "GarageYrBlt     81\n",
       "MasVnrArea       8\n",
       "dtype: int64"
      ]
     },
     "execution_count": 73,
     "metadata": {},
     "output_type": "execute_result"
    }
   ],
   "source": [
    "missing_counts = inputs_df[numeric_cols].isna().sum().sort_values(ascending=False)\n",
    "missing_counts[missing_counts > 0]"
   ]
  },
  {
   "cell_type": "markdown",
   "metadata": {},
   "source": [
    "Machine learning models can't work with missing data. The process of filling missing values is called [imputation](https://scikit-learn.org/stable/modules/impute.html).\n",
    "\n",
    "<img src=\"https://i.imgur.com/W7cfyOp.png\" width=\"480\">\n",
    "\n",
    "There are several techniques for imputation, but we'll use the most basic one: replacing missing values with the average value in the column using the `SimpleImputer` class from `sklearn.impute`.\n"
   ]
  },
  {
   "cell_type": "code",
   "execution_count": 74,
   "metadata": {},
   "outputs": [],
   "source": [
    "from sklearn.impute import SimpleImputer"
   ]
  },
  {
   "cell_type": "markdown",
   "metadata": {},
   "source": [
    "> **QUESTION 5**: Impute (fill) missing values in the numeric columns of `inputs_df` using a `SimpleImputer`. \r\n"
   ]
  },
  {
   "cell_type": "code",
   "execution_count": 75,
   "metadata": {},
   "outputs": [],
   "source": [
    "# 1. Create the imputer\n",
    "imputer = SimpleImputer(strategy= \"mean\")"
   ]
  },
  {
   "cell_type": "code",
   "execution_count": 76,
   "metadata": {},
   "outputs": [
    {
     "data": {
      "text/plain": [
       "SimpleImputer()"
      ]
     },
     "execution_count": 76,
     "metadata": {},
     "output_type": "execute_result"
    }
   ],
   "source": [
    "# 2. Fit the imputer to the numeric colums\n",
    "imputer.fit(inputs_df[numeric_cols])"
   ]
  },
  {
   "cell_type": "code",
   "execution_count": 77,
   "metadata": {},
   "outputs": [],
   "source": [
    "# 3. Transform and replace the numeric columns\n",
    "inputs_df[numeric_cols] = imputer.transform(inputs_df[numeric_cols])"
   ]
  },
  {
   "cell_type": "markdown",
   "metadata": {},
   "source": [
    "After imputation, none of the numeric columns should contain any missing values."
   ]
  },
  {
   "cell_type": "code",
   "execution_count": 78,
   "metadata": {},
   "outputs": [
    {
     "data": {
      "text/plain": [
       "Series([], dtype: int64)"
      ]
     },
     "execution_count": 78,
     "metadata": {},
     "output_type": "execute_result"
    }
   ],
   "source": [
    "missing_counts = inputs_df[numeric_cols].isna().sum().sort_values(ascending=False)\n",
    "missing_counts[missing_counts > 0] # should be an empty list"
   ]
  },
  {
   "cell_type": "markdown",
   "metadata": {},
   "source": [
    "### Scale Numerical Values\n",
    "\n",
    "The numeric columns in our dataset have varying ranges. "
   ]
  },
  {
   "cell_type": "code",
   "execution_count": 79,
   "metadata": {},
   "outputs": [
    {
     "data": {
      "text/html": [
       "<div>\n",
       "<style scoped>\n",
       "    .dataframe tbody tr th:only-of-type {\n",
       "        vertical-align: middle;\n",
       "    }\n",
       "\n",
       "    .dataframe tbody tr th {\n",
       "        vertical-align: top;\n",
       "    }\n",
       "\n",
       "    .dataframe thead th {\n",
       "        text-align: right;\n",
       "    }\n",
       "</style>\n",
       "<table border=\"1\" class=\"dataframe\">\n",
       "  <thead>\n",
       "    <tr style=\"text-align: right;\">\n",
       "      <th></th>\n",
       "      <th>MSSubClass</th>\n",
       "      <th>LotFrontage</th>\n",
       "      <th>LotArea</th>\n",
       "      <th>OverallQual</th>\n",
       "      <th>OverallCond</th>\n",
       "      <th>YearBuilt</th>\n",
       "      <th>YearRemodAdd</th>\n",
       "      <th>MasVnrArea</th>\n",
       "      <th>BsmtFinSF1</th>\n",
       "      <th>BsmtFinSF2</th>\n",
       "      <th>BsmtUnfSF</th>\n",
       "      <th>TotalBsmtSF</th>\n",
       "      <th>1stFlrSF</th>\n",
       "      <th>2ndFlrSF</th>\n",
       "      <th>LowQualFinSF</th>\n",
       "      <th>GrLivArea</th>\n",
       "      <th>BsmtFullBath</th>\n",
       "      <th>BsmtHalfBath</th>\n",
       "      <th>FullBath</th>\n",
       "      <th>HalfBath</th>\n",
       "      <th>BedroomAbvGr</th>\n",
       "      <th>KitchenAbvGr</th>\n",
       "      <th>TotRmsAbvGrd</th>\n",
       "      <th>Fireplaces</th>\n",
       "      <th>GarageYrBlt</th>\n",
       "      <th>GarageCars</th>\n",
       "      <th>GarageArea</th>\n",
       "      <th>WoodDeckSF</th>\n",
       "      <th>OpenPorchSF</th>\n",
       "      <th>EnclosedPorch</th>\n",
       "      <th>3SsnPorch</th>\n",
       "      <th>ScreenPorch</th>\n",
       "      <th>PoolArea</th>\n",
       "      <th>MiscVal</th>\n",
       "      <th>MoSold</th>\n",
       "      <th>YrSold</th>\n",
       "    </tr>\n",
       "  </thead>\n",
       "  <tbody>\n",
       "    <tr>\n",
       "      <th>min</th>\n",
       "      <td>20.0</td>\n",
       "      <td>21.0</td>\n",
       "      <td>1300.0</td>\n",
       "      <td>1.0</td>\n",
       "      <td>1.0</td>\n",
       "      <td>1872.0</td>\n",
       "      <td>1950.0</td>\n",
       "      <td>0.0</td>\n",
       "      <td>0.0</td>\n",
       "      <td>0.0</td>\n",
       "      <td>0.0</td>\n",
       "      <td>0.0</td>\n",
       "      <td>334.0</td>\n",
       "      <td>0.0</td>\n",
       "      <td>0.0</td>\n",
       "      <td>334.0</td>\n",
       "      <td>0.0</td>\n",
       "      <td>0.0</td>\n",
       "      <td>0.0</td>\n",
       "      <td>0.0</td>\n",
       "      <td>0.0</td>\n",
       "      <td>0.0</td>\n",
       "      <td>2.0</td>\n",
       "      <td>0.0</td>\n",
       "      <td>1900.0</td>\n",
       "      <td>0.0</td>\n",
       "      <td>0.0</td>\n",
       "      <td>0.0</td>\n",
       "      <td>0.0</td>\n",
       "      <td>0.0</td>\n",
       "      <td>0.0</td>\n",
       "      <td>0.0</td>\n",
       "      <td>0.0</td>\n",
       "      <td>0.0</td>\n",
       "      <td>1.0</td>\n",
       "      <td>2006.0</td>\n",
       "    </tr>\n",
       "    <tr>\n",
       "      <th>max</th>\n",
       "      <td>190.0</td>\n",
       "      <td>313.0</td>\n",
       "      <td>215245.0</td>\n",
       "      <td>10.0</td>\n",
       "      <td>9.0</td>\n",
       "      <td>2010.0</td>\n",
       "      <td>2010.0</td>\n",
       "      <td>1600.0</td>\n",
       "      <td>5644.0</td>\n",
       "      <td>1474.0</td>\n",
       "      <td>2336.0</td>\n",
       "      <td>6110.0</td>\n",
       "      <td>4692.0</td>\n",
       "      <td>2065.0</td>\n",
       "      <td>572.0</td>\n",
       "      <td>5642.0</td>\n",
       "      <td>3.0</td>\n",
       "      <td>2.0</td>\n",
       "      <td>3.0</td>\n",
       "      <td>2.0</td>\n",
       "      <td>8.0</td>\n",
       "      <td>3.0</td>\n",
       "      <td>14.0</td>\n",
       "      <td>3.0</td>\n",
       "      <td>2010.0</td>\n",
       "      <td>4.0</td>\n",
       "      <td>1418.0</td>\n",
       "      <td>857.0</td>\n",
       "      <td>547.0</td>\n",
       "      <td>552.0</td>\n",
       "      <td>508.0</td>\n",
       "      <td>480.0</td>\n",
       "      <td>738.0</td>\n",
       "      <td>15500.0</td>\n",
       "      <td>12.0</td>\n",
       "      <td>2010.0</td>\n",
       "    </tr>\n",
       "  </tbody>\n",
       "</table>\n",
       "</div>"
      ],
      "text/plain": [
       "     MSSubClass  LotFrontage   LotArea  OverallQual  OverallCond  YearBuilt  \\\n",
       "min        20.0         21.0    1300.0          1.0          1.0     1872.0   \n",
       "max       190.0        313.0  215245.0         10.0          9.0     2010.0   \n",
       "\n",
       "     YearRemodAdd  MasVnrArea  BsmtFinSF1  BsmtFinSF2  BsmtUnfSF  TotalBsmtSF  \\\n",
       "min        1950.0         0.0         0.0         0.0        0.0          0.0   \n",
       "max        2010.0      1600.0      5644.0      1474.0     2336.0       6110.0   \n",
       "\n",
       "     1stFlrSF  2ndFlrSF  LowQualFinSF  GrLivArea  BsmtFullBath  BsmtHalfBath  \\\n",
       "min     334.0       0.0           0.0      334.0           0.0           0.0   \n",
       "max    4692.0    2065.0         572.0     5642.0           3.0           2.0   \n",
       "\n",
       "     FullBath  HalfBath  BedroomAbvGr  KitchenAbvGr  TotRmsAbvGrd  Fireplaces  \\\n",
       "min       0.0       0.0           0.0           0.0           2.0         0.0   \n",
       "max       3.0       2.0           8.0           3.0          14.0         3.0   \n",
       "\n",
       "     GarageYrBlt  GarageCars  GarageArea  WoodDeckSF  OpenPorchSF  \\\n",
       "min       1900.0         0.0         0.0         0.0          0.0   \n",
       "max       2010.0         4.0      1418.0       857.0        547.0   \n",
       "\n",
       "     EnclosedPorch  3SsnPorch  ScreenPorch  PoolArea  MiscVal  MoSold  YrSold  \n",
       "min            0.0        0.0          0.0       0.0      0.0     1.0  2006.0  \n",
       "max          552.0      508.0        480.0     738.0  15500.0    12.0  2010.0  "
      ]
     },
     "execution_count": 79,
     "metadata": {},
     "output_type": "execute_result"
    }
   ],
   "source": [
    "inputs_df[numeric_cols].describe().loc[['min', 'max']]"
   ]
  },
  {
   "cell_type": "markdown",
   "metadata": {},
   "source": [
    "A good practice is to [scale numeric features](https://scikit-learn.org/stable/modules/preprocessing.html#scaling-features-to-a-range) to a small range of values e.g. $(0,1)$. Scaling numeric features ensures that no particular feature has a disproportionate impact on the model's loss. Optimization algorithms also work better in practice with smaller numbers.\n"
   ]
  },
  {
   "cell_type": "markdown",
   "metadata": {},
   "source": [
    "> **QUESTION 6**: Scale numeric values to the $(0, 1)$ range using `MinMaxScaler` from `sklearn.preprocessing`.\r\n"
   ]
  },
  {
   "cell_type": "code",
   "execution_count": 80,
   "metadata": {},
   "outputs": [],
   "source": [
    "from sklearn.preprocessing import MinMaxScaler"
   ]
  },
  {
   "cell_type": "code",
   "execution_count": 81,
   "metadata": {},
   "outputs": [],
   "source": [
    "# Create the scaler\n",
    "scaler = MinMaxScaler()"
   ]
  },
  {
   "cell_type": "code",
   "execution_count": 82,
   "metadata": {},
   "outputs": [
    {
     "data": {
      "text/plain": [
       "MinMaxScaler()"
      ]
     },
     "execution_count": 82,
     "metadata": {},
     "output_type": "execute_result"
    }
   ],
   "source": [
    "# Fit the scaler to the numeric columns\n",
    "scaler.fit(inputs_df[numeric_cols])"
   ]
  },
  {
   "cell_type": "code",
   "execution_count": 83,
   "metadata": {},
   "outputs": [],
   "source": [
    "# Transform and replace the numeric columns\n",
    "inputs_df[numeric_cols] = scaler.transform(inputs_df[numeric_cols])"
   ]
  },
  {
   "cell_type": "markdown",
   "metadata": {},
   "source": [
    "After scaling, the ranges of all numeric columns should be $(0, 1)$."
   ]
  },
  {
   "cell_type": "code",
   "execution_count": 84,
   "metadata": {},
   "outputs": [
    {
     "data": {
      "text/html": [
       "<div>\n",
       "<style scoped>\n",
       "    .dataframe tbody tr th:only-of-type {\n",
       "        vertical-align: middle;\n",
       "    }\n",
       "\n",
       "    .dataframe tbody tr th {\n",
       "        vertical-align: top;\n",
       "    }\n",
       "\n",
       "    .dataframe thead th {\n",
       "        text-align: right;\n",
       "    }\n",
       "</style>\n",
       "<table border=\"1\" class=\"dataframe\">\n",
       "  <thead>\n",
       "    <tr style=\"text-align: right;\">\n",
       "      <th></th>\n",
       "      <th>MSSubClass</th>\n",
       "      <th>LotFrontage</th>\n",
       "      <th>LotArea</th>\n",
       "      <th>OverallQual</th>\n",
       "      <th>OverallCond</th>\n",
       "      <th>YearBuilt</th>\n",
       "      <th>YearRemodAdd</th>\n",
       "      <th>MasVnrArea</th>\n",
       "      <th>BsmtFinSF1</th>\n",
       "      <th>BsmtFinSF2</th>\n",
       "      <th>BsmtUnfSF</th>\n",
       "      <th>TotalBsmtSF</th>\n",
       "      <th>1stFlrSF</th>\n",
       "      <th>2ndFlrSF</th>\n",
       "      <th>LowQualFinSF</th>\n",
       "      <th>GrLivArea</th>\n",
       "      <th>BsmtFullBath</th>\n",
       "      <th>BsmtHalfBath</th>\n",
       "      <th>FullBath</th>\n",
       "      <th>HalfBath</th>\n",
       "      <th>BedroomAbvGr</th>\n",
       "      <th>KitchenAbvGr</th>\n",
       "      <th>TotRmsAbvGrd</th>\n",
       "      <th>Fireplaces</th>\n",
       "      <th>GarageYrBlt</th>\n",
       "      <th>GarageCars</th>\n",
       "      <th>GarageArea</th>\n",
       "      <th>WoodDeckSF</th>\n",
       "      <th>OpenPorchSF</th>\n",
       "      <th>EnclosedPorch</th>\n",
       "      <th>3SsnPorch</th>\n",
       "      <th>ScreenPorch</th>\n",
       "      <th>PoolArea</th>\n",
       "      <th>MiscVal</th>\n",
       "      <th>MoSold</th>\n",
       "      <th>YrSold</th>\n",
       "    </tr>\n",
       "  </thead>\n",
       "  <tbody>\n",
       "    <tr>\n",
       "      <th>min</th>\n",
       "      <td>0.0</td>\n",
       "      <td>0.0</td>\n",
       "      <td>0.0</td>\n",
       "      <td>0.0</td>\n",
       "      <td>0.0</td>\n",
       "      <td>0.0</td>\n",
       "      <td>0.0</td>\n",
       "      <td>0.0</td>\n",
       "      <td>0.0</td>\n",
       "      <td>0.0</td>\n",
       "      <td>0.0</td>\n",
       "      <td>0.0</td>\n",
       "      <td>0.0</td>\n",
       "      <td>0.0</td>\n",
       "      <td>0.0</td>\n",
       "      <td>0.0</td>\n",
       "      <td>0.0</td>\n",
       "      <td>0.0</td>\n",
       "      <td>0.0</td>\n",
       "      <td>0.0</td>\n",
       "      <td>0.0</td>\n",
       "      <td>0.0</td>\n",
       "      <td>0.0</td>\n",
       "      <td>0.0</td>\n",
       "      <td>0.0</td>\n",
       "      <td>0.0</td>\n",
       "      <td>0.0</td>\n",
       "      <td>0.0</td>\n",
       "      <td>0.0</td>\n",
       "      <td>0.0</td>\n",
       "      <td>0.0</td>\n",
       "      <td>0.0</td>\n",
       "      <td>0.0</td>\n",
       "      <td>0.0</td>\n",
       "      <td>0.0</td>\n",
       "      <td>0.0</td>\n",
       "    </tr>\n",
       "    <tr>\n",
       "      <th>max</th>\n",
       "      <td>1.0</td>\n",
       "      <td>1.0</td>\n",
       "      <td>1.0</td>\n",
       "      <td>1.0</td>\n",
       "      <td>1.0</td>\n",
       "      <td>1.0</td>\n",
       "      <td>1.0</td>\n",
       "      <td>1.0</td>\n",
       "      <td>1.0</td>\n",
       "      <td>1.0</td>\n",
       "      <td>1.0</td>\n",
       "      <td>1.0</td>\n",
       "      <td>1.0</td>\n",
       "      <td>1.0</td>\n",
       "      <td>1.0</td>\n",
       "      <td>1.0</td>\n",
       "      <td>1.0</td>\n",
       "      <td>1.0</td>\n",
       "      <td>1.0</td>\n",
       "      <td>1.0</td>\n",
       "      <td>1.0</td>\n",
       "      <td>1.0</td>\n",
       "      <td>1.0</td>\n",
       "      <td>1.0</td>\n",
       "      <td>1.0</td>\n",
       "      <td>1.0</td>\n",
       "      <td>1.0</td>\n",
       "      <td>1.0</td>\n",
       "      <td>1.0</td>\n",
       "      <td>1.0</td>\n",
       "      <td>1.0</td>\n",
       "      <td>1.0</td>\n",
       "      <td>1.0</td>\n",
       "      <td>1.0</td>\n",
       "      <td>1.0</td>\n",
       "      <td>1.0</td>\n",
       "    </tr>\n",
       "  </tbody>\n",
       "</table>\n",
       "</div>"
      ],
      "text/plain": [
       "     MSSubClass  LotFrontage  LotArea  OverallQual  OverallCond  YearBuilt  \\\n",
       "min         0.0          0.0      0.0          0.0          0.0        0.0   \n",
       "max         1.0          1.0      1.0          1.0          1.0        1.0   \n",
       "\n",
       "     YearRemodAdd  MasVnrArea  BsmtFinSF1  BsmtFinSF2  BsmtUnfSF  TotalBsmtSF  \\\n",
       "min           0.0         0.0         0.0         0.0        0.0          0.0   \n",
       "max           1.0         1.0         1.0         1.0        1.0          1.0   \n",
       "\n",
       "     1stFlrSF  2ndFlrSF  LowQualFinSF  GrLivArea  BsmtFullBath  BsmtHalfBath  \\\n",
       "min       0.0       0.0           0.0        0.0           0.0           0.0   \n",
       "max       1.0       1.0           1.0        1.0           1.0           1.0   \n",
       "\n",
       "     FullBath  HalfBath  BedroomAbvGr  KitchenAbvGr  TotRmsAbvGrd  Fireplaces  \\\n",
       "min       0.0       0.0           0.0           0.0           0.0         0.0   \n",
       "max       1.0       1.0           1.0           1.0           1.0         1.0   \n",
       "\n",
       "     GarageYrBlt  GarageCars  GarageArea  WoodDeckSF  OpenPorchSF  \\\n",
       "min          0.0         0.0         0.0         0.0          0.0   \n",
       "max          1.0         1.0         1.0         1.0          1.0   \n",
       "\n",
       "     EnclosedPorch  3SsnPorch  ScreenPorch  PoolArea  MiscVal  MoSold  YrSold  \n",
       "min            0.0        0.0          0.0       0.0      0.0     0.0     0.0  \n",
       "max            1.0        1.0          1.0       1.0      1.0     1.0     1.0  "
      ]
     },
     "execution_count": 84,
     "metadata": {},
     "output_type": "execute_result"
    }
   ],
   "source": [
    "inputs_df[numeric_cols].describe().loc[['min', 'max']]"
   ]
  },
  {
   "cell_type": "markdown",
   "metadata": {},
   "source": [
    "### Encode Categorical Columns\n",
    "\n",
    "Our dataset contains several categorical columns, each with a different number of categories."
   ]
  },
  {
   "cell_type": "code",
   "execution_count": 85,
   "metadata": {},
   "outputs": [
    {
     "data": {
      "text/plain": [
       "Neighborhood     25\n",
       "Exterior2nd      16\n",
       "Exterior1st      15\n",
       "SaleType          9\n",
       "Condition1        9\n",
       "Condition2        8\n",
       "HouseStyle        8\n",
       "RoofMatl          8\n",
       "Functional        7\n",
       "BsmtFinType2      6\n",
       "Heating           6\n",
       "RoofStyle         6\n",
       "SaleCondition     6\n",
       "BsmtFinType1      6\n",
       "GarageType        6\n",
       "Foundation        6\n",
       "Electrical        5\n",
       "FireplaceQu       5\n",
       "HeatingQC         5\n",
       "GarageQual        5\n",
       "GarageCond        5\n",
       "MSZoning          5\n",
       "LotConfig         5\n",
       "ExterCond         5\n",
       "BldgType          5\n",
       "BsmtExposure      4\n",
       "MiscFeature       4\n",
       "Fence             4\n",
       "LotShape          4\n",
       "LandContour       4\n",
       "BsmtCond          4\n",
       "KitchenQual       4\n",
       "MasVnrType        4\n",
       "ExterQual         4\n",
       "BsmtQual          4\n",
       "LandSlope         3\n",
       "GarageFinish      3\n",
       "PavedDrive        3\n",
       "PoolQC            3\n",
       "Utilities         2\n",
       "CentralAir        2\n",
       "Street            2\n",
       "Alley             2\n",
       "dtype: int64"
      ]
     },
     "execution_count": 85,
     "metadata": {},
     "output_type": "execute_result"
    }
   ],
   "source": [
    "inputs_df[categorical_cols].nunique().sort_values(ascending=False)"
   ]
  },
  {
   "cell_type": "markdown",
   "metadata": {},
   "source": [
    "\n",
    "\n",
    "Since machine learning models can only be trained with numeric data, we need to convert categorical data to numbers. A common technique is to use one-hot encoding for categorical columns.\n",
    "\n",
    "<img src=\"https://i.imgur.com/n8GuiOO.png\" width=\"640\">\n",
    "\n",
    "One hot encoding involves adding a new binary (0/1) column for each unique category of a categorical column."
   ]
  },
  {
   "cell_type": "markdown",
   "metadata": {},
   "source": [
    "> **QUESTION 7**: Encode categorical columns in the dataset as one-hot vectors using `OneHotEncoder` from `sklearn.preprocessing`. Add a new binary (0/1) column for each category\r\n"
   ]
  },
  {
   "cell_type": "code",
   "execution_count": 86,
   "metadata": {},
   "outputs": [],
   "source": [
    "from sklearn.preprocessing import OneHotEncoder"
   ]
  },
  {
   "cell_type": "code",
   "execution_count": 87,
   "metadata": {},
   "outputs": [],
   "source": [
    "# 1. Create the encoder\n",
    "encoder = OneHotEncoder(sparse=False, handle_unknown='ignore')"
   ]
  },
  {
   "cell_type": "code",
   "execution_count": 88,
   "metadata": {},
   "outputs": [
    {
     "data": {
      "text/plain": [
       "OneHotEncoder(handle_unknown='ignore', sparse=False)"
      ]
     },
     "execution_count": 88,
     "metadata": {},
     "output_type": "execute_result"
    }
   ],
   "source": [
    "# 2. Fit the encoder to the categorical colums\n",
    "encoder.fit(inputs_df[categorical_cols])"
   ]
  },
  {
   "cell_type": "code",
   "execution_count": 89,
   "metadata": {},
   "outputs": [
    {
     "data": {
      "text/plain": [
       "268"
      ]
     },
     "execution_count": 89,
     "metadata": {},
     "output_type": "execute_result"
    }
   ],
   "source": [
    "# 3. Generate column names for each category\n",
    "encoded_cols = list(encoder.get_feature_names(categorical_cols))\n",
    "len(encoded_cols)"
   ]
  },
  {
   "cell_type": "code",
   "execution_count": 90,
   "metadata": {},
   "outputs": [],
   "source": [
    "# 4. Transform and add new one-hot category columns\n",
    "inputs_df[encoded_cols] = encoder.transform(inputs_df[categorical_cols])"
   ]
  },
  {
   "cell_type": "markdown",
   "metadata": {},
   "source": [
    "The new one-hot category columns should now be added to `inputs_df`."
   ]
  },
  {
   "cell_type": "code",
   "execution_count": 91,
   "metadata": {},
   "outputs": [
    {
     "data": {
      "text/html": [
       "<div>\n",
       "<style scoped>\n",
       "    .dataframe tbody tr th:only-of-type {\n",
       "        vertical-align: middle;\n",
       "    }\n",
       "\n",
       "    .dataframe tbody tr th {\n",
       "        vertical-align: top;\n",
       "    }\n",
       "\n",
       "    .dataframe thead th {\n",
       "        text-align: right;\n",
       "    }\n",
       "</style>\n",
       "<table border=\"1\" class=\"dataframe\">\n",
       "  <thead>\n",
       "    <tr style=\"text-align: right;\">\n",
       "      <th></th>\n",
       "      <th>MSSubClass</th>\n",
       "      <th>MSZoning</th>\n",
       "      <th>LotFrontage</th>\n",
       "      <th>LotArea</th>\n",
       "      <th>Street</th>\n",
       "      <th>Alley</th>\n",
       "      <th>LotShape</th>\n",
       "      <th>LandContour</th>\n",
       "      <th>Utilities</th>\n",
       "      <th>LotConfig</th>\n",
       "      <th>LandSlope</th>\n",
       "      <th>Neighborhood</th>\n",
       "      <th>Condition1</th>\n",
       "      <th>Condition2</th>\n",
       "      <th>BldgType</th>\n",
       "      <th>HouseStyle</th>\n",
       "      <th>OverallQual</th>\n",
       "      <th>OverallCond</th>\n",
       "      <th>YearBuilt</th>\n",
       "      <th>YearRemodAdd</th>\n",
       "      <th>RoofStyle</th>\n",
       "      <th>RoofMatl</th>\n",
       "      <th>Exterior1st</th>\n",
       "      <th>Exterior2nd</th>\n",
       "      <th>MasVnrType</th>\n",
       "      <th>MasVnrArea</th>\n",
       "      <th>ExterQual</th>\n",
       "      <th>ExterCond</th>\n",
       "      <th>Foundation</th>\n",
       "      <th>BsmtQual</th>\n",
       "      <th>BsmtCond</th>\n",
       "      <th>BsmtExposure</th>\n",
       "      <th>BsmtFinType1</th>\n",
       "      <th>BsmtFinSF1</th>\n",
       "      <th>BsmtFinType2</th>\n",
       "      <th>BsmtFinSF2</th>\n",
       "      <th>BsmtUnfSF</th>\n",
       "      <th>TotalBsmtSF</th>\n",
       "      <th>Heating</th>\n",
       "      <th>HeatingQC</th>\n",
       "      <th>CentralAir</th>\n",
       "      <th>Electrical</th>\n",
       "      <th>1stFlrSF</th>\n",
       "      <th>2ndFlrSF</th>\n",
       "      <th>LowQualFinSF</th>\n",
       "      <th>GrLivArea</th>\n",
       "      <th>BsmtFullBath</th>\n",
       "      <th>BsmtHalfBath</th>\n",
       "      <th>FullBath</th>\n",
       "      <th>HalfBath</th>\n",
       "      <th>BedroomAbvGr</th>\n",
       "      <th>KitchenAbvGr</th>\n",
       "      <th>KitchenQual</th>\n",
       "      <th>TotRmsAbvGrd</th>\n",
       "      <th>Functional</th>\n",
       "      <th>Fireplaces</th>\n",
       "      <th>FireplaceQu</th>\n",
       "      <th>GarageType</th>\n",
       "      <th>GarageYrBlt</th>\n",
       "      <th>GarageFinish</th>\n",
       "      <th>GarageCars</th>\n",
       "      <th>GarageArea</th>\n",
       "      <th>GarageQual</th>\n",
       "      <th>GarageCond</th>\n",
       "      <th>PavedDrive</th>\n",
       "      <th>WoodDeckSF</th>\n",
       "      <th>OpenPorchSF</th>\n",
       "      <th>EnclosedPorch</th>\n",
       "      <th>3SsnPorch</th>\n",
       "      <th>ScreenPorch</th>\n",
       "      <th>PoolArea</th>\n",
       "      <th>PoolQC</th>\n",
       "      <th>Fence</th>\n",
       "      <th>MiscFeature</th>\n",
       "      <th>MiscVal</th>\n",
       "      <th>MoSold</th>\n",
       "      <th>YrSold</th>\n",
       "      <th>SaleType</th>\n",
       "      <th>SaleCondition</th>\n",
       "      <th>MSZoning_C (all)</th>\n",
       "      <th>MSZoning_FV</th>\n",
       "      <th>MSZoning_RH</th>\n",
       "      <th>MSZoning_RL</th>\n",
       "      <th>MSZoning_RM</th>\n",
       "      <th>Street_Grvl</th>\n",
       "      <th>Street_Pave</th>\n",
       "      <th>Alley_Grvl</th>\n",
       "      <th>Alley_Pave</th>\n",
       "      <th>Alley_nan</th>\n",
       "      <th>LotShape_IR1</th>\n",
       "      <th>LotShape_IR2</th>\n",
       "      <th>LotShape_IR3</th>\n",
       "      <th>LotShape_Reg</th>\n",
       "      <th>LandContour_Bnk</th>\n",
       "      <th>LandContour_HLS</th>\n",
       "      <th>LandContour_Low</th>\n",
       "      <th>LandContour_Lvl</th>\n",
       "      <th>Utilities_AllPub</th>\n",
       "      <th>Utilities_NoSeWa</th>\n",
       "      <th>LotConfig_Corner</th>\n",
       "      <th>...</th>\n",
       "      <th>BsmtFinType1_Unf</th>\n",
       "      <th>BsmtFinType1_nan</th>\n",
       "      <th>BsmtFinType2_ALQ</th>\n",
       "      <th>BsmtFinType2_BLQ</th>\n",
       "      <th>BsmtFinType2_GLQ</th>\n",
       "      <th>BsmtFinType2_LwQ</th>\n",
       "      <th>BsmtFinType2_Rec</th>\n",
       "      <th>BsmtFinType2_Unf</th>\n",
       "      <th>BsmtFinType2_nan</th>\n",
       "      <th>Heating_Floor</th>\n",
       "      <th>Heating_GasA</th>\n",
       "      <th>Heating_GasW</th>\n",
       "      <th>Heating_Grav</th>\n",
       "      <th>Heating_OthW</th>\n",
       "      <th>Heating_Wall</th>\n",
       "      <th>HeatingQC_Ex</th>\n",
       "      <th>HeatingQC_Fa</th>\n",
       "      <th>HeatingQC_Gd</th>\n",
       "      <th>HeatingQC_Po</th>\n",
       "      <th>HeatingQC_TA</th>\n",
       "      <th>CentralAir_N</th>\n",
       "      <th>CentralAir_Y</th>\n",
       "      <th>Electrical_FuseA</th>\n",
       "      <th>Electrical_FuseF</th>\n",
       "      <th>Electrical_FuseP</th>\n",
       "      <th>Electrical_Mix</th>\n",
       "      <th>Electrical_SBrkr</th>\n",
       "      <th>Electrical_nan</th>\n",
       "      <th>KitchenQual_Ex</th>\n",
       "      <th>KitchenQual_Fa</th>\n",
       "      <th>KitchenQual_Gd</th>\n",
       "      <th>KitchenQual_TA</th>\n",
       "      <th>Functional_Maj1</th>\n",
       "      <th>Functional_Maj2</th>\n",
       "      <th>Functional_Min1</th>\n",
       "      <th>Functional_Min2</th>\n",
       "      <th>Functional_Mod</th>\n",
       "      <th>Functional_Sev</th>\n",
       "      <th>Functional_Typ</th>\n",
       "      <th>FireplaceQu_Ex</th>\n",
       "      <th>FireplaceQu_Fa</th>\n",
       "      <th>FireplaceQu_Gd</th>\n",
       "      <th>FireplaceQu_Po</th>\n",
       "      <th>FireplaceQu_TA</th>\n",
       "      <th>FireplaceQu_nan</th>\n",
       "      <th>GarageType_2Types</th>\n",
       "      <th>GarageType_Attchd</th>\n",
       "      <th>GarageType_Basment</th>\n",
       "      <th>GarageType_BuiltIn</th>\n",
       "      <th>GarageType_CarPort</th>\n",
       "      <th>GarageType_Detchd</th>\n",
       "      <th>GarageType_nan</th>\n",
       "      <th>GarageFinish_Fin</th>\n",
       "      <th>GarageFinish_RFn</th>\n",
       "      <th>GarageFinish_Unf</th>\n",
       "      <th>GarageFinish_nan</th>\n",
       "      <th>GarageQual_Ex</th>\n",
       "      <th>GarageQual_Fa</th>\n",
       "      <th>GarageQual_Gd</th>\n",
       "      <th>GarageQual_Po</th>\n",
       "      <th>GarageQual_TA</th>\n",
       "      <th>GarageQual_nan</th>\n",
       "      <th>GarageCond_Ex</th>\n",
       "      <th>GarageCond_Fa</th>\n",
       "      <th>GarageCond_Gd</th>\n",
       "      <th>GarageCond_Po</th>\n",
       "      <th>GarageCond_TA</th>\n",
       "      <th>GarageCond_nan</th>\n",
       "      <th>PavedDrive_N</th>\n",
       "      <th>PavedDrive_P</th>\n",
       "      <th>PavedDrive_Y</th>\n",
       "      <th>PoolQC_Ex</th>\n",
       "      <th>PoolQC_Fa</th>\n",
       "      <th>PoolQC_Gd</th>\n",
       "      <th>PoolQC_nan</th>\n",
       "      <th>Fence_GdPrv</th>\n",
       "      <th>Fence_GdWo</th>\n",
       "      <th>Fence_MnPrv</th>\n",
       "      <th>Fence_MnWw</th>\n",
       "      <th>Fence_nan</th>\n",
       "      <th>MiscFeature_Gar2</th>\n",
       "      <th>MiscFeature_Othr</th>\n",
       "      <th>MiscFeature_Shed</th>\n",
       "      <th>MiscFeature_TenC</th>\n",
       "      <th>MiscFeature_nan</th>\n",
       "      <th>SaleType_COD</th>\n",
       "      <th>SaleType_CWD</th>\n",
       "      <th>SaleType_Con</th>\n",
       "      <th>SaleType_ConLD</th>\n",
       "      <th>SaleType_ConLI</th>\n",
       "      <th>SaleType_ConLw</th>\n",
       "      <th>SaleType_New</th>\n",
       "      <th>SaleType_Oth</th>\n",
       "      <th>SaleType_WD</th>\n",
       "      <th>SaleCondition_Abnorml</th>\n",
       "      <th>SaleCondition_AdjLand</th>\n",
       "      <th>SaleCondition_Alloca</th>\n",
       "      <th>SaleCondition_Family</th>\n",
       "      <th>SaleCondition_Normal</th>\n",
       "      <th>SaleCondition_Partial</th>\n",
       "    </tr>\n",
       "  </thead>\n",
       "  <tbody>\n",
       "    <tr>\n",
       "      <th>0</th>\n",
       "      <td>0.235294</td>\n",
       "      <td>RL</td>\n",
       "      <td>0.150685</td>\n",
       "      <td>0.033420</td>\n",
       "      <td>Pave</td>\n",
       "      <td>NaN</td>\n",
       "      <td>Reg</td>\n",
       "      <td>Lvl</td>\n",
       "      <td>AllPub</td>\n",
       "      <td>Inside</td>\n",
       "      <td>Gtl</td>\n",
       "      <td>CollgCr</td>\n",
       "      <td>Norm</td>\n",
       "      <td>Norm</td>\n",
       "      <td>1Fam</td>\n",
       "      <td>2Story</td>\n",
       "      <td>0.666667</td>\n",
       "      <td>0.500</td>\n",
       "      <td>0.949275</td>\n",
       "      <td>0.883333</td>\n",
       "      <td>Gable</td>\n",
       "      <td>CompShg</td>\n",
       "      <td>VinylSd</td>\n",
       "      <td>VinylSd</td>\n",
       "      <td>BrkFace</td>\n",
       "      <td>0.122500</td>\n",
       "      <td>Gd</td>\n",
       "      <td>TA</td>\n",
       "      <td>PConc</td>\n",
       "      <td>Gd</td>\n",
       "      <td>TA</td>\n",
       "      <td>No</td>\n",
       "      <td>GLQ</td>\n",
       "      <td>0.125089</td>\n",
       "      <td>Unf</td>\n",
       "      <td>0.000000</td>\n",
       "      <td>0.064212</td>\n",
       "      <td>0.140098</td>\n",
       "      <td>GasA</td>\n",
       "      <td>Ex</td>\n",
       "      <td>Y</td>\n",
       "      <td>SBrkr</td>\n",
       "      <td>0.119780</td>\n",
       "      <td>0.413559</td>\n",
       "      <td>0.0</td>\n",
       "      <td>0.259231</td>\n",
       "      <td>0.333333</td>\n",
       "      <td>0.0</td>\n",
       "      <td>0.666667</td>\n",
       "      <td>0.5</td>\n",
       "      <td>0.375</td>\n",
       "      <td>0.333333</td>\n",
       "      <td>Gd</td>\n",
       "      <td>0.500000</td>\n",
       "      <td>Typ</td>\n",
       "      <td>0.000000</td>\n",
       "      <td>NaN</td>\n",
       "      <td>Attchd</td>\n",
       "      <td>0.936364</td>\n",
       "      <td>RFn</td>\n",
       "      <td>0.50</td>\n",
       "      <td>0.386460</td>\n",
       "      <td>TA</td>\n",
       "      <td>TA</td>\n",
       "      <td>Y</td>\n",
       "      <td>0.000000</td>\n",
       "      <td>0.111517</td>\n",
       "      <td>0.000000</td>\n",
       "      <td>0.0</td>\n",
       "      <td>0.0</td>\n",
       "      <td>0.0</td>\n",
       "      <td>NaN</td>\n",
       "      <td>NaN</td>\n",
       "      <td>NaN</td>\n",
       "      <td>0.00000</td>\n",
       "      <td>0.090909</td>\n",
       "      <td>0.50</td>\n",
       "      <td>WD</td>\n",
       "      <td>Normal</td>\n",
       "      <td>0.0</td>\n",
       "      <td>0.0</td>\n",
       "      <td>0.0</td>\n",
       "      <td>1.0</td>\n",
       "      <td>0.0</td>\n",
       "      <td>0.0</td>\n",
       "      <td>1.0</td>\n",
       "      <td>0.0</td>\n",
       "      <td>0.0</td>\n",
       "      <td>1.0</td>\n",
       "      <td>0.0</td>\n",
       "      <td>0.0</td>\n",
       "      <td>0.0</td>\n",
       "      <td>1.0</td>\n",
       "      <td>0.0</td>\n",
       "      <td>0.0</td>\n",
       "      <td>0.0</td>\n",
       "      <td>1.0</td>\n",
       "      <td>1.0</td>\n",
       "      <td>0.0</td>\n",
       "      <td>0.0</td>\n",
       "      <td>...</td>\n",
       "      <td>0.0</td>\n",
       "      <td>0.0</td>\n",
       "      <td>0.0</td>\n",
       "      <td>0.0</td>\n",
       "      <td>0.0</td>\n",
       "      <td>0.0</td>\n",
       "      <td>0.0</td>\n",
       "      <td>1.0</td>\n",
       "      <td>0.0</td>\n",
       "      <td>0.0</td>\n",
       "      <td>1.0</td>\n",
       "      <td>0.0</td>\n",
       "      <td>0.0</td>\n",
       "      <td>0.0</td>\n",
       "      <td>0.0</td>\n",
       "      <td>1.0</td>\n",
       "      <td>0.0</td>\n",
       "      <td>0.0</td>\n",
       "      <td>0.0</td>\n",
       "      <td>0.0</td>\n",
       "      <td>0.0</td>\n",
       "      <td>1.0</td>\n",
       "      <td>0.0</td>\n",
       "      <td>0.0</td>\n",
       "      <td>0.0</td>\n",
       "      <td>0.0</td>\n",
       "      <td>1.0</td>\n",
       "      <td>0.0</td>\n",
       "      <td>0.0</td>\n",
       "      <td>0.0</td>\n",
       "      <td>1.0</td>\n",
       "      <td>0.0</td>\n",
       "      <td>0.0</td>\n",
       "      <td>0.0</td>\n",
       "      <td>0.0</td>\n",
       "      <td>0.0</td>\n",
       "      <td>0.0</td>\n",
       "      <td>0.0</td>\n",
       "      <td>1.0</td>\n",
       "      <td>0.0</td>\n",
       "      <td>0.0</td>\n",
       "      <td>0.0</td>\n",
       "      <td>0.0</td>\n",
       "      <td>0.0</td>\n",
       "      <td>1.0</td>\n",
       "      <td>0.0</td>\n",
       "      <td>1.0</td>\n",
       "      <td>0.0</td>\n",
       "      <td>0.0</td>\n",
       "      <td>0.0</td>\n",
       "      <td>0.0</td>\n",
       "      <td>0.0</td>\n",
       "      <td>0.0</td>\n",
       "      <td>1.0</td>\n",
       "      <td>0.0</td>\n",
       "      <td>0.0</td>\n",
       "      <td>0.0</td>\n",
       "      <td>0.0</td>\n",
       "      <td>0.0</td>\n",
       "      <td>0.0</td>\n",
       "      <td>1.0</td>\n",
       "      <td>0.0</td>\n",
       "      <td>0.0</td>\n",
       "      <td>0.0</td>\n",
       "      <td>0.0</td>\n",
       "      <td>0.0</td>\n",
       "      <td>1.0</td>\n",
       "      <td>0.0</td>\n",
       "      <td>0.0</td>\n",
       "      <td>0.0</td>\n",
       "      <td>1.0</td>\n",
       "      <td>0.0</td>\n",
       "      <td>0.0</td>\n",
       "      <td>0.0</td>\n",
       "      <td>1.0</td>\n",
       "      <td>0.0</td>\n",
       "      <td>0.0</td>\n",
       "      <td>0.0</td>\n",
       "      <td>0.0</td>\n",
       "      <td>1.0</td>\n",
       "      <td>0.0</td>\n",
       "      <td>0.0</td>\n",
       "      <td>0.0</td>\n",
       "      <td>0.0</td>\n",
       "      <td>1.0</td>\n",
       "      <td>0.0</td>\n",
       "      <td>0.0</td>\n",
       "      <td>0.0</td>\n",
       "      <td>0.0</td>\n",
       "      <td>0.0</td>\n",
       "      <td>0.0</td>\n",
       "      <td>0.0</td>\n",
       "      <td>0.0</td>\n",
       "      <td>1.0</td>\n",
       "      <td>0.0</td>\n",
       "      <td>0.0</td>\n",
       "      <td>0.0</td>\n",
       "      <td>0.0</td>\n",
       "      <td>1.0</td>\n",
       "      <td>0.0</td>\n",
       "    </tr>\n",
       "    <tr>\n",
       "      <th>1</th>\n",
       "      <td>0.000000</td>\n",
       "      <td>RL</td>\n",
       "      <td>0.202055</td>\n",
       "      <td>0.038795</td>\n",
       "      <td>Pave</td>\n",
       "      <td>NaN</td>\n",
       "      <td>Reg</td>\n",
       "      <td>Lvl</td>\n",
       "      <td>AllPub</td>\n",
       "      <td>FR2</td>\n",
       "      <td>Gtl</td>\n",
       "      <td>Veenker</td>\n",
       "      <td>Feedr</td>\n",
       "      <td>Norm</td>\n",
       "      <td>1Fam</td>\n",
       "      <td>1Story</td>\n",
       "      <td>0.555556</td>\n",
       "      <td>0.875</td>\n",
       "      <td>0.753623</td>\n",
       "      <td>0.433333</td>\n",
       "      <td>Gable</td>\n",
       "      <td>CompShg</td>\n",
       "      <td>MetalSd</td>\n",
       "      <td>MetalSd</td>\n",
       "      <td>None</td>\n",
       "      <td>0.000000</td>\n",
       "      <td>TA</td>\n",
       "      <td>TA</td>\n",
       "      <td>CBlock</td>\n",
       "      <td>Gd</td>\n",
       "      <td>TA</td>\n",
       "      <td>Gd</td>\n",
       "      <td>ALQ</td>\n",
       "      <td>0.173281</td>\n",
       "      <td>Unf</td>\n",
       "      <td>0.000000</td>\n",
       "      <td>0.121575</td>\n",
       "      <td>0.206547</td>\n",
       "      <td>GasA</td>\n",
       "      <td>Ex</td>\n",
       "      <td>Y</td>\n",
       "      <td>SBrkr</td>\n",
       "      <td>0.212942</td>\n",
       "      <td>0.000000</td>\n",
       "      <td>0.0</td>\n",
       "      <td>0.174830</td>\n",
       "      <td>0.000000</td>\n",
       "      <td>0.5</td>\n",
       "      <td>0.666667</td>\n",
       "      <td>0.0</td>\n",
       "      <td>0.375</td>\n",
       "      <td>0.333333</td>\n",
       "      <td>TA</td>\n",
       "      <td>0.333333</td>\n",
       "      <td>Typ</td>\n",
       "      <td>0.333333</td>\n",
       "      <td>TA</td>\n",
       "      <td>Attchd</td>\n",
       "      <td>0.690909</td>\n",
       "      <td>RFn</td>\n",
       "      <td>0.50</td>\n",
       "      <td>0.324401</td>\n",
       "      <td>TA</td>\n",
       "      <td>TA</td>\n",
       "      <td>Y</td>\n",
       "      <td>0.347725</td>\n",
       "      <td>0.000000</td>\n",
       "      <td>0.000000</td>\n",
       "      <td>0.0</td>\n",
       "      <td>0.0</td>\n",
       "      <td>0.0</td>\n",
       "      <td>NaN</td>\n",
       "      <td>NaN</td>\n",
       "      <td>NaN</td>\n",
       "      <td>0.00000</td>\n",
       "      <td>0.363636</td>\n",
       "      <td>0.25</td>\n",
       "      <td>WD</td>\n",
       "      <td>Normal</td>\n",
       "      <td>0.0</td>\n",
       "      <td>0.0</td>\n",
       "      <td>0.0</td>\n",
       "      <td>1.0</td>\n",
       "      <td>0.0</td>\n",
       "      <td>0.0</td>\n",
       "      <td>1.0</td>\n",
       "      <td>0.0</td>\n",
       "      <td>0.0</td>\n",
       "      <td>1.0</td>\n",
       "      <td>0.0</td>\n",
       "      <td>0.0</td>\n",
       "      <td>0.0</td>\n",
       "      <td>1.0</td>\n",
       "      <td>0.0</td>\n",
       "      <td>0.0</td>\n",
       "      <td>0.0</td>\n",
       "      <td>1.0</td>\n",
       "      <td>1.0</td>\n",
       "      <td>0.0</td>\n",
       "      <td>0.0</td>\n",
       "      <td>...</td>\n",
       "      <td>0.0</td>\n",
       "      <td>0.0</td>\n",
       "      <td>0.0</td>\n",
       "      <td>0.0</td>\n",
       "      <td>0.0</td>\n",
       "      <td>0.0</td>\n",
       "      <td>0.0</td>\n",
       "      <td>1.0</td>\n",
       "      <td>0.0</td>\n",
       "      <td>0.0</td>\n",
       "      <td>1.0</td>\n",
       "      <td>0.0</td>\n",
       "      <td>0.0</td>\n",
       "      <td>0.0</td>\n",
       "      <td>0.0</td>\n",
       "      <td>1.0</td>\n",
       "      <td>0.0</td>\n",
       "      <td>0.0</td>\n",
       "      <td>0.0</td>\n",
       "      <td>0.0</td>\n",
       "      <td>0.0</td>\n",
       "      <td>1.0</td>\n",
       "      <td>0.0</td>\n",
       "      <td>0.0</td>\n",
       "      <td>0.0</td>\n",
       "      <td>0.0</td>\n",
       "      <td>1.0</td>\n",
       "      <td>0.0</td>\n",
       "      <td>0.0</td>\n",
       "      <td>0.0</td>\n",
       "      <td>0.0</td>\n",
       "      <td>1.0</td>\n",
       "      <td>0.0</td>\n",
       "      <td>0.0</td>\n",
       "      <td>0.0</td>\n",
       "      <td>0.0</td>\n",
       "      <td>0.0</td>\n",
       "      <td>0.0</td>\n",
       "      <td>1.0</td>\n",
       "      <td>0.0</td>\n",
       "      <td>0.0</td>\n",
       "      <td>0.0</td>\n",
       "      <td>0.0</td>\n",
       "      <td>1.0</td>\n",
       "      <td>0.0</td>\n",
       "      <td>0.0</td>\n",
       "      <td>1.0</td>\n",
       "      <td>0.0</td>\n",
       "      <td>0.0</td>\n",
       "      <td>0.0</td>\n",
       "      <td>0.0</td>\n",
       "      <td>0.0</td>\n",
       "      <td>0.0</td>\n",
       "      <td>1.0</td>\n",
       "      <td>0.0</td>\n",
       "      <td>0.0</td>\n",
       "      <td>0.0</td>\n",
       "      <td>0.0</td>\n",
       "      <td>0.0</td>\n",
       "      <td>0.0</td>\n",
       "      <td>1.0</td>\n",
       "      <td>0.0</td>\n",
       "      <td>0.0</td>\n",
       "      <td>0.0</td>\n",
       "      <td>0.0</td>\n",
       "      <td>0.0</td>\n",
       "      <td>1.0</td>\n",
       "      <td>0.0</td>\n",
       "      <td>0.0</td>\n",
       "      <td>0.0</td>\n",
       "      <td>1.0</td>\n",
       "      <td>0.0</td>\n",
       "      <td>0.0</td>\n",
       "      <td>0.0</td>\n",
       "      <td>1.0</td>\n",
       "      <td>0.0</td>\n",
       "      <td>0.0</td>\n",
       "      <td>0.0</td>\n",
       "      <td>0.0</td>\n",
       "      <td>1.0</td>\n",
       "      <td>0.0</td>\n",
       "      <td>0.0</td>\n",
       "      <td>0.0</td>\n",
       "      <td>0.0</td>\n",
       "      <td>1.0</td>\n",
       "      <td>0.0</td>\n",
       "      <td>0.0</td>\n",
       "      <td>0.0</td>\n",
       "      <td>0.0</td>\n",
       "      <td>0.0</td>\n",
       "      <td>0.0</td>\n",
       "      <td>0.0</td>\n",
       "      <td>0.0</td>\n",
       "      <td>1.0</td>\n",
       "      <td>0.0</td>\n",
       "      <td>0.0</td>\n",
       "      <td>0.0</td>\n",
       "      <td>0.0</td>\n",
       "      <td>1.0</td>\n",
       "      <td>0.0</td>\n",
       "    </tr>\n",
       "    <tr>\n",
       "      <th>2</th>\n",
       "      <td>0.235294</td>\n",
       "      <td>RL</td>\n",
       "      <td>0.160959</td>\n",
       "      <td>0.046507</td>\n",
       "      <td>Pave</td>\n",
       "      <td>NaN</td>\n",
       "      <td>IR1</td>\n",
       "      <td>Lvl</td>\n",
       "      <td>AllPub</td>\n",
       "      <td>Inside</td>\n",
       "      <td>Gtl</td>\n",
       "      <td>CollgCr</td>\n",
       "      <td>Norm</td>\n",
       "      <td>Norm</td>\n",
       "      <td>1Fam</td>\n",
       "      <td>2Story</td>\n",
       "      <td>0.666667</td>\n",
       "      <td>0.500</td>\n",
       "      <td>0.934783</td>\n",
       "      <td>0.866667</td>\n",
       "      <td>Gable</td>\n",
       "      <td>CompShg</td>\n",
       "      <td>VinylSd</td>\n",
       "      <td>VinylSd</td>\n",
       "      <td>BrkFace</td>\n",
       "      <td>0.101250</td>\n",
       "      <td>Gd</td>\n",
       "      <td>TA</td>\n",
       "      <td>PConc</td>\n",
       "      <td>Gd</td>\n",
       "      <td>TA</td>\n",
       "      <td>Mn</td>\n",
       "      <td>GLQ</td>\n",
       "      <td>0.086109</td>\n",
       "      <td>Unf</td>\n",
       "      <td>0.000000</td>\n",
       "      <td>0.185788</td>\n",
       "      <td>0.150573</td>\n",
       "      <td>GasA</td>\n",
       "      <td>Ex</td>\n",
       "      <td>Y</td>\n",
       "      <td>SBrkr</td>\n",
       "      <td>0.134465</td>\n",
       "      <td>0.419370</td>\n",
       "      <td>0.0</td>\n",
       "      <td>0.273549</td>\n",
       "      <td>0.333333</td>\n",
       "      <td>0.0</td>\n",
       "      <td>0.666667</td>\n",
       "      <td>0.5</td>\n",
       "      <td>0.375</td>\n",
       "      <td>0.333333</td>\n",
       "      <td>Gd</td>\n",
       "      <td>0.333333</td>\n",
       "      <td>Typ</td>\n",
       "      <td>0.333333</td>\n",
       "      <td>TA</td>\n",
       "      <td>Attchd</td>\n",
       "      <td>0.918182</td>\n",
       "      <td>RFn</td>\n",
       "      <td>0.50</td>\n",
       "      <td>0.428773</td>\n",
       "      <td>TA</td>\n",
       "      <td>TA</td>\n",
       "      <td>Y</td>\n",
       "      <td>0.000000</td>\n",
       "      <td>0.076782</td>\n",
       "      <td>0.000000</td>\n",
       "      <td>0.0</td>\n",
       "      <td>0.0</td>\n",
       "      <td>0.0</td>\n",
       "      <td>NaN</td>\n",
       "      <td>NaN</td>\n",
       "      <td>NaN</td>\n",
       "      <td>0.00000</td>\n",
       "      <td>0.727273</td>\n",
       "      <td>0.50</td>\n",
       "      <td>WD</td>\n",
       "      <td>Normal</td>\n",
       "      <td>0.0</td>\n",
       "      <td>0.0</td>\n",
       "      <td>0.0</td>\n",
       "      <td>1.0</td>\n",
       "      <td>0.0</td>\n",
       "      <td>0.0</td>\n",
       "      <td>1.0</td>\n",
       "      <td>0.0</td>\n",
       "      <td>0.0</td>\n",
       "      <td>1.0</td>\n",
       "      <td>1.0</td>\n",
       "      <td>0.0</td>\n",
       "      <td>0.0</td>\n",
       "      <td>0.0</td>\n",
       "      <td>0.0</td>\n",
       "      <td>0.0</td>\n",
       "      <td>0.0</td>\n",
       "      <td>1.0</td>\n",
       "      <td>1.0</td>\n",
       "      <td>0.0</td>\n",
       "      <td>0.0</td>\n",
       "      <td>...</td>\n",
       "      <td>0.0</td>\n",
       "      <td>0.0</td>\n",
       "      <td>0.0</td>\n",
       "      <td>0.0</td>\n",
       "      <td>0.0</td>\n",
       "      <td>0.0</td>\n",
       "      <td>0.0</td>\n",
       "      <td>1.0</td>\n",
       "      <td>0.0</td>\n",
       "      <td>0.0</td>\n",
       "      <td>1.0</td>\n",
       "      <td>0.0</td>\n",
       "      <td>0.0</td>\n",
       "      <td>0.0</td>\n",
       "      <td>0.0</td>\n",
       "      <td>1.0</td>\n",
       "      <td>0.0</td>\n",
       "      <td>0.0</td>\n",
       "      <td>0.0</td>\n",
       "      <td>0.0</td>\n",
       "      <td>0.0</td>\n",
       "      <td>1.0</td>\n",
       "      <td>0.0</td>\n",
       "      <td>0.0</td>\n",
       "      <td>0.0</td>\n",
       "      <td>0.0</td>\n",
       "      <td>1.0</td>\n",
       "      <td>0.0</td>\n",
       "      <td>0.0</td>\n",
       "      <td>0.0</td>\n",
       "      <td>1.0</td>\n",
       "      <td>0.0</td>\n",
       "      <td>0.0</td>\n",
       "      <td>0.0</td>\n",
       "      <td>0.0</td>\n",
       "      <td>0.0</td>\n",
       "      <td>0.0</td>\n",
       "      <td>0.0</td>\n",
       "      <td>1.0</td>\n",
       "      <td>0.0</td>\n",
       "      <td>0.0</td>\n",
       "      <td>0.0</td>\n",
       "      <td>0.0</td>\n",
       "      <td>1.0</td>\n",
       "      <td>0.0</td>\n",
       "      <td>0.0</td>\n",
       "      <td>1.0</td>\n",
       "      <td>0.0</td>\n",
       "      <td>0.0</td>\n",
       "      <td>0.0</td>\n",
       "      <td>0.0</td>\n",
       "      <td>0.0</td>\n",
       "      <td>0.0</td>\n",
       "      <td>1.0</td>\n",
       "      <td>0.0</td>\n",
       "      <td>0.0</td>\n",
       "      <td>0.0</td>\n",
       "      <td>0.0</td>\n",
       "      <td>0.0</td>\n",
       "      <td>0.0</td>\n",
       "      <td>1.0</td>\n",
       "      <td>0.0</td>\n",
       "      <td>0.0</td>\n",
       "      <td>0.0</td>\n",
       "      <td>0.0</td>\n",
       "      <td>0.0</td>\n",
       "      <td>1.0</td>\n",
       "      <td>0.0</td>\n",
       "      <td>0.0</td>\n",
       "      <td>0.0</td>\n",
       "      <td>1.0</td>\n",
       "      <td>0.0</td>\n",
       "      <td>0.0</td>\n",
       "      <td>0.0</td>\n",
       "      <td>1.0</td>\n",
       "      <td>0.0</td>\n",
       "      <td>0.0</td>\n",
       "      <td>0.0</td>\n",
       "      <td>0.0</td>\n",
       "      <td>1.0</td>\n",
       "      <td>0.0</td>\n",
       "      <td>0.0</td>\n",
       "      <td>0.0</td>\n",
       "      <td>0.0</td>\n",
       "      <td>1.0</td>\n",
       "      <td>0.0</td>\n",
       "      <td>0.0</td>\n",
       "      <td>0.0</td>\n",
       "      <td>0.0</td>\n",
       "      <td>0.0</td>\n",
       "      <td>0.0</td>\n",
       "      <td>0.0</td>\n",
       "      <td>0.0</td>\n",
       "      <td>1.0</td>\n",
       "      <td>0.0</td>\n",
       "      <td>0.0</td>\n",
       "      <td>0.0</td>\n",
       "      <td>0.0</td>\n",
       "      <td>1.0</td>\n",
       "      <td>0.0</td>\n",
       "    </tr>\n",
       "    <tr>\n",
       "      <th>3</th>\n",
       "      <td>0.294118</td>\n",
       "      <td>RL</td>\n",
       "      <td>0.133562</td>\n",
       "      <td>0.038561</td>\n",
       "      <td>Pave</td>\n",
       "      <td>NaN</td>\n",
       "      <td>IR1</td>\n",
       "      <td>Lvl</td>\n",
       "      <td>AllPub</td>\n",
       "      <td>Corner</td>\n",
       "      <td>Gtl</td>\n",
       "      <td>Crawfor</td>\n",
       "      <td>Norm</td>\n",
       "      <td>Norm</td>\n",
       "      <td>1Fam</td>\n",
       "      <td>2Story</td>\n",
       "      <td>0.666667</td>\n",
       "      <td>0.500</td>\n",
       "      <td>0.311594</td>\n",
       "      <td>0.333333</td>\n",
       "      <td>Gable</td>\n",
       "      <td>CompShg</td>\n",
       "      <td>Wd Sdng</td>\n",
       "      <td>Wd Shng</td>\n",
       "      <td>None</td>\n",
       "      <td>0.000000</td>\n",
       "      <td>TA</td>\n",
       "      <td>TA</td>\n",
       "      <td>BrkTil</td>\n",
       "      <td>TA</td>\n",
       "      <td>Gd</td>\n",
       "      <td>No</td>\n",
       "      <td>ALQ</td>\n",
       "      <td>0.038271</td>\n",
       "      <td>Unf</td>\n",
       "      <td>0.000000</td>\n",
       "      <td>0.231164</td>\n",
       "      <td>0.123732</td>\n",
       "      <td>GasA</td>\n",
       "      <td>Gd</td>\n",
       "      <td>Y</td>\n",
       "      <td>SBrkr</td>\n",
       "      <td>0.143873</td>\n",
       "      <td>0.366102</td>\n",
       "      <td>0.0</td>\n",
       "      <td>0.260550</td>\n",
       "      <td>0.333333</td>\n",
       "      <td>0.0</td>\n",
       "      <td>0.333333</td>\n",
       "      <td>0.0</td>\n",
       "      <td>0.375</td>\n",
       "      <td>0.333333</td>\n",
       "      <td>Gd</td>\n",
       "      <td>0.416667</td>\n",
       "      <td>Typ</td>\n",
       "      <td>0.333333</td>\n",
       "      <td>Gd</td>\n",
       "      <td>Detchd</td>\n",
       "      <td>0.890909</td>\n",
       "      <td>Unf</td>\n",
       "      <td>0.75</td>\n",
       "      <td>0.452750</td>\n",
       "      <td>TA</td>\n",
       "      <td>TA</td>\n",
       "      <td>Y</td>\n",
       "      <td>0.000000</td>\n",
       "      <td>0.063985</td>\n",
       "      <td>0.492754</td>\n",
       "      <td>0.0</td>\n",
       "      <td>0.0</td>\n",
       "      <td>0.0</td>\n",
       "      <td>NaN</td>\n",
       "      <td>NaN</td>\n",
       "      <td>NaN</td>\n",
       "      <td>0.00000</td>\n",
       "      <td>0.090909</td>\n",
       "      <td>0.00</td>\n",
       "      <td>WD</td>\n",
       "      <td>Abnorml</td>\n",
       "      <td>0.0</td>\n",
       "      <td>0.0</td>\n",
       "      <td>0.0</td>\n",
       "      <td>1.0</td>\n",
       "      <td>0.0</td>\n",
       "      <td>0.0</td>\n",
       "      <td>1.0</td>\n",
       "      <td>0.0</td>\n",
       "      <td>0.0</td>\n",
       "      <td>1.0</td>\n",
       "      <td>1.0</td>\n",
       "      <td>0.0</td>\n",
       "      <td>0.0</td>\n",
       "      <td>0.0</td>\n",
       "      <td>0.0</td>\n",
       "      <td>0.0</td>\n",
       "      <td>0.0</td>\n",
       "      <td>1.0</td>\n",
       "      <td>1.0</td>\n",
       "      <td>0.0</td>\n",
       "      <td>1.0</td>\n",
       "      <td>...</td>\n",
       "      <td>0.0</td>\n",
       "      <td>0.0</td>\n",
       "      <td>0.0</td>\n",
       "      <td>0.0</td>\n",
       "      <td>0.0</td>\n",
       "      <td>0.0</td>\n",
       "      <td>0.0</td>\n",
       "      <td>1.0</td>\n",
       "      <td>0.0</td>\n",
       "      <td>0.0</td>\n",
       "      <td>1.0</td>\n",
       "      <td>0.0</td>\n",
       "      <td>0.0</td>\n",
       "      <td>0.0</td>\n",
       "      <td>0.0</td>\n",
       "      <td>0.0</td>\n",
       "      <td>0.0</td>\n",
       "      <td>1.0</td>\n",
       "      <td>0.0</td>\n",
       "      <td>0.0</td>\n",
       "      <td>0.0</td>\n",
       "      <td>1.0</td>\n",
       "      <td>0.0</td>\n",
       "      <td>0.0</td>\n",
       "      <td>0.0</td>\n",
       "      <td>0.0</td>\n",
       "      <td>1.0</td>\n",
       "      <td>0.0</td>\n",
       "      <td>0.0</td>\n",
       "      <td>0.0</td>\n",
       "      <td>1.0</td>\n",
       "      <td>0.0</td>\n",
       "      <td>0.0</td>\n",
       "      <td>0.0</td>\n",
       "      <td>0.0</td>\n",
       "      <td>0.0</td>\n",
       "      <td>0.0</td>\n",
       "      <td>0.0</td>\n",
       "      <td>1.0</td>\n",
       "      <td>0.0</td>\n",
       "      <td>0.0</td>\n",
       "      <td>1.0</td>\n",
       "      <td>0.0</td>\n",
       "      <td>0.0</td>\n",
       "      <td>0.0</td>\n",
       "      <td>0.0</td>\n",
       "      <td>0.0</td>\n",
       "      <td>0.0</td>\n",
       "      <td>0.0</td>\n",
       "      <td>0.0</td>\n",
       "      <td>1.0</td>\n",
       "      <td>0.0</td>\n",
       "      <td>0.0</td>\n",
       "      <td>0.0</td>\n",
       "      <td>1.0</td>\n",
       "      <td>0.0</td>\n",
       "      <td>0.0</td>\n",
       "      <td>0.0</td>\n",
       "      <td>0.0</td>\n",
       "      <td>0.0</td>\n",
       "      <td>1.0</td>\n",
       "      <td>0.0</td>\n",
       "      <td>0.0</td>\n",
       "      <td>0.0</td>\n",
       "      <td>0.0</td>\n",
       "      <td>0.0</td>\n",
       "      <td>1.0</td>\n",
       "      <td>0.0</td>\n",
       "      <td>0.0</td>\n",
       "      <td>0.0</td>\n",
       "      <td>1.0</td>\n",
       "      <td>0.0</td>\n",
       "      <td>0.0</td>\n",
       "      <td>0.0</td>\n",
       "      <td>1.0</td>\n",
       "      <td>0.0</td>\n",
       "      <td>0.0</td>\n",
       "      <td>0.0</td>\n",
       "      <td>0.0</td>\n",
       "      <td>1.0</td>\n",
       "      <td>0.0</td>\n",
       "      <td>0.0</td>\n",
       "      <td>0.0</td>\n",
       "      <td>0.0</td>\n",
       "      <td>1.0</td>\n",
       "      <td>0.0</td>\n",
       "      <td>0.0</td>\n",
       "      <td>0.0</td>\n",
       "      <td>0.0</td>\n",
       "      <td>0.0</td>\n",
       "      <td>0.0</td>\n",
       "      <td>0.0</td>\n",
       "      <td>0.0</td>\n",
       "      <td>1.0</td>\n",
       "      <td>1.0</td>\n",
       "      <td>0.0</td>\n",
       "      <td>0.0</td>\n",
       "      <td>0.0</td>\n",
       "      <td>0.0</td>\n",
       "      <td>0.0</td>\n",
       "    </tr>\n",
       "    <tr>\n",
       "      <th>4</th>\n",
       "      <td>0.235294</td>\n",
       "      <td>RL</td>\n",
       "      <td>0.215753</td>\n",
       "      <td>0.060576</td>\n",
       "      <td>Pave</td>\n",
       "      <td>NaN</td>\n",
       "      <td>IR1</td>\n",
       "      <td>Lvl</td>\n",
       "      <td>AllPub</td>\n",
       "      <td>FR2</td>\n",
       "      <td>Gtl</td>\n",
       "      <td>NoRidge</td>\n",
       "      <td>Norm</td>\n",
       "      <td>Norm</td>\n",
       "      <td>1Fam</td>\n",
       "      <td>2Story</td>\n",
       "      <td>0.777778</td>\n",
       "      <td>0.500</td>\n",
       "      <td>0.927536</td>\n",
       "      <td>0.833333</td>\n",
       "      <td>Gable</td>\n",
       "      <td>CompShg</td>\n",
       "      <td>VinylSd</td>\n",
       "      <td>VinylSd</td>\n",
       "      <td>BrkFace</td>\n",
       "      <td>0.218750</td>\n",
       "      <td>Gd</td>\n",
       "      <td>TA</td>\n",
       "      <td>PConc</td>\n",
       "      <td>Gd</td>\n",
       "      <td>TA</td>\n",
       "      <td>Av</td>\n",
       "      <td>GLQ</td>\n",
       "      <td>0.116052</td>\n",
       "      <td>Unf</td>\n",
       "      <td>0.000000</td>\n",
       "      <td>0.209760</td>\n",
       "      <td>0.187398</td>\n",
       "      <td>GasA</td>\n",
       "      <td>Ex</td>\n",
       "      <td>Y</td>\n",
       "      <td>SBrkr</td>\n",
       "      <td>0.186095</td>\n",
       "      <td>0.509927</td>\n",
       "      <td>0.0</td>\n",
       "      <td>0.351168</td>\n",
       "      <td>0.333333</td>\n",
       "      <td>0.0</td>\n",
       "      <td>0.666667</td>\n",
       "      <td>0.5</td>\n",
       "      <td>0.500</td>\n",
       "      <td>0.333333</td>\n",
       "      <td>Gd</td>\n",
       "      <td>0.583333</td>\n",
       "      <td>Typ</td>\n",
       "      <td>0.333333</td>\n",
       "      <td>TA</td>\n",
       "      <td>Attchd</td>\n",
       "      <td>0.909091</td>\n",
       "      <td>RFn</td>\n",
       "      <td>0.75</td>\n",
       "      <td>0.589563</td>\n",
       "      <td>TA</td>\n",
       "      <td>TA</td>\n",
       "      <td>Y</td>\n",
       "      <td>0.224037</td>\n",
       "      <td>0.153565</td>\n",
       "      <td>0.000000</td>\n",
       "      <td>0.0</td>\n",
       "      <td>0.0</td>\n",
       "      <td>0.0</td>\n",
       "      <td>NaN</td>\n",
       "      <td>NaN</td>\n",
       "      <td>NaN</td>\n",
       "      <td>0.00000</td>\n",
       "      <td>1.000000</td>\n",
       "      <td>0.50</td>\n",
       "      <td>WD</td>\n",
       "      <td>Normal</td>\n",
       "      <td>0.0</td>\n",
       "      <td>0.0</td>\n",
       "      <td>0.0</td>\n",
       "      <td>1.0</td>\n",
       "      <td>0.0</td>\n",
       "      <td>0.0</td>\n",
       "      <td>1.0</td>\n",
       "      <td>0.0</td>\n",
       "      <td>0.0</td>\n",
       "      <td>1.0</td>\n",
       "      <td>1.0</td>\n",
       "      <td>0.0</td>\n",
       "      <td>0.0</td>\n",
       "      <td>0.0</td>\n",
       "      <td>0.0</td>\n",
       "      <td>0.0</td>\n",
       "      <td>0.0</td>\n",
       "      <td>1.0</td>\n",
       "      <td>1.0</td>\n",
       "      <td>0.0</td>\n",
       "      <td>0.0</td>\n",
       "      <td>...</td>\n",
       "      <td>0.0</td>\n",
       "      <td>0.0</td>\n",
       "      <td>0.0</td>\n",
       "      <td>0.0</td>\n",
       "      <td>0.0</td>\n",
       "      <td>0.0</td>\n",
       "      <td>0.0</td>\n",
       "      <td>1.0</td>\n",
       "      <td>0.0</td>\n",
       "      <td>0.0</td>\n",
       "      <td>1.0</td>\n",
       "      <td>0.0</td>\n",
       "      <td>0.0</td>\n",
       "      <td>0.0</td>\n",
       "      <td>0.0</td>\n",
       "      <td>1.0</td>\n",
       "      <td>0.0</td>\n",
       "      <td>0.0</td>\n",
       "      <td>0.0</td>\n",
       "      <td>0.0</td>\n",
       "      <td>0.0</td>\n",
       "      <td>1.0</td>\n",
       "      <td>0.0</td>\n",
       "      <td>0.0</td>\n",
       "      <td>0.0</td>\n",
       "      <td>0.0</td>\n",
       "      <td>1.0</td>\n",
       "      <td>0.0</td>\n",
       "      <td>0.0</td>\n",
       "      <td>0.0</td>\n",
       "      <td>1.0</td>\n",
       "      <td>0.0</td>\n",
       "      <td>0.0</td>\n",
       "      <td>0.0</td>\n",
       "      <td>0.0</td>\n",
       "      <td>0.0</td>\n",
       "      <td>0.0</td>\n",
       "      <td>0.0</td>\n",
       "      <td>1.0</td>\n",
       "      <td>0.0</td>\n",
       "      <td>0.0</td>\n",
       "      <td>0.0</td>\n",
       "      <td>0.0</td>\n",
       "      <td>1.0</td>\n",
       "      <td>0.0</td>\n",
       "      <td>0.0</td>\n",
       "      <td>1.0</td>\n",
       "      <td>0.0</td>\n",
       "      <td>0.0</td>\n",
       "      <td>0.0</td>\n",
       "      <td>0.0</td>\n",
       "      <td>0.0</td>\n",
       "      <td>0.0</td>\n",
       "      <td>1.0</td>\n",
       "      <td>0.0</td>\n",
       "      <td>0.0</td>\n",
       "      <td>0.0</td>\n",
       "      <td>0.0</td>\n",
       "      <td>0.0</td>\n",
       "      <td>0.0</td>\n",
       "      <td>1.0</td>\n",
       "      <td>0.0</td>\n",
       "      <td>0.0</td>\n",
       "      <td>0.0</td>\n",
       "      <td>0.0</td>\n",
       "      <td>0.0</td>\n",
       "      <td>1.0</td>\n",
       "      <td>0.0</td>\n",
       "      <td>0.0</td>\n",
       "      <td>0.0</td>\n",
       "      <td>1.0</td>\n",
       "      <td>0.0</td>\n",
       "      <td>0.0</td>\n",
       "      <td>0.0</td>\n",
       "      <td>1.0</td>\n",
       "      <td>0.0</td>\n",
       "      <td>0.0</td>\n",
       "      <td>0.0</td>\n",
       "      <td>0.0</td>\n",
       "      <td>1.0</td>\n",
       "      <td>0.0</td>\n",
       "      <td>0.0</td>\n",
       "      <td>0.0</td>\n",
       "      <td>0.0</td>\n",
       "      <td>1.0</td>\n",
       "      <td>0.0</td>\n",
       "      <td>0.0</td>\n",
       "      <td>0.0</td>\n",
       "      <td>0.0</td>\n",
       "      <td>0.0</td>\n",
       "      <td>0.0</td>\n",
       "      <td>0.0</td>\n",
       "      <td>0.0</td>\n",
       "      <td>1.0</td>\n",
       "      <td>0.0</td>\n",
       "      <td>0.0</td>\n",
       "      <td>0.0</td>\n",
       "      <td>0.0</td>\n",
       "      <td>1.0</td>\n",
       "      <td>0.0</td>\n",
       "    </tr>\n",
       "    <tr>\n",
       "      <th>...</th>\n",
       "      <td>...</td>\n",
       "      <td>...</td>\n",
       "      <td>...</td>\n",
       "      <td>...</td>\n",
       "      <td>...</td>\n",
       "      <td>...</td>\n",
       "      <td>...</td>\n",
       "      <td>...</td>\n",
       "      <td>...</td>\n",
       "      <td>...</td>\n",
       "      <td>...</td>\n",
       "      <td>...</td>\n",
       "      <td>...</td>\n",
       "      <td>...</td>\n",
       "      <td>...</td>\n",
       "      <td>...</td>\n",
       "      <td>...</td>\n",
       "      <td>...</td>\n",
       "      <td>...</td>\n",
       "      <td>...</td>\n",
       "      <td>...</td>\n",
       "      <td>...</td>\n",
       "      <td>...</td>\n",
       "      <td>...</td>\n",
       "      <td>...</td>\n",
       "      <td>...</td>\n",
       "      <td>...</td>\n",
       "      <td>...</td>\n",
       "      <td>...</td>\n",
       "      <td>...</td>\n",
       "      <td>...</td>\n",
       "      <td>...</td>\n",
       "      <td>...</td>\n",
       "      <td>...</td>\n",
       "      <td>...</td>\n",
       "      <td>...</td>\n",
       "      <td>...</td>\n",
       "      <td>...</td>\n",
       "      <td>...</td>\n",
       "      <td>...</td>\n",
       "      <td>...</td>\n",
       "      <td>...</td>\n",
       "      <td>...</td>\n",
       "      <td>...</td>\n",
       "      <td>...</td>\n",
       "      <td>...</td>\n",
       "      <td>...</td>\n",
       "      <td>...</td>\n",
       "      <td>...</td>\n",
       "      <td>...</td>\n",
       "      <td>...</td>\n",
       "      <td>...</td>\n",
       "      <td>...</td>\n",
       "      <td>...</td>\n",
       "      <td>...</td>\n",
       "      <td>...</td>\n",
       "      <td>...</td>\n",
       "      <td>...</td>\n",
       "      <td>...</td>\n",
       "      <td>...</td>\n",
       "      <td>...</td>\n",
       "      <td>...</td>\n",
       "      <td>...</td>\n",
       "      <td>...</td>\n",
       "      <td>...</td>\n",
       "      <td>...</td>\n",
       "      <td>...</td>\n",
       "      <td>...</td>\n",
       "      <td>...</td>\n",
       "      <td>...</td>\n",
       "      <td>...</td>\n",
       "      <td>...</td>\n",
       "      <td>...</td>\n",
       "      <td>...</td>\n",
       "      <td>...</td>\n",
       "      <td>...</td>\n",
       "      <td>...</td>\n",
       "      <td>...</td>\n",
       "      <td>...</td>\n",
       "      <td>...</td>\n",
       "      <td>...</td>\n",
       "      <td>...</td>\n",
       "      <td>...</td>\n",
       "      <td>...</td>\n",
       "      <td>...</td>\n",
       "      <td>...</td>\n",
       "      <td>...</td>\n",
       "      <td>...</td>\n",
       "      <td>...</td>\n",
       "      <td>...</td>\n",
       "      <td>...</td>\n",
       "      <td>...</td>\n",
       "      <td>...</td>\n",
       "      <td>...</td>\n",
       "      <td>...</td>\n",
       "      <td>...</td>\n",
       "      <td>...</td>\n",
       "      <td>...</td>\n",
       "      <td>...</td>\n",
       "      <td>...</td>\n",
       "      <td>...</td>\n",
       "      <td>...</td>\n",
       "      <td>...</td>\n",
       "      <td>...</td>\n",
       "      <td>...</td>\n",
       "      <td>...</td>\n",
       "      <td>...</td>\n",
       "      <td>...</td>\n",
       "      <td>...</td>\n",
       "      <td>...</td>\n",
       "      <td>...</td>\n",
       "      <td>...</td>\n",
       "      <td>...</td>\n",
       "      <td>...</td>\n",
       "      <td>...</td>\n",
       "      <td>...</td>\n",
       "      <td>...</td>\n",
       "      <td>...</td>\n",
       "      <td>...</td>\n",
       "      <td>...</td>\n",
       "      <td>...</td>\n",
       "      <td>...</td>\n",
       "      <td>...</td>\n",
       "      <td>...</td>\n",
       "      <td>...</td>\n",
       "      <td>...</td>\n",
       "      <td>...</td>\n",
       "      <td>...</td>\n",
       "      <td>...</td>\n",
       "      <td>...</td>\n",
       "      <td>...</td>\n",
       "      <td>...</td>\n",
       "      <td>...</td>\n",
       "      <td>...</td>\n",
       "      <td>...</td>\n",
       "      <td>...</td>\n",
       "      <td>...</td>\n",
       "      <td>...</td>\n",
       "      <td>...</td>\n",
       "      <td>...</td>\n",
       "      <td>...</td>\n",
       "      <td>...</td>\n",
       "      <td>...</td>\n",
       "      <td>...</td>\n",
       "      <td>...</td>\n",
       "      <td>...</td>\n",
       "      <td>...</td>\n",
       "      <td>...</td>\n",
       "      <td>...</td>\n",
       "      <td>...</td>\n",
       "      <td>...</td>\n",
       "      <td>...</td>\n",
       "      <td>...</td>\n",
       "      <td>...</td>\n",
       "      <td>...</td>\n",
       "      <td>...</td>\n",
       "      <td>...</td>\n",
       "      <td>...</td>\n",
       "      <td>...</td>\n",
       "      <td>...</td>\n",
       "      <td>...</td>\n",
       "      <td>...</td>\n",
       "      <td>...</td>\n",
       "      <td>...</td>\n",
       "      <td>...</td>\n",
       "      <td>...</td>\n",
       "      <td>...</td>\n",
       "      <td>...</td>\n",
       "      <td>...</td>\n",
       "      <td>...</td>\n",
       "      <td>...</td>\n",
       "      <td>...</td>\n",
       "      <td>...</td>\n",
       "      <td>...</td>\n",
       "      <td>...</td>\n",
       "      <td>...</td>\n",
       "      <td>...</td>\n",
       "      <td>...</td>\n",
       "      <td>...</td>\n",
       "      <td>...</td>\n",
       "      <td>...</td>\n",
       "      <td>...</td>\n",
       "      <td>...</td>\n",
       "      <td>...</td>\n",
       "      <td>...</td>\n",
       "      <td>...</td>\n",
       "      <td>...</td>\n",
       "      <td>...</td>\n",
       "      <td>...</td>\n",
       "      <td>...</td>\n",
       "      <td>...</td>\n",
       "      <td>...</td>\n",
       "      <td>...</td>\n",
       "      <td>...</td>\n",
       "      <td>...</td>\n",
       "      <td>...</td>\n",
       "      <td>...</td>\n",
       "      <td>...</td>\n",
       "      <td>...</td>\n",
       "      <td>...</td>\n",
       "      <td>...</td>\n",
       "    </tr>\n",
       "    <tr>\n",
       "      <th>1455</th>\n",
       "      <td>0.235294</td>\n",
       "      <td>RL</td>\n",
       "      <td>0.140411</td>\n",
       "      <td>0.030929</td>\n",
       "      <td>Pave</td>\n",
       "      <td>NaN</td>\n",
       "      <td>Reg</td>\n",
       "      <td>Lvl</td>\n",
       "      <td>AllPub</td>\n",
       "      <td>Inside</td>\n",
       "      <td>Gtl</td>\n",
       "      <td>Gilbert</td>\n",
       "      <td>Norm</td>\n",
       "      <td>Norm</td>\n",
       "      <td>1Fam</td>\n",
       "      <td>2Story</td>\n",
       "      <td>0.555556</td>\n",
       "      <td>0.500</td>\n",
       "      <td>0.920290</td>\n",
       "      <td>0.833333</td>\n",
       "      <td>Gable</td>\n",
       "      <td>CompShg</td>\n",
       "      <td>VinylSd</td>\n",
       "      <td>VinylSd</td>\n",
       "      <td>None</td>\n",
       "      <td>0.000000</td>\n",
       "      <td>TA</td>\n",
       "      <td>TA</td>\n",
       "      <td>PConc</td>\n",
       "      <td>Gd</td>\n",
       "      <td>TA</td>\n",
       "      <td>No</td>\n",
       "      <td>Unf</td>\n",
       "      <td>0.000000</td>\n",
       "      <td>Unf</td>\n",
       "      <td>0.000000</td>\n",
       "      <td>0.407962</td>\n",
       "      <td>0.155974</td>\n",
       "      <td>GasA</td>\n",
       "      <td>Ex</td>\n",
       "      <td>Y</td>\n",
       "      <td>SBrkr</td>\n",
       "      <td>0.142038</td>\n",
       "      <td>0.336077</td>\n",
       "      <td>0.0</td>\n",
       "      <td>0.247362</td>\n",
       "      <td>0.000000</td>\n",
       "      <td>0.0</td>\n",
       "      <td>0.666667</td>\n",
       "      <td>0.5</td>\n",
       "      <td>0.375</td>\n",
       "      <td>0.333333</td>\n",
       "      <td>TA</td>\n",
       "      <td>0.416667</td>\n",
       "      <td>Typ</td>\n",
       "      <td>0.333333</td>\n",
       "      <td>TA</td>\n",
       "      <td>Attchd</td>\n",
       "      <td>0.900000</td>\n",
       "      <td>RFn</td>\n",
       "      <td>0.50</td>\n",
       "      <td>0.324401</td>\n",
       "      <td>TA</td>\n",
       "      <td>TA</td>\n",
       "      <td>Y</td>\n",
       "      <td>0.000000</td>\n",
       "      <td>0.073126</td>\n",
       "      <td>0.000000</td>\n",
       "      <td>0.0</td>\n",
       "      <td>0.0</td>\n",
       "      <td>0.0</td>\n",
       "      <td>NaN</td>\n",
       "      <td>NaN</td>\n",
       "      <td>NaN</td>\n",
       "      <td>0.00000</td>\n",
       "      <td>0.636364</td>\n",
       "      <td>0.25</td>\n",
       "      <td>WD</td>\n",
       "      <td>Normal</td>\n",
       "      <td>0.0</td>\n",
       "      <td>0.0</td>\n",
       "      <td>0.0</td>\n",
       "      <td>1.0</td>\n",
       "      <td>0.0</td>\n",
       "      <td>0.0</td>\n",
       "      <td>1.0</td>\n",
       "      <td>0.0</td>\n",
       "      <td>0.0</td>\n",
       "      <td>1.0</td>\n",
       "      <td>0.0</td>\n",
       "      <td>0.0</td>\n",
       "      <td>0.0</td>\n",
       "      <td>1.0</td>\n",
       "      <td>0.0</td>\n",
       "      <td>0.0</td>\n",
       "      <td>0.0</td>\n",
       "      <td>1.0</td>\n",
       "      <td>1.0</td>\n",
       "      <td>0.0</td>\n",
       "      <td>0.0</td>\n",
       "      <td>...</td>\n",
       "      <td>1.0</td>\n",
       "      <td>0.0</td>\n",
       "      <td>0.0</td>\n",
       "      <td>0.0</td>\n",
       "      <td>0.0</td>\n",
       "      <td>0.0</td>\n",
       "      <td>0.0</td>\n",
       "      <td>1.0</td>\n",
       "      <td>0.0</td>\n",
       "      <td>0.0</td>\n",
       "      <td>1.0</td>\n",
       "      <td>0.0</td>\n",
       "      <td>0.0</td>\n",
       "      <td>0.0</td>\n",
       "      <td>0.0</td>\n",
       "      <td>1.0</td>\n",
       "      <td>0.0</td>\n",
       "      <td>0.0</td>\n",
       "      <td>0.0</td>\n",
       "      <td>0.0</td>\n",
       "      <td>0.0</td>\n",
       "      <td>1.0</td>\n",
       "      <td>0.0</td>\n",
       "      <td>0.0</td>\n",
       "      <td>0.0</td>\n",
       "      <td>0.0</td>\n",
       "      <td>1.0</td>\n",
       "      <td>0.0</td>\n",
       "      <td>0.0</td>\n",
       "      <td>0.0</td>\n",
       "      <td>0.0</td>\n",
       "      <td>1.0</td>\n",
       "      <td>0.0</td>\n",
       "      <td>0.0</td>\n",
       "      <td>0.0</td>\n",
       "      <td>0.0</td>\n",
       "      <td>0.0</td>\n",
       "      <td>0.0</td>\n",
       "      <td>1.0</td>\n",
       "      <td>0.0</td>\n",
       "      <td>0.0</td>\n",
       "      <td>0.0</td>\n",
       "      <td>0.0</td>\n",
       "      <td>1.0</td>\n",
       "      <td>0.0</td>\n",
       "      <td>0.0</td>\n",
       "      <td>1.0</td>\n",
       "      <td>0.0</td>\n",
       "      <td>0.0</td>\n",
       "      <td>0.0</td>\n",
       "      <td>0.0</td>\n",
       "      <td>0.0</td>\n",
       "      <td>0.0</td>\n",
       "      <td>1.0</td>\n",
       "      <td>0.0</td>\n",
       "      <td>0.0</td>\n",
       "      <td>0.0</td>\n",
       "      <td>0.0</td>\n",
       "      <td>0.0</td>\n",
       "      <td>0.0</td>\n",
       "      <td>1.0</td>\n",
       "      <td>0.0</td>\n",
       "      <td>0.0</td>\n",
       "      <td>0.0</td>\n",
       "      <td>0.0</td>\n",
       "      <td>0.0</td>\n",
       "      <td>1.0</td>\n",
       "      <td>0.0</td>\n",
       "      <td>0.0</td>\n",
       "      <td>0.0</td>\n",
       "      <td>1.0</td>\n",
       "      <td>0.0</td>\n",
       "      <td>0.0</td>\n",
       "      <td>0.0</td>\n",
       "      <td>1.0</td>\n",
       "      <td>0.0</td>\n",
       "      <td>0.0</td>\n",
       "      <td>0.0</td>\n",
       "      <td>0.0</td>\n",
       "      <td>1.0</td>\n",
       "      <td>0.0</td>\n",
       "      <td>0.0</td>\n",
       "      <td>0.0</td>\n",
       "      <td>0.0</td>\n",
       "      <td>1.0</td>\n",
       "      <td>0.0</td>\n",
       "      <td>0.0</td>\n",
       "      <td>0.0</td>\n",
       "      <td>0.0</td>\n",
       "      <td>0.0</td>\n",
       "      <td>0.0</td>\n",
       "      <td>0.0</td>\n",
       "      <td>0.0</td>\n",
       "      <td>1.0</td>\n",
       "      <td>0.0</td>\n",
       "      <td>0.0</td>\n",
       "      <td>0.0</td>\n",
       "      <td>0.0</td>\n",
       "      <td>1.0</td>\n",
       "      <td>0.0</td>\n",
       "    </tr>\n",
       "    <tr>\n",
       "      <th>1456</th>\n",
       "      <td>0.000000</td>\n",
       "      <td>RL</td>\n",
       "      <td>0.219178</td>\n",
       "      <td>0.055505</td>\n",
       "      <td>Pave</td>\n",
       "      <td>NaN</td>\n",
       "      <td>Reg</td>\n",
       "      <td>Lvl</td>\n",
       "      <td>AllPub</td>\n",
       "      <td>Inside</td>\n",
       "      <td>Gtl</td>\n",
       "      <td>NWAmes</td>\n",
       "      <td>Norm</td>\n",
       "      <td>Norm</td>\n",
       "      <td>1Fam</td>\n",
       "      <td>1Story</td>\n",
       "      <td>0.555556</td>\n",
       "      <td>0.625</td>\n",
       "      <td>0.768116</td>\n",
       "      <td>0.633333</td>\n",
       "      <td>Gable</td>\n",
       "      <td>CompShg</td>\n",
       "      <td>Plywood</td>\n",
       "      <td>Plywood</td>\n",
       "      <td>Stone</td>\n",
       "      <td>0.074375</td>\n",
       "      <td>TA</td>\n",
       "      <td>TA</td>\n",
       "      <td>CBlock</td>\n",
       "      <td>Gd</td>\n",
       "      <td>TA</td>\n",
       "      <td>No</td>\n",
       "      <td>ALQ</td>\n",
       "      <td>0.139972</td>\n",
       "      <td>Rec</td>\n",
       "      <td>0.110583</td>\n",
       "      <td>0.252140</td>\n",
       "      <td>0.252373</td>\n",
       "      <td>GasA</td>\n",
       "      <td>TA</td>\n",
       "      <td>Y</td>\n",
       "      <td>SBrkr</td>\n",
       "      <td>0.399036</td>\n",
       "      <td>0.000000</td>\n",
       "      <td>0.0</td>\n",
       "      <td>0.327619</td>\n",
       "      <td>0.333333</td>\n",
       "      <td>0.0</td>\n",
       "      <td>0.666667</td>\n",
       "      <td>0.0</td>\n",
       "      <td>0.375</td>\n",
       "      <td>0.333333</td>\n",
       "      <td>TA</td>\n",
       "      <td>0.416667</td>\n",
       "      <td>Min1</td>\n",
       "      <td>0.666667</td>\n",
       "      <td>TA</td>\n",
       "      <td>Attchd</td>\n",
       "      <td>0.709091</td>\n",
       "      <td>Unf</td>\n",
       "      <td>0.50</td>\n",
       "      <td>0.352609</td>\n",
       "      <td>TA</td>\n",
       "      <td>TA</td>\n",
       "      <td>Y</td>\n",
       "      <td>0.407235</td>\n",
       "      <td>0.000000</td>\n",
       "      <td>0.000000</td>\n",
       "      <td>0.0</td>\n",
       "      <td>0.0</td>\n",
       "      <td>0.0</td>\n",
       "      <td>NaN</td>\n",
       "      <td>MnPrv</td>\n",
       "      <td>NaN</td>\n",
       "      <td>0.00000</td>\n",
       "      <td>0.090909</td>\n",
       "      <td>1.00</td>\n",
       "      <td>WD</td>\n",
       "      <td>Normal</td>\n",
       "      <td>0.0</td>\n",
       "      <td>0.0</td>\n",
       "      <td>0.0</td>\n",
       "      <td>1.0</td>\n",
       "      <td>0.0</td>\n",
       "      <td>0.0</td>\n",
       "      <td>1.0</td>\n",
       "      <td>0.0</td>\n",
       "      <td>0.0</td>\n",
       "      <td>1.0</td>\n",
       "      <td>0.0</td>\n",
       "      <td>0.0</td>\n",
       "      <td>0.0</td>\n",
       "      <td>1.0</td>\n",
       "      <td>0.0</td>\n",
       "      <td>0.0</td>\n",
       "      <td>0.0</td>\n",
       "      <td>1.0</td>\n",
       "      <td>1.0</td>\n",
       "      <td>0.0</td>\n",
       "      <td>0.0</td>\n",
       "      <td>...</td>\n",
       "      <td>0.0</td>\n",
       "      <td>0.0</td>\n",
       "      <td>0.0</td>\n",
       "      <td>0.0</td>\n",
       "      <td>0.0</td>\n",
       "      <td>0.0</td>\n",
       "      <td>1.0</td>\n",
       "      <td>0.0</td>\n",
       "      <td>0.0</td>\n",
       "      <td>0.0</td>\n",
       "      <td>1.0</td>\n",
       "      <td>0.0</td>\n",
       "      <td>0.0</td>\n",
       "      <td>0.0</td>\n",
       "      <td>0.0</td>\n",
       "      <td>0.0</td>\n",
       "      <td>0.0</td>\n",
       "      <td>0.0</td>\n",
       "      <td>0.0</td>\n",
       "      <td>1.0</td>\n",
       "      <td>0.0</td>\n",
       "      <td>1.0</td>\n",
       "      <td>0.0</td>\n",
       "      <td>0.0</td>\n",
       "      <td>0.0</td>\n",
       "      <td>0.0</td>\n",
       "      <td>1.0</td>\n",
       "      <td>0.0</td>\n",
       "      <td>0.0</td>\n",
       "      <td>0.0</td>\n",
       "      <td>0.0</td>\n",
       "      <td>1.0</td>\n",
       "      <td>0.0</td>\n",
       "      <td>0.0</td>\n",
       "      <td>1.0</td>\n",
       "      <td>0.0</td>\n",
       "      <td>0.0</td>\n",
       "      <td>0.0</td>\n",
       "      <td>0.0</td>\n",
       "      <td>0.0</td>\n",
       "      <td>0.0</td>\n",
       "      <td>0.0</td>\n",
       "      <td>0.0</td>\n",
       "      <td>1.0</td>\n",
       "      <td>0.0</td>\n",
       "      <td>0.0</td>\n",
       "      <td>1.0</td>\n",
       "      <td>0.0</td>\n",
       "      <td>0.0</td>\n",
       "      <td>0.0</td>\n",
       "      <td>0.0</td>\n",
       "      <td>0.0</td>\n",
       "      <td>0.0</td>\n",
       "      <td>0.0</td>\n",
       "      <td>1.0</td>\n",
       "      <td>0.0</td>\n",
       "      <td>0.0</td>\n",
       "      <td>0.0</td>\n",
       "      <td>0.0</td>\n",
       "      <td>0.0</td>\n",
       "      <td>1.0</td>\n",
       "      <td>0.0</td>\n",
       "      <td>0.0</td>\n",
       "      <td>0.0</td>\n",
       "      <td>0.0</td>\n",
       "      <td>0.0</td>\n",
       "      <td>1.0</td>\n",
       "      <td>0.0</td>\n",
       "      <td>0.0</td>\n",
       "      <td>0.0</td>\n",
       "      <td>1.0</td>\n",
       "      <td>0.0</td>\n",
       "      <td>0.0</td>\n",
       "      <td>0.0</td>\n",
       "      <td>1.0</td>\n",
       "      <td>0.0</td>\n",
       "      <td>0.0</td>\n",
       "      <td>1.0</td>\n",
       "      <td>0.0</td>\n",
       "      <td>0.0</td>\n",
       "      <td>0.0</td>\n",
       "      <td>0.0</td>\n",
       "      <td>0.0</td>\n",
       "      <td>0.0</td>\n",
       "      <td>1.0</td>\n",
       "      <td>0.0</td>\n",
       "      <td>0.0</td>\n",
       "      <td>0.0</td>\n",
       "      <td>0.0</td>\n",
       "      <td>0.0</td>\n",
       "      <td>0.0</td>\n",
       "      <td>0.0</td>\n",
       "      <td>0.0</td>\n",
       "      <td>1.0</td>\n",
       "      <td>0.0</td>\n",
       "      <td>0.0</td>\n",
       "      <td>0.0</td>\n",
       "      <td>0.0</td>\n",
       "      <td>1.0</td>\n",
       "      <td>0.0</td>\n",
       "    </tr>\n",
       "    <tr>\n",
       "      <th>1457</th>\n",
       "      <td>0.294118</td>\n",
       "      <td>RL</td>\n",
       "      <td>0.154110</td>\n",
       "      <td>0.036187</td>\n",
       "      <td>Pave</td>\n",
       "      <td>NaN</td>\n",
       "      <td>Reg</td>\n",
       "      <td>Lvl</td>\n",
       "      <td>AllPub</td>\n",
       "      <td>Inside</td>\n",
       "      <td>Gtl</td>\n",
       "      <td>Crawfor</td>\n",
       "      <td>Norm</td>\n",
       "      <td>Norm</td>\n",
       "      <td>1Fam</td>\n",
       "      <td>2Story</td>\n",
       "      <td>0.666667</td>\n",
       "      <td>1.000</td>\n",
       "      <td>0.500000</td>\n",
       "      <td>0.933333</td>\n",
       "      <td>Gable</td>\n",
       "      <td>CompShg</td>\n",
       "      <td>CemntBd</td>\n",
       "      <td>CmentBd</td>\n",
       "      <td>None</td>\n",
       "      <td>0.000000</td>\n",
       "      <td>Ex</td>\n",
       "      <td>Gd</td>\n",
       "      <td>Stone</td>\n",
       "      <td>TA</td>\n",
       "      <td>Gd</td>\n",
       "      <td>No</td>\n",
       "      <td>GLQ</td>\n",
       "      <td>0.048724</td>\n",
       "      <td>Unf</td>\n",
       "      <td>0.000000</td>\n",
       "      <td>0.375428</td>\n",
       "      <td>0.188543</td>\n",
       "      <td>GasA</td>\n",
       "      <td>Ex</td>\n",
       "      <td>Y</td>\n",
       "      <td>SBrkr</td>\n",
       "      <td>0.195961</td>\n",
       "      <td>0.557869</td>\n",
       "      <td>0.0</td>\n",
       "      <td>0.377920</td>\n",
       "      <td>0.000000</td>\n",
       "      <td>0.0</td>\n",
       "      <td>0.666667</td>\n",
       "      <td>0.0</td>\n",
       "      <td>0.500</td>\n",
       "      <td>0.333333</td>\n",
       "      <td>Gd</td>\n",
       "      <td>0.583333</td>\n",
       "      <td>Typ</td>\n",
       "      <td>0.666667</td>\n",
       "      <td>Gd</td>\n",
       "      <td>Attchd</td>\n",
       "      <td>0.372727</td>\n",
       "      <td>RFn</td>\n",
       "      <td>0.25</td>\n",
       "      <td>0.177715</td>\n",
       "      <td>TA</td>\n",
       "      <td>TA</td>\n",
       "      <td>Y</td>\n",
       "      <td>0.000000</td>\n",
       "      <td>0.109689</td>\n",
       "      <td>0.000000</td>\n",
       "      <td>0.0</td>\n",
       "      <td>0.0</td>\n",
       "      <td>0.0</td>\n",
       "      <td>NaN</td>\n",
       "      <td>GdPrv</td>\n",
       "      <td>Shed</td>\n",
       "      <td>0.16129</td>\n",
       "      <td>0.363636</td>\n",
       "      <td>1.00</td>\n",
       "      <td>WD</td>\n",
       "      <td>Normal</td>\n",
       "      <td>0.0</td>\n",
       "      <td>0.0</td>\n",
       "      <td>0.0</td>\n",
       "      <td>1.0</td>\n",
       "      <td>0.0</td>\n",
       "      <td>0.0</td>\n",
       "      <td>1.0</td>\n",
       "      <td>0.0</td>\n",
       "      <td>0.0</td>\n",
       "      <td>1.0</td>\n",
       "      <td>0.0</td>\n",
       "      <td>0.0</td>\n",
       "      <td>0.0</td>\n",
       "      <td>1.0</td>\n",
       "      <td>0.0</td>\n",
       "      <td>0.0</td>\n",
       "      <td>0.0</td>\n",
       "      <td>1.0</td>\n",
       "      <td>1.0</td>\n",
       "      <td>0.0</td>\n",
       "      <td>0.0</td>\n",
       "      <td>...</td>\n",
       "      <td>0.0</td>\n",
       "      <td>0.0</td>\n",
       "      <td>0.0</td>\n",
       "      <td>0.0</td>\n",
       "      <td>0.0</td>\n",
       "      <td>0.0</td>\n",
       "      <td>0.0</td>\n",
       "      <td>1.0</td>\n",
       "      <td>0.0</td>\n",
       "      <td>0.0</td>\n",
       "      <td>1.0</td>\n",
       "      <td>0.0</td>\n",
       "      <td>0.0</td>\n",
       "      <td>0.0</td>\n",
       "      <td>0.0</td>\n",
       "      <td>1.0</td>\n",
       "      <td>0.0</td>\n",
       "      <td>0.0</td>\n",
       "      <td>0.0</td>\n",
       "      <td>0.0</td>\n",
       "      <td>0.0</td>\n",
       "      <td>1.0</td>\n",
       "      <td>0.0</td>\n",
       "      <td>0.0</td>\n",
       "      <td>0.0</td>\n",
       "      <td>0.0</td>\n",
       "      <td>1.0</td>\n",
       "      <td>0.0</td>\n",
       "      <td>0.0</td>\n",
       "      <td>0.0</td>\n",
       "      <td>1.0</td>\n",
       "      <td>0.0</td>\n",
       "      <td>0.0</td>\n",
       "      <td>0.0</td>\n",
       "      <td>0.0</td>\n",
       "      <td>0.0</td>\n",
       "      <td>0.0</td>\n",
       "      <td>0.0</td>\n",
       "      <td>1.0</td>\n",
       "      <td>0.0</td>\n",
       "      <td>0.0</td>\n",
       "      <td>1.0</td>\n",
       "      <td>0.0</td>\n",
       "      <td>0.0</td>\n",
       "      <td>0.0</td>\n",
       "      <td>0.0</td>\n",
       "      <td>1.0</td>\n",
       "      <td>0.0</td>\n",
       "      <td>0.0</td>\n",
       "      <td>0.0</td>\n",
       "      <td>0.0</td>\n",
       "      <td>0.0</td>\n",
       "      <td>0.0</td>\n",
       "      <td>1.0</td>\n",
       "      <td>0.0</td>\n",
       "      <td>0.0</td>\n",
       "      <td>0.0</td>\n",
       "      <td>0.0</td>\n",
       "      <td>0.0</td>\n",
       "      <td>0.0</td>\n",
       "      <td>1.0</td>\n",
       "      <td>0.0</td>\n",
       "      <td>0.0</td>\n",
       "      <td>0.0</td>\n",
       "      <td>0.0</td>\n",
       "      <td>0.0</td>\n",
       "      <td>1.0</td>\n",
       "      <td>0.0</td>\n",
       "      <td>0.0</td>\n",
       "      <td>0.0</td>\n",
       "      <td>1.0</td>\n",
       "      <td>0.0</td>\n",
       "      <td>0.0</td>\n",
       "      <td>0.0</td>\n",
       "      <td>1.0</td>\n",
       "      <td>1.0</td>\n",
       "      <td>0.0</td>\n",
       "      <td>0.0</td>\n",
       "      <td>0.0</td>\n",
       "      <td>0.0</td>\n",
       "      <td>0.0</td>\n",
       "      <td>0.0</td>\n",
       "      <td>1.0</td>\n",
       "      <td>0.0</td>\n",
       "      <td>0.0</td>\n",
       "      <td>0.0</td>\n",
       "      <td>0.0</td>\n",
       "      <td>0.0</td>\n",
       "      <td>0.0</td>\n",
       "      <td>0.0</td>\n",
       "      <td>0.0</td>\n",
       "      <td>0.0</td>\n",
       "      <td>0.0</td>\n",
       "      <td>1.0</td>\n",
       "      <td>0.0</td>\n",
       "      <td>0.0</td>\n",
       "      <td>0.0</td>\n",
       "      <td>0.0</td>\n",
       "      <td>1.0</td>\n",
       "      <td>0.0</td>\n",
       "    </tr>\n",
       "    <tr>\n",
       "      <th>1458</th>\n",
       "      <td>0.000000</td>\n",
       "      <td>RL</td>\n",
       "      <td>0.160959</td>\n",
       "      <td>0.039342</td>\n",
       "      <td>Pave</td>\n",
       "      <td>NaN</td>\n",
       "      <td>Reg</td>\n",
       "      <td>Lvl</td>\n",
       "      <td>AllPub</td>\n",
       "      <td>Inside</td>\n",
       "      <td>Gtl</td>\n",
       "      <td>NAmes</td>\n",
       "      <td>Norm</td>\n",
       "      <td>Norm</td>\n",
       "      <td>1Fam</td>\n",
       "      <td>1Story</td>\n",
       "      <td>0.444444</td>\n",
       "      <td>0.625</td>\n",
       "      <td>0.565217</td>\n",
       "      <td>0.766667</td>\n",
       "      <td>Hip</td>\n",
       "      <td>CompShg</td>\n",
       "      <td>MetalSd</td>\n",
       "      <td>MetalSd</td>\n",
       "      <td>None</td>\n",
       "      <td>0.000000</td>\n",
       "      <td>TA</td>\n",
       "      <td>TA</td>\n",
       "      <td>CBlock</td>\n",
       "      <td>TA</td>\n",
       "      <td>TA</td>\n",
       "      <td>Mn</td>\n",
       "      <td>GLQ</td>\n",
       "      <td>0.008682</td>\n",
       "      <td>Rec</td>\n",
       "      <td>0.698100</td>\n",
       "      <td>0.000000</td>\n",
       "      <td>0.176432</td>\n",
       "      <td>GasA</td>\n",
       "      <td>Gd</td>\n",
       "      <td>Y</td>\n",
       "      <td>FuseA</td>\n",
       "      <td>0.170721</td>\n",
       "      <td>0.000000</td>\n",
       "      <td>0.0</td>\n",
       "      <td>0.140166</td>\n",
       "      <td>0.333333</td>\n",
       "      <td>0.0</td>\n",
       "      <td>0.333333</td>\n",
       "      <td>0.0</td>\n",
       "      <td>0.250</td>\n",
       "      <td>0.333333</td>\n",
       "      <td>Gd</td>\n",
       "      <td>0.250000</td>\n",
       "      <td>Typ</td>\n",
       "      <td>0.000000</td>\n",
       "      <td>NaN</td>\n",
       "      <td>Attchd</td>\n",
       "      <td>0.454545</td>\n",
       "      <td>Unf</td>\n",
       "      <td>0.25</td>\n",
       "      <td>0.169252</td>\n",
       "      <td>TA</td>\n",
       "      <td>TA</td>\n",
       "      <td>Y</td>\n",
       "      <td>0.427071</td>\n",
       "      <td>0.000000</td>\n",
       "      <td>0.202899</td>\n",
       "      <td>0.0</td>\n",
       "      <td>0.0</td>\n",
       "      <td>0.0</td>\n",
       "      <td>NaN</td>\n",
       "      <td>NaN</td>\n",
       "      <td>NaN</td>\n",
       "      <td>0.00000</td>\n",
       "      <td>0.272727</td>\n",
       "      <td>1.00</td>\n",
       "      <td>WD</td>\n",
       "      <td>Normal</td>\n",
       "      <td>0.0</td>\n",
       "      <td>0.0</td>\n",
       "      <td>0.0</td>\n",
       "      <td>1.0</td>\n",
       "      <td>0.0</td>\n",
       "      <td>0.0</td>\n",
       "      <td>1.0</td>\n",
       "      <td>0.0</td>\n",
       "      <td>0.0</td>\n",
       "      <td>1.0</td>\n",
       "      <td>0.0</td>\n",
       "      <td>0.0</td>\n",
       "      <td>0.0</td>\n",
       "      <td>1.0</td>\n",
       "      <td>0.0</td>\n",
       "      <td>0.0</td>\n",
       "      <td>0.0</td>\n",
       "      <td>1.0</td>\n",
       "      <td>1.0</td>\n",
       "      <td>0.0</td>\n",
       "      <td>0.0</td>\n",
       "      <td>...</td>\n",
       "      <td>0.0</td>\n",
       "      <td>0.0</td>\n",
       "      <td>0.0</td>\n",
       "      <td>0.0</td>\n",
       "      <td>0.0</td>\n",
       "      <td>0.0</td>\n",
       "      <td>1.0</td>\n",
       "      <td>0.0</td>\n",
       "      <td>0.0</td>\n",
       "      <td>0.0</td>\n",
       "      <td>1.0</td>\n",
       "      <td>0.0</td>\n",
       "      <td>0.0</td>\n",
       "      <td>0.0</td>\n",
       "      <td>0.0</td>\n",
       "      <td>0.0</td>\n",
       "      <td>0.0</td>\n",
       "      <td>1.0</td>\n",
       "      <td>0.0</td>\n",
       "      <td>0.0</td>\n",
       "      <td>0.0</td>\n",
       "      <td>1.0</td>\n",
       "      <td>1.0</td>\n",
       "      <td>0.0</td>\n",
       "      <td>0.0</td>\n",
       "      <td>0.0</td>\n",
       "      <td>0.0</td>\n",
       "      <td>0.0</td>\n",
       "      <td>0.0</td>\n",
       "      <td>0.0</td>\n",
       "      <td>1.0</td>\n",
       "      <td>0.0</td>\n",
       "      <td>0.0</td>\n",
       "      <td>0.0</td>\n",
       "      <td>0.0</td>\n",
       "      <td>0.0</td>\n",
       "      <td>0.0</td>\n",
       "      <td>0.0</td>\n",
       "      <td>1.0</td>\n",
       "      <td>0.0</td>\n",
       "      <td>0.0</td>\n",
       "      <td>0.0</td>\n",
       "      <td>0.0</td>\n",
       "      <td>0.0</td>\n",
       "      <td>1.0</td>\n",
       "      <td>0.0</td>\n",
       "      <td>1.0</td>\n",
       "      <td>0.0</td>\n",
       "      <td>0.0</td>\n",
       "      <td>0.0</td>\n",
       "      <td>0.0</td>\n",
       "      <td>0.0</td>\n",
       "      <td>0.0</td>\n",
       "      <td>0.0</td>\n",
       "      <td>1.0</td>\n",
       "      <td>0.0</td>\n",
       "      <td>0.0</td>\n",
       "      <td>0.0</td>\n",
       "      <td>0.0</td>\n",
       "      <td>0.0</td>\n",
       "      <td>1.0</td>\n",
       "      <td>0.0</td>\n",
       "      <td>0.0</td>\n",
       "      <td>0.0</td>\n",
       "      <td>0.0</td>\n",
       "      <td>0.0</td>\n",
       "      <td>1.0</td>\n",
       "      <td>0.0</td>\n",
       "      <td>0.0</td>\n",
       "      <td>0.0</td>\n",
       "      <td>1.0</td>\n",
       "      <td>0.0</td>\n",
       "      <td>0.0</td>\n",
       "      <td>0.0</td>\n",
       "      <td>1.0</td>\n",
       "      <td>0.0</td>\n",
       "      <td>0.0</td>\n",
       "      <td>0.0</td>\n",
       "      <td>0.0</td>\n",
       "      <td>1.0</td>\n",
       "      <td>0.0</td>\n",
       "      <td>0.0</td>\n",
       "      <td>0.0</td>\n",
       "      <td>0.0</td>\n",
       "      <td>1.0</td>\n",
       "      <td>0.0</td>\n",
       "      <td>0.0</td>\n",
       "      <td>0.0</td>\n",
       "      <td>0.0</td>\n",
       "      <td>0.0</td>\n",
       "      <td>0.0</td>\n",
       "      <td>0.0</td>\n",
       "      <td>0.0</td>\n",
       "      <td>1.0</td>\n",
       "      <td>0.0</td>\n",
       "      <td>0.0</td>\n",
       "      <td>0.0</td>\n",
       "      <td>0.0</td>\n",
       "      <td>1.0</td>\n",
       "      <td>0.0</td>\n",
       "    </tr>\n",
       "    <tr>\n",
       "      <th>1459</th>\n",
       "      <td>0.000000</td>\n",
       "      <td>RL</td>\n",
       "      <td>0.184932</td>\n",
       "      <td>0.040370</td>\n",
       "      <td>Pave</td>\n",
       "      <td>NaN</td>\n",
       "      <td>Reg</td>\n",
       "      <td>Lvl</td>\n",
       "      <td>AllPub</td>\n",
       "      <td>Inside</td>\n",
       "      <td>Gtl</td>\n",
       "      <td>Edwards</td>\n",
       "      <td>Norm</td>\n",
       "      <td>Norm</td>\n",
       "      <td>1Fam</td>\n",
       "      <td>1Story</td>\n",
       "      <td>0.444444</td>\n",
       "      <td>0.625</td>\n",
       "      <td>0.673913</td>\n",
       "      <td>0.250000</td>\n",
       "      <td>Gable</td>\n",
       "      <td>CompShg</td>\n",
       "      <td>HdBoard</td>\n",
       "      <td>HdBoard</td>\n",
       "      <td>None</td>\n",
       "      <td>0.000000</td>\n",
       "      <td>Gd</td>\n",
       "      <td>TA</td>\n",
       "      <td>CBlock</td>\n",
       "      <td>TA</td>\n",
       "      <td>TA</td>\n",
       "      <td>No</td>\n",
       "      <td>BLQ</td>\n",
       "      <td>0.147059</td>\n",
       "      <td>LwQ</td>\n",
       "      <td>0.196744</td>\n",
       "      <td>0.058219</td>\n",
       "      <td>0.205565</td>\n",
       "      <td>GasA</td>\n",
       "      <td>Gd</td>\n",
       "      <td>Y</td>\n",
       "      <td>SBrkr</td>\n",
       "      <td>0.211565</td>\n",
       "      <td>0.000000</td>\n",
       "      <td>0.0</td>\n",
       "      <td>0.173700</td>\n",
       "      <td>0.333333</td>\n",
       "      <td>0.0</td>\n",
       "      <td>0.333333</td>\n",
       "      <td>0.5</td>\n",
       "      <td>0.375</td>\n",
       "      <td>0.333333</td>\n",
       "      <td>TA</td>\n",
       "      <td>0.333333</td>\n",
       "      <td>Typ</td>\n",
       "      <td>0.000000</td>\n",
       "      <td>NaN</td>\n",
       "      <td>Attchd</td>\n",
       "      <td>0.590909</td>\n",
       "      <td>Fin</td>\n",
       "      <td>0.25</td>\n",
       "      <td>0.194640</td>\n",
       "      <td>TA</td>\n",
       "      <td>TA</td>\n",
       "      <td>Y</td>\n",
       "      <td>0.858810</td>\n",
       "      <td>0.124314</td>\n",
       "      <td>0.000000</td>\n",
       "      <td>0.0</td>\n",
       "      <td>0.0</td>\n",
       "      <td>0.0</td>\n",
       "      <td>NaN</td>\n",
       "      <td>NaN</td>\n",
       "      <td>NaN</td>\n",
       "      <td>0.00000</td>\n",
       "      <td>0.454545</td>\n",
       "      <td>0.50</td>\n",
       "      <td>WD</td>\n",
       "      <td>Normal</td>\n",
       "      <td>0.0</td>\n",
       "      <td>0.0</td>\n",
       "      <td>0.0</td>\n",
       "      <td>1.0</td>\n",
       "      <td>0.0</td>\n",
       "      <td>0.0</td>\n",
       "      <td>1.0</td>\n",
       "      <td>0.0</td>\n",
       "      <td>0.0</td>\n",
       "      <td>1.0</td>\n",
       "      <td>0.0</td>\n",
       "      <td>0.0</td>\n",
       "      <td>0.0</td>\n",
       "      <td>1.0</td>\n",
       "      <td>0.0</td>\n",
       "      <td>0.0</td>\n",
       "      <td>0.0</td>\n",
       "      <td>1.0</td>\n",
       "      <td>1.0</td>\n",
       "      <td>0.0</td>\n",
       "      <td>0.0</td>\n",
       "      <td>...</td>\n",
       "      <td>0.0</td>\n",
       "      <td>0.0</td>\n",
       "      <td>0.0</td>\n",
       "      <td>0.0</td>\n",
       "      <td>0.0</td>\n",
       "      <td>1.0</td>\n",
       "      <td>0.0</td>\n",
       "      <td>0.0</td>\n",
       "      <td>0.0</td>\n",
       "      <td>0.0</td>\n",
       "      <td>1.0</td>\n",
       "      <td>0.0</td>\n",
       "      <td>0.0</td>\n",
       "      <td>0.0</td>\n",
       "      <td>0.0</td>\n",
       "      <td>0.0</td>\n",
       "      <td>0.0</td>\n",
       "      <td>1.0</td>\n",
       "      <td>0.0</td>\n",
       "      <td>0.0</td>\n",
       "      <td>0.0</td>\n",
       "      <td>1.0</td>\n",
       "      <td>0.0</td>\n",
       "      <td>0.0</td>\n",
       "      <td>0.0</td>\n",
       "      <td>0.0</td>\n",
       "      <td>1.0</td>\n",
       "      <td>0.0</td>\n",
       "      <td>0.0</td>\n",
       "      <td>0.0</td>\n",
       "      <td>0.0</td>\n",
       "      <td>1.0</td>\n",
       "      <td>0.0</td>\n",
       "      <td>0.0</td>\n",
       "      <td>0.0</td>\n",
       "      <td>0.0</td>\n",
       "      <td>0.0</td>\n",
       "      <td>0.0</td>\n",
       "      <td>1.0</td>\n",
       "      <td>0.0</td>\n",
       "      <td>0.0</td>\n",
       "      <td>0.0</td>\n",
       "      <td>0.0</td>\n",
       "      <td>0.0</td>\n",
       "      <td>1.0</td>\n",
       "      <td>0.0</td>\n",
       "      <td>1.0</td>\n",
       "      <td>0.0</td>\n",
       "      <td>0.0</td>\n",
       "      <td>0.0</td>\n",
       "      <td>0.0</td>\n",
       "      <td>0.0</td>\n",
       "      <td>1.0</td>\n",
       "      <td>0.0</td>\n",
       "      <td>0.0</td>\n",
       "      <td>0.0</td>\n",
       "      <td>0.0</td>\n",
       "      <td>0.0</td>\n",
       "      <td>0.0</td>\n",
       "      <td>0.0</td>\n",
       "      <td>1.0</td>\n",
       "      <td>0.0</td>\n",
       "      <td>0.0</td>\n",
       "      <td>0.0</td>\n",
       "      <td>0.0</td>\n",
       "      <td>0.0</td>\n",
       "      <td>1.0</td>\n",
       "      <td>0.0</td>\n",
       "      <td>0.0</td>\n",
       "      <td>0.0</td>\n",
       "      <td>1.0</td>\n",
       "      <td>0.0</td>\n",
       "      <td>0.0</td>\n",
       "      <td>0.0</td>\n",
       "      <td>1.0</td>\n",
       "      <td>0.0</td>\n",
       "      <td>0.0</td>\n",
       "      <td>0.0</td>\n",
       "      <td>0.0</td>\n",
       "      <td>1.0</td>\n",
       "      <td>0.0</td>\n",
       "      <td>0.0</td>\n",
       "      <td>0.0</td>\n",
       "      <td>0.0</td>\n",
       "      <td>1.0</td>\n",
       "      <td>0.0</td>\n",
       "      <td>0.0</td>\n",
       "      <td>0.0</td>\n",
       "      <td>0.0</td>\n",
       "      <td>0.0</td>\n",
       "      <td>0.0</td>\n",
       "      <td>0.0</td>\n",
       "      <td>0.0</td>\n",
       "      <td>1.0</td>\n",
       "      <td>0.0</td>\n",
       "      <td>0.0</td>\n",
       "      <td>0.0</td>\n",
       "      <td>0.0</td>\n",
       "      <td>1.0</td>\n",
       "      <td>0.0</td>\n",
       "    </tr>\n",
       "  </tbody>\n",
       "</table>\n",
       "<p>1460 rows × 347 columns</p>\n",
       "</div>"
      ],
      "text/plain": [
       "      MSSubClass MSZoning  LotFrontage   LotArea Street Alley LotShape  \\\n",
       "0       0.235294       RL     0.150685  0.033420   Pave   NaN      Reg   \n",
       "1       0.000000       RL     0.202055  0.038795   Pave   NaN      Reg   \n",
       "2       0.235294       RL     0.160959  0.046507   Pave   NaN      IR1   \n",
       "3       0.294118       RL     0.133562  0.038561   Pave   NaN      IR1   \n",
       "4       0.235294       RL     0.215753  0.060576   Pave   NaN      IR1   \n",
       "...          ...      ...          ...       ...    ...   ...      ...   \n",
       "1455    0.235294       RL     0.140411  0.030929   Pave   NaN      Reg   \n",
       "1456    0.000000       RL     0.219178  0.055505   Pave   NaN      Reg   \n",
       "1457    0.294118       RL     0.154110  0.036187   Pave   NaN      Reg   \n",
       "1458    0.000000       RL     0.160959  0.039342   Pave   NaN      Reg   \n",
       "1459    0.000000       RL     0.184932  0.040370   Pave   NaN      Reg   \n",
       "\n",
       "     LandContour Utilities LotConfig LandSlope Neighborhood Condition1  \\\n",
       "0            Lvl    AllPub    Inside       Gtl      CollgCr       Norm   \n",
       "1            Lvl    AllPub       FR2       Gtl      Veenker      Feedr   \n",
       "2            Lvl    AllPub    Inside       Gtl      CollgCr       Norm   \n",
       "3            Lvl    AllPub    Corner       Gtl      Crawfor       Norm   \n",
       "4            Lvl    AllPub       FR2       Gtl      NoRidge       Norm   \n",
       "...          ...       ...       ...       ...          ...        ...   \n",
       "1455         Lvl    AllPub    Inside       Gtl      Gilbert       Norm   \n",
       "1456         Lvl    AllPub    Inside       Gtl       NWAmes       Norm   \n",
       "1457         Lvl    AllPub    Inside       Gtl      Crawfor       Norm   \n",
       "1458         Lvl    AllPub    Inside       Gtl        NAmes       Norm   \n",
       "1459         Lvl    AllPub    Inside       Gtl      Edwards       Norm   \n",
       "\n",
       "     Condition2 BldgType HouseStyle  OverallQual  OverallCond  YearBuilt  \\\n",
       "0          Norm     1Fam     2Story     0.666667        0.500   0.949275   \n",
       "1          Norm     1Fam     1Story     0.555556        0.875   0.753623   \n",
       "2          Norm     1Fam     2Story     0.666667        0.500   0.934783   \n",
       "3          Norm     1Fam     2Story     0.666667        0.500   0.311594   \n",
       "4          Norm     1Fam     2Story     0.777778        0.500   0.927536   \n",
       "...         ...      ...        ...          ...          ...        ...   \n",
       "1455       Norm     1Fam     2Story     0.555556        0.500   0.920290   \n",
       "1456       Norm     1Fam     1Story     0.555556        0.625   0.768116   \n",
       "1457       Norm     1Fam     2Story     0.666667        1.000   0.500000   \n",
       "1458       Norm     1Fam     1Story     0.444444        0.625   0.565217   \n",
       "1459       Norm     1Fam     1Story     0.444444        0.625   0.673913   \n",
       "\n",
       "      YearRemodAdd RoofStyle RoofMatl Exterior1st Exterior2nd MasVnrType  \\\n",
       "0         0.883333     Gable  CompShg     VinylSd     VinylSd    BrkFace   \n",
       "1         0.433333     Gable  CompShg     MetalSd     MetalSd       None   \n",
       "2         0.866667     Gable  CompShg     VinylSd     VinylSd    BrkFace   \n",
       "3         0.333333     Gable  CompShg     Wd Sdng     Wd Shng       None   \n",
       "4         0.833333     Gable  CompShg     VinylSd     VinylSd    BrkFace   \n",
       "...            ...       ...      ...         ...         ...        ...   \n",
       "1455      0.833333     Gable  CompShg     VinylSd     VinylSd       None   \n",
       "1456      0.633333     Gable  CompShg     Plywood     Plywood      Stone   \n",
       "1457      0.933333     Gable  CompShg     CemntBd     CmentBd       None   \n",
       "1458      0.766667       Hip  CompShg     MetalSd     MetalSd       None   \n",
       "1459      0.250000     Gable  CompShg     HdBoard     HdBoard       None   \n",
       "\n",
       "      MasVnrArea ExterQual ExterCond Foundation BsmtQual BsmtCond  \\\n",
       "0       0.122500        Gd        TA      PConc       Gd       TA   \n",
       "1       0.000000        TA        TA     CBlock       Gd       TA   \n",
       "2       0.101250        Gd        TA      PConc       Gd       TA   \n",
       "3       0.000000        TA        TA     BrkTil       TA       Gd   \n",
       "4       0.218750        Gd        TA      PConc       Gd       TA   \n",
       "...          ...       ...       ...        ...      ...      ...   \n",
       "1455    0.000000        TA        TA      PConc       Gd       TA   \n",
       "1456    0.074375        TA        TA     CBlock       Gd       TA   \n",
       "1457    0.000000        Ex        Gd      Stone       TA       Gd   \n",
       "1458    0.000000        TA        TA     CBlock       TA       TA   \n",
       "1459    0.000000        Gd        TA     CBlock       TA       TA   \n",
       "\n",
       "     BsmtExposure BsmtFinType1  BsmtFinSF1 BsmtFinType2  BsmtFinSF2  \\\n",
       "0              No          GLQ    0.125089          Unf    0.000000   \n",
       "1              Gd          ALQ    0.173281          Unf    0.000000   \n",
       "2              Mn          GLQ    0.086109          Unf    0.000000   \n",
       "3              No          ALQ    0.038271          Unf    0.000000   \n",
       "4              Av          GLQ    0.116052          Unf    0.000000   \n",
       "...           ...          ...         ...          ...         ...   \n",
       "1455           No          Unf    0.000000          Unf    0.000000   \n",
       "1456           No          ALQ    0.139972          Rec    0.110583   \n",
       "1457           No          GLQ    0.048724          Unf    0.000000   \n",
       "1458           Mn          GLQ    0.008682          Rec    0.698100   \n",
       "1459           No          BLQ    0.147059          LwQ    0.196744   \n",
       "\n",
       "      BsmtUnfSF  TotalBsmtSF Heating HeatingQC CentralAir Electrical  \\\n",
       "0      0.064212     0.140098    GasA        Ex          Y      SBrkr   \n",
       "1      0.121575     0.206547    GasA        Ex          Y      SBrkr   \n",
       "2      0.185788     0.150573    GasA        Ex          Y      SBrkr   \n",
       "3      0.231164     0.123732    GasA        Gd          Y      SBrkr   \n",
       "4      0.209760     0.187398    GasA        Ex          Y      SBrkr   \n",
       "...         ...          ...     ...       ...        ...        ...   \n",
       "1455   0.407962     0.155974    GasA        Ex          Y      SBrkr   \n",
       "1456   0.252140     0.252373    GasA        TA          Y      SBrkr   \n",
       "1457   0.375428     0.188543    GasA        Ex          Y      SBrkr   \n",
       "1458   0.000000     0.176432    GasA        Gd          Y      FuseA   \n",
       "1459   0.058219     0.205565    GasA        Gd          Y      SBrkr   \n",
       "\n",
       "      1stFlrSF  2ndFlrSF  LowQualFinSF  GrLivArea  BsmtFullBath  BsmtHalfBath  \\\n",
       "0     0.119780  0.413559           0.0   0.259231      0.333333           0.0   \n",
       "1     0.212942  0.000000           0.0   0.174830      0.000000           0.5   \n",
       "2     0.134465  0.419370           0.0   0.273549      0.333333           0.0   \n",
       "3     0.143873  0.366102           0.0   0.260550      0.333333           0.0   \n",
       "4     0.186095  0.509927           0.0   0.351168      0.333333           0.0   \n",
       "...        ...       ...           ...        ...           ...           ...   \n",
       "1455  0.142038  0.336077           0.0   0.247362      0.000000           0.0   \n",
       "1456  0.399036  0.000000           0.0   0.327619      0.333333           0.0   \n",
       "1457  0.195961  0.557869           0.0   0.377920      0.000000           0.0   \n",
       "1458  0.170721  0.000000           0.0   0.140166      0.333333           0.0   \n",
       "1459  0.211565  0.000000           0.0   0.173700      0.333333           0.0   \n",
       "\n",
       "      FullBath  HalfBath  BedroomAbvGr  KitchenAbvGr KitchenQual  \\\n",
       "0     0.666667       0.5         0.375      0.333333          Gd   \n",
       "1     0.666667       0.0         0.375      0.333333          TA   \n",
       "2     0.666667       0.5         0.375      0.333333          Gd   \n",
       "3     0.333333       0.0         0.375      0.333333          Gd   \n",
       "4     0.666667       0.5         0.500      0.333333          Gd   \n",
       "...        ...       ...           ...           ...         ...   \n",
       "1455  0.666667       0.5         0.375      0.333333          TA   \n",
       "1456  0.666667       0.0         0.375      0.333333          TA   \n",
       "1457  0.666667       0.0         0.500      0.333333          Gd   \n",
       "1458  0.333333       0.0         0.250      0.333333          Gd   \n",
       "1459  0.333333       0.5         0.375      0.333333          TA   \n",
       "\n",
       "      TotRmsAbvGrd Functional  Fireplaces FireplaceQu GarageType  GarageYrBlt  \\\n",
       "0         0.500000        Typ    0.000000         NaN     Attchd     0.936364   \n",
       "1         0.333333        Typ    0.333333          TA     Attchd     0.690909   \n",
       "2         0.333333        Typ    0.333333          TA     Attchd     0.918182   \n",
       "3         0.416667        Typ    0.333333          Gd     Detchd     0.890909   \n",
       "4         0.583333        Typ    0.333333          TA     Attchd     0.909091   \n",
       "...            ...        ...         ...         ...        ...          ...   \n",
       "1455      0.416667        Typ    0.333333          TA     Attchd     0.900000   \n",
       "1456      0.416667       Min1    0.666667          TA     Attchd     0.709091   \n",
       "1457      0.583333        Typ    0.666667          Gd     Attchd     0.372727   \n",
       "1458      0.250000        Typ    0.000000         NaN     Attchd     0.454545   \n",
       "1459      0.333333        Typ    0.000000         NaN     Attchd     0.590909   \n",
       "\n",
       "     GarageFinish  GarageCars  GarageArea GarageQual GarageCond PavedDrive  \\\n",
       "0             RFn        0.50    0.386460         TA         TA          Y   \n",
       "1             RFn        0.50    0.324401         TA         TA          Y   \n",
       "2             RFn        0.50    0.428773         TA         TA          Y   \n",
       "3             Unf        0.75    0.452750         TA         TA          Y   \n",
       "4             RFn        0.75    0.589563         TA         TA          Y   \n",
       "...           ...         ...         ...        ...        ...        ...   \n",
       "1455          RFn        0.50    0.324401         TA         TA          Y   \n",
       "1456          Unf        0.50    0.352609         TA         TA          Y   \n",
       "1457          RFn        0.25    0.177715         TA         TA          Y   \n",
       "1458          Unf        0.25    0.169252         TA         TA          Y   \n",
       "1459          Fin        0.25    0.194640         TA         TA          Y   \n",
       "\n",
       "      WoodDeckSF  OpenPorchSF  EnclosedPorch  3SsnPorch  ScreenPorch  \\\n",
       "0       0.000000     0.111517       0.000000        0.0          0.0   \n",
       "1       0.347725     0.000000       0.000000        0.0          0.0   \n",
       "2       0.000000     0.076782       0.000000        0.0          0.0   \n",
       "3       0.000000     0.063985       0.492754        0.0          0.0   \n",
       "4       0.224037     0.153565       0.000000        0.0          0.0   \n",
       "...          ...          ...            ...        ...          ...   \n",
       "1455    0.000000     0.073126       0.000000        0.0          0.0   \n",
       "1456    0.407235     0.000000       0.000000        0.0          0.0   \n",
       "1457    0.000000     0.109689       0.000000        0.0          0.0   \n",
       "1458    0.427071     0.000000       0.202899        0.0          0.0   \n",
       "1459    0.858810     0.124314       0.000000        0.0          0.0   \n",
       "\n",
       "      PoolArea PoolQC  Fence MiscFeature  MiscVal    MoSold  YrSold SaleType  \\\n",
       "0          0.0    NaN    NaN         NaN  0.00000  0.090909    0.50       WD   \n",
       "1          0.0    NaN    NaN         NaN  0.00000  0.363636    0.25       WD   \n",
       "2          0.0    NaN    NaN         NaN  0.00000  0.727273    0.50       WD   \n",
       "3          0.0    NaN    NaN         NaN  0.00000  0.090909    0.00       WD   \n",
       "4          0.0    NaN    NaN         NaN  0.00000  1.000000    0.50       WD   \n",
       "...        ...    ...    ...         ...      ...       ...     ...      ...   \n",
       "1455       0.0    NaN    NaN         NaN  0.00000  0.636364    0.25       WD   \n",
       "1456       0.0    NaN  MnPrv         NaN  0.00000  0.090909    1.00       WD   \n",
       "1457       0.0    NaN  GdPrv        Shed  0.16129  0.363636    1.00       WD   \n",
       "1458       0.0    NaN    NaN         NaN  0.00000  0.272727    1.00       WD   \n",
       "1459       0.0    NaN    NaN         NaN  0.00000  0.454545    0.50       WD   \n",
       "\n",
       "     SaleCondition  MSZoning_C (all)  MSZoning_FV  MSZoning_RH  MSZoning_RL  \\\n",
       "0           Normal               0.0          0.0          0.0          1.0   \n",
       "1           Normal               0.0          0.0          0.0          1.0   \n",
       "2           Normal               0.0          0.0          0.0          1.0   \n",
       "3          Abnorml               0.0          0.0          0.0          1.0   \n",
       "4           Normal               0.0          0.0          0.0          1.0   \n",
       "...            ...               ...          ...          ...          ...   \n",
       "1455        Normal               0.0          0.0          0.0          1.0   \n",
       "1456        Normal               0.0          0.0          0.0          1.0   \n",
       "1457        Normal               0.0          0.0          0.0          1.0   \n",
       "1458        Normal               0.0          0.0          0.0          1.0   \n",
       "1459        Normal               0.0          0.0          0.0          1.0   \n",
       "\n",
       "      MSZoning_RM  Street_Grvl  Street_Pave  Alley_Grvl  Alley_Pave  \\\n",
       "0             0.0          0.0          1.0         0.0         0.0   \n",
       "1             0.0          0.0          1.0         0.0         0.0   \n",
       "2             0.0          0.0          1.0         0.0         0.0   \n",
       "3             0.0          0.0          1.0         0.0         0.0   \n",
       "4             0.0          0.0          1.0         0.0         0.0   \n",
       "...           ...          ...          ...         ...         ...   \n",
       "1455          0.0          0.0          1.0         0.0         0.0   \n",
       "1456          0.0          0.0          1.0         0.0         0.0   \n",
       "1457          0.0          0.0          1.0         0.0         0.0   \n",
       "1458          0.0          0.0          1.0         0.0         0.0   \n",
       "1459          0.0          0.0          1.0         0.0         0.0   \n",
       "\n",
       "      Alley_nan  LotShape_IR1  LotShape_IR2  LotShape_IR3  LotShape_Reg  \\\n",
       "0           1.0           0.0           0.0           0.0           1.0   \n",
       "1           1.0           0.0           0.0           0.0           1.0   \n",
       "2           1.0           1.0           0.0           0.0           0.0   \n",
       "3           1.0           1.0           0.0           0.0           0.0   \n",
       "4           1.0           1.0           0.0           0.0           0.0   \n",
       "...         ...           ...           ...           ...           ...   \n",
       "1455        1.0           0.0           0.0           0.0           1.0   \n",
       "1456        1.0           0.0           0.0           0.0           1.0   \n",
       "1457        1.0           0.0           0.0           0.0           1.0   \n",
       "1458        1.0           0.0           0.0           0.0           1.0   \n",
       "1459        1.0           0.0           0.0           0.0           1.0   \n",
       "\n",
       "      LandContour_Bnk  LandContour_HLS  LandContour_Low  LandContour_Lvl  \\\n",
       "0                 0.0              0.0              0.0              1.0   \n",
       "1                 0.0              0.0              0.0              1.0   \n",
       "2                 0.0              0.0              0.0              1.0   \n",
       "3                 0.0              0.0              0.0              1.0   \n",
       "4                 0.0              0.0              0.0              1.0   \n",
       "...               ...              ...              ...              ...   \n",
       "1455              0.0              0.0              0.0              1.0   \n",
       "1456              0.0              0.0              0.0              1.0   \n",
       "1457              0.0              0.0              0.0              1.0   \n",
       "1458              0.0              0.0              0.0              1.0   \n",
       "1459              0.0              0.0              0.0              1.0   \n",
       "\n",
       "      Utilities_AllPub  Utilities_NoSeWa  LotConfig_Corner  ...  \\\n",
       "0                  1.0               0.0               0.0  ...   \n",
       "1                  1.0               0.0               0.0  ...   \n",
       "2                  1.0               0.0               0.0  ...   \n",
       "3                  1.0               0.0               1.0  ...   \n",
       "4                  1.0               0.0               0.0  ...   \n",
       "...                ...               ...               ...  ...   \n",
       "1455               1.0               0.0               0.0  ...   \n",
       "1456               1.0               0.0               0.0  ...   \n",
       "1457               1.0               0.0               0.0  ...   \n",
       "1458               1.0               0.0               0.0  ...   \n",
       "1459               1.0               0.0               0.0  ...   \n",
       "\n",
       "      BsmtFinType1_Unf  BsmtFinType1_nan  BsmtFinType2_ALQ  BsmtFinType2_BLQ  \\\n",
       "0                  0.0               0.0               0.0               0.0   \n",
       "1                  0.0               0.0               0.0               0.0   \n",
       "2                  0.0               0.0               0.0               0.0   \n",
       "3                  0.0               0.0               0.0               0.0   \n",
       "4                  0.0               0.0               0.0               0.0   \n",
       "...                ...               ...               ...               ...   \n",
       "1455               1.0               0.0               0.0               0.0   \n",
       "1456               0.0               0.0               0.0               0.0   \n",
       "1457               0.0               0.0               0.0               0.0   \n",
       "1458               0.0               0.0               0.0               0.0   \n",
       "1459               0.0               0.0               0.0               0.0   \n",
       "\n",
       "      BsmtFinType2_GLQ  BsmtFinType2_LwQ  BsmtFinType2_Rec  BsmtFinType2_Unf  \\\n",
       "0                  0.0               0.0               0.0               1.0   \n",
       "1                  0.0               0.0               0.0               1.0   \n",
       "2                  0.0               0.0               0.0               1.0   \n",
       "3                  0.0               0.0               0.0               1.0   \n",
       "4                  0.0               0.0               0.0               1.0   \n",
       "...                ...               ...               ...               ...   \n",
       "1455               0.0               0.0               0.0               1.0   \n",
       "1456               0.0               0.0               1.0               0.0   \n",
       "1457               0.0               0.0               0.0               1.0   \n",
       "1458               0.0               0.0               1.0               0.0   \n",
       "1459               0.0               1.0               0.0               0.0   \n",
       "\n",
       "      BsmtFinType2_nan  Heating_Floor  Heating_GasA  Heating_GasW  \\\n",
       "0                  0.0            0.0           1.0           0.0   \n",
       "1                  0.0            0.0           1.0           0.0   \n",
       "2                  0.0            0.0           1.0           0.0   \n",
       "3                  0.0            0.0           1.0           0.0   \n",
       "4                  0.0            0.0           1.0           0.0   \n",
       "...                ...            ...           ...           ...   \n",
       "1455               0.0            0.0           1.0           0.0   \n",
       "1456               0.0            0.0           1.0           0.0   \n",
       "1457               0.0            0.0           1.0           0.0   \n",
       "1458               0.0            0.0           1.0           0.0   \n",
       "1459               0.0            0.0           1.0           0.0   \n",
       "\n",
       "      Heating_Grav  Heating_OthW  Heating_Wall  HeatingQC_Ex  HeatingQC_Fa  \\\n",
       "0              0.0           0.0           0.0           1.0           0.0   \n",
       "1              0.0           0.0           0.0           1.0           0.0   \n",
       "2              0.0           0.0           0.0           1.0           0.0   \n",
       "3              0.0           0.0           0.0           0.0           0.0   \n",
       "4              0.0           0.0           0.0           1.0           0.0   \n",
       "...            ...           ...           ...           ...           ...   \n",
       "1455           0.0           0.0           0.0           1.0           0.0   \n",
       "1456           0.0           0.0           0.0           0.0           0.0   \n",
       "1457           0.0           0.0           0.0           1.0           0.0   \n",
       "1458           0.0           0.0           0.0           0.0           0.0   \n",
       "1459           0.0           0.0           0.0           0.0           0.0   \n",
       "\n",
       "      HeatingQC_Gd  HeatingQC_Po  HeatingQC_TA  CentralAir_N  CentralAir_Y  \\\n",
       "0              0.0           0.0           0.0           0.0           1.0   \n",
       "1              0.0           0.0           0.0           0.0           1.0   \n",
       "2              0.0           0.0           0.0           0.0           1.0   \n",
       "3              1.0           0.0           0.0           0.0           1.0   \n",
       "4              0.0           0.0           0.0           0.0           1.0   \n",
       "...            ...           ...           ...           ...           ...   \n",
       "1455           0.0           0.0           0.0           0.0           1.0   \n",
       "1456           0.0           0.0           1.0           0.0           1.0   \n",
       "1457           0.0           0.0           0.0           0.0           1.0   \n",
       "1458           1.0           0.0           0.0           0.0           1.0   \n",
       "1459           1.0           0.0           0.0           0.0           1.0   \n",
       "\n",
       "      Electrical_FuseA  Electrical_FuseF  Electrical_FuseP  Electrical_Mix  \\\n",
       "0                  0.0               0.0               0.0             0.0   \n",
       "1                  0.0               0.0               0.0             0.0   \n",
       "2                  0.0               0.0               0.0             0.0   \n",
       "3                  0.0               0.0               0.0             0.0   \n",
       "4                  0.0               0.0               0.0             0.0   \n",
       "...                ...               ...               ...             ...   \n",
       "1455               0.0               0.0               0.0             0.0   \n",
       "1456               0.0               0.0               0.0             0.0   \n",
       "1457               0.0               0.0               0.0             0.0   \n",
       "1458               1.0               0.0               0.0             0.0   \n",
       "1459               0.0               0.0               0.0             0.0   \n",
       "\n",
       "      Electrical_SBrkr  Electrical_nan  KitchenQual_Ex  KitchenQual_Fa  \\\n",
       "0                  1.0             0.0             0.0             0.0   \n",
       "1                  1.0             0.0             0.0             0.0   \n",
       "2                  1.0             0.0             0.0             0.0   \n",
       "3                  1.0             0.0             0.0             0.0   \n",
       "4                  1.0             0.0             0.0             0.0   \n",
       "...                ...             ...             ...             ...   \n",
       "1455               1.0             0.0             0.0             0.0   \n",
       "1456               1.0             0.0             0.0             0.0   \n",
       "1457               1.0             0.0             0.0             0.0   \n",
       "1458               0.0             0.0             0.0             0.0   \n",
       "1459               1.0             0.0             0.0             0.0   \n",
       "\n",
       "      KitchenQual_Gd  KitchenQual_TA  Functional_Maj1  Functional_Maj2  \\\n",
       "0                1.0             0.0              0.0              0.0   \n",
       "1                0.0             1.0              0.0              0.0   \n",
       "2                1.0             0.0              0.0              0.0   \n",
       "3                1.0             0.0              0.0              0.0   \n",
       "4                1.0             0.0              0.0              0.0   \n",
       "...              ...             ...              ...              ...   \n",
       "1455             0.0             1.0              0.0              0.0   \n",
       "1456             0.0             1.0              0.0              0.0   \n",
       "1457             1.0             0.0              0.0              0.0   \n",
       "1458             1.0             0.0              0.0              0.0   \n",
       "1459             0.0             1.0              0.0              0.0   \n",
       "\n",
       "      Functional_Min1  Functional_Min2  Functional_Mod  Functional_Sev  \\\n",
       "0                 0.0              0.0             0.0             0.0   \n",
       "1                 0.0              0.0             0.0             0.0   \n",
       "2                 0.0              0.0             0.0             0.0   \n",
       "3                 0.0              0.0             0.0             0.0   \n",
       "4                 0.0              0.0             0.0             0.0   \n",
       "...               ...              ...             ...             ...   \n",
       "1455              0.0              0.0             0.0             0.0   \n",
       "1456              1.0              0.0             0.0             0.0   \n",
       "1457              0.0              0.0             0.0             0.0   \n",
       "1458              0.0              0.0             0.0             0.0   \n",
       "1459              0.0              0.0             0.0             0.0   \n",
       "\n",
       "      Functional_Typ  FireplaceQu_Ex  FireplaceQu_Fa  FireplaceQu_Gd  \\\n",
       "0                1.0             0.0             0.0             0.0   \n",
       "1                1.0             0.0             0.0             0.0   \n",
       "2                1.0             0.0             0.0             0.0   \n",
       "3                1.0             0.0             0.0             1.0   \n",
       "4                1.0             0.0             0.0             0.0   \n",
       "...              ...             ...             ...             ...   \n",
       "1455             1.0             0.0             0.0             0.0   \n",
       "1456             0.0             0.0             0.0             0.0   \n",
       "1457             1.0             0.0             0.0             1.0   \n",
       "1458             1.0             0.0             0.0             0.0   \n",
       "1459             1.0             0.0             0.0             0.0   \n",
       "\n",
       "      FireplaceQu_Po  FireplaceQu_TA  FireplaceQu_nan  GarageType_2Types  \\\n",
       "0                0.0             0.0              1.0                0.0   \n",
       "1                0.0             1.0              0.0                0.0   \n",
       "2                0.0             1.0              0.0                0.0   \n",
       "3                0.0             0.0              0.0                0.0   \n",
       "4                0.0             1.0              0.0                0.0   \n",
       "...              ...             ...              ...                ...   \n",
       "1455             0.0             1.0              0.0                0.0   \n",
       "1456             0.0             1.0              0.0                0.0   \n",
       "1457             0.0             0.0              0.0                0.0   \n",
       "1458             0.0             0.0              1.0                0.0   \n",
       "1459             0.0             0.0              1.0                0.0   \n",
       "\n",
       "      GarageType_Attchd  GarageType_Basment  GarageType_BuiltIn  \\\n",
       "0                   1.0                 0.0                 0.0   \n",
       "1                   1.0                 0.0                 0.0   \n",
       "2                   1.0                 0.0                 0.0   \n",
       "3                   0.0                 0.0                 0.0   \n",
       "4                   1.0                 0.0                 0.0   \n",
       "...                 ...                 ...                 ...   \n",
       "1455                1.0                 0.0                 0.0   \n",
       "1456                1.0                 0.0                 0.0   \n",
       "1457                1.0                 0.0                 0.0   \n",
       "1458                1.0                 0.0                 0.0   \n",
       "1459                1.0                 0.0                 0.0   \n",
       "\n",
       "      GarageType_CarPort  GarageType_Detchd  GarageType_nan  GarageFinish_Fin  \\\n",
       "0                    0.0                0.0             0.0               0.0   \n",
       "1                    0.0                0.0             0.0               0.0   \n",
       "2                    0.0                0.0             0.0               0.0   \n",
       "3                    0.0                1.0             0.0               0.0   \n",
       "4                    0.0                0.0             0.0               0.0   \n",
       "...                  ...                ...             ...               ...   \n",
       "1455                 0.0                0.0             0.0               0.0   \n",
       "1456                 0.0                0.0             0.0               0.0   \n",
       "1457                 0.0                0.0             0.0               0.0   \n",
       "1458                 0.0                0.0             0.0               0.0   \n",
       "1459                 0.0                0.0             0.0               1.0   \n",
       "\n",
       "      GarageFinish_RFn  GarageFinish_Unf  GarageFinish_nan  GarageQual_Ex  \\\n",
       "0                  1.0               0.0               0.0            0.0   \n",
       "1                  1.0               0.0               0.0            0.0   \n",
       "2                  1.0               0.0               0.0            0.0   \n",
       "3                  0.0               1.0               0.0            0.0   \n",
       "4                  1.0               0.0               0.0            0.0   \n",
       "...                ...               ...               ...            ...   \n",
       "1455               1.0               0.0               0.0            0.0   \n",
       "1456               0.0               1.0               0.0            0.0   \n",
       "1457               1.0               0.0               0.0            0.0   \n",
       "1458               0.0               1.0               0.0            0.0   \n",
       "1459               0.0               0.0               0.0            0.0   \n",
       "\n",
       "      GarageQual_Fa  GarageQual_Gd  GarageQual_Po  GarageQual_TA  \\\n",
       "0               0.0            0.0            0.0            1.0   \n",
       "1               0.0            0.0            0.0            1.0   \n",
       "2               0.0            0.0            0.0            1.0   \n",
       "3               0.0            0.0            0.0            1.0   \n",
       "4               0.0            0.0            0.0            1.0   \n",
       "...             ...            ...            ...            ...   \n",
       "1455            0.0            0.0            0.0            1.0   \n",
       "1456            0.0            0.0            0.0            1.0   \n",
       "1457            0.0            0.0            0.0            1.0   \n",
       "1458            0.0            0.0            0.0            1.0   \n",
       "1459            0.0            0.0            0.0            1.0   \n",
       "\n",
       "      GarageQual_nan  GarageCond_Ex  GarageCond_Fa  GarageCond_Gd  \\\n",
       "0                0.0            0.0            0.0            0.0   \n",
       "1                0.0            0.0            0.0            0.0   \n",
       "2                0.0            0.0            0.0            0.0   \n",
       "3                0.0            0.0            0.0            0.0   \n",
       "4                0.0            0.0            0.0            0.0   \n",
       "...              ...            ...            ...            ...   \n",
       "1455             0.0            0.0            0.0            0.0   \n",
       "1456             0.0            0.0            0.0            0.0   \n",
       "1457             0.0            0.0            0.0            0.0   \n",
       "1458             0.0            0.0            0.0            0.0   \n",
       "1459             0.0            0.0            0.0            0.0   \n",
       "\n",
       "      GarageCond_Po  GarageCond_TA  GarageCond_nan  PavedDrive_N  \\\n",
       "0               0.0            1.0             0.0           0.0   \n",
       "1               0.0            1.0             0.0           0.0   \n",
       "2               0.0            1.0             0.0           0.0   \n",
       "3               0.0            1.0             0.0           0.0   \n",
       "4               0.0            1.0             0.0           0.0   \n",
       "...             ...            ...             ...           ...   \n",
       "1455            0.0            1.0             0.0           0.0   \n",
       "1456            0.0            1.0             0.0           0.0   \n",
       "1457            0.0            1.0             0.0           0.0   \n",
       "1458            0.0            1.0             0.0           0.0   \n",
       "1459            0.0            1.0             0.0           0.0   \n",
       "\n",
       "      PavedDrive_P  PavedDrive_Y  PoolQC_Ex  PoolQC_Fa  PoolQC_Gd  PoolQC_nan  \\\n",
       "0              0.0           1.0        0.0        0.0        0.0         1.0   \n",
       "1              0.0           1.0        0.0        0.0        0.0         1.0   \n",
       "2              0.0           1.0        0.0        0.0        0.0         1.0   \n",
       "3              0.0           1.0        0.0        0.0        0.0         1.0   \n",
       "4              0.0           1.0        0.0        0.0        0.0         1.0   \n",
       "...            ...           ...        ...        ...        ...         ...   \n",
       "1455           0.0           1.0        0.0        0.0        0.0         1.0   \n",
       "1456           0.0           1.0        0.0        0.0        0.0         1.0   \n",
       "1457           0.0           1.0        0.0        0.0        0.0         1.0   \n",
       "1458           0.0           1.0        0.0        0.0        0.0         1.0   \n",
       "1459           0.0           1.0        0.0        0.0        0.0         1.0   \n",
       "\n",
       "      Fence_GdPrv  Fence_GdWo  Fence_MnPrv  Fence_MnWw  Fence_nan  \\\n",
       "0             0.0         0.0          0.0         0.0        1.0   \n",
       "1             0.0         0.0          0.0         0.0        1.0   \n",
       "2             0.0         0.0          0.0         0.0        1.0   \n",
       "3             0.0         0.0          0.0         0.0        1.0   \n",
       "4             0.0         0.0          0.0         0.0        1.0   \n",
       "...           ...         ...          ...         ...        ...   \n",
       "1455          0.0         0.0          0.0         0.0        1.0   \n",
       "1456          0.0         0.0          1.0         0.0        0.0   \n",
       "1457          1.0         0.0          0.0         0.0        0.0   \n",
       "1458          0.0         0.0          0.0         0.0        1.0   \n",
       "1459          0.0         0.0          0.0         0.0        1.0   \n",
       "\n",
       "      MiscFeature_Gar2  MiscFeature_Othr  MiscFeature_Shed  MiscFeature_TenC  \\\n",
       "0                  0.0               0.0               0.0               0.0   \n",
       "1                  0.0               0.0               0.0               0.0   \n",
       "2                  0.0               0.0               0.0               0.0   \n",
       "3                  0.0               0.0               0.0               0.0   \n",
       "4                  0.0               0.0               0.0               0.0   \n",
       "...                ...               ...               ...               ...   \n",
       "1455               0.0               0.0               0.0               0.0   \n",
       "1456               0.0               0.0               0.0               0.0   \n",
       "1457               0.0               0.0               1.0               0.0   \n",
       "1458               0.0               0.0               0.0               0.0   \n",
       "1459               0.0               0.0               0.0               0.0   \n",
       "\n",
       "      MiscFeature_nan  SaleType_COD  SaleType_CWD  SaleType_Con  \\\n",
       "0                 1.0           0.0           0.0           0.0   \n",
       "1                 1.0           0.0           0.0           0.0   \n",
       "2                 1.0           0.0           0.0           0.0   \n",
       "3                 1.0           0.0           0.0           0.0   \n",
       "4                 1.0           0.0           0.0           0.0   \n",
       "...               ...           ...           ...           ...   \n",
       "1455              1.0           0.0           0.0           0.0   \n",
       "1456              1.0           0.0           0.0           0.0   \n",
       "1457              0.0           0.0           0.0           0.0   \n",
       "1458              1.0           0.0           0.0           0.0   \n",
       "1459              1.0           0.0           0.0           0.0   \n",
       "\n",
       "      SaleType_ConLD  SaleType_ConLI  SaleType_ConLw  SaleType_New  \\\n",
       "0                0.0             0.0             0.0           0.0   \n",
       "1                0.0             0.0             0.0           0.0   \n",
       "2                0.0             0.0             0.0           0.0   \n",
       "3                0.0             0.0             0.0           0.0   \n",
       "4                0.0             0.0             0.0           0.0   \n",
       "...              ...             ...             ...           ...   \n",
       "1455             0.0             0.0             0.0           0.0   \n",
       "1456             0.0             0.0             0.0           0.0   \n",
       "1457             0.0             0.0             0.0           0.0   \n",
       "1458             0.0             0.0             0.0           0.0   \n",
       "1459             0.0             0.0             0.0           0.0   \n",
       "\n",
       "      SaleType_Oth  SaleType_WD  SaleCondition_Abnorml  SaleCondition_AdjLand  \\\n",
       "0              0.0          1.0                    0.0                    0.0   \n",
       "1              0.0          1.0                    0.0                    0.0   \n",
       "2              0.0          1.0                    0.0                    0.0   \n",
       "3              0.0          1.0                    1.0                    0.0   \n",
       "4              0.0          1.0                    0.0                    0.0   \n",
       "...            ...          ...                    ...                    ...   \n",
       "1455           0.0          1.0                    0.0                    0.0   \n",
       "1456           0.0          1.0                    0.0                    0.0   \n",
       "1457           0.0          1.0                    0.0                    0.0   \n",
       "1458           0.0          1.0                    0.0                    0.0   \n",
       "1459           0.0          1.0                    0.0                    0.0   \n",
       "\n",
       "      SaleCondition_Alloca  SaleCondition_Family  SaleCondition_Normal  \\\n",
       "0                      0.0                   0.0                   1.0   \n",
       "1                      0.0                   0.0                   1.0   \n",
       "2                      0.0                   0.0                   1.0   \n",
       "3                      0.0                   0.0                   0.0   \n",
       "4                      0.0                   0.0                   1.0   \n",
       "...                    ...                   ...                   ...   \n",
       "1455                   0.0                   0.0                   1.0   \n",
       "1456                   0.0                   0.0                   1.0   \n",
       "1457                   0.0                   0.0                   1.0   \n",
       "1458                   0.0                   0.0                   1.0   \n",
       "1459                   0.0                   0.0                   1.0   \n",
       "\n",
       "      SaleCondition_Partial  \n",
       "0                       0.0  \n",
       "1                       0.0  \n",
       "2                       0.0  \n",
       "3                       0.0  \n",
       "4                       0.0  \n",
       "...                     ...  \n",
       "1455                    0.0  \n",
       "1456                    0.0  \n",
       "1457                    0.0  \n",
       "1458                    0.0  \n",
       "1459                    0.0  \n",
       "\n",
       "[1460 rows x 347 columns]"
      ]
     },
     "execution_count": 91,
     "metadata": {},
     "output_type": "execute_result"
    }
   ],
   "source": [
    "inputs_df"
   ]
  },
  {
   "cell_type": "markdown",
   "metadata": {},
   "source": [
    "### Training and Validation Set\n",
    "\n",
    "Finally, let's split the dataset into a training and validation set. We'll use a randomly select 25% subset of the data for validation. Also, we'll use just the numeric and encoded columns, since the inputs to our model must be numbers. "
   ]
  },
  {
   "cell_type": "code",
   "execution_count": 92,
   "metadata": {},
   "outputs": [],
   "source": [
    "from sklearn.model_selection import train_test_split"
   ]
  },
  {
   "cell_type": "code",
   "execution_count": 93,
   "metadata": {},
   "outputs": [],
   "source": [
    "train_inputs, val_inputs, train_targets, val_targets = train_test_split(inputs_df[numeric_cols + encoded_cols], \n",
    "                                                                        targets, \n",
    "                                                                        test_size=0.25, \n",
    "                                                                        random_state=42)"
   ]
  },
  {
   "cell_type": "code",
   "execution_count": 94,
   "metadata": {},
   "outputs": [
    {
     "data": {
      "text/html": [
       "<div>\n",
       "<style scoped>\n",
       "    .dataframe tbody tr th:only-of-type {\n",
       "        vertical-align: middle;\n",
       "    }\n",
       "\n",
       "    .dataframe tbody tr th {\n",
       "        vertical-align: top;\n",
       "    }\n",
       "\n",
       "    .dataframe thead th {\n",
       "        text-align: right;\n",
       "    }\n",
       "</style>\n",
       "<table border=\"1\" class=\"dataframe\">\n",
       "  <thead>\n",
       "    <tr style=\"text-align: right;\">\n",
       "      <th></th>\n",
       "      <th>MSSubClass</th>\n",
       "      <th>LotFrontage</th>\n",
       "      <th>LotArea</th>\n",
       "      <th>OverallQual</th>\n",
       "      <th>OverallCond</th>\n",
       "      <th>YearBuilt</th>\n",
       "      <th>YearRemodAdd</th>\n",
       "      <th>MasVnrArea</th>\n",
       "      <th>BsmtFinSF1</th>\n",
       "      <th>BsmtFinSF2</th>\n",
       "      <th>BsmtUnfSF</th>\n",
       "      <th>TotalBsmtSF</th>\n",
       "      <th>1stFlrSF</th>\n",
       "      <th>2ndFlrSF</th>\n",
       "      <th>LowQualFinSF</th>\n",
       "      <th>GrLivArea</th>\n",
       "      <th>BsmtFullBath</th>\n",
       "      <th>BsmtHalfBath</th>\n",
       "      <th>FullBath</th>\n",
       "      <th>HalfBath</th>\n",
       "      <th>BedroomAbvGr</th>\n",
       "      <th>KitchenAbvGr</th>\n",
       "      <th>TotRmsAbvGrd</th>\n",
       "      <th>Fireplaces</th>\n",
       "      <th>GarageYrBlt</th>\n",
       "      <th>GarageCars</th>\n",
       "      <th>GarageArea</th>\n",
       "      <th>WoodDeckSF</th>\n",
       "      <th>OpenPorchSF</th>\n",
       "      <th>EnclosedPorch</th>\n",
       "      <th>3SsnPorch</th>\n",
       "      <th>ScreenPorch</th>\n",
       "      <th>PoolArea</th>\n",
       "      <th>MiscVal</th>\n",
       "      <th>MoSold</th>\n",
       "      <th>YrSold</th>\n",
       "      <th>MSZoning_C (all)</th>\n",
       "      <th>MSZoning_FV</th>\n",
       "      <th>MSZoning_RH</th>\n",
       "      <th>MSZoning_RL</th>\n",
       "      <th>MSZoning_RM</th>\n",
       "      <th>Street_Grvl</th>\n",
       "      <th>Street_Pave</th>\n",
       "      <th>Alley_Grvl</th>\n",
       "      <th>Alley_Pave</th>\n",
       "      <th>Alley_nan</th>\n",
       "      <th>LotShape_IR1</th>\n",
       "      <th>LotShape_IR2</th>\n",
       "      <th>LotShape_IR3</th>\n",
       "      <th>LotShape_Reg</th>\n",
       "      <th>LandContour_Bnk</th>\n",
       "      <th>LandContour_HLS</th>\n",
       "      <th>LandContour_Low</th>\n",
       "      <th>LandContour_Lvl</th>\n",
       "      <th>Utilities_AllPub</th>\n",
       "      <th>Utilities_NoSeWa</th>\n",
       "      <th>LotConfig_Corner</th>\n",
       "      <th>LotConfig_CulDSac</th>\n",
       "      <th>LotConfig_FR2</th>\n",
       "      <th>LotConfig_FR3</th>\n",
       "      <th>LotConfig_Inside</th>\n",
       "      <th>LandSlope_Gtl</th>\n",
       "      <th>LandSlope_Mod</th>\n",
       "      <th>LandSlope_Sev</th>\n",
       "      <th>Neighborhood_Blmngtn</th>\n",
       "      <th>Neighborhood_Blueste</th>\n",
       "      <th>Neighborhood_BrDale</th>\n",
       "      <th>Neighborhood_BrkSide</th>\n",
       "      <th>Neighborhood_ClearCr</th>\n",
       "      <th>Neighborhood_CollgCr</th>\n",
       "      <th>Neighborhood_Crawfor</th>\n",
       "      <th>Neighborhood_Edwards</th>\n",
       "      <th>Neighborhood_Gilbert</th>\n",
       "      <th>Neighborhood_IDOTRR</th>\n",
       "      <th>Neighborhood_MeadowV</th>\n",
       "      <th>Neighborhood_Mitchel</th>\n",
       "      <th>Neighborhood_NAmes</th>\n",
       "      <th>Neighborhood_NPkVill</th>\n",
       "      <th>Neighborhood_NWAmes</th>\n",
       "      <th>Neighborhood_NoRidge</th>\n",
       "      <th>Neighborhood_NridgHt</th>\n",
       "      <th>Neighborhood_OldTown</th>\n",
       "      <th>Neighborhood_SWISU</th>\n",
       "      <th>Neighborhood_Sawyer</th>\n",
       "      <th>Neighborhood_SawyerW</th>\n",
       "      <th>Neighborhood_Somerst</th>\n",
       "      <th>Neighborhood_StoneBr</th>\n",
       "      <th>Neighborhood_Timber</th>\n",
       "      <th>Neighborhood_Veenker</th>\n",
       "      <th>Condition1_Artery</th>\n",
       "      <th>Condition1_Feedr</th>\n",
       "      <th>Condition1_Norm</th>\n",
       "      <th>Condition1_PosA</th>\n",
       "      <th>Condition1_PosN</th>\n",
       "      <th>Condition1_RRAe</th>\n",
       "      <th>Condition1_RRAn</th>\n",
       "      <th>Condition1_RRNe</th>\n",
       "      <th>Condition1_RRNn</th>\n",
       "      <th>Condition2_Artery</th>\n",
       "      <th>Condition2_Feedr</th>\n",
       "      <th>...</th>\n",
       "      <th>BsmtFinType1_Unf</th>\n",
       "      <th>BsmtFinType1_nan</th>\n",
       "      <th>BsmtFinType2_ALQ</th>\n",
       "      <th>BsmtFinType2_BLQ</th>\n",
       "      <th>BsmtFinType2_GLQ</th>\n",
       "      <th>BsmtFinType2_LwQ</th>\n",
       "      <th>BsmtFinType2_Rec</th>\n",
       "      <th>BsmtFinType2_Unf</th>\n",
       "      <th>BsmtFinType2_nan</th>\n",
       "      <th>Heating_Floor</th>\n",
       "      <th>Heating_GasA</th>\n",
       "      <th>Heating_GasW</th>\n",
       "      <th>Heating_Grav</th>\n",
       "      <th>Heating_OthW</th>\n",
       "      <th>Heating_Wall</th>\n",
       "      <th>HeatingQC_Ex</th>\n",
       "      <th>HeatingQC_Fa</th>\n",
       "      <th>HeatingQC_Gd</th>\n",
       "      <th>HeatingQC_Po</th>\n",
       "      <th>HeatingQC_TA</th>\n",
       "      <th>CentralAir_N</th>\n",
       "      <th>CentralAir_Y</th>\n",
       "      <th>Electrical_FuseA</th>\n",
       "      <th>Electrical_FuseF</th>\n",
       "      <th>Electrical_FuseP</th>\n",
       "      <th>Electrical_Mix</th>\n",
       "      <th>Electrical_SBrkr</th>\n",
       "      <th>Electrical_nan</th>\n",
       "      <th>KitchenQual_Ex</th>\n",
       "      <th>KitchenQual_Fa</th>\n",
       "      <th>KitchenQual_Gd</th>\n",
       "      <th>KitchenQual_TA</th>\n",
       "      <th>Functional_Maj1</th>\n",
       "      <th>Functional_Maj2</th>\n",
       "      <th>Functional_Min1</th>\n",
       "      <th>Functional_Min2</th>\n",
       "      <th>Functional_Mod</th>\n",
       "      <th>Functional_Sev</th>\n",
       "      <th>Functional_Typ</th>\n",
       "      <th>FireplaceQu_Ex</th>\n",
       "      <th>FireplaceQu_Fa</th>\n",
       "      <th>FireplaceQu_Gd</th>\n",
       "      <th>FireplaceQu_Po</th>\n",
       "      <th>FireplaceQu_TA</th>\n",
       "      <th>FireplaceQu_nan</th>\n",
       "      <th>GarageType_2Types</th>\n",
       "      <th>GarageType_Attchd</th>\n",
       "      <th>GarageType_Basment</th>\n",
       "      <th>GarageType_BuiltIn</th>\n",
       "      <th>GarageType_CarPort</th>\n",
       "      <th>GarageType_Detchd</th>\n",
       "      <th>GarageType_nan</th>\n",
       "      <th>GarageFinish_Fin</th>\n",
       "      <th>GarageFinish_RFn</th>\n",
       "      <th>GarageFinish_Unf</th>\n",
       "      <th>GarageFinish_nan</th>\n",
       "      <th>GarageQual_Ex</th>\n",
       "      <th>GarageQual_Fa</th>\n",
       "      <th>GarageQual_Gd</th>\n",
       "      <th>GarageQual_Po</th>\n",
       "      <th>GarageQual_TA</th>\n",
       "      <th>GarageQual_nan</th>\n",
       "      <th>GarageCond_Ex</th>\n",
       "      <th>GarageCond_Fa</th>\n",
       "      <th>GarageCond_Gd</th>\n",
       "      <th>GarageCond_Po</th>\n",
       "      <th>GarageCond_TA</th>\n",
       "      <th>GarageCond_nan</th>\n",
       "      <th>PavedDrive_N</th>\n",
       "      <th>PavedDrive_P</th>\n",
       "      <th>PavedDrive_Y</th>\n",
       "      <th>PoolQC_Ex</th>\n",
       "      <th>PoolQC_Fa</th>\n",
       "      <th>PoolQC_Gd</th>\n",
       "      <th>PoolQC_nan</th>\n",
       "      <th>Fence_GdPrv</th>\n",
       "      <th>Fence_GdWo</th>\n",
       "      <th>Fence_MnPrv</th>\n",
       "      <th>Fence_MnWw</th>\n",
       "      <th>Fence_nan</th>\n",
       "      <th>MiscFeature_Gar2</th>\n",
       "      <th>MiscFeature_Othr</th>\n",
       "      <th>MiscFeature_Shed</th>\n",
       "      <th>MiscFeature_TenC</th>\n",
       "      <th>MiscFeature_nan</th>\n",
       "      <th>SaleType_COD</th>\n",
       "      <th>SaleType_CWD</th>\n",
       "      <th>SaleType_Con</th>\n",
       "      <th>SaleType_ConLD</th>\n",
       "      <th>SaleType_ConLI</th>\n",
       "      <th>SaleType_ConLw</th>\n",
       "      <th>SaleType_New</th>\n",
       "      <th>SaleType_Oth</th>\n",
       "      <th>SaleType_WD</th>\n",
       "      <th>SaleCondition_Abnorml</th>\n",
       "      <th>SaleCondition_AdjLand</th>\n",
       "      <th>SaleCondition_Alloca</th>\n",
       "      <th>SaleCondition_Family</th>\n",
       "      <th>SaleCondition_Normal</th>\n",
       "      <th>SaleCondition_Partial</th>\n",
       "    </tr>\n",
       "  </thead>\n",
       "  <tbody>\n",
       "    <tr>\n",
       "      <th>1023</th>\n",
       "      <td>0.588235</td>\n",
       "      <td>0.075342</td>\n",
       "      <td>0.008797</td>\n",
       "      <td>0.666667</td>\n",
       "      <td>0.500</td>\n",
       "      <td>0.963768</td>\n",
       "      <td>0.933333</td>\n",
       "      <td>0.008750</td>\n",
       "      <td>0.002835</td>\n",
       "      <td>0.000000</td>\n",
       "      <td>0.569349</td>\n",
       "      <td>0.220295</td>\n",
       "      <td>0.268472</td>\n",
       "      <td>0.000000</td>\n",
       "      <td>0.0</td>\n",
       "      <td>0.220422</td>\n",
       "      <td>0.000000</td>\n",
       "      <td>0.0</td>\n",
       "      <td>0.666667</td>\n",
       "      <td>0.0</td>\n",
       "      <td>0.250</td>\n",
       "      <td>0.333333</td>\n",
       "      <td>0.416667</td>\n",
       "      <td>0.333333</td>\n",
       "      <td>0.954545</td>\n",
       "      <td>0.50</td>\n",
       "      <td>0.308181</td>\n",
       "      <td>0.182030</td>\n",
       "      <td>0.036563</td>\n",
       "      <td>0.000000</td>\n",
       "      <td>0.0</td>\n",
       "      <td>0.0</td>\n",
       "      <td>0.000000</td>\n",
       "      <td>0.000000</td>\n",
       "      <td>0.363636</td>\n",
       "      <td>0.50</td>\n",
       "      <td>0.0</td>\n",
       "      <td>0.0</td>\n",
       "      <td>0.0</td>\n",
       "      <td>1.0</td>\n",
       "      <td>0.0</td>\n",
       "      <td>0.0</td>\n",
       "      <td>1.0</td>\n",
       "      <td>0.0</td>\n",
       "      <td>0.0</td>\n",
       "      <td>1.0</td>\n",
       "      <td>0.0</td>\n",
       "      <td>0.0</td>\n",
       "      <td>0.0</td>\n",
       "      <td>1.0</td>\n",
       "      <td>0.0</td>\n",
       "      <td>0.0</td>\n",
       "      <td>0.0</td>\n",
       "      <td>1.0</td>\n",
       "      <td>1.0</td>\n",
       "      <td>0.0</td>\n",
       "      <td>0.0</td>\n",
       "      <td>0.0</td>\n",
       "      <td>0.0</td>\n",
       "      <td>0.0</td>\n",
       "      <td>1.0</td>\n",
       "      <td>1.0</td>\n",
       "      <td>0.0</td>\n",
       "      <td>0.0</td>\n",
       "      <td>1.0</td>\n",
       "      <td>0.0</td>\n",
       "      <td>0.0</td>\n",
       "      <td>0.0</td>\n",
       "      <td>0.0</td>\n",
       "      <td>0.0</td>\n",
       "      <td>0.0</td>\n",
       "      <td>0.0</td>\n",
       "      <td>0.0</td>\n",
       "      <td>0.0</td>\n",
       "      <td>0.0</td>\n",
       "      <td>0.0</td>\n",
       "      <td>0.0</td>\n",
       "      <td>0.0</td>\n",
       "      <td>0.0</td>\n",
       "      <td>0.0</td>\n",
       "      <td>0.0</td>\n",
       "      <td>0.0</td>\n",
       "      <td>0.0</td>\n",
       "      <td>0.0</td>\n",
       "      <td>0.0</td>\n",
       "      <td>0.0</td>\n",
       "      <td>0.0</td>\n",
       "      <td>0.0</td>\n",
       "      <td>0.0</td>\n",
       "      <td>0.0</td>\n",
       "      <td>0.0</td>\n",
       "      <td>1.0</td>\n",
       "      <td>0.0</td>\n",
       "      <td>0.0</td>\n",
       "      <td>0.0</td>\n",
       "      <td>0.0</td>\n",
       "      <td>0.0</td>\n",
       "      <td>0.0</td>\n",
       "      <td>0.0</td>\n",
       "      <td>0.0</td>\n",
       "      <td>...</td>\n",
       "      <td>0.0</td>\n",
       "      <td>0.0</td>\n",
       "      <td>0.0</td>\n",
       "      <td>0.0</td>\n",
       "      <td>0.0</td>\n",
       "      <td>0.0</td>\n",
       "      <td>0.0</td>\n",
       "      <td>1.0</td>\n",
       "      <td>0.0</td>\n",
       "      <td>0.0</td>\n",
       "      <td>1.0</td>\n",
       "      <td>0.0</td>\n",
       "      <td>0.0</td>\n",
       "      <td>0.0</td>\n",
       "      <td>0.0</td>\n",
       "      <td>1.0</td>\n",
       "      <td>0.0</td>\n",
       "      <td>0.0</td>\n",
       "      <td>0.0</td>\n",
       "      <td>0.0</td>\n",
       "      <td>0.0</td>\n",
       "      <td>1.0</td>\n",
       "      <td>0.0</td>\n",
       "      <td>0.0</td>\n",
       "      <td>0.0</td>\n",
       "      <td>0.0</td>\n",
       "      <td>1.0</td>\n",
       "      <td>0.0</td>\n",
       "      <td>0.0</td>\n",
       "      <td>0.0</td>\n",
       "      <td>1.0</td>\n",
       "      <td>0.0</td>\n",
       "      <td>0.0</td>\n",
       "      <td>0.0</td>\n",
       "      <td>0.0</td>\n",
       "      <td>0.0</td>\n",
       "      <td>0.0</td>\n",
       "      <td>0.0</td>\n",
       "      <td>1.0</td>\n",
       "      <td>0.0</td>\n",
       "      <td>0.0</td>\n",
       "      <td>1.0</td>\n",
       "      <td>0.0</td>\n",
       "      <td>0.0</td>\n",
       "      <td>0.0</td>\n",
       "      <td>0.0</td>\n",
       "      <td>1.0</td>\n",
       "      <td>0.0</td>\n",
       "      <td>0.0</td>\n",
       "      <td>0.0</td>\n",
       "      <td>0.0</td>\n",
       "      <td>0.0</td>\n",
       "      <td>1.0</td>\n",
       "      <td>0.0</td>\n",
       "      <td>0.0</td>\n",
       "      <td>0.0</td>\n",
       "      <td>0.0</td>\n",
       "      <td>0.0</td>\n",
       "      <td>0.0</td>\n",
       "      <td>0.0</td>\n",
       "      <td>1.0</td>\n",
       "      <td>0.0</td>\n",
       "      <td>0.0</td>\n",
       "      <td>0.0</td>\n",
       "      <td>0.0</td>\n",
       "      <td>0.0</td>\n",
       "      <td>1.0</td>\n",
       "      <td>0.0</td>\n",
       "      <td>0.0</td>\n",
       "      <td>0.0</td>\n",
       "      <td>1.0</td>\n",
       "      <td>0.0</td>\n",
       "      <td>0.0</td>\n",
       "      <td>0.0</td>\n",
       "      <td>1.0</td>\n",
       "      <td>0.0</td>\n",
       "      <td>0.0</td>\n",
       "      <td>0.0</td>\n",
       "      <td>0.0</td>\n",
       "      <td>1.0</td>\n",
       "      <td>0.0</td>\n",
       "      <td>0.0</td>\n",
       "      <td>0.0</td>\n",
       "      <td>0.0</td>\n",
       "      <td>1.0</td>\n",
       "      <td>0.0</td>\n",
       "      <td>0.0</td>\n",
       "      <td>0.0</td>\n",
       "      <td>0.0</td>\n",
       "      <td>0.0</td>\n",
       "      <td>0.0</td>\n",
       "      <td>0.0</td>\n",
       "      <td>0.0</td>\n",
       "      <td>1.0</td>\n",
       "      <td>0.0</td>\n",
       "      <td>0.0</td>\n",
       "      <td>0.0</td>\n",
       "      <td>0.0</td>\n",
       "      <td>1.0</td>\n",
       "      <td>0.0</td>\n",
       "    </tr>\n",
       "    <tr>\n",
       "      <th>810</th>\n",
       "      <td>0.000000</td>\n",
       "      <td>0.195205</td>\n",
       "      <td>0.041319</td>\n",
       "      <td>0.555556</td>\n",
       "      <td>0.625</td>\n",
       "      <td>0.739130</td>\n",
       "      <td>0.816667</td>\n",
       "      <td>0.061875</td>\n",
       "      <td>0.117470</td>\n",
       "      <td>0.255767</td>\n",
       "      <td>0.000000</td>\n",
       "      <td>0.170213</td>\n",
       "      <td>0.223726</td>\n",
       "      <td>0.000000</td>\n",
       "      <td>0.0</td>\n",
       "      <td>0.183685</td>\n",
       "      <td>0.333333</td>\n",
       "      <td>0.0</td>\n",
       "      <td>0.333333</td>\n",
       "      <td>0.5</td>\n",
       "      <td>0.375</td>\n",
       "      <td>0.333333</td>\n",
       "      <td>0.250000</td>\n",
       "      <td>0.333333</td>\n",
       "      <td>0.672727</td>\n",
       "      <td>0.50</td>\n",
       "      <td>0.341326</td>\n",
       "      <td>0.309218</td>\n",
       "      <td>0.000000</td>\n",
       "      <td>0.000000</td>\n",
       "      <td>0.0</td>\n",
       "      <td>0.0</td>\n",
       "      <td>0.878049</td>\n",
       "      <td>0.000000</td>\n",
       "      <td>0.000000</td>\n",
       "      <td>0.00</td>\n",
       "      <td>0.0</td>\n",
       "      <td>0.0</td>\n",
       "      <td>0.0</td>\n",
       "      <td>1.0</td>\n",
       "      <td>0.0</td>\n",
       "      <td>0.0</td>\n",
       "      <td>1.0</td>\n",
       "      <td>0.0</td>\n",
       "      <td>0.0</td>\n",
       "      <td>1.0</td>\n",
       "      <td>0.0</td>\n",
       "      <td>0.0</td>\n",
       "      <td>0.0</td>\n",
       "      <td>1.0</td>\n",
       "      <td>0.0</td>\n",
       "      <td>0.0</td>\n",
       "      <td>0.0</td>\n",
       "      <td>1.0</td>\n",
       "      <td>1.0</td>\n",
       "      <td>0.0</td>\n",
       "      <td>0.0</td>\n",
       "      <td>0.0</td>\n",
       "      <td>0.0</td>\n",
       "      <td>0.0</td>\n",
       "      <td>1.0</td>\n",
       "      <td>1.0</td>\n",
       "      <td>0.0</td>\n",
       "      <td>0.0</td>\n",
       "      <td>0.0</td>\n",
       "      <td>0.0</td>\n",
       "      <td>0.0</td>\n",
       "      <td>0.0</td>\n",
       "      <td>0.0</td>\n",
       "      <td>0.0</td>\n",
       "      <td>0.0</td>\n",
       "      <td>0.0</td>\n",
       "      <td>0.0</td>\n",
       "      <td>0.0</td>\n",
       "      <td>0.0</td>\n",
       "      <td>0.0</td>\n",
       "      <td>0.0</td>\n",
       "      <td>0.0</td>\n",
       "      <td>1.0</td>\n",
       "      <td>0.0</td>\n",
       "      <td>0.0</td>\n",
       "      <td>0.0</td>\n",
       "      <td>0.0</td>\n",
       "      <td>0.0</td>\n",
       "      <td>0.0</td>\n",
       "      <td>0.0</td>\n",
       "      <td>0.0</td>\n",
       "      <td>0.0</td>\n",
       "      <td>0.0</td>\n",
       "      <td>0.0</td>\n",
       "      <td>0.0</td>\n",
       "      <td>1.0</td>\n",
       "      <td>0.0</td>\n",
       "      <td>0.0</td>\n",
       "      <td>0.0</td>\n",
       "      <td>0.0</td>\n",
       "      <td>0.0</td>\n",
       "      <td>0.0</td>\n",
       "      <td>0.0</td>\n",
       "      <td>0.0</td>\n",
       "      <td>...</td>\n",
       "      <td>0.0</td>\n",
       "      <td>0.0</td>\n",
       "      <td>0.0</td>\n",
       "      <td>0.0</td>\n",
       "      <td>0.0</td>\n",
       "      <td>1.0</td>\n",
       "      <td>0.0</td>\n",
       "      <td>0.0</td>\n",
       "      <td>0.0</td>\n",
       "      <td>0.0</td>\n",
       "      <td>1.0</td>\n",
       "      <td>0.0</td>\n",
       "      <td>0.0</td>\n",
       "      <td>0.0</td>\n",
       "      <td>0.0</td>\n",
       "      <td>0.0</td>\n",
       "      <td>1.0</td>\n",
       "      <td>0.0</td>\n",
       "      <td>0.0</td>\n",
       "      <td>0.0</td>\n",
       "      <td>0.0</td>\n",
       "      <td>1.0</td>\n",
       "      <td>0.0</td>\n",
       "      <td>0.0</td>\n",
       "      <td>0.0</td>\n",
       "      <td>0.0</td>\n",
       "      <td>1.0</td>\n",
       "      <td>0.0</td>\n",
       "      <td>0.0</td>\n",
       "      <td>0.0</td>\n",
       "      <td>1.0</td>\n",
       "      <td>0.0</td>\n",
       "      <td>0.0</td>\n",
       "      <td>0.0</td>\n",
       "      <td>0.0</td>\n",
       "      <td>0.0</td>\n",
       "      <td>0.0</td>\n",
       "      <td>0.0</td>\n",
       "      <td>1.0</td>\n",
       "      <td>0.0</td>\n",
       "      <td>1.0</td>\n",
       "      <td>0.0</td>\n",
       "      <td>0.0</td>\n",
       "      <td>0.0</td>\n",
       "      <td>0.0</td>\n",
       "      <td>0.0</td>\n",
       "      <td>1.0</td>\n",
       "      <td>0.0</td>\n",
       "      <td>0.0</td>\n",
       "      <td>0.0</td>\n",
       "      <td>0.0</td>\n",
       "      <td>0.0</td>\n",
       "      <td>0.0</td>\n",
       "      <td>1.0</td>\n",
       "      <td>0.0</td>\n",
       "      <td>0.0</td>\n",
       "      <td>0.0</td>\n",
       "      <td>0.0</td>\n",
       "      <td>0.0</td>\n",
       "      <td>0.0</td>\n",
       "      <td>1.0</td>\n",
       "      <td>0.0</td>\n",
       "      <td>0.0</td>\n",
       "      <td>0.0</td>\n",
       "      <td>0.0</td>\n",
       "      <td>0.0</td>\n",
       "      <td>1.0</td>\n",
       "      <td>0.0</td>\n",
       "      <td>0.0</td>\n",
       "      <td>0.0</td>\n",
       "      <td>1.0</td>\n",
       "      <td>0.0</td>\n",
       "      <td>1.0</td>\n",
       "      <td>0.0</td>\n",
       "      <td>0.0</td>\n",
       "      <td>1.0</td>\n",
       "      <td>0.0</td>\n",
       "      <td>0.0</td>\n",
       "      <td>0.0</td>\n",
       "      <td>0.0</td>\n",
       "      <td>0.0</td>\n",
       "      <td>0.0</td>\n",
       "      <td>0.0</td>\n",
       "      <td>0.0</td>\n",
       "      <td>1.0</td>\n",
       "      <td>0.0</td>\n",
       "      <td>0.0</td>\n",
       "      <td>0.0</td>\n",
       "      <td>0.0</td>\n",
       "      <td>0.0</td>\n",
       "      <td>0.0</td>\n",
       "      <td>0.0</td>\n",
       "      <td>0.0</td>\n",
       "      <td>1.0</td>\n",
       "      <td>0.0</td>\n",
       "      <td>0.0</td>\n",
       "      <td>0.0</td>\n",
       "      <td>0.0</td>\n",
       "      <td>1.0</td>\n",
       "      <td>0.0</td>\n",
       "    </tr>\n",
       "    <tr>\n",
       "      <th>1384</th>\n",
       "      <td>0.176471</td>\n",
       "      <td>0.133562</td>\n",
       "      <td>0.036271</td>\n",
       "      <td>0.555556</td>\n",
       "      <td>0.500</td>\n",
       "      <td>0.485507</td>\n",
       "      <td>0.000000</td>\n",
       "      <td>0.000000</td>\n",
       "      <td>0.036145</td>\n",
       "      <td>0.000000</td>\n",
       "      <td>0.152397</td>\n",
       "      <td>0.091653</td>\n",
       "      <td>0.083525</td>\n",
       "      <td>0.271186</td>\n",
       "      <td>0.0</td>\n",
       "      <td>0.174077</td>\n",
       "      <td>0.000000</td>\n",
       "      <td>0.0</td>\n",
       "      <td>0.333333</td>\n",
       "      <td>0.0</td>\n",
       "      <td>0.250</td>\n",
       "      <td>0.333333</td>\n",
       "      <td>0.333333</td>\n",
       "      <td>0.000000</td>\n",
       "      <td>0.354545</td>\n",
       "      <td>0.25</td>\n",
       "      <td>0.197461</td>\n",
       "      <td>0.000000</td>\n",
       "      <td>0.000000</td>\n",
       "      <td>0.000000</td>\n",
       "      <td>0.0</td>\n",
       "      <td>0.0</td>\n",
       "      <td>0.000000</td>\n",
       "      <td>0.000000</td>\n",
       "      <td>0.818182</td>\n",
       "      <td>0.75</td>\n",
       "      <td>0.0</td>\n",
       "      <td>0.0</td>\n",
       "      <td>0.0</td>\n",
       "      <td>1.0</td>\n",
       "      <td>0.0</td>\n",
       "      <td>0.0</td>\n",
       "      <td>1.0</td>\n",
       "      <td>0.0</td>\n",
       "      <td>0.0</td>\n",
       "      <td>1.0</td>\n",
       "      <td>0.0</td>\n",
       "      <td>0.0</td>\n",
       "      <td>0.0</td>\n",
       "      <td>1.0</td>\n",
       "      <td>0.0</td>\n",
       "      <td>0.0</td>\n",
       "      <td>0.0</td>\n",
       "      <td>1.0</td>\n",
       "      <td>1.0</td>\n",
       "      <td>0.0</td>\n",
       "      <td>0.0</td>\n",
       "      <td>0.0</td>\n",
       "      <td>0.0</td>\n",
       "      <td>0.0</td>\n",
       "      <td>1.0</td>\n",
       "      <td>1.0</td>\n",
       "      <td>0.0</td>\n",
       "      <td>0.0</td>\n",
       "      <td>0.0</td>\n",
       "      <td>0.0</td>\n",
       "      <td>0.0</td>\n",
       "      <td>0.0</td>\n",
       "      <td>0.0</td>\n",
       "      <td>0.0</td>\n",
       "      <td>0.0</td>\n",
       "      <td>1.0</td>\n",
       "      <td>0.0</td>\n",
       "      <td>0.0</td>\n",
       "      <td>0.0</td>\n",
       "      <td>0.0</td>\n",
       "      <td>0.0</td>\n",
       "      <td>0.0</td>\n",
       "      <td>0.0</td>\n",
       "      <td>0.0</td>\n",
       "      <td>0.0</td>\n",
       "      <td>0.0</td>\n",
       "      <td>0.0</td>\n",
       "      <td>0.0</td>\n",
       "      <td>0.0</td>\n",
       "      <td>0.0</td>\n",
       "      <td>0.0</td>\n",
       "      <td>0.0</td>\n",
       "      <td>0.0</td>\n",
       "      <td>0.0</td>\n",
       "      <td>0.0</td>\n",
       "      <td>1.0</td>\n",
       "      <td>0.0</td>\n",
       "      <td>0.0</td>\n",
       "      <td>0.0</td>\n",
       "      <td>0.0</td>\n",
       "      <td>0.0</td>\n",
       "      <td>0.0</td>\n",
       "      <td>0.0</td>\n",
       "      <td>0.0</td>\n",
       "      <td>...</td>\n",
       "      <td>0.0</td>\n",
       "      <td>0.0</td>\n",
       "      <td>0.0</td>\n",
       "      <td>0.0</td>\n",
       "      <td>0.0</td>\n",
       "      <td>0.0</td>\n",
       "      <td>0.0</td>\n",
       "      <td>1.0</td>\n",
       "      <td>0.0</td>\n",
       "      <td>0.0</td>\n",
       "      <td>1.0</td>\n",
       "      <td>0.0</td>\n",
       "      <td>0.0</td>\n",
       "      <td>0.0</td>\n",
       "      <td>0.0</td>\n",
       "      <td>0.0</td>\n",
       "      <td>0.0</td>\n",
       "      <td>0.0</td>\n",
       "      <td>0.0</td>\n",
       "      <td>1.0</td>\n",
       "      <td>0.0</td>\n",
       "      <td>1.0</td>\n",
       "      <td>0.0</td>\n",
       "      <td>0.0</td>\n",
       "      <td>0.0</td>\n",
       "      <td>0.0</td>\n",
       "      <td>1.0</td>\n",
       "      <td>0.0</td>\n",
       "      <td>0.0</td>\n",
       "      <td>0.0</td>\n",
       "      <td>0.0</td>\n",
       "      <td>1.0</td>\n",
       "      <td>0.0</td>\n",
       "      <td>0.0</td>\n",
       "      <td>0.0</td>\n",
       "      <td>0.0</td>\n",
       "      <td>0.0</td>\n",
       "      <td>0.0</td>\n",
       "      <td>1.0</td>\n",
       "      <td>0.0</td>\n",
       "      <td>0.0</td>\n",
       "      <td>0.0</td>\n",
       "      <td>0.0</td>\n",
       "      <td>0.0</td>\n",
       "      <td>1.0</td>\n",
       "      <td>0.0</td>\n",
       "      <td>0.0</td>\n",
       "      <td>0.0</td>\n",
       "      <td>0.0</td>\n",
       "      <td>0.0</td>\n",
       "      <td>1.0</td>\n",
       "      <td>0.0</td>\n",
       "      <td>0.0</td>\n",
       "      <td>0.0</td>\n",
       "      <td>1.0</td>\n",
       "      <td>0.0</td>\n",
       "      <td>0.0</td>\n",
       "      <td>0.0</td>\n",
       "      <td>0.0</td>\n",
       "      <td>0.0</td>\n",
       "      <td>1.0</td>\n",
       "      <td>0.0</td>\n",
       "      <td>0.0</td>\n",
       "      <td>0.0</td>\n",
       "      <td>0.0</td>\n",
       "      <td>0.0</td>\n",
       "      <td>1.0</td>\n",
       "      <td>0.0</td>\n",
       "      <td>0.0</td>\n",
       "      <td>1.0</td>\n",
       "      <td>0.0</td>\n",
       "      <td>0.0</td>\n",
       "      <td>0.0</td>\n",
       "      <td>0.0</td>\n",
       "      <td>1.0</td>\n",
       "      <td>0.0</td>\n",
       "      <td>0.0</td>\n",
       "      <td>1.0</td>\n",
       "      <td>0.0</td>\n",
       "      <td>0.0</td>\n",
       "      <td>0.0</td>\n",
       "      <td>0.0</td>\n",
       "      <td>0.0</td>\n",
       "      <td>0.0</td>\n",
       "      <td>1.0</td>\n",
       "      <td>0.0</td>\n",
       "      <td>0.0</td>\n",
       "      <td>0.0</td>\n",
       "      <td>0.0</td>\n",
       "      <td>0.0</td>\n",
       "      <td>0.0</td>\n",
       "      <td>0.0</td>\n",
       "      <td>0.0</td>\n",
       "      <td>1.0</td>\n",
       "      <td>0.0</td>\n",
       "      <td>0.0</td>\n",
       "      <td>0.0</td>\n",
       "      <td>0.0</td>\n",
       "      <td>1.0</td>\n",
       "      <td>0.0</td>\n",
       "    </tr>\n",
       "    <tr>\n",
       "      <th>626</th>\n",
       "      <td>0.000000</td>\n",
       "      <td>0.167979</td>\n",
       "      <td>0.051611</td>\n",
       "      <td>0.444444</td>\n",
       "      <td>0.500</td>\n",
       "      <td>0.637681</td>\n",
       "      <td>0.466667</td>\n",
       "      <td>0.000000</td>\n",
       "      <td>0.000000</td>\n",
       "      <td>0.000000</td>\n",
       "      <td>0.418664</td>\n",
       "      <td>0.160065</td>\n",
       "      <td>0.249656</td>\n",
       "      <td>0.000000</td>\n",
       "      <td>0.0</td>\n",
       "      <td>0.204974</td>\n",
       "      <td>0.000000</td>\n",
       "      <td>0.0</td>\n",
       "      <td>0.333333</td>\n",
       "      <td>0.0</td>\n",
       "      <td>0.375</td>\n",
       "      <td>0.333333</td>\n",
       "      <td>0.333333</td>\n",
       "      <td>0.333333</td>\n",
       "      <td>0.545455</td>\n",
       "      <td>0.25</td>\n",
       "      <td>0.201693</td>\n",
       "      <td>0.000000</td>\n",
       "      <td>0.000000</td>\n",
       "      <td>0.065217</td>\n",
       "      <td>0.0</td>\n",
       "      <td>0.0</td>\n",
       "      <td>0.000000</td>\n",
       "      <td>0.038710</td>\n",
       "      <td>0.636364</td>\n",
       "      <td>0.25</td>\n",
       "      <td>0.0</td>\n",
       "      <td>0.0</td>\n",
       "      <td>0.0</td>\n",
       "      <td>1.0</td>\n",
       "      <td>0.0</td>\n",
       "      <td>0.0</td>\n",
       "      <td>1.0</td>\n",
       "      <td>0.0</td>\n",
       "      <td>0.0</td>\n",
       "      <td>1.0</td>\n",
       "      <td>1.0</td>\n",
       "      <td>0.0</td>\n",
       "      <td>0.0</td>\n",
       "      <td>0.0</td>\n",
       "      <td>0.0</td>\n",
       "      <td>0.0</td>\n",
       "      <td>0.0</td>\n",
       "      <td>1.0</td>\n",
       "      <td>1.0</td>\n",
       "      <td>0.0</td>\n",
       "      <td>0.0</td>\n",
       "      <td>0.0</td>\n",
       "      <td>0.0</td>\n",
       "      <td>0.0</td>\n",
       "      <td>1.0</td>\n",
       "      <td>1.0</td>\n",
       "      <td>0.0</td>\n",
       "      <td>0.0</td>\n",
       "      <td>0.0</td>\n",
       "      <td>0.0</td>\n",
       "      <td>0.0</td>\n",
       "      <td>0.0</td>\n",
       "      <td>0.0</td>\n",
       "      <td>0.0</td>\n",
       "      <td>0.0</td>\n",
       "      <td>0.0</td>\n",
       "      <td>0.0</td>\n",
       "      <td>0.0</td>\n",
       "      <td>0.0</td>\n",
       "      <td>0.0</td>\n",
       "      <td>1.0</td>\n",
       "      <td>0.0</td>\n",
       "      <td>0.0</td>\n",
       "      <td>0.0</td>\n",
       "      <td>0.0</td>\n",
       "      <td>0.0</td>\n",
       "      <td>0.0</td>\n",
       "      <td>0.0</td>\n",
       "      <td>0.0</td>\n",
       "      <td>0.0</td>\n",
       "      <td>0.0</td>\n",
       "      <td>0.0</td>\n",
       "      <td>0.0</td>\n",
       "      <td>0.0</td>\n",
       "      <td>0.0</td>\n",
       "      <td>1.0</td>\n",
       "      <td>0.0</td>\n",
       "      <td>0.0</td>\n",
       "      <td>0.0</td>\n",
       "      <td>0.0</td>\n",
       "      <td>0.0</td>\n",
       "      <td>0.0</td>\n",
       "      <td>0.0</td>\n",
       "      <td>0.0</td>\n",
       "      <td>...</td>\n",
       "      <td>1.0</td>\n",
       "      <td>0.0</td>\n",
       "      <td>0.0</td>\n",
       "      <td>0.0</td>\n",
       "      <td>0.0</td>\n",
       "      <td>0.0</td>\n",
       "      <td>0.0</td>\n",
       "      <td>1.0</td>\n",
       "      <td>0.0</td>\n",
       "      <td>0.0</td>\n",
       "      <td>1.0</td>\n",
       "      <td>0.0</td>\n",
       "      <td>0.0</td>\n",
       "      <td>0.0</td>\n",
       "      <td>0.0</td>\n",
       "      <td>0.0</td>\n",
       "      <td>0.0</td>\n",
       "      <td>0.0</td>\n",
       "      <td>0.0</td>\n",
       "      <td>1.0</td>\n",
       "      <td>0.0</td>\n",
       "      <td>1.0</td>\n",
       "      <td>0.0</td>\n",
       "      <td>0.0</td>\n",
       "      <td>0.0</td>\n",
       "      <td>0.0</td>\n",
       "      <td>1.0</td>\n",
       "      <td>0.0</td>\n",
       "      <td>0.0</td>\n",
       "      <td>0.0</td>\n",
       "      <td>0.0</td>\n",
       "      <td>1.0</td>\n",
       "      <td>0.0</td>\n",
       "      <td>0.0</td>\n",
       "      <td>1.0</td>\n",
       "      <td>0.0</td>\n",
       "      <td>0.0</td>\n",
       "      <td>0.0</td>\n",
       "      <td>0.0</td>\n",
       "      <td>0.0</td>\n",
       "      <td>0.0</td>\n",
       "      <td>0.0</td>\n",
       "      <td>0.0</td>\n",
       "      <td>1.0</td>\n",
       "      <td>0.0</td>\n",
       "      <td>0.0</td>\n",
       "      <td>1.0</td>\n",
       "      <td>0.0</td>\n",
       "      <td>0.0</td>\n",
       "      <td>0.0</td>\n",
       "      <td>0.0</td>\n",
       "      <td>0.0</td>\n",
       "      <td>0.0</td>\n",
       "      <td>1.0</td>\n",
       "      <td>0.0</td>\n",
       "      <td>0.0</td>\n",
       "      <td>0.0</td>\n",
       "      <td>0.0</td>\n",
       "      <td>0.0</td>\n",
       "      <td>0.0</td>\n",
       "      <td>1.0</td>\n",
       "      <td>0.0</td>\n",
       "      <td>0.0</td>\n",
       "      <td>0.0</td>\n",
       "      <td>0.0</td>\n",
       "      <td>0.0</td>\n",
       "      <td>1.0</td>\n",
       "      <td>0.0</td>\n",
       "      <td>0.0</td>\n",
       "      <td>0.0</td>\n",
       "      <td>1.0</td>\n",
       "      <td>0.0</td>\n",
       "      <td>0.0</td>\n",
       "      <td>0.0</td>\n",
       "      <td>1.0</td>\n",
       "      <td>0.0</td>\n",
       "      <td>1.0</td>\n",
       "      <td>0.0</td>\n",
       "      <td>0.0</td>\n",
       "      <td>0.0</td>\n",
       "      <td>0.0</td>\n",
       "      <td>0.0</td>\n",
       "      <td>1.0</td>\n",
       "      <td>0.0</td>\n",
       "      <td>0.0</td>\n",
       "      <td>0.0</td>\n",
       "      <td>0.0</td>\n",
       "      <td>0.0</td>\n",
       "      <td>0.0</td>\n",
       "      <td>0.0</td>\n",
       "      <td>0.0</td>\n",
       "      <td>0.0</td>\n",
       "      <td>0.0</td>\n",
       "      <td>1.0</td>\n",
       "      <td>0.0</td>\n",
       "      <td>0.0</td>\n",
       "      <td>0.0</td>\n",
       "      <td>0.0</td>\n",
       "      <td>1.0</td>\n",
       "      <td>0.0</td>\n",
       "    </tr>\n",
       "    <tr>\n",
       "      <th>813</th>\n",
       "      <td>0.000000</td>\n",
       "      <td>0.184932</td>\n",
       "      <td>0.039496</td>\n",
       "      <td>0.555556</td>\n",
       "      <td>0.625</td>\n",
       "      <td>0.623188</td>\n",
       "      <td>0.133333</td>\n",
       "      <td>0.151875</td>\n",
       "      <td>0.107725</td>\n",
       "      <td>0.000000</td>\n",
       "      <td>0.357021</td>\n",
       "      <td>0.236007</td>\n",
       "      <td>0.254245</td>\n",
       "      <td>0.000000</td>\n",
       "      <td>0.0</td>\n",
       "      <td>0.208742</td>\n",
       "      <td>0.000000</td>\n",
       "      <td>0.0</td>\n",
       "      <td>0.333333</td>\n",
       "      <td>0.5</td>\n",
       "      <td>0.500</td>\n",
       "      <td>0.333333</td>\n",
       "      <td>0.416667</td>\n",
       "      <td>0.000000</td>\n",
       "      <td>0.527273</td>\n",
       "      <td>0.25</td>\n",
       "      <td>0.212271</td>\n",
       "      <td>0.000000</td>\n",
       "      <td>0.000000</td>\n",
       "      <td>0.498188</td>\n",
       "      <td>0.0</td>\n",
       "      <td>0.0</td>\n",
       "      <td>0.000000</td>\n",
       "      <td>0.032258</td>\n",
       "      <td>0.272727</td>\n",
       "      <td>0.25</td>\n",
       "      <td>0.0</td>\n",
       "      <td>0.0</td>\n",
       "      <td>0.0</td>\n",
       "      <td>1.0</td>\n",
       "      <td>0.0</td>\n",
       "      <td>0.0</td>\n",
       "      <td>1.0</td>\n",
       "      <td>0.0</td>\n",
       "      <td>0.0</td>\n",
       "      <td>1.0</td>\n",
       "      <td>0.0</td>\n",
       "      <td>0.0</td>\n",
       "      <td>0.0</td>\n",
       "      <td>1.0</td>\n",
       "      <td>0.0</td>\n",
       "      <td>0.0</td>\n",
       "      <td>0.0</td>\n",
       "      <td>1.0</td>\n",
       "      <td>1.0</td>\n",
       "      <td>0.0</td>\n",
       "      <td>0.0</td>\n",
       "      <td>0.0</td>\n",
       "      <td>0.0</td>\n",
       "      <td>0.0</td>\n",
       "      <td>1.0</td>\n",
       "      <td>1.0</td>\n",
       "      <td>0.0</td>\n",
       "      <td>0.0</td>\n",
       "      <td>0.0</td>\n",
       "      <td>0.0</td>\n",
       "      <td>0.0</td>\n",
       "      <td>0.0</td>\n",
       "      <td>0.0</td>\n",
       "      <td>0.0</td>\n",
       "      <td>0.0</td>\n",
       "      <td>0.0</td>\n",
       "      <td>0.0</td>\n",
       "      <td>0.0</td>\n",
       "      <td>0.0</td>\n",
       "      <td>0.0</td>\n",
       "      <td>1.0</td>\n",
       "      <td>0.0</td>\n",
       "      <td>0.0</td>\n",
       "      <td>0.0</td>\n",
       "      <td>0.0</td>\n",
       "      <td>0.0</td>\n",
       "      <td>0.0</td>\n",
       "      <td>0.0</td>\n",
       "      <td>0.0</td>\n",
       "      <td>0.0</td>\n",
       "      <td>0.0</td>\n",
       "      <td>0.0</td>\n",
       "      <td>0.0</td>\n",
       "      <td>0.0</td>\n",
       "      <td>0.0</td>\n",
       "      <td>1.0</td>\n",
       "      <td>0.0</td>\n",
       "      <td>0.0</td>\n",
       "      <td>0.0</td>\n",
       "      <td>0.0</td>\n",
       "      <td>0.0</td>\n",
       "      <td>0.0</td>\n",
       "      <td>0.0</td>\n",
       "      <td>0.0</td>\n",
       "      <td>...</td>\n",
       "      <td>0.0</td>\n",
       "      <td>0.0</td>\n",
       "      <td>0.0</td>\n",
       "      <td>0.0</td>\n",
       "      <td>0.0</td>\n",
       "      <td>0.0</td>\n",
       "      <td>0.0</td>\n",
       "      <td>1.0</td>\n",
       "      <td>0.0</td>\n",
       "      <td>0.0</td>\n",
       "      <td>1.0</td>\n",
       "      <td>0.0</td>\n",
       "      <td>0.0</td>\n",
       "      <td>0.0</td>\n",
       "      <td>0.0</td>\n",
       "      <td>0.0</td>\n",
       "      <td>0.0</td>\n",
       "      <td>1.0</td>\n",
       "      <td>0.0</td>\n",
       "      <td>0.0</td>\n",
       "      <td>0.0</td>\n",
       "      <td>1.0</td>\n",
       "      <td>0.0</td>\n",
       "      <td>0.0</td>\n",
       "      <td>0.0</td>\n",
       "      <td>0.0</td>\n",
       "      <td>1.0</td>\n",
       "      <td>0.0</td>\n",
       "      <td>0.0</td>\n",
       "      <td>0.0</td>\n",
       "      <td>0.0</td>\n",
       "      <td>1.0</td>\n",
       "      <td>0.0</td>\n",
       "      <td>0.0</td>\n",
       "      <td>0.0</td>\n",
       "      <td>0.0</td>\n",
       "      <td>0.0</td>\n",
       "      <td>0.0</td>\n",
       "      <td>1.0</td>\n",
       "      <td>0.0</td>\n",
       "      <td>0.0</td>\n",
       "      <td>0.0</td>\n",
       "      <td>0.0</td>\n",
       "      <td>0.0</td>\n",
       "      <td>1.0</td>\n",
       "      <td>0.0</td>\n",
       "      <td>1.0</td>\n",
       "      <td>0.0</td>\n",
       "      <td>0.0</td>\n",
       "      <td>0.0</td>\n",
       "      <td>0.0</td>\n",
       "      <td>0.0</td>\n",
       "      <td>0.0</td>\n",
       "      <td>1.0</td>\n",
       "      <td>0.0</td>\n",
       "      <td>0.0</td>\n",
       "      <td>0.0</td>\n",
       "      <td>0.0</td>\n",
       "      <td>0.0</td>\n",
       "      <td>0.0</td>\n",
       "      <td>1.0</td>\n",
       "      <td>0.0</td>\n",
       "      <td>0.0</td>\n",
       "      <td>0.0</td>\n",
       "      <td>0.0</td>\n",
       "      <td>0.0</td>\n",
       "      <td>1.0</td>\n",
       "      <td>0.0</td>\n",
       "      <td>0.0</td>\n",
       "      <td>0.0</td>\n",
       "      <td>1.0</td>\n",
       "      <td>0.0</td>\n",
       "      <td>0.0</td>\n",
       "      <td>0.0</td>\n",
       "      <td>1.0</td>\n",
       "      <td>0.0</td>\n",
       "      <td>0.0</td>\n",
       "      <td>0.0</td>\n",
       "      <td>0.0</td>\n",
       "      <td>1.0</td>\n",
       "      <td>0.0</td>\n",
       "      <td>0.0</td>\n",
       "      <td>1.0</td>\n",
       "      <td>0.0</td>\n",
       "      <td>0.0</td>\n",
       "      <td>1.0</td>\n",
       "      <td>0.0</td>\n",
       "      <td>0.0</td>\n",
       "      <td>0.0</td>\n",
       "      <td>0.0</td>\n",
       "      <td>0.0</td>\n",
       "      <td>0.0</td>\n",
       "      <td>0.0</td>\n",
       "      <td>0.0</td>\n",
       "      <td>0.0</td>\n",
       "      <td>0.0</td>\n",
       "      <td>0.0</td>\n",
       "      <td>0.0</td>\n",
       "      <td>1.0</td>\n",
       "      <td>0.0</td>\n",
       "    </tr>\n",
       "    <tr>\n",
       "      <th>...</th>\n",
       "      <td>...</td>\n",
       "      <td>...</td>\n",
       "      <td>...</td>\n",
       "      <td>...</td>\n",
       "      <td>...</td>\n",
       "      <td>...</td>\n",
       "      <td>...</td>\n",
       "      <td>...</td>\n",
       "      <td>...</td>\n",
       "      <td>...</td>\n",
       "      <td>...</td>\n",
       "      <td>...</td>\n",
       "      <td>...</td>\n",
       "      <td>...</td>\n",
       "      <td>...</td>\n",
       "      <td>...</td>\n",
       "      <td>...</td>\n",
       "      <td>...</td>\n",
       "      <td>...</td>\n",
       "      <td>...</td>\n",
       "      <td>...</td>\n",
       "      <td>...</td>\n",
       "      <td>...</td>\n",
       "      <td>...</td>\n",
       "      <td>...</td>\n",
       "      <td>...</td>\n",
       "      <td>...</td>\n",
       "      <td>...</td>\n",
       "      <td>...</td>\n",
       "      <td>...</td>\n",
       "      <td>...</td>\n",
       "      <td>...</td>\n",
       "      <td>...</td>\n",
       "      <td>...</td>\n",
       "      <td>...</td>\n",
       "      <td>...</td>\n",
       "      <td>...</td>\n",
       "      <td>...</td>\n",
       "      <td>...</td>\n",
       "      <td>...</td>\n",
       "      <td>...</td>\n",
       "      <td>...</td>\n",
       "      <td>...</td>\n",
       "      <td>...</td>\n",
       "      <td>...</td>\n",
       "      <td>...</td>\n",
       "      <td>...</td>\n",
       "      <td>...</td>\n",
       "      <td>...</td>\n",
       "      <td>...</td>\n",
       "      <td>...</td>\n",
       "      <td>...</td>\n",
       "      <td>...</td>\n",
       "      <td>...</td>\n",
       "      <td>...</td>\n",
       "      <td>...</td>\n",
       "      <td>...</td>\n",
       "      <td>...</td>\n",
       "      <td>...</td>\n",
       "      <td>...</td>\n",
       "      <td>...</td>\n",
       "      <td>...</td>\n",
       "      <td>...</td>\n",
       "      <td>...</td>\n",
       "      <td>...</td>\n",
       "      <td>...</td>\n",
       "      <td>...</td>\n",
       "      <td>...</td>\n",
       "      <td>...</td>\n",
       "      <td>...</td>\n",
       "      <td>...</td>\n",
       "      <td>...</td>\n",
       "      <td>...</td>\n",
       "      <td>...</td>\n",
       "      <td>...</td>\n",
       "      <td>...</td>\n",
       "      <td>...</td>\n",
       "      <td>...</td>\n",
       "      <td>...</td>\n",
       "      <td>...</td>\n",
       "      <td>...</td>\n",
       "      <td>...</td>\n",
       "      <td>...</td>\n",
       "      <td>...</td>\n",
       "      <td>...</td>\n",
       "      <td>...</td>\n",
       "      <td>...</td>\n",
       "      <td>...</td>\n",
       "      <td>...</td>\n",
       "      <td>...</td>\n",
       "      <td>...</td>\n",
       "      <td>...</td>\n",
       "      <td>...</td>\n",
       "      <td>...</td>\n",
       "      <td>...</td>\n",
       "      <td>...</td>\n",
       "      <td>...</td>\n",
       "      <td>...</td>\n",
       "      <td>...</td>\n",
       "      <td>...</td>\n",
       "      <td>...</td>\n",
       "      <td>...</td>\n",
       "      <td>...</td>\n",
       "      <td>...</td>\n",
       "      <td>...</td>\n",
       "      <td>...</td>\n",
       "      <td>...</td>\n",
       "      <td>...</td>\n",
       "      <td>...</td>\n",
       "      <td>...</td>\n",
       "      <td>...</td>\n",
       "      <td>...</td>\n",
       "      <td>...</td>\n",
       "      <td>...</td>\n",
       "      <td>...</td>\n",
       "      <td>...</td>\n",
       "      <td>...</td>\n",
       "      <td>...</td>\n",
       "      <td>...</td>\n",
       "      <td>...</td>\n",
       "      <td>...</td>\n",
       "      <td>...</td>\n",
       "      <td>...</td>\n",
       "      <td>...</td>\n",
       "      <td>...</td>\n",
       "      <td>...</td>\n",
       "      <td>...</td>\n",
       "      <td>...</td>\n",
       "      <td>...</td>\n",
       "      <td>...</td>\n",
       "      <td>...</td>\n",
       "      <td>...</td>\n",
       "      <td>...</td>\n",
       "      <td>...</td>\n",
       "      <td>...</td>\n",
       "      <td>...</td>\n",
       "      <td>...</td>\n",
       "      <td>...</td>\n",
       "      <td>...</td>\n",
       "      <td>...</td>\n",
       "      <td>...</td>\n",
       "      <td>...</td>\n",
       "      <td>...</td>\n",
       "      <td>...</td>\n",
       "      <td>...</td>\n",
       "      <td>...</td>\n",
       "      <td>...</td>\n",
       "      <td>...</td>\n",
       "      <td>...</td>\n",
       "      <td>...</td>\n",
       "      <td>...</td>\n",
       "      <td>...</td>\n",
       "      <td>...</td>\n",
       "      <td>...</td>\n",
       "      <td>...</td>\n",
       "      <td>...</td>\n",
       "      <td>...</td>\n",
       "      <td>...</td>\n",
       "      <td>...</td>\n",
       "      <td>...</td>\n",
       "      <td>...</td>\n",
       "      <td>...</td>\n",
       "      <td>...</td>\n",
       "      <td>...</td>\n",
       "      <td>...</td>\n",
       "      <td>...</td>\n",
       "      <td>...</td>\n",
       "      <td>...</td>\n",
       "      <td>...</td>\n",
       "      <td>...</td>\n",
       "      <td>...</td>\n",
       "      <td>...</td>\n",
       "      <td>...</td>\n",
       "      <td>...</td>\n",
       "      <td>...</td>\n",
       "      <td>...</td>\n",
       "      <td>...</td>\n",
       "      <td>...</td>\n",
       "      <td>...</td>\n",
       "      <td>...</td>\n",
       "      <td>...</td>\n",
       "      <td>...</td>\n",
       "      <td>...</td>\n",
       "      <td>...</td>\n",
       "      <td>...</td>\n",
       "      <td>...</td>\n",
       "      <td>...</td>\n",
       "      <td>...</td>\n",
       "      <td>...</td>\n",
       "      <td>...</td>\n",
       "      <td>...</td>\n",
       "      <td>...</td>\n",
       "      <td>...</td>\n",
       "      <td>...</td>\n",
       "      <td>...</td>\n",
       "      <td>...</td>\n",
       "      <td>...</td>\n",
       "      <td>...</td>\n",
       "      <td>...</td>\n",
       "      <td>...</td>\n",
       "      <td>...</td>\n",
       "    </tr>\n",
       "    <tr>\n",
       "      <th>1095</th>\n",
       "      <td>0.000000</td>\n",
       "      <td>0.195205</td>\n",
       "      <td>0.037472</td>\n",
       "      <td>0.555556</td>\n",
       "      <td>0.500</td>\n",
       "      <td>0.971014</td>\n",
       "      <td>0.933333</td>\n",
       "      <td>0.000000</td>\n",
       "      <td>0.004252</td>\n",
       "      <td>0.000000</td>\n",
       "      <td>0.552226</td>\n",
       "      <td>0.215057</td>\n",
       "      <td>0.224874</td>\n",
       "      <td>0.000000</td>\n",
       "      <td>0.0</td>\n",
       "      <td>0.184627</td>\n",
       "      <td>0.000000</td>\n",
       "      <td>0.0</td>\n",
       "      <td>0.666667</td>\n",
       "      <td>0.0</td>\n",
       "      <td>0.375</td>\n",
       "      <td>0.333333</td>\n",
       "      <td>0.333333</td>\n",
       "      <td>0.333333</td>\n",
       "      <td>0.963636</td>\n",
       "      <td>0.50</td>\n",
       "      <td>0.310296</td>\n",
       "      <td>0.000000</td>\n",
       "      <td>0.040219</td>\n",
       "      <td>0.000000</td>\n",
       "      <td>0.0</td>\n",
       "      <td>0.0</td>\n",
       "      <td>0.000000</td>\n",
       "      <td>0.000000</td>\n",
       "      <td>0.181818</td>\n",
       "      <td>0.25</td>\n",
       "      <td>0.0</td>\n",
       "      <td>0.0</td>\n",
       "      <td>0.0</td>\n",
       "      <td>1.0</td>\n",
       "      <td>0.0</td>\n",
       "      <td>0.0</td>\n",
       "      <td>1.0</td>\n",
       "      <td>0.0</td>\n",
       "      <td>0.0</td>\n",
       "      <td>1.0</td>\n",
       "      <td>1.0</td>\n",
       "      <td>0.0</td>\n",
       "      <td>0.0</td>\n",
       "      <td>0.0</td>\n",
       "      <td>0.0</td>\n",
       "      <td>0.0</td>\n",
       "      <td>0.0</td>\n",
       "      <td>1.0</td>\n",
       "      <td>1.0</td>\n",
       "      <td>0.0</td>\n",
       "      <td>0.0</td>\n",
       "      <td>0.0</td>\n",
       "      <td>0.0</td>\n",
       "      <td>0.0</td>\n",
       "      <td>1.0</td>\n",
       "      <td>1.0</td>\n",
       "      <td>0.0</td>\n",
       "      <td>0.0</td>\n",
       "      <td>0.0</td>\n",
       "      <td>0.0</td>\n",
       "      <td>0.0</td>\n",
       "      <td>0.0</td>\n",
       "      <td>0.0</td>\n",
       "      <td>1.0</td>\n",
       "      <td>0.0</td>\n",
       "      <td>0.0</td>\n",
       "      <td>0.0</td>\n",
       "      <td>0.0</td>\n",
       "      <td>0.0</td>\n",
       "      <td>0.0</td>\n",
       "      <td>0.0</td>\n",
       "      <td>0.0</td>\n",
       "      <td>0.0</td>\n",
       "      <td>0.0</td>\n",
       "      <td>0.0</td>\n",
       "      <td>0.0</td>\n",
       "      <td>0.0</td>\n",
       "      <td>0.0</td>\n",
       "      <td>0.0</td>\n",
       "      <td>0.0</td>\n",
       "      <td>0.0</td>\n",
       "      <td>0.0</td>\n",
       "      <td>0.0</td>\n",
       "      <td>0.0</td>\n",
       "      <td>0.0</td>\n",
       "      <td>1.0</td>\n",
       "      <td>0.0</td>\n",
       "      <td>0.0</td>\n",
       "      <td>0.0</td>\n",
       "      <td>0.0</td>\n",
       "      <td>0.0</td>\n",
       "      <td>0.0</td>\n",
       "      <td>0.0</td>\n",
       "      <td>0.0</td>\n",
       "      <td>...</td>\n",
       "      <td>0.0</td>\n",
       "      <td>0.0</td>\n",
       "      <td>0.0</td>\n",
       "      <td>0.0</td>\n",
       "      <td>0.0</td>\n",
       "      <td>0.0</td>\n",
       "      <td>0.0</td>\n",
       "      <td>1.0</td>\n",
       "      <td>0.0</td>\n",
       "      <td>0.0</td>\n",
       "      <td>1.0</td>\n",
       "      <td>0.0</td>\n",
       "      <td>0.0</td>\n",
       "      <td>0.0</td>\n",
       "      <td>0.0</td>\n",
       "      <td>0.0</td>\n",
       "      <td>0.0</td>\n",
       "      <td>1.0</td>\n",
       "      <td>0.0</td>\n",
       "      <td>0.0</td>\n",
       "      <td>0.0</td>\n",
       "      <td>1.0</td>\n",
       "      <td>0.0</td>\n",
       "      <td>0.0</td>\n",
       "      <td>0.0</td>\n",
       "      <td>0.0</td>\n",
       "      <td>1.0</td>\n",
       "      <td>0.0</td>\n",
       "      <td>0.0</td>\n",
       "      <td>0.0</td>\n",
       "      <td>1.0</td>\n",
       "      <td>0.0</td>\n",
       "      <td>0.0</td>\n",
       "      <td>0.0</td>\n",
       "      <td>0.0</td>\n",
       "      <td>0.0</td>\n",
       "      <td>0.0</td>\n",
       "      <td>0.0</td>\n",
       "      <td>1.0</td>\n",
       "      <td>0.0</td>\n",
       "      <td>0.0</td>\n",
       "      <td>1.0</td>\n",
       "      <td>0.0</td>\n",
       "      <td>0.0</td>\n",
       "      <td>0.0</td>\n",
       "      <td>0.0</td>\n",
       "      <td>1.0</td>\n",
       "      <td>0.0</td>\n",
       "      <td>0.0</td>\n",
       "      <td>0.0</td>\n",
       "      <td>0.0</td>\n",
       "      <td>0.0</td>\n",
       "      <td>0.0</td>\n",
       "      <td>1.0</td>\n",
       "      <td>0.0</td>\n",
       "      <td>0.0</td>\n",
       "      <td>0.0</td>\n",
       "      <td>0.0</td>\n",
       "      <td>0.0</td>\n",
       "      <td>0.0</td>\n",
       "      <td>1.0</td>\n",
       "      <td>0.0</td>\n",
       "      <td>0.0</td>\n",
       "      <td>0.0</td>\n",
       "      <td>0.0</td>\n",
       "      <td>0.0</td>\n",
       "      <td>1.0</td>\n",
       "      <td>0.0</td>\n",
       "      <td>0.0</td>\n",
       "      <td>0.0</td>\n",
       "      <td>1.0</td>\n",
       "      <td>0.0</td>\n",
       "      <td>0.0</td>\n",
       "      <td>0.0</td>\n",
       "      <td>1.0</td>\n",
       "      <td>0.0</td>\n",
       "      <td>0.0</td>\n",
       "      <td>0.0</td>\n",
       "      <td>0.0</td>\n",
       "      <td>1.0</td>\n",
       "      <td>0.0</td>\n",
       "      <td>0.0</td>\n",
       "      <td>0.0</td>\n",
       "      <td>0.0</td>\n",
       "      <td>1.0</td>\n",
       "      <td>0.0</td>\n",
       "      <td>0.0</td>\n",
       "      <td>0.0</td>\n",
       "      <td>0.0</td>\n",
       "      <td>0.0</td>\n",
       "      <td>0.0</td>\n",
       "      <td>0.0</td>\n",
       "      <td>0.0</td>\n",
       "      <td>1.0</td>\n",
       "      <td>0.0</td>\n",
       "      <td>0.0</td>\n",
       "      <td>0.0</td>\n",
       "      <td>0.0</td>\n",
       "      <td>1.0</td>\n",
       "      <td>0.0</td>\n",
       "    </tr>\n",
       "    <tr>\n",
       "      <th>1130</th>\n",
       "      <td>0.176471</td>\n",
       "      <td>0.150685</td>\n",
       "      <td>0.030400</td>\n",
       "      <td>0.333333</td>\n",
       "      <td>0.250</td>\n",
       "      <td>0.405797</td>\n",
       "      <td>0.000000</td>\n",
       "      <td>0.000000</td>\n",
       "      <td>0.110206</td>\n",
       "      <td>0.000000</td>\n",
       "      <td>0.214041</td>\n",
       "      <td>0.183633</td>\n",
       "      <td>0.228086</td>\n",
       "      <td>0.316223</td>\n",
       "      <td>0.0</td>\n",
       "      <td>0.310286</td>\n",
       "      <td>0.333333</td>\n",
       "      <td>0.0</td>\n",
       "      <td>0.666667</td>\n",
       "      <td>0.0</td>\n",
       "      <td>0.500</td>\n",
       "      <td>0.333333</td>\n",
       "      <td>0.416667</td>\n",
       "      <td>0.666667</td>\n",
       "      <td>0.736364</td>\n",
       "      <td>0.50</td>\n",
       "      <td>0.406206</td>\n",
       "      <td>0.502917</td>\n",
       "      <td>0.080439</td>\n",
       "      <td>0.000000</td>\n",
       "      <td>0.0</td>\n",
       "      <td>0.0</td>\n",
       "      <td>0.000000</td>\n",
       "      <td>0.000000</td>\n",
       "      <td>1.000000</td>\n",
       "      <td>0.75</td>\n",
       "      <td>0.0</td>\n",
       "      <td>0.0</td>\n",
       "      <td>0.0</td>\n",
       "      <td>1.0</td>\n",
       "      <td>0.0</td>\n",
       "      <td>0.0</td>\n",
       "      <td>1.0</td>\n",
       "      <td>0.0</td>\n",
       "      <td>0.0</td>\n",
       "      <td>1.0</td>\n",
       "      <td>0.0</td>\n",
       "      <td>0.0</td>\n",
       "      <td>0.0</td>\n",
       "      <td>1.0</td>\n",
       "      <td>0.0</td>\n",
       "      <td>0.0</td>\n",
       "      <td>0.0</td>\n",
       "      <td>1.0</td>\n",
       "      <td>1.0</td>\n",
       "      <td>0.0</td>\n",
       "      <td>0.0</td>\n",
       "      <td>0.0</td>\n",
       "      <td>0.0</td>\n",
       "      <td>0.0</td>\n",
       "      <td>1.0</td>\n",
       "      <td>1.0</td>\n",
       "      <td>0.0</td>\n",
       "      <td>0.0</td>\n",
       "      <td>0.0</td>\n",
       "      <td>0.0</td>\n",
       "      <td>0.0</td>\n",
       "      <td>0.0</td>\n",
       "      <td>0.0</td>\n",
       "      <td>0.0</td>\n",
       "      <td>0.0</td>\n",
       "      <td>0.0</td>\n",
       "      <td>0.0</td>\n",
       "      <td>0.0</td>\n",
       "      <td>0.0</td>\n",
       "      <td>0.0</td>\n",
       "      <td>0.0</td>\n",
       "      <td>0.0</td>\n",
       "      <td>0.0</td>\n",
       "      <td>0.0</td>\n",
       "      <td>0.0</td>\n",
       "      <td>0.0</td>\n",
       "      <td>1.0</td>\n",
       "      <td>0.0</td>\n",
       "      <td>0.0</td>\n",
       "      <td>0.0</td>\n",
       "      <td>0.0</td>\n",
       "      <td>0.0</td>\n",
       "      <td>0.0</td>\n",
       "      <td>0.0</td>\n",
       "      <td>0.0</td>\n",
       "      <td>1.0</td>\n",
       "      <td>0.0</td>\n",
       "      <td>0.0</td>\n",
       "      <td>0.0</td>\n",
       "      <td>0.0</td>\n",
       "      <td>0.0</td>\n",
       "      <td>0.0</td>\n",
       "      <td>0.0</td>\n",
       "      <td>0.0</td>\n",
       "      <td>...</td>\n",
       "      <td>0.0</td>\n",
       "      <td>0.0</td>\n",
       "      <td>0.0</td>\n",
       "      <td>0.0</td>\n",
       "      <td>0.0</td>\n",
       "      <td>0.0</td>\n",
       "      <td>0.0</td>\n",
       "      <td>1.0</td>\n",
       "      <td>0.0</td>\n",
       "      <td>0.0</td>\n",
       "      <td>1.0</td>\n",
       "      <td>0.0</td>\n",
       "      <td>0.0</td>\n",
       "      <td>0.0</td>\n",
       "      <td>0.0</td>\n",
       "      <td>0.0</td>\n",
       "      <td>0.0</td>\n",
       "      <td>0.0</td>\n",
       "      <td>0.0</td>\n",
       "      <td>1.0</td>\n",
       "      <td>0.0</td>\n",
       "      <td>1.0</td>\n",
       "      <td>0.0</td>\n",
       "      <td>0.0</td>\n",
       "      <td>0.0</td>\n",
       "      <td>0.0</td>\n",
       "      <td>1.0</td>\n",
       "      <td>0.0</td>\n",
       "      <td>0.0</td>\n",
       "      <td>0.0</td>\n",
       "      <td>1.0</td>\n",
       "      <td>0.0</td>\n",
       "      <td>0.0</td>\n",
       "      <td>0.0</td>\n",
       "      <td>0.0</td>\n",
       "      <td>1.0</td>\n",
       "      <td>0.0</td>\n",
       "      <td>0.0</td>\n",
       "      <td>0.0</td>\n",
       "      <td>0.0</td>\n",
       "      <td>0.0</td>\n",
       "      <td>0.0</td>\n",
       "      <td>0.0</td>\n",
       "      <td>1.0</td>\n",
       "      <td>0.0</td>\n",
       "      <td>0.0</td>\n",
       "      <td>0.0</td>\n",
       "      <td>0.0</td>\n",
       "      <td>0.0</td>\n",
       "      <td>0.0</td>\n",
       "      <td>1.0</td>\n",
       "      <td>0.0</td>\n",
       "      <td>0.0</td>\n",
       "      <td>0.0</td>\n",
       "      <td>1.0</td>\n",
       "      <td>0.0</td>\n",
       "      <td>0.0</td>\n",
       "      <td>0.0</td>\n",
       "      <td>0.0</td>\n",
       "      <td>0.0</td>\n",
       "      <td>1.0</td>\n",
       "      <td>0.0</td>\n",
       "      <td>0.0</td>\n",
       "      <td>0.0</td>\n",
       "      <td>0.0</td>\n",
       "      <td>0.0</td>\n",
       "      <td>1.0</td>\n",
       "      <td>0.0</td>\n",
       "      <td>0.0</td>\n",
       "      <td>0.0</td>\n",
       "      <td>1.0</td>\n",
       "      <td>0.0</td>\n",
       "      <td>0.0</td>\n",
       "      <td>0.0</td>\n",
       "      <td>1.0</td>\n",
       "      <td>0.0</td>\n",
       "      <td>0.0</td>\n",
       "      <td>1.0</td>\n",
       "      <td>0.0</td>\n",
       "      <td>0.0</td>\n",
       "      <td>0.0</td>\n",
       "      <td>0.0</td>\n",
       "      <td>0.0</td>\n",
       "      <td>0.0</td>\n",
       "      <td>1.0</td>\n",
       "      <td>0.0</td>\n",
       "      <td>0.0</td>\n",
       "      <td>0.0</td>\n",
       "      <td>0.0</td>\n",
       "      <td>0.0</td>\n",
       "      <td>0.0</td>\n",
       "      <td>0.0</td>\n",
       "      <td>0.0</td>\n",
       "      <td>1.0</td>\n",
       "      <td>0.0</td>\n",
       "      <td>0.0</td>\n",
       "      <td>0.0</td>\n",
       "      <td>0.0</td>\n",
       "      <td>1.0</td>\n",
       "      <td>0.0</td>\n",
       "    </tr>\n",
       "    <tr>\n",
       "      <th>1294</th>\n",
       "      <td>0.000000</td>\n",
       "      <td>0.133562</td>\n",
       "      <td>0.032120</td>\n",
       "      <td>0.444444</td>\n",
       "      <td>0.750</td>\n",
       "      <td>0.601449</td>\n",
       "      <td>0.666667</td>\n",
       "      <td>0.000000</td>\n",
       "      <td>0.029589</td>\n",
       "      <td>0.000000</td>\n",
       "      <td>0.298373</td>\n",
       "      <td>0.141408</td>\n",
       "      <td>0.121615</td>\n",
       "      <td>0.000000</td>\n",
       "      <td>0.0</td>\n",
       "      <td>0.099849</td>\n",
       "      <td>0.333333</td>\n",
       "      <td>0.0</td>\n",
       "      <td>0.333333</td>\n",
       "      <td>0.0</td>\n",
       "      <td>0.250</td>\n",
       "      <td>0.333333</td>\n",
       "      <td>0.250000</td>\n",
       "      <td>0.000000</td>\n",
       "      <td>0.518182</td>\n",
       "      <td>0.50</td>\n",
       "      <td>0.403385</td>\n",
       "      <td>0.000000</td>\n",
       "      <td>0.000000</td>\n",
       "      <td>0.000000</td>\n",
       "      <td>0.0</td>\n",
       "      <td>0.0</td>\n",
       "      <td>0.000000</td>\n",
       "      <td>0.000000</td>\n",
       "      <td>0.272727</td>\n",
       "      <td>0.00</td>\n",
       "      <td>0.0</td>\n",
       "      <td>0.0</td>\n",
       "      <td>0.0</td>\n",
       "      <td>1.0</td>\n",
       "      <td>0.0</td>\n",
       "      <td>0.0</td>\n",
       "      <td>1.0</td>\n",
       "      <td>0.0</td>\n",
       "      <td>0.0</td>\n",
       "      <td>1.0</td>\n",
       "      <td>0.0</td>\n",
       "      <td>0.0</td>\n",
       "      <td>0.0</td>\n",
       "      <td>1.0</td>\n",
       "      <td>0.0</td>\n",
       "      <td>0.0</td>\n",
       "      <td>0.0</td>\n",
       "      <td>1.0</td>\n",
       "      <td>1.0</td>\n",
       "      <td>0.0</td>\n",
       "      <td>0.0</td>\n",
       "      <td>0.0</td>\n",
       "      <td>0.0</td>\n",
       "      <td>0.0</td>\n",
       "      <td>1.0</td>\n",
       "      <td>1.0</td>\n",
       "      <td>0.0</td>\n",
       "      <td>0.0</td>\n",
       "      <td>0.0</td>\n",
       "      <td>0.0</td>\n",
       "      <td>0.0</td>\n",
       "      <td>0.0</td>\n",
       "      <td>0.0</td>\n",
       "      <td>0.0</td>\n",
       "      <td>0.0</td>\n",
       "      <td>1.0</td>\n",
       "      <td>0.0</td>\n",
       "      <td>0.0</td>\n",
       "      <td>0.0</td>\n",
       "      <td>0.0</td>\n",
       "      <td>0.0</td>\n",
       "      <td>0.0</td>\n",
       "      <td>0.0</td>\n",
       "      <td>0.0</td>\n",
       "      <td>0.0</td>\n",
       "      <td>0.0</td>\n",
       "      <td>0.0</td>\n",
       "      <td>0.0</td>\n",
       "      <td>0.0</td>\n",
       "      <td>0.0</td>\n",
       "      <td>0.0</td>\n",
       "      <td>0.0</td>\n",
       "      <td>0.0</td>\n",
       "      <td>0.0</td>\n",
       "      <td>0.0</td>\n",
       "      <td>1.0</td>\n",
       "      <td>0.0</td>\n",
       "      <td>0.0</td>\n",
       "      <td>0.0</td>\n",
       "      <td>0.0</td>\n",
       "      <td>0.0</td>\n",
       "      <td>0.0</td>\n",
       "      <td>0.0</td>\n",
       "      <td>0.0</td>\n",
       "      <td>...</td>\n",
       "      <td>0.0</td>\n",
       "      <td>0.0</td>\n",
       "      <td>0.0</td>\n",
       "      <td>0.0</td>\n",
       "      <td>0.0</td>\n",
       "      <td>0.0</td>\n",
       "      <td>0.0</td>\n",
       "      <td>1.0</td>\n",
       "      <td>0.0</td>\n",
       "      <td>0.0</td>\n",
       "      <td>1.0</td>\n",
       "      <td>0.0</td>\n",
       "      <td>0.0</td>\n",
       "      <td>0.0</td>\n",
       "      <td>0.0</td>\n",
       "      <td>0.0</td>\n",
       "      <td>0.0</td>\n",
       "      <td>0.0</td>\n",
       "      <td>0.0</td>\n",
       "      <td>1.0</td>\n",
       "      <td>0.0</td>\n",
       "      <td>1.0</td>\n",
       "      <td>0.0</td>\n",
       "      <td>0.0</td>\n",
       "      <td>0.0</td>\n",
       "      <td>0.0</td>\n",
       "      <td>1.0</td>\n",
       "      <td>0.0</td>\n",
       "      <td>0.0</td>\n",
       "      <td>0.0</td>\n",
       "      <td>0.0</td>\n",
       "      <td>1.0</td>\n",
       "      <td>0.0</td>\n",
       "      <td>0.0</td>\n",
       "      <td>0.0</td>\n",
       "      <td>0.0</td>\n",
       "      <td>0.0</td>\n",
       "      <td>0.0</td>\n",
       "      <td>1.0</td>\n",
       "      <td>0.0</td>\n",
       "      <td>0.0</td>\n",
       "      <td>0.0</td>\n",
       "      <td>0.0</td>\n",
       "      <td>0.0</td>\n",
       "      <td>1.0</td>\n",
       "      <td>0.0</td>\n",
       "      <td>0.0</td>\n",
       "      <td>0.0</td>\n",
       "      <td>0.0</td>\n",
       "      <td>0.0</td>\n",
       "      <td>1.0</td>\n",
       "      <td>0.0</td>\n",
       "      <td>0.0</td>\n",
       "      <td>0.0</td>\n",
       "      <td>1.0</td>\n",
       "      <td>0.0</td>\n",
       "      <td>0.0</td>\n",
       "      <td>0.0</td>\n",
       "      <td>0.0</td>\n",
       "      <td>0.0</td>\n",
       "      <td>1.0</td>\n",
       "      <td>0.0</td>\n",
       "      <td>0.0</td>\n",
       "      <td>0.0</td>\n",
       "      <td>0.0</td>\n",
       "      <td>0.0</td>\n",
       "      <td>1.0</td>\n",
       "      <td>0.0</td>\n",
       "      <td>1.0</td>\n",
       "      <td>0.0</td>\n",
       "      <td>0.0</td>\n",
       "      <td>0.0</td>\n",
       "      <td>0.0</td>\n",
       "      <td>0.0</td>\n",
       "      <td>1.0</td>\n",
       "      <td>0.0</td>\n",
       "      <td>0.0</td>\n",
       "      <td>0.0</td>\n",
       "      <td>0.0</td>\n",
       "      <td>1.0</td>\n",
       "      <td>0.0</td>\n",
       "      <td>0.0</td>\n",
       "      <td>0.0</td>\n",
       "      <td>0.0</td>\n",
       "      <td>1.0</td>\n",
       "      <td>0.0</td>\n",
       "      <td>0.0</td>\n",
       "      <td>0.0</td>\n",
       "      <td>0.0</td>\n",
       "      <td>0.0</td>\n",
       "      <td>0.0</td>\n",
       "      <td>0.0</td>\n",
       "      <td>0.0</td>\n",
       "      <td>1.0</td>\n",
       "      <td>0.0</td>\n",
       "      <td>0.0</td>\n",
       "      <td>0.0</td>\n",
       "      <td>0.0</td>\n",
       "      <td>1.0</td>\n",
       "      <td>0.0</td>\n",
       "    </tr>\n",
       "    <tr>\n",
       "      <th>860</th>\n",
       "      <td>0.176471</td>\n",
       "      <td>0.116438</td>\n",
       "      <td>0.029643</td>\n",
       "      <td>0.666667</td>\n",
       "      <td>0.875</td>\n",
       "      <td>0.333333</td>\n",
       "      <td>0.800000</td>\n",
       "      <td>0.000000</td>\n",
       "      <td>0.000000</td>\n",
       "      <td>0.000000</td>\n",
       "      <td>0.390411</td>\n",
       "      <td>0.149264</td>\n",
       "      <td>0.132630</td>\n",
       "      <td>0.248910</td>\n",
       "      <td>0.0</td>\n",
       "      <td>0.205727</td>\n",
       "      <td>0.000000</td>\n",
       "      <td>0.0</td>\n",
       "      <td>0.333333</td>\n",
       "      <td>0.5</td>\n",
       "      <td>0.375</td>\n",
       "      <td>0.333333</td>\n",
       "      <td>0.416667</td>\n",
       "      <td>0.333333</td>\n",
       "      <td>0.227273</td>\n",
       "      <td>0.25</td>\n",
       "      <td>0.152327</td>\n",
       "      <td>0.000000</td>\n",
       "      <td>0.438757</td>\n",
       "      <td>0.000000</td>\n",
       "      <td>0.0</td>\n",
       "      <td>0.0</td>\n",
       "      <td>0.000000</td>\n",
       "      <td>0.000000</td>\n",
       "      <td>0.454545</td>\n",
       "      <td>0.25</td>\n",
       "      <td>0.0</td>\n",
       "      <td>0.0</td>\n",
       "      <td>0.0</td>\n",
       "      <td>1.0</td>\n",
       "      <td>0.0</td>\n",
       "      <td>0.0</td>\n",
       "      <td>1.0</td>\n",
       "      <td>0.0</td>\n",
       "      <td>0.0</td>\n",
       "      <td>1.0</td>\n",
       "      <td>0.0</td>\n",
       "      <td>0.0</td>\n",
       "      <td>0.0</td>\n",
       "      <td>1.0</td>\n",
       "      <td>0.0</td>\n",
       "      <td>0.0</td>\n",
       "      <td>0.0</td>\n",
       "      <td>1.0</td>\n",
       "      <td>1.0</td>\n",
       "      <td>0.0</td>\n",
       "      <td>1.0</td>\n",
       "      <td>0.0</td>\n",
       "      <td>0.0</td>\n",
       "      <td>0.0</td>\n",
       "      <td>0.0</td>\n",
       "      <td>1.0</td>\n",
       "      <td>0.0</td>\n",
       "      <td>0.0</td>\n",
       "      <td>0.0</td>\n",
       "      <td>0.0</td>\n",
       "      <td>0.0</td>\n",
       "      <td>0.0</td>\n",
       "      <td>0.0</td>\n",
       "      <td>0.0</td>\n",
       "      <td>1.0</td>\n",
       "      <td>0.0</td>\n",
       "      <td>0.0</td>\n",
       "      <td>0.0</td>\n",
       "      <td>0.0</td>\n",
       "      <td>0.0</td>\n",
       "      <td>0.0</td>\n",
       "      <td>0.0</td>\n",
       "      <td>0.0</td>\n",
       "      <td>0.0</td>\n",
       "      <td>0.0</td>\n",
       "      <td>0.0</td>\n",
       "      <td>0.0</td>\n",
       "      <td>0.0</td>\n",
       "      <td>0.0</td>\n",
       "      <td>0.0</td>\n",
       "      <td>0.0</td>\n",
       "      <td>0.0</td>\n",
       "      <td>0.0</td>\n",
       "      <td>0.0</td>\n",
       "      <td>0.0</td>\n",
       "      <td>1.0</td>\n",
       "      <td>0.0</td>\n",
       "      <td>0.0</td>\n",
       "      <td>0.0</td>\n",
       "      <td>0.0</td>\n",
       "      <td>0.0</td>\n",
       "      <td>0.0</td>\n",
       "      <td>0.0</td>\n",
       "      <td>0.0</td>\n",
       "      <td>...</td>\n",
       "      <td>1.0</td>\n",
       "      <td>0.0</td>\n",
       "      <td>0.0</td>\n",
       "      <td>0.0</td>\n",
       "      <td>0.0</td>\n",
       "      <td>0.0</td>\n",
       "      <td>0.0</td>\n",
       "      <td>1.0</td>\n",
       "      <td>0.0</td>\n",
       "      <td>0.0</td>\n",
       "      <td>1.0</td>\n",
       "      <td>0.0</td>\n",
       "      <td>0.0</td>\n",
       "      <td>0.0</td>\n",
       "      <td>0.0</td>\n",
       "      <td>0.0</td>\n",
       "      <td>0.0</td>\n",
       "      <td>1.0</td>\n",
       "      <td>0.0</td>\n",
       "      <td>0.0</td>\n",
       "      <td>0.0</td>\n",
       "      <td>1.0</td>\n",
       "      <td>0.0</td>\n",
       "      <td>0.0</td>\n",
       "      <td>0.0</td>\n",
       "      <td>0.0</td>\n",
       "      <td>1.0</td>\n",
       "      <td>0.0</td>\n",
       "      <td>0.0</td>\n",
       "      <td>0.0</td>\n",
       "      <td>1.0</td>\n",
       "      <td>0.0</td>\n",
       "      <td>0.0</td>\n",
       "      <td>0.0</td>\n",
       "      <td>0.0</td>\n",
       "      <td>0.0</td>\n",
       "      <td>0.0</td>\n",
       "      <td>0.0</td>\n",
       "      <td>1.0</td>\n",
       "      <td>0.0</td>\n",
       "      <td>0.0</td>\n",
       "      <td>1.0</td>\n",
       "      <td>0.0</td>\n",
       "      <td>0.0</td>\n",
       "      <td>0.0</td>\n",
       "      <td>0.0</td>\n",
       "      <td>0.0</td>\n",
       "      <td>0.0</td>\n",
       "      <td>0.0</td>\n",
       "      <td>0.0</td>\n",
       "      <td>1.0</td>\n",
       "      <td>0.0</td>\n",
       "      <td>0.0</td>\n",
       "      <td>0.0</td>\n",
       "      <td>1.0</td>\n",
       "      <td>0.0</td>\n",
       "      <td>0.0</td>\n",
       "      <td>0.0</td>\n",
       "      <td>0.0</td>\n",
       "      <td>0.0</td>\n",
       "      <td>1.0</td>\n",
       "      <td>0.0</td>\n",
       "      <td>0.0</td>\n",
       "      <td>0.0</td>\n",
       "      <td>0.0</td>\n",
       "      <td>0.0</td>\n",
       "      <td>1.0</td>\n",
       "      <td>0.0</td>\n",
       "      <td>0.0</td>\n",
       "      <td>0.0</td>\n",
       "      <td>1.0</td>\n",
       "      <td>0.0</td>\n",
       "      <td>0.0</td>\n",
       "      <td>0.0</td>\n",
       "      <td>1.0</td>\n",
       "      <td>1.0</td>\n",
       "      <td>0.0</td>\n",
       "      <td>0.0</td>\n",
       "      <td>0.0</td>\n",
       "      <td>0.0</td>\n",
       "      <td>0.0</td>\n",
       "      <td>0.0</td>\n",
       "      <td>0.0</td>\n",
       "      <td>0.0</td>\n",
       "      <td>1.0</td>\n",
       "      <td>0.0</td>\n",
       "      <td>0.0</td>\n",
       "      <td>0.0</td>\n",
       "      <td>0.0</td>\n",
       "      <td>0.0</td>\n",
       "      <td>0.0</td>\n",
       "      <td>0.0</td>\n",
       "      <td>0.0</td>\n",
       "      <td>1.0</td>\n",
       "      <td>0.0</td>\n",
       "      <td>0.0</td>\n",
       "      <td>0.0</td>\n",
       "      <td>0.0</td>\n",
       "      <td>1.0</td>\n",
       "      <td>0.0</td>\n",
       "    </tr>\n",
       "    <tr>\n",
       "      <th>1126</th>\n",
       "      <td>0.588235</td>\n",
       "      <td>0.109589</td>\n",
       "      <td>0.011143</td>\n",
       "      <td>0.666667</td>\n",
       "      <td>0.500</td>\n",
       "      <td>0.978261</td>\n",
       "      <td>0.950000</td>\n",
       "      <td>0.081250</td>\n",
       "      <td>0.000000</td>\n",
       "      <td>0.000000</td>\n",
       "      <td>0.587757</td>\n",
       "      <td>0.224714</td>\n",
       "      <td>0.280174</td>\n",
       "      <td>0.000000</td>\n",
       "      <td>0.0</td>\n",
       "      <td>0.230030</td>\n",
       "      <td>0.000000</td>\n",
       "      <td>0.0</td>\n",
       "      <td>0.666667</td>\n",
       "      <td>0.0</td>\n",
       "      <td>0.250</td>\n",
       "      <td>0.333333</td>\n",
       "      <td>0.416667</td>\n",
       "      <td>0.333333</td>\n",
       "      <td>0.972727</td>\n",
       "      <td>0.75</td>\n",
       "      <td>0.465444</td>\n",
       "      <td>0.166861</td>\n",
       "      <td>0.036563</td>\n",
       "      <td>0.000000</td>\n",
       "      <td>0.0</td>\n",
       "      <td>0.0</td>\n",
       "      <td>0.000000</td>\n",
       "      <td>0.000000</td>\n",
       "      <td>0.454545</td>\n",
       "      <td>0.75</td>\n",
       "      <td>0.0</td>\n",
       "      <td>0.0</td>\n",
       "      <td>0.0</td>\n",
       "      <td>1.0</td>\n",
       "      <td>0.0</td>\n",
       "      <td>0.0</td>\n",
       "      <td>1.0</td>\n",
       "      <td>0.0</td>\n",
       "      <td>0.0</td>\n",
       "      <td>1.0</td>\n",
       "      <td>0.0</td>\n",
       "      <td>0.0</td>\n",
       "      <td>0.0</td>\n",
       "      <td>1.0</td>\n",
       "      <td>0.0</td>\n",
       "      <td>0.0</td>\n",
       "      <td>0.0</td>\n",
       "      <td>1.0</td>\n",
       "      <td>1.0</td>\n",
       "      <td>0.0</td>\n",
       "      <td>0.0</td>\n",
       "      <td>0.0</td>\n",
       "      <td>0.0</td>\n",
       "      <td>0.0</td>\n",
       "      <td>1.0</td>\n",
       "      <td>1.0</td>\n",
       "      <td>0.0</td>\n",
       "      <td>0.0</td>\n",
       "      <td>1.0</td>\n",
       "      <td>0.0</td>\n",
       "      <td>0.0</td>\n",
       "      <td>0.0</td>\n",
       "      <td>0.0</td>\n",
       "      <td>0.0</td>\n",
       "      <td>0.0</td>\n",
       "      <td>0.0</td>\n",
       "      <td>0.0</td>\n",
       "      <td>0.0</td>\n",
       "      <td>0.0</td>\n",
       "      <td>0.0</td>\n",
       "      <td>0.0</td>\n",
       "      <td>0.0</td>\n",
       "      <td>0.0</td>\n",
       "      <td>0.0</td>\n",
       "      <td>0.0</td>\n",
       "      <td>0.0</td>\n",
       "      <td>0.0</td>\n",
       "      <td>0.0</td>\n",
       "      <td>0.0</td>\n",
       "      <td>0.0</td>\n",
       "      <td>0.0</td>\n",
       "      <td>0.0</td>\n",
       "      <td>0.0</td>\n",
       "      <td>0.0</td>\n",
       "      <td>0.0</td>\n",
       "      <td>1.0</td>\n",
       "      <td>0.0</td>\n",
       "      <td>0.0</td>\n",
       "      <td>0.0</td>\n",
       "      <td>0.0</td>\n",
       "      <td>0.0</td>\n",
       "      <td>0.0</td>\n",
       "      <td>0.0</td>\n",
       "      <td>0.0</td>\n",
       "      <td>...</td>\n",
       "      <td>1.0</td>\n",
       "      <td>0.0</td>\n",
       "      <td>0.0</td>\n",
       "      <td>0.0</td>\n",
       "      <td>0.0</td>\n",
       "      <td>0.0</td>\n",
       "      <td>0.0</td>\n",
       "      <td>1.0</td>\n",
       "      <td>0.0</td>\n",
       "      <td>0.0</td>\n",
       "      <td>1.0</td>\n",
       "      <td>0.0</td>\n",
       "      <td>0.0</td>\n",
       "      <td>0.0</td>\n",
       "      <td>0.0</td>\n",
       "      <td>1.0</td>\n",
       "      <td>0.0</td>\n",
       "      <td>0.0</td>\n",
       "      <td>0.0</td>\n",
       "      <td>0.0</td>\n",
       "      <td>0.0</td>\n",
       "      <td>1.0</td>\n",
       "      <td>0.0</td>\n",
       "      <td>0.0</td>\n",
       "      <td>0.0</td>\n",
       "      <td>0.0</td>\n",
       "      <td>1.0</td>\n",
       "      <td>0.0</td>\n",
       "      <td>0.0</td>\n",
       "      <td>0.0</td>\n",
       "      <td>1.0</td>\n",
       "      <td>0.0</td>\n",
       "      <td>0.0</td>\n",
       "      <td>0.0</td>\n",
       "      <td>0.0</td>\n",
       "      <td>0.0</td>\n",
       "      <td>0.0</td>\n",
       "      <td>0.0</td>\n",
       "      <td>1.0</td>\n",
       "      <td>0.0</td>\n",
       "      <td>0.0</td>\n",
       "      <td>0.0</td>\n",
       "      <td>0.0</td>\n",
       "      <td>1.0</td>\n",
       "      <td>0.0</td>\n",
       "      <td>0.0</td>\n",
       "      <td>1.0</td>\n",
       "      <td>0.0</td>\n",
       "      <td>0.0</td>\n",
       "      <td>0.0</td>\n",
       "      <td>0.0</td>\n",
       "      <td>0.0</td>\n",
       "      <td>1.0</td>\n",
       "      <td>0.0</td>\n",
       "      <td>0.0</td>\n",
       "      <td>0.0</td>\n",
       "      <td>0.0</td>\n",
       "      <td>0.0</td>\n",
       "      <td>0.0</td>\n",
       "      <td>0.0</td>\n",
       "      <td>1.0</td>\n",
       "      <td>0.0</td>\n",
       "      <td>0.0</td>\n",
       "      <td>0.0</td>\n",
       "      <td>0.0</td>\n",
       "      <td>0.0</td>\n",
       "      <td>1.0</td>\n",
       "      <td>0.0</td>\n",
       "      <td>0.0</td>\n",
       "      <td>0.0</td>\n",
       "      <td>1.0</td>\n",
       "      <td>0.0</td>\n",
       "      <td>0.0</td>\n",
       "      <td>0.0</td>\n",
       "      <td>1.0</td>\n",
       "      <td>0.0</td>\n",
       "      <td>0.0</td>\n",
       "      <td>0.0</td>\n",
       "      <td>0.0</td>\n",
       "      <td>1.0</td>\n",
       "      <td>0.0</td>\n",
       "      <td>0.0</td>\n",
       "      <td>0.0</td>\n",
       "      <td>0.0</td>\n",
       "      <td>1.0</td>\n",
       "      <td>0.0</td>\n",
       "      <td>0.0</td>\n",
       "      <td>0.0</td>\n",
       "      <td>0.0</td>\n",
       "      <td>0.0</td>\n",
       "      <td>0.0</td>\n",
       "      <td>0.0</td>\n",
       "      <td>0.0</td>\n",
       "      <td>1.0</td>\n",
       "      <td>0.0</td>\n",
       "      <td>0.0</td>\n",
       "      <td>0.0</td>\n",
       "      <td>0.0</td>\n",
       "      <td>1.0</td>\n",
       "      <td>0.0</td>\n",
       "    </tr>\n",
       "  </tbody>\n",
       "</table>\n",
       "<p>1095 rows × 304 columns</p>\n",
       "</div>"
      ],
      "text/plain": [
       "      MSSubClass  LotFrontage   LotArea  OverallQual  OverallCond  YearBuilt  \\\n",
       "1023    0.588235     0.075342  0.008797     0.666667        0.500   0.963768   \n",
       "810     0.000000     0.195205  0.041319     0.555556        0.625   0.739130   \n",
       "1384    0.176471     0.133562  0.036271     0.555556        0.500   0.485507   \n",
       "626     0.000000     0.167979  0.051611     0.444444        0.500   0.637681   \n",
       "813     0.000000     0.184932  0.039496     0.555556        0.625   0.623188   \n",
       "...          ...          ...       ...          ...          ...        ...   \n",
       "1095    0.000000     0.195205  0.037472     0.555556        0.500   0.971014   \n",
       "1130    0.176471     0.150685  0.030400     0.333333        0.250   0.405797   \n",
       "1294    0.000000     0.133562  0.032120     0.444444        0.750   0.601449   \n",
       "860     0.176471     0.116438  0.029643     0.666667        0.875   0.333333   \n",
       "1126    0.588235     0.109589  0.011143     0.666667        0.500   0.978261   \n",
       "\n",
       "      YearRemodAdd  MasVnrArea  BsmtFinSF1  BsmtFinSF2  BsmtUnfSF  \\\n",
       "1023      0.933333    0.008750    0.002835    0.000000   0.569349   \n",
       "810       0.816667    0.061875    0.117470    0.255767   0.000000   \n",
       "1384      0.000000    0.000000    0.036145    0.000000   0.152397   \n",
       "626       0.466667    0.000000    0.000000    0.000000   0.418664   \n",
       "813       0.133333    0.151875    0.107725    0.000000   0.357021   \n",
       "...            ...         ...         ...         ...        ...   \n",
       "1095      0.933333    0.000000    0.004252    0.000000   0.552226   \n",
       "1130      0.000000    0.000000    0.110206    0.000000   0.214041   \n",
       "1294      0.666667    0.000000    0.029589    0.000000   0.298373   \n",
       "860       0.800000    0.000000    0.000000    0.000000   0.390411   \n",
       "1126      0.950000    0.081250    0.000000    0.000000   0.587757   \n",
       "\n",
       "      TotalBsmtSF  1stFlrSF  2ndFlrSF  LowQualFinSF  GrLivArea  BsmtFullBath  \\\n",
       "1023     0.220295  0.268472  0.000000           0.0   0.220422      0.000000   \n",
       "810      0.170213  0.223726  0.000000           0.0   0.183685      0.333333   \n",
       "1384     0.091653  0.083525  0.271186           0.0   0.174077      0.000000   \n",
       "626      0.160065  0.249656  0.000000           0.0   0.204974      0.000000   \n",
       "813      0.236007  0.254245  0.000000           0.0   0.208742      0.000000   \n",
       "...           ...       ...       ...           ...        ...           ...   \n",
       "1095     0.215057  0.224874  0.000000           0.0   0.184627      0.000000   \n",
       "1130     0.183633  0.228086  0.316223           0.0   0.310286      0.333333   \n",
       "1294     0.141408  0.121615  0.000000           0.0   0.099849      0.333333   \n",
       "860      0.149264  0.132630  0.248910           0.0   0.205727      0.000000   \n",
       "1126     0.224714  0.280174  0.000000           0.0   0.230030      0.000000   \n",
       "\n",
       "      BsmtHalfBath  FullBath  HalfBath  BedroomAbvGr  KitchenAbvGr  \\\n",
       "1023           0.0  0.666667       0.0         0.250      0.333333   \n",
       "810            0.0  0.333333       0.5         0.375      0.333333   \n",
       "1384           0.0  0.333333       0.0         0.250      0.333333   \n",
       "626            0.0  0.333333       0.0         0.375      0.333333   \n",
       "813            0.0  0.333333       0.5         0.500      0.333333   \n",
       "...            ...       ...       ...           ...           ...   \n",
       "1095           0.0  0.666667       0.0         0.375      0.333333   \n",
       "1130           0.0  0.666667       0.0         0.500      0.333333   \n",
       "1294           0.0  0.333333       0.0         0.250      0.333333   \n",
       "860            0.0  0.333333       0.5         0.375      0.333333   \n",
       "1126           0.0  0.666667       0.0         0.250      0.333333   \n",
       "\n",
       "      TotRmsAbvGrd  Fireplaces  GarageYrBlt  GarageCars  GarageArea  \\\n",
       "1023      0.416667    0.333333     0.954545        0.50    0.308181   \n",
       "810       0.250000    0.333333     0.672727        0.50    0.341326   \n",
       "1384      0.333333    0.000000     0.354545        0.25    0.197461   \n",
       "626       0.333333    0.333333     0.545455        0.25    0.201693   \n",
       "813       0.416667    0.000000     0.527273        0.25    0.212271   \n",
       "...            ...         ...          ...         ...         ...   \n",
       "1095      0.333333    0.333333     0.963636        0.50    0.310296   \n",
       "1130      0.416667    0.666667     0.736364        0.50    0.406206   \n",
       "1294      0.250000    0.000000     0.518182        0.50    0.403385   \n",
       "860       0.416667    0.333333     0.227273        0.25    0.152327   \n",
       "1126      0.416667    0.333333     0.972727        0.75    0.465444   \n",
       "\n",
       "      WoodDeckSF  OpenPorchSF  EnclosedPorch  3SsnPorch  ScreenPorch  \\\n",
       "1023    0.182030     0.036563       0.000000        0.0          0.0   \n",
       "810     0.309218     0.000000       0.000000        0.0          0.0   \n",
       "1384    0.000000     0.000000       0.000000        0.0          0.0   \n",
       "626     0.000000     0.000000       0.065217        0.0          0.0   \n",
       "813     0.000000     0.000000       0.498188        0.0          0.0   \n",
       "...          ...          ...            ...        ...          ...   \n",
       "1095    0.000000     0.040219       0.000000        0.0          0.0   \n",
       "1130    0.502917     0.080439       0.000000        0.0          0.0   \n",
       "1294    0.000000     0.000000       0.000000        0.0          0.0   \n",
       "860     0.000000     0.438757       0.000000        0.0          0.0   \n",
       "1126    0.166861     0.036563       0.000000        0.0          0.0   \n",
       "\n",
       "      PoolArea   MiscVal    MoSold  YrSold  MSZoning_C (all)  MSZoning_FV  \\\n",
       "1023  0.000000  0.000000  0.363636    0.50               0.0          0.0   \n",
       "810   0.878049  0.000000  0.000000    0.00               0.0          0.0   \n",
       "1384  0.000000  0.000000  0.818182    0.75               0.0          0.0   \n",
       "626   0.000000  0.038710  0.636364    0.25               0.0          0.0   \n",
       "813   0.000000  0.032258  0.272727    0.25               0.0          0.0   \n",
       "...        ...       ...       ...     ...               ...          ...   \n",
       "1095  0.000000  0.000000  0.181818    0.25               0.0          0.0   \n",
       "1130  0.000000  0.000000  1.000000    0.75               0.0          0.0   \n",
       "1294  0.000000  0.000000  0.272727    0.00               0.0          0.0   \n",
       "860   0.000000  0.000000  0.454545    0.25               0.0          0.0   \n",
       "1126  0.000000  0.000000  0.454545    0.75               0.0          0.0   \n",
       "\n",
       "      MSZoning_RH  MSZoning_RL  MSZoning_RM  Street_Grvl  Street_Pave  \\\n",
       "1023          0.0          1.0          0.0          0.0          1.0   \n",
       "810           0.0          1.0          0.0          0.0          1.0   \n",
       "1384          0.0          1.0          0.0          0.0          1.0   \n",
       "626           0.0          1.0          0.0          0.0          1.0   \n",
       "813           0.0          1.0          0.0          0.0          1.0   \n",
       "...           ...          ...          ...          ...          ...   \n",
       "1095          0.0          1.0          0.0          0.0          1.0   \n",
       "1130          0.0          1.0          0.0          0.0          1.0   \n",
       "1294          0.0          1.0          0.0          0.0          1.0   \n",
       "860           0.0          1.0          0.0          0.0          1.0   \n",
       "1126          0.0          1.0          0.0          0.0          1.0   \n",
       "\n",
       "      Alley_Grvl  Alley_Pave  Alley_nan  LotShape_IR1  LotShape_IR2  \\\n",
       "1023         0.0         0.0        1.0           0.0           0.0   \n",
       "810          0.0         0.0        1.0           0.0           0.0   \n",
       "1384         0.0         0.0        1.0           0.0           0.0   \n",
       "626          0.0         0.0        1.0           1.0           0.0   \n",
       "813          0.0         0.0        1.0           0.0           0.0   \n",
       "...          ...         ...        ...           ...           ...   \n",
       "1095         0.0         0.0        1.0           1.0           0.0   \n",
       "1130         0.0         0.0        1.0           0.0           0.0   \n",
       "1294         0.0         0.0        1.0           0.0           0.0   \n",
       "860          0.0         0.0        1.0           0.0           0.0   \n",
       "1126         0.0         0.0        1.0           0.0           0.0   \n",
       "\n",
       "      LotShape_IR3  LotShape_Reg  LandContour_Bnk  LandContour_HLS  \\\n",
       "1023           0.0           1.0              0.0              0.0   \n",
       "810            0.0           1.0              0.0              0.0   \n",
       "1384           0.0           1.0              0.0              0.0   \n",
       "626            0.0           0.0              0.0              0.0   \n",
       "813            0.0           1.0              0.0              0.0   \n",
       "...            ...           ...              ...              ...   \n",
       "1095           0.0           0.0              0.0              0.0   \n",
       "1130           0.0           1.0              0.0              0.0   \n",
       "1294           0.0           1.0              0.0              0.0   \n",
       "860            0.0           1.0              0.0              0.0   \n",
       "1126           0.0           1.0              0.0              0.0   \n",
       "\n",
       "      LandContour_Low  LandContour_Lvl  Utilities_AllPub  Utilities_NoSeWa  \\\n",
       "1023              0.0              1.0               1.0               0.0   \n",
       "810               0.0              1.0               1.0               0.0   \n",
       "1384              0.0              1.0               1.0               0.0   \n",
       "626               0.0              1.0               1.0               0.0   \n",
       "813               0.0              1.0               1.0               0.0   \n",
       "...               ...              ...               ...               ...   \n",
       "1095              0.0              1.0               1.0               0.0   \n",
       "1130              0.0              1.0               1.0               0.0   \n",
       "1294              0.0              1.0               1.0               0.0   \n",
       "860               0.0              1.0               1.0               0.0   \n",
       "1126              0.0              1.0               1.0               0.0   \n",
       "\n",
       "      LotConfig_Corner  LotConfig_CulDSac  LotConfig_FR2  LotConfig_FR3  \\\n",
       "1023               0.0                0.0            0.0            0.0   \n",
       "810                0.0                0.0            0.0            0.0   \n",
       "1384               0.0                0.0            0.0            0.0   \n",
       "626                0.0                0.0            0.0            0.0   \n",
       "813                0.0                0.0            0.0            0.0   \n",
       "...                ...                ...            ...            ...   \n",
       "1095               0.0                0.0            0.0            0.0   \n",
       "1130               0.0                0.0            0.0            0.0   \n",
       "1294               0.0                0.0            0.0            0.0   \n",
       "860                1.0                0.0            0.0            0.0   \n",
       "1126               0.0                0.0            0.0            0.0   \n",
       "\n",
       "      LotConfig_Inside  LandSlope_Gtl  LandSlope_Mod  LandSlope_Sev  \\\n",
       "1023               1.0            1.0            0.0            0.0   \n",
       "810                1.0            1.0            0.0            0.0   \n",
       "1384               1.0            1.0            0.0            0.0   \n",
       "626                1.0            1.0            0.0            0.0   \n",
       "813                1.0            1.0            0.0            0.0   \n",
       "...                ...            ...            ...            ...   \n",
       "1095               1.0            1.0            0.0            0.0   \n",
       "1130               1.0            1.0            0.0            0.0   \n",
       "1294               1.0            1.0            0.0            0.0   \n",
       "860                0.0            1.0            0.0            0.0   \n",
       "1126               1.0            1.0            0.0            0.0   \n",
       "\n",
       "      Neighborhood_Blmngtn  Neighborhood_Blueste  Neighborhood_BrDale  \\\n",
       "1023                   1.0                   0.0                  0.0   \n",
       "810                    0.0                   0.0                  0.0   \n",
       "1384                   0.0                   0.0                  0.0   \n",
       "626                    0.0                   0.0                  0.0   \n",
       "813                    0.0                   0.0                  0.0   \n",
       "...                    ...                   ...                  ...   \n",
       "1095                   0.0                   0.0                  0.0   \n",
       "1130                   0.0                   0.0                  0.0   \n",
       "1294                   0.0                   0.0                  0.0   \n",
       "860                    0.0                   0.0                  0.0   \n",
       "1126                   1.0                   0.0                  0.0   \n",
       "\n",
       "      Neighborhood_BrkSide  Neighborhood_ClearCr  Neighborhood_CollgCr  \\\n",
       "1023                   0.0                   0.0                   0.0   \n",
       "810                    0.0                   0.0                   0.0   \n",
       "1384                   0.0                   0.0                   0.0   \n",
       "626                    0.0                   0.0                   0.0   \n",
       "813                    0.0                   0.0                   0.0   \n",
       "...                    ...                   ...                   ...   \n",
       "1095                   0.0                   0.0                   1.0   \n",
       "1130                   0.0                   0.0                   0.0   \n",
       "1294                   0.0                   0.0                   0.0   \n",
       "860                    0.0                   0.0                   0.0   \n",
       "1126                   0.0                   0.0                   0.0   \n",
       "\n",
       "      Neighborhood_Crawfor  Neighborhood_Edwards  Neighborhood_Gilbert  \\\n",
       "1023                   0.0                   0.0                   0.0   \n",
       "810                    0.0                   0.0                   0.0   \n",
       "1384                   0.0                   1.0                   0.0   \n",
       "626                    0.0                   0.0                   0.0   \n",
       "813                    0.0                   0.0                   0.0   \n",
       "...                    ...                   ...                   ...   \n",
       "1095                   0.0                   0.0                   0.0   \n",
       "1130                   0.0                   0.0                   0.0   \n",
       "1294                   0.0                   1.0                   0.0   \n",
       "860                    1.0                   0.0                   0.0   \n",
       "1126                   0.0                   0.0                   0.0   \n",
       "\n",
       "      Neighborhood_IDOTRR  Neighborhood_MeadowV  Neighborhood_Mitchel  \\\n",
       "1023                  0.0                   0.0                   0.0   \n",
       "810                   0.0                   0.0                   0.0   \n",
       "1384                  0.0                   0.0                   0.0   \n",
       "626                   0.0                   0.0                   0.0   \n",
       "813                   0.0                   0.0                   0.0   \n",
       "...                   ...                   ...                   ...   \n",
       "1095                  0.0                   0.0                   0.0   \n",
       "1130                  0.0                   0.0                   0.0   \n",
       "1294                  0.0                   0.0                   0.0   \n",
       "860                   0.0                   0.0                   0.0   \n",
       "1126                  0.0                   0.0                   0.0   \n",
       "\n",
       "      Neighborhood_NAmes  Neighborhood_NPkVill  Neighborhood_NWAmes  \\\n",
       "1023                 0.0                   0.0                  0.0   \n",
       "810                  0.0                   0.0                  1.0   \n",
       "1384                 0.0                   0.0                  0.0   \n",
       "626                  1.0                   0.0                  0.0   \n",
       "813                  1.0                   0.0                  0.0   \n",
       "...                  ...                   ...                  ...   \n",
       "1095                 0.0                   0.0                  0.0   \n",
       "1130                 0.0                   0.0                  0.0   \n",
       "1294                 0.0                   0.0                  0.0   \n",
       "860                  0.0                   0.0                  0.0   \n",
       "1126                 0.0                   0.0                  0.0   \n",
       "\n",
       "      Neighborhood_NoRidge  Neighborhood_NridgHt  Neighborhood_OldTown  \\\n",
       "1023                   0.0                   0.0                   0.0   \n",
       "810                    0.0                   0.0                   0.0   \n",
       "1384                   0.0                   0.0                   0.0   \n",
       "626                    0.0                   0.0                   0.0   \n",
       "813                    0.0                   0.0                   0.0   \n",
       "...                    ...                   ...                   ...   \n",
       "1095                   0.0                   0.0                   0.0   \n",
       "1130                   0.0                   0.0                   0.0   \n",
       "1294                   0.0                   0.0                   0.0   \n",
       "860                    0.0                   0.0                   0.0   \n",
       "1126                   0.0                   0.0                   0.0   \n",
       "\n",
       "      Neighborhood_SWISU  Neighborhood_Sawyer  Neighborhood_SawyerW  \\\n",
       "1023                 0.0                  0.0                   0.0   \n",
       "810                  0.0                  0.0                   0.0   \n",
       "1384                 0.0                  0.0                   0.0   \n",
       "626                  0.0                  0.0                   0.0   \n",
       "813                  0.0                  0.0                   0.0   \n",
       "...                  ...                  ...                   ...   \n",
       "1095                 0.0                  0.0                   0.0   \n",
       "1130                 1.0                  0.0                   0.0   \n",
       "1294                 0.0                  0.0                   0.0   \n",
       "860                  0.0                  0.0                   0.0   \n",
       "1126                 0.0                  0.0                   0.0   \n",
       "\n",
       "      Neighborhood_Somerst  Neighborhood_StoneBr  Neighborhood_Timber  \\\n",
       "1023                   0.0                   0.0                  0.0   \n",
       "810                    0.0                   0.0                  0.0   \n",
       "1384                   0.0                   0.0                  0.0   \n",
       "626                    0.0                   0.0                  0.0   \n",
       "813                    0.0                   0.0                  0.0   \n",
       "...                    ...                   ...                  ...   \n",
       "1095                   0.0                   0.0                  0.0   \n",
       "1130                   0.0                   0.0                  0.0   \n",
       "1294                   0.0                   0.0                  0.0   \n",
       "860                    0.0                   0.0                  0.0   \n",
       "1126                   0.0                   0.0                  0.0   \n",
       "\n",
       "      Neighborhood_Veenker  Condition1_Artery  Condition1_Feedr  \\\n",
       "1023                   0.0                0.0               0.0   \n",
       "810                    0.0                0.0               0.0   \n",
       "1384                   0.0                0.0               0.0   \n",
       "626                    0.0                0.0               0.0   \n",
       "813                    0.0                0.0               0.0   \n",
       "...                    ...                ...               ...   \n",
       "1095                   0.0                0.0               0.0   \n",
       "1130                   0.0                0.0               0.0   \n",
       "1294                   0.0                0.0               0.0   \n",
       "860                    0.0                0.0               0.0   \n",
       "1126                   0.0                0.0               0.0   \n",
       "\n",
       "      Condition1_Norm  Condition1_PosA  Condition1_PosN  Condition1_RRAe  \\\n",
       "1023              1.0              0.0              0.0              0.0   \n",
       "810               1.0              0.0              0.0              0.0   \n",
       "1384              1.0              0.0              0.0              0.0   \n",
       "626               1.0              0.0              0.0              0.0   \n",
       "813               1.0              0.0              0.0              0.0   \n",
       "...               ...              ...              ...              ...   \n",
       "1095              1.0              0.0              0.0              0.0   \n",
       "1130              1.0              0.0              0.0              0.0   \n",
       "1294              1.0              0.0              0.0              0.0   \n",
       "860               1.0              0.0              0.0              0.0   \n",
       "1126              1.0              0.0              0.0              0.0   \n",
       "\n",
       "      Condition1_RRAn  Condition1_RRNe  Condition1_RRNn  Condition2_Artery  \\\n",
       "1023              0.0              0.0              0.0                0.0   \n",
       "810               0.0              0.0              0.0                0.0   \n",
       "1384              0.0              0.0              0.0                0.0   \n",
       "626               0.0              0.0              0.0                0.0   \n",
       "813               0.0              0.0              0.0                0.0   \n",
       "...               ...              ...              ...                ...   \n",
       "1095              0.0              0.0              0.0                0.0   \n",
       "1130              0.0              0.0              0.0                0.0   \n",
       "1294              0.0              0.0              0.0                0.0   \n",
       "860               0.0              0.0              0.0                0.0   \n",
       "1126              0.0              0.0              0.0                0.0   \n",
       "\n",
       "      Condition2_Feedr  ...  BsmtFinType1_Unf  BsmtFinType1_nan  \\\n",
       "1023               0.0  ...               0.0               0.0   \n",
       "810                0.0  ...               0.0               0.0   \n",
       "1384               0.0  ...               0.0               0.0   \n",
       "626                0.0  ...               1.0               0.0   \n",
       "813                0.0  ...               0.0               0.0   \n",
       "...                ...  ...               ...               ...   \n",
       "1095               0.0  ...               0.0               0.0   \n",
       "1130               0.0  ...               0.0               0.0   \n",
       "1294               0.0  ...               0.0               0.0   \n",
       "860                0.0  ...               1.0               0.0   \n",
       "1126               0.0  ...               1.0               0.0   \n",
       "\n",
       "      BsmtFinType2_ALQ  BsmtFinType2_BLQ  BsmtFinType2_GLQ  BsmtFinType2_LwQ  \\\n",
       "1023               0.0               0.0               0.0               0.0   \n",
       "810                0.0               0.0               0.0               1.0   \n",
       "1384               0.0               0.0               0.0               0.0   \n",
       "626                0.0               0.0               0.0               0.0   \n",
       "813                0.0               0.0               0.0               0.0   \n",
       "...                ...               ...               ...               ...   \n",
       "1095               0.0               0.0               0.0               0.0   \n",
       "1130               0.0               0.0               0.0               0.0   \n",
       "1294               0.0               0.0               0.0               0.0   \n",
       "860                0.0               0.0               0.0               0.0   \n",
       "1126               0.0               0.0               0.0               0.0   \n",
       "\n",
       "      BsmtFinType2_Rec  BsmtFinType2_Unf  BsmtFinType2_nan  Heating_Floor  \\\n",
       "1023               0.0               1.0               0.0            0.0   \n",
       "810                0.0               0.0               0.0            0.0   \n",
       "1384               0.0               1.0               0.0            0.0   \n",
       "626                0.0               1.0               0.0            0.0   \n",
       "813                0.0               1.0               0.0            0.0   \n",
       "...                ...               ...               ...            ...   \n",
       "1095               0.0               1.0               0.0            0.0   \n",
       "1130               0.0               1.0               0.0            0.0   \n",
       "1294               0.0               1.0               0.0            0.0   \n",
       "860                0.0               1.0               0.0            0.0   \n",
       "1126               0.0               1.0               0.0            0.0   \n",
       "\n",
       "      Heating_GasA  Heating_GasW  Heating_Grav  Heating_OthW  Heating_Wall  \\\n",
       "1023           1.0           0.0           0.0           0.0           0.0   \n",
       "810            1.0           0.0           0.0           0.0           0.0   \n",
       "1384           1.0           0.0           0.0           0.0           0.0   \n",
       "626            1.0           0.0           0.0           0.0           0.0   \n",
       "813            1.0           0.0           0.0           0.0           0.0   \n",
       "...            ...           ...           ...           ...           ...   \n",
       "1095           1.0           0.0           0.0           0.0           0.0   \n",
       "1130           1.0           0.0           0.0           0.0           0.0   \n",
       "1294           1.0           0.0           0.0           0.0           0.0   \n",
       "860            1.0           0.0           0.0           0.0           0.0   \n",
       "1126           1.0           0.0           0.0           0.0           0.0   \n",
       "\n",
       "      HeatingQC_Ex  HeatingQC_Fa  HeatingQC_Gd  HeatingQC_Po  HeatingQC_TA  \\\n",
       "1023           1.0           0.0           0.0           0.0           0.0   \n",
       "810            0.0           1.0           0.0           0.0           0.0   \n",
       "1384           0.0           0.0           0.0           0.0           1.0   \n",
       "626            0.0           0.0           0.0           0.0           1.0   \n",
       "813            0.0           0.0           1.0           0.0           0.0   \n",
       "...            ...           ...           ...           ...           ...   \n",
       "1095           0.0           0.0           1.0           0.0           0.0   \n",
       "1130           0.0           0.0           0.0           0.0           1.0   \n",
       "1294           0.0           0.0           0.0           0.0           1.0   \n",
       "860            0.0           0.0           1.0           0.0           0.0   \n",
       "1126           1.0           0.0           0.0           0.0           0.0   \n",
       "\n",
       "      CentralAir_N  CentralAir_Y  Electrical_FuseA  Electrical_FuseF  \\\n",
       "1023           0.0           1.0               0.0               0.0   \n",
       "810            0.0           1.0               0.0               0.0   \n",
       "1384           0.0           1.0               0.0               0.0   \n",
       "626            0.0           1.0               0.0               0.0   \n",
       "813            0.0           1.0               0.0               0.0   \n",
       "...            ...           ...               ...               ...   \n",
       "1095           0.0           1.0               0.0               0.0   \n",
       "1130           0.0           1.0               0.0               0.0   \n",
       "1294           0.0           1.0               0.0               0.0   \n",
       "860            0.0           1.0               0.0               0.0   \n",
       "1126           0.0           1.0               0.0               0.0   \n",
       "\n",
       "      Electrical_FuseP  Electrical_Mix  Electrical_SBrkr  Electrical_nan  \\\n",
       "1023               0.0             0.0               1.0             0.0   \n",
       "810                0.0             0.0               1.0             0.0   \n",
       "1384               0.0             0.0               1.0             0.0   \n",
       "626                0.0             0.0               1.0             0.0   \n",
       "813                0.0             0.0               1.0             0.0   \n",
       "...                ...             ...               ...             ...   \n",
       "1095               0.0             0.0               1.0             0.0   \n",
       "1130               0.0             0.0               1.0             0.0   \n",
       "1294               0.0             0.0               1.0             0.0   \n",
       "860                0.0             0.0               1.0             0.0   \n",
       "1126               0.0             0.0               1.0             0.0   \n",
       "\n",
       "      KitchenQual_Ex  KitchenQual_Fa  KitchenQual_Gd  KitchenQual_TA  \\\n",
       "1023             0.0             0.0             1.0             0.0   \n",
       "810              0.0             0.0             1.0             0.0   \n",
       "1384             0.0             0.0             0.0             1.0   \n",
       "626              0.0             0.0             0.0             1.0   \n",
       "813              0.0             0.0             0.0             1.0   \n",
       "...              ...             ...             ...             ...   \n",
       "1095             0.0             0.0             1.0             0.0   \n",
       "1130             0.0             0.0             1.0             0.0   \n",
       "1294             0.0             0.0             0.0             1.0   \n",
       "860              0.0             0.0             1.0             0.0   \n",
       "1126             0.0             0.0             1.0             0.0   \n",
       "\n",
       "      Functional_Maj1  Functional_Maj2  Functional_Min1  Functional_Min2  \\\n",
       "1023              0.0              0.0              0.0              0.0   \n",
       "810               0.0              0.0              0.0              0.0   \n",
       "1384              0.0              0.0              0.0              0.0   \n",
       "626               0.0              0.0              1.0              0.0   \n",
       "813               0.0              0.0              0.0              0.0   \n",
       "...               ...              ...              ...              ...   \n",
       "1095              0.0              0.0              0.0              0.0   \n",
       "1130              0.0              0.0              0.0              1.0   \n",
       "1294              0.0              0.0              0.0              0.0   \n",
       "860               0.0              0.0              0.0              0.0   \n",
       "1126              0.0              0.0              0.0              0.0   \n",
       "\n",
       "      Functional_Mod  Functional_Sev  Functional_Typ  FireplaceQu_Ex  \\\n",
       "1023             0.0             0.0             1.0             0.0   \n",
       "810              0.0             0.0             1.0             0.0   \n",
       "1384             0.0             0.0             1.0             0.0   \n",
       "626              0.0             0.0             0.0             0.0   \n",
       "813              0.0             0.0             1.0             0.0   \n",
       "...              ...             ...             ...             ...   \n",
       "1095             0.0             0.0             1.0             0.0   \n",
       "1130             0.0             0.0             0.0             0.0   \n",
       "1294             0.0             0.0             1.0             0.0   \n",
       "860              0.0             0.0             1.0             0.0   \n",
       "1126             0.0             0.0             1.0             0.0   \n",
       "\n",
       "      FireplaceQu_Fa  FireplaceQu_Gd  FireplaceQu_Po  FireplaceQu_TA  \\\n",
       "1023             0.0             1.0             0.0             0.0   \n",
       "810              1.0             0.0             0.0             0.0   \n",
       "1384             0.0             0.0             0.0             0.0   \n",
       "626              0.0             0.0             0.0             1.0   \n",
       "813              0.0             0.0             0.0             0.0   \n",
       "...              ...             ...             ...             ...   \n",
       "1095             0.0             1.0             0.0             0.0   \n",
       "1130             0.0             0.0             0.0             1.0   \n",
       "1294             0.0             0.0             0.0             0.0   \n",
       "860              0.0             1.0             0.0             0.0   \n",
       "1126             0.0             0.0             0.0             1.0   \n",
       "\n",
       "      FireplaceQu_nan  GarageType_2Types  GarageType_Attchd  \\\n",
       "1023              0.0                0.0                1.0   \n",
       "810               0.0                0.0                1.0   \n",
       "1384              1.0                0.0                0.0   \n",
       "626               0.0                0.0                1.0   \n",
       "813               1.0                0.0                1.0   \n",
       "...               ...                ...                ...   \n",
       "1095              0.0                0.0                1.0   \n",
       "1130              0.0                0.0                0.0   \n",
       "1294              1.0                0.0                0.0   \n",
       "860               0.0                0.0                0.0   \n",
       "1126              0.0                0.0                1.0   \n",
       "\n",
       "      GarageType_Basment  GarageType_BuiltIn  GarageType_CarPort  \\\n",
       "1023                 0.0                 0.0                 0.0   \n",
       "810                  0.0                 0.0                 0.0   \n",
       "1384                 0.0                 0.0                 0.0   \n",
       "626                  0.0                 0.0                 0.0   \n",
       "813                  0.0                 0.0                 0.0   \n",
       "...                  ...                 ...                 ...   \n",
       "1095                 0.0                 0.0                 0.0   \n",
       "1130                 0.0                 0.0                 0.0   \n",
       "1294                 0.0                 0.0                 0.0   \n",
       "860                  0.0                 0.0                 0.0   \n",
       "1126                 0.0                 0.0                 0.0   \n",
       "\n",
       "      GarageType_Detchd  GarageType_nan  GarageFinish_Fin  GarageFinish_RFn  \\\n",
       "1023                0.0             0.0               1.0               0.0   \n",
       "810                 0.0             0.0               0.0               1.0   \n",
       "1384                1.0             0.0               0.0               0.0   \n",
       "626                 0.0             0.0               0.0               1.0   \n",
       "813                 0.0             0.0               0.0               1.0   \n",
       "...                 ...             ...               ...               ...   \n",
       "1095                0.0             0.0               0.0               1.0   \n",
       "1130                1.0             0.0               0.0               0.0   \n",
       "1294                1.0             0.0               0.0               0.0   \n",
       "860                 1.0             0.0               0.0               0.0   \n",
       "1126                0.0             0.0               1.0               0.0   \n",
       "\n",
       "      GarageFinish_Unf  GarageFinish_nan  GarageQual_Ex  GarageQual_Fa  \\\n",
       "1023               0.0               0.0            0.0            0.0   \n",
       "810                0.0               0.0            0.0            0.0   \n",
       "1384               1.0               0.0            0.0            0.0   \n",
       "626                0.0               0.0            0.0            0.0   \n",
       "813                0.0               0.0            0.0            0.0   \n",
       "...                ...               ...            ...            ...   \n",
       "1095               0.0               0.0            0.0            0.0   \n",
       "1130               1.0               0.0            0.0            0.0   \n",
       "1294               1.0               0.0            0.0            0.0   \n",
       "860                1.0               0.0            0.0            0.0   \n",
       "1126               0.0               0.0            0.0            0.0   \n",
       "\n",
       "      GarageQual_Gd  GarageQual_Po  GarageQual_TA  GarageQual_nan  \\\n",
       "1023            0.0            0.0            1.0             0.0   \n",
       "810             0.0            0.0            1.0             0.0   \n",
       "1384            0.0            0.0            1.0             0.0   \n",
       "626             0.0            0.0            1.0             0.0   \n",
       "813             0.0            0.0            1.0             0.0   \n",
       "...             ...            ...            ...             ...   \n",
       "1095            0.0            0.0            1.0             0.0   \n",
       "1130            0.0            0.0            1.0             0.0   \n",
       "1294            0.0            0.0            1.0             0.0   \n",
       "860             0.0            0.0            1.0             0.0   \n",
       "1126            0.0            0.0            1.0             0.0   \n",
       "\n",
       "      GarageCond_Ex  GarageCond_Fa  GarageCond_Gd  GarageCond_Po  \\\n",
       "1023            0.0            0.0            0.0            0.0   \n",
       "810             0.0            0.0            0.0            0.0   \n",
       "1384            0.0            0.0            0.0            0.0   \n",
       "626             0.0            0.0            0.0            0.0   \n",
       "813             0.0            0.0            0.0            0.0   \n",
       "...             ...            ...            ...            ...   \n",
       "1095            0.0            0.0            0.0            0.0   \n",
       "1130            0.0            0.0            0.0            0.0   \n",
       "1294            0.0            0.0            0.0            0.0   \n",
       "860             0.0            0.0            0.0            0.0   \n",
       "1126            0.0            0.0            0.0            0.0   \n",
       "\n",
       "      GarageCond_TA  GarageCond_nan  PavedDrive_N  PavedDrive_P  PavedDrive_Y  \\\n",
       "1023            1.0             0.0           0.0           0.0           1.0   \n",
       "810             1.0             0.0           0.0           0.0           1.0   \n",
       "1384            1.0             0.0           0.0           1.0           0.0   \n",
       "626             1.0             0.0           0.0           0.0           1.0   \n",
       "813             1.0             0.0           0.0           0.0           1.0   \n",
       "...             ...             ...           ...           ...           ...   \n",
       "1095            1.0             0.0           0.0           0.0           1.0   \n",
       "1130            1.0             0.0           0.0           0.0           1.0   \n",
       "1294            1.0             0.0           1.0           0.0           0.0   \n",
       "860             1.0             0.0           0.0           0.0           1.0   \n",
       "1126            1.0             0.0           0.0           0.0           1.0   \n",
       "\n",
       "      PoolQC_Ex  PoolQC_Fa  PoolQC_Gd  PoolQC_nan  Fence_GdPrv  Fence_GdWo  \\\n",
       "1023        0.0        0.0        0.0         1.0          0.0         0.0   \n",
       "810         0.0        1.0        0.0         0.0          1.0         0.0   \n",
       "1384        0.0        0.0        0.0         1.0          0.0         0.0   \n",
       "626         0.0        0.0        0.0         1.0          0.0         1.0   \n",
       "813         0.0        0.0        0.0         1.0          0.0         0.0   \n",
       "...         ...        ...        ...         ...          ...         ...   \n",
       "1095        0.0        0.0        0.0         1.0          0.0         0.0   \n",
       "1130        0.0        0.0        0.0         1.0          0.0         0.0   \n",
       "1294        0.0        0.0        0.0         1.0          0.0         0.0   \n",
       "860         0.0        0.0        0.0         1.0          1.0         0.0   \n",
       "1126        0.0        0.0        0.0         1.0          0.0         0.0   \n",
       "\n",
       "      Fence_MnPrv  Fence_MnWw  Fence_nan  MiscFeature_Gar2  MiscFeature_Othr  \\\n",
       "1023          0.0         0.0        1.0               0.0               0.0   \n",
       "810           0.0         0.0        0.0               0.0               0.0   \n",
       "1384          1.0         0.0        0.0               0.0               0.0   \n",
       "626           0.0         0.0        0.0               0.0               0.0   \n",
       "813           0.0         0.0        1.0               0.0               0.0   \n",
       "...           ...         ...        ...               ...               ...   \n",
       "1095          0.0         0.0        1.0               0.0               0.0   \n",
       "1130          1.0         0.0        0.0               0.0               0.0   \n",
       "1294          0.0         0.0        1.0               0.0               0.0   \n",
       "860           0.0         0.0        0.0               0.0               0.0   \n",
       "1126          0.0         0.0        1.0               0.0               0.0   \n",
       "\n",
       "      MiscFeature_Shed  MiscFeature_TenC  MiscFeature_nan  SaleType_COD  \\\n",
       "1023               0.0               0.0              1.0           0.0   \n",
       "810                0.0               0.0              1.0           0.0   \n",
       "1384               0.0               0.0              1.0           0.0   \n",
       "626                1.0               0.0              0.0           0.0   \n",
       "813                1.0               0.0              0.0           1.0   \n",
       "...                ...               ...              ...           ...   \n",
       "1095               0.0               0.0              1.0           0.0   \n",
       "1130               0.0               0.0              1.0           0.0   \n",
       "1294               0.0               0.0              1.0           0.0   \n",
       "860                0.0               0.0              1.0           0.0   \n",
       "1126               0.0               0.0              1.0           0.0   \n",
       "\n",
       "      SaleType_CWD  SaleType_Con  SaleType_ConLD  SaleType_ConLI  \\\n",
       "1023           0.0           0.0             0.0             0.0   \n",
       "810            0.0           0.0             0.0             0.0   \n",
       "1384           0.0           0.0             0.0             0.0   \n",
       "626            0.0           0.0             0.0             0.0   \n",
       "813            0.0           0.0             0.0             0.0   \n",
       "...            ...           ...             ...             ...   \n",
       "1095           0.0           0.0             0.0             0.0   \n",
       "1130           0.0           0.0             0.0             0.0   \n",
       "1294           0.0           0.0             0.0             0.0   \n",
       "860            0.0           0.0             0.0             0.0   \n",
       "1126           0.0           0.0             0.0             0.0   \n",
       "\n",
       "      SaleType_ConLw  SaleType_New  SaleType_Oth  SaleType_WD  \\\n",
       "1023             0.0           0.0           0.0          1.0   \n",
       "810              0.0           0.0           0.0          1.0   \n",
       "1384             0.0           0.0           0.0          1.0   \n",
       "626              0.0           0.0           0.0          1.0   \n",
       "813              0.0           0.0           0.0          0.0   \n",
       "...              ...           ...           ...          ...   \n",
       "1095             0.0           0.0           0.0          1.0   \n",
       "1130             0.0           0.0           0.0          1.0   \n",
       "1294             0.0           0.0           0.0          1.0   \n",
       "860              0.0           0.0           0.0          1.0   \n",
       "1126             0.0           0.0           0.0          1.0   \n",
       "\n",
       "      SaleCondition_Abnorml  SaleCondition_AdjLand  SaleCondition_Alloca  \\\n",
       "1023                    0.0                    0.0                   0.0   \n",
       "810                     0.0                    0.0                   0.0   \n",
       "1384                    0.0                    0.0                   0.0   \n",
       "626                     0.0                    0.0                   0.0   \n",
       "813                     0.0                    0.0                   0.0   \n",
       "...                     ...                    ...                   ...   \n",
       "1095                    0.0                    0.0                   0.0   \n",
       "1130                    0.0                    0.0                   0.0   \n",
       "1294                    0.0                    0.0                   0.0   \n",
       "860                     0.0                    0.0                   0.0   \n",
       "1126                    0.0                    0.0                   0.0   \n",
       "\n",
       "      SaleCondition_Family  SaleCondition_Normal  SaleCondition_Partial  \n",
       "1023                   0.0                   1.0                    0.0  \n",
       "810                    0.0                   1.0                    0.0  \n",
       "1384                   0.0                   1.0                    0.0  \n",
       "626                    0.0                   1.0                    0.0  \n",
       "813                    0.0                   1.0                    0.0  \n",
       "...                    ...                   ...                    ...  \n",
       "1095                   0.0                   1.0                    0.0  \n",
       "1130                   0.0                   1.0                    0.0  \n",
       "1294                   0.0                   1.0                    0.0  \n",
       "860                    0.0                   1.0                    0.0  \n",
       "1126                   0.0                   1.0                    0.0  \n",
       "\n",
       "[1095 rows x 304 columns]"
      ]
     },
     "execution_count": 94,
     "metadata": {},
     "output_type": "execute_result"
    }
   ],
   "source": [
    "train_inputs"
   ]
  },
  {
   "cell_type": "code",
   "execution_count": 95,
   "metadata": {},
   "outputs": [
    {
     "data": {
      "text/plain": [
       "1023    191000\n",
       "810     181000\n",
       "1384    105000\n",
       "626     139900\n",
       "813     157900\n",
       "         ...  \n",
       "1095    176432\n",
       "1130    135000\n",
       "1294    115000\n",
       "860     189950\n",
       "1126    174000\n",
       "Name: SalePrice, Length: 1095, dtype: int64"
      ]
     },
     "execution_count": 95,
     "metadata": {},
     "output_type": "execute_result"
    }
   ],
   "source": [
    "train_targets"
   ]
  },
  {
   "cell_type": "code",
   "execution_count": 96,
   "metadata": {},
   "outputs": [
    {
     "data": {
      "text/html": [
       "<div>\n",
       "<style scoped>\n",
       "    .dataframe tbody tr th:only-of-type {\n",
       "        vertical-align: middle;\n",
       "    }\n",
       "\n",
       "    .dataframe tbody tr th {\n",
       "        vertical-align: top;\n",
       "    }\n",
       "\n",
       "    .dataframe thead th {\n",
       "        text-align: right;\n",
       "    }\n",
       "</style>\n",
       "<table border=\"1\" class=\"dataframe\">\n",
       "  <thead>\n",
       "    <tr style=\"text-align: right;\">\n",
       "      <th></th>\n",
       "      <th>MSSubClass</th>\n",
       "      <th>LotFrontage</th>\n",
       "      <th>LotArea</th>\n",
       "      <th>OverallQual</th>\n",
       "      <th>OverallCond</th>\n",
       "      <th>YearBuilt</th>\n",
       "      <th>YearRemodAdd</th>\n",
       "      <th>MasVnrArea</th>\n",
       "      <th>BsmtFinSF1</th>\n",
       "      <th>BsmtFinSF2</th>\n",
       "      <th>BsmtUnfSF</th>\n",
       "      <th>TotalBsmtSF</th>\n",
       "      <th>1stFlrSF</th>\n",
       "      <th>2ndFlrSF</th>\n",
       "      <th>LowQualFinSF</th>\n",
       "      <th>GrLivArea</th>\n",
       "      <th>BsmtFullBath</th>\n",
       "      <th>BsmtHalfBath</th>\n",
       "      <th>FullBath</th>\n",
       "      <th>HalfBath</th>\n",
       "      <th>BedroomAbvGr</th>\n",
       "      <th>KitchenAbvGr</th>\n",
       "      <th>TotRmsAbvGrd</th>\n",
       "      <th>Fireplaces</th>\n",
       "      <th>GarageYrBlt</th>\n",
       "      <th>GarageCars</th>\n",
       "      <th>GarageArea</th>\n",
       "      <th>WoodDeckSF</th>\n",
       "      <th>OpenPorchSF</th>\n",
       "      <th>EnclosedPorch</th>\n",
       "      <th>3SsnPorch</th>\n",
       "      <th>ScreenPorch</th>\n",
       "      <th>PoolArea</th>\n",
       "      <th>MiscVal</th>\n",
       "      <th>MoSold</th>\n",
       "      <th>YrSold</th>\n",
       "      <th>MSZoning_C (all)</th>\n",
       "      <th>MSZoning_FV</th>\n",
       "      <th>MSZoning_RH</th>\n",
       "      <th>MSZoning_RL</th>\n",
       "      <th>MSZoning_RM</th>\n",
       "      <th>Street_Grvl</th>\n",
       "      <th>Street_Pave</th>\n",
       "      <th>Alley_Grvl</th>\n",
       "      <th>Alley_Pave</th>\n",
       "      <th>Alley_nan</th>\n",
       "      <th>LotShape_IR1</th>\n",
       "      <th>LotShape_IR2</th>\n",
       "      <th>LotShape_IR3</th>\n",
       "      <th>LotShape_Reg</th>\n",
       "      <th>LandContour_Bnk</th>\n",
       "      <th>LandContour_HLS</th>\n",
       "      <th>LandContour_Low</th>\n",
       "      <th>LandContour_Lvl</th>\n",
       "      <th>Utilities_AllPub</th>\n",
       "      <th>Utilities_NoSeWa</th>\n",
       "      <th>LotConfig_Corner</th>\n",
       "      <th>LotConfig_CulDSac</th>\n",
       "      <th>LotConfig_FR2</th>\n",
       "      <th>LotConfig_FR3</th>\n",
       "      <th>LotConfig_Inside</th>\n",
       "      <th>LandSlope_Gtl</th>\n",
       "      <th>LandSlope_Mod</th>\n",
       "      <th>LandSlope_Sev</th>\n",
       "      <th>Neighborhood_Blmngtn</th>\n",
       "      <th>Neighborhood_Blueste</th>\n",
       "      <th>Neighborhood_BrDale</th>\n",
       "      <th>Neighborhood_BrkSide</th>\n",
       "      <th>Neighborhood_ClearCr</th>\n",
       "      <th>Neighborhood_CollgCr</th>\n",
       "      <th>Neighborhood_Crawfor</th>\n",
       "      <th>Neighborhood_Edwards</th>\n",
       "      <th>Neighborhood_Gilbert</th>\n",
       "      <th>Neighborhood_IDOTRR</th>\n",
       "      <th>Neighborhood_MeadowV</th>\n",
       "      <th>Neighborhood_Mitchel</th>\n",
       "      <th>Neighborhood_NAmes</th>\n",
       "      <th>Neighborhood_NPkVill</th>\n",
       "      <th>Neighborhood_NWAmes</th>\n",
       "      <th>Neighborhood_NoRidge</th>\n",
       "      <th>Neighborhood_NridgHt</th>\n",
       "      <th>Neighborhood_OldTown</th>\n",
       "      <th>Neighborhood_SWISU</th>\n",
       "      <th>Neighborhood_Sawyer</th>\n",
       "      <th>Neighborhood_SawyerW</th>\n",
       "      <th>Neighborhood_Somerst</th>\n",
       "      <th>Neighborhood_StoneBr</th>\n",
       "      <th>Neighborhood_Timber</th>\n",
       "      <th>Neighborhood_Veenker</th>\n",
       "      <th>Condition1_Artery</th>\n",
       "      <th>Condition1_Feedr</th>\n",
       "      <th>Condition1_Norm</th>\n",
       "      <th>Condition1_PosA</th>\n",
       "      <th>Condition1_PosN</th>\n",
       "      <th>Condition1_RRAe</th>\n",
       "      <th>Condition1_RRAn</th>\n",
       "      <th>Condition1_RRNe</th>\n",
       "      <th>Condition1_RRNn</th>\n",
       "      <th>Condition2_Artery</th>\n",
       "      <th>Condition2_Feedr</th>\n",
       "      <th>...</th>\n",
       "      <th>BsmtFinType1_Unf</th>\n",
       "      <th>BsmtFinType1_nan</th>\n",
       "      <th>BsmtFinType2_ALQ</th>\n",
       "      <th>BsmtFinType2_BLQ</th>\n",
       "      <th>BsmtFinType2_GLQ</th>\n",
       "      <th>BsmtFinType2_LwQ</th>\n",
       "      <th>BsmtFinType2_Rec</th>\n",
       "      <th>BsmtFinType2_Unf</th>\n",
       "      <th>BsmtFinType2_nan</th>\n",
       "      <th>Heating_Floor</th>\n",
       "      <th>Heating_GasA</th>\n",
       "      <th>Heating_GasW</th>\n",
       "      <th>Heating_Grav</th>\n",
       "      <th>Heating_OthW</th>\n",
       "      <th>Heating_Wall</th>\n",
       "      <th>HeatingQC_Ex</th>\n",
       "      <th>HeatingQC_Fa</th>\n",
       "      <th>HeatingQC_Gd</th>\n",
       "      <th>HeatingQC_Po</th>\n",
       "      <th>HeatingQC_TA</th>\n",
       "      <th>CentralAir_N</th>\n",
       "      <th>CentralAir_Y</th>\n",
       "      <th>Electrical_FuseA</th>\n",
       "      <th>Electrical_FuseF</th>\n",
       "      <th>Electrical_FuseP</th>\n",
       "      <th>Electrical_Mix</th>\n",
       "      <th>Electrical_SBrkr</th>\n",
       "      <th>Electrical_nan</th>\n",
       "      <th>KitchenQual_Ex</th>\n",
       "      <th>KitchenQual_Fa</th>\n",
       "      <th>KitchenQual_Gd</th>\n",
       "      <th>KitchenQual_TA</th>\n",
       "      <th>Functional_Maj1</th>\n",
       "      <th>Functional_Maj2</th>\n",
       "      <th>Functional_Min1</th>\n",
       "      <th>Functional_Min2</th>\n",
       "      <th>Functional_Mod</th>\n",
       "      <th>Functional_Sev</th>\n",
       "      <th>Functional_Typ</th>\n",
       "      <th>FireplaceQu_Ex</th>\n",
       "      <th>FireplaceQu_Fa</th>\n",
       "      <th>FireplaceQu_Gd</th>\n",
       "      <th>FireplaceQu_Po</th>\n",
       "      <th>FireplaceQu_TA</th>\n",
       "      <th>FireplaceQu_nan</th>\n",
       "      <th>GarageType_2Types</th>\n",
       "      <th>GarageType_Attchd</th>\n",
       "      <th>GarageType_Basment</th>\n",
       "      <th>GarageType_BuiltIn</th>\n",
       "      <th>GarageType_CarPort</th>\n",
       "      <th>GarageType_Detchd</th>\n",
       "      <th>GarageType_nan</th>\n",
       "      <th>GarageFinish_Fin</th>\n",
       "      <th>GarageFinish_RFn</th>\n",
       "      <th>GarageFinish_Unf</th>\n",
       "      <th>GarageFinish_nan</th>\n",
       "      <th>GarageQual_Ex</th>\n",
       "      <th>GarageQual_Fa</th>\n",
       "      <th>GarageQual_Gd</th>\n",
       "      <th>GarageQual_Po</th>\n",
       "      <th>GarageQual_TA</th>\n",
       "      <th>GarageQual_nan</th>\n",
       "      <th>GarageCond_Ex</th>\n",
       "      <th>GarageCond_Fa</th>\n",
       "      <th>GarageCond_Gd</th>\n",
       "      <th>GarageCond_Po</th>\n",
       "      <th>GarageCond_TA</th>\n",
       "      <th>GarageCond_nan</th>\n",
       "      <th>PavedDrive_N</th>\n",
       "      <th>PavedDrive_P</th>\n",
       "      <th>PavedDrive_Y</th>\n",
       "      <th>PoolQC_Ex</th>\n",
       "      <th>PoolQC_Fa</th>\n",
       "      <th>PoolQC_Gd</th>\n",
       "      <th>PoolQC_nan</th>\n",
       "      <th>Fence_GdPrv</th>\n",
       "      <th>Fence_GdWo</th>\n",
       "      <th>Fence_MnPrv</th>\n",
       "      <th>Fence_MnWw</th>\n",
       "      <th>Fence_nan</th>\n",
       "      <th>MiscFeature_Gar2</th>\n",
       "      <th>MiscFeature_Othr</th>\n",
       "      <th>MiscFeature_Shed</th>\n",
       "      <th>MiscFeature_TenC</th>\n",
       "      <th>MiscFeature_nan</th>\n",
       "      <th>SaleType_COD</th>\n",
       "      <th>SaleType_CWD</th>\n",
       "      <th>SaleType_Con</th>\n",
       "      <th>SaleType_ConLD</th>\n",
       "      <th>SaleType_ConLI</th>\n",
       "      <th>SaleType_ConLw</th>\n",
       "      <th>SaleType_New</th>\n",
       "      <th>SaleType_Oth</th>\n",
       "      <th>SaleType_WD</th>\n",
       "      <th>SaleCondition_Abnorml</th>\n",
       "      <th>SaleCondition_AdjLand</th>\n",
       "      <th>SaleCondition_Alloca</th>\n",
       "      <th>SaleCondition_Family</th>\n",
       "      <th>SaleCondition_Normal</th>\n",
       "      <th>SaleCondition_Partial</th>\n",
       "    </tr>\n",
       "  </thead>\n",
       "  <tbody>\n",
       "    <tr>\n",
       "      <th>892</th>\n",
       "      <td>0.000000</td>\n",
       "      <td>0.167808</td>\n",
       "      <td>0.033252</td>\n",
       "      <td>0.555556</td>\n",
       "      <td>0.875</td>\n",
       "      <td>0.659420</td>\n",
       "      <td>0.883333</td>\n",
       "      <td>0.000000</td>\n",
       "      <td>0.117470</td>\n",
       "      <td>0.000000</td>\n",
       "      <td>0.169521</td>\n",
       "      <td>0.173322</td>\n",
       "      <td>0.168426</td>\n",
       "      <td>0.000000</td>\n",
       "      <td>0.0</td>\n",
       "      <td>0.138282</td>\n",
       "      <td>0.000000</td>\n",
       "      <td>0.5</td>\n",
       "      <td>0.333333</td>\n",
       "      <td>0.0</td>\n",
       "      <td>0.375</td>\n",
       "      <td>0.333333</td>\n",
       "      <td>0.333333</td>\n",
       "      <td>0.000000</td>\n",
       "      <td>0.572727</td>\n",
       "      <td>0.25</td>\n",
       "      <td>0.186178</td>\n",
       "      <td>0.224037</td>\n",
       "      <td>0.000000</td>\n",
       "      <td>0.000000</td>\n",
       "      <td>0.0</td>\n",
       "      <td>0.0</td>\n",
       "      <td>0.0</td>\n",
       "      <td>0.0</td>\n",
       "      <td>0.090909</td>\n",
       "      <td>0.00</td>\n",
       "      <td>0.0</td>\n",
       "      <td>0.0</td>\n",
       "      <td>0.0</td>\n",
       "      <td>1.0</td>\n",
       "      <td>0.0</td>\n",
       "      <td>0.0</td>\n",
       "      <td>1.0</td>\n",
       "      <td>0.0</td>\n",
       "      <td>0.0</td>\n",
       "      <td>1.0</td>\n",
       "      <td>0.0</td>\n",
       "      <td>0.0</td>\n",
       "      <td>0.0</td>\n",
       "      <td>1.0</td>\n",
       "      <td>0.0</td>\n",
       "      <td>0.0</td>\n",
       "      <td>0.0</td>\n",
       "      <td>1.0</td>\n",
       "      <td>1.0</td>\n",
       "      <td>0.0</td>\n",
       "      <td>0.0</td>\n",
       "      <td>0.0</td>\n",
       "      <td>0.0</td>\n",
       "      <td>0.0</td>\n",
       "      <td>1.0</td>\n",
       "      <td>1.0</td>\n",
       "      <td>0.0</td>\n",
       "      <td>0.0</td>\n",
       "      <td>0.0</td>\n",
       "      <td>0.0</td>\n",
       "      <td>0.0</td>\n",
       "      <td>0.0</td>\n",
       "      <td>0.0</td>\n",
       "      <td>0.0</td>\n",
       "      <td>0.0</td>\n",
       "      <td>0.0</td>\n",
       "      <td>0.0</td>\n",
       "      <td>0.0</td>\n",
       "      <td>0.0</td>\n",
       "      <td>0.0</td>\n",
       "      <td>0.0</td>\n",
       "      <td>0.0</td>\n",
       "      <td>0.0</td>\n",
       "      <td>0.0</td>\n",
       "      <td>0.0</td>\n",
       "      <td>0.0</td>\n",
       "      <td>0.0</td>\n",
       "      <td>1.0</td>\n",
       "      <td>0.0</td>\n",
       "      <td>0.0</td>\n",
       "      <td>0.0</td>\n",
       "      <td>0.0</td>\n",
       "      <td>0.0</td>\n",
       "      <td>0.0</td>\n",
       "      <td>0.0</td>\n",
       "      <td>1.0</td>\n",
       "      <td>0.0</td>\n",
       "      <td>0.0</td>\n",
       "      <td>0.0</td>\n",
       "      <td>0.0</td>\n",
       "      <td>0.0</td>\n",
       "      <td>0.0</td>\n",
       "      <td>0.0</td>\n",
       "      <td>0.0</td>\n",
       "      <td>...</td>\n",
       "      <td>0.0</td>\n",
       "      <td>0.0</td>\n",
       "      <td>0.0</td>\n",
       "      <td>0.0</td>\n",
       "      <td>0.0</td>\n",
       "      <td>0.0</td>\n",
       "      <td>0.0</td>\n",
       "      <td>1.0</td>\n",
       "      <td>0.0</td>\n",
       "      <td>0.0</td>\n",
       "      <td>1.0</td>\n",
       "      <td>0.0</td>\n",
       "      <td>0.0</td>\n",
       "      <td>0.0</td>\n",
       "      <td>0.0</td>\n",
       "      <td>0.0</td>\n",
       "      <td>0.0</td>\n",
       "      <td>0.0</td>\n",
       "      <td>0.0</td>\n",
       "      <td>1.0</td>\n",
       "      <td>0.0</td>\n",
       "      <td>1.0</td>\n",
       "      <td>0.0</td>\n",
       "      <td>0.0</td>\n",
       "      <td>0.0</td>\n",
       "      <td>0.0</td>\n",
       "      <td>1.0</td>\n",
       "      <td>0.0</td>\n",
       "      <td>0.0</td>\n",
       "      <td>0.0</td>\n",
       "      <td>0.0</td>\n",
       "      <td>1.0</td>\n",
       "      <td>0.0</td>\n",
       "      <td>0.0</td>\n",
       "      <td>0.0</td>\n",
       "      <td>0.0</td>\n",
       "      <td>0.0</td>\n",
       "      <td>0.0</td>\n",
       "      <td>1.0</td>\n",
       "      <td>0.0</td>\n",
       "      <td>0.0</td>\n",
       "      <td>0.0</td>\n",
       "      <td>0.0</td>\n",
       "      <td>0.0</td>\n",
       "      <td>1.0</td>\n",
       "      <td>0.0</td>\n",
       "      <td>1.0</td>\n",
       "      <td>0.0</td>\n",
       "      <td>0.0</td>\n",
       "      <td>0.0</td>\n",
       "      <td>0.0</td>\n",
       "      <td>0.0</td>\n",
       "      <td>0.0</td>\n",
       "      <td>1.0</td>\n",
       "      <td>0.0</td>\n",
       "      <td>0.0</td>\n",
       "      <td>0.0</td>\n",
       "      <td>0.0</td>\n",
       "      <td>0.0</td>\n",
       "      <td>0.0</td>\n",
       "      <td>1.0</td>\n",
       "      <td>0.0</td>\n",
       "      <td>0.0</td>\n",
       "      <td>0.0</td>\n",
       "      <td>0.0</td>\n",
       "      <td>0.0</td>\n",
       "      <td>1.0</td>\n",
       "      <td>0.0</td>\n",
       "      <td>0.0</td>\n",
       "      <td>0.0</td>\n",
       "      <td>1.0</td>\n",
       "      <td>0.0</td>\n",
       "      <td>0.0</td>\n",
       "      <td>0.0</td>\n",
       "      <td>1.0</td>\n",
       "      <td>0.0</td>\n",
       "      <td>0.0</td>\n",
       "      <td>1.0</td>\n",
       "      <td>0.0</td>\n",
       "      <td>0.0</td>\n",
       "      <td>0.0</td>\n",
       "      <td>0.0</td>\n",
       "      <td>0.0</td>\n",
       "      <td>0.0</td>\n",
       "      <td>1.0</td>\n",
       "      <td>0.0</td>\n",
       "      <td>0.0</td>\n",
       "      <td>0.0</td>\n",
       "      <td>0.0</td>\n",
       "      <td>0.0</td>\n",
       "      <td>0.0</td>\n",
       "      <td>0.0</td>\n",
       "      <td>0.0</td>\n",
       "      <td>1.0</td>\n",
       "      <td>0.0</td>\n",
       "      <td>0.0</td>\n",
       "      <td>0.0</td>\n",
       "      <td>0.0</td>\n",
       "      <td>1.0</td>\n",
       "      <td>0.0</td>\n",
       "    </tr>\n",
       "    <tr>\n",
       "      <th>1105</th>\n",
       "      <td>0.235294</td>\n",
       "      <td>0.263699</td>\n",
       "      <td>0.051209</td>\n",
       "      <td>0.777778</td>\n",
       "      <td>0.500</td>\n",
       "      <td>0.884058</td>\n",
       "      <td>0.750000</td>\n",
       "      <td>0.226250</td>\n",
       "      <td>0.182849</td>\n",
       "      <td>0.000000</td>\n",
       "      <td>0.184503</td>\n",
       "      <td>0.239444</td>\n",
       "      <td>0.267554</td>\n",
       "      <td>0.543341</td>\n",
       "      <td>0.0</td>\n",
       "      <td>0.431047</td>\n",
       "      <td>0.333333</td>\n",
       "      <td>0.0</td>\n",
       "      <td>0.666667</td>\n",
       "      <td>0.5</td>\n",
       "      <td>0.375</td>\n",
       "      <td>0.333333</td>\n",
       "      <td>0.583333</td>\n",
       "      <td>0.666667</td>\n",
       "      <td>0.854545</td>\n",
       "      <td>0.50</td>\n",
       "      <td>0.502116</td>\n",
       "      <td>0.217036</td>\n",
       "      <td>0.058501</td>\n",
       "      <td>0.000000</td>\n",
       "      <td>0.0</td>\n",
       "      <td>0.0</td>\n",
       "      <td>0.0</td>\n",
       "      <td>0.0</td>\n",
       "      <td>0.272727</td>\n",
       "      <td>1.00</td>\n",
       "      <td>0.0</td>\n",
       "      <td>0.0</td>\n",
       "      <td>0.0</td>\n",
       "      <td>1.0</td>\n",
       "      <td>0.0</td>\n",
       "      <td>0.0</td>\n",
       "      <td>1.0</td>\n",
       "      <td>0.0</td>\n",
       "      <td>0.0</td>\n",
       "      <td>1.0</td>\n",
       "      <td>1.0</td>\n",
       "      <td>0.0</td>\n",
       "      <td>0.0</td>\n",
       "      <td>0.0</td>\n",
       "      <td>0.0</td>\n",
       "      <td>0.0</td>\n",
       "      <td>0.0</td>\n",
       "      <td>1.0</td>\n",
       "      <td>1.0</td>\n",
       "      <td>0.0</td>\n",
       "      <td>1.0</td>\n",
       "      <td>0.0</td>\n",
       "      <td>0.0</td>\n",
       "      <td>0.0</td>\n",
       "      <td>0.0</td>\n",
       "      <td>1.0</td>\n",
       "      <td>0.0</td>\n",
       "      <td>0.0</td>\n",
       "      <td>0.0</td>\n",
       "      <td>0.0</td>\n",
       "      <td>0.0</td>\n",
       "      <td>0.0</td>\n",
       "      <td>0.0</td>\n",
       "      <td>0.0</td>\n",
       "      <td>0.0</td>\n",
       "      <td>0.0</td>\n",
       "      <td>0.0</td>\n",
       "      <td>0.0</td>\n",
       "      <td>0.0</td>\n",
       "      <td>0.0</td>\n",
       "      <td>0.0</td>\n",
       "      <td>0.0</td>\n",
       "      <td>0.0</td>\n",
       "      <td>1.0</td>\n",
       "      <td>0.0</td>\n",
       "      <td>0.0</td>\n",
       "      <td>0.0</td>\n",
       "      <td>0.0</td>\n",
       "      <td>0.0</td>\n",
       "      <td>0.0</td>\n",
       "      <td>0.0</td>\n",
       "      <td>0.0</td>\n",
       "      <td>0.0</td>\n",
       "      <td>0.0</td>\n",
       "      <td>0.0</td>\n",
       "      <td>1.0</td>\n",
       "      <td>0.0</td>\n",
       "      <td>0.0</td>\n",
       "      <td>0.0</td>\n",
       "      <td>0.0</td>\n",
       "      <td>0.0</td>\n",
       "      <td>0.0</td>\n",
       "      <td>0.0</td>\n",
       "      <td>0.0</td>\n",
       "      <td>...</td>\n",
       "      <td>0.0</td>\n",
       "      <td>0.0</td>\n",
       "      <td>0.0</td>\n",
       "      <td>0.0</td>\n",
       "      <td>0.0</td>\n",
       "      <td>0.0</td>\n",
       "      <td>0.0</td>\n",
       "      <td>1.0</td>\n",
       "      <td>0.0</td>\n",
       "      <td>0.0</td>\n",
       "      <td>1.0</td>\n",
       "      <td>0.0</td>\n",
       "      <td>0.0</td>\n",
       "      <td>0.0</td>\n",
       "      <td>0.0</td>\n",
       "      <td>1.0</td>\n",
       "      <td>0.0</td>\n",
       "      <td>0.0</td>\n",
       "      <td>0.0</td>\n",
       "      <td>0.0</td>\n",
       "      <td>0.0</td>\n",
       "      <td>1.0</td>\n",
       "      <td>0.0</td>\n",
       "      <td>0.0</td>\n",
       "      <td>0.0</td>\n",
       "      <td>0.0</td>\n",
       "      <td>1.0</td>\n",
       "      <td>0.0</td>\n",
       "      <td>0.0</td>\n",
       "      <td>0.0</td>\n",
       "      <td>1.0</td>\n",
       "      <td>0.0</td>\n",
       "      <td>0.0</td>\n",
       "      <td>0.0</td>\n",
       "      <td>0.0</td>\n",
       "      <td>0.0</td>\n",
       "      <td>0.0</td>\n",
       "      <td>0.0</td>\n",
       "      <td>1.0</td>\n",
       "      <td>0.0</td>\n",
       "      <td>0.0</td>\n",
       "      <td>0.0</td>\n",
       "      <td>0.0</td>\n",
       "      <td>1.0</td>\n",
       "      <td>0.0</td>\n",
       "      <td>0.0</td>\n",
       "      <td>1.0</td>\n",
       "      <td>0.0</td>\n",
       "      <td>0.0</td>\n",
       "      <td>0.0</td>\n",
       "      <td>0.0</td>\n",
       "      <td>0.0</td>\n",
       "      <td>0.0</td>\n",
       "      <td>1.0</td>\n",
       "      <td>0.0</td>\n",
       "      <td>0.0</td>\n",
       "      <td>0.0</td>\n",
       "      <td>0.0</td>\n",
       "      <td>0.0</td>\n",
       "      <td>0.0</td>\n",
       "      <td>1.0</td>\n",
       "      <td>0.0</td>\n",
       "      <td>0.0</td>\n",
       "      <td>0.0</td>\n",
       "      <td>0.0</td>\n",
       "      <td>0.0</td>\n",
       "      <td>1.0</td>\n",
       "      <td>0.0</td>\n",
       "      <td>0.0</td>\n",
       "      <td>0.0</td>\n",
       "      <td>1.0</td>\n",
       "      <td>0.0</td>\n",
       "      <td>0.0</td>\n",
       "      <td>0.0</td>\n",
       "      <td>1.0</td>\n",
       "      <td>0.0</td>\n",
       "      <td>0.0</td>\n",
       "      <td>0.0</td>\n",
       "      <td>0.0</td>\n",
       "      <td>1.0</td>\n",
       "      <td>0.0</td>\n",
       "      <td>0.0</td>\n",
       "      <td>0.0</td>\n",
       "      <td>0.0</td>\n",
       "      <td>1.0</td>\n",
       "      <td>0.0</td>\n",
       "      <td>0.0</td>\n",
       "      <td>0.0</td>\n",
       "      <td>0.0</td>\n",
       "      <td>0.0</td>\n",
       "      <td>0.0</td>\n",
       "      <td>0.0</td>\n",
       "      <td>0.0</td>\n",
       "      <td>1.0</td>\n",
       "      <td>0.0</td>\n",
       "      <td>0.0</td>\n",
       "      <td>0.0</td>\n",
       "      <td>0.0</td>\n",
       "      <td>1.0</td>\n",
       "      <td>0.0</td>\n",
       "    </tr>\n",
       "    <tr>\n",
       "      <th>413</th>\n",
       "      <td>0.058824</td>\n",
       "      <td>0.119863</td>\n",
       "      <td>0.035804</td>\n",
       "      <td>0.444444</td>\n",
       "      <td>0.625</td>\n",
       "      <td>0.398551</td>\n",
       "      <td>0.000000</td>\n",
       "      <td>0.000000</td>\n",
       "      <td>0.000000</td>\n",
       "      <td>0.000000</td>\n",
       "      <td>0.431507</td>\n",
       "      <td>0.164975</td>\n",
       "      <td>0.159247</td>\n",
       "      <td>0.000000</td>\n",
       "      <td>0.0</td>\n",
       "      <td>0.130746</td>\n",
       "      <td>0.000000</td>\n",
       "      <td>0.0</td>\n",
       "      <td>0.333333</td>\n",
       "      <td>0.0</td>\n",
       "      <td>0.250</td>\n",
       "      <td>0.333333</td>\n",
       "      <td>0.250000</td>\n",
       "      <td>0.333333</td>\n",
       "      <td>0.245455</td>\n",
       "      <td>0.50</td>\n",
       "      <td>0.253879</td>\n",
       "      <td>0.000000</td>\n",
       "      <td>0.000000</td>\n",
       "      <td>0.235507</td>\n",
       "      <td>0.0</td>\n",
       "      <td>0.0</td>\n",
       "      <td>0.0</td>\n",
       "      <td>0.0</td>\n",
       "      <td>0.181818</td>\n",
       "      <td>1.00</td>\n",
       "      <td>0.0</td>\n",
       "      <td>0.0</td>\n",
       "      <td>0.0</td>\n",
       "      <td>0.0</td>\n",
       "      <td>1.0</td>\n",
       "      <td>0.0</td>\n",
       "      <td>1.0</td>\n",
       "      <td>1.0</td>\n",
       "      <td>0.0</td>\n",
       "      <td>0.0</td>\n",
       "      <td>0.0</td>\n",
       "      <td>0.0</td>\n",
       "      <td>0.0</td>\n",
       "      <td>1.0</td>\n",
       "      <td>0.0</td>\n",
       "      <td>0.0</td>\n",
       "      <td>0.0</td>\n",
       "      <td>1.0</td>\n",
       "      <td>1.0</td>\n",
       "      <td>0.0</td>\n",
       "      <td>0.0</td>\n",
       "      <td>0.0</td>\n",
       "      <td>0.0</td>\n",
       "      <td>0.0</td>\n",
       "      <td>1.0</td>\n",
       "      <td>1.0</td>\n",
       "      <td>0.0</td>\n",
       "      <td>0.0</td>\n",
       "      <td>0.0</td>\n",
       "      <td>0.0</td>\n",
       "      <td>0.0</td>\n",
       "      <td>0.0</td>\n",
       "      <td>0.0</td>\n",
       "      <td>0.0</td>\n",
       "      <td>0.0</td>\n",
       "      <td>0.0</td>\n",
       "      <td>0.0</td>\n",
       "      <td>0.0</td>\n",
       "      <td>0.0</td>\n",
       "      <td>0.0</td>\n",
       "      <td>0.0</td>\n",
       "      <td>0.0</td>\n",
       "      <td>0.0</td>\n",
       "      <td>0.0</td>\n",
       "      <td>0.0</td>\n",
       "      <td>1.0</td>\n",
       "      <td>0.0</td>\n",
       "      <td>0.0</td>\n",
       "      <td>0.0</td>\n",
       "      <td>0.0</td>\n",
       "      <td>0.0</td>\n",
       "      <td>0.0</td>\n",
       "      <td>0.0</td>\n",
       "      <td>1.0</td>\n",
       "      <td>0.0</td>\n",
       "      <td>0.0</td>\n",
       "      <td>0.0</td>\n",
       "      <td>0.0</td>\n",
       "      <td>0.0</td>\n",
       "      <td>0.0</td>\n",
       "      <td>0.0</td>\n",
       "      <td>0.0</td>\n",
       "      <td>0.0</td>\n",
       "      <td>0.0</td>\n",
       "      <td>...</td>\n",
       "      <td>1.0</td>\n",
       "      <td>0.0</td>\n",
       "      <td>0.0</td>\n",
       "      <td>0.0</td>\n",
       "      <td>0.0</td>\n",
       "      <td>0.0</td>\n",
       "      <td>0.0</td>\n",
       "      <td>1.0</td>\n",
       "      <td>0.0</td>\n",
       "      <td>0.0</td>\n",
       "      <td>1.0</td>\n",
       "      <td>0.0</td>\n",
       "      <td>0.0</td>\n",
       "      <td>0.0</td>\n",
       "      <td>0.0</td>\n",
       "      <td>0.0</td>\n",
       "      <td>0.0</td>\n",
       "      <td>1.0</td>\n",
       "      <td>0.0</td>\n",
       "      <td>0.0</td>\n",
       "      <td>0.0</td>\n",
       "      <td>1.0</td>\n",
       "      <td>1.0</td>\n",
       "      <td>0.0</td>\n",
       "      <td>0.0</td>\n",
       "      <td>0.0</td>\n",
       "      <td>0.0</td>\n",
       "      <td>0.0</td>\n",
       "      <td>0.0</td>\n",
       "      <td>0.0</td>\n",
       "      <td>0.0</td>\n",
       "      <td>1.0</td>\n",
       "      <td>0.0</td>\n",
       "      <td>0.0</td>\n",
       "      <td>0.0</td>\n",
       "      <td>0.0</td>\n",
       "      <td>0.0</td>\n",
       "      <td>0.0</td>\n",
       "      <td>1.0</td>\n",
       "      <td>0.0</td>\n",
       "      <td>0.0</td>\n",
       "      <td>1.0</td>\n",
       "      <td>0.0</td>\n",
       "      <td>0.0</td>\n",
       "      <td>0.0</td>\n",
       "      <td>0.0</td>\n",
       "      <td>0.0</td>\n",
       "      <td>0.0</td>\n",
       "      <td>0.0</td>\n",
       "      <td>0.0</td>\n",
       "      <td>1.0</td>\n",
       "      <td>0.0</td>\n",
       "      <td>0.0</td>\n",
       "      <td>0.0</td>\n",
       "      <td>1.0</td>\n",
       "      <td>0.0</td>\n",
       "      <td>0.0</td>\n",
       "      <td>0.0</td>\n",
       "      <td>0.0</td>\n",
       "      <td>0.0</td>\n",
       "      <td>1.0</td>\n",
       "      <td>0.0</td>\n",
       "      <td>0.0</td>\n",
       "      <td>0.0</td>\n",
       "      <td>0.0</td>\n",
       "      <td>0.0</td>\n",
       "      <td>1.0</td>\n",
       "      <td>0.0</td>\n",
       "      <td>0.0</td>\n",
       "      <td>0.0</td>\n",
       "      <td>1.0</td>\n",
       "      <td>0.0</td>\n",
       "      <td>0.0</td>\n",
       "      <td>0.0</td>\n",
       "      <td>1.0</td>\n",
       "      <td>0.0</td>\n",
       "      <td>0.0</td>\n",
       "      <td>0.0</td>\n",
       "      <td>0.0</td>\n",
       "      <td>1.0</td>\n",
       "      <td>0.0</td>\n",
       "      <td>0.0</td>\n",
       "      <td>0.0</td>\n",
       "      <td>0.0</td>\n",
       "      <td>1.0</td>\n",
       "      <td>0.0</td>\n",
       "      <td>0.0</td>\n",
       "      <td>0.0</td>\n",
       "      <td>0.0</td>\n",
       "      <td>0.0</td>\n",
       "      <td>0.0</td>\n",
       "      <td>0.0</td>\n",
       "      <td>0.0</td>\n",
       "      <td>1.0</td>\n",
       "      <td>0.0</td>\n",
       "      <td>0.0</td>\n",
       "      <td>0.0</td>\n",
       "      <td>0.0</td>\n",
       "      <td>1.0</td>\n",
       "      <td>0.0</td>\n",
       "    </tr>\n",
       "    <tr>\n",
       "      <th>522</th>\n",
       "      <td>0.176471</td>\n",
       "      <td>0.099315</td>\n",
       "      <td>0.017294</td>\n",
       "      <td>0.555556</td>\n",
       "      <td>0.750</td>\n",
       "      <td>0.543478</td>\n",
       "      <td>0.000000</td>\n",
       "      <td>0.000000</td>\n",
       "      <td>0.070695</td>\n",
       "      <td>0.000000</td>\n",
       "      <td>0.258990</td>\n",
       "      <td>0.164321</td>\n",
       "      <td>0.153740</td>\n",
       "      <td>0.319613</td>\n",
       "      <td>0.0</td>\n",
       "      <td>0.250565</td>\n",
       "      <td>0.000000</td>\n",
       "      <td>0.0</td>\n",
       "      <td>0.666667</td>\n",
       "      <td>0.0</td>\n",
       "      <td>0.375</td>\n",
       "      <td>0.333333</td>\n",
       "      <td>0.416667</td>\n",
       "      <td>0.666667</td>\n",
       "      <td>0.454545</td>\n",
       "      <td>0.50</td>\n",
       "      <td>0.296192</td>\n",
       "      <td>0.000000</td>\n",
       "      <td>0.043876</td>\n",
       "      <td>0.065217</td>\n",
       "      <td>0.0</td>\n",
       "      <td>0.0</td>\n",
       "      <td>0.0</td>\n",
       "      <td>0.0</td>\n",
       "      <td>0.818182</td>\n",
       "      <td>0.00</td>\n",
       "      <td>0.0</td>\n",
       "      <td>0.0</td>\n",
       "      <td>0.0</td>\n",
       "      <td>0.0</td>\n",
       "      <td>1.0</td>\n",
       "      <td>0.0</td>\n",
       "      <td>1.0</td>\n",
       "      <td>0.0</td>\n",
       "      <td>0.0</td>\n",
       "      <td>1.0</td>\n",
       "      <td>0.0</td>\n",
       "      <td>0.0</td>\n",
       "      <td>0.0</td>\n",
       "      <td>1.0</td>\n",
       "      <td>0.0</td>\n",
       "      <td>0.0</td>\n",
       "      <td>0.0</td>\n",
       "      <td>1.0</td>\n",
       "      <td>1.0</td>\n",
       "      <td>0.0</td>\n",
       "      <td>1.0</td>\n",
       "      <td>0.0</td>\n",
       "      <td>0.0</td>\n",
       "      <td>0.0</td>\n",
       "      <td>0.0</td>\n",
       "      <td>1.0</td>\n",
       "      <td>0.0</td>\n",
       "      <td>0.0</td>\n",
       "      <td>0.0</td>\n",
       "      <td>0.0</td>\n",
       "      <td>0.0</td>\n",
       "      <td>1.0</td>\n",
       "      <td>0.0</td>\n",
       "      <td>0.0</td>\n",
       "      <td>0.0</td>\n",
       "      <td>0.0</td>\n",
       "      <td>0.0</td>\n",
       "      <td>0.0</td>\n",
       "      <td>0.0</td>\n",
       "      <td>0.0</td>\n",
       "      <td>0.0</td>\n",
       "      <td>0.0</td>\n",
       "      <td>0.0</td>\n",
       "      <td>0.0</td>\n",
       "      <td>0.0</td>\n",
       "      <td>0.0</td>\n",
       "      <td>0.0</td>\n",
       "      <td>0.0</td>\n",
       "      <td>0.0</td>\n",
       "      <td>0.0</td>\n",
       "      <td>0.0</td>\n",
       "      <td>0.0</td>\n",
       "      <td>0.0</td>\n",
       "      <td>0.0</td>\n",
       "      <td>1.0</td>\n",
       "      <td>0.0</td>\n",
       "      <td>0.0</td>\n",
       "      <td>0.0</td>\n",
       "      <td>0.0</td>\n",
       "      <td>0.0</td>\n",
       "      <td>0.0</td>\n",
       "      <td>0.0</td>\n",
       "      <td>0.0</td>\n",
       "      <td>0.0</td>\n",
       "      <td>...</td>\n",
       "      <td>0.0</td>\n",
       "      <td>0.0</td>\n",
       "      <td>0.0</td>\n",
       "      <td>0.0</td>\n",
       "      <td>0.0</td>\n",
       "      <td>0.0</td>\n",
       "      <td>0.0</td>\n",
       "      <td>1.0</td>\n",
       "      <td>0.0</td>\n",
       "      <td>0.0</td>\n",
       "      <td>1.0</td>\n",
       "      <td>0.0</td>\n",
       "      <td>0.0</td>\n",
       "      <td>0.0</td>\n",
       "      <td>0.0</td>\n",
       "      <td>1.0</td>\n",
       "      <td>0.0</td>\n",
       "      <td>0.0</td>\n",
       "      <td>0.0</td>\n",
       "      <td>0.0</td>\n",
       "      <td>0.0</td>\n",
       "      <td>1.0</td>\n",
       "      <td>0.0</td>\n",
       "      <td>0.0</td>\n",
       "      <td>0.0</td>\n",
       "      <td>0.0</td>\n",
       "      <td>1.0</td>\n",
       "      <td>0.0</td>\n",
       "      <td>0.0</td>\n",
       "      <td>0.0</td>\n",
       "      <td>0.0</td>\n",
       "      <td>1.0</td>\n",
       "      <td>0.0</td>\n",
       "      <td>0.0</td>\n",
       "      <td>0.0</td>\n",
       "      <td>0.0</td>\n",
       "      <td>0.0</td>\n",
       "      <td>0.0</td>\n",
       "      <td>1.0</td>\n",
       "      <td>0.0</td>\n",
       "      <td>0.0</td>\n",
       "      <td>1.0</td>\n",
       "      <td>0.0</td>\n",
       "      <td>0.0</td>\n",
       "      <td>0.0</td>\n",
       "      <td>0.0</td>\n",
       "      <td>0.0</td>\n",
       "      <td>0.0</td>\n",
       "      <td>0.0</td>\n",
       "      <td>0.0</td>\n",
       "      <td>1.0</td>\n",
       "      <td>0.0</td>\n",
       "      <td>0.0</td>\n",
       "      <td>0.0</td>\n",
       "      <td>1.0</td>\n",
       "      <td>0.0</td>\n",
       "      <td>0.0</td>\n",
       "      <td>0.0</td>\n",
       "      <td>0.0</td>\n",
       "      <td>0.0</td>\n",
       "      <td>1.0</td>\n",
       "      <td>0.0</td>\n",
       "      <td>0.0</td>\n",
       "      <td>0.0</td>\n",
       "      <td>0.0</td>\n",
       "      <td>0.0</td>\n",
       "      <td>1.0</td>\n",
       "      <td>0.0</td>\n",
       "      <td>0.0</td>\n",
       "      <td>0.0</td>\n",
       "      <td>1.0</td>\n",
       "      <td>0.0</td>\n",
       "      <td>0.0</td>\n",
       "      <td>0.0</td>\n",
       "      <td>1.0</td>\n",
       "      <td>0.0</td>\n",
       "      <td>0.0</td>\n",
       "      <td>0.0</td>\n",
       "      <td>0.0</td>\n",
       "      <td>1.0</td>\n",
       "      <td>0.0</td>\n",
       "      <td>0.0</td>\n",
       "      <td>0.0</td>\n",
       "      <td>0.0</td>\n",
       "      <td>1.0</td>\n",
       "      <td>0.0</td>\n",
       "      <td>0.0</td>\n",
       "      <td>0.0</td>\n",
       "      <td>0.0</td>\n",
       "      <td>0.0</td>\n",
       "      <td>0.0</td>\n",
       "      <td>0.0</td>\n",
       "      <td>0.0</td>\n",
       "      <td>1.0</td>\n",
       "      <td>0.0</td>\n",
       "      <td>0.0</td>\n",
       "      <td>0.0</td>\n",
       "      <td>0.0</td>\n",
       "      <td>1.0</td>\n",
       "      <td>0.0</td>\n",
       "    </tr>\n",
       "    <tr>\n",
       "      <th>1036</th>\n",
       "      <td>0.000000</td>\n",
       "      <td>0.232877</td>\n",
       "      <td>0.054210</td>\n",
       "      <td>0.888889</td>\n",
       "      <td>0.500</td>\n",
       "      <td>0.978261</td>\n",
       "      <td>0.966667</td>\n",
       "      <td>0.043750</td>\n",
       "      <td>0.181077</td>\n",
       "      <td>0.000000</td>\n",
       "      <td>0.255993</td>\n",
       "      <td>0.265139</td>\n",
       "      <td>0.295089</td>\n",
       "      <td>0.000000</td>\n",
       "      <td>0.0</td>\n",
       "      <td>0.242276</td>\n",
       "      <td>0.333333</td>\n",
       "      <td>0.0</td>\n",
       "      <td>0.666667</td>\n",
       "      <td>0.0</td>\n",
       "      <td>0.250</td>\n",
       "      <td>0.333333</td>\n",
       "      <td>0.333333</td>\n",
       "      <td>0.333333</td>\n",
       "      <td>0.981818</td>\n",
       "      <td>0.75</td>\n",
       "      <td>0.643159</td>\n",
       "      <td>0.266044</td>\n",
       "      <td>0.000000</td>\n",
       "      <td>0.000000</td>\n",
       "      <td>0.0</td>\n",
       "      <td>0.0</td>\n",
       "      <td>0.0</td>\n",
       "      <td>0.0</td>\n",
       "      <td>0.727273</td>\n",
       "      <td>0.75</td>\n",
       "      <td>0.0</td>\n",
       "      <td>0.0</td>\n",
       "      <td>0.0</td>\n",
       "      <td>1.0</td>\n",
       "      <td>0.0</td>\n",
       "      <td>0.0</td>\n",
       "      <td>1.0</td>\n",
       "      <td>0.0</td>\n",
       "      <td>0.0</td>\n",
       "      <td>1.0</td>\n",
       "      <td>1.0</td>\n",
       "      <td>0.0</td>\n",
       "      <td>0.0</td>\n",
       "      <td>0.0</td>\n",
       "      <td>0.0</td>\n",
       "      <td>1.0</td>\n",
       "      <td>0.0</td>\n",
       "      <td>0.0</td>\n",
       "      <td>1.0</td>\n",
       "      <td>0.0</td>\n",
       "      <td>0.0</td>\n",
       "      <td>0.0</td>\n",
       "      <td>0.0</td>\n",
       "      <td>0.0</td>\n",
       "      <td>1.0</td>\n",
       "      <td>1.0</td>\n",
       "      <td>0.0</td>\n",
       "      <td>0.0</td>\n",
       "      <td>0.0</td>\n",
       "      <td>0.0</td>\n",
       "      <td>0.0</td>\n",
       "      <td>0.0</td>\n",
       "      <td>0.0</td>\n",
       "      <td>0.0</td>\n",
       "      <td>0.0</td>\n",
       "      <td>0.0</td>\n",
       "      <td>0.0</td>\n",
       "      <td>0.0</td>\n",
       "      <td>0.0</td>\n",
       "      <td>0.0</td>\n",
       "      <td>0.0</td>\n",
       "      <td>0.0</td>\n",
       "      <td>0.0</td>\n",
       "      <td>0.0</td>\n",
       "      <td>0.0</td>\n",
       "      <td>0.0</td>\n",
       "      <td>0.0</td>\n",
       "      <td>0.0</td>\n",
       "      <td>0.0</td>\n",
       "      <td>0.0</td>\n",
       "      <td>0.0</td>\n",
       "      <td>1.0</td>\n",
       "      <td>0.0</td>\n",
       "      <td>0.0</td>\n",
       "      <td>0.0</td>\n",
       "      <td>1.0</td>\n",
       "      <td>0.0</td>\n",
       "      <td>0.0</td>\n",
       "      <td>0.0</td>\n",
       "      <td>0.0</td>\n",
       "      <td>0.0</td>\n",
       "      <td>0.0</td>\n",
       "      <td>0.0</td>\n",
       "      <td>0.0</td>\n",
       "      <td>...</td>\n",
       "      <td>0.0</td>\n",
       "      <td>0.0</td>\n",
       "      <td>0.0</td>\n",
       "      <td>0.0</td>\n",
       "      <td>0.0</td>\n",
       "      <td>0.0</td>\n",
       "      <td>0.0</td>\n",
       "      <td>1.0</td>\n",
       "      <td>0.0</td>\n",
       "      <td>0.0</td>\n",
       "      <td>1.0</td>\n",
       "      <td>0.0</td>\n",
       "      <td>0.0</td>\n",
       "      <td>0.0</td>\n",
       "      <td>0.0</td>\n",
       "      <td>1.0</td>\n",
       "      <td>0.0</td>\n",
       "      <td>0.0</td>\n",
       "      <td>0.0</td>\n",
       "      <td>0.0</td>\n",
       "      <td>0.0</td>\n",
       "      <td>1.0</td>\n",
       "      <td>0.0</td>\n",
       "      <td>0.0</td>\n",
       "      <td>0.0</td>\n",
       "      <td>0.0</td>\n",
       "      <td>1.0</td>\n",
       "      <td>0.0</td>\n",
       "      <td>1.0</td>\n",
       "      <td>0.0</td>\n",
       "      <td>0.0</td>\n",
       "      <td>0.0</td>\n",
       "      <td>0.0</td>\n",
       "      <td>0.0</td>\n",
       "      <td>0.0</td>\n",
       "      <td>0.0</td>\n",
       "      <td>0.0</td>\n",
       "      <td>0.0</td>\n",
       "      <td>1.0</td>\n",
       "      <td>1.0</td>\n",
       "      <td>0.0</td>\n",
       "      <td>0.0</td>\n",
       "      <td>0.0</td>\n",
       "      <td>0.0</td>\n",
       "      <td>0.0</td>\n",
       "      <td>0.0</td>\n",
       "      <td>1.0</td>\n",
       "      <td>0.0</td>\n",
       "      <td>0.0</td>\n",
       "      <td>0.0</td>\n",
       "      <td>0.0</td>\n",
       "      <td>0.0</td>\n",
       "      <td>1.0</td>\n",
       "      <td>0.0</td>\n",
       "      <td>0.0</td>\n",
       "      <td>0.0</td>\n",
       "      <td>0.0</td>\n",
       "      <td>0.0</td>\n",
       "      <td>0.0</td>\n",
       "      <td>0.0</td>\n",
       "      <td>1.0</td>\n",
       "      <td>0.0</td>\n",
       "      <td>0.0</td>\n",
       "      <td>0.0</td>\n",
       "      <td>0.0</td>\n",
       "      <td>0.0</td>\n",
       "      <td>1.0</td>\n",
       "      <td>0.0</td>\n",
       "      <td>0.0</td>\n",
       "      <td>0.0</td>\n",
       "      <td>1.0</td>\n",
       "      <td>0.0</td>\n",
       "      <td>0.0</td>\n",
       "      <td>0.0</td>\n",
       "      <td>1.0</td>\n",
       "      <td>0.0</td>\n",
       "      <td>0.0</td>\n",
       "      <td>0.0</td>\n",
       "      <td>0.0</td>\n",
       "      <td>1.0</td>\n",
       "      <td>0.0</td>\n",
       "      <td>0.0</td>\n",
       "      <td>0.0</td>\n",
       "      <td>0.0</td>\n",
       "      <td>1.0</td>\n",
       "      <td>0.0</td>\n",
       "      <td>0.0</td>\n",
       "      <td>0.0</td>\n",
       "      <td>0.0</td>\n",
       "      <td>0.0</td>\n",
       "      <td>0.0</td>\n",
       "      <td>0.0</td>\n",
       "      <td>0.0</td>\n",
       "      <td>1.0</td>\n",
       "      <td>0.0</td>\n",
       "      <td>0.0</td>\n",
       "      <td>0.0</td>\n",
       "      <td>0.0</td>\n",
       "      <td>1.0</td>\n",
       "      <td>0.0</td>\n",
       "    </tr>\n",
       "    <tr>\n",
       "      <th>...</th>\n",
       "      <td>...</td>\n",
       "      <td>...</td>\n",
       "      <td>...</td>\n",
       "      <td>...</td>\n",
       "      <td>...</td>\n",
       "      <td>...</td>\n",
       "      <td>...</td>\n",
       "      <td>...</td>\n",
       "      <td>...</td>\n",
       "      <td>...</td>\n",
       "      <td>...</td>\n",
       "      <td>...</td>\n",
       "      <td>...</td>\n",
       "      <td>...</td>\n",
       "      <td>...</td>\n",
       "      <td>...</td>\n",
       "      <td>...</td>\n",
       "      <td>...</td>\n",
       "      <td>...</td>\n",
       "      <td>...</td>\n",
       "      <td>...</td>\n",
       "      <td>...</td>\n",
       "      <td>...</td>\n",
       "      <td>...</td>\n",
       "      <td>...</td>\n",
       "      <td>...</td>\n",
       "      <td>...</td>\n",
       "      <td>...</td>\n",
       "      <td>...</td>\n",
       "      <td>...</td>\n",
       "      <td>...</td>\n",
       "      <td>...</td>\n",
       "      <td>...</td>\n",
       "      <td>...</td>\n",
       "      <td>...</td>\n",
       "      <td>...</td>\n",
       "      <td>...</td>\n",
       "      <td>...</td>\n",
       "      <td>...</td>\n",
       "      <td>...</td>\n",
       "      <td>...</td>\n",
       "      <td>...</td>\n",
       "      <td>...</td>\n",
       "      <td>...</td>\n",
       "      <td>...</td>\n",
       "      <td>...</td>\n",
       "      <td>...</td>\n",
       "      <td>...</td>\n",
       "      <td>...</td>\n",
       "      <td>...</td>\n",
       "      <td>...</td>\n",
       "      <td>...</td>\n",
       "      <td>...</td>\n",
       "      <td>...</td>\n",
       "      <td>...</td>\n",
       "      <td>...</td>\n",
       "      <td>...</td>\n",
       "      <td>...</td>\n",
       "      <td>...</td>\n",
       "      <td>...</td>\n",
       "      <td>...</td>\n",
       "      <td>...</td>\n",
       "      <td>...</td>\n",
       "      <td>...</td>\n",
       "      <td>...</td>\n",
       "      <td>...</td>\n",
       "      <td>...</td>\n",
       "      <td>...</td>\n",
       "      <td>...</td>\n",
       "      <td>...</td>\n",
       "      <td>...</td>\n",
       "      <td>...</td>\n",
       "      <td>...</td>\n",
       "      <td>...</td>\n",
       "      <td>...</td>\n",
       "      <td>...</td>\n",
       "      <td>...</td>\n",
       "      <td>...</td>\n",
       "      <td>...</td>\n",
       "      <td>...</td>\n",
       "      <td>...</td>\n",
       "      <td>...</td>\n",
       "      <td>...</td>\n",
       "      <td>...</td>\n",
       "      <td>...</td>\n",
       "      <td>...</td>\n",
       "      <td>...</td>\n",
       "      <td>...</td>\n",
       "      <td>...</td>\n",
       "      <td>...</td>\n",
       "      <td>...</td>\n",
       "      <td>...</td>\n",
       "      <td>...</td>\n",
       "      <td>...</td>\n",
       "      <td>...</td>\n",
       "      <td>...</td>\n",
       "      <td>...</td>\n",
       "      <td>...</td>\n",
       "      <td>...</td>\n",
       "      <td>...</td>\n",
       "      <td>...</td>\n",
       "      <td>...</td>\n",
       "      <td>...</td>\n",
       "      <td>...</td>\n",
       "      <td>...</td>\n",
       "      <td>...</td>\n",
       "      <td>...</td>\n",
       "      <td>...</td>\n",
       "      <td>...</td>\n",
       "      <td>...</td>\n",
       "      <td>...</td>\n",
       "      <td>...</td>\n",
       "      <td>...</td>\n",
       "      <td>...</td>\n",
       "      <td>...</td>\n",
       "      <td>...</td>\n",
       "      <td>...</td>\n",
       "      <td>...</td>\n",
       "      <td>...</td>\n",
       "      <td>...</td>\n",
       "      <td>...</td>\n",
       "      <td>...</td>\n",
       "      <td>...</td>\n",
       "      <td>...</td>\n",
       "      <td>...</td>\n",
       "      <td>...</td>\n",
       "      <td>...</td>\n",
       "      <td>...</td>\n",
       "      <td>...</td>\n",
       "      <td>...</td>\n",
       "      <td>...</td>\n",
       "      <td>...</td>\n",
       "      <td>...</td>\n",
       "      <td>...</td>\n",
       "      <td>...</td>\n",
       "      <td>...</td>\n",
       "      <td>...</td>\n",
       "      <td>...</td>\n",
       "      <td>...</td>\n",
       "      <td>...</td>\n",
       "      <td>...</td>\n",
       "      <td>...</td>\n",
       "      <td>...</td>\n",
       "      <td>...</td>\n",
       "      <td>...</td>\n",
       "      <td>...</td>\n",
       "      <td>...</td>\n",
       "      <td>...</td>\n",
       "      <td>...</td>\n",
       "      <td>...</td>\n",
       "      <td>...</td>\n",
       "      <td>...</td>\n",
       "      <td>...</td>\n",
       "      <td>...</td>\n",
       "      <td>...</td>\n",
       "      <td>...</td>\n",
       "      <td>...</td>\n",
       "      <td>...</td>\n",
       "      <td>...</td>\n",
       "      <td>...</td>\n",
       "      <td>...</td>\n",
       "      <td>...</td>\n",
       "      <td>...</td>\n",
       "      <td>...</td>\n",
       "      <td>...</td>\n",
       "      <td>...</td>\n",
       "      <td>...</td>\n",
       "      <td>...</td>\n",
       "      <td>...</td>\n",
       "      <td>...</td>\n",
       "      <td>...</td>\n",
       "      <td>...</td>\n",
       "      <td>...</td>\n",
       "      <td>...</td>\n",
       "      <td>...</td>\n",
       "      <td>...</td>\n",
       "      <td>...</td>\n",
       "      <td>...</td>\n",
       "      <td>...</td>\n",
       "      <td>...</td>\n",
       "      <td>...</td>\n",
       "      <td>...</td>\n",
       "      <td>...</td>\n",
       "      <td>...</td>\n",
       "      <td>...</td>\n",
       "      <td>...</td>\n",
       "      <td>...</td>\n",
       "      <td>...</td>\n",
       "      <td>...</td>\n",
       "      <td>...</td>\n",
       "      <td>...</td>\n",
       "      <td>...</td>\n",
       "      <td>...</td>\n",
       "      <td>...</td>\n",
       "      <td>...</td>\n",
       "      <td>...</td>\n",
       "      <td>...</td>\n",
       "      <td>...</td>\n",
       "      <td>...</td>\n",
       "      <td>...</td>\n",
       "      <td>...</td>\n",
       "    </tr>\n",
       "    <tr>\n",
       "      <th>988</th>\n",
       "      <td>0.235294</td>\n",
       "      <td>0.167979</td>\n",
       "      <td>0.050228</td>\n",
       "      <td>0.555556</td>\n",
       "      <td>0.625</td>\n",
       "      <td>0.753623</td>\n",
       "      <td>0.433333</td>\n",
       "      <td>0.186250</td>\n",
       "      <td>0.027640</td>\n",
       "      <td>0.000000</td>\n",
       "      <td>0.296233</td>\n",
       "      <td>0.138789</td>\n",
       "      <td>0.179899</td>\n",
       "      <td>0.441646</td>\n",
       "      <td>0.0</td>\n",
       "      <td>0.319518</td>\n",
       "      <td>0.000000</td>\n",
       "      <td>0.0</td>\n",
       "      <td>0.666667</td>\n",
       "      <td>0.5</td>\n",
       "      <td>0.500</td>\n",
       "      <td>0.333333</td>\n",
       "      <td>0.500000</td>\n",
       "      <td>0.333333</td>\n",
       "      <td>0.690909</td>\n",
       "      <td>0.50</td>\n",
       "      <td>0.388575</td>\n",
       "      <td>0.000000</td>\n",
       "      <td>0.409506</td>\n",
       "      <td>0.000000</td>\n",
       "      <td>0.0</td>\n",
       "      <td>0.0</td>\n",
       "      <td>0.0</td>\n",
       "      <td>0.0</td>\n",
       "      <td>0.454545</td>\n",
       "      <td>0.25</td>\n",
       "      <td>0.0</td>\n",
       "      <td>0.0</td>\n",
       "      <td>0.0</td>\n",
       "      <td>1.0</td>\n",
       "      <td>0.0</td>\n",
       "      <td>0.0</td>\n",
       "      <td>1.0</td>\n",
       "      <td>0.0</td>\n",
       "      <td>0.0</td>\n",
       "      <td>1.0</td>\n",
       "      <td>1.0</td>\n",
       "      <td>0.0</td>\n",
       "      <td>0.0</td>\n",
       "      <td>0.0</td>\n",
       "      <td>0.0</td>\n",
       "      <td>0.0</td>\n",
       "      <td>0.0</td>\n",
       "      <td>1.0</td>\n",
       "      <td>1.0</td>\n",
       "      <td>0.0</td>\n",
       "      <td>0.0</td>\n",
       "      <td>0.0</td>\n",
       "      <td>0.0</td>\n",
       "      <td>0.0</td>\n",
       "      <td>1.0</td>\n",
       "      <td>1.0</td>\n",
       "      <td>0.0</td>\n",
       "      <td>0.0</td>\n",
       "      <td>0.0</td>\n",
       "      <td>0.0</td>\n",
       "      <td>0.0</td>\n",
       "      <td>0.0</td>\n",
       "      <td>0.0</td>\n",
       "      <td>0.0</td>\n",
       "      <td>0.0</td>\n",
       "      <td>0.0</td>\n",
       "      <td>0.0</td>\n",
       "      <td>0.0</td>\n",
       "      <td>0.0</td>\n",
       "      <td>0.0</td>\n",
       "      <td>0.0</td>\n",
       "      <td>0.0</td>\n",
       "      <td>1.0</td>\n",
       "      <td>0.0</td>\n",
       "      <td>0.0</td>\n",
       "      <td>0.0</td>\n",
       "      <td>0.0</td>\n",
       "      <td>0.0</td>\n",
       "      <td>0.0</td>\n",
       "      <td>0.0</td>\n",
       "      <td>0.0</td>\n",
       "      <td>0.0</td>\n",
       "      <td>0.0</td>\n",
       "      <td>0.0</td>\n",
       "      <td>0.0</td>\n",
       "      <td>1.0</td>\n",
       "      <td>0.0</td>\n",
       "      <td>0.0</td>\n",
       "      <td>0.0</td>\n",
       "      <td>0.0</td>\n",
       "      <td>0.0</td>\n",
       "      <td>0.0</td>\n",
       "      <td>0.0</td>\n",
       "      <td>0.0</td>\n",
       "      <td>...</td>\n",
       "      <td>0.0</td>\n",
       "      <td>0.0</td>\n",
       "      <td>0.0</td>\n",
       "      <td>0.0</td>\n",
       "      <td>0.0</td>\n",
       "      <td>0.0</td>\n",
       "      <td>0.0</td>\n",
       "      <td>1.0</td>\n",
       "      <td>0.0</td>\n",
       "      <td>0.0</td>\n",
       "      <td>1.0</td>\n",
       "      <td>0.0</td>\n",
       "      <td>0.0</td>\n",
       "      <td>0.0</td>\n",
       "      <td>0.0</td>\n",
       "      <td>0.0</td>\n",
       "      <td>0.0</td>\n",
       "      <td>0.0</td>\n",
       "      <td>0.0</td>\n",
       "      <td>1.0</td>\n",
       "      <td>0.0</td>\n",
       "      <td>1.0</td>\n",
       "      <td>0.0</td>\n",
       "      <td>0.0</td>\n",
       "      <td>0.0</td>\n",
       "      <td>0.0</td>\n",
       "      <td>1.0</td>\n",
       "      <td>0.0</td>\n",
       "      <td>0.0</td>\n",
       "      <td>0.0</td>\n",
       "      <td>1.0</td>\n",
       "      <td>0.0</td>\n",
       "      <td>0.0</td>\n",
       "      <td>0.0</td>\n",
       "      <td>0.0</td>\n",
       "      <td>0.0</td>\n",
       "      <td>0.0</td>\n",
       "      <td>0.0</td>\n",
       "      <td>1.0</td>\n",
       "      <td>0.0</td>\n",
       "      <td>0.0</td>\n",
       "      <td>0.0</td>\n",
       "      <td>0.0</td>\n",
       "      <td>1.0</td>\n",
       "      <td>0.0</td>\n",
       "      <td>0.0</td>\n",
       "      <td>1.0</td>\n",
       "      <td>0.0</td>\n",
       "      <td>0.0</td>\n",
       "      <td>0.0</td>\n",
       "      <td>0.0</td>\n",
       "      <td>0.0</td>\n",
       "      <td>1.0</td>\n",
       "      <td>0.0</td>\n",
       "      <td>0.0</td>\n",
       "      <td>0.0</td>\n",
       "      <td>0.0</td>\n",
       "      <td>0.0</td>\n",
       "      <td>0.0</td>\n",
       "      <td>0.0</td>\n",
       "      <td>1.0</td>\n",
       "      <td>0.0</td>\n",
       "      <td>0.0</td>\n",
       "      <td>0.0</td>\n",
       "      <td>0.0</td>\n",
       "      <td>0.0</td>\n",
       "      <td>1.0</td>\n",
       "      <td>0.0</td>\n",
       "      <td>0.0</td>\n",
       "      <td>0.0</td>\n",
       "      <td>1.0</td>\n",
       "      <td>0.0</td>\n",
       "      <td>0.0</td>\n",
       "      <td>0.0</td>\n",
       "      <td>1.0</td>\n",
       "      <td>0.0</td>\n",
       "      <td>0.0</td>\n",
       "      <td>0.0</td>\n",
       "      <td>0.0</td>\n",
       "      <td>1.0</td>\n",
       "      <td>0.0</td>\n",
       "      <td>0.0</td>\n",
       "      <td>0.0</td>\n",
       "      <td>0.0</td>\n",
       "      <td>1.0</td>\n",
       "      <td>0.0</td>\n",
       "      <td>0.0</td>\n",
       "      <td>0.0</td>\n",
       "      <td>0.0</td>\n",
       "      <td>0.0</td>\n",
       "      <td>0.0</td>\n",
       "      <td>0.0</td>\n",
       "      <td>0.0</td>\n",
       "      <td>1.0</td>\n",
       "      <td>0.0</td>\n",
       "      <td>0.0</td>\n",
       "      <td>0.0</td>\n",
       "      <td>0.0</td>\n",
       "      <td>1.0</td>\n",
       "      <td>0.0</td>\n",
       "    </tr>\n",
       "    <tr>\n",
       "      <th>243</th>\n",
       "      <td>0.823529</td>\n",
       "      <td>0.184932</td>\n",
       "      <td>0.044226</td>\n",
       "      <td>0.555556</td>\n",
       "      <td>0.625</td>\n",
       "      <td>0.782609</td>\n",
       "      <td>0.500000</td>\n",
       "      <td>0.000000</td>\n",
       "      <td>0.000000</td>\n",
       "      <td>0.000000</td>\n",
       "      <td>0.267979</td>\n",
       "      <td>0.102455</td>\n",
       "      <td>0.067003</td>\n",
       "      <td>0.286199</td>\n",
       "      <td>0.0</td>\n",
       "      <td>0.166353</td>\n",
       "      <td>0.000000</td>\n",
       "      <td>0.0</td>\n",
       "      <td>0.333333</td>\n",
       "      <td>0.5</td>\n",
       "      <td>0.375</td>\n",
       "      <td>0.333333</td>\n",
       "      <td>0.333333</td>\n",
       "      <td>0.333333</td>\n",
       "      <td>0.727273</td>\n",
       "      <td>0.25</td>\n",
       "      <td>0.203103</td>\n",
       "      <td>0.000000</td>\n",
       "      <td>0.051188</td>\n",
       "      <td>0.000000</td>\n",
       "      <td>0.0</td>\n",
       "      <td>0.0</td>\n",
       "      <td>0.0</td>\n",
       "      <td>0.0</td>\n",
       "      <td>0.272727</td>\n",
       "      <td>0.75</td>\n",
       "      <td>0.0</td>\n",
       "      <td>0.0</td>\n",
       "      <td>0.0</td>\n",
       "      <td>1.0</td>\n",
       "      <td>0.0</td>\n",
       "      <td>0.0</td>\n",
       "      <td>1.0</td>\n",
       "      <td>0.0</td>\n",
       "      <td>0.0</td>\n",
       "      <td>1.0</td>\n",
       "      <td>0.0</td>\n",
       "      <td>0.0</td>\n",
       "      <td>0.0</td>\n",
       "      <td>1.0</td>\n",
       "      <td>0.0</td>\n",
       "      <td>0.0</td>\n",
       "      <td>0.0</td>\n",
       "      <td>1.0</td>\n",
       "      <td>1.0</td>\n",
       "      <td>0.0</td>\n",
       "      <td>1.0</td>\n",
       "      <td>0.0</td>\n",
       "      <td>0.0</td>\n",
       "      <td>0.0</td>\n",
       "      <td>0.0</td>\n",
       "      <td>1.0</td>\n",
       "      <td>0.0</td>\n",
       "      <td>0.0</td>\n",
       "      <td>0.0</td>\n",
       "      <td>0.0</td>\n",
       "      <td>0.0</td>\n",
       "      <td>0.0</td>\n",
       "      <td>0.0</td>\n",
       "      <td>0.0</td>\n",
       "      <td>0.0</td>\n",
       "      <td>0.0</td>\n",
       "      <td>0.0</td>\n",
       "      <td>0.0</td>\n",
       "      <td>0.0</td>\n",
       "      <td>0.0</td>\n",
       "      <td>0.0</td>\n",
       "      <td>0.0</td>\n",
       "      <td>0.0</td>\n",
       "      <td>0.0</td>\n",
       "      <td>0.0</td>\n",
       "      <td>0.0</td>\n",
       "      <td>0.0</td>\n",
       "      <td>0.0</td>\n",
       "      <td>1.0</td>\n",
       "      <td>0.0</td>\n",
       "      <td>0.0</td>\n",
       "      <td>0.0</td>\n",
       "      <td>0.0</td>\n",
       "      <td>0.0</td>\n",
       "      <td>0.0</td>\n",
       "      <td>1.0</td>\n",
       "      <td>0.0</td>\n",
       "      <td>0.0</td>\n",
       "      <td>0.0</td>\n",
       "      <td>0.0</td>\n",
       "      <td>0.0</td>\n",
       "      <td>0.0</td>\n",
       "      <td>0.0</td>\n",
       "      <td>0.0</td>\n",
       "      <td>...</td>\n",
       "      <td>1.0</td>\n",
       "      <td>0.0</td>\n",
       "      <td>0.0</td>\n",
       "      <td>0.0</td>\n",
       "      <td>0.0</td>\n",
       "      <td>0.0</td>\n",
       "      <td>0.0</td>\n",
       "      <td>1.0</td>\n",
       "      <td>0.0</td>\n",
       "      <td>0.0</td>\n",
       "      <td>1.0</td>\n",
       "      <td>0.0</td>\n",
       "      <td>0.0</td>\n",
       "      <td>0.0</td>\n",
       "      <td>0.0</td>\n",
       "      <td>0.0</td>\n",
       "      <td>0.0</td>\n",
       "      <td>0.0</td>\n",
       "      <td>0.0</td>\n",
       "      <td>1.0</td>\n",
       "      <td>0.0</td>\n",
       "      <td>1.0</td>\n",
       "      <td>0.0</td>\n",
       "      <td>0.0</td>\n",
       "      <td>0.0</td>\n",
       "      <td>0.0</td>\n",
       "      <td>1.0</td>\n",
       "      <td>0.0</td>\n",
       "      <td>0.0</td>\n",
       "      <td>0.0</td>\n",
       "      <td>0.0</td>\n",
       "      <td>1.0</td>\n",
       "      <td>0.0</td>\n",
       "      <td>0.0</td>\n",
       "      <td>0.0</td>\n",
       "      <td>0.0</td>\n",
       "      <td>0.0</td>\n",
       "      <td>0.0</td>\n",
       "      <td>1.0</td>\n",
       "      <td>0.0</td>\n",
       "      <td>0.0</td>\n",
       "      <td>0.0</td>\n",
       "      <td>0.0</td>\n",
       "      <td>1.0</td>\n",
       "      <td>0.0</td>\n",
       "      <td>0.0</td>\n",
       "      <td>1.0</td>\n",
       "      <td>0.0</td>\n",
       "      <td>0.0</td>\n",
       "      <td>0.0</td>\n",
       "      <td>0.0</td>\n",
       "      <td>0.0</td>\n",
       "      <td>0.0</td>\n",
       "      <td>1.0</td>\n",
       "      <td>0.0</td>\n",
       "      <td>0.0</td>\n",
       "      <td>0.0</td>\n",
       "      <td>0.0</td>\n",
       "      <td>0.0</td>\n",
       "      <td>0.0</td>\n",
       "      <td>1.0</td>\n",
       "      <td>0.0</td>\n",
       "      <td>0.0</td>\n",
       "      <td>0.0</td>\n",
       "      <td>0.0</td>\n",
       "      <td>0.0</td>\n",
       "      <td>1.0</td>\n",
       "      <td>0.0</td>\n",
       "      <td>0.0</td>\n",
       "      <td>0.0</td>\n",
       "      <td>1.0</td>\n",
       "      <td>0.0</td>\n",
       "      <td>0.0</td>\n",
       "      <td>0.0</td>\n",
       "      <td>1.0</td>\n",
       "      <td>0.0</td>\n",
       "      <td>0.0</td>\n",
       "      <td>0.0</td>\n",
       "      <td>0.0</td>\n",
       "      <td>1.0</td>\n",
       "      <td>0.0</td>\n",
       "      <td>0.0</td>\n",
       "      <td>0.0</td>\n",
       "      <td>0.0</td>\n",
       "      <td>1.0</td>\n",
       "      <td>0.0</td>\n",
       "      <td>0.0</td>\n",
       "      <td>0.0</td>\n",
       "      <td>0.0</td>\n",
       "      <td>0.0</td>\n",
       "      <td>0.0</td>\n",
       "      <td>0.0</td>\n",
       "      <td>0.0</td>\n",
       "      <td>1.0</td>\n",
       "      <td>0.0</td>\n",
       "      <td>0.0</td>\n",
       "      <td>0.0</td>\n",
       "      <td>0.0</td>\n",
       "      <td>1.0</td>\n",
       "      <td>0.0</td>\n",
       "    </tr>\n",
       "    <tr>\n",
       "      <th>1342</th>\n",
       "      <td>0.235294</td>\n",
       "      <td>0.167979</td>\n",
       "      <td>0.037743</td>\n",
       "      <td>0.777778</td>\n",
       "      <td>0.500</td>\n",
       "      <td>0.942029</td>\n",
       "      <td>0.866667</td>\n",
       "      <td>0.093125</td>\n",
       "      <td>0.000000</td>\n",
       "      <td>0.000000</td>\n",
       "      <td>0.549658</td>\n",
       "      <td>0.210147</td>\n",
       "      <td>0.217990</td>\n",
       "      <td>0.428571</td>\n",
       "      <td>0.0</td>\n",
       "      <td>0.345705</td>\n",
       "      <td>0.000000</td>\n",
       "      <td>0.0</td>\n",
       "      <td>0.666667</td>\n",
       "      <td>0.5</td>\n",
       "      <td>0.375</td>\n",
       "      <td>0.333333</td>\n",
       "      <td>0.416667</td>\n",
       "      <td>0.333333</td>\n",
       "      <td>0.927273</td>\n",
       "      <td>0.50</td>\n",
       "      <td>0.456276</td>\n",
       "      <td>0.224037</td>\n",
       "      <td>0.159049</td>\n",
       "      <td>0.000000</td>\n",
       "      <td>0.0</td>\n",
       "      <td>0.0</td>\n",
       "      <td>0.0</td>\n",
       "      <td>0.0</td>\n",
       "      <td>0.636364</td>\n",
       "      <td>0.25</td>\n",
       "      <td>0.0</td>\n",
       "      <td>0.0</td>\n",
       "      <td>0.0</td>\n",
       "      <td>1.0</td>\n",
       "      <td>0.0</td>\n",
       "      <td>0.0</td>\n",
       "      <td>1.0</td>\n",
       "      <td>0.0</td>\n",
       "      <td>0.0</td>\n",
       "      <td>1.0</td>\n",
       "      <td>0.0</td>\n",
       "      <td>0.0</td>\n",
       "      <td>0.0</td>\n",
       "      <td>1.0</td>\n",
       "      <td>0.0</td>\n",
       "      <td>0.0</td>\n",
       "      <td>0.0</td>\n",
       "      <td>1.0</td>\n",
       "      <td>1.0</td>\n",
       "      <td>0.0</td>\n",
       "      <td>0.0</td>\n",
       "      <td>0.0</td>\n",
       "      <td>0.0</td>\n",
       "      <td>0.0</td>\n",
       "      <td>1.0</td>\n",
       "      <td>1.0</td>\n",
       "      <td>0.0</td>\n",
       "      <td>0.0</td>\n",
       "      <td>0.0</td>\n",
       "      <td>0.0</td>\n",
       "      <td>0.0</td>\n",
       "      <td>0.0</td>\n",
       "      <td>0.0</td>\n",
       "      <td>1.0</td>\n",
       "      <td>0.0</td>\n",
       "      <td>0.0</td>\n",
       "      <td>0.0</td>\n",
       "      <td>0.0</td>\n",
       "      <td>0.0</td>\n",
       "      <td>0.0</td>\n",
       "      <td>0.0</td>\n",
       "      <td>0.0</td>\n",
       "      <td>0.0</td>\n",
       "      <td>0.0</td>\n",
       "      <td>0.0</td>\n",
       "      <td>0.0</td>\n",
       "      <td>0.0</td>\n",
       "      <td>0.0</td>\n",
       "      <td>0.0</td>\n",
       "      <td>0.0</td>\n",
       "      <td>0.0</td>\n",
       "      <td>0.0</td>\n",
       "      <td>0.0</td>\n",
       "      <td>0.0</td>\n",
       "      <td>0.0</td>\n",
       "      <td>1.0</td>\n",
       "      <td>0.0</td>\n",
       "      <td>0.0</td>\n",
       "      <td>0.0</td>\n",
       "      <td>0.0</td>\n",
       "      <td>0.0</td>\n",
       "      <td>0.0</td>\n",
       "      <td>0.0</td>\n",
       "      <td>0.0</td>\n",
       "      <td>...</td>\n",
       "      <td>1.0</td>\n",
       "      <td>0.0</td>\n",
       "      <td>0.0</td>\n",
       "      <td>0.0</td>\n",
       "      <td>0.0</td>\n",
       "      <td>0.0</td>\n",
       "      <td>0.0</td>\n",
       "      <td>1.0</td>\n",
       "      <td>0.0</td>\n",
       "      <td>0.0</td>\n",
       "      <td>1.0</td>\n",
       "      <td>0.0</td>\n",
       "      <td>0.0</td>\n",
       "      <td>0.0</td>\n",
       "      <td>0.0</td>\n",
       "      <td>1.0</td>\n",
       "      <td>0.0</td>\n",
       "      <td>0.0</td>\n",
       "      <td>0.0</td>\n",
       "      <td>0.0</td>\n",
       "      <td>0.0</td>\n",
       "      <td>1.0</td>\n",
       "      <td>0.0</td>\n",
       "      <td>0.0</td>\n",
       "      <td>0.0</td>\n",
       "      <td>0.0</td>\n",
       "      <td>1.0</td>\n",
       "      <td>0.0</td>\n",
       "      <td>0.0</td>\n",
       "      <td>0.0</td>\n",
       "      <td>1.0</td>\n",
       "      <td>0.0</td>\n",
       "      <td>0.0</td>\n",
       "      <td>0.0</td>\n",
       "      <td>0.0</td>\n",
       "      <td>0.0</td>\n",
       "      <td>0.0</td>\n",
       "      <td>0.0</td>\n",
       "      <td>1.0</td>\n",
       "      <td>0.0</td>\n",
       "      <td>0.0</td>\n",
       "      <td>1.0</td>\n",
       "      <td>0.0</td>\n",
       "      <td>0.0</td>\n",
       "      <td>0.0</td>\n",
       "      <td>0.0</td>\n",
       "      <td>1.0</td>\n",
       "      <td>0.0</td>\n",
       "      <td>0.0</td>\n",
       "      <td>0.0</td>\n",
       "      <td>0.0</td>\n",
       "      <td>0.0</td>\n",
       "      <td>0.0</td>\n",
       "      <td>1.0</td>\n",
       "      <td>0.0</td>\n",
       "      <td>0.0</td>\n",
       "      <td>0.0</td>\n",
       "      <td>0.0</td>\n",
       "      <td>0.0</td>\n",
       "      <td>0.0</td>\n",
       "      <td>1.0</td>\n",
       "      <td>0.0</td>\n",
       "      <td>0.0</td>\n",
       "      <td>0.0</td>\n",
       "      <td>0.0</td>\n",
       "      <td>0.0</td>\n",
       "      <td>1.0</td>\n",
       "      <td>0.0</td>\n",
       "      <td>0.0</td>\n",
       "      <td>0.0</td>\n",
       "      <td>1.0</td>\n",
       "      <td>0.0</td>\n",
       "      <td>0.0</td>\n",
       "      <td>0.0</td>\n",
       "      <td>1.0</td>\n",
       "      <td>0.0</td>\n",
       "      <td>0.0</td>\n",
       "      <td>0.0</td>\n",
       "      <td>0.0</td>\n",
       "      <td>1.0</td>\n",
       "      <td>0.0</td>\n",
       "      <td>0.0</td>\n",
       "      <td>0.0</td>\n",
       "      <td>0.0</td>\n",
       "      <td>1.0</td>\n",
       "      <td>0.0</td>\n",
       "      <td>0.0</td>\n",
       "      <td>0.0</td>\n",
       "      <td>0.0</td>\n",
       "      <td>0.0</td>\n",
       "      <td>0.0</td>\n",
       "      <td>0.0</td>\n",
       "      <td>0.0</td>\n",
       "      <td>1.0</td>\n",
       "      <td>0.0</td>\n",
       "      <td>0.0</td>\n",
       "      <td>0.0</td>\n",
       "      <td>0.0</td>\n",
       "      <td>1.0</td>\n",
       "      <td>0.0</td>\n",
       "    </tr>\n",
       "    <tr>\n",
       "      <th>1057</th>\n",
       "      <td>0.235294</td>\n",
       "      <td>0.167979</td>\n",
       "      <td>0.133955</td>\n",
       "      <td>0.666667</td>\n",
       "      <td>0.625</td>\n",
       "      <td>0.884058</td>\n",
       "      <td>0.733333</td>\n",
       "      <td>0.000000</td>\n",
       "      <td>0.105422</td>\n",
       "      <td>0.000000</td>\n",
       "      <td>0.161815</td>\n",
       "      <td>0.159247</td>\n",
       "      <td>0.148004</td>\n",
       "      <td>0.421792</td>\n",
       "      <td>0.0</td>\n",
       "      <td>0.285607</td>\n",
       "      <td>0.000000</td>\n",
       "      <td>0.0</td>\n",
       "      <td>0.666667</td>\n",
       "      <td>0.5</td>\n",
       "      <td>0.375</td>\n",
       "      <td>0.333333</td>\n",
       "      <td>0.416667</td>\n",
       "      <td>0.333333</td>\n",
       "      <td>0.854545</td>\n",
       "      <td>0.50</td>\n",
       "      <td>0.329337</td>\n",
       "      <td>0.196033</td>\n",
       "      <td>0.179159</td>\n",
       "      <td>0.000000</td>\n",
       "      <td>0.0</td>\n",
       "      <td>0.0</td>\n",
       "      <td>0.0</td>\n",
       "      <td>0.0</td>\n",
       "      <td>0.000000</td>\n",
       "      <td>0.75</td>\n",
       "      <td>0.0</td>\n",
       "      <td>0.0</td>\n",
       "      <td>0.0</td>\n",
       "      <td>1.0</td>\n",
       "      <td>0.0</td>\n",
       "      <td>0.0</td>\n",
       "      <td>1.0</td>\n",
       "      <td>0.0</td>\n",
       "      <td>0.0</td>\n",
       "      <td>1.0</td>\n",
       "      <td>0.0</td>\n",
       "      <td>1.0</td>\n",
       "      <td>0.0</td>\n",
       "      <td>0.0</td>\n",
       "      <td>0.0</td>\n",
       "      <td>0.0</td>\n",
       "      <td>0.0</td>\n",
       "      <td>1.0</td>\n",
       "      <td>1.0</td>\n",
       "      <td>0.0</td>\n",
       "      <td>0.0</td>\n",
       "      <td>0.0</td>\n",
       "      <td>1.0</td>\n",
       "      <td>0.0</td>\n",
       "      <td>0.0</td>\n",
       "      <td>1.0</td>\n",
       "      <td>0.0</td>\n",
       "      <td>0.0</td>\n",
       "      <td>0.0</td>\n",
       "      <td>0.0</td>\n",
       "      <td>0.0</td>\n",
       "      <td>0.0</td>\n",
       "      <td>0.0</td>\n",
       "      <td>0.0</td>\n",
       "      <td>0.0</td>\n",
       "      <td>0.0</td>\n",
       "      <td>0.0</td>\n",
       "      <td>0.0</td>\n",
       "      <td>0.0</td>\n",
       "      <td>0.0</td>\n",
       "      <td>0.0</td>\n",
       "      <td>0.0</td>\n",
       "      <td>0.0</td>\n",
       "      <td>1.0</td>\n",
       "      <td>0.0</td>\n",
       "      <td>0.0</td>\n",
       "      <td>0.0</td>\n",
       "      <td>0.0</td>\n",
       "      <td>0.0</td>\n",
       "      <td>0.0</td>\n",
       "      <td>0.0</td>\n",
       "      <td>0.0</td>\n",
       "      <td>0.0</td>\n",
       "      <td>0.0</td>\n",
       "      <td>0.0</td>\n",
       "      <td>1.0</td>\n",
       "      <td>0.0</td>\n",
       "      <td>0.0</td>\n",
       "      <td>0.0</td>\n",
       "      <td>0.0</td>\n",
       "      <td>0.0</td>\n",
       "      <td>0.0</td>\n",
       "      <td>0.0</td>\n",
       "      <td>0.0</td>\n",
       "      <td>...</td>\n",
       "      <td>0.0</td>\n",
       "      <td>0.0</td>\n",
       "      <td>0.0</td>\n",
       "      <td>0.0</td>\n",
       "      <td>0.0</td>\n",
       "      <td>0.0</td>\n",
       "      <td>0.0</td>\n",
       "      <td>1.0</td>\n",
       "      <td>0.0</td>\n",
       "      <td>0.0</td>\n",
       "      <td>1.0</td>\n",
       "      <td>0.0</td>\n",
       "      <td>0.0</td>\n",
       "      <td>0.0</td>\n",
       "      <td>0.0</td>\n",
       "      <td>1.0</td>\n",
       "      <td>0.0</td>\n",
       "      <td>0.0</td>\n",
       "      <td>0.0</td>\n",
       "      <td>0.0</td>\n",
       "      <td>0.0</td>\n",
       "      <td>1.0</td>\n",
       "      <td>0.0</td>\n",
       "      <td>0.0</td>\n",
       "      <td>0.0</td>\n",
       "      <td>0.0</td>\n",
       "      <td>1.0</td>\n",
       "      <td>0.0</td>\n",
       "      <td>0.0</td>\n",
       "      <td>0.0</td>\n",
       "      <td>1.0</td>\n",
       "      <td>0.0</td>\n",
       "      <td>0.0</td>\n",
       "      <td>0.0</td>\n",
       "      <td>0.0</td>\n",
       "      <td>0.0</td>\n",
       "      <td>0.0</td>\n",
       "      <td>0.0</td>\n",
       "      <td>1.0</td>\n",
       "      <td>0.0</td>\n",
       "      <td>0.0</td>\n",
       "      <td>1.0</td>\n",
       "      <td>0.0</td>\n",
       "      <td>0.0</td>\n",
       "      <td>0.0</td>\n",
       "      <td>0.0</td>\n",
       "      <td>0.0</td>\n",
       "      <td>0.0</td>\n",
       "      <td>1.0</td>\n",
       "      <td>0.0</td>\n",
       "      <td>0.0</td>\n",
       "      <td>0.0</td>\n",
       "      <td>1.0</td>\n",
       "      <td>0.0</td>\n",
       "      <td>0.0</td>\n",
       "      <td>0.0</td>\n",
       "      <td>0.0</td>\n",
       "      <td>0.0</td>\n",
       "      <td>0.0</td>\n",
       "      <td>0.0</td>\n",
       "      <td>1.0</td>\n",
       "      <td>0.0</td>\n",
       "      <td>0.0</td>\n",
       "      <td>0.0</td>\n",
       "      <td>0.0</td>\n",
       "      <td>0.0</td>\n",
       "      <td>1.0</td>\n",
       "      <td>0.0</td>\n",
       "      <td>0.0</td>\n",
       "      <td>0.0</td>\n",
       "      <td>1.0</td>\n",
       "      <td>0.0</td>\n",
       "      <td>0.0</td>\n",
       "      <td>0.0</td>\n",
       "      <td>1.0</td>\n",
       "      <td>0.0</td>\n",
       "      <td>0.0</td>\n",
       "      <td>0.0</td>\n",
       "      <td>0.0</td>\n",
       "      <td>1.0</td>\n",
       "      <td>0.0</td>\n",
       "      <td>0.0</td>\n",
       "      <td>0.0</td>\n",
       "      <td>0.0</td>\n",
       "      <td>1.0</td>\n",
       "      <td>0.0</td>\n",
       "      <td>0.0</td>\n",
       "      <td>0.0</td>\n",
       "      <td>0.0</td>\n",
       "      <td>0.0</td>\n",
       "      <td>0.0</td>\n",
       "      <td>0.0</td>\n",
       "      <td>0.0</td>\n",
       "      <td>1.0</td>\n",
       "      <td>0.0</td>\n",
       "      <td>0.0</td>\n",
       "      <td>0.0</td>\n",
       "      <td>0.0</td>\n",
       "      <td>1.0</td>\n",
       "      <td>0.0</td>\n",
       "    </tr>\n",
       "    <tr>\n",
       "      <th>1418</th>\n",
       "      <td>0.000000</td>\n",
       "      <td>0.171233</td>\n",
       "      <td>0.036944</td>\n",
       "      <td>0.444444</td>\n",
       "      <td>0.500</td>\n",
       "      <td>0.659420</td>\n",
       "      <td>0.216667</td>\n",
       "      <td>0.000000</td>\n",
       "      <td>0.004429</td>\n",
       "      <td>0.591588</td>\n",
       "      <td>0.105736</td>\n",
       "      <td>0.187234</td>\n",
       "      <td>0.185865</td>\n",
       "      <td>0.000000</td>\n",
       "      <td>0.0</td>\n",
       "      <td>0.152600</td>\n",
       "      <td>0.333333</td>\n",
       "      <td>0.0</td>\n",
       "      <td>0.333333</td>\n",
       "      <td>0.5</td>\n",
       "      <td>0.375</td>\n",
       "      <td>0.333333</td>\n",
       "      <td>0.333333</td>\n",
       "      <td>0.000000</td>\n",
       "      <td>0.563636</td>\n",
       "      <td>0.25</td>\n",
       "      <td>0.236953</td>\n",
       "      <td>0.000000</td>\n",
       "      <td>0.160878</td>\n",
       "      <td>0.000000</td>\n",
       "      <td>0.0</td>\n",
       "      <td>0.0</td>\n",
       "      <td>0.0</td>\n",
       "      <td>0.0</td>\n",
       "      <td>0.636364</td>\n",
       "      <td>0.50</td>\n",
       "      <td>0.0</td>\n",
       "      <td>0.0</td>\n",
       "      <td>0.0</td>\n",
       "      <td>1.0</td>\n",
       "      <td>0.0</td>\n",
       "      <td>0.0</td>\n",
       "      <td>1.0</td>\n",
       "      <td>0.0</td>\n",
       "      <td>0.0</td>\n",
       "      <td>1.0</td>\n",
       "      <td>0.0</td>\n",
       "      <td>0.0</td>\n",
       "      <td>0.0</td>\n",
       "      <td>1.0</td>\n",
       "      <td>0.0</td>\n",
       "      <td>0.0</td>\n",
       "      <td>0.0</td>\n",
       "      <td>1.0</td>\n",
       "      <td>1.0</td>\n",
       "      <td>0.0</td>\n",
       "      <td>0.0</td>\n",
       "      <td>0.0</td>\n",
       "      <td>0.0</td>\n",
       "      <td>0.0</td>\n",
       "      <td>1.0</td>\n",
       "      <td>1.0</td>\n",
       "      <td>0.0</td>\n",
       "      <td>0.0</td>\n",
       "      <td>0.0</td>\n",
       "      <td>0.0</td>\n",
       "      <td>0.0</td>\n",
       "      <td>0.0</td>\n",
       "      <td>0.0</td>\n",
       "      <td>0.0</td>\n",
       "      <td>0.0</td>\n",
       "      <td>0.0</td>\n",
       "      <td>0.0</td>\n",
       "      <td>0.0</td>\n",
       "      <td>0.0</td>\n",
       "      <td>0.0</td>\n",
       "      <td>1.0</td>\n",
       "      <td>0.0</td>\n",
       "      <td>0.0</td>\n",
       "      <td>0.0</td>\n",
       "      <td>0.0</td>\n",
       "      <td>0.0</td>\n",
       "      <td>0.0</td>\n",
       "      <td>0.0</td>\n",
       "      <td>0.0</td>\n",
       "      <td>0.0</td>\n",
       "      <td>0.0</td>\n",
       "      <td>0.0</td>\n",
       "      <td>0.0</td>\n",
       "      <td>0.0</td>\n",
       "      <td>0.0</td>\n",
       "      <td>1.0</td>\n",
       "      <td>0.0</td>\n",
       "      <td>0.0</td>\n",
       "      <td>0.0</td>\n",
       "      <td>0.0</td>\n",
       "      <td>0.0</td>\n",
       "      <td>0.0</td>\n",
       "      <td>0.0</td>\n",
       "      <td>0.0</td>\n",
       "      <td>...</td>\n",
       "      <td>0.0</td>\n",
       "      <td>0.0</td>\n",
       "      <td>0.0</td>\n",
       "      <td>0.0</td>\n",
       "      <td>0.0</td>\n",
       "      <td>0.0</td>\n",
       "      <td>1.0</td>\n",
       "      <td>0.0</td>\n",
       "      <td>0.0</td>\n",
       "      <td>0.0</td>\n",
       "      <td>1.0</td>\n",
       "      <td>0.0</td>\n",
       "      <td>0.0</td>\n",
       "      <td>0.0</td>\n",
       "      <td>0.0</td>\n",
       "      <td>0.0</td>\n",
       "      <td>0.0</td>\n",
       "      <td>0.0</td>\n",
       "      <td>0.0</td>\n",
       "      <td>1.0</td>\n",
       "      <td>0.0</td>\n",
       "      <td>1.0</td>\n",
       "      <td>0.0</td>\n",
       "      <td>0.0</td>\n",
       "      <td>0.0</td>\n",
       "      <td>0.0</td>\n",
       "      <td>1.0</td>\n",
       "      <td>0.0</td>\n",
       "      <td>0.0</td>\n",
       "      <td>0.0</td>\n",
       "      <td>0.0</td>\n",
       "      <td>1.0</td>\n",
       "      <td>0.0</td>\n",
       "      <td>0.0</td>\n",
       "      <td>0.0</td>\n",
       "      <td>0.0</td>\n",
       "      <td>0.0</td>\n",
       "      <td>0.0</td>\n",
       "      <td>1.0</td>\n",
       "      <td>0.0</td>\n",
       "      <td>0.0</td>\n",
       "      <td>0.0</td>\n",
       "      <td>0.0</td>\n",
       "      <td>0.0</td>\n",
       "      <td>1.0</td>\n",
       "      <td>0.0</td>\n",
       "      <td>0.0</td>\n",
       "      <td>0.0</td>\n",
       "      <td>0.0</td>\n",
       "      <td>0.0</td>\n",
       "      <td>1.0</td>\n",
       "      <td>0.0</td>\n",
       "      <td>0.0</td>\n",
       "      <td>0.0</td>\n",
       "      <td>1.0</td>\n",
       "      <td>0.0</td>\n",
       "      <td>0.0</td>\n",
       "      <td>0.0</td>\n",
       "      <td>0.0</td>\n",
       "      <td>0.0</td>\n",
       "      <td>1.0</td>\n",
       "      <td>0.0</td>\n",
       "      <td>0.0</td>\n",
       "      <td>0.0</td>\n",
       "      <td>0.0</td>\n",
       "      <td>0.0</td>\n",
       "      <td>1.0</td>\n",
       "      <td>0.0</td>\n",
       "      <td>0.0</td>\n",
       "      <td>0.0</td>\n",
       "      <td>1.0</td>\n",
       "      <td>0.0</td>\n",
       "      <td>0.0</td>\n",
       "      <td>0.0</td>\n",
       "      <td>1.0</td>\n",
       "      <td>0.0</td>\n",
       "      <td>0.0</td>\n",
       "      <td>0.0</td>\n",
       "      <td>0.0</td>\n",
       "      <td>1.0</td>\n",
       "      <td>0.0</td>\n",
       "      <td>0.0</td>\n",
       "      <td>0.0</td>\n",
       "      <td>0.0</td>\n",
       "      <td>1.0</td>\n",
       "      <td>1.0</td>\n",
       "      <td>0.0</td>\n",
       "      <td>0.0</td>\n",
       "      <td>0.0</td>\n",
       "      <td>0.0</td>\n",
       "      <td>0.0</td>\n",
       "      <td>0.0</td>\n",
       "      <td>0.0</td>\n",
       "      <td>0.0</td>\n",
       "      <td>0.0</td>\n",
       "      <td>0.0</td>\n",
       "      <td>0.0</td>\n",
       "      <td>0.0</td>\n",
       "      <td>1.0</td>\n",
       "      <td>0.0</td>\n",
       "    </tr>\n",
       "  </tbody>\n",
       "</table>\n",
       "<p>365 rows × 304 columns</p>\n",
       "</div>"
      ],
      "text/plain": [
       "      MSSubClass  LotFrontage   LotArea  OverallQual  OverallCond  YearBuilt  \\\n",
       "892     0.000000     0.167808  0.033252     0.555556        0.875   0.659420   \n",
       "1105    0.235294     0.263699  0.051209     0.777778        0.500   0.884058   \n",
       "413     0.058824     0.119863  0.035804     0.444444        0.625   0.398551   \n",
       "522     0.176471     0.099315  0.017294     0.555556        0.750   0.543478   \n",
       "1036    0.000000     0.232877  0.054210     0.888889        0.500   0.978261   \n",
       "...          ...          ...       ...          ...          ...        ...   \n",
       "988     0.235294     0.167979  0.050228     0.555556        0.625   0.753623   \n",
       "243     0.823529     0.184932  0.044226     0.555556        0.625   0.782609   \n",
       "1342    0.235294     0.167979  0.037743     0.777778        0.500   0.942029   \n",
       "1057    0.235294     0.167979  0.133955     0.666667        0.625   0.884058   \n",
       "1418    0.000000     0.171233  0.036944     0.444444        0.500   0.659420   \n",
       "\n",
       "      YearRemodAdd  MasVnrArea  BsmtFinSF1  BsmtFinSF2  BsmtUnfSF  \\\n",
       "892       0.883333    0.000000    0.117470    0.000000   0.169521   \n",
       "1105      0.750000    0.226250    0.182849    0.000000   0.184503   \n",
       "413       0.000000    0.000000    0.000000    0.000000   0.431507   \n",
       "522       0.000000    0.000000    0.070695    0.000000   0.258990   \n",
       "1036      0.966667    0.043750    0.181077    0.000000   0.255993   \n",
       "...            ...         ...         ...         ...        ...   \n",
       "988       0.433333    0.186250    0.027640    0.000000   0.296233   \n",
       "243       0.500000    0.000000    0.000000    0.000000   0.267979   \n",
       "1342      0.866667    0.093125    0.000000    0.000000   0.549658   \n",
       "1057      0.733333    0.000000    0.105422    0.000000   0.161815   \n",
       "1418      0.216667    0.000000    0.004429    0.591588   0.105736   \n",
       "\n",
       "      TotalBsmtSF  1stFlrSF  2ndFlrSF  LowQualFinSF  GrLivArea  BsmtFullBath  \\\n",
       "892      0.173322  0.168426  0.000000           0.0   0.138282      0.000000   \n",
       "1105     0.239444  0.267554  0.543341           0.0   0.431047      0.333333   \n",
       "413      0.164975  0.159247  0.000000           0.0   0.130746      0.000000   \n",
       "522      0.164321  0.153740  0.319613           0.0   0.250565      0.000000   \n",
       "1036     0.265139  0.295089  0.000000           0.0   0.242276      0.333333   \n",
       "...           ...       ...       ...           ...        ...           ...   \n",
       "988      0.138789  0.179899  0.441646           0.0   0.319518      0.000000   \n",
       "243      0.102455  0.067003  0.286199           0.0   0.166353      0.000000   \n",
       "1342     0.210147  0.217990  0.428571           0.0   0.345705      0.000000   \n",
       "1057     0.159247  0.148004  0.421792           0.0   0.285607      0.000000   \n",
       "1418     0.187234  0.185865  0.000000           0.0   0.152600      0.333333   \n",
       "\n",
       "      BsmtHalfBath  FullBath  HalfBath  BedroomAbvGr  KitchenAbvGr  \\\n",
       "892            0.5  0.333333       0.0         0.375      0.333333   \n",
       "1105           0.0  0.666667       0.5         0.375      0.333333   \n",
       "413            0.0  0.333333       0.0         0.250      0.333333   \n",
       "522            0.0  0.666667       0.0         0.375      0.333333   \n",
       "1036           0.0  0.666667       0.0         0.250      0.333333   \n",
       "...            ...       ...       ...           ...           ...   \n",
       "988            0.0  0.666667       0.5         0.500      0.333333   \n",
       "243            0.0  0.333333       0.5         0.375      0.333333   \n",
       "1342           0.0  0.666667       0.5         0.375      0.333333   \n",
       "1057           0.0  0.666667       0.5         0.375      0.333333   \n",
       "1418           0.0  0.333333       0.5         0.375      0.333333   \n",
       "\n",
       "      TotRmsAbvGrd  Fireplaces  GarageYrBlt  GarageCars  GarageArea  \\\n",
       "892       0.333333    0.000000     0.572727        0.25    0.186178   \n",
       "1105      0.583333    0.666667     0.854545        0.50    0.502116   \n",
       "413       0.250000    0.333333     0.245455        0.50    0.253879   \n",
       "522       0.416667    0.666667     0.454545        0.50    0.296192   \n",
       "1036      0.333333    0.333333     0.981818        0.75    0.643159   \n",
       "...            ...         ...          ...         ...         ...   \n",
       "988       0.500000    0.333333     0.690909        0.50    0.388575   \n",
       "243       0.333333    0.333333     0.727273        0.25    0.203103   \n",
       "1342      0.416667    0.333333     0.927273        0.50    0.456276   \n",
       "1057      0.416667    0.333333     0.854545        0.50    0.329337   \n",
       "1418      0.333333    0.000000     0.563636        0.25    0.236953   \n",
       "\n",
       "      WoodDeckSF  OpenPorchSF  EnclosedPorch  3SsnPorch  ScreenPorch  \\\n",
       "892     0.224037     0.000000       0.000000        0.0          0.0   \n",
       "1105    0.217036     0.058501       0.000000        0.0          0.0   \n",
       "413     0.000000     0.000000       0.235507        0.0          0.0   \n",
       "522     0.000000     0.043876       0.065217        0.0          0.0   \n",
       "1036    0.266044     0.000000       0.000000        0.0          0.0   \n",
       "...          ...          ...            ...        ...          ...   \n",
       "988     0.000000     0.409506       0.000000        0.0          0.0   \n",
       "243     0.000000     0.051188       0.000000        0.0          0.0   \n",
       "1342    0.224037     0.159049       0.000000        0.0          0.0   \n",
       "1057    0.196033     0.179159       0.000000        0.0          0.0   \n",
       "1418    0.000000     0.160878       0.000000        0.0          0.0   \n",
       "\n",
       "      PoolArea  MiscVal    MoSold  YrSold  MSZoning_C (all)  MSZoning_FV  \\\n",
       "892        0.0      0.0  0.090909    0.00               0.0          0.0   \n",
       "1105       0.0      0.0  0.272727    1.00               0.0          0.0   \n",
       "413        0.0      0.0  0.181818    1.00               0.0          0.0   \n",
       "522        0.0      0.0  0.818182    0.00               0.0          0.0   \n",
       "1036       0.0      0.0  0.727273    0.75               0.0          0.0   \n",
       "...        ...      ...       ...     ...               ...          ...   \n",
       "988        0.0      0.0  0.454545    0.25               0.0          0.0   \n",
       "243        0.0      0.0  0.272727    0.75               0.0          0.0   \n",
       "1342       0.0      0.0  0.636364    0.25               0.0          0.0   \n",
       "1057       0.0      0.0  0.000000    0.75               0.0          0.0   \n",
       "1418       0.0      0.0  0.636364    0.50               0.0          0.0   \n",
       "\n",
       "      MSZoning_RH  MSZoning_RL  MSZoning_RM  Street_Grvl  Street_Pave  \\\n",
       "892           0.0          1.0          0.0          0.0          1.0   \n",
       "1105          0.0          1.0          0.0          0.0          1.0   \n",
       "413           0.0          0.0          1.0          0.0          1.0   \n",
       "522           0.0          0.0          1.0          0.0          1.0   \n",
       "1036          0.0          1.0          0.0          0.0          1.0   \n",
       "...           ...          ...          ...          ...          ...   \n",
       "988           0.0          1.0          0.0          0.0          1.0   \n",
       "243           0.0          1.0          0.0          0.0          1.0   \n",
       "1342          0.0          1.0          0.0          0.0          1.0   \n",
       "1057          0.0          1.0          0.0          0.0          1.0   \n",
       "1418          0.0          1.0          0.0          0.0          1.0   \n",
       "\n",
       "      Alley_Grvl  Alley_Pave  Alley_nan  LotShape_IR1  LotShape_IR2  \\\n",
       "892          0.0         0.0        1.0           0.0           0.0   \n",
       "1105         0.0         0.0        1.0           1.0           0.0   \n",
       "413          1.0         0.0        0.0           0.0           0.0   \n",
       "522          0.0         0.0        1.0           0.0           0.0   \n",
       "1036         0.0         0.0        1.0           1.0           0.0   \n",
       "...          ...         ...        ...           ...           ...   \n",
       "988          0.0         0.0        1.0           1.0           0.0   \n",
       "243          0.0         0.0        1.0           0.0           0.0   \n",
       "1342         0.0         0.0        1.0           0.0           0.0   \n",
       "1057         0.0         0.0        1.0           0.0           1.0   \n",
       "1418         0.0         0.0        1.0           0.0           0.0   \n",
       "\n",
       "      LotShape_IR3  LotShape_Reg  LandContour_Bnk  LandContour_HLS  \\\n",
       "892            0.0           1.0              0.0              0.0   \n",
       "1105           0.0           0.0              0.0              0.0   \n",
       "413            0.0           1.0              0.0              0.0   \n",
       "522            0.0           1.0              0.0              0.0   \n",
       "1036           0.0           0.0              0.0              1.0   \n",
       "...            ...           ...              ...              ...   \n",
       "988            0.0           0.0              0.0              0.0   \n",
       "243            0.0           1.0              0.0              0.0   \n",
       "1342           0.0           1.0              0.0              0.0   \n",
       "1057           0.0           0.0              0.0              0.0   \n",
       "1418           0.0           1.0              0.0              0.0   \n",
       "\n",
       "      LandContour_Low  LandContour_Lvl  Utilities_AllPub  Utilities_NoSeWa  \\\n",
       "892               0.0              1.0               1.0               0.0   \n",
       "1105              0.0              1.0               1.0               0.0   \n",
       "413               0.0              1.0               1.0               0.0   \n",
       "522               0.0              1.0               1.0               0.0   \n",
       "1036              0.0              0.0               1.0               0.0   \n",
       "...               ...              ...               ...               ...   \n",
       "988               0.0              1.0               1.0               0.0   \n",
       "243               0.0              1.0               1.0               0.0   \n",
       "1342              0.0              1.0               1.0               0.0   \n",
       "1057              0.0              1.0               1.0               0.0   \n",
       "1418              0.0              1.0               1.0               0.0   \n",
       "\n",
       "      LotConfig_Corner  LotConfig_CulDSac  LotConfig_FR2  LotConfig_FR3  \\\n",
       "892                0.0                0.0            0.0            0.0   \n",
       "1105               1.0                0.0            0.0            0.0   \n",
       "413                0.0                0.0            0.0            0.0   \n",
       "522                1.0                0.0            0.0            0.0   \n",
       "1036               0.0                0.0            0.0            0.0   \n",
       "...                ...                ...            ...            ...   \n",
       "988                0.0                0.0            0.0            0.0   \n",
       "243                1.0                0.0            0.0            0.0   \n",
       "1342               0.0                0.0            0.0            0.0   \n",
       "1057               0.0                0.0            1.0            0.0   \n",
       "1418               0.0                0.0            0.0            0.0   \n",
       "\n",
       "      LotConfig_Inside  LandSlope_Gtl  LandSlope_Mod  LandSlope_Sev  \\\n",
       "892                1.0            1.0            0.0            0.0   \n",
       "1105               0.0            1.0            0.0            0.0   \n",
       "413                1.0            1.0            0.0            0.0   \n",
       "522                0.0            1.0            0.0            0.0   \n",
       "1036               1.0            1.0            0.0            0.0   \n",
       "...                ...            ...            ...            ...   \n",
       "988                1.0            1.0            0.0            0.0   \n",
       "243                0.0            1.0            0.0            0.0   \n",
       "1342               1.0            1.0            0.0            0.0   \n",
       "1057               0.0            1.0            0.0            0.0   \n",
       "1418               1.0            1.0            0.0            0.0   \n",
       "\n",
       "      Neighborhood_Blmngtn  Neighborhood_Blueste  Neighborhood_BrDale  \\\n",
       "892                    0.0                   0.0                  0.0   \n",
       "1105                   0.0                   0.0                  0.0   \n",
       "413                    0.0                   0.0                  0.0   \n",
       "522                    0.0                   0.0                  0.0   \n",
       "1036                   0.0                   0.0                  0.0   \n",
       "...                    ...                   ...                  ...   \n",
       "988                    0.0                   0.0                  0.0   \n",
       "243                    0.0                   0.0                  0.0   \n",
       "1342                   0.0                   0.0                  0.0   \n",
       "1057                   0.0                   0.0                  0.0   \n",
       "1418                   0.0                   0.0                  0.0   \n",
       "\n",
       "      Neighborhood_BrkSide  Neighborhood_ClearCr  Neighborhood_CollgCr  \\\n",
       "892                    0.0                   0.0                   0.0   \n",
       "1105                   0.0                   0.0                   0.0   \n",
       "413                    0.0                   0.0                   0.0   \n",
       "522                    1.0                   0.0                   0.0   \n",
       "1036                   0.0                   0.0                   0.0   \n",
       "...                    ...                   ...                   ...   \n",
       "988                    0.0                   0.0                   0.0   \n",
       "243                    0.0                   0.0                   0.0   \n",
       "1342                   0.0                   0.0                   1.0   \n",
       "1057                   0.0                   0.0                   0.0   \n",
       "1418                   0.0                   0.0                   0.0   \n",
       "\n",
       "      Neighborhood_Crawfor  Neighborhood_Edwards  Neighborhood_Gilbert  \\\n",
       "892                    0.0                   0.0                   0.0   \n",
       "1105                   0.0                   0.0                   0.0   \n",
       "413                    0.0                   0.0                   0.0   \n",
       "522                    0.0                   0.0                   0.0   \n",
       "1036                   0.0                   0.0                   0.0   \n",
       "...                    ...                   ...                   ...   \n",
       "988                    0.0                   0.0                   0.0   \n",
       "243                    0.0                   0.0                   0.0   \n",
       "1342                   0.0                   0.0                   0.0   \n",
       "1057                   0.0                   0.0                   0.0   \n",
       "1418                   0.0                   0.0                   0.0   \n",
       "\n",
       "      Neighborhood_IDOTRR  Neighborhood_MeadowV  Neighborhood_Mitchel  \\\n",
       "892                   0.0                   0.0                   0.0   \n",
       "1105                  0.0                   0.0                   0.0   \n",
       "413                   0.0                   0.0                   0.0   \n",
       "522                   0.0                   0.0                   0.0   \n",
       "1036                  0.0                   0.0                   0.0   \n",
       "...                   ...                   ...                   ...   \n",
       "988                   0.0                   0.0                   0.0   \n",
       "243                   0.0                   0.0                   0.0   \n",
       "1342                  0.0                   0.0                   0.0   \n",
       "1057                  0.0                   0.0                   0.0   \n",
       "1418                  0.0                   0.0                   0.0   \n",
       "\n",
       "      Neighborhood_NAmes  Neighborhood_NPkVill  Neighborhood_NWAmes  \\\n",
       "892                  0.0                   0.0                  0.0   \n",
       "1105                 0.0                   0.0                  0.0   \n",
       "413                  0.0                   0.0                  0.0   \n",
       "522                  0.0                   0.0                  0.0   \n",
       "1036                 0.0                   0.0                  0.0   \n",
       "...                  ...                   ...                  ...   \n",
       "988                  0.0                   0.0                  1.0   \n",
       "243                  0.0                   0.0                  0.0   \n",
       "1342                 0.0                   0.0                  0.0   \n",
       "1057                 0.0                   0.0                  0.0   \n",
       "1418                 1.0                   0.0                  0.0   \n",
       "\n",
       "      Neighborhood_NoRidge  Neighborhood_NridgHt  Neighborhood_OldTown  \\\n",
       "892                    0.0                   0.0                   0.0   \n",
       "1105                   1.0                   0.0                   0.0   \n",
       "413                    0.0                   0.0                   1.0   \n",
       "522                    0.0                   0.0                   0.0   \n",
       "1036                   0.0                   0.0                   0.0   \n",
       "...                    ...                   ...                   ...   \n",
       "988                    0.0                   0.0                   0.0   \n",
       "243                    0.0                   0.0                   0.0   \n",
       "1342                   0.0                   0.0                   0.0   \n",
       "1057                   1.0                   0.0                   0.0   \n",
       "1418                   0.0                   0.0                   0.0   \n",
       "\n",
       "      Neighborhood_SWISU  Neighborhood_Sawyer  Neighborhood_SawyerW  \\\n",
       "892                  0.0                  1.0                   0.0   \n",
       "1105                 0.0                  0.0                   0.0   \n",
       "413                  0.0                  0.0                   0.0   \n",
       "522                  0.0                  0.0                   0.0   \n",
       "1036                 0.0                  0.0                   0.0   \n",
       "...                  ...                  ...                   ...   \n",
       "988                  0.0                  0.0                   0.0   \n",
       "243                  0.0                  0.0                   1.0   \n",
       "1342                 0.0                  0.0                   0.0   \n",
       "1057                 0.0                  0.0                   0.0   \n",
       "1418                 0.0                  0.0                   0.0   \n",
       "\n",
       "      Neighborhood_Somerst  Neighborhood_StoneBr  Neighborhood_Timber  \\\n",
       "892                    0.0                   0.0                  0.0   \n",
       "1105                   0.0                   0.0                  0.0   \n",
       "413                    0.0                   0.0                  0.0   \n",
       "522                    0.0                   0.0                  0.0   \n",
       "1036                   0.0                   0.0                  1.0   \n",
       "...                    ...                   ...                  ...   \n",
       "988                    0.0                   0.0                  0.0   \n",
       "243                    0.0                   0.0                  0.0   \n",
       "1342                   0.0                   0.0                  0.0   \n",
       "1057                   0.0                   0.0                  0.0   \n",
       "1418                   0.0                   0.0                  0.0   \n",
       "\n",
       "      Neighborhood_Veenker  Condition1_Artery  Condition1_Feedr  \\\n",
       "892                    0.0                0.0               0.0   \n",
       "1105                   0.0                0.0               0.0   \n",
       "413                    0.0                1.0               0.0   \n",
       "522                    0.0                0.0               1.0   \n",
       "1036                   0.0                0.0               0.0   \n",
       "...                    ...                ...               ...   \n",
       "988                    0.0                0.0               0.0   \n",
       "243                    0.0                0.0               0.0   \n",
       "1342                   0.0                0.0               0.0   \n",
       "1057                   0.0                0.0               0.0   \n",
       "1418                   0.0                0.0               0.0   \n",
       "\n",
       "      Condition1_Norm  Condition1_PosA  Condition1_PosN  Condition1_RRAe  \\\n",
       "892               1.0              0.0              0.0              0.0   \n",
       "1105              1.0              0.0              0.0              0.0   \n",
       "413               0.0              0.0              0.0              0.0   \n",
       "522               0.0              0.0              0.0              0.0   \n",
       "1036              1.0              0.0              0.0              0.0   \n",
       "...               ...              ...              ...              ...   \n",
       "988               1.0              0.0              0.0              0.0   \n",
       "243               1.0              0.0              0.0              0.0   \n",
       "1342              1.0              0.0              0.0              0.0   \n",
       "1057              1.0              0.0              0.0              0.0   \n",
       "1418              1.0              0.0              0.0              0.0   \n",
       "\n",
       "      Condition1_RRAn  Condition1_RRNe  Condition1_RRNn  Condition2_Artery  \\\n",
       "892               0.0              0.0              0.0                0.0   \n",
       "1105              0.0              0.0              0.0                0.0   \n",
       "413               0.0              0.0              0.0                0.0   \n",
       "522               0.0              0.0              0.0                0.0   \n",
       "1036              0.0              0.0              0.0                0.0   \n",
       "...               ...              ...              ...                ...   \n",
       "988               0.0              0.0              0.0                0.0   \n",
       "243               0.0              0.0              0.0                0.0   \n",
       "1342              0.0              0.0              0.0                0.0   \n",
       "1057              0.0              0.0              0.0                0.0   \n",
       "1418              0.0              0.0              0.0                0.0   \n",
       "\n",
       "      Condition2_Feedr  ...  BsmtFinType1_Unf  BsmtFinType1_nan  \\\n",
       "892                0.0  ...               0.0               0.0   \n",
       "1105               0.0  ...               0.0               0.0   \n",
       "413                0.0  ...               1.0               0.0   \n",
       "522                0.0  ...               0.0               0.0   \n",
       "1036               0.0  ...               0.0               0.0   \n",
       "...                ...  ...               ...               ...   \n",
       "988                0.0  ...               0.0               0.0   \n",
       "243                0.0  ...               1.0               0.0   \n",
       "1342               0.0  ...               1.0               0.0   \n",
       "1057               0.0  ...               0.0               0.0   \n",
       "1418               0.0  ...               0.0               0.0   \n",
       "\n",
       "      BsmtFinType2_ALQ  BsmtFinType2_BLQ  BsmtFinType2_GLQ  BsmtFinType2_LwQ  \\\n",
       "892                0.0               0.0               0.0               0.0   \n",
       "1105               0.0               0.0               0.0               0.0   \n",
       "413                0.0               0.0               0.0               0.0   \n",
       "522                0.0               0.0               0.0               0.0   \n",
       "1036               0.0               0.0               0.0               0.0   \n",
       "...                ...               ...               ...               ...   \n",
       "988                0.0               0.0               0.0               0.0   \n",
       "243                0.0               0.0               0.0               0.0   \n",
       "1342               0.0               0.0               0.0               0.0   \n",
       "1057               0.0               0.0               0.0               0.0   \n",
       "1418               0.0               0.0               0.0               0.0   \n",
       "\n",
       "      BsmtFinType2_Rec  BsmtFinType2_Unf  BsmtFinType2_nan  Heating_Floor  \\\n",
       "892                0.0               1.0               0.0            0.0   \n",
       "1105               0.0               1.0               0.0            0.0   \n",
       "413                0.0               1.0               0.0            0.0   \n",
       "522                0.0               1.0               0.0            0.0   \n",
       "1036               0.0               1.0               0.0            0.0   \n",
       "...                ...               ...               ...            ...   \n",
       "988                0.0               1.0               0.0            0.0   \n",
       "243                0.0               1.0               0.0            0.0   \n",
       "1342               0.0               1.0               0.0            0.0   \n",
       "1057               0.0               1.0               0.0            0.0   \n",
       "1418               1.0               0.0               0.0            0.0   \n",
       "\n",
       "      Heating_GasA  Heating_GasW  Heating_Grav  Heating_OthW  Heating_Wall  \\\n",
       "892            1.0           0.0           0.0           0.0           0.0   \n",
       "1105           1.0           0.0           0.0           0.0           0.0   \n",
       "413            1.0           0.0           0.0           0.0           0.0   \n",
       "522            1.0           0.0           0.0           0.0           0.0   \n",
       "1036           1.0           0.0           0.0           0.0           0.0   \n",
       "...            ...           ...           ...           ...           ...   \n",
       "988            1.0           0.0           0.0           0.0           0.0   \n",
       "243            1.0           0.0           0.0           0.0           0.0   \n",
       "1342           1.0           0.0           0.0           0.0           0.0   \n",
       "1057           1.0           0.0           0.0           0.0           0.0   \n",
       "1418           1.0           0.0           0.0           0.0           0.0   \n",
       "\n",
       "      HeatingQC_Ex  HeatingQC_Fa  HeatingQC_Gd  HeatingQC_Po  HeatingQC_TA  \\\n",
       "892            0.0           0.0           0.0           0.0           1.0   \n",
       "1105           1.0           0.0           0.0           0.0           0.0   \n",
       "413            0.0           0.0           1.0           0.0           0.0   \n",
       "522            1.0           0.0           0.0           0.0           0.0   \n",
       "1036           1.0           0.0           0.0           0.0           0.0   \n",
       "...            ...           ...           ...           ...           ...   \n",
       "988            0.0           0.0           0.0           0.0           1.0   \n",
       "243            0.0           0.0           0.0           0.0           1.0   \n",
       "1342           1.0           0.0           0.0           0.0           0.0   \n",
       "1057           1.0           0.0           0.0           0.0           0.0   \n",
       "1418           0.0           0.0           0.0           0.0           1.0   \n",
       "\n",
       "      CentralAir_N  CentralAir_Y  Electrical_FuseA  Electrical_FuseF  \\\n",
       "892            0.0           1.0               0.0               0.0   \n",
       "1105           0.0           1.0               0.0               0.0   \n",
       "413            0.0           1.0               1.0               0.0   \n",
       "522            0.0           1.0               0.0               0.0   \n",
       "1036           0.0           1.0               0.0               0.0   \n",
       "...            ...           ...               ...               ...   \n",
       "988            0.0           1.0               0.0               0.0   \n",
       "243            0.0           1.0               0.0               0.0   \n",
       "1342           0.0           1.0               0.0               0.0   \n",
       "1057           0.0           1.0               0.0               0.0   \n",
       "1418           0.0           1.0               0.0               0.0   \n",
       "\n",
       "      Electrical_FuseP  Electrical_Mix  Electrical_SBrkr  Electrical_nan  \\\n",
       "892                0.0             0.0               1.0             0.0   \n",
       "1105               0.0             0.0               1.0             0.0   \n",
       "413                0.0             0.0               0.0             0.0   \n",
       "522                0.0             0.0               1.0             0.0   \n",
       "1036               0.0             0.0               1.0             0.0   \n",
       "...                ...             ...               ...             ...   \n",
       "988                0.0             0.0               1.0             0.0   \n",
       "243                0.0             0.0               1.0             0.0   \n",
       "1342               0.0             0.0               1.0             0.0   \n",
       "1057               0.0             0.0               1.0             0.0   \n",
       "1418               0.0             0.0               1.0             0.0   \n",
       "\n",
       "      KitchenQual_Ex  KitchenQual_Fa  KitchenQual_Gd  KitchenQual_TA  \\\n",
       "892              0.0             0.0             0.0             1.0   \n",
       "1105             0.0             0.0             1.0             0.0   \n",
       "413              0.0             0.0             0.0             1.0   \n",
       "522              0.0             0.0             0.0             1.0   \n",
       "1036             1.0             0.0             0.0             0.0   \n",
       "...              ...             ...             ...             ...   \n",
       "988              0.0             0.0             1.0             0.0   \n",
       "243              0.0             0.0             0.0             1.0   \n",
       "1342             0.0             0.0             1.0             0.0   \n",
       "1057             0.0             0.0             1.0             0.0   \n",
       "1418             0.0             0.0             0.0             1.0   \n",
       "\n",
       "      Functional_Maj1  Functional_Maj2  Functional_Min1  Functional_Min2  \\\n",
       "892               0.0              0.0              0.0              0.0   \n",
       "1105              0.0              0.0              0.0              0.0   \n",
       "413               0.0              0.0              0.0              0.0   \n",
       "522               0.0              0.0              0.0              0.0   \n",
       "1036              0.0              0.0              0.0              0.0   \n",
       "...               ...              ...              ...              ...   \n",
       "988               0.0              0.0              0.0              0.0   \n",
       "243               0.0              0.0              0.0              0.0   \n",
       "1342              0.0              0.0              0.0              0.0   \n",
       "1057              0.0              0.0              0.0              0.0   \n",
       "1418              0.0              0.0              0.0              0.0   \n",
       "\n",
       "      Functional_Mod  Functional_Sev  Functional_Typ  FireplaceQu_Ex  \\\n",
       "892              0.0             0.0             1.0             0.0   \n",
       "1105             0.0             0.0             1.0             0.0   \n",
       "413              0.0             0.0             1.0             0.0   \n",
       "522              0.0             0.0             1.0             0.0   \n",
       "1036             0.0             0.0             1.0             1.0   \n",
       "...              ...             ...             ...             ...   \n",
       "988              0.0             0.0             1.0             0.0   \n",
       "243              0.0             0.0             1.0             0.0   \n",
       "1342             0.0             0.0             1.0             0.0   \n",
       "1057             0.0             0.0             1.0             0.0   \n",
       "1418             0.0             0.0             1.0             0.0   \n",
       "\n",
       "      FireplaceQu_Fa  FireplaceQu_Gd  FireplaceQu_Po  FireplaceQu_TA  \\\n",
       "892              0.0             0.0             0.0             0.0   \n",
       "1105             0.0             0.0             0.0             1.0   \n",
       "413              0.0             1.0             0.0             0.0   \n",
       "522              0.0             1.0             0.0             0.0   \n",
       "1036             0.0             0.0             0.0             0.0   \n",
       "...              ...             ...             ...             ...   \n",
       "988              0.0             0.0             0.0             1.0   \n",
       "243              0.0             0.0             0.0             1.0   \n",
       "1342             0.0             1.0             0.0             0.0   \n",
       "1057             0.0             1.0             0.0             0.0   \n",
       "1418             0.0             0.0             0.0             0.0   \n",
       "\n",
       "      FireplaceQu_nan  GarageType_2Types  GarageType_Attchd  \\\n",
       "892               1.0                0.0                1.0   \n",
       "1105              0.0                0.0                1.0   \n",
       "413               0.0                0.0                0.0   \n",
       "522               0.0                0.0                0.0   \n",
       "1036              0.0                0.0                1.0   \n",
       "...               ...                ...                ...   \n",
       "988               0.0                0.0                1.0   \n",
       "243               0.0                0.0                1.0   \n",
       "1342              0.0                0.0                1.0   \n",
       "1057              0.0                0.0                0.0   \n",
       "1418              1.0                0.0                0.0   \n",
       "\n",
       "      GarageType_Basment  GarageType_BuiltIn  GarageType_CarPort  \\\n",
       "892                  0.0                 0.0                 0.0   \n",
       "1105                 0.0                 0.0                 0.0   \n",
       "413                  0.0                 0.0                 0.0   \n",
       "522                  0.0                 0.0                 0.0   \n",
       "1036                 0.0                 0.0                 0.0   \n",
       "...                  ...                 ...                 ...   \n",
       "988                  0.0                 0.0                 0.0   \n",
       "243                  0.0                 0.0                 0.0   \n",
       "1342                 0.0                 0.0                 0.0   \n",
       "1057                 0.0                 1.0                 0.0   \n",
       "1418                 0.0                 0.0                 0.0   \n",
       "\n",
       "      GarageType_Detchd  GarageType_nan  GarageFinish_Fin  GarageFinish_RFn  \\\n",
       "892                 0.0             0.0               0.0               1.0   \n",
       "1105                0.0             0.0               0.0               1.0   \n",
       "413                 1.0             0.0               0.0               0.0   \n",
       "522                 1.0             0.0               0.0               0.0   \n",
       "1036                0.0             0.0               1.0               0.0   \n",
       "...                 ...             ...               ...               ...   \n",
       "988                 0.0             0.0               1.0               0.0   \n",
       "243                 0.0             0.0               0.0               1.0   \n",
       "1342                0.0             0.0               0.0               1.0   \n",
       "1057                0.0             0.0               1.0               0.0   \n",
       "1418                1.0             0.0               0.0               0.0   \n",
       "\n",
       "      GarageFinish_Unf  GarageFinish_nan  GarageQual_Ex  GarageQual_Fa  \\\n",
       "892                0.0               0.0            0.0            0.0   \n",
       "1105               0.0               0.0            0.0            0.0   \n",
       "413                1.0               0.0            0.0            0.0   \n",
       "522                1.0               0.0            0.0            0.0   \n",
       "1036               0.0               0.0            0.0            0.0   \n",
       "...                ...               ...            ...            ...   \n",
       "988                0.0               0.0            0.0            0.0   \n",
       "243                0.0               0.0            0.0            0.0   \n",
       "1342               0.0               0.0            0.0            0.0   \n",
       "1057               0.0               0.0            0.0            0.0   \n",
       "1418               1.0               0.0            0.0            0.0   \n",
       "\n",
       "      GarageQual_Gd  GarageQual_Po  GarageQual_TA  GarageQual_nan  \\\n",
       "892             0.0            0.0            1.0             0.0   \n",
       "1105            0.0            0.0            1.0             0.0   \n",
       "413             0.0            0.0            1.0             0.0   \n",
       "522             0.0            0.0            1.0             0.0   \n",
       "1036            0.0            0.0            1.0             0.0   \n",
       "...             ...            ...            ...             ...   \n",
       "988             0.0            0.0            1.0             0.0   \n",
       "243             0.0            0.0            1.0             0.0   \n",
       "1342            0.0            0.0            1.0             0.0   \n",
       "1057            0.0            0.0            1.0             0.0   \n",
       "1418            0.0            0.0            1.0             0.0   \n",
       "\n",
       "      GarageCond_Ex  GarageCond_Fa  GarageCond_Gd  GarageCond_Po  \\\n",
       "892             0.0            0.0            0.0            0.0   \n",
       "1105            0.0            0.0            0.0            0.0   \n",
       "413             0.0            0.0            0.0            0.0   \n",
       "522             0.0            0.0            0.0            0.0   \n",
       "1036            0.0            0.0            0.0            0.0   \n",
       "...             ...            ...            ...            ...   \n",
       "988             0.0            0.0            0.0            0.0   \n",
       "243             0.0            0.0            0.0            0.0   \n",
       "1342            0.0            0.0            0.0            0.0   \n",
       "1057            0.0            0.0            0.0            0.0   \n",
       "1418            0.0            0.0            0.0            0.0   \n",
       "\n",
       "      GarageCond_TA  GarageCond_nan  PavedDrive_N  PavedDrive_P  PavedDrive_Y  \\\n",
       "892             1.0             0.0           0.0           0.0           1.0   \n",
       "1105            1.0             0.0           0.0           0.0           1.0   \n",
       "413             1.0             0.0           0.0           0.0           1.0   \n",
       "522             1.0             0.0           0.0           0.0           1.0   \n",
       "1036            1.0             0.0           0.0           0.0           1.0   \n",
       "...             ...             ...           ...           ...           ...   \n",
       "988             1.0             0.0           0.0           0.0           1.0   \n",
       "243             1.0             0.0           0.0           0.0           1.0   \n",
       "1342            1.0             0.0           0.0           0.0           1.0   \n",
       "1057            1.0             0.0           0.0           0.0           1.0   \n",
       "1418            1.0             0.0           0.0           0.0           1.0   \n",
       "\n",
       "      PoolQC_Ex  PoolQC_Fa  PoolQC_Gd  PoolQC_nan  Fence_GdPrv  Fence_GdWo  \\\n",
       "892         0.0        0.0        0.0         1.0          0.0         0.0   \n",
       "1105        0.0        0.0        0.0         1.0          0.0         0.0   \n",
       "413         0.0        0.0        0.0         1.0          0.0         0.0   \n",
       "522         0.0        0.0        0.0         1.0          0.0         0.0   \n",
       "1036        0.0        0.0        0.0         1.0          0.0         0.0   \n",
       "...         ...        ...        ...         ...          ...         ...   \n",
       "988         0.0        0.0        0.0         1.0          0.0         0.0   \n",
       "243         0.0        0.0        0.0         1.0          0.0         0.0   \n",
       "1342        0.0        0.0        0.0         1.0          0.0         0.0   \n",
       "1057        0.0        0.0        0.0         1.0          0.0         0.0   \n",
       "1418        0.0        0.0        0.0         1.0          0.0         0.0   \n",
       "\n",
       "      Fence_MnPrv  Fence_MnWw  Fence_nan  MiscFeature_Gar2  MiscFeature_Othr  \\\n",
       "892           1.0         0.0        0.0               0.0               0.0   \n",
       "1105          0.0         0.0        1.0               0.0               0.0   \n",
       "413           0.0         0.0        1.0               0.0               0.0   \n",
       "522           0.0         0.0        1.0               0.0               0.0   \n",
       "1036          0.0         0.0        1.0               0.0               0.0   \n",
       "...           ...         ...        ...               ...               ...   \n",
       "988           0.0         0.0        1.0               0.0               0.0   \n",
       "243           0.0         0.0        1.0               0.0               0.0   \n",
       "1342          0.0         0.0        1.0               0.0               0.0   \n",
       "1057          0.0         0.0        1.0               0.0               0.0   \n",
       "1418          0.0         0.0        1.0               0.0               0.0   \n",
       "\n",
       "      MiscFeature_Shed  MiscFeature_TenC  MiscFeature_nan  SaleType_COD  \\\n",
       "892                0.0               0.0              1.0           0.0   \n",
       "1105               0.0               0.0              1.0           0.0   \n",
       "413                0.0               0.0              1.0           0.0   \n",
       "522                0.0               0.0              1.0           0.0   \n",
       "1036               0.0               0.0              1.0           0.0   \n",
       "...                ...               ...              ...           ...   \n",
       "988                0.0               0.0              1.0           0.0   \n",
       "243                0.0               0.0              1.0           0.0   \n",
       "1342               0.0               0.0              1.0           0.0   \n",
       "1057               0.0               0.0              1.0           0.0   \n",
       "1418               0.0               0.0              1.0           1.0   \n",
       "\n",
       "      SaleType_CWD  SaleType_Con  SaleType_ConLD  SaleType_ConLI  \\\n",
       "892            0.0           0.0             0.0             0.0   \n",
       "1105           0.0           0.0             0.0             0.0   \n",
       "413            0.0           0.0             0.0             0.0   \n",
       "522            0.0           0.0             0.0             0.0   \n",
       "1036           0.0           0.0             0.0             0.0   \n",
       "...            ...           ...             ...             ...   \n",
       "988            0.0           0.0             0.0             0.0   \n",
       "243            0.0           0.0             0.0             0.0   \n",
       "1342           0.0           0.0             0.0             0.0   \n",
       "1057           0.0           0.0             0.0             0.0   \n",
       "1418           0.0           0.0             0.0             0.0   \n",
       "\n",
       "      SaleType_ConLw  SaleType_New  SaleType_Oth  SaleType_WD  \\\n",
       "892              0.0           0.0           0.0          1.0   \n",
       "1105             0.0           0.0           0.0          1.0   \n",
       "413              0.0           0.0           0.0          1.0   \n",
       "522              0.0           0.0           0.0          1.0   \n",
       "1036             0.0           0.0           0.0          1.0   \n",
       "...              ...           ...           ...          ...   \n",
       "988              0.0           0.0           0.0          1.0   \n",
       "243              0.0           0.0           0.0          1.0   \n",
       "1342             0.0           0.0           0.0          1.0   \n",
       "1057             0.0           0.0           0.0          1.0   \n",
       "1418             0.0           0.0           0.0          0.0   \n",
       "\n",
       "      SaleCondition_Abnorml  SaleCondition_AdjLand  SaleCondition_Alloca  \\\n",
       "892                     0.0                    0.0                   0.0   \n",
       "1105                    0.0                    0.0                   0.0   \n",
       "413                     0.0                    0.0                   0.0   \n",
       "522                     0.0                    0.0                   0.0   \n",
       "1036                    0.0                    0.0                   0.0   \n",
       "...                     ...                    ...                   ...   \n",
       "988                     0.0                    0.0                   0.0   \n",
       "243                     0.0                    0.0                   0.0   \n",
       "1342                    0.0                    0.0                   0.0   \n",
       "1057                    0.0                    0.0                   0.0   \n",
       "1418                    0.0                    0.0                   0.0   \n",
       "\n",
       "      SaleCondition_Family  SaleCondition_Normal  SaleCondition_Partial  \n",
       "892                    0.0                   1.0                    0.0  \n",
       "1105                   0.0                   1.0                    0.0  \n",
       "413                    0.0                   1.0                    0.0  \n",
       "522                    0.0                   1.0                    0.0  \n",
       "1036                   0.0                   1.0                    0.0  \n",
       "...                    ...                   ...                    ...  \n",
       "988                    0.0                   1.0                    0.0  \n",
       "243                    0.0                   1.0                    0.0  \n",
       "1342                   0.0                   1.0                    0.0  \n",
       "1057                   0.0                   1.0                    0.0  \n",
       "1418                   0.0                   1.0                    0.0  \n",
       "\n",
       "[365 rows x 304 columns]"
      ]
     },
     "execution_count": 96,
     "metadata": {},
     "output_type": "execute_result"
    }
   ],
   "source": [
    "val_inputs"
   ]
  },
  {
   "cell_type": "code",
   "execution_count": 97,
   "metadata": {},
   "outputs": [
    {
     "data": {
      "text/plain": [
       "892     154500\n",
       "1105    325000\n",
       "413     115000\n",
       "522     159000\n",
       "1036    315500\n",
       "         ...  \n",
       "988     195000\n",
       "243     120000\n",
       "1342    228500\n",
       "1057    248000\n",
       "1418    124000\n",
       "Name: SalePrice, Length: 365, dtype: int64"
      ]
     },
     "execution_count": 97,
     "metadata": {},
     "output_type": "execute_result"
    }
   ],
   "source": [
    "val_targets"
   ]
  },
  {
   "cell_type": "markdown",
   "metadata": {},
   "source": [
    "## Step 3 - Train a Linear Regression Model\n",
    "\n",
    "We're now ready to train the model. Linear regression is a commonly used technique for solving [regression problems](https://jovian.ai/aakashns/python-sklearn-logistic-regression/v/66#C6). In a linear regression model, the target is modeled as a linear combination (or weighted sum) of input features. The predictions from the model are evaluated using a loss function like the Root Mean Squared Error (RMSE).\n",
    "\n",
    "\n",
    "Here's a visual summary of how a linear regression model is structured:\n",
    "\n",
    "<img src=\"https://i.imgur.com/iTM2s5k.png\" width=\"480\">\n",
    "\n",
    "However, linear regression doesn't generalize very well when we have a large number of input columns with co-linearity i.e. when the values one column are highly correlated with values in other column(s). This is because it tries to fit the training data perfectly. \n",
    "\n",
    "Instead, we'll use Ridge Regression, a variant of linear regression that uses a technique called L2 regularization to introduce another loss term that forces the model to generalize better. Learn more about ridge regression here: https://www.youtube.com/watch?v=Q81RR3yKn30"
   ]
  },
  {
   "cell_type": "markdown",
   "metadata": {},
   "source": [
    "> **QUESTION 8**: Create and train a linear regression model using the `Ridge` class from `sklearn.linear_model`."
   ]
  },
  {
   "cell_type": "code",
   "execution_count": 98,
   "metadata": {},
   "outputs": [],
   "source": [
    "from sklearn.linear_model import Ridge"
   ]
  },
  {
   "cell_type": "code",
   "execution_count": 99,
   "metadata": {},
   "outputs": [],
   "source": [
    "# Create the model\n",
    "model = Ridge(alpha=0.05,normalize=True)"
   ]
  },
  {
   "cell_type": "code",
   "execution_count": 100,
   "metadata": {},
   "outputs": [
    {
     "data": {
      "text/plain": [
       "Ridge(alpha=0.05, normalize=True)"
      ]
     },
     "execution_count": 100,
     "metadata": {},
     "output_type": "execute_result"
    }
   ],
   "source": [
    "# Fit the model using inputs and targets\n",
    "model.fit(train_inputs[numeric_cols+encoded_cols],train_targets)"
   ]
  },
  {
   "cell_type": "markdown",
   "metadata": {},
   "source": [
    "`model.fit` uses the following strategy for training the model (source):\n",
    "\n",
    "1. We initialize a model with random parameters (weights & biases).\n",
    "2. We pass some inputs into the model to obtain predictions.\n",
    "3. We compare the model's predictions with the actual targets using the loss function.\n",
    "4. We use an optimization technique (like least squares, gradient descent etc.) to reduce the loss by adjusting the weights & biases of the model\n",
    "5. We repeat steps 1 to 4 till the predictions from the model are good enough.\n",
    "\n",
    "<img src=\"https://www.deepnetts.com/blog/wp-content/uploads/2019/02/SupervisedLearning.png\" width=\"480\">"
   ]
  },
  {
   "cell_type": "markdown",
   "metadata": {},
   "source": [
    "## Step 4 - Make Predictions and Evaluate Your Model\n",
    "\n",
    "The model is now trained, and we can use it to generate predictions for the training and validation inputs. We can evaluate the model's performance using the RMSE (root mean squared error) loss function."
   ]
  },
  {
   "cell_type": "markdown",
   "metadata": {},
   "source": [
    "> **QUESTION 9**: Generate predictions and compute the RMSE loss for the training and validation sets. \r\n"
   ]
  },
  {
   "cell_type": "code",
   "execution_count": 101,
   "metadata": {},
   "outputs": [],
   "source": [
    "from sklearn.metrics import mean_squared_error"
   ]
  },
  {
   "cell_type": "code",
   "execution_count": 102,
   "metadata": {},
   "outputs": [],
   "source": [
    "train_preds = model.predict(train_inputs[numeric_cols+encoded_cols])"
   ]
  },
  {
   "cell_type": "code",
   "execution_count": 103,
   "metadata": {},
   "outputs": [
    {
     "data": {
      "text/plain": [
       "array([172921.50782309, 182375.58938393, 102620.25993128, ...,\n",
       "       113709.54448831, 165259.66091163, 192041.57548762])"
      ]
     },
     "execution_count": 103,
     "metadata": {},
     "output_type": "execute_result"
    }
   ],
   "source": [
    "train_preds"
   ]
  },
  {
   "cell_type": "code",
   "execution_count": 104,
   "metadata": {},
   "outputs": [],
   "source": [
    "train_rmse =  mean_squared_error (train_targets,train_preds,squared=False)"
   ]
  },
  {
   "cell_type": "code",
   "execution_count": 105,
   "metadata": {},
   "outputs": [
    {
     "name": "stdout",
     "output_type": "stream",
     "text": [
      "The RMSE loss for the training set is $ 20028.834485947653.\n"
     ]
    }
   ],
   "source": [
    "print('The RMSE loss for the training set is $ {}.'.format(train_rmse))"
   ]
  },
  {
   "cell_type": "code",
   "execution_count": 106,
   "metadata": {},
   "outputs": [],
   "source": [
    "val_preds = model.predict(val_inputs[numeric_cols+encoded_cols])"
   ]
  },
  {
   "cell_type": "code",
   "execution_count": 107,
   "metadata": {},
   "outputs": [
    {
     "data": {
      "text/plain": [
       "array([156150.03371211, 346366.62599478,  83419.82768449, 180449.18448798,\n",
       "       325043.53222112,  66884.52841783, 235056.23452596, 147879.75081349,\n",
       "        57950.13269705, 149031.92019357, 141762.72404944, 104291.71744978,\n",
       "        88778.35999857, 218379.23356292, 172432.70390993, 129795.09283688,\n",
       "       186016.6863958 , 122133.17280439, 127641.4060513 , 215521.74434207,\n",
       "       152343.01556747, 202738.23029149, 175539.48625263, 124900.56401439,\n",
       "       201580.88277075, 141217.21942238, 196933.14639459, 103845.80823862,\n",
       "       175679.35407431, 211323.15222922, 151655.56364984, 275782.3582885 ,\n",
       "       230991.56355279, 107228.47758508, 243094.71351617, 148686.01900545,\n",
       "       126804.58664749, 203027.76937589, 308492.96610615, 112845.60459925,\n",
       "       123359.67665505, 223329.22798301, 102715.66880602, 367351.44552681,\n",
       "       133393.7729071 , 146621.10561486,  96872.95302566, 139138.20908565,\n",
       "       428556.98152627, 134788.97184132, 118041.37174813, 257000.14053487,\n",
       "       104943.39607383, 292174.69511454, 164692.91787501, 240922.06049139,\n",
       "       199933.76179935, 170999.39478396, 135846.72418778,  92824.16148783,\n",
       "        44190.26708896, 168032.22049168, 309679.39866183, 258320.91895643,\n",
       "       302766.568903  , 194635.04641848, 100614.69838395, 295663.43632315,\n",
       "       116055.6076496 , 184417.04095811, 123048.05305906, 117040.4011483 ,\n",
       "       104779.03366137,  42239.34672469, 463612.00407343, 193566.51889813,\n",
       "       306634.46689483, 361517.97550608, 144816.36725722, 123449.18436567,\n",
       "       113459.12727839,  62057.93639378, 112371.62431962,  76068.18861876,\n",
       "       160024.32429304, 139693.08887703, 257858.81344484, 203596.9943808 ,\n",
       "       129827.78204295, 197063.6495959 , 151854.80442842, 151809.15530985,\n",
       "       164172.92034913, 273914.28839992, 122513.47996286, 188387.565079  ,\n",
       "       196301.32480097, 161165.4071879 , 211912.43481548, 260952.85778316,\n",
       "       171616.15939399, 207238.40878002, 294440.67733607, 145126.92448411,\n",
       "       204627.26032023, 182974.8922621 , 142102.63603964, 287081.57634245,\n",
       "       156463.54858006, 181836.38867068,  54376.60624807, 142131.53081689,\n",
       "       146817.74334133, 138628.25180912, 203843.23901589, 120699.92204262,\n",
       "       100552.79230585, 110691.04524601, 108480.98521894, 297462.08379235,\n",
       "       104454.1849085 , 133712.88316736, 183338.55337629, 185835.68161144,\n",
       "       195753.29166182, 129647.82261862, 230495.78060775,  99015.48138824,\n",
       "       149501.35717556, 187398.9356331 , 186014.51404135, 336501.22612813,\n",
       "       194656.77571755, 125251.78626885,  21523.12547681, 377532.05660539,\n",
       "       365041.67271047, 138942.99000963, 236692.90814332, 562162.42997314,\n",
       "       344863.18225761, 124004.68907748, 181251.5179246 , 172450.94501927,\n",
       "       137699.30804503, 108357.50261673, 228966.65983595, 192984.37340089,\n",
       "       119566.68395271,  50722.76639094, 127900.77371684, 135118.69055922,\n",
       "       270416.58670669, 160663.64383726,  70780.79480133, 112607.27506668,\n",
       "       142648.99537563, 149616.99719995,  84416.10402821, 133082.7505648 ,\n",
       "       211614.54243405,  98487.46521944, 298844.87069434, 157539.57161281,\n",
       "       115299.64318582, 126913.02994042, 272682.72056183, 337735.55471622,\n",
       "       431296.28989892, 219526.40073594, 364545.52010864, 106289.31108457,\n",
       "       103298.64750165, 147039.90591641, 314618.31372059, 113736.81682773,\n",
       "       121264.53758578, 216885.9984262 , 132053.19556443, 162371.00394763,\n",
       "       201667.17884106, 108351.29433783, 128570.66892752, 147478.47421288,\n",
       "       239250.20104274, 134324.27465408, 258363.74959262, 222349.62674422,\n",
       "       200597.15492607,  77214.25363131, 118754.16592565,  73409.52356942,\n",
       "       161342.52798921, 141095.8482834 , 195390.02650425, 204913.84770492,\n",
       "       199397.47737191,  88425.48115049, 206885.36243461, 133363.77816429,\n",
       "       264308.41119006, 217437.61808634, 113707.53626756, 307413.54858654,\n",
       "       194571.36561324, 121167.62139569, 227312.38657606, 139098.95764825,\n",
       "       145122.3242598 ,  97944.34400233, 214621.29310229, 148728.83663819,\n",
       "       120369.07074291, 180880.58416688, 185279.13581443, 250311.05629512,\n",
       "       212698.40502305, 142868.95533951, 140732.38986998, 115659.3456987 ,\n",
       "       131213.5340314 , 211782.16062008, 216235.74641877,  81956.7001941 ,\n",
       "       219184.72370527, 143562.95611905,  72579.03156322,  89404.81234031,\n",
       "       160583.89459213, 114894.35849279,  93749.18996811, 165290.2526053 ,\n",
       "       105431.72892881, 131579.82993797, 226400.03332952, 147404.80410385,\n",
       "       203975.97449153, 161921.58981616, 239235.5770591 , 105973.82844754,\n",
       "       108278.73792451, 268995.28687056, 229209.28701694, 466496.92439733,\n",
       "       189447.0006147 , 143241.51313651, 143474.13288385, 166106.55433068,\n",
       "       143752.19182107,  91992.63152035, 183826.41742752, 152281.06668101,\n",
       "       151011.59974699, 101700.90950019, 140448.43882596, 132705.08730569,\n",
       "       105327.20801604, 126840.71252557, 175225.35980818, 246623.78362873,\n",
       "       294105.39426063, 185835.15437819, 135001.391277  , 240332.51666472,\n",
       "       350076.85294933, 229468.54654375, 168616.74800593, 131529.11422122,\n",
       "       110629.09228754, 179034.60080928, 406889.75322371, 230737.00771068,\n",
       "       229243.57555511,  74768.54871103,  80401.43040227, 143685.48727553,\n",
       "       135443.38819545, 313893.70115198, 234068.4794467 , 127513.95266386,\n",
       "       205309.07283559,  97486.61001419, 202332.40969402, 102695.35460628,\n",
       "       300936.95081784, 182624.49941249, 208608.23224052, 150098.08981505,\n",
       "       288787.50778662, 185999.33864742,  90634.81760161, 114297.84042481,\n",
       "       142805.00911202, 169285.49049165,  90063.35947893, 166757.73380337,\n",
       "       173731.79909797, 144213.02920986, 187903.11630294, 120652.79250145,\n",
       "       180409.13203486, 234815.36015719, 124022.68501983, 148287.57484494,\n",
       "       172407.64450394, 198652.70435156, 144249.57950083, 207911.56013692,\n",
       "       236507.212922  , 109243.81095893, 137185.7577535 , 186419.81747196,\n",
       "        80636.66178233, 189052.97456036, 133761.84114549, 184344.15267678,\n",
       "       186530.31116303, 175023.08565423, 303054.4212476 ,  73071.37229036,\n",
       "       235781.93882919, 145360.27034293,  97369.06376337,  91693.75273618,\n",
       "       199420.67905851, 156483.97956286, 145939.50605686, 216457.48038627,\n",
       "       170831.9554664 ,  89786.03935731, 157330.6161633 , 149984.48467279,\n",
       "       126748.43354088, 210675.16416228, 160964.62703015, 111491.47278047,\n",
       "       162250.22053033,  78876.34979987,  65671.85598749, 216744.98413105,\n",
       "       182096.15530591, 128941.59040114, 130191.90874115, 171531.78427515,\n",
       "       231300.60549256, 351785.99472642, 373298.18893569, 109824.17017599,\n",
       "       223688.28039603, 135823.21456663, 247581.0048081 , 373027.23945037,\n",
       "       294590.59558133, 186981.89623792, 227160.26367567, 150385.49968527,\n",
       "       117640.91039515,  91873.48011106, 215242.68004475, 352037.90557166,\n",
       "       183082.48872178, 112547.95671233, 224980.06890484, 262074.04196931,\n",
       "       126846.03371477])"
      ]
     },
     "execution_count": 107,
     "metadata": {},
     "output_type": "execute_result"
    }
   ],
   "source": [
    "val_preds"
   ]
  },
  {
   "cell_type": "code",
   "execution_count": 108,
   "metadata": {},
   "outputs": [],
   "source": [
    "val_rmse = mean_squared_error (val_targets,val_preds,squared=False)"
   ]
  },
  {
   "cell_type": "code",
   "execution_count": 109,
   "metadata": {},
   "outputs": [
    {
     "name": "stdout",
     "output_type": "stream",
     "text": [
      "The RMSE loss for the validation set is $ 26693.055091480986.\n"
     ]
    }
   ],
   "source": [
    "print('The RMSE loss for the validation set is $ {}.'.format(val_rmse))"
   ]
  },
  {
   "cell_type": "markdown",
   "metadata": {},
   "source": [
    "### Feature Importance\n",
    "\n",
    "Let's look at the weights assigned to different columns, to figure out which columns in the dataset are the most important."
   ]
  },
  {
   "cell_type": "markdown",
   "metadata": {},
   "source": [
    "> **QUESTION 10**: Identify the weights (or coefficients) assigned to for different features by the model.\r\n"
   ]
  },
  {
   "cell_type": "code",
   "execution_count": 110,
   "metadata": {},
   "outputs": [],
   "source": [
    "weights = model.coef_"
   ]
  },
  {
   "cell_type": "markdown",
   "metadata": {},
   "source": [
    "Let's create a dataframe to view the weight assigned to each column."
   ]
  },
  {
   "cell_type": "code",
   "execution_count": 111,
   "metadata": {},
   "outputs": [],
   "source": [
    "weights_df = pd.DataFrame({\n",
    "    'columns': train_inputs.columns,\n",
    "    'weight': weights\n",
    "}).sort_values('weight', ascending=False)"
   ]
  },
  {
   "cell_type": "code",
   "execution_count": 112,
   "metadata": {},
   "outputs": [
    {
     "data": {
      "text/html": [
       "<div>\n",
       "<style scoped>\n",
       "    .dataframe tbody tr th:only-of-type {\n",
       "        vertical-align: middle;\n",
       "    }\n",
       "\n",
       "    .dataframe tbody tr th {\n",
       "        vertical-align: top;\n",
       "    }\n",
       "\n",
       "    .dataframe thead th {\n",
       "        text-align: right;\n",
       "    }\n",
       "</style>\n",
       "<table border=\"1\" class=\"dataframe\">\n",
       "  <thead>\n",
       "    <tr style=\"text-align: right;\">\n",
       "      <th></th>\n",
       "      <th>columns</th>\n",
       "      <th>weight</th>\n",
       "    </tr>\n",
       "  </thead>\n",
       "  <tbody>\n",
       "    <tr>\n",
       "      <th>260</th>\n",
       "      <td>GarageQual_Ex</td>\n",
       "      <td>117060.560130</td>\n",
       "    </tr>\n",
       "    <tr>\n",
       "      <th>15</th>\n",
       "      <td>GrLivArea</td>\n",
       "      <td>111747.510222</td>\n",
       "    </tr>\n",
       "    <tr>\n",
       "      <th>2</th>\n",
       "      <td>LotArea</td>\n",
       "      <td>106861.427939</td>\n",
       "    </tr>\n",
       "    <tr>\n",
       "      <th>11</th>\n",
       "      <td>TotalBsmtSF</td>\n",
       "      <td>105869.019526</td>\n",
       "    </tr>\n",
       "    <tr>\n",
       "      <th>8</th>\n",
       "      <td>BsmtFinSF1</td>\n",
       "      <td>81992.709662</td>\n",
       "    </tr>\n",
       "    <tr>\n",
       "      <th>...</th>\n",
       "      <td>...</td>\n",
       "      <td>...</td>\n",
       "    </tr>\n",
       "    <tr>\n",
       "      <th>277</th>\n",
       "      <td>PoolQC_Gd</td>\n",
       "      <td>-44362.700335</td>\n",
       "    </tr>\n",
       "    <tr>\n",
       "      <th>241</th>\n",
       "      <td>Functional_Sev</td>\n",
       "      <td>-57716.049283</td>\n",
       "    </tr>\n",
       "    <tr>\n",
       "      <th>266</th>\n",
       "      <td>GarageCond_Ex</td>\n",
       "      <td>-106662.912715</td>\n",
       "    </tr>\n",
       "    <tr>\n",
       "      <th>102</th>\n",
       "      <td>Condition2_PosN</td>\n",
       "      <td>-175090.988106</td>\n",
       "    </tr>\n",
       "    <tr>\n",
       "      <th>125</th>\n",
       "      <td>RoofMatl_ClyTile</td>\n",
       "      <td>-507996.771501</td>\n",
       "    </tr>\n",
       "  </tbody>\n",
       "</table>\n",
       "<p>304 rows × 2 columns</p>\n",
       "</div>"
      ],
      "text/plain": [
       "              columns         weight\n",
       "260     GarageQual_Ex  117060.560130\n",
       "15          GrLivArea  111747.510222\n",
       "2             LotArea  106861.427939\n",
       "11        TotalBsmtSF  105869.019526\n",
       "8          BsmtFinSF1   81992.709662\n",
       "..                ...            ...\n",
       "277         PoolQC_Gd  -44362.700335\n",
       "241    Functional_Sev  -57716.049283\n",
       "266     GarageCond_Ex -106662.912715\n",
       "102   Condition2_PosN -175090.988106\n",
       "125  RoofMatl_ClyTile -507996.771501\n",
       "\n",
       "[304 rows x 2 columns]"
      ]
     },
     "execution_count": 112,
     "metadata": {},
     "output_type": "execute_result"
    }
   ],
   "source": [
    "weights_df"
   ]
  },
  {
   "cell_type": "markdown",
   "metadata": {},
   "source": [
    "### Making Predictions\n",
    "\n",
    "The model can be used to make predictions on new inputs using the following helper function:"
   ]
  },
  {
   "cell_type": "code",
   "execution_count": 113,
   "metadata": {},
   "outputs": [],
   "source": [
    "def predict_input(single_input):\n",
    "    input_df = pd.DataFrame([single_input])\n",
    "    input_df[numeric_cols] = imputer.transform(input_df[numeric_cols])\n",
    "    input_df[numeric_cols] = scaler.transform(input_df[numeric_cols])\n",
    "    input_df[encoded_cols] = encoder.transform(input_df[categorical_cols].values)\n",
    "    X_input = input_df[numeric_cols + encoded_cols]\n",
    "    return model.predict(X_input)[0]"
   ]
  },
  {
   "cell_type": "code",
   "execution_count": 114,
   "metadata": {},
   "outputs": [],
   "source": [
    "sample_input = { 'MSSubClass': 20, 'MSZoning': 'RL', 'LotFrontage': 77.0, 'LotArea': 9320,\n",
    " 'Street': 'Pave', 'Alley': None, 'LotShape': 'IR1', 'LandContour': 'Lvl', 'Utilities': 'AllPub',\n",
    " 'LotConfig': 'Inside', 'LandSlope': 'Gtl', 'Neighborhood': 'NAmes', 'Condition1': 'Norm', 'Condition2': 'Norm',\n",
    " 'BldgType': '1Fam', 'HouseStyle': '1Story', 'OverallQual': 4, 'OverallCond': 5, 'YearBuilt': 1959,\n",
    " 'YearRemodAdd': 1959, 'RoofStyle': 'Gable', 'RoofMatl': 'CompShg', 'Exterior1st': 'Plywood',\n",
    " 'Exterior2nd': 'Plywood', 'MasVnrType': 'None','MasVnrArea': 0.0,'ExterQual': 'TA','ExterCond': 'TA',\n",
    " 'Foundation': 'CBlock','BsmtQual': 'TA','BsmtCond': 'TA','BsmtExposure': 'No','BsmtFinType1': 'ALQ',\n",
    " 'BsmtFinSF1': 569,'BsmtFinType2': 'Unf','BsmtFinSF2': 0,'BsmtUnfSF': 381,\n",
    " 'TotalBsmtSF': 950,'Heating': 'GasA','HeatingQC': 'Fa','CentralAir': 'Y','Electrical': 'SBrkr', '1stFlrSF': 1225,\n",
    " '2ndFlrSF': 0, 'LowQualFinSF': 0, 'GrLivArea': 1225, 'BsmtFullBath': 1, 'BsmtHalfBath': 0, 'FullBath': 1,\n",
    " 'HalfBath': 1, 'BedroomAbvGr': 3, 'KitchenAbvGr': 1,'KitchenQual': 'TA','TotRmsAbvGrd': 6,'Functional': 'Typ',\n",
    " 'Fireplaces': 0,'FireplaceQu': np.nan,'GarageType': np.nan,'GarageYrBlt': np.nan,'GarageFinish': np.nan,'GarageCars': 0,\n",
    " 'GarageArea': 0,'GarageQual': np.nan,'GarageCond': np.nan,'PavedDrive': 'Y', 'WoodDeckSF': 352, 'OpenPorchSF': 0,\n",
    " 'EnclosedPorch': 0,'3SsnPorch': 0, 'ScreenPorch': 0, 'PoolArea': 0, 'PoolQC': np.nan, 'Fence': np.nan, 'MiscFeature': 'Shed',\n",
    " 'MiscVal': 400, 'MoSold': 1, 'YrSold': 2010, 'SaleType': 'WD', 'SaleCondition': 'Normal'}"
   ]
  },
  {
   "cell_type": "code",
   "execution_count": 115,
   "metadata": {},
   "outputs": [],
   "source": [
    "predicted_price = predict_input(sample_input)"
   ]
  },
  {
   "cell_type": "code",
   "execution_count": 116,
   "metadata": {},
   "outputs": [
    {
     "name": "stdout",
     "output_type": "stream",
     "text": [
      "The predicted sale price of the house is $122707.56434376357\n"
     ]
    }
   ],
   "source": [
    "print('The predicted sale price of the house is ${}'.format(predicted_price))"
   ]
  },
  {
   "cell_type": "markdown",
   "metadata": {},
   "source": [
    "Change the values in `sample_input` above and observe the effects on the predicted price. "
   ]
  },
  {
   "cell_type": "markdown",
   "metadata": {},
   "source": [
    "### Saving the model\n",
    "\n",
    "Let's save the model (along with other useful objects) to disk, so that we use it for making predictions without retraining."
   ]
  },
  {
   "cell_type": "code",
   "execution_count": 117,
   "metadata": {},
   "outputs": [],
   "source": [
    "import joblib"
   ]
  },
  {
   "cell_type": "code",
   "execution_count": 118,
   "metadata": {},
   "outputs": [],
   "source": [
    "house_price_predictor = {\n",
    "    'model': model,\n",
    "    'imputer': imputer,\n",
    "    'scaler': scaler,\n",
    "    'encoder': encoder,\n",
    "    'input_cols': input_cols,\n",
    "    'target_col': target_col,\n",
    "    'numeric_cols': numeric_cols,\n",
    "    'categorical_cols': categorical_cols,\n",
    "    'encoded_cols': encoded_cols\n",
    "}"
   ]
  },
  {
   "cell_type": "code",
   "execution_count": 119,
   "metadata": {},
   "outputs": [
    {
     "data": {
      "text/plain": [
       "['house_price_predictor.joblib']"
      ]
     },
     "execution_count": 119,
     "metadata": {},
     "output_type": "execute_result"
    }
   ],
   "source": [
    "joblib.dump(house_price_predictor, 'house_price_predictor.joblib')"
   ]
  }
 ],
 "metadata": {
  "interpreter": {
   "hash": "ae20364c4a40fbf76faa55d22b75aea653d988f364eee682a5521dc19fa44561"
  },
  "kernelspec": {
   "display_name": "Python 3.9.0 64-bit",
   "name": "python3"
  },
  "language_info": {
   "codemirror_mode": {
    "name": "ipython",
    "version": 3
   },
   "file_extension": ".py",
   "mimetype": "text/x-python",
   "name": "python",
   "nbconvert_exporter": "python",
   "pygments_lexer": "ipython3",
   "version": "3.9.0"
  }
 },
 "nbformat": 4,
 "nbformat_minor": 5
}